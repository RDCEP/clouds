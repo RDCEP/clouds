{
 "cells": [
  {
   "cell_type": "markdown",
   "metadata": {},
   "source": [
    "### Notebook to collect cloud types and MOD06 data from 20160101 data"
   ]
  },
  {
   "cell_type": "code",
   "execution_count": 2,
   "metadata": {},
   "outputs": [],
   "source": [
    "import os\n",
    "import re\n",
    "import cv2\n",
    "import sys\n",
    "import json\n",
    "import glob\n",
    "import copy\n",
    "import numpy as np\n",
    "import pandas as pd\n",
    "import tensorflow as tf\n",
    "from pyhdf.SD import SD, SDC\n",
    "from scipy.stats import mode\n",
    "from netCDF4 import Dataset\n",
    "from tensorflow.contrib.data import parallel_interleave\n",
    "\n",
    "#/home/tkurihana/Research/clouds/src_analysis/lib_hdfs\n",
    "%reload_ext autoreload\n",
    "%autoreload 2\n",
    "libdir=\"/home/tkurihana/Research/clouds/src_analysis/lib_hdfs\"\n",
    "sys.path.insert(1,os.path.join(sys.path[0],libdir))\n",
    "from lib_datesinfo import deltaday2date, date2deltaday\n",
    "from pandas_lib import  highlight_max, highlight_min\n",
    "from analysis_lib import mod06_proc_sds\n",
    "from lib_datesinfo import deltaday2date"
   ]
  },
  {
   "cell_type": "markdown",
   "metadata": {},
   "source": [
    "#### Decoder function"
   ]
  },
  {
   "cell_type": "code",
   "execution_count": 3,
   "metadata": {},
   "outputs": [],
   "source": [
    "def importNetcdf(path=None, var_name=None):\n",
    "    nc_fid=Dataset(path, 'r')\n",
    "    field = nc_fid.variables[var_name][:]\n",
    "    return field"
   ]
  },
  {
   "cell_type": "code",
   "execution_count": 4,
   "metadata": {},
   "outputs": [],
   "source": [
    "def gen_mod06_img(hdf_file, varname='xxx'):\n",
    "    hdf = SD(hdf_file, SDC.READ)\n",
    "    sds = hdf.select(varname)\n",
    "    decoded_array = mod06_proc_sds(sds,variable=varname)\n",
    "    return decoded_array"
   ]
  },
  {
   "cell_type": "markdown",
   "metadata": {},
   "source": [
    "#### For tfrecord output"
   ]
  },
  {
   "cell_type": "code",
   "execution_count": 5,
   "metadata": {},
   "outputs": [],
   "source": [
    "def _int64_feature(value):\n",
    "    return tf.train.Feature(int64_list=tf.train.Int64List(value=value))\n",
    "\n",
    "\n",
    "def _bytes_feature(value):\n",
    "    return tf.train.Feature(bytes_list=tf.train.BytesList(value=[value]))\n",
    "\n",
    "\n",
    "def _float_feature(value):\n",
    "    return tf.train.Feature(float_list=tf.train.FloatList(value=value))"
   ]
  },
  {
   "cell_type": "code",
   "execution_count": 6,
   "metadata": {},
   "outputs": [],
   "source": [
    "def write_patches(patches, filename, out_dir, patches_per_record):\n",
    "    \"\"\"Writes `patches_per_record` patches into a tfrecord file in `out_dir`.\n",
    "    Args:\n",
    "        patches: Iterable of (filename, coordinate, patch) which defines tfrecord example\n",
    "            to write.\n",
    "        out_dir: Directory to save tfrecords.\n",
    "        patches_per_record: Number of examples to save in each tfrecord.\n",
    "    Side Effect:\n",
    "        Examples are written to `out_dir`. File format is `out_dir`/`rank`-`k`.tfrecord\n",
    "        where k means its the \"k^th\" record that `rank` has written.\n",
    "    \"\"\"\n",
    "    rank = 0 #MPI.COMM_WORLD.Get_rank()\n",
    "    for i, patch in enumerate(patches):\n",
    "        #print(len(patch))\n",
    "        if i % patches_per_record == 0:\n",
    "            rec = f\"{filename}.tfrecord\"\n",
    "            if i % 100 == 0:\n",
    "                print(\"Writing to\", rec, flush=True)\n",
    "            f = tf.python_io.TFRecordWriter(os.path.join(out_dir, rec))\n",
    "\n",
    "        write_feature(f, *patch )\n",
    "\n",
    "        print(\"Rank\", rank, \"wrote\", i + 1, \"patches\", flush=True)"
   ]
  },
  {
   "cell_type": "markdown",
   "metadata": {},
   "source": [
    "- cloud types write features"
   ]
  },
  {
   "cell_type": "code",
   "execution_count": 7,
   "metadata": {},
   "outputs": [],
   "source": [
    "def write_feature(writer, filename, coord, \n",
    "                  cot_patch, ctp_patch, cer_patch,\n",
    "                  cwp_patch, cpi_patch):\n",
    "    feature = {\n",
    "        \"filename\": _bytes_feature(bytes(filename, encoding=\"utf-8\")),\n",
    "        \"coordinate\": _int64_feature(coord),\n",
    "        \"shape\": _int64_feature(cot_patch.shape),\n",
    "        \"cloud_layer_type\": _bytes_feature(cot_patch.ravel().tobytes()),\n",
    "    }\n",
    "    example = tf.train.Example(features=tf.train.Features(feature=feature))\n",
    "    writer.write(example.SerializeToString())"
   ]
  },
  {
   "cell_type": "markdown",
   "metadata": {},
   "source": [
    "### TF loader"
   ]
  },
  {
   "cell_type": "code",
   "execution_count": 8,
   "metadata": {},
   "outputs": [],
   "source": [
    "def data_extractor_resize_fn(filelist,prefetch=1,height=32,width=32,channel=6,read_threads=4, distribute=(1, 0)):\n",
    "    def parser(ser):\n",
    "        \"\"\"\n",
    "        Decode & Pass datast in tf.record\n",
    "        *Cuation*\n",
    "        floating point: tfrecord data ==> tf.float64\n",
    "        \"\"\"\n",
    "        features = {\n",
    "            \"shape\": tf.FixedLenFeature([3], tf.int64),\n",
    "            \"patch\": tf.FixedLenFeature([], tf.string),\n",
    "            \"filename\": tf.FixedLenFeature([], tf.string),\n",
    "            \"coordinate\": tf.FixedLenFeature([2], tf.int64),\n",
    "        }\n",
    "        decoded = tf.parse_single_example(ser, features)\n",
    "        filename = decoded['filename']\n",
    "        coord    = decoded['coordinate']\n",
    "        return filename, coord\n",
    "    \n",
    "    dataset = (\n",
    "        tf.data.Dataset.list_files(filelist, shuffle=True)\n",
    "            .shard(*distribute)\n",
    "            .apply(\n",
    "            parallel_interleave(\n",
    "                lambda f: tf.data.TFRecordDataset(f).map(parser),\n",
    "                cycle_length=read_threads,\n",
    "                sloppy=True,\n",
    "            )\n",
    "        )\n",
    "    )\n",
    "    iterator = dataset.make_one_shot_iterator()\n",
    "\n",
    "    next_element = iterator.get_next()\n",
    "    filename_list = []\n",
    "    coord_list = []\n",
    "    with tf.Session() as sess:\n",
    "        try:\n",
    "            while True:\n",
    "                filename, coord = sess.run(next_element)\n",
    "                filename_list.append(filename.decode(\"utf-8\"))\n",
    "                coord_list.append(coord)\n",
    "        except tf.errors.OutOfRangeError:\n",
    "            print(\"OutOfRage --> finish process\")\n",
    "            pass\n",
    "    return filename_list, coord_list"
   ]
  },
  {
   "cell_type": "code",
   "execution_count": 9,
   "metadata": {},
   "outputs": [],
   "source": [
    "tf_datadir = \"/home/tkurihana/Research/data/tfrecords/clouds_MYD_laads_multiprocessed_20160101\""
   ]
  },
  {
   "cell_type": "code",
   "execution_count": 10,
   "metadata": {},
   "outputs": [],
   "source": [
    "tf_filelist = glob.glob(os.path.join(tf_datadir, \"*.tfrecord\"))"
   ]
  },
  {
   "cell_type": "code",
   "execution_count": 11,
   "metadata": {},
   "outputs": [
    {
     "name": "stdout",
     "output_type": "stream",
     "text": [
      "2-1_normed.tfrecord\n",
      "3-0_normed.tfrecord\n",
      "0-0_normed.tfrecord\n",
      "0-1_normed.tfrecord\n",
      "1-0_normed.tfrecord\n",
      "3-1_normed.tfrecord\n",
      "2-0_normed.tfrecord\n",
      "0-2_normed.tfrecord\n"
     ]
    }
   ],
   "source": [
    "# check filelist\n",
    "for i in tf_filelist:\n",
    "    print(os.path.basename(i))"
   ]
  },
  {
   "cell_type": "code",
   "execution_count": 14,
   "metadata": {
    "scrolled": false
   },
   "outputs": [
    {
     "name": "stdout",
     "output_type": "stream",
     "text": [
      "WARNING:tensorflow:From <ipython-input-8-159ade8c120e>:26: parallel_interleave (from tensorflow.contrib.data.python.ops.interleave_ops) is deprecated and will be removed in a future version.\n",
      "Instructions for updating:\n",
      "Use `tf.data.experimental.parallel_interleave(...)`.\n",
      "WARNING:tensorflow:From /home/tkurihana/.conda/envs/tf-cpu/lib/python3.6/site-packages/tensorflow/contrib/data/python/ops/interleave_ops.py:77: parallel_interleave (from tensorflow.python.data.experimental.ops.interleave_ops) is deprecated and will be removed in a future version.\n",
      "Instructions for updating:\n",
      "Use `tf.data.Dataset.interleave(map_func, cycle_length, block_length, num_parallel_calls=tf.data.experimental.AUTOTUNE)` instead. If sloppy execution is desired, use `tf.data.Options.experimental_determinstic`.\n",
      "WARNING:tensorflow:From <ipython-input-8-159ade8c120e>:30: DatasetV1.make_one_shot_iterator (from tensorflow.python.data.ops.dataset_ops) is deprecated and will be removed in a future version.\n",
      "Instructions for updating:\n",
      "Use `for ... in dataset:` to iterate over a dataset. If using `tf.estimator`, return the `Dataset` object directly from your input function. As a last resort, you can use `tf.compat.v1.data.make_one_shot_iterator(dataset)`.\n",
      "OutOfRage --> finish process\n",
      "OutOfRage --> finish process\n",
      "OutOfRage --> finish process\n",
      "OutOfRage --> finish process\n",
      "OutOfRage --> finish process\n",
      "OutOfRage --> finish process\n",
      "OutOfRage --> finish process\n",
      "OutOfRage --> finish process\n",
      "NORMAL END\n"
     ]
    }
   ],
   "source": [
    "height = width = 128\n",
    "channels = 6\n",
    "filename_list = []\n",
    "coord_list = []\n",
    "tfrecord_dict = {}\n",
    "for ifile in tf_filelist:\n",
    "    filename_list, coord_list = data_extractor_resize_fn([ifile],height=height,width=width,channel=channels )\n",
    "    tfrecord_dict[f'{os.path.basename(ifile)}-filename']= filename_list\n",
    "    tfrecord_dict[f'{os.path.basename(ifile)}-coordinate'] = coord_list\n",
    "print(\"NORMAL END\")"
   ]
  },
  {
   "cell_type": "markdown",
   "metadata": {},
   "source": [
    "check dictionary"
   ]
  },
  {
   "cell_type": "code",
   "execution_count": 15,
   "metadata": {
    "scrolled": true
   },
   "outputs": [
    {
     "name": "stdout",
     "output_type": "stream",
     "text": [
      "['2-1_normed.tfrecord-filename', '2-1_normed.tfrecord-coordinate', '3-0_normed.tfrecord-filename', '3-0_normed.tfrecord-coordinate', '0-0_normed.tfrecord-filename', '0-0_normed.tfrecord-coordinate', '0-1_normed.tfrecord-filename', '0-1_normed.tfrecord-coordinate', '1-0_normed.tfrecord-filename', '1-0_normed.tfrecord-coordinate', '3-1_normed.tfrecord-filename', '3-1_normed.tfrecord-coordinate', '2-0_normed.tfrecord-filename', '2-0_normed.tfrecord-coordinate', '0-2_normed.tfrecord-filename', '0-2_normed.tfrecord-coordinate']\n"
     ]
    }
   ],
   "source": [
    "# check tfrecord_dict\n",
    "a = [i for i in tfrecord_dict.keys()]\n",
    "print(a)"
   ]
  },
  {
   "cell_type": "code",
   "execution_count": 16,
   "metadata": {},
   "outputs": [
    {
     "data": {
      "text/plain": [
       "'/home/tkurihana/Research/data/MYD02/20160101/MYD021KM.A2016001.1305.061.2018055020801.hdf'"
      ]
     },
     "execution_count": 16,
     "metadata": {},
     "output_type": "execute_result"
    }
   ],
   "source": [
    "tfrecord_dict['2-1_normed.tfrecord-filename'][0]"
   ]
  },
  {
   "cell_type": "code",
   "execution_count": 17,
   "metadata": {},
   "outputs": [
    {
     "data": {
      "text/plain": [
       "array([1280,  384])"
      ]
     },
     "execution_count": 17,
     "metadata": {},
     "output_type": "execute_result"
    }
   ],
   "source": [
    "tfrecord_dict['2-1_normed.tfrecord-coordinate'][0]"
   ]
  },
  {
   "cell_type": "markdown",
   "metadata": {},
   "source": [
    "### Main process"
   ]
  },
  {
   "cell_type": "code",
   "execution_count": 18,
   "metadata": {},
   "outputs": [],
   "source": [
    "def find_date(ifile):\n",
    "    \"\"\" \n",
    "    find_date(tfrecord_dict['2-1_normed.tfrecord-filename'][0])\n",
    "    ['20160101', '001.1305', '061.2018', '05502080']\n",
    "    \"\"\"\n",
    "    result =re.findall('[0-9]{3}.[0-9]{4}',ifile)\n",
    "    return result[1]"
   ]
  },
  {
   "cell_type": "code",
   "execution_count": 19,
   "metadata": {},
   "outputs": [],
   "source": [
    "def wrapper_netcdf(ifile, netcdf_datadir=None, bname='A2016', var_name='cloud_layer_type'):\n",
    "    comfilename = find_date(ifile)\n",
    "    #print(bname+comfilename+'.nc')\n",
    "    path = os.path.join(netcdf_datadir, bname+'.'+comfilename+'.nc')\n",
    "    ncdata = importNetcdf(path=path, var_name=var_name)\n",
    "    # Need transpose to correspoind Netcdf data to tfrecord data\n",
    "    return ncdata.T"
   ]
  },
  {
   "cell_type": "code",
   "execution_count": 22,
   "metadata": {},
   "outputs": [],
   "source": [
    "### Practice\n",
    "ifile=tfrecord_dict['2-1_normed.tfrecord-filename'][0]\n",
    "netcdf_datadir = \"/home/tkurihana/Research/data3/201601\"\n",
    "a = wrapper_netcdf(ifile, netcdf_datadir)"
   ]
  },
  {
   "cell_type": "code",
   "execution_count": 272,
   "metadata": {},
   "outputs": [],
   "source": [
    "path = '/home/tkurihana/Research/data3/200801/day/A2008.001.2225.nc'\n",
    "#path = '/home/tkurihana/Research/data3/201601/A2016.001.0000.nc'\n",
    "a1 = importNetcdf(path, var_name='cloud_layer_type').T\n",
    "#aa = importNetcdf(path, var_name='cloud_layer_type').T"
   ]
  },
  {
   "cell_type": "code",
   "execution_count": 273,
   "metadata": {},
   "outputs": [
    {
     "data": {
      "text/plain": [
       "(10, 2030, 1354, 1)"
      ]
     },
     "execution_count": 273,
     "metadata": {},
     "output_type": "execute_result"
    }
   ],
   "source": [
    "a1.shape"
   ]
  },
  {
   "cell_type": "code",
   "execution_count": 267,
   "metadata": {},
   "outputs": [
    {
     "data": {
      "text/plain": [
       "array([[ True,  True,  True, ...,  True,  True,  True],\n",
       "       [ True,  True,  True, ...,  True,  True,  True],\n",
       "       [ True,  True,  True, ...,  True,  True,  True],\n",
       "       ...,\n",
       "       [ True,  True,  True, ...,  True,  True,  True],\n",
       "       [ True,  True,  True, ...,  True,  True,  True],\n",
       "       [ True,  True,  True, ...,  True,  True,  True]])"
      ]
     },
     "execution_count": 267,
     "metadata": {},
     "output_type": "execute_result"
    }
   ],
   "source": [
    "a1.mask[0,:,:,0]"
   ]
  },
  {
   "cell_type": "code",
   "execution_count": 271,
   "metadata": {},
   "outputs": [
    {
     "data": {
      "text/plain": [
       "array([[[[-1],\n",
       "         [-1],\n",
       "         [-1],\n",
       "         ...,\n",
       "         [-1],\n",
       "         [-1],\n",
       "         [-1]],\n",
       "\n",
       "        [[-1],\n",
       "         [-1],\n",
       "         [-1],\n",
       "         ...,\n",
       "         [-1],\n",
       "         [-1],\n",
       "         [-1]],\n",
       "\n",
       "        [[-1],\n",
       "         [-1],\n",
       "         [-1],\n",
       "         ...,\n",
       "         [-1],\n",
       "         [-1],\n",
       "         [-1]],\n",
       "\n",
       "        ...,\n",
       "\n",
       "        [[-1],\n",
       "         [-1],\n",
       "         [-1],\n",
       "         ...,\n",
       "         [-1],\n",
       "         [-1],\n",
       "         [-1]],\n",
       "\n",
       "        [[-1],\n",
       "         [-1],\n",
       "         [-1],\n",
       "         ...,\n",
       "         [-1],\n",
       "         [-1],\n",
       "         [-1]],\n",
       "\n",
       "        [[-1],\n",
       "         [-1],\n",
       "         [-1],\n",
       "         ...,\n",
       "         [-1],\n",
       "         [-1],\n",
       "         [-1]]],\n",
       "\n",
       "\n",
       "       [[[-1],\n",
       "         [-1],\n",
       "         [-1],\n",
       "         ...,\n",
       "         [-1],\n",
       "         [-1],\n",
       "         [-1]],\n",
       "\n",
       "        [[-1],\n",
       "         [-1],\n",
       "         [-1],\n",
       "         ...,\n",
       "         [-1],\n",
       "         [-1],\n",
       "         [-1]],\n",
       "\n",
       "        [[-1],\n",
       "         [-1],\n",
       "         [-1],\n",
       "         ...,\n",
       "         [-1],\n",
       "         [-1],\n",
       "         [-1]],\n",
       "\n",
       "        ...,\n",
       "\n",
       "        [[-1],\n",
       "         [-1],\n",
       "         [-1],\n",
       "         ...,\n",
       "         [-1],\n",
       "         [-1],\n",
       "         [-1]],\n",
       "\n",
       "        [[-1],\n",
       "         [-1],\n",
       "         [-1],\n",
       "         ...,\n",
       "         [-1],\n",
       "         [-1],\n",
       "         [-1]],\n",
       "\n",
       "        [[-1],\n",
       "         [-1],\n",
       "         [-1],\n",
       "         ...,\n",
       "         [-1],\n",
       "         [-1],\n",
       "         [-1]]],\n",
       "\n",
       "\n",
       "       [[[-1],\n",
       "         [-1],\n",
       "         [-1],\n",
       "         ...,\n",
       "         [-1],\n",
       "         [-1],\n",
       "         [-1]],\n",
       "\n",
       "        [[-1],\n",
       "         [-1],\n",
       "         [-1],\n",
       "         ...,\n",
       "         [-1],\n",
       "         [-1],\n",
       "         [-1]],\n",
       "\n",
       "        [[-1],\n",
       "         [-1],\n",
       "         [-1],\n",
       "         ...,\n",
       "         [-1],\n",
       "         [-1],\n",
       "         [-1]],\n",
       "\n",
       "        ...,\n",
       "\n",
       "        [[-1],\n",
       "         [-1],\n",
       "         [-1],\n",
       "         ...,\n",
       "         [-1],\n",
       "         [-1],\n",
       "         [-1]],\n",
       "\n",
       "        [[-1],\n",
       "         [-1],\n",
       "         [-1],\n",
       "         ...,\n",
       "         [-1],\n",
       "         [-1],\n",
       "         [-1]],\n",
       "\n",
       "        [[-1],\n",
       "         [-1],\n",
       "         [-1],\n",
       "         ...,\n",
       "         [-1],\n",
       "         [-1],\n",
       "         [-1]]],\n",
       "\n",
       "\n",
       "       ...,\n",
       "\n",
       "\n",
       "       [[[-1],\n",
       "         [-1],\n",
       "         [-1],\n",
       "         ...,\n",
       "         [-1],\n",
       "         [-1],\n",
       "         [-1]],\n",
       "\n",
       "        [[-1],\n",
       "         [-1],\n",
       "         [-1],\n",
       "         ...,\n",
       "         [-1],\n",
       "         [-1],\n",
       "         [-1]],\n",
       "\n",
       "        [[-1],\n",
       "         [-1],\n",
       "         [-1],\n",
       "         ...,\n",
       "         [-1],\n",
       "         [-1],\n",
       "         [-1]],\n",
       "\n",
       "        ...,\n",
       "\n",
       "        [[-1],\n",
       "         [-1],\n",
       "         [-1],\n",
       "         ...,\n",
       "         [-1],\n",
       "         [-1],\n",
       "         [-1]],\n",
       "\n",
       "        [[-1],\n",
       "         [-1],\n",
       "         [-1],\n",
       "         ...,\n",
       "         [-1],\n",
       "         [-1],\n",
       "         [-1]],\n",
       "\n",
       "        [[-1],\n",
       "         [-1],\n",
       "         [-1],\n",
       "         ...,\n",
       "         [-1],\n",
       "         [-1],\n",
       "         [-1]]],\n",
       "\n",
       "\n",
       "       [[[-1],\n",
       "         [-1],\n",
       "         [-1],\n",
       "         ...,\n",
       "         [-1],\n",
       "         [-1],\n",
       "         [-1]],\n",
       "\n",
       "        [[-1],\n",
       "         [-1],\n",
       "         [-1],\n",
       "         ...,\n",
       "         [-1],\n",
       "         [-1],\n",
       "         [-1]],\n",
       "\n",
       "        [[-1],\n",
       "         [-1],\n",
       "         [-1],\n",
       "         ...,\n",
       "         [-1],\n",
       "         [-1],\n",
       "         [-1]],\n",
       "\n",
       "        ...,\n",
       "\n",
       "        [[-1],\n",
       "         [-1],\n",
       "         [-1],\n",
       "         ...,\n",
       "         [-1],\n",
       "         [-1],\n",
       "         [-1]],\n",
       "\n",
       "        [[-1],\n",
       "         [-1],\n",
       "         [-1],\n",
       "         ...,\n",
       "         [-1],\n",
       "         [-1],\n",
       "         [-1]],\n",
       "\n",
       "        [[-1],\n",
       "         [-1],\n",
       "         [-1],\n",
       "         ...,\n",
       "         [-1],\n",
       "         [-1],\n",
       "         [-1]]],\n",
       "\n",
       "\n",
       "       [[[-1],\n",
       "         [-1],\n",
       "         [-1],\n",
       "         ...,\n",
       "         [-1],\n",
       "         [-1],\n",
       "         [-1]],\n",
       "\n",
       "        [[-1],\n",
       "         [-1],\n",
       "         [-1],\n",
       "         ...,\n",
       "         [-1],\n",
       "         [-1],\n",
       "         [-1]],\n",
       "\n",
       "        [[-1],\n",
       "         [-1],\n",
       "         [-1],\n",
       "         ...,\n",
       "         [-1],\n",
       "         [-1],\n",
       "         [-1]],\n",
       "\n",
       "        ...,\n",
       "\n",
       "        [[-1],\n",
       "         [-1],\n",
       "         [-1],\n",
       "         ...,\n",
       "         [-1],\n",
       "         [-1],\n",
       "         [-1]],\n",
       "\n",
       "        [[-1],\n",
       "         [-1],\n",
       "         [-1],\n",
       "         ...,\n",
       "         [-1],\n",
       "         [-1],\n",
       "         [-1]],\n",
       "\n",
       "        [[-1],\n",
       "         [-1],\n",
       "         [-1],\n",
       "         ...,\n",
       "         [-1],\n",
       "         [-1],\n",
       "         [-1]]]], dtype=int8)"
      ]
     },
     "execution_count": 271,
     "metadata": {},
     "output_type": "execute_result"
    }
   ],
   "source": [
    "a1.data"
   ]
  },
  {
   "cell_type": "code",
   "execution_count": 270,
   "metadata": {},
   "outputs": [
    {
     "data": {
      "text/plain": [
       "<matplotlib.image.AxesImage at 0x7feb44e70940>"
      ]
     },
     "execution_count": 270,
     "metadata": {},
     "output_type": "execute_result"
    },
    {
     "data": {
      "image/png": "[encoded data removed]",
      "text/plain": [
       "<Figure size 432x288 with 1 Axes>"
      ]
     },
     "metadata": {
      "needs_background": "light"
     },
     "output_type": "display_data"
    }
   ],
   "source": [
    "plt.imshow(a1.mask[0,:,:,0])"
   ]
  },
  {
   "cell_type": "code",
   "execution_count": 256,
   "metadata": {},
   "outputs": [],
   "source": [
    "a1 = a1.astype(np.float64)\n",
    "a1[np.where(a1 == a1.fill_value)] = np.nan"
   ]
  },
  {
   "cell_type": "code",
   "execution_count": 170,
   "metadata": {},
   "outputs": [],
   "source": [
    "am1 = importNetcdf(path, var_name='cloud_mask').T"
   ]
  },
  {
   "cell_type": "code",
   "execution_count": 235,
   "metadata": {},
   "outputs": [
    {
     "data": {
      "text/plain": [
       "(2030, 1354, 1)"
      ]
     },
     "execution_count": 235,
     "metadata": {},
     "output_type": "execute_result"
    }
   ],
   "source": [
    "am1.data.shape"
   ]
  },
  {
   "cell_type": "code",
   "execution_count": 172,
   "metadata": {},
   "outputs": [
    {
     "data": {
      "text/plain": [
       "(array([   1,    1,    1, ..., 2029, 2029, 2029]),\n",
       " array([1138, 1139, 1140, ..., 1351, 1352, 1353]),\n",
       " array([0, 0, 0, ..., 0, 0, 0]))"
      ]
     },
     "execution_count": 172,
     "metadata": {},
     "output_type": "execute_result"
    }
   ],
   "source": [
    "np.where(am1.mask)"
   ]
  },
  {
   "cell_type": "code",
   "execution_count": 173,
   "metadata": {},
   "outputs": [],
   "source": [
    "adx = np.where(am1.mask)"
   ]
  },
  {
   "cell_type": "code",
   "execution_count": 174,
   "metadata": {},
   "outputs": [],
   "source": [
    "am1 = am1.astype(np.float64)"
   ]
  },
  {
   "cell_type": "code",
   "execution_count": 175,
   "metadata": {},
   "outputs": [],
   "source": [
    "marray = np.zeros(am1.shape).astype(np.float64)\n",
    "marray[:,:] = np.nan\n",
    "marray[adx] = 1"
   ]
  },
  {
   "cell_type": "code",
   "execution_count": 176,
   "metadata": {},
   "outputs": [
    {
     "data": {
      "text/plain": [
       "<matplotlib.image.AxesImage at 0x7feb44d99978>"
      ]
     },
     "execution_count": 176,
     "metadata": {},
     "output_type": "execute_result"
    },
    {
     "data": {
      "image/png": "[encoded data removed]",
      "text/plain": [
       "<Figure size 432x288 with 1 Axes>"
      ]
     },
     "metadata": {
      "needs_background": "light"
     },
     "output_type": "display_data"
    }
   ],
   "source": [
    "plt.imshow(am1[:,:,0])"
   ]
  },
  {
   "cell_type": "code",
   "execution_count": 160,
   "metadata": {},
   "outputs": [
    {
     "data": {
      "text/plain": [
       "(array([], dtype=int64), array([], dtype=int64), array([], dtype=int64))"
      ]
     },
     "execution_count": 160,
     "metadata": {},
     "output_type": "execute_result"
    }
   ],
   "source": [
    "np.where(am1 == am1.fill_value)"
   ]
  },
  {
   "cell_type": "code",
   "execution_count": 217,
   "metadata": {},
   "outputs": [
    {
     "data": {
      "text/plain": [
       "(array([0, 0, 0, ..., 2, 2, 2]),\n",
       " array([  10,   11,   13, ..., 1461, 1467, 1505]),\n",
       " array([780, 781, 780, ..., 742, 742, 738]),\n",
       " array([0, 0, 0, ..., 0, 0, 0]))"
      ]
     },
     "execution_count": 217,
     "metadata": {},
     "output_type": "execute_result"
    }
   ],
   "source": [
    "aa2 = a1.data\n",
    "np.where(aa2 >= 0)"
   ]
  },
  {
   "cell_type": "code",
   "execution_count": 244,
   "metadata": {},
   "outputs": [
    {
     "data": {
      "text/plain": [
       "([<matplotlib.axis.XTick at 0x7feaa1394358>,\n",
       "  <matplotlib.axis.XTick at 0x7feb4638aac8>,\n",
       "  <matplotlib.axis.XTick at 0x7feb4638a518>,\n",
       "  <matplotlib.axis.XTick at 0x7feb685ff518>,\n",
       "  <matplotlib.axis.XTick at 0x7feb452b4e80>,\n",
       "  <matplotlib.axis.XTick at 0x7feb452b4f28>,\n",
       "  <matplotlib.axis.XTick at 0x7feb452b4a58>,\n",
       "  <matplotlib.axis.XTick at 0x7feb46562358>],\n",
       " <a list of 8 Text xticklabel objects>)"
      ]
     },
     "execution_count": 244,
     "metadata": {},
     "output_type": "execute_result"
    },
    {
     "data": {
      "image/png": "[encoded data removed]",
      "text/plain": [
       "<Figure size 432x288 with 1 Axes>"
      ]
     },
     "metadata": {
      "needs_background": "light"
     },
     "output_type": "display_data"
    }
   ],
   "source": [
    "plt.hist(a1.data[np.where(a1.data > -1 )].ravel())\n",
    "plt.xticks([i for i in range(8)])"
   ]
  },
  {
   "cell_type": "code",
   "execution_count": 274,
   "metadata": {
    "scrolled": false
   },
   "outputs": [
    {
     "data": {
      "image/png": "[encoded data removed]",
      "text/plain": [
       "<Figure size 432x288 with 2 Axes>"
      ]
     },
     "metadata": {
      "needs_background": "light"
     },
     "output_type": "display_data"
    },
    {
     "data": {
      "image/png": "[encoded data removed]",
      "text/plain": [
       "<Figure size 432x288 with 2 Axes>"
      ]
     },
     "metadata": {
      "needs_background": "light"
     },
     "output_type": "display_data"
    },
    {
     "data": {
      "image/png": "[encoded data removed]",
      "text/plain": [
       "<Figure size 432x288 with 2 Axes>"
      ]
     },
     "metadata": {
      "needs_background": "light"
     },
     "output_type": "display_data"
    },
    {
     "data": {
      "image/png": "[encoded data removed]",
      "text/plain": [
       "<Figure size 432x288 with 2 Axes>"
      ]
     },
     "metadata": {
      "needs_background": "light"
     },
     "output_type": "display_data"
    },
    {
     "data": {
      "image/png": "[encoded data removed]",
      "text/plain": [
       "<Figure size 432x288 with 2 Axes>"
      ]
     },
     "metadata": {
      "needs_background": "light"
     },
     "output_type": "display_data"
    },
    {
     "data": {
      "image/png": "[encoded data removed]",
      "text/plain": [
       "<Figure size 432x288 with 2 Axes>"
      ]
     },
     "metadata": {
      "needs_background": "light"
     },
     "output_type": "display_data"
    },
    {
     "data": {
      "image/png": "[encoded data removed]",
      "text/plain": [
       "<Figure size 432x288 with 2 Axes>"
      ]
     },
     "metadata": {
      "needs_background": "light"
     },
     "output_type": "display_data"
    },
    {
     "data": {
      "image/png": "[encoded data removed]",
      "text/plain": [
       "<Figure size 432x288 with 2 Axes>"
      ]
     },
     "metadata": {
      "needs_background": "light"
     },
     "output_type": "display_data"
    },
    {
     "data": {
      "image/png": "[encoded data removed]",
      "text/plain": [
       "<Figure size 432x288 with 2 Axes>"
      ]
     },
     "metadata": {
      "needs_background": "light"
     },
     "output_type": "display_data"
    },
    {
     "data": {
      "image/png": "[encoded data removed]",
      "text/plain": [
       "<Figure size 432x288 with 2 Axes>"
      ]
     },
     "metadata": {
      "needs_background": "light"
     },
     "output_type": "display_data"
    }
   ],
   "source": [
    "#fig = plt.figure()\n",
    "for i in range(10):\n",
    "    plt.figure()\n",
    "    plt.imshow(a1[i,:,:,0],cmap='Paired', vmin=-1, vmax=8)\n",
    "    plt.colorbar()\n",
    "    plt.show()\n",
    "    plt.close()"
   ]
  },
  {
   "cell_type": "code",
   "execution_count": 123,
   "metadata": {},
   "outputs": [],
   "source": [
    "nc_fid=Dataset(path, 'r')"
   ]
  },
  {
   "cell_type": "code",
   "execution_count": 144,
   "metadata": {},
   "outputs": [
    {
     "data": {
      "text/plain": [
       "(10, 2030, 1354, 1)"
      ]
     },
     "execution_count": 144,
     "metadata": {},
     "output_type": "execute_result"
    }
   ],
   "source": [
    "### Practice result\n",
    "a1.shape"
   ]
  },
  {
   "cell_type": "code",
   "execution_count": 128,
   "metadata": {},
   "outputs": [
    {
     "data": {
      "text/plain": [
       "array([[[[-1],\n",
       "         [-1],\n",
       "         [-1],\n",
       "         ...,\n",
       "         [-1],\n",
       "         [-1],\n",
       "         [-1]],\n",
       "\n",
       "        [[-1],\n",
       "         [-1],\n",
       "         [-1],\n",
       "         ...,\n",
       "         [-1],\n",
       "         [-1],\n",
       "         [-1]],\n",
       "\n",
       "        [[-1],\n",
       "         [-1],\n",
       "         [-1],\n",
       "         ...,\n",
       "         [-1],\n",
       "         [-1],\n",
       "         [-1]],\n",
       "\n",
       "        ...,\n",
       "\n",
       "        [[-1],\n",
       "         [-1],\n",
       "         [-1],\n",
       "         ...,\n",
       "         [-1],\n",
       "         [-1],\n",
       "         [-1]],\n",
       "\n",
       "        [[-1],\n",
       "         [-1],\n",
       "         [-1],\n",
       "         ...,\n",
       "         [-1],\n",
       "         [-1],\n",
       "         [-1]],\n",
       "\n",
       "        [[-1],\n",
       "         [-1],\n",
       "         [-1],\n",
       "         ...,\n",
       "         [-1],\n",
       "         [-1],\n",
       "         [-1]]],\n",
       "\n",
       "\n",
       "       [[[-1],\n",
       "         [-1],\n",
       "         [-1],\n",
       "         ...,\n",
       "         [-1],\n",
       "         [-1],\n",
       "         [-1]],\n",
       "\n",
       "        [[-1],\n",
       "         [-1],\n",
       "         [-1],\n",
       "         ...,\n",
       "         [-1],\n",
       "         [-1],\n",
       "         [-1]],\n",
       "\n",
       "        [[-1],\n",
       "         [-1],\n",
       "         [-1],\n",
       "         ...,\n",
       "         [-1],\n",
       "         [-1],\n",
       "         [-1]],\n",
       "\n",
       "        ...,\n",
       "\n",
       "        [[-1],\n",
       "         [-1],\n",
       "         [-1],\n",
       "         ...,\n",
       "         [-1],\n",
       "         [-1],\n",
       "         [-1]],\n",
       "\n",
       "        [[-1],\n",
       "         [-1],\n",
       "         [-1],\n",
       "         ...,\n",
       "         [-1],\n",
       "         [-1],\n",
       "         [-1]],\n",
       "\n",
       "        [[-1],\n",
       "         [-1],\n",
       "         [-1],\n",
       "         ...,\n",
       "         [-1],\n",
       "         [-1],\n",
       "         [-1]]],\n",
       "\n",
       "\n",
       "       [[[-1],\n",
       "         [-1],\n",
       "         [-1],\n",
       "         ...,\n",
       "         [-1],\n",
       "         [-1],\n",
       "         [-1]],\n",
       "\n",
       "        [[-1],\n",
       "         [-1],\n",
       "         [-1],\n",
       "         ...,\n",
       "         [-1],\n",
       "         [-1],\n",
       "         [-1]],\n",
       "\n",
       "        [[-1],\n",
       "         [-1],\n",
       "         [-1],\n",
       "         ...,\n",
       "         [-1],\n",
       "         [-1],\n",
       "         [-1]],\n",
       "\n",
       "        ...,\n",
       "\n",
       "        [[-1],\n",
       "         [-1],\n",
       "         [-1],\n",
       "         ...,\n",
       "         [-1],\n",
       "         [-1],\n",
       "         [-1]],\n",
       "\n",
       "        [[-1],\n",
       "         [-1],\n",
       "         [-1],\n",
       "         ...,\n",
       "         [-1],\n",
       "         [-1],\n",
       "         [-1]],\n",
       "\n",
       "        [[-1],\n",
       "         [-1],\n",
       "         [-1],\n",
       "         ...,\n",
       "         [-1],\n",
       "         [-1],\n",
       "         [-1]]],\n",
       "\n",
       "\n",
       "       ...,\n",
       "\n",
       "\n",
       "       [[[-1],\n",
       "         [-1],\n",
       "         [-1],\n",
       "         ...,\n",
       "         [-1],\n",
       "         [-1],\n",
       "         [-1]],\n",
       "\n",
       "        [[-1],\n",
       "         [-1],\n",
       "         [-1],\n",
       "         ...,\n",
       "         [-1],\n",
       "         [-1],\n",
       "         [-1]],\n",
       "\n",
       "        [[-1],\n",
       "         [-1],\n",
       "         [-1],\n",
       "         ...,\n",
       "         [-1],\n",
       "         [-1],\n",
       "         [-1]],\n",
       "\n",
       "        ...,\n",
       "\n",
       "        [[-1],\n",
       "         [-1],\n",
       "         [-1],\n",
       "         ...,\n",
       "         [-1],\n",
       "         [-1],\n",
       "         [-1]],\n",
       "\n",
       "        [[-1],\n",
       "         [-1],\n",
       "         [-1],\n",
       "         ...,\n",
       "         [-1],\n",
       "         [-1],\n",
       "         [-1]],\n",
       "\n",
       "        [[-1],\n",
       "         [-1],\n",
       "         [-1],\n",
       "         ...,\n",
       "         [-1],\n",
       "         [-1],\n",
       "         [-1]]],\n",
       "\n",
       "\n",
       "       [[[-1],\n",
       "         [-1],\n",
       "         [-1],\n",
       "         ...,\n",
       "         [-1],\n",
       "         [-1],\n",
       "         [-1]],\n",
       "\n",
       "        [[-1],\n",
       "         [-1],\n",
       "         [-1],\n",
       "         ...,\n",
       "         [-1],\n",
       "         [-1],\n",
       "         [-1]],\n",
       "\n",
       "        [[-1],\n",
       "         [-1],\n",
       "         [-1],\n",
       "         ...,\n",
       "         [-1],\n",
       "         [-1],\n",
       "         [-1]],\n",
       "\n",
       "        ...,\n",
       "\n",
       "        [[-1],\n",
       "         [-1],\n",
       "         [-1],\n",
       "         ...,\n",
       "         [-1],\n",
       "         [-1],\n",
       "         [-1]],\n",
       "\n",
       "        [[-1],\n",
       "         [-1],\n",
       "         [-1],\n",
       "         ...,\n",
       "         [-1],\n",
       "         [-1],\n",
       "         [-1]],\n",
       "\n",
       "        [[-1],\n",
       "         [-1],\n",
       "         [-1],\n",
       "         ...,\n",
       "         [-1],\n",
       "         [-1],\n",
       "         [-1]]],\n",
       "\n",
       "\n",
       "       [[[-1],\n",
       "         [-1],\n",
       "         [-1],\n",
       "         ...,\n",
       "         [-1],\n",
       "         [-1],\n",
       "         [-1]],\n",
       "\n",
       "        [[-1],\n",
       "         [-1],\n",
       "         [-1],\n",
       "         ...,\n",
       "         [-1],\n",
       "         [-1],\n",
       "         [-1]],\n",
       "\n",
       "        [[-1],\n",
       "         [-1],\n",
       "         [-1],\n",
       "         ...,\n",
       "         [-1],\n",
       "         [-1],\n",
       "         [-1]],\n",
       "\n",
       "        ...,\n",
       "\n",
       "        [[-1],\n",
       "         [-1],\n",
       "         [-1],\n",
       "         ...,\n",
       "         [-1],\n",
       "         [-1],\n",
       "         [-1]],\n",
       "\n",
       "        [[-1],\n",
       "         [-1],\n",
       "         [-1],\n",
       "         ...,\n",
       "         [-1],\n",
       "         [-1],\n",
       "         [-1]],\n",
       "\n",
       "        [[-1],\n",
       "         [-1],\n",
       "         [-1],\n",
       "         ...,\n",
       "         [-1],\n",
       "         [-1],\n",
       "         [-1]]]], dtype=int8)"
      ]
     },
     "execution_count": 128,
     "metadata": {},
     "output_type": "execute_result"
    }
   ],
   "source": [
    "a.data"
   ]
  },
  {
   "cell_type": "code",
   "execution_count": 140,
   "metadata": {},
   "outputs": [
    {
     "data": {
      "text/plain": [
       "(array([       0.,        0.,        0.,        0.,        0., 27486200.,\n",
       "               0.,        0.,        0.,        0.]),\n",
       " array([-1.5, -1.4, -1.3, -1.2, -1.1, -1. , -0.9, -0.8, -0.7, -0.6, -0.5]),\n",
       " <a list of 10 Patch objects>)"
      ]
     },
     "execution_count": 140,
     "metadata": {},
     "output_type": "execute_result"
    },
    {
     "data": {
      "image/png": "[encoded data removed]",
      "text/plain": [
       "<Figure size 432x288 with 1 Axes>"
      ]
     },
     "metadata": {
      "needs_background": "light"
     },
     "output_type": "display_data"
    }
   ],
   "source": [
    "plt.hist(aa.ravel())"
   ]
  },
  {
   "cell_type": "code",
   "execution_count": 145,
   "metadata": {},
   "outputs": [
    {
     "data": {
      "text/plain": [
       "(array([ 112.,    0.,  715.,    0.,   59.,    0., 1303.,    0.,   19.,\n",
       "         342.]),\n",
       " array([1. , 1.5, 2. , 2.5, 3. , 3.5, 4. , 4.5, 5. , 5.5, 6. ]),\n",
       " <a list of 10 Patch objects>)"
      ]
     },
     "execution_count": 145,
     "metadata": {},
     "output_type": "execute_result"
    },
    {
     "data": {
      "image/png": "[encoded data removed]",
      "text/plain": [
       "<Figure size 432x288 with 1 Axes>"
      ]
     },
     "metadata": {
      "needs_background": "light"
     },
     "output_type": "display_data"
    }
   ],
   "source": [
    "plt.hist(a1.ravel())"
   ]
  },
  {
   "cell_type": "code",
   "execution_count": null,
   "metadata": {},
   "outputs": [],
   "source": []
  },
  {
   "cell_type": "markdown",
   "metadata": {},
   "source": [
    "todo: write code to make data for frequent cloud classes as npy datast "
   ]
  },
  {
   "cell_type": "code",
   "execution_count": 20,
   "metadata": {},
   "outputs": [],
   "source": [
    "def comp_freqlabel(data, undef=-1):\n",
    "    data = data.astype(np.float64)\n",
    "    nan_idx = np.where(data == undef)\n",
    "    data[nan_idx] = np.nan\n",
    "    # mode function\n",
    "    prep = mode(data,axis=3)\n",
    "    mode_array = prep[0]\n",
    "    # check data points where all layers are np.NaN\n",
    "    nan_idx2 = np.where(np.isnan(mode_array))\n",
    "    mode_array[nan_idx2] = undef\n",
    "    mode_array = mode_array.astype(int)\n",
    "    return mode_array"
   ]
  },
  {
   "cell_type": "code",
   "execution_count": 201,
   "metadata": {},
   "outputs": [
    {
     "data": {
      "text/plain": [
       "(1, 4, 4, 1)"
      ]
     },
     "execution_count": 201,
     "metadata": {},
     "output_type": "execute_result"
    }
   ],
   "source": [
    "g = np.ones((4,4,4,1))\n",
    "g[1:,:,:,:] = 2\n",
    "p1,p2 = mode(g,axis=0)\n",
    "p1.shape"
   ]
  },
  {
   "cell_type": "code",
   "execution_count": 202,
   "metadata": {},
   "outputs": [
    {
     "data": {
      "text/plain": [
       "array([[[[2.],\n",
       "         [2.],\n",
       "         [2.],\n",
       "         [2.]],\n",
       "\n",
       "        [[2.],\n",
       "         [2.],\n",
       "         [2.],\n",
       "         [2.]],\n",
       "\n",
       "        [[2.],\n",
       "         [2.],\n",
       "         [2.],\n",
       "         [2.]],\n",
       "\n",
       "        [[2.],\n",
       "         [2.],\n",
       "         [2.],\n",
       "         [2.]]]])"
      ]
     },
     "execution_count": 202,
     "metadata": {},
     "output_type": "execute_result"
    }
   ],
   "source": [
    "p1"
   ]
  },
  {
   "cell_type": "code",
   "execution_count": null,
   "metadata": {},
   "outputs": [],
   "source": [
    "b = comp_freqlabel(a)"
   ]
  },
  {
   "cell_type": "code",
   "execution_count": 146,
   "metadata": {},
   "outputs": [],
   "source": [
    "def mode_fn(array):\n",
    "    \"\"\" a:= data[10,1]\"\"\"\n",
    "    nan_idx = np.where(array.ravel())\n",
    "    if len(nan_idx[0]) == 10:\n",
    "        mode = -1\n",
    "    else:\n",
    "        idx_list = []\n",
    "        for i in range(10):\n",
    "            if not i in nan_idx[0]:\n",
    "                idx_list.append(i)\n",
    "        idx = np.asarray(idx_list)\n",
    "        #print(idx, nan_idx)\n",
    "        (_, idx, counts) = np.unique(array[idx], return_index=True, return_counts=True)\n",
    "        index = idx[np.argmax(counts)]\n",
    "        mode = array[index]\n",
    "    return mode"
   ]
  },
  {
   "cell_type": "code",
   "execution_count": 147,
   "metadata": {},
   "outputs": [],
   "source": [
    "def comp_freqlabel2(data, undef=-1):\n",
    "    data = data.astype(np.float64)\n",
    "    nan_idx = np.where(data == undef)\n",
    "    data[nan_idx] = np.nan\n",
    "    # mode function\n",
    "    n,h,w,c = data.shape\n",
    "    tmp_data = data.reshape(n,h*w)\n",
    "    data_list = []\n",
    "    for i in range(h*w):\n",
    "        tmp = tmp_data[:,i]\n",
    "        #print(tmp.shape)\n",
    "        prep = mode_fn(tmp)\n",
    "        data_list.append(prep)\n",
    "    mode_array =  np.asarray(data_list).reshape(h,w) #prep[0]\n",
    "    # check data points where all layers are np.NaN\n",
    "    nan_idx2 = np.where(np.isnan(mode_array))\n",
    "    mode_array[nan_idx2] = undef\n",
    "    mode_array = mode_array.astype(int)\n",
    "    return mode_array"
   ]
  },
  {
   "cell_type": "code",
   "execution_count": 148,
   "metadata": {},
   "outputs": [],
   "source": [
    "b = comp_freqlabel2(a1)"
   ]
  },
  {
   "cell_type": "code",
   "execution_count": 149,
   "metadata": {},
   "outputs": [
    {
     "data": {
      "text/plain": [
       "(2030, 1354)"
      ]
     },
     "execution_count": 149,
     "metadata": {},
     "output_type": "execute_result"
    }
   ],
   "source": [
    "b.shape"
   ]
  },
  {
   "cell_type": "code",
   "execution_count": 150,
   "metadata": {},
   "outputs": [
    {
     "data": {
      "text/plain": [
       "array([[-1, -1, -1, ..., -1, -1, -1],\n",
       "       [-1, -1, -1, ..., -1, -1, -1],\n",
       "       [-1, -1, -1, ..., -1, -1, -1],\n",
       "       ...,\n",
       "       [-1, -1, -1, ..., -1, -1, -1],\n",
       "       [-1, -1, -1, ..., -1, -1, -1],\n",
       "       [-1, -1, -1, ..., -1, -1, -1]])"
      ]
     },
     "execution_count": 150,
     "metadata": {},
     "output_type": "execute_result"
    }
   ],
   "source": [
    "b"
   ]
  },
  {
   "cell_type": "code",
   "execution_count": 151,
   "metadata": {},
   "outputs": [
    {
     "data": {
      "image/png": "[encoded data removed]",
      "text/plain": [
       "<Figure size 432x288 with 2 Axes>"
      ]
     },
     "metadata": {
      "needs_background": "light"
     },
     "output_type": "display_data"
    }
   ],
   "source": [
    "import matplotlib.pyplot as plt\n",
    "plt.figure()\n",
    "plt.imshow(b[:,:])\n",
    "plt.colorbar()\n",
    "plt.show()"
   ]
  },
  {
   "cell_type": "code",
   "execution_count": 152,
   "metadata": {},
   "outputs": [
    {
     "data": {
      "image/png": "[encoded data removed]",
      "text/plain": [
       "<Figure size 432x288 with 1 Axes>"
      ]
     },
     "metadata": {
      "needs_background": "light"
     },
     "output_type": "display_data"
    }
   ],
   "source": [
    "plt.figure()\n",
    "plt.hist(b.ravel())\n",
    "plt.show()"
   ]
  },
  {
   "cell_type": "code",
   "execution_count": 85,
   "metadata": {},
   "outputs": [
    {
     "ename": "RuntimeError",
     "evalue": "No mappable was found to use for colorbar creation. First define a mappable such as an image (with imshow) or a contour set (with contourf).",
     "output_type": "error",
     "traceback": [
      "\u001b[0;31m---------------------------------------------------------------------------\u001b[0m",
      "\u001b[0;31mRuntimeError\u001b[0m                              Traceback (most recent call last)",
      "\u001b[0;32m<ipython-input-85-eeb18e0afd8a>\u001b[0m in \u001b[0;36m<module>\u001b[0;34m\u001b[0m\n\u001b[1;32m      4\u001b[0m     \u001b[0max\u001b[0m \u001b[0;34m=\u001b[0m \u001b[0mplt\u001b[0m\u001b[0;34m.\u001b[0m\u001b[0msubplot\u001b[0m\u001b[0;34m(\u001b[0m\u001b[0;36m2\u001b[0m\u001b[0;34m,\u001b[0m\u001b[0;36m5\u001b[0m\u001b[0;34m,\u001b[0m\u001b[0mii\u001b[0m\u001b[0;34m)\u001b[0m\u001b[0;34m\u001b[0m\u001b[0;34m\u001b[0m\u001b[0m\n\u001b[1;32m      5\u001b[0m     \u001b[0max\u001b[0m\u001b[0;34m.\u001b[0m\u001b[0mimshow\u001b[0m\u001b[0;34m(\u001b[0m\u001b[0ma\u001b[0m\u001b[0;34m[\u001b[0m\u001b[0mi\u001b[0m\u001b[0;34m,\u001b[0m\u001b[0;34m:\u001b[0m\u001b[0;34m,\u001b[0m\u001b[0;34m:\u001b[0m\u001b[0;34m,\u001b[0m\u001b[0;36m0\u001b[0m\u001b[0;34m]\u001b[0m\u001b[0;34m,\u001b[0m \u001b[0mcmap\u001b[0m\u001b[0;34m=\u001b[0m\u001b[0;34m'jet'\u001b[0m\u001b[0;34m,\u001b[0m \u001b[0mvmin\u001b[0m\u001b[0;34m=\u001b[0m\u001b[0;34m-\u001b[0m\u001b[0;36m1\u001b[0m\u001b[0;34m,\u001b[0m \u001b[0mvmax\u001b[0m\u001b[0;34m=\u001b[0m\u001b[0;36m8\u001b[0m\u001b[0;34m)\u001b[0m\u001b[0;34m\u001b[0m\u001b[0;34m\u001b[0m\u001b[0m\n\u001b[0;32m----> 6\u001b[0;31m \u001b[0mplt\u001b[0m\u001b[0;34m.\u001b[0m\u001b[0mcolorbar\u001b[0m\u001b[0;34m(\u001b[0m\u001b[0;34m)\u001b[0m\u001b[0;34m\u001b[0m\u001b[0;34m\u001b[0m\u001b[0m\n\u001b[0m\u001b[1;32m      7\u001b[0m \u001b[0mplt\u001b[0m\u001b[0;34m.\u001b[0m\u001b[0mshow\u001b[0m\u001b[0;34m(\u001b[0m\u001b[0;34m)\u001b[0m\u001b[0;34m\u001b[0m\u001b[0;34m\u001b[0m\u001b[0m\n",
      "\u001b[0;32m~/.conda/envs/tf-cpu/lib/python3.6/site-packages/matplotlib/pyplot.py\u001b[0m in \u001b[0;36mcolorbar\u001b[0;34m(mappable, cax, ax, **kw)\u001b[0m\n\u001b[1;32m   2079\u001b[0m         \u001b[0mmappable\u001b[0m \u001b[0;34m=\u001b[0m \u001b[0mgci\u001b[0m\u001b[0;34m(\u001b[0m\u001b[0;34m)\u001b[0m\u001b[0;34m\u001b[0m\u001b[0;34m\u001b[0m\u001b[0m\n\u001b[1;32m   2080\u001b[0m         \u001b[0;32mif\u001b[0m \u001b[0mmappable\u001b[0m \u001b[0;32mis\u001b[0m \u001b[0;32mNone\u001b[0m\u001b[0;34m:\u001b[0m\u001b[0;34m\u001b[0m\u001b[0;34m\u001b[0m\u001b[0m\n\u001b[0;32m-> 2081\u001b[0;31m             raise RuntimeError('No mappable was found to use for colorbar '\n\u001b[0m\u001b[1;32m   2082\u001b[0m                                \u001b[0;34m'creation. First define a mappable such as '\u001b[0m\u001b[0;34m\u001b[0m\u001b[0;34m\u001b[0m\u001b[0m\n\u001b[1;32m   2083\u001b[0m                                \u001b[0;34m'an image (with imshow) or a contour set ('\u001b[0m\u001b[0;34m\u001b[0m\u001b[0;34m\u001b[0m\u001b[0m\n",
      "\u001b[0;31mRuntimeError\u001b[0m: No mappable was found to use for colorbar creation. First define a mappable such as an image (with imshow) or a contour set (with contourf)."
     ]
    },
    {
     "data": {
      "image/png": "[encoded data removed]",
      "text/plain": [
       "<Figure size 432x288 with 10 Axes>"
      ]
     },
     "metadata": {
      "needs_background": "light"
     },
     "output_type": "display_data"
    }
   ],
   "source": [
    "fig = plt.figure()\n",
    "for i in range(10):\n",
    "    ii = i+1\n",
    "    ax = plt.subplot(2,5,ii)\n",
    "    ax.imshow(a[i,:,:,0], cmap='jet', vmin=-1, vmax=8)\n",
    "plt.colorbar()\n",
    "plt.show()"
   ]
  },
  {
   "cell_type": "code",
   "execution_count": 203,
   "metadata": {},
   "outputs": [],
   "source": [
    "data = np.load(\"/home/tkurihana/Research/data3/200801/cloud_types_npy/A2008.001.0035.npy\")"
   ]
  },
  {
   "cell_type": "code",
   "execution_count": 204,
   "metadata": {},
   "outputs": [
    {
     "data": {
      "text/plain": [
       "(1, 2030, 1354, 1)"
      ]
     },
     "execution_count": 204,
     "metadata": {},
     "output_type": "execute_result"
    }
   ],
   "source": [
    "data.shape"
   ]
  },
  {
   "cell_type": "code",
   "execution_count": 205,
   "metadata": {},
   "outputs": [
    {
     "data": {
      "text/plain": [
       "([<matplotlib.axis.XTick at 0x7feb44c0acc0>,\n",
       "  <matplotlib.axis.XTick at 0x7feb44c0a080>,\n",
       "  <matplotlib.axis.XTick at 0x7feb44c0a128>],\n",
       " <a list of 3 Text xticklabel objects>)"
      ]
     },
     "execution_count": 205,
     "metadata": {},
     "output_type": "execute_result"
    },
    {
     "data": {
      "image/png": "[encoded data removed]",
      "text/plain": [
       "<Figure size 432x288 with 1 Axes>"
      ]
     },
     "metadata": {
      "needs_background": "light"
     },
     "output_type": "display_data"
    }
   ],
   "source": [
    "plt.hist(data.ravel())\n",
    "plt.xticks([-1,0,1])"
   ]
  },
  {
   "cell_type": "code",
   "execution_count": 225,
   "metadata": {},
   "outputs": [
    {
     "data": {
      "image/png": "[encoded data removed]",
      "text/plain": [
       "<Figure size 864x288 with 2 Axes>"
      ]
     },
     "metadata": {
      "needs_background": "light"
     },
     "output_type": "display_data"
    }
   ],
   "source": [
    "fig = plt.figure(figsize=(12,4))\n",
    "for i in range(1):\n",
    "    ii = i+1\n",
    "    ax = plt.subplot(1,1,ii)\n",
    "    plt.imshow(data[0,:,:,0], cmap='Paired', vmin=-1, vmax=8)\n",
    "    plt.colorbar()\n",
    "fig.tight_layout()\n",
    "plt.show()"
   ]
  },
  {
   "cell_type": "markdown",
   "metadata": {},
   "source": []
  }
 ],
 "metadata": {
  "kernelspec": {
   "display_name": "Python 3",
   "language": "python",
   "name": "python3"
  },
  "language_info": {
   "codemirror_mode": {
    "name": "ipython",
    "version": 3
   },
   "file_extension": ".py",
   "mimetype": "text/x-python",
   "name": "python",
   "nbconvert_exporter": "python",
   "pygments_lexer": "ipython3",
   "version": "3.6.9"
  }
 },
 "nbformat": 4,
 "nbformat_minor": 2
}
