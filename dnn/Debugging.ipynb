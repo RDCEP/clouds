{
 "cells": [
  {
   "cell_type": "code",
   "execution_count": 1,
   "metadata": {
    "nbpresent": {
     "id": "32e31bc1-29ba-40f2-831e-a4ee79d5b8aa"
    }
   },
   "outputs": [],
   "source": [
    "%load_ext autoreload\n",
    "%autoreload 2"
   ]
  },
  {
   "cell_type": "code",
   "execution_count": 2,
   "metadata": {
    "nbpresent": {
     "id": "37a7a63f-a454-443b-b970-4d513e56bbd0"
    }
   },
   "outputs": [],
   "source": [
    "from osgeo import gdal\n",
    "import numpy as np\n",
    "import tensorflow as tf"
   ]
  },
  {
   "cell_type": "code",
   "execution_count": 38,
   "metadata": {
    "nbpresent": {
     "id": "1217ec0f-9123-4600-975b-f530de55159e"
    }
   },
   "outputs": [],
   "source": [
    "side = 64\n",
    "file_names = [\n",
    "    \"data/2017-01-01_MOD09GA_background_removal_zero_inputated_image_with_cf_50perc_grid_size10-0000017664-0000000000.tif\",\n",
    "]"
   ]
  },
  {
   "cell_type": "code",
   "execution_count": 136,
   "metadata": {},
   "outputs": [],
   "source": [
    "def read_tiffs():\n",
    "    \n",
    "    for f in file_names:\n",
    "        data = gdal.Open(f)\n",
    "        rows = data.RasterXSize\n",
    "        cols = data.RasterYSize\n",
    "\n",
    "        rows -= rows % side\n",
    "        cols -= cols % side\n",
    "\n",
    "        for xoff in range(0, rows, side):\n",
    "            for yoff in range(0, rows, side):\n",
    "                bands = []\n",
    "                for b in range(data.RasterCount):\n",
    "                    band = data.GetRasterBand(b+1).ReadAsArray(\n",
    "                        xoff,\n",
    "                        yoff,\n",
    "                        win_xsize=side,\n",
    "                        win_ysize=side\n",
    "                    )\n",
    "                    bands.append(band)\n",
    "                    \n",
    "                if all(band is not None for band in bands):\n",
    "                    yield np.stack(bands, axis=-1)"
   ]
  },
  {
   "cell_type": "code",
   "execution_count": 137,
   "metadata": {},
   "outputs": [],
   "source": [
    "p = (tf.data.Dataset\n",
    "    .from_generator(read_tiffs, tf.int16, tf.TensorShape((side, side, 7)))\n",
    "    .apply(tf.contrib.data.shuffle_and_repeat(1000))\n",
    "    .batch(32))"
   ]
  },
  {
   "cell_type": "code",
   "execution_count": 138,
   "metadata": {
    "scrolled": false
   },
   "outputs": [],
   "source": [
    "x = p.make_one_shot_iterator().get_next()"
   ]
  },
  {
   "cell_type": "code",
   "execution_count": 139,
   "metadata": {
    "scrolled": false
   },
   "outputs": [
    {
     "name": "stdout",
     "output_type": "stream",
     "text": [
      "opening session...\n",
      "initializing global variables...\n",
      "running pipeline...\n"
     ]
    }
   ],
   "source": [
    "print(\"opening session...\")\n",
    "with tf.Session() as sess:\n",
    "    print(\"initializing global variables...\")\n",
    "    sess.run(tf.global_variables_initializer())\n",
    "    print(\"running pipeline...\")\n",
    "    y = sess.run(x)"
   ]
  },
  {
   "cell_type": "code",
   "execution_count": 141,
   "metadata": {},
   "outputs": [
    {
     "data": {
      "text/plain": [
       "(32, 64, 64, 7)"
      ]
     },
     "execution_count": 141,
     "metadata": {},
     "output_type": "execute_result"
    }
   ],
   "source": [
    "y.shape"
   ]
  },
  {
   "cell_type": "code",
   "execution_count": null,
   "metadata": {},
   "outputs": [],
   "source": [
    "y.shape"
   ]
  },
  {
   "cell_type": "code",
   "execution_count": null,
   "metadata": {},
   "outputs": [],
   "source": [
    "img = tf.placeholder( tf.int16, [64 * 10, 64 * 13, 7])"
   ]
  },
  {
   "cell_type": "code",
   "execution_count": null,
   "metadata": {},
   "outputs": [],
   "source": [
    "x = np.random.random((64 * 3, 64 * 13, 7))\n",
    "x = np.split(x, 3)\n",
    "x = [np.split(y, 13, axis=1) for y in x] "
   ]
  },
  {
   "cell_type": "code",
   "execution_count": null,
   "metadata": {},
   "outputs": [],
   "source": [
    "x[0][0].shape"
   ]
  },
  {
   "cell_type": "code",
   "execution_count": null,
   "metadata": {
    "nbpresent": {
     "id": "86ce8704-2dad-428a-9ec2-3cec0804088b"
    },
    "scrolled": true
   },
   "outputs": [],
   "source": [
    "side = 64\n",
    "\n",
    "def _reader(fname):\n",
    "    data = gdal.Open(fname, gdal.GA_ReadOnly)\n",
    "    xs = []\n",
    "    for i in range(dataset.RasterCount):\n",
    "        x = data.GetRasterBand(i+1).ReadAsArray()\n",
    "        rows, cols = x.shape\n",
    "        rows -= rows % side\n",
    "        cols -= cols % side\n",
    "        xs.append(x[:rows, :cols])\n",
    "        \n",
    "    return np.stack(xs, axis=2)\n",
    "\n",
    "# Coercing for TF\n",
    "reader = lambda fname: tuple(tf.py_func(_reader, [fname], [tf.int16]))\n",
    "\n",
    "# def splitter(img, nrows, ncols):\n",
    "#     chunks = []\n",
    "#     print(img, nrows, ncols)\n",
    "    \n",
    "#     for row in tf.split(img, nrows, axis=0):\n",
    "#         for sq in tf.split(row, ncols, axis=1):\n",
    "#             sq.set_shape((64, 64, 7))\n",
    "#             chunks.append(sq)\n",
    "            \n",
    "#     return tf.data.Dataset.from_tensor_slices(chunks)\n",
    "    \n",
    "    \n",
    "def _split(big):\n",
    "    \n",
    "    rows, cols, _ = big.size\n",
    "    row_chunks = rows // side\n",
    "    col_chunks = cols // side\n",
    "    \n",
    "    chunks = []\n",
    "    for row in np.split(big, row_chunks):\n",
    "        chunks.extend(np.split(row, col_chunks, axis=1))\n",
    "        \n",
    "    return np.stack(chunks, axis = 4)\n",
    "\n",
    "split = lambda big: tuple(tf.py_func(_split, [big], [tf.int16]))\n",
    "\n",
    "read_and_split = lambda fname: tuple(tf.py_func(_read_and_split, [fname], tf.int16))\n",
    "\n",
    "p = (tf.data.Dataset\n",
    "    .from_tensor_slices(file_names)\n",
    "    .map(reader)\n",
    "    .apply(tf.contrib.data.shuffle_and_repeat(1000))\n",
    "    .prefetch(tf.contrib.data.AUTOTUNE)\n",
    ")"
   ]
  },
  {
   "cell_type": "code",
   "execution_count": null,
   "metadata": {
    "nbpresent": {
     "id": "b5a8851e-d8c3-4400-8ce0-17df9ad02f33"
    }
   },
   "outputs": [],
   "source": [
    "x = p.make_one_shot_iterator().get_next()\n",
    "x"
   ]
  },
  {
   "cell_type": "code",
   "execution_count": null,
   "metadata": {
    "nbpresent": {
     "id": "6bab7269-1be7-4d2a-bd02-c85fa99d48b3"
    }
   },
   "outputs": [],
   "source": [
    "print(\"opening session...\")\n",
    "with tf.Session() as sess:\n",
    "    print(\"initializing global variables...\")\n",
    "    sess.run(tf.global_variables_initializer())\n",
    "    print(\"running pipeline...\")\n",
    "    y = sess.run(x)"
   ]
  },
  {
   "cell_type": "code",
   "execution_count": null,
   "metadata": {
    "nbpresent": {
     "id": "8c3b4d31-67c6-44f0-b271-93d6602a8dcb"
    }
   },
   "outputs": [],
   "source": [
    "y.shape"
   ]
  },
  {
   "cell_type": "code",
   "execution_count": null,
   "metadata": {},
   "outputs": [],
   "source": [
    "x.shape"
   ]
  },
  {
   "cell_type": "code",
   "execution_count": null,
   "metadata": {},
   "outputs": [],
   "source": []
  }
 ],
 "metadata": {
  "kernelspec": {
   "display_name": "Python 3",
   "language": "python",
   "name": "python3"
  },
  "language_info": {
   "codemirror_mode": {
    "name": "ipython",
    "version": 3
   },
   "file_extension": ".py",
   "mimetype": "text/x-python",
   "name": "python",
   "nbconvert_exporter": "python",
   "pygments_lexer": "ipython3",
   "version": "3.6.6"
  }
 },
 "nbformat": 4,
 "nbformat_minor": 2
}
