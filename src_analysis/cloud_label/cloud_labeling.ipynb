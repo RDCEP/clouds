{
 "cells": [
  {
   "cell_type": "markdown",
   "metadata": {},
   "source": [
    "Ruby Werman <br>\n",
    "2019"
   ]
  },
  {
   "cell_type": "markdown",
   "metadata": {},
   "source": [
    "# Cloud labeling\n"
   ]
  },
  {
   "cell_type": "markdown",
   "metadata": {},
   "source": [
    "This notebook reads in MOD02 and M0D35 data for a list of dates and generates images. This enables the user to label and save open and closed patches for the purpose of creating input data for a deep learning model. "
   ]
  },
  {
   "cell_type": "markdown",
   "metadata": {},
   "source": [
    "## Load Module"
   ]
  },
  {
   "cell_type": "code",
   "execution_count": 47,
   "metadata": {},
   "outputs": [],
   "source": [
    "%matplotlib inline\n",
    "%reload_ext autoreload\n",
    "%autoreload 2\n",
    "import os\n",
    "import sys\n",
    "import glob\n",
    "import numpy as np\n",
    "#import matplotlib.pyplot as plt\n",
    "from matplotlib import patches as mpl_patches\n",
    "from pyhdf.SD import SD, SDC\n",
    "import math"
   ]
  },
  {
   "cell_type": "code",
   "execution_count": 48,
   "metadata": {},
   "outputs": [],
   "source": [
    "# directory where your put lib_hdfs\n",
    "# e.g. /home/tkurihana/src/src_share/lib_hdfs\n",
    "homedir='/home/rubywerman/scratch-midway2/lib_hdfs'"
   ]
  },
  {
   "cell_type": "code",
   "execution_count": 49,
   "metadata": {},
   "outputs": [],
   "source": [
    "sys.path.insert(1,os.path.join(sys.path[0],homedir)) # this line helps you to use your own functinos in another directory\n",
    "from alignment_lib import gen_mod02_img_sigle,  gen_mod35_img_single\n",
    "from alignment_lib import mod02_proc_sds_single\n",
    "from alignment_lib import _gen_patches\n",
    "from alignment_lib import const_clouds_array"
   ]
  },
  {
   "cell_type": "code",
   "execution_count": 50,
   "metadata": {},
   "outputs": [],
   "source": [
    "#returns the coded date in the format of year, and days after January 1st\n",
    "#e.g. January 1, 2001 -- > 2001015\n",
    "def get_coded_date(date):\n",
    "    \"\"\"\n",
    "    returns the coded date in \"YYYYDDD\" format\n",
    "    \n",
    "    Inputs: \n",
    "    date: a date in \"YYYY-MM-DD\" format\n",
    "    \n",
    "    Outputs:\n",
    "    a string in \"YYYYDDD\" format\n",
    "    \"\"\"\n",
    "    days_per_month = [31, 28, 31, 30, 31, 30, 31, 31, 30, 31, 30, 31]\n",
    "    days_per_month_leap = [31, 29, 31, 30, 31, 30, 31, 31, 30, 31, 30, 31]\n",
    "    leap_years = [2000, 2004, 2008, 2012]\n",
    "    year = int(date[0:4])\n",
    "    month = int(date[5:7])\n",
    "    day = int(date[8:])\n",
    "    days = day\n",
    "    if month != 1:\n",
    "        calendar = days_per_month\n",
    "        if year in leap_years:\n",
    "            calendar = days_per_month_leap\n",
    "        for m in range(month - 1):\n",
    "            days += calendar[m]\n",
    "    return str(year * 1000 + days)"
   ]
  },
  {
   "cell_type": "markdown",
   "metadata": {},
   "source": [
    "### Load dates "
   ]
  },
  {
   "cell_type": "code",
   "execution_count": 51,
   "metadata": {},
   "outputs": [],
   "source": [
    "# enter name of text file containing the dates\n",
    "file_name = \"/home/rubywerman/clouds/src_analysis/dates/label1.txt\"\n",
    "text_file = open(file_name, \"r\")\n",
    "dates = text_file.read().split('\\n')"
   ]
  },
  {
   "cell_type": "markdown",
   "metadata": {},
   "source": [
    "The `Picture` object makes it simple to store the date, MOD02, and MOD35 data for each date"
   ]
  },
  {
   "cell_type": "code",
   "execution_count": 52,
   "metadata": {},
   "outputs": [],
   "source": [
    "class Picture:\n",
    "    def __init__(self, date, mod02_patches, vhdf_array, plot):\n",
    "        self.date = date\n",
    "        self.mod02_patches = mod02_patches\n",
    "        self.vhdf_array = vhdf_array\n",
    "        self.plot = plot\n",
    "picture_dict = {}"
   ]
  },
  {
   "cell_type": "markdown",
   "metadata": {},
   "source": [
    "The following function is used to load in the MOD02, MOD35, and coded date from your directories"
   ]
  },
  {
   "cell_type": "code",
   "execution_count": 53,
   "metadata": {},
   "outputs": [],
   "source": [
    "#select directory path for given date\n",
    "def get_data(d):\n",
    "    \"\"\"\n",
    "    returns a tuple containing the directory path for the mod02, mod35 data, and the coded data\n",
    "    \n",
    "    Inputs:\n",
    "    d: a string of the date in the format of \"YYYY-MM-DD\"\n",
    "    \n",
    "    Outputs:\n",
    "    tuple of the mod02 data directory, mod35 data directory, and the date in the format of \"YYYYDDD\"\n",
    "    \"\"\"\n",
    "    return (homedir+'/mod02/open_chile_3/' + d, homedir+'/mod35/open_chile_3/' + d, get_coded_date(d))"
   ]
  },
  {
   "cell_type": "markdown",
   "metadata": {},
   "source": [
    "## Generate image"
   ]
  },
  {
   "cell_type": "markdown",
   "metadata": {},
   "source": [
    "The following function `generate_image(d)` takes in a date and creates a cloud image using MOD02 and MOD35 data. The function also adds the image to a dictionary of cloud images. Red squares overlay the image, noting patches that have over .5 percent cloud coverage (this threshold can be changed below by editing the value of `thres`. "
   ]
  },
  {
   "cell_type": "markdown",
   "metadata": {},
   "source": [
    "The generate_image function displays the patches for a given date's cloud data and also saves the relevant mod02 and mod35 data into `pictures_dict`. The function returns all the patch coordinates and the vhdf_array data and the mod02_img"
   ]
  },
  {
   "cell_type": "code",
   "execution_count": 94,
   "metadata": {},
   "outputs": [],
   "source": [
    "def generate_image(d):\n",
    "    #load in the MOD02, MOD35, and coded date for the given date\n",
    "    \"\"\"\n",
    "    Creates images for each patch in a given date's photo where cloud coverage is above the threshold (currently .5)\n",
    "    \n",
    "    Inputs:\n",
    "    d: a string representing a date in the format \"YYYY-MM-DD\"\n",
    "    \n",
    "    Outputs: \n",
    "    list_pics: a list of coordinates for each patch image produced \n",
    "    vhdf_array: a numpy array containing mod35 data, necessary for producing the image\n",
    "    mod02_img: a numpy array containing mod02 data\n",
    "\n",
    "    \"\"\"\n",
    "    try:\n",
    "        mod02_hdfdir, mod35_hdfdir, date = get_data(d)\n",
    "\n",
    "        ### genetate numpy array for mod02, mod35 data\n",
    "        mod02_img = gen_mod02_img_sigle(hdf_datadir=mod02_hdfdir, date=date)\n",
    "        clouds_mask_img = gen_mod35_img_single(hdf_datadir=mod35_hdfdir, date=date)\n",
    "\n",
    "        # generate patch\n",
    "        ## NO normalization to preserve original radiance strength \n",
    "        mod02_patches = _gen_patches(mod02_img, normalization=False)\n",
    "\n",
    "        # cloud patches with at least ${thres} percent of cloud flag within patch\n",
    "        thres = 0.3 # range [0.0 - 1.0] floating points. 0.3 is optimal\n",
    "        clouds_patches_list, clouds_xy_list = const_clouds_array(mod02_patches, clouds_mask_img, thres=thres)\n",
    "\n",
    "        # reconstruct img array from list\n",
    "        ix, iy = mod02_patches.shape[:2]\n",
    "        cimg_array = np.zeros((ix,iy)).astype(np.float64)\n",
    "        cimg_array[:,:] = np.nan\n",
    "        for idx, (x,y) in enumerate(clouds_xy_list):\n",
    "            cimg_array[x,y] = 0  # input is 0 if there is a cloud (0 corresponds to color-list index afterwords)\n",
    "\n",
    "        # load visible band (band 1 out of 36)\n",
    "        hdf_datadir = mod02_hdfdir\n",
    "        vis_file = glob.glob(\n",
    "                hdf_datadir+'/MOD021KM.A'+date+'.mosaic.061.*.EV_250_Aggr1km_RefSB_1.hdf'\n",
    "            )[0]\n",
    "\n",
    "        # get hdf data  \n",
    "        vhdf = SD(vis_file, SDC.READ)\n",
    "\n",
    "        # get sds (science data structure) data\n",
    "        vhdf_sds = vhdf.select(\"EV_250_Aggr1km_RefSB\")\n",
    "\n",
    "        # the vhdf_array data is essential in recreating the image\n",
    "        vhdf_array, vis_band = mod02_proc_sds_single(vhdf_sds)\n",
    "        patches   = mod02_patches\n",
    "        img_array = cimg_array\n",
    "        picture_dict[d] = Picture(d, mod02_img, vhdf_array, None) \n",
    "\n",
    "        aix = []\n",
    "        for x in range(patches.shape[0]):\n",
    "            x1 = x\n",
    "            x2 = x1 + 1\n",
    "            for y in range(patches.shape[1]):\n",
    "                y1 = y\n",
    "                y2 = y1 + 1\n",
    "                if not np.isnan(img_array[x,y]):\n",
    "                    aix.append([[y1, y2, x1, x2], True])\n",
    "                else:\n",
    "                    aix.append([[y1,y2,x1,x2], False])\n",
    "\n",
    "        list_pics = []\n",
    "        for i in range(patches.shape[0]*patches.shape[1]):\n",
    "            p = aix[i][0]\n",
    "            if aix[i][1]:\n",
    "                list_pics.append(aix[i][0])\n",
    "        \n",
    "        rows = columns = math.ceil(math.sqrt(len(list_pics))) \n",
    "        fig, axarr = plt.subplots(rows,columns, figsize=(20,20))\n",
    "        plt.subplots_adjust(hspace=.5)\n",
    "        arr_iter = iter(list_pics)\n",
    "        nums = iter(range(len(list_pics)))\n",
    "        for r in range(rows):\n",
    "            for c in range(columns):\n",
    "                try:\n",
    "                    axarr[r,c].imshow(next(arr_iter)[0])\n",
    "                    axarr[r,c].axis('off')\n",
    "                    axarr[r,c].set_title('%d'%(next(nums)), fontsize=15)\n",
    "                except:\n",
    "                    while r < rows:\n",
    "                        while c < columns:\n",
    "                            plt.delaxes()\n",
    "                            c += 1\n",
    "                        r += 1\n",
    "                    break\n",
    "        plt.show() \n",
    "        return list_pics, vhdf_array, mod02_img\n",
    "    except:\n",
    "        print(\"OOB Error\")\n",
    "        return "
   ]
  },
  {
   "cell_type": "markdown",
   "metadata": {},
   "source": [
    "The following cell iterates through the date list, generates the cloud images broken into patches. "
   ]
  },
  {
   "cell_type": "markdown",
   "metadata": {},
   "source": [
    "## Data Collection"
   ]
  },
  {
   "cell_type": "markdown",
   "metadata": {},
   "source": [
    "The following cells are labeled patch data that is waiting to be exported– my kernel kept shutting down need to fix why. "
   ]
  },
  {
   "cell_type": "code",
   "execution_count": 95,
   "metadata": {},
   "outputs": [],
   "source": [
    "class Patch:        \n",
    "    def __init__(self, date, isOpen, thirtyFive, zeroTwo, label=None, feature=None, has_coord=False, coords=None):\n",
    "        self.date = date\n",
    "        self.isOpen = isOpen\n",
    "        self.thirtyFive = thirtyFive\n",
    "        self.zeroTwo = zeroTwo\n",
    "        self.label = label\n",
    "        self.feature = feature\n",
    "        self.has_coord = has_coord\n",
    "        self.coords = coords\n",
    "        \n",
    "    def print_attr(self):\n",
    "        print(\"date: \" + self.date)\n",
    "        print(\"isOpen: \" + str(self.isOpen))\n",
    "        print(\"label: \" + str(self.label))\n",
    "        if len(self.coords) > 0:\n",
    "            print(\"coords: \")\n",
    "            for i in self.coords:\n",
    "                print(str(i))"
   ]
  },
  {
   "cell_type": "markdown",
   "metadata": {},
   "source": [
    "Create an empty `patch_list` to collect all the open and closed patches to be exported"
   ]
  },
  {
   "cell_type": "code",
   "execution_count": 96,
   "metadata": {},
   "outputs": [],
   "source": [
    "patch_list = []"
   ]
  },
  {
   "cell_type": "markdown",
   "metadata": {},
   "source": [
    "Select a date to label, and run the cell below to generate the image"
   ]
  },
  {
   "cell_type": "code",
   "execution_count": 99,
   "metadata": {},
   "outputs": [],
   "source": [
    "pic_date = \"2007-11-11\"\n",
    "just_one_dates_pics, vhdf_array, mod02_img = generate_image(pic_date)"
   ]
  },
  {
   "cell_type": "markdown",
   "metadata": {},
   "source": [
    "Write the indices for open patches in `open_patches`, and closed patches in `closed_patches`"
   ]
  },
  {
   "cell_type": "code",
   "execution_count": null,
   "metadata": {},
   "outputs": [],
   "source": [
    "open_patches = []\n",
    "closed_patches = [42]"
   ]
  },
  {
   "cell_type": "code",
   "execution_count": 71,
   "metadata": {},
   "outputs": [
    {
     "name": "stdout",
     "output_type": "stream",
     "text": [
      "Process bands 6\n",
      "Process bands 7\n",
      "Process bands 20\n",
      "Process bands 28\n",
      "Process bands 29\n",
      "Process bands 31\n",
      "Process bands 1\n"
     ]
    },
    {
     "data": {
      "text/plain": [
       "<Figure size 1440x1440 with 0 Axes>"
      ]
     },
     "metadata": {},
     "output_type": "display_data"
    }
   ],
   "source": [
    "open_coords = [just_one_dates_pics[i] for i in open_patches] #coords data\n",
    "closed_coords = [just_one_dates_pics[i] for i in closed_patches] #coords data\n",
    "\n",
    "for p in range(len(open_patches)):\n",
    "    patch_list.append(Patch(pic_date, True, vhdf_array, mod02_img, None, None, True, open_coords[p]))\n",
    "for p in range(len(closed_patches)):\n",
    "    patch_list.append(Patch(pic_date, False, vhdf_array, mod02_img, None, None, False, closed_coords[p]))"
   ]
  },
  {
   "cell_type": "markdown",
   "metadata": {},
   "source": [
    "Update mod02 patch data to contain data in the correct format"
   ]
  },
  {
   "cell_type": "code",
   "execution_count": 340,
   "metadata": {},
   "outputs": [],
   "source": [
    "for p in patch_list:\n",
    "    p.zeroTwo = _gen_patches(p.zeroTwo[p.coords[0]*128:p.coords[1]*128, p.coords[2]*128:p.coords[3]*128], normalization=False)"
   ]
  },
  {
   "cell_type": "markdown",
   "metadata": {},
   "source": [
    "### Output data "
   ]
  },
  {
   "cell_type": "markdown",
   "metadata": {},
   "source": [
    "Run the cell below to save the patch list to a file. Update the file name to today's date"
   ]
  },
  {
   "cell_type": "code",
   "execution_count": 342,
   "metadata": {},
   "outputs": [],
   "source": [
    "np.save('/home/rubywerman/clouds/src_analysis/labeled_data/class_patch_data/072219.npy', patch_list)"
   ]
  }
 ],
 "metadata": {
  "kernelspec": {
   "display_name": "Python 3",
   "language": "python",
   "name": "python3"
  },
  "language_info": {
   "codemirror_mode": {
    "name": "ipython",
    "version": 3
   },
   "file_extension": ".py",
   "mimetype": "text/x-python",
   "name": "python",
   "nbconvert_exporter": "python",
   "pygments_lexer": "ipython3",
   "version": "3.6.8"
  }
 },
 "nbformat": 4,
 "nbformat_minor": 2
}
