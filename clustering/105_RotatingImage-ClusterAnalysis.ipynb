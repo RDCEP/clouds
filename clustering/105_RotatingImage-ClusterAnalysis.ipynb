{
 "cells": [
  {
   "cell_type": "markdown",
   "metadata": {},
   "source": [
    "### Notebook to test whether rotating two images are classified to same cluster (or not)"
   ]
  },
  {
   "cell_type": "code",
   "execution_count": 207,
   "metadata": {},
   "outputs": [],
   "source": [
    "%reload_ext autoreload\n",
    "%autoreload 2\n",
    "import os\n",
    "import gc\n",
    "import sys\n",
    "import copy\n",
    "import glob\n",
    "import random\n",
    "import numpy as np\n",
    "import scipy as sc\n",
    "import pandas as pd\n",
    "import tensorflow as tf\n",
    "from tensorflow.contrib.data import parallel_interleave\n",
    "from pyhdf.SD import SD, SDC \n",
    "from scipy import stats\n",
    "\n",
    "# visualization\n",
    "import matplotlib.pyplot as plt\n",
    "from matplotlib.colors import LinearSegmentedColormap\n",
    "from matplotlib import patches as mpl_patches"
   ]
  },
  {
   "cell_type": "code",
   "execution_count": 208,
   "metadata": {},
   "outputs": [],
   "source": [
    "import math"
   ]
  },
  {
   "cell_type": "code",
   "execution_count": 209,
   "metadata": {},
   "outputs": [],
   "source": [
    "#version1\n",
    "from sklearn.model_selection import train_test_split\n",
    "from sklearn.model_selection import cross_val_score\n",
    "from sklearn import svm\n",
    "from sklearn import metrics\n",
    "from sklearn.neural_network import MLPClassifier \n",
    "from sklearn.gaussian_process import GaussianProcessClassifier\n",
    "from sklearn.gaussian_process.kernels import RBF\n",
    "from sklearn.tree import DecisionTreeClassifier\n",
    "from sklearn.ensemble import RandomForestClassifier, AdaBoostClassifier\n",
    "from sklearn.naive_bayes import GaussianNB\n",
    "from sklearn.discriminant_analysis import QuadraticDiscriminantAnalysis\n",
    "\n",
    "#version 2\n",
    "from sklearn.model_selection import cross_validate\n",
    "from sklearn.metrics import recall_score\n",
    "from sklearn.model_selection import KFold\n",
    "from sklearn.model_selection import RepeatedKFold\n",
    "from sklearn.model_selection import ShuffleSplit"
   ]
  },
  {
   "cell_type": "code",
   "execution_count": 3,
   "metadata": {},
   "outputs": [],
   "source": [
    "def data_extractor_resize_fn(filelist,prefetch=1,height=32,width=32,channel=6,read_threads=4, distribute=(1, 0)):\n",
    "    def parser(ser):\n",
    "        \"\"\"\n",
    "        Decode & Pass datast in tf.record\n",
    "        *Cuation*\n",
    "        floating point: tfrecord data ==> tf.float64\n",
    "        \"\"\"\n",
    "        features = {\n",
    "            \"shape\": tf.FixedLenFeature([3], tf.int64),\n",
    "            \"patch\": tf.FixedLenFeature([], tf.string),\n",
    "            \"filename\": tf.FixedLenFeature([], tf.string),\n",
    "            \"coordinate\": tf.FixedLenFeature([2], tf.int64),\n",
    "        }\n",
    "        decoded = tf.parse_single_example(ser, features)\n",
    "        patch = tf.reshape(\n",
    "            tf.decode_raw(decoded[\"patch\"], tf.float64), decoded[\"shape\"]\n",
    "        )\n",
    "        # conversion of tensor\n",
    "        patch = tf.cast(patch, tf.float32)\n",
    "        patch = tf.image.resize_images(patch, (height, width))\n",
    "        return patch\n",
    "    \n",
    "    dataset = (\n",
    "        tf.data.Dataset.list_files(filelist, shuffle=True)\n",
    "            .shard(*distribute)\n",
    "            .apply(\n",
    "            parallel_interleave(\n",
    "                lambda f: tf.data.TFRecordDataset(f).map(parser),\n",
    "                cycle_length=read_threads,\n",
    "                sloppy=True,\n",
    "            )\n",
    "        )\n",
    "    )\n",
    "    iterator = dataset.make_one_shot_iterator()\n",
    "\n",
    "    next_element = iterator.get_next()\n",
    "    patches_list = []\n",
    "    with tf.Session() as sess:\n",
    "        try:\n",
    "            while True:\n",
    "                patch = sess.run(next_element)\n",
    "                patches_list.append(patch)\n",
    "        except tf.errors.OutOfRangeError:\n",
    "            print(\"OutOfRage --> finish process\")\n",
    "            pass\n",
    "    return patches_list"
   ]
  },
  {
   "cell_type": "code",
   "execution_count": 4,
   "metadata": {},
   "outputs": [],
   "source": [
    "def load_latest_model(model_dir, mtype):\n",
    "    #TODO add restart model dir and restart argument?\n",
    "    latest = 0, None\n",
    "    # get trained wegiht \n",
    "    for m in os.listdir(model_dir):\n",
    "        if \".h5\" in m and mtype in m:\n",
    "            epoch = int(m.split(\"-\")[1].replace(\".h5\", \"\"))\n",
    "            latest = max(latest, (epoch, m))\n",
    "\n",
    "    epoch, model_file = latest\n",
    "\n",
    "    if not os.listdir(model_dir):\n",
    "        raise NameError(\"no directory. check model path again\")\n",
    "\n",
    "    print(\" Load {} at {} epoch\".format(mtype, epoch))\n",
    "    model_def = model_dir+'/'+mtype+'.json'\n",
    "    model_weight = model_dir+'/'+mtype+'-'+str(epoch)+'.h5'\n",
    "    with open(model_def, \"r\") as f:\n",
    "        model = tf.keras.models.model_from_json(f.read())\n",
    "    model.load_weights(model_weight)\n",
    "    return model"
   ]
  },
  {
   "cell_type": "code",
   "execution_count": 5,
   "metadata": {},
   "outputs": [],
   "source": [
    "def rotate_fn(images, angles):\n",
    "    \"\"\"\n",
    "    images : 4d tensor [batch, height, width channel]\n",
    "      original oprion - nearest. Additional: biilnear\n",
    "    \"\"\"\n",
    "    rotated_tensor_images = tf.contrib.image.transform(\n",
    "      images,\n",
    "      tf.contrib.image.angles_to_projective_transforms(\n",
    "        angles, tf.cast(tf.shape(images)[1], tf.float32), \n",
    "            tf.cast(tf.shape(images)[2], tf.float32)\n",
    "        ),\n",
    "    )\n",
    "     #interpolation='BILINEAR'\n",
    "    return rotated_tensor_images"
   ]
  },
  {
   "cell_type": "markdown",
   "metadata": {},
   "source": [
    "#### Load dataset"
   ]
  },
  {
   "cell_type": "code",
   "execution_count": 6,
   "metadata": {},
   "outputs": [],
   "source": [
    "tf_datadir = \"/project2/foster/clouds/data/clouds_laads_multiprocessed_2000_2018_band28_29_31_circle_2\"\n",
    "filelist = glob.glob(os.path.join(tf_datadir, '2-10*.tfrecord'))"
   ]
  },
  {
   "cell_type": "code",
   "execution_count": 7,
   "metadata": {},
   "outputs": [
    {
     "name": "stdout",
     "output_type": "stream",
     "text": [
      "WARNING:tensorflow:From <ipython-input-3-9d109b826e66>:30: parallel_interleave (from tensorflow.contrib.data.python.ops.interleave_ops) is deprecated and will be removed in a future version.\n",
      "Instructions for updating:\n",
      "Use `tf.data.experimental.parallel_interleave(...)`.\n",
      "OutOfRage --> finish process\n",
      "NORMAL END\n",
      "(2000, 32, 32, 6)\n"
     ]
    }
   ],
   "source": [
    "## load \n",
    "nfiles = 1\n",
    "fdx = np.random.randint(0,len(filelist),nfiles)\n",
    "patches_list = []\n",
    "for ifile in [filelist[i] for i in fdx]:\n",
    "    patches_list.append(data_extractor_resize_fn([ifile],height=32,width=32,channel=6 ))\n",
    "print(\"NORMAL END\")\n",
    "\n",
    "## get patch\n",
    "height = width = 32\n",
    "channel = 6\n",
    "patches = np.concatenate(\n",
    "    [np.expand_dims(i, axis=0).reshape(1,height,width, channel) for i in patches_list[0]],\n",
    "    axis=0)\n",
    "print(patches.shape)"
   ]
  },
  {
   "cell_type": "code",
   "execution_count": 57,
   "metadata": {},
   "outputs": [],
   "source": [
    "tf_datadir = \"/project2/foster/clouds/data/clouds_laads_rawdecoded_2000_2018\"\n",
    "filelist = glob.glob(os.path.join(tf_datadir, '2-10*.tfrecord'))"
   ]
  },
  {
   "cell_type": "code",
   "execution_count": 58,
   "metadata": {},
   "outputs": [
    {
     "name": "stdout",
     "output_type": "stream",
     "text": [
      "OutOfRage --> finish process\n",
      "NORMAL END\n",
      "(2000, 128, 128, 6)\n"
     ]
    }
   ],
   "source": [
    "## load \n",
    "nfiles = 1\n",
    "fdx = np.random.randint(0,len(filelist),nfiles)\n",
    "patches_list = []\n",
    "for ifile in [filelist[i] for i in fdx]:\n",
    "    patches_list.append(data_extractor_resize_fn([ifile],height=128,width=128,channel=6 ))\n",
    "print(\"NORMAL END\")\n",
    "\n",
    "## get patch\n",
    "height = width = 128\n",
    "channel = 6\n",
    "opatches = np.concatenate(\n",
    "    [np.expand_dims(i, axis=0).reshape(1,height,width, channel) for i in patches_list[0]],\n",
    "    axis=0)\n",
    "print(opatches.shape)"
   ]
  },
  {
   "cell_type": "code",
   "execution_count": 59,
   "metadata": {},
   "outputs": [
    {
     "data": {
      "text/plain": [
       "3674"
      ]
     },
     "execution_count": 59,
     "metadata": {},
     "output_type": "execute_result"
    }
   ],
   "source": [
    "del patches_list\n",
    "gc.collect()"
   ]
  },
  {
   "cell_type": "markdown",
   "metadata": {},
   "source": [
    "-----------------------\n",
    "#### Make dataset"
   ]
  },
  {
   "cell_type": "code",
   "execution_count": 147,
   "metadata": {},
   "outputs": [],
   "source": [
    "idx1 = 759 #1159\n",
    "idx2 = 1926"
   ]
  },
  {
   "cell_type": "code",
   "execution_count": 148,
   "metadata": {},
   "outputs": [],
   "source": [
    "spatches = np.concatenate([np.expand_dims(patches[idx1],axis=0) , np.expand_dims(patches[idx2], axis=0) ], axis=0)\n",
    "sopatches = np.concatenate([np.expand_dims(opatches[idx1],axis=0) , np.expand_dims(opatches[idx2], axis=0) ], axis=0)"
   ]
  },
  {
   "cell_type": "code",
   "execution_count": 149,
   "metadata": {},
   "outputs": [
    {
     "data": {
      "text/plain": [
       "((2, 32, 32, 6), (2, 128, 128, 6))"
      ]
     },
     "execution_count": 149,
     "metadata": {},
     "output_type": "execute_result"
    }
   ],
   "source": [
    "spatches.shape, sopatches.shape"
   ]
  },
  {
   "cell_type": "code",
   "execution_count": 150,
   "metadata": {},
   "outputs": [
    {
     "data": {
      "image/png": "[encoded data removed]",
      "text/plain": [
       "<Figure size 432x288 with 4 Axes>"
      ]
     },
     "metadata": {
      "needs_background": "light"
     },
     "output_type": "display_data"
    }
   ],
   "source": [
    "#plt.figure()\n",
    "fig, ax = plt.subplots(2,2)\n",
    "for i in range(2):\n",
    "    ax[i][0].imshow(spatches[i, :,:,0], cmap='jet')\n",
    "    ax[i][1].imshow(sopatches[i, :,:,0], cmap='jet')\n",
    "plt.show()\n",
    "plt.close()"
   ]
  },
  {
   "cell_type": "code",
   "execution_count": 106,
   "metadata": {},
   "outputs": [
    {
     "data": {
      "text/plain": [
       "181"
      ]
     },
     "execution_count": 106,
     "metadata": {},
     "output_type": "execute_result"
    }
   ],
   "source": [
    "len(np.linspace(0,360, 180+1))"
   ]
  },
  {
   "cell_type": "markdown",
   "metadata": {},
   "source": [
    "Replication and Rotation"
   ]
  },
  {
   "cell_type": "code",
   "execution_count": 115,
   "metadata": {},
   "outputs": [],
   "source": [
    "def copy_rot_fn(patches, height=None, width=None, ch=None, copy_size=None):\n",
    "    img_list = []\n",
    "    for patch in patches:\n",
    "        img_list.extend([np.reshape(patch, (1,height,width,ch))])\n",
    "        img_list.extend([ np.expand_dims(np.copy(patch.reshape(height,width,ch)), axis=0) \n",
    "                     for i in range(copy_size-1)])\n",
    "    imgs = np.concatenate(img_list, axis=0)\n",
    "    print(imgs.shape)\n",
    "    \n",
    "    radians = []\n",
    "    for j in range(patches.shape[0]):\n",
    "        radians.extend([i*math.pi/180 for i in np.linspace(0,360,copy_size+1) ][:-1] )\n",
    "    print(len(radians))\n",
    "    rimgs_tf = rotate_fn(imgs, angles=radians)\n",
    "    rtest_imgs = tf.keras.backend.eval(rimgs_tf)\n",
    "    return rtest_imgs"
   ]
  },
  {
   "cell_type": "code",
   "execution_count": 151,
   "metadata": {},
   "outputs": [
    {
     "name": "stdout",
     "output_type": "stream",
     "text": [
      "(360, 32, 32, 6)\n",
      "360\n"
     ]
    }
   ],
   "source": [
    "rspatches = copy_rot_fn(spatches, height=32, width=32, ch=6, copy_size=180)"
   ]
  },
  {
   "cell_type": "code",
   "execution_count": 152,
   "metadata": {},
   "outputs": [
    {
     "name": "stdout",
     "output_type": "stream",
     "text": [
      "(360, 128, 128, 6)\n",
      "360\n"
     ]
    }
   ],
   "source": [
    "rospatches = copy_rot_fn(sopatches, height=128, width=128, ch=6, copy_size=180)"
   ]
  },
  {
   "cell_type": "code",
   "execution_count": 153,
   "metadata": {},
   "outputs": [
    {
     "data": {
      "text/plain": [
       "7755"
      ]
     },
     "execution_count": 153,
     "metadata": {},
     "output_type": "execute_result"
    }
   ],
   "source": [
    "gc.collect()"
   ]
  },
  {
   "cell_type": "code",
   "execution_count": 154,
   "metadata": {},
   "outputs": [
    {
     "data": {
      "image/png": "[encoded data removed]",
      "text/plain": [
       "<Figure size 432x288 with 4 Axes>"
      ]
     },
     "metadata": {
      "needs_background": "light"
     },
     "output_type": "display_data"
    }
   ],
   "source": [
    "#plt.figure()\n",
    "fig, ax = plt.subplots(2,2)\n",
    "for idx, i in enumerate([10,190]):\n",
    "    ax[idx][0].imshow(rspatches[i, :,:,0], cmap='jet')\n",
    "    ax[idx][1].imshow(rospatches[i, :,:,0], cmap='jet')\n",
    "plt.show()\n",
    "plt.close()"
   ]
  },
  {
   "cell_type": "markdown",
   "metadata": {},
   "source": [
    "Make labeles"
   ]
  },
  {
   "cell_type": "code",
   "execution_count": 155,
   "metadata": {},
   "outputs": [],
   "source": [
    "label = np.array([0 for i in range(180)]+[1 for j in range(180)])"
   ]
  },
  {
   "cell_type": "code",
   "execution_count": 127,
   "metadata": {},
   "outputs": [
    {
     "data": {
      "text/plain": [
       "array([0, 0, 0, 0, 0, 0, 0, 0, 0, 0, 0, 0, 0, 0, 0, 0, 0, 0, 0, 0, 0, 0,\n",
       "       0, 0, 0, 0, 0, 0, 0, 0, 0, 0, 0, 0, 0, 0, 0, 0, 0, 0, 0, 0, 0, 0,\n",
       "       0, 0, 0, 0, 0, 0, 0, 0, 0, 0, 0, 0, 0, 0, 0, 0, 0, 0, 0, 0, 0, 0,\n",
       "       0, 0, 0, 0, 0, 0, 0, 0, 0, 0, 0, 0, 0, 0, 0, 0, 0, 0, 0, 0, 0, 0,\n",
       "       0, 0, 0, 0, 0, 0, 0, 0, 0, 0, 0, 0, 0, 0, 0, 0, 0, 0, 0, 0, 0, 0,\n",
       "       0, 0, 0, 0, 0, 0, 0, 0, 0, 0, 0, 0, 0, 0, 0, 0, 0, 0, 0, 0, 0, 0,\n",
       "       0, 0, 0, 0, 0, 0, 0, 0, 0, 0, 0, 0, 0, 0, 0, 0, 0, 0, 0, 0, 0, 0,\n",
       "       0, 0, 0, 0, 0, 0, 0, 0, 0, 0, 0, 0, 0, 0, 0, 0, 0, 0, 0, 0, 0, 0,\n",
       "       0, 0, 0, 0, 1, 1, 1, 1, 1, 1, 1, 1, 1, 1, 1, 1, 1, 1, 1, 1, 1, 1,\n",
       "       1, 1, 1, 1, 1, 1, 1, 1, 1, 1, 1, 1, 1, 1, 1, 1, 1, 1, 1, 1, 1, 1,\n",
       "       1, 1, 1, 1, 1, 1, 1, 1, 1, 1, 1, 1, 1, 1, 1, 1, 1, 1, 1, 1, 1, 1,\n",
       "       1, 1, 1, 1, 1, 1, 1, 1, 1, 1, 1, 1, 1, 1, 1, 1, 1, 1, 1, 1, 1, 1,\n",
       "       1, 1, 1, 1, 1, 1, 1, 1, 1, 1, 1, 1, 1, 1, 1, 1, 1, 1, 1, 1, 1, 1,\n",
       "       1, 1, 1, 1, 1, 1, 1, 1, 1, 1, 1, 1, 1, 1, 1, 1, 1, 1, 1, 1, 1, 1,\n",
       "       1, 1, 1, 1, 1, 1, 1, 1, 1, 1, 1, 1, 1, 1, 1, 1, 1, 1, 1, 1, 1, 1,\n",
       "       1, 1, 1, 1, 1, 1, 1, 1, 1, 1, 1, 1, 1, 1, 1, 1, 1, 1, 1, 1, 1, 1,\n",
       "       1, 1, 1, 1, 1, 1, 1, 1])"
      ]
     },
     "execution_count": 127,
     "metadata": {},
     "output_type": "execute_result"
    }
   ],
   "source": [
    "label"
   ]
  },
  {
   "cell_type": "markdown",
   "metadata": {},
   "source": [
    "---------\n",
    "### Cross validation"
   ]
  },
  {
   "cell_type": "markdown",
   "metadata": {},
   "source": [
    "##### RI autoencoder"
   ]
  },
  {
   "cell_type": "code",
   "execution_count": 38,
   "metadata": {},
   "outputs": [
    {
     "name": "stdout",
     "output_type": "stream",
     "text": [
      " Load encoder at 100 epoch\n"
     ]
    }
   ],
   "source": [
    "# 67011582; Best model\n",
    "model_datadir = '/home/tkurihana/rotate_invariant/stepbystep/transform/output_model'\n",
    "expname = 67011582\n",
    "model_dir = os.path.join(model_datadir,str(expname) )\n",
    "encoder = load_latest_model(model_dir, mtype='encoder')"
   ]
  },
  {
   "cell_type": "markdown",
   "metadata": {},
   "source": [
    "SVM"
   ]
  },
  {
   "cell_type": "code",
   "execution_count": 160,
   "metadata": {},
   "outputs": [
    {
     "name": "stdout",
     "output_type": "stream",
     "text": [
      "fit_time [0.0428102  0.042449   0.03718114]\n",
      "score_time [0.02959776 0.02359605 0.02604604]\n",
      "test_precision_macro [1.         0.88461538 0.93478261]\n",
      "test_recall_macro [1.    0.85  0.925]\n"
     ]
    }
   ],
   "source": [
    "scoring = ['precision_macro', 'recall_macro']\n",
    "clf = svm.SVC(kernel='linear', C=1, random_state=0)\n",
    "encs = encoder.predict(rspatches)\n",
    "n,h,w,c = encs.shape\n",
    "scores = cross_validate(clf, encs.reshape(n, h*w*c), label, cv=3, scoring=scoring)\n",
    "sorted(scores.keys())\n",
    "for ikey in ['fit_time', 'score_time', 'test_precision_macro', 'test_recall_macro']:\n",
    "    print(ikey, scores[ikey])"
   ]
  },
  {
   "cell_type": "markdown",
   "metadata": {},
   "source": [
    "MLP"
   ]
  },
  {
   "cell_type": "code",
   "execution_count": 162,
   "metadata": {},
   "outputs": [
    {
     "name": "stderr",
     "output_type": "stream",
     "text": [
      "/home/tkurihana/.conda/envs/tf-cpu/lib/python3.6/site-packages/sklearn/neural_network/multilayer_perceptron.py:562: ConvergenceWarning: Stochastic Optimizer: Maximum iterations (1000) reached and the optimization hasn't converged yet.\n",
      "  % self.max_iter, ConvergenceWarning)\n"
     ]
    },
    {
     "name": "stdout",
     "output_type": "stream",
     "text": [
      "fit_time [465.73313999 429.18912554 458.26210046]\n",
      "score_time [0.19261789 0.18226695 0.19763184]\n",
      "test_precision_macro [0.97619048 1.         0.87974684]\n",
      "test_recall_macro [0.975      1.         0.84166667]\n"
     ]
    }
   ],
   "source": [
    "scoring = ['precision_macro', 'recall_macro']\n",
    "#clf =  GaussianProcessClassifier(1.0 * RBF(1.0))\n",
    "clf =  MLPClassifier(alpha=1, max_iter=1000)\n",
    "encs = encoder.predict(rspatches)\n",
    "n,h,w,c = encs.shape\n",
    "scores = cross_validate(clf, encs.reshape(n, h*w*c), label, cv=3, scoring=scoring)\n",
    "sorted(scores.keys())\n",
    "for ikey in ['fit_time', 'score_time', 'test_precision_macro', 'test_recall_macro']:\n",
    "    print(ikey, scores[ikey])"
   ]
  },
  {
   "cell_type": "markdown",
   "metadata": {},
   "source": [
    "RandomForest"
   ]
  },
  {
   "cell_type": "code",
   "execution_count": 165,
   "metadata": {},
   "outputs": [
    {
     "name": "stdout",
     "output_type": "stream",
     "text": [
      "fit_time [0.01096535 0.00961328 0.00961399]\n",
      "score_time [0.00340557 0.003304   0.00328159]\n",
      "test_precision_macro [0.72859704 0.80841901 0.87037037]\n",
      "test_recall_macro [0.64166667 0.80833333 0.825     ]\n"
     ]
    }
   ],
   "source": [
    "scoring = ['precision_macro', 'recall_macro']\n",
    "clf =  RandomForestClassifier(max_depth=5, n_estimators=10, max_features=1)\n",
    "encs = encoder.predict(rspatches)\n",
    "n,h,w,c = encs.shape\n",
    "scores = cross_validate(clf, encs.reshape(n, h*w*c), label, cv=3, scoring=scoring)\n",
    "sorted(scores.keys())\n",
    "for ikey in ['fit_time', 'score_time', 'test_precision_macro', 'test_recall_macro']:\n",
    "    print(ikey, scores[ikey])"
   ]
  },
  {
   "cell_type": "markdown",
   "metadata": {},
   "source": [
    "AdaBoost"
   ]
  },
  {
   "cell_type": "code",
   "execution_count": 166,
   "metadata": {},
   "outputs": [
    {
     "name": "stdout",
     "output_type": "stream",
     "text": [
      "fit_time [2.10979724 1.99257231 1.99868393]\n",
      "score_time [0.02232766 0.02120781 0.02143884]\n",
      "test_precision_macro [0.59169214 0.81578947 0.65111111]\n",
      "test_recall_macro [0.59166667 0.70833333 0.64166667]\n"
     ]
    }
   ],
   "source": [
    "scoring = ['precision_macro', 'recall_macro']\n",
    "clf =  AdaBoostClassifier()\n",
    "encs = encoder.predict(rspatches)\n",
    "n,h,w,c = encs.shape\n",
    "scores = cross_validate(clf, encs.reshape(n, h*w*c), label, cv=3, scoring=scoring)\n",
    "sorted(scores.keys())\n",
    "for ikey in ['fit_time', 'score_time', 'test_precision_macro', 'test_recall_macro']:\n",
    "    print(ikey, scores[ikey])"
   ]
  },
  {
   "cell_type": "markdown",
   "metadata": {},
   "source": [
    "##### NRI autoencoder"
   ]
  },
  {
   "cell_type": "code",
   "execution_count": 90,
   "metadata": {},
   "outputs": [
    {
     "name": "stdout",
     "output_type": "stream",
     "text": [
      " Load encoder at 100000 epoch\n"
     ]
    },
    {
     "name": "stderr",
     "output_type": "stream",
     "text": [
      "/home/tkurihana/.conda/envs/tf-cpu/lib/python3.6/site-packages/tensorflow/python/keras/layers/core.py:791: UserWarning: models is not loaded, but a Lambda layer uses it. It may cause errors.\n",
      "  , UserWarning)\n"
     ]
    }
   ],
   "source": [
    "# 'm2_02_global_2000_2018_band28_29_31'\n",
    "model_datadir = '/home/tkurihana/rotate_invariant/stepbystep/transform/output_model'\n",
    "expname = 'm2_02_global_2000_2018_band28_29_31'\n",
    "model_dir = os.path.join(model_datadir,str(expname) )\n",
    "nriencoder = load_latest_model(model_dir, mtype='encoder')"
   ]
  },
  {
   "cell_type": "code",
   "execution_count": 131,
   "metadata": {},
   "outputs": [],
   "source": [
    "all_encs = nriencoder.predict(opatches)"
   ]
  },
  {
   "cell_type": "code",
   "execution_count": 146,
   "metadata": {},
   "outputs": [
    {
     "name": "stdout",
     "output_type": "stream",
     "text": [
      "(1999, 8, 8, 128)\n"
     ]
    },
    {
     "data": {
      "text/plain": [
       "1925"
      ]
     },
     "execution_count": 146,
     "metadata": {},
     "output_type": "execute_result"
    }
   ],
   "source": [
    "a = np.concatenate( [all_encs[:759], all_encs[760:] ], axis=0 )\n",
    "print(a.shape)\n",
    "n,h,w,c = a.shape\n",
    "b = np.sum(np.square(a.reshape(n, h*w*c) - all_encs[759].reshape(1, h*w*c) ), axis=1)\n",
    "#b.shape\n",
    "np.argmin(b, axis=0 )#"
   ]
  },
  {
   "cell_type": "code",
   "execution_count": 161,
   "metadata": {},
   "outputs": [
    {
     "name": "stdout",
     "output_type": "stream",
     "text": [
      "fit_time [0.28965068 0.23191428 0.22873044]\n",
      "score_time [0.22399664 0.18026686 0.18302131]\n",
      "test_precision_macro [0.81914894 0.81914894 0.81578947]\n",
      "test_recall_macro [0.71666667 0.71666667 0.70833333]\n"
     ]
    }
   ],
   "source": [
    "scoring = ['precision_macro', 'recall_macro']\n",
    "clf = svm.SVC(kernel='linear', C=1, random_state=0)\n",
    "encs = nriencoder.predict(rospatches)\n",
    "n,h,w,c = encs.shape\n",
    "scores = cross_validate(clf, encs.reshape(n, h*w*c), label, cv=3, scoring=scoring)\n",
    "sorted(scores.keys())\n",
    "for ikey in ['fit_time', 'score_time', 'test_precision_macro', 'test_recall_macro']:\n",
    "    print(ikey, scores[ikey])"
   ]
  },
  {
   "cell_type": "code",
   "execution_count": 170,
   "metadata": {},
   "outputs": [
    {
     "name": "stderr",
     "output_type": "stream",
     "text": [
      "/home/tkurihana/.conda/envs/tf-cpu/lib/python3.6/site-packages/sklearn/metrics/classification.py:1143: UndefinedMetricWarning: Precision is ill-defined and being set to 0.0 in labels with no predicted samples.\n",
      "  'precision', 'predicted', average, warn_for)\n"
     ]
    },
    {
     "name": "stdout",
     "output_type": "stream",
     "text": [
      "fit_time [1115.80123019  390.20564508  610.94924712]\n",
      "score_time [0.42552495 0.45352936 0.40470314]\n",
      "test_precision_macro [0.77522936 0.25       0.79126214]\n",
      "test_recall_macro [0.59166667 0.5        0.64166667]\n"
     ]
    }
   ],
   "source": [
    "scoring = ['precision_macro', 'recall_macro']\n",
    "#clf =  GaussianProcessClassifier(1.0 * RBF(1.0))\n",
    "clf =  MLPClassifier(alpha=1, max_iter=1000)\n",
    "encs = nriencoder.predict(rospatches)\n",
    "n,h,w,c = encs.shape\n",
    "scores = cross_validate(clf, encs.reshape(n, h*w*c), label, cv=3, scoring=scoring)\n",
    "sorted(scores.keys())\n",
    "for ikey in ['fit_time', 'score_time', 'test_precision_macro', 'test_recall_macro']:\n",
    "    print(ikey, scores[ikey])"
   ]
  },
  {
   "cell_type": "code",
   "execution_count": 168,
   "metadata": {},
   "outputs": [
    {
     "name": "stdout",
     "output_type": "stream",
     "text": [
      "fit_time [0.01555943 0.00985432 0.00975084]\n",
      "score_time [0.00418973 0.00356746 0.00350118]\n",
      "test_precision_macro [0.88222222 0.95454545 0.99180328]\n",
      "test_recall_macro [0.85833333 0.95       0.99166667]\n"
     ]
    }
   ],
   "source": [
    "scoring = ['precision_macro', 'recall_macro']\n",
    "clf =  RandomForestClassifier(max_depth=5, n_estimators=10, max_features=1)\n",
    "encs = nriencoder.predict(rospatches)\n",
    "n,h,w,c = encs.shape\n",
    "scores = cross_validate(clf, encs.reshape(n, h*w*c), label, cv=3, scoring=scoring)\n",
    "sorted(scores.keys())\n",
    "for ikey in ['fit_time', 'score_time', 'test_precision_macro', 'test_recall_macro']:\n",
    "    print(ikey, scores[ikey])"
   ]
  },
  {
   "cell_type": "code",
   "execution_count": 169,
   "metadata": {},
   "outputs": [
    {
     "name": "stdout",
     "output_type": "stream",
     "text": [
      "fit_time [0.23654938 0.19737792 0.19646788]\n",
      "score_time [0.00362754 0.00360727 0.00359249]\n",
      "test_precision_macro [0.73809524 0.92253521 0.89473684]\n",
      "test_recall_macro [0.7        0.90833333 0.86666667]\n"
     ]
    }
   ],
   "source": [
    "scoring = ['precision_macro', 'recall_macro']\n",
    "clf =  AdaBoostClassifier()\n",
    "encs = nriencoder.predict(rospatches)\n",
    "n,h,w,c = encs.shape\n",
    "scores = cross_validate(clf, encs.reshape(n, h*w*c), label, cv=3, scoring=scoring)\n",
    "sorted(scores.keys())\n",
    "for ikey in ['fit_time', 'score_time', 'test_precision_macro', 'test_recall_macro']:\n",
    "    print(ikey, scores[ikey])"
   ]
  },
  {
   "cell_type": "markdown",
   "metadata": {},
   "source": [
    "---------------------\n",
    "### Cross validation with ROC curve"
   ]
  },
  {
   "cell_type": "code",
   "execution_count": 210,
   "metadata": {},
   "outputs": [],
   "source": [
    "from sklearn.metrics import auc\n",
    "from sklearn.metrics import roc_curve\n",
    "#from scikitplot.metrics import plot_roc_curve\n",
    "from sklearn.model_selection import StratifiedKFold\n",
    "from sklearn.multiclass import OneVsRestClassifier\n",
    "from scipy import interp\n",
    "from sklearn.metrics import roc_auc_score"
   ]
  },
  {
   "cell_type": "code",
   "execution_count": 220,
   "metadata": {},
   "outputs": [
    {
     "data": {
      "text/plain": [
       "'1.16.4'"
      ]
     },
     "execution_count": 220,
     "metadata": {},
     "output_type": "execute_result"
    }
   ],
   "source": [
    "np.__version__"
   ]
  },
  {
   "cell_type": "markdown",
   "metadata": {},
   "source": [
    "- RI Autoencoder"
   ]
  },
  {
   "cell_type": "code",
   "execution_count": 211,
   "metadata": {},
   "outputs": [
    {
     "name": "stdout",
     "output_type": "stream",
     "text": [
      "1.16.4\n"
     ]
    }
   ],
   "source": [
    "import numpy as np\n",
    "print(np.__version__)"
   ]
  },
  {
   "cell_type": "code",
   "execution_count": 223,
   "metadata": {},
   "outputs": [
    {
     "ename": "NameError",
     "evalue": "name 'type_of_target' is not defined",
     "output_type": "error",
     "traceback": [
      "\u001b[0;31m---------------------------------------------------------------------------\u001b[0m",
      "\u001b[0;31mNameError\u001b[0m                                 Traceback (most recent call last)",
      "\u001b[0;32m<ipython-input-223-227044c7fb7a>\u001b[0m in \u001b[0;36m<module>\u001b[0;34m\u001b[0m\n\u001b[1;32m     14\u001b[0m \u001b[0mroc_auc\u001b[0m \u001b[0;34m=\u001b[0m \u001b[0mdict\u001b[0m\u001b[0;34m(\u001b[0m\u001b[0;34m)\u001b[0m\u001b[0;34m\u001b[0m\u001b[0m\n\u001b[1;32m     15\u001b[0m \u001b[0;34m\u001b[0m\u001b[0m\n\u001b[0;32m---> 16\u001b[0;31m \u001b[0mroc_auc_score\u001b[0m\u001b[0;34m(\u001b[0m\u001b[0my_test\u001b[0m\u001b[0;34m,\u001b[0m \u001b[0my_score\u001b[0m\u001b[0;34m)\u001b[0m\u001b[0;34m\u001b[0m\u001b[0m\n\u001b[0m\u001b[1;32m     17\u001b[0m     \u001b[0;31m#roc_auc[i] = auc(fpr[i], tpr[i])\u001b[0m\u001b[0;34m\u001b[0m\u001b[0;34m\u001b[0m\u001b[0m\n\u001b[1;32m     18\u001b[0m \u001b[0;31m#print(a)\u001b[0m\u001b[0;34m\u001b[0m\u001b[0;34m\u001b[0m\u001b[0m\n",
      "\u001b[0;32m~/.conda/envs/tf-cpu/lib/python3.6/site-packages/sklearn/metrics/ranking.py\u001b[0m in \u001b[0;36mroc_auc_score\u001b[0;34m(y_true, y_score, average, sample_weight, max_fpr)\u001b[0m\n",
      "\u001b[0;32m~/.conda/envs/tf-cpu/lib/python3.6/site-packages/sklearn/metrics/base.py\u001b[0m in \u001b[0;36m_average_binary_score\u001b[0;34m(binary_metric, y_true, y_score, average, sample_weight)\u001b[0m\n",
      "\u001b[0;31mNameError\u001b[0m: name 'type_of_target' is not defined"
     ]
    }
   ],
   "source": [
    "encs = encoder.predict(rspatches)\n",
    "n,h,w,c = encs.shape\n",
    "X_train, X_test, y_train, y_test = train_test_split(encs.reshape(n, h*w*c), label, test_size=.3, random_state=0)\n",
    "\n",
    "\n",
    "# Learn to predict each class against the other\n",
    "classifier = OneVsRestClassifier(svm.SVC(kernel='linear', probability=True,\n",
    "                                 C=1, random_state=0))\n",
    "y_score = classifier.fit(X_train, y_train).decision_function(X_test)\n",
    "\n",
    "# Compute ROC curve and ROC area for each class\n",
    "fpr = dict()\n",
    "tpr = dict()\n",
    "roc_auc = dict()\n",
    "\n",
    "roc_auc_score(y_test, y_score)\n",
    "    #roc_auc[i] = auc(fpr[i], tpr[i])\n",
    "#print(a)\n",
    "# Compute micro-average ROC curve and ROC area\n",
    "#fpr[\"micro\"], tpr[\"micro\"], _ = roc_curve(y_test.ravel(), y_score.ravel())\n",
    "#roc_auc[\"micro\"] = auc(fpr[\"micro\"], tpr[\"micro\"])"
   ]
  }
 ],
 "metadata": {
  "kernelspec": {
   "display_name": "Python 3",
   "language": "python",
   "name": "python3"
  },
  "language_info": {
   "codemirror_mode": {
    "name": "ipython",
    "version": 3
   },
   "file_extension": ".py",
   "mimetype": "text/x-python",
   "name": "python",
   "nbconvert_exporter": "python",
   "pygments_lexer": "ipython3",
   "version": "3.6.6"
  }
 },
 "nbformat": 4,
 "nbformat_minor": 2
}
