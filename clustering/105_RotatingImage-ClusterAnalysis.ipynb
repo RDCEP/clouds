{
 "cells": [
  {
   "cell_type": "markdown",
   "metadata": {},
   "source": [
    "### Notebook to test whether rotating two images are classified to same cluster (or not)"
   ]
  },
  {
   "cell_type": "code",
   "execution_count": 1,
   "metadata": {},
   "outputs": [
    {
     "name": "stderr",
     "output_type": "stream",
     "text": [
      "/home/tkurihana/.conda/envs/tf-cpu/lib/python3.6/site-packages/tensorflow/python/framework/dtypes.py:523: FutureWarning: Passing (type, 1) or '1type' as a synonym of type is deprecated; in a future version of numpy, it will be understood as (type, (1,)) / '(1,)type'.\n",
      "  _np_qint8 = np.dtype([(\"qint8\", np.int8, 1)])\n",
      "/home/tkurihana/.conda/envs/tf-cpu/lib/python3.6/site-packages/tensorflow/python/framework/dtypes.py:524: FutureWarning: Passing (type, 1) or '1type' as a synonym of type is deprecated; in a future version of numpy, it will be understood as (type, (1,)) / '(1,)type'.\n",
      "  _np_quint8 = np.dtype([(\"quint8\", np.uint8, 1)])\n",
      "/home/tkurihana/.conda/envs/tf-cpu/lib/python3.6/site-packages/tensorflow/python/framework/dtypes.py:525: FutureWarning: Passing (type, 1) or '1type' as a synonym of type is deprecated; in a future version of numpy, it will be understood as (type, (1,)) / '(1,)type'.\n",
      "  _np_qint16 = np.dtype([(\"qint16\", np.int16, 1)])\n",
      "/home/tkurihana/.conda/envs/tf-cpu/lib/python3.6/site-packages/tensorflow/python/framework/dtypes.py:526: FutureWarning: Passing (type, 1) or '1type' as a synonym of type is deprecated; in a future version of numpy, it will be understood as (type, (1,)) / '(1,)type'.\n",
      "  _np_quint16 = np.dtype([(\"quint16\", np.uint16, 1)])\n",
      "/home/tkurihana/.conda/envs/tf-cpu/lib/python3.6/site-packages/tensorflow/python/framework/dtypes.py:527: FutureWarning: Passing (type, 1) or '1type' as a synonym of type is deprecated; in a future version of numpy, it will be understood as (type, (1,)) / '(1,)type'.\n",
      "  _np_qint32 = np.dtype([(\"qint32\", np.int32, 1)])\n",
      "/home/tkurihana/.conda/envs/tf-cpu/lib/python3.6/site-packages/tensorflow/python/framework/dtypes.py:532: FutureWarning: Passing (type, 1) or '1type' as a synonym of type is deprecated; in a future version of numpy, it will be understood as (type, (1,)) / '(1,)type'.\n",
      "  np_resource = np.dtype([(\"resource\", np.ubyte, 1)])\n"
     ]
    }
   ],
   "source": [
    "%reload_ext autoreload\n",
    "%autoreload 2\n",
    "import os\n",
    "import gc\n",
    "import sys\n",
    "import copy\n",
    "import glob\n",
    "import random\n",
    "import numpy as np\n",
    "import scipy as sc\n",
    "import pandas as pd\n",
    "import tensorflow as tf\n",
    "from tensorflow.contrib.data import parallel_interleave\n",
    "from pyhdf.SD import SD, SDC \n",
    "from scipy import stats\n",
    "\n",
    "# visualization\n",
    "import matplotlib.pyplot as plt\n",
    "from matplotlib.colors import LinearSegmentedColormap\n",
    "from matplotlib import patches as mpl_patches"
   ]
  },
  {
   "cell_type": "code",
   "execution_count": 1,
   "metadata": {},
   "outputs": [],
   "source": [
    "import math\n",
    "import pickle\n",
    "import numpy as np"
   ]
  },
  {
   "cell_type": "code",
   "execution_count": 3,
   "metadata": {},
   "outputs": [],
   "source": [
    "#version1\n",
    "from sklearn.model_selection import train_test_split\n",
    "from sklearn.model_selection import cross_val_score\n",
    "from sklearn import svm\n",
    "from sklearn import metrics\n",
    "from sklearn.neural_network import MLPClassifier \n",
    "from sklearn.gaussian_process import GaussianProcessClassifier\n",
    "from sklearn.gaussian_process.kernels import RBF\n",
    "from sklearn.tree import DecisionTreeClassifier\n",
    "from sklearn.ensemble import RandomForestClassifier, AdaBoostClassifier\n",
    "from sklearn.naive_bayes import GaussianNB\n",
    "from sklearn.discriminant_analysis import QuadraticDiscriminantAnalysis\n",
    "\n",
    "#version 2\n",
    "from sklearn.model_selection import cross_validate\n",
    "from sklearn.metrics import recall_score\n",
    "from sklearn.model_selection import KFold\n",
    "from sklearn.model_selection import RepeatedKFold\n",
    "from sklearn.model_selection import ShuffleSplit"
   ]
  },
  {
   "cell_type": "code",
   "execution_count": 4,
   "metadata": {},
   "outputs": [],
   "source": [
    "def data_extractor_resize_fn(filelist,prefetch=1,height=32,width=32,channel=6,read_threads=4, distribute=(1, 0)):\n",
    "    def parser(ser):\n",
    "        \"\"\"\n",
    "        Decode & Pass datast in tf.record\n",
    "        *Cuation*\n",
    "        floating point: tfrecord data ==> tf.float64\n",
    "        \"\"\"\n",
    "        features = {\n",
    "            \"shape\": tf.FixedLenFeature([3], tf.int64),\n",
    "            \"patch\": tf.FixedLenFeature([], tf.string),\n",
    "            \"filename\": tf.FixedLenFeature([], tf.string),\n",
    "            \"coordinate\": tf.FixedLenFeature([2], tf.int64),\n",
    "        }\n",
    "        decoded = tf.parse_single_example(ser, features)\n",
    "        patch = tf.reshape(\n",
    "            tf.decode_raw(decoded[\"patch\"], tf.float64), decoded[\"shape\"]\n",
    "        )\n",
    "        # conversion of tensor\n",
    "        patch = tf.cast(patch, tf.float32)\n",
    "        patch = tf.image.resize_images(patch, (height, width))\n",
    "        return patch\n",
    "    \n",
    "    dataset = (\n",
    "        tf.data.Dataset.list_files(filelist, shuffle=True)\n",
    "            .shard(*distribute)\n",
    "            .apply(\n",
    "            parallel_interleave(\n",
    "                lambda f: tf.data.TFRecordDataset(f).map(parser),\n",
    "                cycle_length=read_threads,\n",
    "                sloppy=True,\n",
    "            )\n",
    "        )\n",
    "    )\n",
    "    iterator = dataset.make_one_shot_iterator()\n",
    "\n",
    "    next_element = iterator.get_next()\n",
    "    patches_list = []\n",
    "    with tf.Session() as sess:\n",
    "        try:\n",
    "            while True:\n",
    "                patch = sess.run(next_element)\n",
    "                patches_list.append(patch)\n",
    "        except tf.errors.OutOfRangeError:\n",
    "            print(\"OutOfRage --> finish process\")\n",
    "            pass\n",
    "    return patches_list"
   ]
  },
  {
   "cell_type": "code",
   "execution_count": 5,
   "metadata": {},
   "outputs": [],
   "source": [
    "def load_latest_model(model_dir, mtype):\n",
    "    #TODO add restart model dir and restart argument?\n",
    "    latest = 0, None\n",
    "    # get trained wegiht \n",
    "    for m in os.listdir(model_dir):\n",
    "        if \".h5\" in m and mtype in m:\n",
    "            epoch = int(m.split(\"-\")[1].replace(\".h5\", \"\"))\n",
    "            latest = max(latest, (epoch, m))\n",
    "\n",
    "    epoch, model_file = latest\n",
    "\n",
    "    if not os.listdir(model_dir):\n",
    "        raise NameError(\"no directory. check model path again\")\n",
    "\n",
    "    print(\" Load {} at {} epoch\".format(mtype, epoch))\n",
    "    model_def = model_dir+'/'+mtype+'.json'\n",
    "    model_weight = model_dir+'/'+mtype+'-'+str(epoch)+'.h5'\n",
    "    with open(model_def, \"r\") as f:\n",
    "        model = tf.keras.models.model_from_json(f.read())\n",
    "    model.load_weights(model_weight)\n",
    "    return model"
   ]
  },
  {
   "cell_type": "code",
   "execution_count": 6,
   "metadata": {},
   "outputs": [],
   "source": [
    "def rotate_fn(images, angles):\n",
    "    \"\"\"\n",
    "    images : 4d tensor [batch, height, width channel]\n",
    "      original oprion - nearest. Additional: biilnear\n",
    "    \"\"\"\n",
    "    rotated_tensor_images = tf.contrib.image.transform(\n",
    "      images,\n",
    "      tf.contrib.image.angles_to_projective_transforms(\n",
    "        angles, tf.cast(tf.shape(images)[1], tf.float32), \n",
    "            tf.cast(tf.shape(images)[2], tf.float32)\n",
    "        ),\n",
    "    )\n",
    "     #interpolation='BILINEAR'\n",
    "    return rotated_tensor_images"
   ]
  },
  {
   "cell_type": "markdown",
   "metadata": {},
   "source": [
    "#### Load dataset"
   ]
  },
  {
   "cell_type": "code",
   "execution_count": 7,
   "metadata": {},
   "outputs": [],
   "source": [
    "tf_datadir = \"/project2/foster/clouds/data/clouds_laads_multiprocessed_2000_2018_band28_29_31_circle_2\"\n",
    "filelist = glob.glob(os.path.join(tf_datadir, '2-10*.tfrecord'))"
   ]
  },
  {
   "cell_type": "code",
   "execution_count": 8,
   "metadata": {},
   "outputs": [
    {
     "name": "stdout",
     "output_type": "stream",
     "text": [
      "WARNING:tensorflow:From <ipython-input-4-9d109b826e66>:30: parallel_interleave (from tensorflow.contrib.data.python.ops.interleave_ops) is deprecated and will be removed in a future version.\n",
      "Instructions for updating:\n",
      "Use `tf.data.experimental.parallel_interleave(...)`.\n",
      "OutOfRage --> finish process\n",
      "NORMAL END\n",
      "(2000, 32, 32, 6)\n"
     ]
    }
   ],
   "source": [
    "## load \n",
    "nfiles = 1\n",
    "fdx = np.random.randint(0,len(filelist),nfiles)\n",
    "patches_list = []\n",
    "for ifile in [filelist[i] for i in fdx]:\n",
    "    patches_list.append(data_extractor_resize_fn([ifile],height=32,width=32,channel=6 ))\n",
    "print(\"NORMAL END\")\n",
    "\n",
    "## get patch\n",
    "height = width = 32\n",
    "channel = 6\n",
    "patches = np.concatenate(\n",
    "    [np.expand_dims(i, axis=0).reshape(1,height,width, channel) for i in patches_list[0]],\n",
    "    axis=0)\n",
    "print(patches.shape)"
   ]
  },
  {
   "cell_type": "code",
   "execution_count": 9,
   "metadata": {},
   "outputs": [],
   "source": [
    "tf_datadir = \"/project2/foster/clouds/data/clouds_laads_rawdecoded_2000_2018\"\n",
    "filelist = glob.glob(os.path.join(tf_datadir, '2-10*.tfrecord'))"
   ]
  },
  {
   "cell_type": "code",
   "execution_count": 10,
   "metadata": {},
   "outputs": [
    {
     "name": "stdout",
     "output_type": "stream",
     "text": [
      "OutOfRage --> finish process\n",
      "NORMAL END\n",
      "(2000, 128, 128, 6)\n"
     ]
    }
   ],
   "source": [
    "## load \n",
    "nfiles = 1\n",
    "fdx = np.random.randint(0,len(filelist),nfiles)\n",
    "patches_list = []\n",
    "for ifile in [filelist[i] for i in fdx]:\n",
    "    patches_list.append(data_extractor_resize_fn([ifile],height=128,width=128,channel=6 ))\n",
    "print(\"NORMAL END\")\n",
    "\n",
    "## get patch\n",
    "height = width = 128\n",
    "channel = 6\n",
    "opatches = np.concatenate(\n",
    "    [np.expand_dims(i, axis=0).reshape(1,height,width, channel) for i in patches_list[0]],\n",
    "    axis=0)\n",
    "print(opatches.shape)"
   ]
  },
  {
   "cell_type": "code",
   "execution_count": 11,
   "metadata": {},
   "outputs": [
    {
     "data": {
      "text/plain": [
       "2790"
      ]
     },
     "execution_count": 11,
     "metadata": {},
     "output_type": "execute_result"
    }
   ],
   "source": [
    "del patches_list\n",
    "gc.collect()"
   ]
  },
  {
   "cell_type": "markdown",
   "metadata": {},
   "source": [
    "-----------------------\n",
    "#### Make dataset"
   ]
  },
  {
   "cell_type": "code",
   "execution_count": 12,
   "metadata": {},
   "outputs": [],
   "source": [
    "idx1 = 759 #1159\n",
    "idx2 = 1926"
   ]
  },
  {
   "cell_type": "code",
   "execution_count": 13,
   "metadata": {},
   "outputs": [],
   "source": [
    "spatches = np.concatenate([np.expand_dims(patches[idx1],axis=0) , np.expand_dims(patches[idx2], axis=0) ], axis=0)\n",
    "sopatches = np.concatenate([np.expand_dims(opatches[idx1],axis=0) , np.expand_dims(opatches[idx2], axis=0) ], axis=0)"
   ]
  },
  {
   "cell_type": "code",
   "execution_count": 14,
   "metadata": {},
   "outputs": [
    {
     "data": {
      "text/plain": [
       "((2, 32, 32, 6), (2, 128, 128, 6))"
      ]
     },
     "execution_count": 14,
     "metadata": {},
     "output_type": "execute_result"
    }
   ],
   "source": [
    "spatches.shape, sopatches.shape"
   ]
  },
  {
   "cell_type": "code",
   "execution_count": 15,
   "metadata": {},
   "outputs": [
    {
     "data": {
      "image/png": "[encoded data removed]",
      "text/plain": [
       "<Figure size 432x288 with 4 Axes>"
      ]
     },
     "metadata": {
      "needs_background": "light"
     },
     "output_type": "display_data"
    }
   ],
   "source": [
    "#plt.figure()\n",
    "fig, ax = plt.subplots(2,2)\n",
    "for i in range(2):\n",
    "    ax[i][0].imshow(spatches[i, :,:,0], cmap='jet')\n",
    "    ax[i][1].imshow(sopatches[i, :,:,0], cmap='jet')\n",
    "plt.show()\n",
    "plt.close()"
   ]
  },
  {
   "cell_type": "code",
   "execution_count": 106,
   "metadata": {},
   "outputs": [
    {
     "data": {
      "text/plain": [
       "181"
      ]
     },
     "execution_count": 106,
     "metadata": {},
     "output_type": "execute_result"
    }
   ],
   "source": [
    "len(np.linspace(0,360, 180+1))"
   ]
  },
  {
   "cell_type": "markdown",
   "metadata": {},
   "source": [
    "Replication and Rotation"
   ]
  },
  {
   "cell_type": "code",
   "execution_count": 16,
   "metadata": {},
   "outputs": [],
   "source": [
    "def copy_rot_fn(patches, height=None, width=None, ch=None, copy_size=None):\n",
    "    img_list = []\n",
    "    for patch in patches:\n",
    "        img_list.extend([np.reshape(patch, (1,height,width,ch))])\n",
    "        img_list.extend([ np.expand_dims(np.copy(patch.reshape(height,width,ch)), axis=0) \n",
    "                     for i in range(copy_size-1)])\n",
    "    imgs = np.concatenate(img_list, axis=0)\n",
    "    print(imgs.shape)\n",
    "    \n",
    "    radians = []\n",
    "    for j in range(patches.shape[0]):\n",
    "        radians.extend([i*math.pi/180 for i in np.linspace(0,360,copy_size+1) ][:-1] )\n",
    "    print(len(radians))\n",
    "    rimgs_tf = rotate_fn(imgs, angles=radians)\n",
    "    rtest_imgs = tf.keras.backend.eval(rimgs_tf)\n",
    "    return rtest_imgs"
   ]
  },
  {
   "cell_type": "code",
   "execution_count": 129,
   "metadata": {},
   "outputs": [
    {
     "name": "stdout",
     "output_type": "stream",
     "text": [
      "(720, 32, 32, 6)\n",
      "720\n"
     ]
    }
   ],
   "source": [
    "rspatches = copy_rot_fn(spatches, height=32, width=32, ch=6, copy_size=360)"
   ]
  },
  {
   "cell_type": "code",
   "execution_count": 130,
   "metadata": {},
   "outputs": [
    {
     "name": "stdout",
     "output_type": "stream",
     "text": [
      "(720, 128, 128, 6)\n",
      "720\n"
     ]
    }
   ],
   "source": [
    "rospatches = copy_rot_fn(sopatches, height=128, width=128, ch=6, copy_size=360)"
   ]
  },
  {
   "cell_type": "code",
   "execution_count": 131,
   "metadata": {},
   "outputs": [
    {
     "data": {
      "text/plain": [
       "21829"
      ]
     },
     "execution_count": 131,
     "metadata": {},
     "output_type": "execute_result"
    }
   ],
   "source": [
    "gc.collect()"
   ]
  },
  {
   "cell_type": "code",
   "execution_count": 20,
   "metadata": {},
   "outputs": [
    {
     "data": {
      "image/png": "[encoded data removed]",
      "text/plain": [
       "<Figure size 432x288 with 4 Axes>"
      ]
     },
     "metadata": {
      "needs_background": "light"
     },
     "output_type": "display_data"
    }
   ],
   "source": [
    "#plt.figure()\n",
    "fig, ax = plt.subplots(2,2)\n",
    "for idx, i in enumerate([10,190]):\n",
    "    ax[idx][0].imshow(rspatches[i, :,:,0], cmap='jet')\n",
    "    ax[idx][1].imshow(rospatches[i, :,:,0], cmap='jet')\n",
    "plt.show()\n",
    "plt.close()"
   ]
  },
  {
   "cell_type": "markdown",
   "metadata": {},
   "source": [
    "Make labeles"
   ]
  },
  {
   "cell_type": "code",
   "execution_count": 134,
   "metadata": {},
   "outputs": [],
   "source": [
    "label = np.array([0 for i in range(360)]+[1 for j in range(360)])"
   ]
  },
  {
   "cell_type": "code",
   "execution_count": 22,
   "metadata": {},
   "outputs": [
    {
     "data": {
      "text/plain": [
       "array([0, 0, 0, 0, 0, 0, 0, 0, 0, 0, 0, 0, 0, 0, 0, 0, 0, 0, 0, 0, 0, 0,\n",
       "       0, 0, 0, 0, 0, 0, 0, 0, 0, 0, 0, 0, 0, 0, 0, 0, 0, 0, 0, 0, 0, 0,\n",
       "       0, 0, 0, 0, 0, 0, 0, 0, 0, 0, 0, 0, 0, 0, 0, 0, 0, 0, 0, 0, 0, 0,\n",
       "       0, 0, 0, 0, 0, 0, 0, 0, 0, 0, 0, 0, 0, 0, 0, 0, 0, 0, 0, 0, 0, 0,\n",
       "       0, 0, 0, 0, 0, 0, 0, 0, 0, 0, 0, 0, 0, 0, 0, 0, 0, 0, 0, 0, 0, 0,\n",
       "       0, 0, 0, 0, 0, 0, 0, 0, 0, 0, 0, 0, 0, 0, 0, 0, 0, 0, 0, 0, 0, 0,\n",
       "       0, 0, 0, 0, 0, 0, 0, 0, 0, 0, 0, 0, 0, 0, 0, 0, 0, 0, 0, 0, 0, 0,\n",
       "       0, 0, 0, 0, 0, 0, 0, 0, 0, 0, 0, 0, 0, 0, 0, 0, 0, 0, 0, 0, 0, 0,\n",
       "       0, 0, 0, 0, 1, 1, 1, 1, 1, 1, 1, 1, 1, 1, 1, 1, 1, 1, 1, 1, 1, 1,\n",
       "       1, 1, 1, 1, 1, 1, 1, 1, 1, 1, 1, 1, 1, 1, 1, 1, 1, 1, 1, 1, 1, 1,\n",
       "       1, 1, 1, 1, 1, 1, 1, 1, 1, 1, 1, 1, 1, 1, 1, 1, 1, 1, 1, 1, 1, 1,\n",
       "       1, 1, 1, 1, 1, 1, 1, 1, 1, 1, 1, 1, 1, 1, 1, 1, 1, 1, 1, 1, 1, 1,\n",
       "       1, 1, 1, 1, 1, 1, 1, 1, 1, 1, 1, 1, 1, 1, 1, 1, 1, 1, 1, 1, 1, 1,\n",
       "       1, 1, 1, 1, 1, 1, 1, 1, 1, 1, 1, 1, 1, 1, 1, 1, 1, 1, 1, 1, 1, 1,\n",
       "       1, 1, 1, 1, 1, 1, 1, 1, 1, 1, 1, 1, 1, 1, 1, 1, 1, 1, 1, 1, 1, 1,\n",
       "       1, 1, 1, 1, 1, 1, 1, 1, 1, 1, 1, 1, 1, 1, 1, 1, 1, 1, 1, 1, 1, 1,\n",
       "       1, 1, 1, 1, 1, 1, 1, 1])"
      ]
     },
     "execution_count": 22,
     "metadata": {},
     "output_type": "execute_result"
    }
   ],
   "source": [
    "label"
   ]
  },
  {
   "cell_type": "markdown",
   "metadata": {},
   "source": [
    "---------\n",
    "### Cross validation"
   ]
  },
  {
   "cell_type": "markdown",
   "metadata": {},
   "source": [
    "##### RI autoencoder"
   ]
  },
  {
   "cell_type": "code",
   "execution_count": 23,
   "metadata": {},
   "outputs": [
    {
     "name": "stdout",
     "output_type": "stream",
     "text": [
      " Load encoder at 100 epoch\n"
     ]
    }
   ],
   "source": [
    "# 67011582; Best model\n",
    "model_datadir = '/home/tkurihana/rotate_invariant/stepbystep/transform/output_model'\n",
    "expname = 67011582\n",
    "model_dir = os.path.join(model_datadir,str(expname) )\n",
    "encoder = load_latest_model(model_dir, mtype='encoder')"
   ]
  },
  {
   "cell_type": "markdown",
   "metadata": {},
   "source": [
    "SVM"
   ]
  },
  {
   "cell_type": "code",
   "execution_count": 160,
   "metadata": {},
   "outputs": [
    {
     "name": "stdout",
     "output_type": "stream",
     "text": [
      "fit_time [0.0428102  0.042449   0.03718114]\n",
      "score_time [0.02959776 0.02359605 0.02604604]\n",
      "test_precision_macro [1.         0.88461538 0.93478261]\n",
      "test_recall_macro [1.    0.85  0.925]\n"
     ]
    }
   ],
   "source": [
    "scoring = ['precision_macro', 'recall_macro']\n",
    "clf = svm.SVC(kernel='linear', C=1, random_state=0)\n",
    "encs = encoder.predict(rspatches)\n",
    "n,h,w,c = encs.shape\n",
    "scores = cross_validate(clf, encs.reshape(n, h*w*c), label, cv=3, scoring=scoring)\n",
    "sorted(scores.keys())\n",
    "for ikey in ['fit_time', 'score_time', 'test_precision_macro', 'test_recall_macro']:\n",
    "    print(ikey, scores[ikey])"
   ]
  },
  {
   "cell_type": "markdown",
   "metadata": {},
   "source": [
    "MLP"
   ]
  },
  {
   "cell_type": "code",
   "execution_count": 162,
   "metadata": {},
   "outputs": [
    {
     "name": "stderr",
     "output_type": "stream",
     "text": [
      "/home/tkurihana/.conda/envs/tf-cpu/lib/python3.6/site-packages/sklearn/neural_network/multilayer_perceptron.py:562: ConvergenceWarning: Stochastic Optimizer: Maximum iterations (1000) reached and the optimization hasn't converged yet.\n",
      "  % self.max_iter, ConvergenceWarning)\n"
     ]
    },
    {
     "name": "stdout",
     "output_type": "stream",
     "text": [
      "fit_time [465.73313999 429.18912554 458.26210046]\n",
      "score_time [0.19261789 0.18226695 0.19763184]\n",
      "test_precision_macro [0.97619048 1.         0.87974684]\n",
      "test_recall_macro [0.975      1.         0.84166667]\n"
     ]
    }
   ],
   "source": [
    "scoring = ['precision_macro', 'recall_macro']\n",
    "#clf =  GaussianProcessClassifier(1.0 * RBF(1.0))\n",
    "clf =  MLPClassifier(alpha=1, max_iter=1000)\n",
    "encs = encoder.predict(rspatches)\n",
    "n,h,w,c = encs.shape\n",
    "scores = cross_validate(clf, encs.reshape(n, h*w*c), label, cv=3, scoring=scoring)\n",
    "sorted(scores.keys())\n",
    "for ikey in ['fit_time', 'score_time', 'test_precision_macro', 'test_recall_macro']:\n",
    "    print(ikey, scores[ikey])"
   ]
  },
  {
   "cell_type": "markdown",
   "metadata": {},
   "source": [
    "RandomForest"
   ]
  },
  {
   "cell_type": "code",
   "execution_count": 165,
   "metadata": {},
   "outputs": [
    {
     "name": "stdout",
     "output_type": "stream",
     "text": [
      "fit_time [0.01096535 0.00961328 0.00961399]\n",
      "score_time [0.00340557 0.003304   0.00328159]\n",
      "test_precision_macro [0.72859704 0.80841901 0.87037037]\n",
      "test_recall_macro [0.64166667 0.80833333 0.825     ]\n"
     ]
    }
   ],
   "source": [
    "scoring = ['precision_macro', 'recall_macro']\n",
    "clf =  RandomForestClassifier(max_depth=5, n_estimators=10, max_features=1)\n",
    "encs = encoder.predict(rspatches)\n",
    "n,h,w,c = encs.shape\n",
    "scores = cross_validate(clf, encs.reshape(n, h*w*c), label, cv=3, scoring=scoring)\n",
    "sorted(scores.keys())\n",
    "for ikey in ['fit_time', 'score_time', 'test_precision_macro', 'test_recall_macro']:\n",
    "    print(ikey, scores[ikey])"
   ]
  },
  {
   "cell_type": "markdown",
   "metadata": {},
   "source": [
    "AdaBoost"
   ]
  },
  {
   "cell_type": "code",
   "execution_count": 166,
   "metadata": {},
   "outputs": [
    {
     "name": "stdout",
     "output_type": "stream",
     "text": [
      "fit_time [2.10979724 1.99257231 1.99868393]\n",
      "score_time [0.02232766 0.02120781 0.02143884]\n",
      "test_precision_macro [0.59169214 0.81578947 0.65111111]\n",
      "test_recall_macro [0.59166667 0.70833333 0.64166667]\n"
     ]
    }
   ],
   "source": [
    "scoring = ['precision_macro', 'recall_macro']\n",
    "clf =  AdaBoostClassifier()\n",
    "encs = encoder.predict(rspatches)\n",
    "n,h,w,c = encs.shape\n",
    "scores = cross_validate(clf, encs.reshape(n, h*w*c), label, cv=3, scoring=scoring)\n",
    "sorted(scores.keys())\n",
    "for ikey in ['fit_time', 'score_time', 'test_precision_macro', 'test_recall_macro']:\n",
    "    print(ikey, scores[ikey])"
   ]
  },
  {
   "cell_type": "markdown",
   "metadata": {},
   "source": [
    "##### NRI autoencoder"
   ]
  },
  {
   "cell_type": "code",
   "execution_count": 32,
   "metadata": {},
   "outputs": [
    {
     "name": "stdout",
     "output_type": "stream",
     "text": [
      " Load encoder at 100000 epoch\n"
     ]
    },
    {
     "name": "stderr",
     "output_type": "stream",
     "text": [
      "/home/tkurihana/.conda/envs/tf-cpu/lib/python3.6/site-packages/tensorflow/python/keras/layers/core.py:791: UserWarning: models is not loaded, but a Lambda layer uses it. It may cause errors.\n",
      "  , UserWarning)\n"
     ]
    }
   ],
   "source": [
    "# 'm2_02_global_2000_2018_band28_29_31'\n",
    "model_datadir = '/home/tkurihana/rotate_invariant/stepbystep/transform/output_model'\n",
    "expname = 'm2_02_global_2000_2018_band28_29_31'\n",
    "model_dir = os.path.join(model_datadir,str(expname) )\n",
    "nriencoder = load_latest_model(model_dir, mtype='encoder')"
   ]
  },
  {
   "cell_type": "markdown",
   "metadata": {},
   "source": [
    "-------------\n",
    "Compute where is the similar descriptor"
   ]
  },
  {
   "cell_type": "code",
   "execution_count": 153,
   "metadata": {},
   "outputs": [],
   "source": [
    "all_encs = nriencoder.predict(opatches)"
   ]
  },
  {
   "cell_type": "code",
   "execution_count": 146,
   "metadata": {},
   "outputs": [
    {
     "name": "stdout",
     "output_type": "stream",
     "text": [
      "(1999, 8, 8, 128)\n"
     ]
    },
    {
     "data": {
      "text/plain": [
       "1925"
      ]
     },
     "execution_count": 146,
     "metadata": {},
     "output_type": "execute_result"
    }
   ],
   "source": [
    "a = np.concatenate( [all_encs[:759], all_encs[760:] ], axis=0 )\n",
    "print(a.shape)\n",
    "n,h,w,c = a.shape\n",
    "b = np.sum(np.square(a.reshape(n, h*w*c) - all_encs[759].reshape(1, h*w*c) ), axis=1)\n",
    "#b.shape\n",
    "np.argmin(b, axis=0 )#"
   ]
  },
  {
   "cell_type": "markdown",
   "metadata": {},
   "source": [
    "Compute for other patches"
   ]
  },
  {
   "cell_type": "markdown",
   "metadata": {},
   "source": [
    "09/10 midnight memo: Need to record square distance and choose first 100 smallest pair for comparison"
   ]
  },
  {
   "cell_type": "code",
   "execution_count": 158,
   "metadata": {},
   "outputs": [],
   "source": [
    "index_list = []\n",
    "for i in range(2000):\n",
    "#for _ in range(1):\n",
    "#    i = 759\n",
    "    #if i < 1999:\n",
    "    #    a = np.concatenate( [all_encs[:i], all_encs[i+1:] ], axis=0 )\n",
    "    #elif i == 1999:\n",
    "    #    a =all_encs[:i]\n",
    "    #print(a.shape)\n",
    "    n,h,w,c = all_encs.shape\n",
    "    b = np.sum(np.square(all_encs.reshape(n, h*w*c) - all_encs[i].reshape(1, h*w*c) ), axis=1)\n",
    "    #b.shape\n",
    "    #sid = np.argmin(b, axis=0 )#\n",
    "    #if sid >\n",
    "    bb = b.argsort()\n",
    "    index_list.append(bb[1])"
   ]
  },
  {
   "cell_type": "code",
   "execution_count": 160,
   "metadata": {},
   "outputs": [
    {
     "data": {
      "text/plain": [
       "1926"
      ]
     },
     "execution_count": 160,
     "metadata": {},
     "output_type": "execute_result"
    }
   ],
   "source": [
    "index_list[759]"
   ]
  },
  {
   "cell_type": "code",
   "execution_count": 163,
   "metadata": {},
   "outputs": [],
   "source": [
    "# save the pair patch information\n",
    "with open('./pair_index.txt', 'w') as f:\n",
    "    for idx in index_list:\n",
    "        f.write(str(idx)+'\\n')"
   ]
  },
  {
   "cell_type": "code",
   "execution_count": 168,
   "metadata": {},
   "outputs": [],
   "source": [
    "# save the pair patch information\n",
    "with open('./pair_index.txt', 'r') as f:\n",
    "    data = []\n",
    "    lines = f.read().split('\\n')\n",
    "    for line in lines:\n",
    "        if len(line) > 0:\n",
    "            data.append(int(line))"
   ]
  },
  {
   "cell_type": "markdown",
   "metadata": {},
   "source": [
    "----------------"
   ]
  },
  {
   "cell_type": "code",
   "execution_count": 161,
   "metadata": {},
   "outputs": [
    {
     "name": "stdout",
     "output_type": "stream",
     "text": [
      "fit_time [0.28965068 0.23191428 0.22873044]\n",
      "score_time [0.22399664 0.18026686 0.18302131]\n",
      "test_precision_macro [0.81914894 0.81914894 0.81578947]\n",
      "test_recall_macro [0.71666667 0.71666667 0.70833333]\n"
     ]
    }
   ],
   "source": [
    "scoring = ['precision_macro', 'recall_macro']\n",
    "clf = svm.SVC(kernel='linear', C=1, random_state=0)\n",
    "encs = nriencoder.predict(rospatches)\n",
    "n,h,w,c = encs.shape\n",
    "scores = cross_validate(clf, encs.reshape(n, h*w*c), label, cv=3, scoring=scoring)\n",
    "sorted(scores.keys())\n",
    "for ikey in ['fit_time', 'score_time', 'test_precision_macro', 'test_recall_macro']:\n",
    "    print(ikey, scores[ikey])"
   ]
  },
  {
   "cell_type": "code",
   "execution_count": 170,
   "metadata": {},
   "outputs": [
    {
     "name": "stderr",
     "output_type": "stream",
     "text": [
      "/home/tkurihana/.conda/envs/tf-cpu/lib/python3.6/site-packages/sklearn/metrics/classification.py:1143: UndefinedMetricWarning: Precision is ill-defined and being set to 0.0 in labels with no predicted samples.\n",
      "  'precision', 'predicted', average, warn_for)\n"
     ]
    },
    {
     "name": "stdout",
     "output_type": "stream",
     "text": [
      "fit_time [1115.80123019  390.20564508  610.94924712]\n",
      "score_time [0.42552495 0.45352936 0.40470314]\n",
      "test_precision_macro [0.77522936 0.25       0.79126214]\n",
      "test_recall_macro [0.59166667 0.5        0.64166667]\n"
     ]
    }
   ],
   "source": [
    "scoring = ['precision_macro', 'recall_macro']\n",
    "#clf =  GaussianProcessClassifier(1.0 * RBF(1.0))\n",
    "clf =  MLPClassifier(alpha=1, max_iter=1000)\n",
    "encs = nriencoder.predict(rospatches)\n",
    "n,h,w,c = encs.shape\n",
    "scores = cross_validate(clf, encs.reshape(n, h*w*c), label, cv=3, scoring=scoring)\n",
    "sorted(scores.keys())\n",
    "for ikey in ['fit_time', 'score_time', 'test_precision_macro', 'test_recall_macro']:\n",
    "    print(ikey, scores[ikey])"
   ]
  },
  {
   "cell_type": "code",
   "execution_count": 168,
   "metadata": {},
   "outputs": [
    {
     "name": "stdout",
     "output_type": "stream",
     "text": [
      "fit_time [0.01555943 0.00985432 0.00975084]\n",
      "score_time [0.00418973 0.00356746 0.00350118]\n",
      "test_precision_macro [0.88222222 0.95454545 0.99180328]\n",
      "test_recall_macro [0.85833333 0.95       0.99166667]\n"
     ]
    }
   ],
   "source": [
    "scoring = ['precision_macro', 'recall_macro']\n",
    "clf =  RandomForestClassifier(max_depth=5, n_estimators=10, max_features=1)\n",
    "encs = nriencoder.predict(rospatches)\n",
    "n,h,w,c = encs.shape\n",
    "scores = cross_validate(clf, encs.reshape(n, h*w*c), label, cv=3, scoring=scoring)\n",
    "sorted(scores.keys())\n",
    "for ikey in ['fit_time', 'score_time', 'test_precision_macro', 'test_recall_macro']:\n",
    "    print(ikey, scores[ikey])"
   ]
  },
  {
   "cell_type": "code",
   "execution_count": 169,
   "metadata": {},
   "outputs": [
    {
     "name": "stdout",
     "output_type": "stream",
     "text": [
      "fit_time [0.23654938 0.19737792 0.19646788]\n",
      "score_time [0.00362754 0.00360727 0.00359249]\n",
      "test_precision_macro [0.73809524 0.92253521 0.89473684]\n",
      "test_recall_macro [0.7        0.90833333 0.86666667]\n"
     ]
    }
   ],
   "source": [
    "scoring = ['precision_macro', 'recall_macro']\n",
    "clf =  AdaBoostClassifier()\n",
    "encs = nriencoder.predict(rospatches)\n",
    "n,h,w,c = encs.shape\n",
    "scores = cross_validate(clf, encs.reshape(n, h*w*c), label, cv=3, scoring=scoring)\n",
    "sorted(scores.keys())\n",
    "for ikey in ['fit_time', 'score_time', 'test_precision_macro', 'test_recall_macro']:\n",
    "    print(ikey, scores[ikey])"
   ]
  },
  {
   "cell_type": "markdown",
   "metadata": {},
   "source": [
    "---------------------\n",
    "### Cross validation with ROC curve"
   ]
  },
  {
   "cell_type": "code",
   "execution_count": 26,
   "metadata": {},
   "outputs": [],
   "source": [
    "from sklearn.metrics import auc\n",
    "from sklearn.metrics import roc_curve\n",
    "from sklearn.metrics import plot_roc_curve\n",
    "from sklearn.model_selection import StratifiedKFold\n",
    "from sklearn.multiclass import OneVsRestClassifier\n",
    "from scipy import interp\n",
    "from sklearn.metrics import roc_auc_score"
   ]
  },
  {
   "cell_type": "markdown",
   "metadata": {},
   "source": [
    "- RI Autoencoder"
   ]
  },
  {
   "cell_type": "code",
   "execution_count": 143,
   "metadata": {},
   "outputs": [
    {
     "data": {
      "image/png": "[encoded data removed]",
      "text/plain": [
       "<Figure size 432x288 with 1 Axes>"
      ]
     },
     "metadata": {
      "needs_background": "light"
     },
     "output_type": "display_data"
    }
   ],
   "source": [
    "encs = encoder.predict(rspatches)\n",
    "n,h,w,c = encs.shape\n",
    "X_train, X_test, y_train, y_test = train_test_split(encs.reshape(n, h*w*c), label, test_size=.5, random_state=0)\n",
    "\n",
    "cv = StratifiedKFold(n_splits=7)\n",
    "classifier = svm.SVC(kernel='linear', probability=True,C=1, random_state=0)\n",
    "\n",
    "tprs = []\n",
    "aucs = []\n",
    "mean_fpr = np.linspace(0, 1, 100)\n",
    "\n",
    "fig, ax = plt.subplots()\n",
    "for i, (train, test) in enumerate(cv.split(X_train, y_test)):\n",
    "    classifier.fit(X_train[train], y_train[train])\n",
    "    viz = plot_roc_curve(classifier, X_test[test], y_test[test],\n",
    "                         name='ROC fold {}'.format(i),\n",
    "                         alpha=0.3, lw=1, ax=ax)\n",
    "    interp_tpr = np.interp(mean_fpr, viz.fpr, viz.tpr)\n",
    "    interp_tpr[0] = 0.0\n",
    "    tprs.append(interp_tpr)\n",
    "    aucs.append(viz.roc_auc)\n",
    "\n",
    "ax.plot([0, 1], [0, 1], linestyle='--', lw=2, color='r',\n",
    "        label='Chance', alpha=.8)\n",
    "\n",
    "mean_tpr = np.mean(tprs, axis=0)\n",
    "mean_tpr[-1] = 1.0\n",
    "mean_auc = auc(mean_fpr, mean_tpr)\n",
    "std_auc = np.std(aucs)\n",
    "ax.plot(mean_fpr, mean_tpr, color='b',\n",
    "        label=r'Mean ROC (AUC = %0.2f $\\pm$ %0.2f)' % (mean_auc, std_auc),\n",
    "        lw=2, alpha=.8)\n",
    "\n",
    "std_tpr = np.std(tprs, axis=0)\n",
    "tprs_upper = np.minimum(mean_tpr + std_tpr, 1)\n",
    "tprs_lower = np.maximum(mean_tpr - std_tpr, 0)\n",
    "ax.fill_between(mean_fpr, tprs_lower, tprs_upper, color='grey', alpha=.2,\n",
    "                label=r'$\\pm$ 1 std. dev.')\n",
    "\n",
    "ax.set(xlim=[-0.05, 1.05], ylim=[-0.05, 1.05],\n",
    "       title=\"Receiver operating characteristic example\")\n",
    "ax.legend(loc=\"lower right\")\n",
    "plt.show()"
   ]
  },
  {
   "cell_type": "code",
   "execution_count": 139,
   "metadata": {},
   "outputs": [],
   "source": [
    "# shuffle and split training and test sets\n",
    "encs = nriencoder.predict(rospatches)\n",
    "n,h,w,c = encs.shape\n",
    "X_train, X_test, y_train, y_test = train_test_split(encs.reshape(n, h*w*c), label, test_size=.5, random_state=0)\n",
    "\n",
    "# Learn to predict each class against the other\n",
    "classifier = OneVsRestClassifier(svm.SVC(kernel='linear', probability=True,\n",
    "                                 random_state=0))\n",
    "y_score = classifier.fit(X_train, y_train).decision_function(X_test)\n",
    "\n",
    "# Compute ROC curve and ROC area for each class\n",
    "fpr = dict()\n",
    "tpr = dict()\n",
    "roc_auc = dict()\n",
    "#n_classes = \n",
    "#for i in range(n_classes):\n",
    "i = 0\n",
    "fpr[i], tpr[i], _ = roc_curve(y_test[:], y_score[:])\n",
    "roc_auc[i] = auc(fpr[i], tpr[i])\n",
    "\n",
    "# Compute micro-average ROC curve and ROC area\n",
    "fpr[\"micro\"], tpr[\"micro\"], _ = roc_curve(y_test.ravel(), y_score.ravel())\n",
    "roc_auc[\"micro\"] = auc(fpr[\"micro\"], tpr[\"micro\"])"
   ]
  },
  {
   "cell_type": "code",
   "execution_count": 140,
   "metadata": {},
   "outputs": [
    {
     "data": {
      "text/plain": [
       "{0: array([0., 0., 0., 1.]), 'micro': array([0., 0., 0., 1.])}"
      ]
     },
     "execution_count": 140,
     "metadata": {},
     "output_type": "execute_result"
    }
   ],
   "source": [
    "fpr"
   ]
  },
  {
   "cell_type": "code",
   "execution_count": 141,
   "metadata": {},
   "outputs": [
    {
     "data": {
      "image/png": "[encoded data removed]",
      "text/plain": [
       "<Figure size 432x288 with 1 Axes>"
      ]
     },
     "metadata": {
      "needs_background": "light"
     },
     "output_type": "display_data"
    }
   ],
   "source": [
    "plt.figure()\n",
    "lw = 1\n",
    "plt.plot(fpr[0], tpr[0], color='darkorange',\n",
    "         lw=lw, label='ROC curve (area = %0.2f)' % roc_auc[0])\n",
    "plt.plot([0, 1], [0, 1], color='navy', lw=lw, linestyle='--')\n",
    "plt.xlim([0.0, 1.0])\n",
    "plt.ylim([0.0, 1.05])\n",
    "plt.xlabel('False Positive Rate')\n",
    "plt.ylabel('True Positive Rate')\n",
    "plt.title('Receiver operating characteristic example')\n",
    "plt.legend(loc=\"lower right\")\n",
    "plt.show()"
   ]
  },
  {
   "cell_type": "code",
   "execution_count": 144,
   "metadata": {},
   "outputs": [],
   "source": [
    "# shuffle and split training and test sets\n",
    "encs = nriencoder.predict(rospatches)\n",
    "n,h,w,c = encs.shape\n",
    "X_train, X_test, y_train, y_test = train_test_split(encs.reshape(n, h*w*c), label, test_size=.3, random_state=0)\n",
    "classifier = clf = svm.SVC(kernel='linear', C=1, random_state=0)\n",
    "classifier.fit(X_train, y_train)\n",
    "y_score = classifier.decision_function(X_test)"
   ]
  },
  {
   "cell_type": "code",
   "execution_count": 145,
   "metadata": {},
   "outputs": [
    {
     "name": "stdout",
     "output_type": "stream",
     "text": [
      "Average precision-recall score: 1.00\n"
     ]
    }
   ],
   "source": [
    "from sklearn.metrics import average_precision_score\n",
    "average_precision = average_precision_score(y_test, y_score)\n",
    "\n",
    "print('Average precision-recall score: {0:0.2f}'.format(\n",
    "      average_precision))"
   ]
  },
  {
   "cell_type": "code",
   "execution_count": 146,
   "metadata": {},
   "outputs": [
    {
     "data": {
      "text/plain": [
       "Text(0.5, 1.0, '2-class Precision-Recall curve: AP=1.00')"
      ]
     },
     "execution_count": 146,
     "metadata": {},
     "output_type": "execute_result"
    },
    {
     "data": {
      "image/png": "[encoded data removed]",
      "text/plain": [
       "<Figure size 432x288 with 1 Axes>"
      ]
     },
     "metadata": {
      "needs_background": "light"
     },
     "output_type": "display_data"
    }
   ],
   "source": [
    "from sklearn.metrics import precision_recall_curve\n",
    "from sklearn.metrics import plot_precision_recall_curve\n",
    "import matplotlib.pyplot as plt\n",
    "\n",
    "disp = plot_precision_recall_curve(classifier, X_test, y_test)\n",
    "disp.ax_.set_title('2-class Precision-Recall curve: '\n",
    "                   'AP={0:0.2f}'.format(average_precision))\n"
   ]
  },
  {
   "cell_type": "markdown",
   "metadata": {},
   "source": [
    "----------------\n",
    "Practice for precision-recall curve"
   ]
  },
  {
   "cell_type": "code",
   "execution_count": null,
   "metadata": {},
   "outputs": [],
   "source": [
    "#test_precision_macro [1.         0.88461538 0.93478261]\n",
    "#test_recall_macro [1.    0.85  0.925]\n",
    "#test_precision_macro [0.97619048 1.         0.87974684]\n",
    "#test_recall_macro [0.975      1.         0.84166667]"
   ]
  },
  {
   "cell_type": "code",
   "execution_count": 117,
   "metadata": {},
   "outputs": [
    {
     "data": {
      "text/plain": [
       "dict_keys(['explained_variance', 'r2', 'max_error', 'neg_median_absolute_error', 'neg_mean_absolute_error', 'neg_mean_squared_error', 'neg_mean_squared_log_error', 'neg_root_mean_squared_error', 'neg_mean_poisson_deviance', 'neg_mean_gamma_deviance', 'accuracy', 'roc_auc', 'roc_auc_ovr', 'roc_auc_ovo', 'roc_auc_ovr_weighted', 'roc_auc_ovo_weighted', 'balanced_accuracy', 'average_precision', 'neg_log_loss', 'neg_brier_score', 'adjusted_rand_score', 'homogeneity_score', 'completeness_score', 'v_measure_score', 'mutual_info_score', 'adjusted_mutual_info_score', 'normalized_mutual_info_score', 'fowlkes_mallows_score', 'precision', 'precision_macro', 'precision_micro', 'precision_samples', 'precision_weighted', 'recall', 'recall_macro', 'recall_micro', 'recall_samples', 'recall_weighted', 'f1', 'f1_macro', 'f1_micro', 'f1_samples', 'f1_weighted', 'jaccard', 'jaccard_macro', 'jaccard_micro', 'jaccard_samples', 'jaccard_weighted'])"
      ]
     },
     "execution_count": 117,
     "metadata": {},
     "output_type": "execute_result"
    }
   ],
   "source": [
    "import sklearn\n",
    "sklearn.metrics.SCORERS.keys()"
   ]
  },
  {
   "cell_type": "code",
   "execution_count": 172,
   "metadata": {},
   "outputs": [],
   "source": [
    "from sklearn.model_selection import cross_val_predict\n",
    "scoring = ['accuracy',\n",
    "        'precision',\n",
    "        'recall',\n",
    "        'f1',\n",
    "        'average_precision','roc_auc', ]\n",
    "clf = svm.SVC(kernel='linear', C=1, random_state=0,probability=True)\n",
    "encs = encoder.predict(rspatches)\n",
    "n,h,w,c = encs.shape\n",
    "#scores = cross_val_predict(clf, encs.reshape(n, h*w*c), label, cv=3,method=\"decision_function\")\n",
    "scores = cross_validate(clf, encs.reshape(n, h*w*c), label, cv=3, scoring=scoring)\n",
    "#sorted(scores.keys())\n",
    "#for ikey in ['fit_time', 'score_time', 'test_precision_macro', 'test_recall_macro']:\n",
    "#    print(ikey, scores[ikey])"
   ]
  },
  {
   "cell_type": "code",
   "execution_count": 125,
   "metadata": {},
   "outputs": [
    {
     "data": {
      "text/plain": [
       "{'fit_time': array([0.18272734, 0.16489601, 0.17825198]),\n",
       " 'score_time': array([0.03124642, 0.02666759, 0.02872705]),\n",
       " 'test_accuracy': array([1.   , 0.85 , 0.925]),\n",
       " 'test_precision': array([1.        , 0.76923077, 0.86956522]),\n",
       " 'test_recall': array([1., 1., 1.]),\n",
       " 'test_f1': array([1.        , 0.86956522, 0.93023256]),\n",
       " 'test_average_precision': array([1., 1., 1.]),\n",
       " 'test_roc_auc': array([1., 1., 1.])}"
      ]
     },
     "execution_count": 125,
     "metadata": {},
     "output_type": "execute_result"
    }
   ],
   "source": [
    "scores"
   ]
  },
  {
   "cell_type": "code",
   "execution_count": 173,
   "metadata": {},
   "outputs": [
    {
     "data": {
      "text/plain": [
       "{'fit_time': array([0.59460664, 0.56198645, 0.55058813, 0.55309415, 0.56774044]),\n",
       " 'score_time': array([0.03430271, 0.0378027 , 0.03688693, 0.03876686, 0.04018784]),\n",
       " 'test_accuracy': array([1.        , 0.95138889, 1.        , 1.        , 1.        ]),\n",
       " 'test_precision': array([1.        , 0.91139241, 1.        , 1.        , 1.        ]),\n",
       " 'test_recall': array([1., 1., 1., 1., 1.]),\n",
       " 'test_f1': array([1.        , 0.95364238, 1.        , 1.        , 1.        ]),\n",
       " 'test_average_precision': array([1., 1., 1., 1., 1.]),\n",
       " 'test_roc_auc': array([1., 1., 1., 1., 1.])}"
      ]
     },
     "execution_count": 173,
     "metadata": {},
     "output_type": "execute_result"
    }
   ],
   "source": [
    "scores"
   ]
  },
  {
   "cell_type": "code",
   "execution_count": 78,
   "metadata": {},
   "outputs": [
    {
     "data": {
      "text/plain": [
       "0.9999999999999999"
      ]
     },
     "execution_count": 78,
     "metadata": {},
     "output_type": "execute_result"
    }
   ],
   "source": [
    "average_precision_score(label, scores)"
   ]
  },
  {
   "cell_type": "code",
   "execution_count": null,
   "metadata": {},
   "outputs": [],
   "source": [
    "y_score = classifier.decision_function(X_test)"
   ]
  },
  {
   "cell_type": "code",
   "execution_count": 110,
   "metadata": {},
   "outputs": [],
   "source": [
    "p = [1, 0.88461538, 0.93478261,1, 0.88461538, 0.93478261, 0.7]\n",
    "r = [1., 0.85, 0.925, 1.   , 0.85 , 0.925, 0.7]\n",
    "pp = np.interp(mean_fpr,r, p)\n"
   ]
  },
  {
   "cell_type": "code",
   "execution_count": 105,
   "metadata": {},
   "outputs": [
    {
     "data": {
      "text/plain": [
       "([1.0, 0.85, 0.925, 1.0, 0.85, 0.925],\n",
       " [1, 0.88461538, 0.93478261, 1, 0.88461538, 0.93478261])"
      ]
     },
     "execution_count": 105,
     "metadata": {},
     "output_type": "execute_result"
    }
   ],
   "source": [
    "r,p"
   ]
  },
  {
   "cell_type": "code",
   "execution_count": 106,
   "metadata": {},
   "outputs": [
    {
     "data": {
      "text/plain": [
       "<matplotlib.collections.PathCollection at 0x7fc66d297e48>"
      ]
     },
     "execution_count": 106,
     "metadata": {},
     "output_type": "execute_result"
    },
    {
     "data": {
      "image/png": "[encoded data removed]",
      "text/plain": [
       "<Figure size 432x288 with 1 Axes>"
      ]
     },
     "metadata": {
      "needs_background": "light"
     },
     "output_type": "display_data"
    }
   ],
   "source": [
    "plt.scatter(r,p)"
   ]
  },
  {
   "cell_type": "code",
   "execution_count": 107,
   "metadata": {},
   "outputs": [
    {
     "data": {
      "text/plain": [
       "(array([1.        , 1.        , 1.        , 1.        , 1.        ,\n",
       "        1.        , 1.        , 1.        , 1.        , 1.        ,\n",
       "        1.        , 1.        , 1.        , 1.        , 1.        ,\n",
       "        1.        , 1.        , 1.        , 1.        , 1.        ,\n",
       "        1.        , 1.        , 1.        , 1.        , 1.        ,\n",
       "        1.        , 1.        , 1.        , 1.        , 1.        ,\n",
       "        1.        , 1.        , 1.        , 1.        , 1.        ,\n",
       "        1.        , 1.        , 1.        , 1.        , 1.        ,\n",
       "        1.        , 1.        , 1.        , 1.        , 1.        ,\n",
       "        1.        , 1.        , 1.        , 1.        , 1.        ,\n",
       "        1.        , 1.        , 1.        , 1.        , 1.        ,\n",
       "        1.        , 1.        , 1.        , 1.        , 1.        ,\n",
       "        1.        , 1.        , 1.        , 1.        , 1.        ,\n",
       "        1.        , 1.        , 1.        , 1.        , 1.        ,\n",
       "        1.        , 1.        , 1.        , 1.        , 1.        ,\n",
       "        1.        , 1.        , 1.        , 1.        , 1.        ,\n",
       "        1.        , 1.        , 1.        , 1.        , 1.        ,\n",
       "        1.        , 1.        , 1.        , 1.        , 1.        ,\n",
       "        1.        , 1.        , 0.93478261, 0.93478261, 0.93478261,\n",
       "        0.93478261, 0.93478261, 0.93478261, 0.93478261, 0.93478261]),\n",
       " [1, 0.88461538, 0.93478261, 1, 0.88461538, 0.93478261],\n",
       " [1.0, 0.85, 0.925, 1.0, 0.85, 0.925])"
      ]
     },
     "execution_count": 107,
     "metadata": {},
     "output_type": "execute_result"
    }
   ],
   "source": [
    "pp, p, r"
   ]
  },
  {
   "cell_type": "code",
   "execution_count": 114,
   "metadata": {},
   "outputs": [
    {
     "data": {
      "text/plain": [
       "Text(0, 0.5, 'precision')"
      ]
     },
     "execution_count": 114,
     "metadata": {},
     "output_type": "execute_result"
    },
    {
     "data": {
      "image/png": "[encoded data removed]",
      "text/plain": [
       "<Figure size 432x288 with 1 Axes>"
      ]
     },
     "metadata": {
      "needs_background": "light"
     },
     "output_type": "display_data"
    }
   ],
   "source": [
    "average_precision\n",
    "plt.plot(mean_fpr, pp, '-x')\n",
    "plt.xlabel('reccall')\n",
    "plt.ylabel('precision')"
   ]
  },
  {
   "cell_type": "code",
   "execution_count": null,
   "metadata": {},
   "outputs": [],
   "source": []
  },
  {
   "cell_type": "markdown",
   "metadata": {},
   "source": [
    "NRI - SVM"
   ]
  },
  {
   "cell_type": "code",
   "execution_count": 38,
   "metadata": {},
   "outputs": [
    {
     "data": {
      "image/png": "[encoded data removed]",
      "text/plain": [
       "<Figure size 432x288 with 1 Axes>"
      ]
     },
     "metadata": {
      "needs_background": "light"
     },
     "output_type": "display_data"
    }
   ],
   "source": [
    "encs = nriencoder.predict(rospatches)\n",
    "n,h,w,c = encs.shape\n",
    "X_train, X_test, y_train, y_test = train_test_split(encs.reshape(n, h*w*c), label, test_size=.5, random_state=0)\n",
    "\n",
    "cv = StratifiedKFold(n_splits=4)\n",
    "classifier = svm.SVC(kernel='linear', probability=True,C=1, random_state=0)\n",
    "\n",
    "tprs = []\n",
    "aucs = []\n",
    "mean_fpr = np.linspace(0, 1, 100)\n",
    "\n",
    "fig, ax = plt.subplots()\n",
    "for i, (train, test) in enumerate(cv.split(X_train, y_test)):\n",
    "    classifier.fit(X_train[train], y_train[train])\n",
    "    viz = plot_roc_curve(classifier, X_test[test], y_test[test],\n",
    "                         name='ROC fold {}'.format(i),\n",
    "                         alpha=0.3, lw=1, ax=ax)\n",
    "    interp_tpr = np.interp(mean_fpr, viz.fpr, viz.tpr)\n",
    "    interp_tpr[0] = 0.0\n",
    "    tprs.append(interp_tpr)\n",
    "    aucs.append(viz.roc_auc)\n",
    "\n",
    "ax.plot([0, 1], [0, 1], linestyle='--', lw=2, color='r',\n",
    "        label='Chance', alpha=.8)\n",
    "\n",
    "mean_tpr = np.mean(tprs, axis=0)\n",
    "mean_tpr[-1] = 1.0\n",
    "mean_auc = auc(mean_fpr, mean_tpr)\n",
    "std_auc = np.std(aucs)\n",
    "ax.plot(mean_fpr, mean_tpr, color='b',\n",
    "        label=r'Mean ROC (AUC = %0.2f $\\pm$ %0.2f)' % (mean_auc, std_auc),\n",
    "        lw=2, alpha=.8)\n",
    "\n",
    "std_tpr = np.std(tprs, axis=0)\n",
    "tprs_upper = np.minimum(mean_tpr + std_tpr, 1)\n",
    "tprs_lower = np.maximum(mean_tpr - std_tpr, 0)\n",
    "ax.fill_between(mean_fpr, tprs_lower, tprs_upper, color='grey', alpha=.2,\n",
    "                label=r'$\\pm$ 1 std. dev.')\n",
    "\n",
    "ax.set(xlim=[-0.05, 1.05], ylim=[-0.05, 1.05],\n",
    "       title=\"Receiver operating characteristic example\")\n",
    "ax.legend(loc=\"lower right\")\n",
    "plt.show()"
   ]
  },
  {
   "cell_type": "code",
   "execution_count": 127,
   "metadata": {},
   "outputs": [],
   "source": [
    "#from sklearn.model_selection import cross_val_predict\n",
    "scoring = ['accuracy',\n",
    "        'precision',\n",
    "        'recall',\n",
    "        'f1',\n",
    "        'average_precision','roc_auc', ]\n",
    "clf = svm.SVC(kernel='linear', C=1, random_state=0,probability=True)\n",
    "encs = nriencoder.predict(rospatches)\n",
    "n,h,w,c = encs.shape\n",
    "#scores = cross_val_predict(clf, encs.reshape(n, h*w*c), label, cv=3,method=\"decision_function\")\n",
    "scores = cross_validate(clf, encs.reshape(n, h*w*c), label, cv=3, scoring=scoring)\n",
    "#sorted(scores.keys())\n",
    "#for ikey in ['fit_time', 'score_time', 'test_precision_macro', 'test_recall_macro']:\n",
    "#    print(ikey, scores[ikey])"
   ]
  },
  {
   "cell_type": "code",
   "execution_count": 126,
   "metadata": {},
   "outputs": [
    {
     "data": {
      "text/plain": [
       "{'fit_time': array([0.18272734, 0.16489601, 0.17825198]),\n",
       " 'score_time': array([0.03124642, 0.02666759, 0.02872705]),\n",
       " 'test_accuracy': array([1.   , 0.85 , 0.925]),\n",
       " 'test_precision': array([1.        , 0.76923077, 0.86956522]),\n",
       " 'test_recall': array([1., 1., 1.]),\n",
       " 'test_f1': array([1.        , 0.86956522, 0.93023256]),\n",
       " 'test_average_precision': array([1., 1., 1.]),\n",
       " 'test_roc_auc': array([1., 1., 1.])}"
      ]
     },
     "execution_count": 126,
     "metadata": {},
     "output_type": "execute_result"
    }
   ],
   "source": [
    "scores"
   ]
  },
  {
   "cell_type": "code",
   "execution_count": 128,
   "metadata": {},
   "outputs": [
    {
     "data": {
      "text/plain": [
       "{'fit_time': array([1.46929288, 1.44450974, 1.51003265]),\n",
       " 'score_time': array([0.19366455, 0.18715286, 0.18642998]),\n",
       " 'test_accuracy': array([0.71666667, 0.71666667, 0.70833333]),\n",
       " 'test_precision': array([0.63829787, 0.63829787, 0.63157895]),\n",
       " 'test_recall': array([1., 1., 1.]),\n",
       " 'test_f1': array([0.77922078, 0.77922078, 0.77419355]),\n",
       " 'test_average_precision': array([1., 1., 1.]),\n",
       " 'test_roc_auc': array([1., 1., 1.])}"
      ]
     },
     "execution_count": 128,
     "metadata": {},
     "output_type": "execute_result"
    }
   ],
   "source": [
    "scores"
   ]
  },
  {
   "cell_type": "markdown",
   "metadata": {},
   "source": [
    "##### Check pickle data"
   ]
  },
  {
   "cell_type": "code",
   "execution_count": 3,
   "metadata": {},
   "outputs": [],
   "source": [
    "import pickle\n",
    "with open('./cross_validation/67011582/cv-3/SVM/scores_4433776-0.pkl', 'rb') as handle:\n",
    "    b = pickle.load(handle)"
   ]
  },
  {
   "cell_type": "code",
   "execution_count": 4,
   "metadata": {},
   "outputs": [
    {
     "data": {
      "text/plain": [
       "{'idx-759': {'fit_time': array([0.15966725, 0.15642023, 0.14374208]),\n",
       "  'score_time': array([0.09984303, 0.09586   , 0.09673667]),\n",
       "  'test_accuracy': array([0.99583333, 0.83333333, 0.8625    ]),\n",
       "  'test_precision': array([0.99173554, 0.75      , 0.78431373]),\n",
       "  'test_recall': array([1., 1., 1.]),\n",
       "  'test_f1': array([0.99585062, 0.85714286, 0.87912088]),\n",
       "  'test_average_precision': array([1., 1., 1.]),\n",
       "  'test_roc_auc': array([1., 1., 1.])},\n",
       " 'idx-852': {'fit_time': array([0.30027294, 0.19609547, 0.19750118]),\n",
       "  'score_time': array([0.12302899, 0.10895753, 0.11574221]),\n",
       "  'test_accuracy': array([1., 1., 1.]),\n",
       "  'test_precision': array([1., 1., 1.]),\n",
       "  'test_recall': array([1., 1., 1.]),\n",
       "  'test_f1': array([1., 1., 1.]),\n",
       "  'test_average_precision': array([1., 1., 1.]),\n",
       "  'test_roc_auc': array([1., 1., 1.])},\n",
       " 'idx-765': {'fit_time': array([0.20697618, 0.12135887, 0.12008953]),\n",
       "  'score_time': array([0.09803343, 0.08307099, 0.09532452]),\n",
       "  'test_accuracy': array([1., 1., 1.]),\n",
       "  'test_precision': array([1., 1., 1.]),\n",
       "  'test_recall': array([1., 1., 1.]),\n",
       "  'test_f1': array([1., 1., 1.]),\n",
       "  'test_average_precision': array([1., 1., 1.]),\n",
       "  'test_roc_auc': array([1., 1., 1.])},\n",
       " 'idx-904': {'fit_time': array([0.30520916, 0.28584886, 0.17908716]),\n",
       "  'score_time': array([0.17929554, 0.11839437, 0.10242033]),\n",
       "  'test_accuracy': array([0.75833333, 0.77916667, 0.80833333]),\n",
       "  'test_precision': array([0.6741573 , 0.69364162, 0.72289157]),\n",
       "  'test_recall': array([1., 1., 1.]),\n",
       "  'test_f1': array([0.80536913, 0.81911263, 0.83916084]),\n",
       "  'test_average_precision': array([1.        , 0.99986339, 0.9714982 ]),\n",
       "  'test_roc_auc': array([1.        , 0.99986111, 0.97375   ])},\n",
       " 'idx-1547': {'fit_time': array([0.19496155, 0.18530846, 0.13761473]),\n",
       "  'score_time': array([0.12822294, 0.11139894, 0.08540845]),\n",
       "  'test_accuracy': array([1., 1., 1.]),\n",
       "  'test_precision': array([1., 1., 1.]),\n",
       "  'test_recall': array([1., 1., 1.]),\n",
       "  'test_f1': array([1., 1., 1.]),\n",
       "  'test_average_precision': array([1., 1., 1.]),\n",
       "  'test_roc_auc': array([1., 1., 1.])},\n",
       " 'idx-1882': {'fit_time': array([0.33548307, 0.35439754, 0.24882913]),\n",
       "  'score_time': array([0.23150229, 0.22725272, 0.15577102]),\n",
       "  'test_accuracy': array([1., 1., 1.]),\n",
       "  'test_precision': array([1., 1., 1.]),\n",
       "  'test_recall': array([1., 1., 1.]),\n",
       "  'test_f1': array([1., 1., 1.]),\n",
       "  'test_average_precision': array([1., 1., 1.]),\n",
       "  'test_roc_auc': array([1., 1., 1.])},\n",
       " 'idx-926': {'fit_time': array([0.34027433, 0.32730627, 0.26132917]),\n",
       "  'score_time': array([0.20083976, 0.21721005, 0.15873146]),\n",
       "  'test_accuracy': array([1., 1., 1.]),\n",
       "  'test_precision': array([1., 1., 1.]),\n",
       "  'test_recall': array([1., 1., 1.]),\n",
       "  'test_f1': array([1., 1., 1.]),\n",
       "  'test_average_precision': array([1., 1., 1.]),\n",
       "  'test_roc_auc': array([1., 1., 1.])},\n",
       " 'idx-541': {'fit_time': array([0.30838847, 0.18413448, 0.22580552]),\n",
       "  'score_time': array([0.20040178, 0.13551712, 0.14113998]),\n",
       "  'test_accuracy': array([1., 1., 1.]),\n",
       "  'test_precision': array([1., 1., 1.]),\n",
       "  'test_recall': array([1., 1., 1.]),\n",
       "  'test_f1': array([1., 1., 1.]),\n",
       "  'test_average_precision': array([1., 1., 1.]),\n",
       "  'test_roc_auc': array([1., 1., 1.])},\n",
       " 'idx-1958': {'fit_time': array([0.25601029, 0.17333293, 0.16548347]),\n",
       "  'score_time': array([0.12369275, 0.09995818, 0.11772513]),\n",
       "  'test_accuracy': array([1., 1., 1.]),\n",
       "  'test_precision': array([1., 1., 1.]),\n",
       "  'test_recall': array([1., 1., 1.]),\n",
       "  'test_f1': array([1., 1., 1.]),\n",
       "  'test_average_precision': array([1., 1., 1.]),\n",
       "  'test_roc_auc': array([1., 1., 1.])},\n",
       " 'idx-1834': {'fit_time': array([0.31567907, 0.22002053, 0.22377849]),\n",
       "  'score_time': array([0.15926766, 0.14329052, 0.13916993]),\n",
       "  'test_accuracy': array([1.        , 1.        , 0.97083333]),\n",
       "  'test_precision': array([1., 1., 1.]),\n",
       "  'test_recall': array([1.        , 1.        , 0.94166667]),\n",
       "  'test_f1': array([1.        , 1.        , 0.96995708]),\n",
       "  'test_average_precision': array([1., 1., 1.]),\n",
       "  'test_roc_auc': array([1., 1., 1.])},\n",
       " 'idx-1065': {'fit_time': array([0.18333125, 0.18833828, 0.21398592]),\n",
       "  'score_time': array([0.13394022, 0.13710833, 0.12834001]),\n",
       "  'test_accuracy': array([1.        , 0.99166667, 1.        ]),\n",
       "  'test_precision': array([1.        , 0.98360656, 1.        ]),\n",
       "  'test_recall': array([1., 1., 1.]),\n",
       "  'test_f1': array([1.        , 0.99173554, 1.        ]),\n",
       "  'test_average_precision': array([1., 1., 1.]),\n",
       "  'test_roc_auc': array([1., 1., 1.])},\n",
       " 'idx-1763': {'fit_time': array([0.20319605, 0.18234396, 0.23170066]),\n",
       "  'score_time': array([0.13719749, 0.11268663, 0.14106917]),\n",
       "  'test_accuracy': array([0.7875    , 0.84583333, 0.9       ]),\n",
       "  'test_precision': array([0.70175439, 1.        , 0.83333333]),\n",
       "  'test_recall': array([1.        , 0.69166667, 1.        ]),\n",
       "  'test_f1': array([0.82474227, 0.81773399, 0.90909091]),\n",
       "  'test_average_precision': array([0.99966667, 0.99916048, 0.99767347]),\n",
       "  'test_roc_auc': array([0.99965278, 0.99916667, 0.99770833])},\n",
       " 'idx-160': {'fit_time': array([0.19854641, 0.1966567 , 0.19685721]),\n",
       "  'score_time': array([0.1220696 , 0.12147689, 0.12740493]),\n",
       "  'test_accuracy': array([1.        , 1.        , 0.99166667]),\n",
       "  'test_precision': array([1.        , 1.        , 0.98360656]),\n",
       "  'test_recall': array([1., 1., 1.]),\n",
       "  'test_f1': array([1.        , 1.        , 0.99173554]),\n",
       "  'test_average_precision': array([1., 1., 1.]),\n",
       "  'test_roc_auc': array([1., 1., 1.])},\n",
       " 'idx-497': {'fit_time': array([0.19505548, 0.18009901, 0.18167973]),\n",
       "  'score_time': array([0.10490823, 0.11324406, 0.11907172]),\n",
       "  'test_accuracy': array([1., 1., 1.]),\n",
       "  'test_precision': array([1., 1., 1.]),\n",
       "  'test_recall': array([1., 1., 1.]),\n",
       "  'test_f1': array([1., 1., 1.]),\n",
       "  'test_average_precision': array([1., 1., 1.]),\n",
       "  'test_roc_auc': array([1., 1., 1.])},\n",
       " 'idx-629': {'fit_time': array([0.15875888, 0.17523146, 0.18692875]),\n",
       "  'score_time': array([0.10405374, 0.11541939, 0.12210965]),\n",
       "  'test_accuracy': array([0.84583333, 1.        , 0.77916667]),\n",
       "  'test_precision': array([0.76433121, 1.        , 0.69364162]),\n",
       "  'test_recall': array([1., 1., 1.]),\n",
       "  'test_f1': array([0.86642599, 1.        , 0.81911263]),\n",
       "  'test_average_precision': array([1., 1., 1.]),\n",
       "  'test_roc_auc': array([1., 1., 1.])},\n",
       " 'idx-1933': {'fit_time': array([0.13613057, 0.14430165, 0.13922358]),\n",
       "  'score_time': array([0.09796143, 0.09887028, 0.08592176]),\n",
       "  'test_accuracy': array([1., 1., 1.]),\n",
       "  'test_precision': array([1., 1., 1.]),\n",
       "  'test_recall': array([1., 1., 1.]),\n",
       "  'test_f1': array([1., 1., 1.]),\n",
       "  'test_average_precision': array([1., 1., 1.]),\n",
       "  'test_roc_auc': array([1., 1., 1.])},\n",
       " 'idx-1520': {'fit_time': array([0.14617991, 0.13966322, 0.14110756]),\n",
       "  'score_time': array([0.09823537, 0.09816122, 0.09947228]),\n",
       "  'test_accuracy': array([1., 1., 1.]),\n",
       "  'test_precision': array([1., 1., 1.]),\n",
       "  'test_recall': array([1., 1., 1.]),\n",
       "  'test_f1': array([1., 1., 1.]),\n",
       "  'test_average_precision': array([1., 1., 1.]),\n",
       "  'test_roc_auc': array([1., 1., 1.])},\n",
       " 'idx-242': {'fit_time': array([0.16319847, 0.17333889, 0.17493844]),\n",
       "  'score_time': array([0.10200095, 0.1026926 , 0.10167813]),\n",
       "  'test_accuracy': array([1., 1., 1.]),\n",
       "  'test_precision': array([1., 1., 1.]),\n",
       "  'test_recall': array([1., 1., 1.]),\n",
       "  'test_f1': array([1., 1., 1.]),\n",
       "  'test_average_precision': array([1., 1., 1.]),\n",
       "  'test_roc_auc': array([1., 1., 1.])},\n",
       " 'idx-1182': {'fit_time': array([0.18397236, 0.20138741, 0.16300726]),\n",
       "  'score_time': array([0.11965895, 0.11677957, 0.1138711 ]),\n",
       "  'test_accuracy': array([1.        , 0.88333333, 1.        ]),\n",
       "  'test_precision': array([1.        , 0.81081081, 1.        ]),\n",
       "  'test_recall': array([1., 1., 1.]),\n",
       "  'test_f1': array([1.        , 0.89552239, 1.        ]),\n",
       "  'test_average_precision': array([1., 1., 1.]),\n",
       "  'test_roc_auc': array([1., 1., 1.])},\n",
       " 'idx-1307': {'fit_time': array([0.15987873, 0.16397262, 0.16322994]),\n",
       "  'score_time': array([0.1026783 , 0.11305046, 0.12024546]),\n",
       "  'test_accuracy': array([0.74166667, 0.65      , 0.76666667]),\n",
       "  'test_precision': array([0.65934066, 0.58823529, 0.82      ]),\n",
       "  'test_recall': array([1.        , 1.        , 0.68333333]),\n",
       "  'test_f1': array([0.79470199, 0.74074074, 0.74545455]),\n",
       "  'test_average_precision': array([0.8947537 , 0.52654966, 0.90944025]),\n",
       "  'test_roc_auc': array([0.89201389, 0.64159722, 0.90791667])},\n",
       " 'idx-223': {'fit_time': array([0.22252393, 0.21581984, 0.20645475]),\n",
       "  'score_time': array([0.12292194, 0.13700128, 0.1313746 ]),\n",
       "  'test_accuracy': array([1., 1., 1.]),\n",
       "  'test_precision': array([1., 1., 1.]),\n",
       "  'test_recall': array([1., 1., 1.]),\n",
       "  'test_f1': array([1., 1., 1.]),\n",
       "  'test_average_precision': array([1., 1., 1.]),\n",
       "  'test_roc_auc': array([1., 1., 1.])},\n",
       " 'idx-778': {'fit_time': array([0.22565103, 0.1766057 , 0.17995524]),\n",
       "  'score_time': array([0.10204029, 0.10674357, 0.09993434]),\n",
       "  'test_accuracy': array([1., 1., 1.]),\n",
       "  'test_precision': array([1., 1., 1.]),\n",
       "  'test_recall': array([1., 1., 1.]),\n",
       "  'test_f1': array([1., 1., 1.]),\n",
       "  'test_average_precision': array([1., 1., 1.]),\n",
       "  'test_roc_auc': array([1., 1., 1.])},\n",
       " 'idx-47': {'fit_time': array([0.29285526, 0.20440698, 0.18173838]),\n",
       "  'score_time': array([0.15281224, 0.11165881, 0.11944413]),\n",
       "  'test_accuracy': array([1., 1., 1.]),\n",
       "  'test_precision': array([1., 1., 1.]),\n",
       "  'test_recall': array([1., 1., 1.]),\n",
       "  'test_f1': array([1., 1., 1.]),\n",
       "  'test_average_precision': array([1., 1., 1.]),\n",
       "  'test_roc_auc': array([1., 1., 1.])},\n",
       " 'idx-1041': {'fit_time': array([0.20688558, 0.19969845, 0.18194246]),\n",
       "  'score_time': array([0.11761904, 0.1194737 , 0.11450005]),\n",
       "  'test_accuracy': array([1., 1., 1.]),\n",
       "  'test_precision': array([1., 1., 1.]),\n",
       "  'test_recall': array([1., 1., 1.]),\n",
       "  'test_f1': array([1., 1., 1.]),\n",
       "  'test_average_precision': array([1., 1., 1.]),\n",
       "  'test_roc_auc': array([1., 1., 1.])},\n",
       " 'idx-599': {'fit_time': array([0.24309373, 0.15793037, 0.17342639]),\n",
       "  'score_time': array([0.12750673, 0.10127211, 0.10194087]),\n",
       "  'test_accuracy': array([1.    , 0.9875, 1.    ]),\n",
       "  'test_precision': array([1.        , 0.97560976, 1.        ]),\n",
       "  'test_recall': array([1., 1., 1.]),\n",
       "  'test_f1': array([1.        , 0.98765432, 1.        ]),\n",
       "  'test_average_precision': array([1., 1., 1.]),\n",
       "  'test_roc_auc': array([1., 1., 1.])}}"
      ]
     },
     "execution_count": 4,
     "metadata": {},
     "output_type": "execute_result"
    }
   ],
   "source": [
    "b"
   ]
  }
 ],
 "metadata": {
  "kernelspec": {
   "display_name": "Python 3",
   "language": "python",
   "name": "python3"
  },
  "language_info": {
   "codemirror_mode": {
    "name": "ipython",
    "version": 3
   },
   "file_extension": ".py",
   "mimetype": "text/x-python",
   "name": "python",
   "nbconvert_exporter": "python",
   "pygments_lexer": "ipython3",
   "version": "3.6.6"
  }
 },
 "nbformat": 4,
 "nbformat_minor": 2
}
