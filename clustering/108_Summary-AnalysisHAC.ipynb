{
 "cells": [
  {
   "cell_type": "markdown",
   "metadata": {},
   "source": [
    "### Notebook to summarize HAC clustering results from larger holdout data\n",
    "Make plot to summarize the result visuallu and compare different experiemnt configurations"
   ]
  },
  {
   "cell_type": "code",
   "execution_count": 1,
   "metadata": {},
   "outputs": [],
   "source": [
    "%matplotlib inline\n",
    "import os\n",
    "import gc\n",
    "import glob\n",
    "import pickle\n",
    "import numpy as np\n",
    "import pandas as pd\n",
    "import matplotlib.pyplot as plt\n",
    "from sklearn.metrics import adjusted_mutual_info_score as AMI\n",
    "from sklearn.metrics import normalized_mutual_info_score as NMI\n",
    "from sklearn.metrics import adjusted_rand_score as ARS\n",
    "from sklearn.metrics import completeness_score as CLS"
   ]
  },
  {
   "cell_type": "code",
   "execution_count": 2,
   "metadata": {},
   "outputs": [],
   "source": [
    "def pkl_loader(filename):\n",
    "    with open(filename, 'rb') as f:\n",
    "        data = pickle.load(f)\n",
    "    return data"
   ]
  },
  {
   "cell_type": "code",
   "execution_count": 3,
   "metadata": {},
   "outputs": [],
   "source": [
    "def file_getter(basedatadir=None, expname=None, nclusters=None, cexpname=None,score_only=True):\n",
    "    \"\"\" TODO in future specify clustering expname\"\"\"\n",
    "    datadir = os.path.join(basedatadir, f\"{expname}/nclusters-{nclusters}/HAC\")\n",
    "    try:\n",
    "        tmp = glob.glob(os.path.join(datadir, f'*{cexpname}.pkl'))\n",
    "        a = [i for i in tmp]\n",
    "        print(\"Begin loading result files\")\n",
    "    except Exception as e:\n",
    "        print(e)\n",
    "        \n",
    "    scores =  pkl_loader(\n",
    "            glob.glob(os.path.join(datadir, f\"score-hac_{cexpname}.pkl\"))[0]\n",
    "    )\n",
    "    if not score_only:\n",
    "        omodel =  pkl_loader(\n",
    "            glob.glob(os.path.join(datadir, f\"original-hac_{cexpname}.pkl\"))[0]\n",
    "        )\n",
    "        rmodel =  pkl_loader(\n",
    "            glob.glob(os.path.join(datadir, f\"reprot-hac_{cexpname}.pkl\"))[0]\n",
    "        )\n",
    "        return scores, omodel, rmodel\n",
    "    else:\n",
    "        return scores"
   ]
  },
  {
   "cell_type": "code",
   "execution_count": 4,
   "metadata": {},
   "outputs": [],
   "source": [
    "def extract_metric_fn(expname=None, cexpname_list=[], nclusters_list=[], metric=None ):\n",
    "    scores = []\n",
    "    for cexpname, nclusters in zip(cexpname_list, nclusters_list):\n",
    "        tmp_score = file_getter(basedatadir=basedatadir, expname=expname, cexpname=str(cexpname),\n",
    "                          nclusters=nclusters, score_only=True)\n",
    "        scores.append(tmp_score[f'nclusters-{nclusters}'][metric])\n",
    "    return scores"
   ]
  },
  {
   "cell_type": "markdown",
   "metadata": {},
   "source": [
    "#### Large1-1\n",
    "Initial setting. For 2000 patches, rotate and copy every N degrees and clustering. Compare clustering labels assumed first and the rotataion with copied patches are 0, and then up to 1999."
   ]
  },
  {
   "cell_type": "code",
   "execution_count": 8,
   "metadata": {},
   "outputs": [],
   "source": [
    "basedatadir = './large_hac1'"
   ]
  },
  {
   "cell_type": "code",
   "execution_count": 5,
   "metadata": {},
   "outputs": [],
   "source": [
    "cexpnames_list = [4586180,4586181,4586182,4585694,4586183,\n",
    "                  4585692,4586184,4586185,4583334,4586186,4586179,4583049]\n",
    "nclusters_list = [2,4,8,10,16,20,32,64,100,128,256,2000]"
   ]
  },
  {
   "cell_type": "code",
   "execution_count": 9,
   "metadata": {},
   "outputs": [
    {
     "name": "stdout",
     "output_type": "stream",
     "text": [
      "Begin loading result files\n",
      "Begin loading result files\n",
      "Begin loading result files\n",
      "Begin loading result files\n",
      "Begin loading result files\n",
      "Begin loading result files\n",
      "Begin loading result files\n",
      "Begin loading result files\n",
      "Begin loading result files\n",
      "Begin loading result files\n",
      "Begin loading result files\n",
      "Begin loading result files\n"
     ]
    }
   ],
   "source": [
    "amiRIs = extract_metric_fn(expname='67011582',metric='ami', \n",
    "                        cexpname_list=cexpnames_list, nclusters_list=nclusters_list)"
   ]
  },
  {
   "cell_type": "code",
   "execution_count": 11,
   "metadata": {},
   "outputs": [
    {
     "name": "stdout",
     "output_type": "stream",
     "text": [
      "Begin loading result files\n",
      "Begin loading result files\n",
      "Begin loading result files\n",
      "Begin loading result files\n",
      "Begin loading result files\n",
      "Begin loading result files\n",
      "Begin loading result files\n",
      "Begin loading result files\n",
      "Begin loading result files\n",
      "Begin loading result files\n",
      "Begin loading result files\n",
      "Begin loading result files\n"
     ]
    }
   ],
   "source": [
    "clsRIs = extract_metric_fn(expname='67011582',metric='cls', \n",
    "                        cexpname_list=cexpnames_list, nclusters_list=nclusters_list)"
   ]
  },
  {
   "cell_type": "code",
   "execution_count": 12,
   "metadata": {},
   "outputs": [],
   "source": [
    "cexpnames_list = [4586634,4586635,4586636,4586637,4586638,4586639,4583475,4586640,4586630,4583443]\n",
    "nclusters_list = [2,4,8,16,32,64,100,128,256,2000]"
   ]
  },
  {
   "cell_type": "code",
   "execution_count": 13,
   "metadata": {},
   "outputs": [
    {
     "name": "stdout",
     "output_type": "stream",
     "text": [
      "Begin loading result files\n",
      "Begin loading result files\n",
      "Begin loading result files\n",
      "Begin loading result files\n",
      "Begin loading result files\n",
      "Begin loading result files\n",
      "Begin loading result files\n",
      "Begin loading result files\n",
      "Begin loading result files\n",
      "Begin loading result files\n"
     ]
    }
   ],
   "source": [
    "amiNRIs = extract_metric_fn(expname='m2_02_global_2000_2018_band28_29_31',metric='ami', \n",
    "                        cexpname_list=cexpnames_list, nclusters_list=nclusters_list)"
   ]
  },
  {
   "cell_type": "code",
   "execution_count": 14,
   "metadata": {},
   "outputs": [
    {
     "name": "stdout",
     "output_type": "stream",
     "text": [
      "Begin loading result files\n",
      "Begin loading result files\n",
      "Begin loading result files\n",
      "Begin loading result files\n",
      "Begin loading result files\n",
      "Begin loading result files\n",
      "Begin loading result files\n",
      "Begin loading result files\n",
      "Begin loading result files\n",
      "Begin loading result files\n"
     ]
    }
   ],
   "source": [
    "clsNRIs = extract_metric_fn(expname='m2_02_global_2000_2018_band28_29_31',metric='cls', \n",
    "                        cexpname_list=cexpnames_list, nclusters_list=nclusters_list)"
   ]
  },
  {
   "cell_type": "code",
   "execution_count": 17,
   "metadata": {},
   "outputs": [
    {
     "data": {
      "image/png": "[encoded data removed]",
      "text/plain": [
       "<Figure size 432x288 with 1 Axes>"
      ]
     },
     "metadata": {
      "needs_background": "light"
     },
     "output_type": "display_data"
    }
   ],
   "source": [
    "fig = plt.figure(figsize=(6,4))\n",
    "labels = ['RI', 'NRI']\n",
    "metric = 'AMI'\n",
    "\n",
    "for idx, (ilist,nclusters_list )in enumerate(zip([amiRIs, amiNRIs],[\n",
    "    [2,4,8,10,16,20,32,64,100,128,256,2000],\n",
    "    [2,4,8,16,32,64,100,128,256,2000]\n",
    "    ] ) ):\n",
    "    plt.plot(nclusters_list, ilist, color=f'C{idx}', linewidth=4, label=labels[idx])\n",
    "    plt.scatter(nclusters_list, ilist, color=f'C{idx}')\n",
    "    plt.ylabel(f'{metric}', fontsize=14)\n",
    "    plt.xlabel('Number of clusters')\n",
    "plt.grid(True)\n",
    "plt.legend(fontsize=14)\n",
    "plt.show()\n",
    "plt.close()"
   ]
  },
  {
   "cell_type": "code",
   "execution_count": 18,
   "metadata": {},
   "outputs": [
    {
     "data": {
      "image/png": "[encoded data removed]",
      "text/plain": [
       "<Figure size 432x288 with 1 Axes>"
      ]
     },
     "metadata": {
      "needs_background": "light"
     },
     "output_type": "display_data"
    }
   ],
   "source": [
    "fig = plt.figure(figsize=(6,4))\n",
    "labels = ['RI', 'NRI']\n",
    "metric = 'CLS'\n",
    "\n",
    "for idx, (ilist,nclusters_list )in enumerate(zip([clsRIs, clsNRIs],[\n",
    "    [2,4,8,10,16,20,32,64,100,128,256,2000],\n",
    "    [2,4,8,16,32,64,100,128,256,2000]\n",
    "    ] ) ):\n",
    "    plt.plot(nclusters_list, ilist, color=f'C{idx}', linewidth=4, label=labels[idx])\n",
    "    plt.scatter(nclusters_list, ilist, color=f'C{idx}')\n",
    "    plt.ylabel(f'{metric}', fontsize=14)\n",
    "    plt.xlabel('Number of clusters')\n",
    "plt.grid(True)\n",
    "plt.legend(fontsize=14)\n",
    "plt.show()\n",
    "plt.close()"
   ]
  },
  {
   "cell_type": "markdown",
   "metadata": {},
   "source": [
    "#### Large1-2 debug + change copy size?"
   ]
  },
  {
   "cell_type": "code",
   "execution_count": 34,
   "metadata": {},
   "outputs": [],
   "source": [
    "cexpnames_list = [4591360, 4591361, 4591362,4591363,4591364, 4591365, 4591366,4591359,4596305,4590898]\n",
    "nclusters_list =  [2,4,8,16,32,64,128,256,300,674]"
   ]
  },
  {
   "cell_type": "code",
   "execution_count": 35,
   "metadata": {},
   "outputs": [
    {
     "name": "stdout",
     "output_type": "stream",
     "text": [
      "Begin loading result files\n",
      "Begin loading result files\n",
      "Begin loading result files\n",
      "Begin loading result files\n",
      "Begin loading result files\n",
      "Begin loading result files\n",
      "Begin loading result files\n",
      "Begin loading result files\n",
      "Begin loading result files\n",
      "Begin loading result files\n"
     ]
    }
   ],
   "source": [
    "amiRIs = extract_metric_fn(expname='67011582',metric='ami', \n",
    "                        cexpname_list=cexpnames_list, nclusters_list=nclusters_list)"
   ]
  },
  {
   "cell_type": "code",
   "execution_count": 36,
   "metadata": {},
   "outputs": [
    {
     "name": "stdout",
     "output_type": "stream",
     "text": [
      "Begin loading result files\n",
      "Begin loading result files\n",
      "Begin loading result files\n",
      "Begin loading result files\n",
      "Begin loading result files\n",
      "Begin loading result files\n",
      "Begin loading result files\n",
      "Begin loading result files\n",
      "Begin loading result files\n",
      "Begin loading result files\n"
     ]
    }
   ],
   "source": [
    "clsRIs = extract_metric_fn(expname='67011582',metric='cls', \n",
    "                        cexpname_list=cexpnames_list, nclusters_list=nclusters_list)"
   ]
  },
  {
   "cell_type": "code",
   "execution_count": 37,
   "metadata": {},
   "outputs": [],
   "source": [
    "cexpnames_list = [4591373,4591429,4591449,4591450,4591451,4591452,4591587,4591372,4596308,4591099 ]\n",
    "nclusters_list = [2,4,8,16,32,64,128,256,300,674]"
   ]
  },
  {
   "cell_type": "code",
   "execution_count": 38,
   "metadata": {},
   "outputs": [
    {
     "name": "stdout",
     "output_type": "stream",
     "text": [
      "Begin loading result files\n",
      "Begin loading result files\n",
      "Begin loading result files\n",
      "Begin loading result files\n",
      "Begin loading result files\n",
      "Begin loading result files\n",
      "Begin loading result files\n",
      "Begin loading result files\n",
      "Begin loading result files\n",
      "Begin loading result files\n"
     ]
    }
   ],
   "source": [
    "amiNRIs = extract_metric_fn(expname='m2_02_global_2000_2018_band28_29_31',metric='ami', \n",
    "                        cexpname_list=cexpnames_list, nclusters_list=nclusters_list)"
   ]
  },
  {
   "cell_type": "code",
   "execution_count": 39,
   "metadata": {},
   "outputs": [
    {
     "name": "stdout",
     "output_type": "stream",
     "text": [
      "Begin loading result files\n",
      "Begin loading result files\n",
      "Begin loading result files\n",
      "Begin loading result files\n",
      "Begin loading result files\n",
      "Begin loading result files\n",
      "Begin loading result files\n",
      "Begin loading result files\n",
      "Begin loading result files\n",
      "Begin loading result files\n"
     ]
    }
   ],
   "source": [
    "clsNRIs = extract_metric_fn(expname='m2_02_global_2000_2018_band28_29_31',metric='cls', \n",
    "                        cexpname_list=cexpnames_list, nclusters_list=nclusters_list)"
   ]
  },
  {
   "cell_type": "code",
   "execution_count": 32,
   "metadata": {},
   "outputs": [
    {
     "data": {
      "image/png": "[encoded data removed]",
      "text/plain": [
       "<Figure size 432x288 with 1 Axes>"
      ]
     },
     "metadata": {
      "needs_background": "light"
     },
     "output_type": "display_data"
    }
   ],
   "source": [
    "fig = plt.figure(figsize=(6,4))\n",
    "labels = ['RI', 'NRI']\n",
    "metric = 'AMI'\n",
    "\n",
    "for idx, (ilist,nclusters_list )in enumerate(zip([amiRIs, amiNRIs],[\n",
    "    [2,4,8,16,32,64,128,256,300,674],[2,4,8,16,32,64,128,256,300,674]\n",
    "    ] ) ):\n",
    "    plt.plot(nclusters_list, ilist, color=f'C{idx}', linewidth=4, label=labels[idx])\n",
    "    plt.scatter(nclusters_list, ilist, color=f'C{idx}')\n",
    "    plt.ylabel(f'{metric}', fontsize=14)\n",
    "    plt.xlabel('Number of clusters')\n",
    "plt.grid(True)\n",
    "plt.legend(fontsize=14)\n",
    "plt.show()\n",
    "plt.close()"
   ]
  },
  {
   "cell_type": "code",
   "execution_count": 40,
   "metadata": {},
   "outputs": [
    {
     "data": {
      "image/png": "[encoded data removed]",
      "text/plain": [
       "<Figure size 432x288 with 1 Axes>"
      ]
     },
     "metadata": {
      "needs_background": "light"
     },
     "output_type": "display_data"
    }
   ],
   "source": [
    "fig = plt.figure(figsize=(6,4))\n",
    "labels = ['RI', 'NRI']\n",
    "metric = 'CLS'\n",
    "\n",
    "for idx, (ilist,nclusters_list )in enumerate(zip([clsRIs, clsNRIs],[\n",
    "    [2,4,8,16,32,64,128,256,300,674],[2,4,8,16,32,64,128,256,300,674]\n",
    "    ] ) ):\n",
    "    plt.plot(nclusters_list, ilist, color=f'C{idx}', linewidth=4, label=labels[idx])\n",
    "    plt.scatter(nclusters_list, ilist, color=f'C{idx}')\n",
    "    plt.ylabel(f'{metric}', fontsize=14)\n",
    "    plt.xlabel('Number of clusters')\n",
    "plt.grid(True)\n",
    "plt.legend(fontsize=14)\n",
    "plt.show()\n",
    "plt.close()"
   ]
  },
  {
   "cell_type": "markdown",
   "metadata": {},
   "source": [
    "#### Large2\n",
    "Large2 implement clustering to copied original data and at second stage rotate them and operate clustering.  \n",
    "At Large1 , the first one didn't operate clustering to original data"
   ]
  },
  {
   "cell_type": "code",
   "execution_count": 43,
   "metadata": {},
   "outputs": [],
   "source": [
    "basedatadir = './large_hac2'"
   ]
  },
  {
   "cell_type": "code",
   "execution_count": 48,
   "metadata": {},
   "outputs": [],
   "source": [
    "cexpnames_list = [4613870,4613871,4613872,4613873,4613874,4613875,4613876,4613869,4612631,4614214,4613243,4614215,4614212 ]\n",
    "nclusters_list = [2,4,8,16,32,64,128,256,300,600,900,1200,1800]"
   ]
  },
  {
   "cell_type": "code",
   "execution_count": 49,
   "metadata": {},
   "outputs": [
    {
     "name": "stdout",
     "output_type": "stream",
     "text": [
      "Begin loading result files\n",
      "Begin loading result files\n",
      "Begin loading result files\n",
      "Begin loading result files\n",
      "Begin loading result files\n",
      "Begin loading result files\n",
      "Begin loading result files\n",
      "Begin loading result files\n",
      "Begin loading result files\n",
      "Begin loading result files\n",
      "Begin loading result files\n",
      "Begin loading result files\n",
      "Begin loading result files\n"
     ]
    }
   ],
   "source": [
    "amiRIs = extract_metric_fn(expname='67011582',metric='ami', \n",
    "                        cexpname_list=cexpnames_list, nclusters_list=nclusters_list)"
   ]
  },
  {
   "cell_type": "code",
   "execution_count": 45,
   "metadata": {},
   "outputs": [
    {
     "name": "stdout",
     "output_type": "stream",
     "text": [
      "Begin loading result files\n",
      "Begin loading result files\n",
      "Begin loading result files\n",
      "Begin loading result files\n",
      "Begin loading result files\n",
      "Begin loading result files\n",
      "Begin loading result files\n",
      "Begin loading result files\n",
      "Begin loading result files\n",
      "Begin loading result files\n",
      "Begin loading result files\n",
      "Begin loading result files\n",
      "Begin loading result files\n"
     ]
    }
   ],
   "source": [
    "nmiRIs = extract_metric_fn(expname='67011582',metric='nmi', \n",
    "                        cexpname_list=cexpnames_list, nclusters_list=nclusters_list)"
   ]
  },
  {
   "cell_type": "code",
   "execution_count": 55,
   "metadata": {},
   "outputs": [],
   "source": [
    "cexpnames_list =  [4613865,4613866,4613867,4614079,4614089,4614097,4614259,4613864,4614416,4614848,4613441,4614864,4614232]\n",
    "nclusters_list =  [2,4,8,16,32,64,128,256, 300,600,900,1200,1800]"
   ]
  },
  {
   "cell_type": "code",
   "execution_count": 56,
   "metadata": {},
   "outputs": [
    {
     "name": "stdout",
     "output_type": "stream",
     "text": [
      "Begin loading result files\n",
      "Begin loading result files\n",
      "Begin loading result files\n",
      "Begin loading result files\n",
      "Begin loading result files\n",
      "Begin loading result files\n",
      "Begin loading result files\n",
      "Begin loading result files\n",
      "Begin loading result files\n",
      "Begin loading result files\n",
      "Begin loading result files\n",
      "Begin loading result files\n",
      "Begin loading result files\n"
     ]
    }
   ],
   "source": [
    "amiNRIs = extract_metric_fn(expname='m2_02_global_2000_2018_band28_29_31',metric='ami', \n",
    "                        cexpname_list=cexpnames_list, nclusters_list=nclusters_list)"
   ]
  },
  {
   "cell_type": "code",
   "execution_count": 57,
   "metadata": {},
   "outputs": [
    {
     "name": "stdout",
     "output_type": "stream",
     "text": [
      "Begin loading result files\n",
      "Begin loading result files\n",
      "Begin loading result files\n",
      "Begin loading result files\n",
      "Begin loading result files\n",
      "Begin loading result files\n",
      "Begin loading result files\n",
      "Begin loading result files\n",
      "Begin loading result files\n",
      "Begin loading result files\n",
      "Begin loading result files\n",
      "Begin loading result files\n",
      "Begin loading result files\n"
     ]
    }
   ],
   "source": [
    "nmiNRIs = extract_metric_fn(expname='m2_02_global_2000_2018_band28_29_31',metric='nmi', \n",
    "                        cexpname_list=cexpnames_list, nclusters_list=nclusters_list)"
   ]
  },
  {
   "cell_type": "code",
   "execution_count": 58,
   "metadata": {},
   "outputs": [
    {
     "data": {
      "image/png": "[encoded data removed]",
      "text/plain": [
       "<Figure size 432x288 with 1 Axes>"
      ]
     },
     "metadata": {
      "needs_background": "light"
     },
     "output_type": "display_data"
    }
   ],
   "source": [
    "fig = plt.figure(figsize=(6,4))\n",
    "labels = ['RI', 'NRI']\n",
    "metric = 'AMI'\n",
    "\n",
    "for idx, (ilist,nclusters_list )in enumerate(zip([amiRIs, amiNRIs],[\n",
    "    [2,4,8,16,32,64,128,256, 300,600,900,1200,1800],[2,4,8,16,32,64,128,256, 300,600,900,1200,1800]\n",
    "    ] ) ):\n",
    "    plt.plot(nclusters_list, ilist, color=f'C{idx}', linewidth=4, label=labels[idx])\n",
    "    plt.scatter(nclusters_list, ilist, color=f'C{idx}')\n",
    "    plt.ylabel(f'{metric}', fontsize=14)\n",
    "    plt.xlabel('Number of clusters')\n",
    "plt.grid(True)\n",
    "plt.legend(fontsize=14)\n",
    "plt.show()\n",
    "plt.close()"
   ]
  },
  {
   "cell_type": "code",
   "execution_count": 59,
   "metadata": {},
   "outputs": [
    {
     "data": {
      "image/png": "[encoded data removed]",
      "text/plain": [
       "<Figure size 432x288 with 1 Axes>"
      ]
     },
     "metadata": {
      "needs_background": "light"
     },
     "output_type": "display_data"
    }
   ],
   "source": [
    "fig = plt.figure(figsize=(6,4))\n",
    "labels = ['RI', 'NRI']\n",
    "metric = 'NMI'\n",
    "\n",
    "for idx, (ilist,nclusters_list )in enumerate(zip([nmiRIs, nmiNRIs],[\n",
    "    [2,4,8,16,32,64,128,256, 300,600,900,1200,1800],[2,4,8,16,32,64,128,256, 300,600,900,1200,1800]\n",
    "    ] ) ):\n",
    "    plt.plot(nclusters_list, ilist, color=f'C{idx}', linewidth=4, label=labels[idx])\n",
    "    plt.scatter(nclusters_list, ilist, color=f'C{idx}')\n",
    "    plt.ylabel(f'{metric}', fontsize=14)\n",
    "    plt.xlabel('Number of clusters')\n",
    "plt.grid(True)\n",
    "plt.legend(fontsize=14)\n",
    "plt.show()\n",
    "plt.close()"
   ]
  },
  {
   "cell_type": "markdown",
   "metadata": {},
   "source": [
    "#### Large3\n",
    "Large2 for selected patches which has clear structures based on statisical preprocessing"
   ]
  },
  {
   "cell_type": "code",
   "execution_count": 60,
   "metadata": {},
   "outputs": [],
   "source": [
    "basedatadir = './large_hac3'"
   ]
  },
  {
   "cell_type": "code",
   "execution_count": 69,
   "metadata": {},
   "outputs": [],
   "source": [
    "cexpnames_list = [4620107,4620108,4620109,4619131,4620110,4620106]\n",
    "nclusters_list = [4,8,16,32,64,128]"
   ]
  },
  {
   "cell_type": "code",
   "execution_count": 70,
   "metadata": {},
   "outputs": [
    {
     "name": "stdout",
     "output_type": "stream",
     "text": [
      "Begin loading result files\n",
      "Begin loading result files\n",
      "Begin loading result files\n",
      "Begin loading result files\n",
      "Begin loading result files\n",
      "Begin loading result files\n"
     ]
    }
   ],
   "source": [
    "amiRIs = extract_metric_fn(expname='67011582',metric='ami', \n",
    "                        cexpname_list=cexpnames_list, nclusters_list=nclusters_list)"
   ]
  },
  {
   "cell_type": "code",
   "execution_count": 71,
   "metadata": {},
   "outputs": [
    {
     "name": "stdout",
     "output_type": "stream",
     "text": [
      "Begin loading result files\n",
      "Begin loading result files\n",
      "Begin loading result files\n",
      "Begin loading result files\n",
      "Begin loading result files\n",
      "Begin loading result files\n"
     ]
    }
   ],
   "source": [
    "nmiRIs = extract_metric_fn(expname='67011582',metric='nmi', \n",
    "                        cexpname_list=cexpnames_list, nclusters_list=nclusters_list)"
   ]
  },
  {
   "cell_type": "code",
   "execution_count": 66,
   "metadata": {},
   "outputs": [],
   "source": [
    "cexpnames_list = [4620116,4620117,4620126,4619131,4620127,4620115]\n",
    "nclusters_list = [4,8,16,32,64,128]"
   ]
  },
  {
   "cell_type": "code",
   "execution_count": 67,
   "metadata": {},
   "outputs": [
    {
     "name": "stdout",
     "output_type": "stream",
     "text": [
      "Begin loading result files\n",
      "Begin loading result files\n",
      "Begin loading result files\n",
      "Begin loading result files\n",
      "Begin loading result files\n",
      "Begin loading result files\n"
     ]
    }
   ],
   "source": [
    "amiNRIs = extract_metric_fn(expname='m2_02_global_2000_2018_band28_29_31',metric='ami', \n",
    "                        cexpname_list=cexpnames_list, nclusters_list=nclusters_list)"
   ]
  },
  {
   "cell_type": "code",
   "execution_count": 68,
   "metadata": {},
   "outputs": [
    {
     "name": "stdout",
     "output_type": "stream",
     "text": [
      "Begin loading result files\n",
      "Begin loading result files\n",
      "Begin loading result files\n",
      "Begin loading result files\n",
      "Begin loading result files\n",
      "Begin loading result files\n"
     ]
    }
   ],
   "source": [
    "nmiNRIs = extract_metric_fn(expname='m2_02_global_2000_2018_band28_29_31',metric='nmi', \n",
    "                        cexpname_list=cexpnames_list, nclusters_list=nclusters_list)"
   ]
  },
  {
   "cell_type": "code",
   "execution_count": 72,
   "metadata": {},
   "outputs": [
    {
     "data": {
      "image/png": "[encoded data removed]",
      "text/plain": [
       "<Figure size 432x288 with 1 Axes>"
      ]
     },
     "metadata": {
      "needs_background": "light"
     },
     "output_type": "display_data"
    }
   ],
   "source": [
    "fig = plt.figure(figsize=(6,4))\n",
    "labels = ['RI', 'NRI']\n",
    "metric = 'AMI'\n",
    "\n",
    "for idx, (ilist,nclusters_list )in enumerate(zip([amiRIs, amiNRIs],[\n",
    "    [4,8,16,32,64,128],[4,8,16,32,64,128]\n",
    "    ] ) ):\n",
    "    plt.plot(nclusters_list, ilist, color=f'C{idx}', linewidth=4, label=labels[idx])\n",
    "    plt.scatter(nclusters_list, ilist, color=f'C{idx}')\n",
    "    plt.ylabel(f'{metric}', fontsize=14)\n",
    "    plt.xlabel('Number of clusters')\n",
    "plt.grid(True)\n",
    "plt.legend(fontsize=14)\n",
    "plt.show()\n",
    "plt.close()"
   ]
  },
  {
   "cell_type": "code",
   "execution_count": 73,
   "metadata": {},
   "outputs": [
    {
     "data": {
      "image/png": "[encoded data removed]",
      "text/plain": [
       "<Figure size 432x288 with 1 Axes>"
      ]
     },
     "metadata": {
      "needs_background": "light"
     },
     "output_type": "display_data"
    }
   ],
   "source": [
    "fig = plt.figure(figsize=(6,4))\n",
    "labels = ['RI', 'NRI']\n",
    "metric = 'NMI'\n",
    "\n",
    "for idx, (ilist,nclusters_list )in enumerate(zip([nmiRIs, nmiNRIs],[\n",
    "    [4,8,16,32,64,128],[4,8,16,32,64,128]\n",
    "    ] ) ):\n",
    "    plt.plot(nclusters_list, ilist, color=f'C{idx}', linewidth=4, label=labels[idx])\n",
    "    plt.scatter(nclusters_list, ilist, color=f'C{idx}')\n",
    "    plt.ylabel(f'{metric}', fontsize=14)\n",
    "    plt.xlabel('Number of clusters')\n",
    "plt.grid(True)\n",
    "plt.legend(fontsize=14)\n",
    "plt.show()\n",
    "plt.close()"
   ]
  },
  {
   "cell_type": "markdown",
   "metadata": {},
   "source": [
    "#### Large4\n",
    "Same: Select one patch from \"k\" clusters and then replicate and rotate these selected patch\n",
    "Diff: (1) change dataeset from 2-10 to 3-0(stdv over patches is the largest). (2) clustering all 2,000 patches into \"k\" clusters no matter what patch is less gradation or not"
   ]
  },
  {
   "cell_type": "code",
   "execution_count": 77,
   "metadata": {},
   "outputs": [],
   "source": [
    "basedatadir = './large_hac4'"
   ]
  },
  {
   "cell_type": "code",
   "execution_count": 78,
   "metadata": {},
   "outputs": [],
   "source": [
    "cexpnames_list = [4621265,4621265,4621265,4621265,4623254,4622762]\n",
    "nclusters_list = [12,32,300,600,1200,1800]"
   ]
  },
  {
   "cell_type": "code",
   "execution_count": 79,
   "metadata": {},
   "outputs": [
    {
     "name": "stdout",
     "output_type": "stream",
     "text": [
      "Begin loading result files\n",
      "Begin loading result files\n",
      "Begin loading result files\n",
      "Begin loading result files\n",
      "Begin loading result files\n",
      "Begin loading result files\n"
     ]
    }
   ],
   "source": [
    "amiRIs = extract_metric_fn(expname='67011582',metric='ami', \n",
    "                        cexpname_list=cexpnames_list, nclusters_list=nclusters_list)"
   ]
  },
  {
   "cell_type": "code",
   "execution_count": 80,
   "metadata": {},
   "outputs": [
    {
     "name": "stdout",
     "output_type": "stream",
     "text": [
      "Begin loading result files\n",
      "Begin loading result files\n",
      "Begin loading result files\n",
      "Begin loading result files\n",
      "Begin loading result files\n",
      "Begin loading result files\n"
     ]
    }
   ],
   "source": [
    "nmiRIs = extract_metric_fn(expname='67011582',metric='nmi', \n",
    "                        cexpname_list=cexpnames_list, nclusters_list=nclusters_list)"
   ]
  },
  {
   "cell_type": "code",
   "execution_count": 81,
   "metadata": {},
   "outputs": [],
   "source": [
    "cexpnames_list = [4621265,4621265,4622158,4622348,4623472]\n",
    "nclusters_list = [12,32,300,600,1200]"
   ]
  },
  {
   "cell_type": "code",
   "execution_count": 82,
   "metadata": {},
   "outputs": [
    {
     "name": "stdout",
     "output_type": "stream",
     "text": [
      "Begin loading result files\n",
      "Begin loading result files\n",
      "Begin loading result files\n",
      "Begin loading result files\n",
      "Begin loading result files\n"
     ]
    }
   ],
   "source": [
    "amiNRIs = extract_metric_fn(expname='m2_02_global_2000_2018_band28_29_31',metric='ami', \n",
    "                        cexpname_list=cexpnames_list, nclusters_list=nclusters_list)"
   ]
  },
  {
   "cell_type": "code",
   "execution_count": 83,
   "metadata": {},
   "outputs": [
    {
     "name": "stdout",
     "output_type": "stream",
     "text": [
      "Begin loading result files\n",
      "Begin loading result files\n",
      "Begin loading result files\n",
      "Begin loading result files\n",
      "Begin loading result files\n"
     ]
    }
   ],
   "source": [
    "nmiNRIs = extract_metric_fn(expname='m2_02_global_2000_2018_band28_29_31',metric='nmi', \n",
    "                        cexpname_list=cexpnames_list, nclusters_list=nclusters_list)"
   ]
  },
  {
   "cell_type": "code",
   "execution_count": 84,
   "metadata": {},
   "outputs": [
    {
     "data": {
      "image/png": "[encoded data removed]",
      "text/plain": [
       "<Figure size 432x288 with 1 Axes>"
      ]
     },
     "metadata": {
      "needs_background": "light"
     },
     "output_type": "display_data"
    }
   ],
   "source": [
    "fig = plt.figure(figsize=(6,4))\n",
    "labels = ['RI', 'NRI']\n",
    "metric = 'AMI'\n",
    "\n",
    "for idx, (ilist,nclusters_list )in enumerate(zip([amiRIs, amiNRIs],[\n",
    "    [12,32,300,600,1200,1800],[12,32,300,600,1200]\n",
    "    ] ) ):\n",
    "    plt.plot(nclusters_list, ilist, color=f'C{idx}', linewidth=4, label=labels[idx])\n",
    "    plt.scatter(nclusters_list, ilist, color=f'C{idx}')\n",
    "    plt.ylabel(f'{metric}', fontsize=14)\n",
    "    plt.xlabel('Number of clusters')\n",
    "plt.grid(True)\n",
    "plt.legend(fontsize=14)\n",
    "plt.show()\n",
    "plt.close()"
   ]
  },
  {
   "cell_type": "code",
   "execution_count": 85,
   "metadata": {},
   "outputs": [
    {
     "data": {
      "image/png": "[encoded data removed]",
      "text/plain": [
       "<Figure size 432x288 with 1 Axes>"
      ]
     },
     "metadata": {
      "needs_background": "light"
     },
     "output_type": "display_data"
    }
   ],
   "source": [
    "fig = plt.figure(figsize=(6,4))\n",
    "labels = ['RI', 'NRI']\n",
    "metric = 'NMI'\n",
    "\n",
    "for idx, (ilist,nclusters_list )in enumerate(zip([nmiRIs, nmiNRIs],[\n",
    "    [12,32,300,600,1200,1800],[12,32,300,600,1200]\n",
    "    ] ) ):\n",
    "    plt.plot(nclusters_list, ilist, color=f'C{idx}', linewidth=4, label=labels[idx])\n",
    "    plt.scatter(nclusters_list, ilist, color=f'C{idx}')\n",
    "    plt.ylabel(f'{metric}', fontsize=14)\n",
    "    plt.xlabel('Number of clusters')\n",
    "plt.grid(True)\n",
    "plt.legend(fontsize=14)\n",
    "plt.show()\n",
    "plt.close()"
   ]
  },
  {
   "cell_type": "markdown",
   "metadata": {},
   "source": [
    "#### Large5\n",
    "Clustering copy and rotate first with clusteing (1) and then rotate them to next clustering (2) "
   ]
  },
  {
   "cell_type": "code",
   "execution_count": 86,
   "metadata": {},
   "outputs": [],
   "source": [
    "basedatadir = './large_hac5'"
   ]
  },
  {
   "cell_type": "code",
   "execution_count": 87,
   "metadata": {},
   "outputs": [],
   "source": [
    "cexpnames_list = [4643025,4643026,4643024,4642371,4642371,4642371,4642371]\n",
    "nclusters_list = [8,16,32,64,2000,3000,6000]"
   ]
  },
  {
   "cell_type": "code",
   "execution_count": 88,
   "metadata": {},
   "outputs": [
    {
     "name": "stdout",
     "output_type": "stream",
     "text": [
      "Begin loading result files\n",
      "Begin loading result files\n",
      "Begin loading result files\n",
      "Begin loading result files\n",
      "Begin loading result files\n",
      "Begin loading result files\n",
      "Begin loading result files\n"
     ]
    }
   ],
   "source": [
    "amiRIs = extract_metric_fn(expname='67011582',metric='ami', \n",
    "                        cexpname_list=cexpnames_list, nclusters_list=nclusters_list)"
   ]
  },
  {
   "cell_type": "code",
   "execution_count": 89,
   "metadata": {},
   "outputs": [
    {
     "name": "stdout",
     "output_type": "stream",
     "text": [
      "Begin loading result files\n",
      "Begin loading result files\n",
      "Begin loading result files\n",
      "Begin loading result files\n",
      "Begin loading result files\n",
      "Begin loading result files\n",
      "Begin loading result files\n"
     ]
    }
   ],
   "source": [
    "nmiRIs = extract_metric_fn(expname='67011582',metric='nmi', \n",
    "                        cexpname_list=cexpnames_list, nclusters_list=nclusters_list)"
   ]
  },
  {
   "cell_type": "code",
   "execution_count": 90,
   "metadata": {},
   "outputs": [
    {
     "data": {
      "image/png": "[encoded data removed]",
      "text/plain": [
       "<Figure size 432x288 with 1 Axes>"
      ]
     },
     "metadata": {
      "needs_background": "light"
     },
     "output_type": "display_data"
    }
   ],
   "source": [
    "fig = plt.figure(figsize=(6,4))\n",
    "labels = ['RI', 'NRI']\n",
    "metric = 'AMI'\n",
    "\n",
    "for idx, (ilist,nclusters_list )in enumerate(zip([amiRIs],[\n",
    "    [8,16,32,64,2000,3000,6000]\n",
    "    ] ) ):\n",
    "    plt.plot(nclusters_list, ilist, color=f'C{idx}', linewidth=4, label=labels[idx])\n",
    "    plt.scatter(nclusters_list, ilist, color=f'C{idx}')\n",
    "    plt.ylabel(f'{metric}', fontsize=14)\n",
    "    plt.xlabel('Number of clusters')\n",
    "plt.grid(True)\n",
    "plt.legend(fontsize=14)\n",
    "plt.show()\n",
    "plt.close()"
   ]
  },
  {
   "cell_type": "code",
   "execution_count": 91,
   "metadata": {},
   "outputs": [
    {
     "data": {
      "image/png": "[encoded data removed]",
      "text/plain": [
       "<Figure size 432x288 with 1 Axes>"
      ]
     },
     "metadata": {
      "needs_background": "light"
     },
     "output_type": "display_data"
    }
   ],
   "source": [
    "fig = plt.figure(figsize=(6,4))\n",
    "labels = ['RI', 'NRI']\n",
    "metric = 'NMI'\n",
    "\n",
    "for idx, (ilist,nclusters_list )in enumerate(zip([nmiRIs],[\n",
    "    [8,16,32,64,2000,3000,6000]\n",
    "    ] ) ):\n",
    "    plt.plot(nclusters_list, ilist, color=f'C{idx}', linewidth=4, label=labels[idx])\n",
    "    plt.scatter(nclusters_list, ilist, color=f'C{idx}')\n",
    "    plt.ylabel(f'{metric}', fontsize=14)\n",
    "    plt.xlabel('Number of clusters')\n",
    "plt.grid(True)\n",
    "plt.legend(fontsize=14)\n",
    "plt.show()\n",
    "plt.close()"
   ]
  }
 ],
 "metadata": {
  "kernelspec": {
   "display_name": "Python 3",
   "language": "python",
   "name": "python3"
  },
  "language_info": {
   "codemirror_mode": {
    "name": "ipython",
    "version": 3
   },
   "file_extension": ".py",
   "mimetype": "text/x-python",
   "name": "python",
   "nbconvert_exporter": "python",
   "pygments_lexer": "ipython3",
   "version": "3.6.6"
  }
 },
 "nbformat": 4,
 "nbformat_minor": 4
}
