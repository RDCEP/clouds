{
 "cells": [
  {
   "cell_type": "code",
   "execution_count": 2,
   "metadata": {},
   "outputs": [],
   "source": [
    "import os\n",
    "import glob\n",
    "import numpy as np\n",
    "import tensorflow as tf\n",
    "import matplotlib.pyplot as plt\n",
    "from tensorflow.contrib.data import parallel_interleave\n",
    "from tensorflow.contrib.data import batch_and_drop_remainder"
   ]
  },
  {
   "cell_type": "markdown",
   "metadata": {},
   "source": [
    "#### Data Extractor"
   ]
  },
  {
   "cell_type": "code",
   "execution_count": 3,
   "metadata": {},
   "outputs": [],
   "source": [
    "def data_extractor_fn(filelist, \n",
    "                      prefetch=1, read_threads=4, distribute=(1, 0)):\n",
    "    def parser(ser):\n",
    "        \"\"\"\n",
    "        Decode & Pass datast in tf.record\n",
    "        *Cuation*\n",
    "        floating point: tfrecord data ==> tf.float64\n",
    "        \"\"\"\n",
    "        features = {\n",
    "            \"shape\": tf.FixedLenFeature([3], tf.int64),\n",
    "            \"patch\": tf.FixedLenFeature([], tf.string),\n",
    "            \"filename\": tf.FixedLenFeature([], tf.string),\n",
    "            \"coordinate\": tf.FixedLenFeature([2], tf.int64),\n",
    "        }\n",
    "        decoded = tf.parse_single_example(ser, features)\n",
    "        patch = tf.reshape(\n",
    "            tf.decode_raw(decoded[\"patch\"], tf.float64), decoded[\"shape\"]\n",
    "        )\n",
    "        # conversion of tensor\n",
    "        patch = tf.cast(patch, tf.float32)\n",
    "        return patch\n",
    "    \n",
    "    dataset = (\n",
    "        tf.data.Dataset.list_files(filelist, shuffle=True)\n",
    "            .shard(*distribute)\n",
    "            .apply(\n",
    "            parallel_interleave(\n",
    "                lambda f: tf.data.TFRecordDataset(f).map(parser),\n",
    "                cycle_length=read_threads,\n",
    "                sloppy=True,\n",
    "            )\n",
    "        )\n",
    "    )\n",
    "    iterator = dataset.make_one_shot_iterator()\n",
    "\n",
    "    next_element = iterator.get_next()\n",
    "    patches_list = []\n",
    "    with tf.Session() as sess:\n",
    "        try:\n",
    "            while True:\n",
    "                patch = sess.run(next_element)\n",
    "                patches_list.append(patch)\n",
    "        except tf.errors.OutOfRangeError:\n",
    "            print(\"OutOfRage --> finish process\")\n",
    "            pass\n",
    "    return patches_list"
   ]
  },
  {
   "cell_type": "code",
   "execution_count": 4,
   "metadata": {},
   "outputs": [],
   "source": [
    "input_datadir='/project2/foster/clouds/data/clouds_laads_preprocessed_2000_2018_band28_29_31'"
   ]
  },
  {
   "cell_type": "code",
   "execution_count": 5,
   "metadata": {},
   "outputs": [],
   "source": [
    "train_images_list = glob.glob(os.path.abspath(input_datadir)+'/*.tfrecord')"
   ]
  },
  {
   "cell_type": "code",
   "execution_count": 6,
   "metadata": {
    "scrolled": true
   },
   "outputs": [
    {
     "name": "stdout",
     "output_type": "stream",
     "text": [
      "WARNING:tensorflow:From <ipython-input-3-3ddbd4ddea22>:30: parallel_interleave (from tensorflow.contrib.data.python.ops.interleave_ops) is deprecated and will be removed in a future version.\n",
      "Instructions for updating:\n",
      "Use `tf.data.experimental.parallel_interleave(...)`.\n",
      "WARNING:tensorflow:From /home/tkurihana/.conda/envs/tf-cpu/lib/python3.6/site-packages/tensorflow/contrib/data/python/ops/interleave_ops.py:77: parallel_interleave (from tensorflow.python.data.experimental.ops.interleave_ops) is deprecated and will be removed in a future version.\n",
      "Instructions for updating:\n",
      "Use `tf.data.Dataset.interleave(map_func, cycle_length, block_length, num_parallel_calls=tf.data.experimental.AUTOTUNE)` instead. If sloppy execution is desired, use `tf.data.Options.experimental_determinstic`.\n",
      "WARNING:tensorflow:From <ipython-input-3-3ddbd4ddea22>:34: DatasetV1.make_one_shot_iterator (from tensorflow.python.data.ops.dataset_ops) is deprecated and will be removed in a future version.\n",
      "Instructions for updating:\n",
      "Use `for ... in dataset:` to iterate over a dataset. If using `tf.estimator`, return the `Dataset` object directly from your input function. As a last resort, you can use `tf.compat.v1.data.make_one_shot_iterator(dataset)`.\n",
      "OutOfRage --> finish process\n",
      "OutOfRage --> finish process\n",
      "OutOfRage --> finish process\n",
      "OutOfRage --> finish process\n",
      "OutOfRage --> finish process\n",
      "OutOfRage --> finish process\n",
      "OutOfRage --> finish process\n",
      "OutOfRage --> finish process\n",
      "OutOfRage --> finish process\n",
      "OutOfRage --> finish process\n",
      "OutOfRage --> finish process\n",
      "OutOfRage --> finish process\n",
      "OutOfRage --> finish process\n",
      "OutOfRage --> finish process\n",
      "OutOfRage --> finish process\n",
      "OutOfRage --> finish process\n",
      "OutOfRage --> finish process\n",
      "OutOfRage --> finish process\n",
      "OutOfRage --> finish process\n",
      "OutOfRage --> finish process\n",
      "OutOfRage --> finish process\n",
      "OutOfRage --> finish process\n",
      "OutOfRage --> finish process\n",
      "OutOfRage --> finish process\n",
      "OutOfRage --> finish process\n",
      "OutOfRage --> finish process\n",
      "OutOfRage --> finish process\n",
      "OutOfRage --> finish process\n",
      "OutOfRage --> finish process\n",
      "OutOfRage --> finish process\n",
      "OutOfRage --> finish process\n",
      "OutOfRage --> finish process\n",
      "OutOfRage --> finish process\n",
      "OutOfRage --> finish process\n",
      "OutOfRage --> finish process\n",
      "OutOfRage --> finish process\n",
      "OutOfRage --> finish process\n",
      "OutOfRage --> finish process\n",
      "OutOfRage --> finish process\n",
      "OutOfRage --> finish process\n",
      "OutOfRage --> finish process\n",
      "OutOfRage --> finish process\n",
      "OutOfRage --> finish process\n",
      "OutOfRage --> finish process\n",
      "OutOfRage --> finish process\n",
      "OutOfRage --> finish process\n",
      "OutOfRage --> finish process\n",
      "OutOfRage --> finish process\n",
      "OutOfRage --> finish process\n",
      "OutOfRage --> finish process\n",
      "OutOfRage --> finish process\n",
      "OutOfRage --> finish process\n",
      "OutOfRage --> finish process\n",
      "OutOfRage --> finish process\n",
      "OutOfRage --> finish process\n",
      "OutOfRage --> finish process\n",
      "OutOfRage --> finish process\n",
      "OutOfRage --> finish process\n",
      "OutOfRage --> finish process\n",
      "OutOfRage --> finish process\n",
      "OutOfRage --> finish process\n",
      "OutOfRage --> finish process\n",
      "OutOfRage --> finish process\n",
      "OutOfRage --> finish process\n",
      "OutOfRage --> finish process\n",
      "OutOfRage --> finish process\n",
      "OutOfRage --> finish process\n",
      "OutOfRage --> finish process\n",
      "OutOfRage --> finish process\n",
      "OutOfRage --> finish process\n",
      "OutOfRage --> finish process\n",
      "OutOfRage --> finish process\n",
      "OutOfRage --> finish process\n",
      "OutOfRage --> finish process\n",
      "OutOfRage --> finish process\n",
      "OutOfRage --> finish process\n",
      "OutOfRage --> finish process\n",
      "OutOfRage --> finish process\n",
      "OutOfRage --> finish process\n",
      "OutOfRage --> finish process\n",
      "OutOfRage --> finish process\n",
      "OutOfRage --> finish process\n",
      "OutOfRage --> finish process\n",
      "OutOfRage --> finish process\n",
      "OutOfRage --> finish process\n",
      "OutOfRage --> finish process\n",
      "OutOfRage --> finish process\n",
      "OutOfRage --> finish process\n",
      "OutOfRage --> finish process\n",
      "OutOfRage --> finish process\n",
      "OutOfRage --> finish process\n",
      "OutOfRage --> finish process\n",
      "OutOfRage --> finish process\n",
      "OutOfRage --> finish process\n",
      "OutOfRage --> finish process\n",
      "OutOfRage --> finish process\n",
      "OutOfRage --> finish process\n",
      "OutOfRage --> finish process\n",
      "OutOfRage --> finish process\n",
      "OutOfRage --> finish process\n",
      "OutOfRage --> finish process\n",
      "OutOfRage --> finish process\n",
      "OutOfRage --> finish process\n",
      "OutOfRage --> finish process\n",
      "OutOfRage --> finish process\n",
      "OutOfRage --> finish process\n",
      "OutOfRage --> finish process\n",
      "OutOfRage --> finish process\n",
      "OutOfRage --> finish process\n",
      "OutOfRage --> finish process\n",
      "OutOfRage --> finish process\n",
      "OutOfRage --> finish process\n",
      "OutOfRage --> finish process\n",
      "OutOfRage --> finish process\n",
      "OutOfRage --> finish process\n",
      "OutOfRage --> finish process\n",
      "OutOfRage --> finish process\n",
      "OutOfRage --> finish process\n",
      "OutOfRage --> finish process\n",
      "OutOfRage --> finish process\n"
     ]
    }
   ],
   "source": [
    "import gc\n",
    "npatches = 0\n",
    "for ifile in train_images_list:\n",
    "    patches_list = data_extractor_fn([ifile])\n",
    "    npatches += len(patches_list)\n",
    "    gc.collect()"
   ]
  },
  {
   "cell_type": "code",
   "execution_count": 7,
   "metadata": {},
   "outputs": [
    {
     "data": {
      "text/plain": [
       "1075994"
      ]
     },
     "execution_count": 7,
     "metadata": {},
     "output_type": "execute_result"
    }
   ],
   "source": [
    "npatches"
   ]
  },
  {
   "cell_type": "markdown",
   "metadata": {},
   "source": [
    "#### get patches"
   ]
  },
  {
   "cell_type": "code",
   "execution_count": 4,
   "metadata": {},
   "outputs": [],
   "source": [
    "input_datadir='/home/tkurihana/Research/data/tfrecords/clouds_laads_preprocessed_2000_2018_m2normed_2010-2012-2015-JJA'"
   ]
  },
  {
   "cell_type": "code",
   "execution_count": 5,
   "metadata": {},
   "outputs": [],
   "source": [
    "train_images_list = glob.glob(os.path.abspath(input_datadir)+'/*.tfrecord')"
   ]
  },
  {
   "cell_type": "code",
   "execution_count": 6,
   "metadata": {},
   "outputs": [
    {
     "name": "stdout",
     "output_type": "stream",
     "text": [
      "WARNING:tensorflow:From <ipython-input-3-3ddbd4ddea22>:30: parallel_interleave (from tensorflow.contrib.data.python.ops.interleave_ops) is deprecated and will be removed in a future version.\n",
      "Instructions for updating:\n",
      "Use `tf.data.experimental.parallel_interleave(...)`.\n",
      "WARNING:tensorflow:From /home/tkurihana/.conda/envs/tf-cpu/lib/python3.6/site-packages/tensorflow/contrib/data/python/ops/interleave_ops.py:77: parallel_interleave (from tensorflow.python.data.experimental.ops.interleave_ops) is deprecated and will be removed in a future version.\n",
      "Instructions for updating:\n",
      "Use `tf.data.Dataset.interleave(map_func, cycle_length, block_length, num_parallel_calls=tf.data.experimental.AUTOTUNE)` instead. If sloppy execution is desired, use `tf.data.Options.experimental_determinstic`.\n",
      "WARNING:tensorflow:From <ipython-input-3-3ddbd4ddea22>:34: DatasetV1.make_one_shot_iterator (from tensorflow.python.data.ops.dataset_ops) is deprecated and will be removed in a future version.\n",
      "Instructions for updating:\n",
      "Use `for ... in dataset:` to iterate over a dataset. If using `tf.estimator`, return the `Dataset` object directly from your input function. As a last resort, you can use `tf.compat.v1.data.make_one_shot_iterator(dataset)`.\n",
      "OutOfRage --> finish process\n"
     ]
    }
   ],
   "source": [
    "patches_list = data_extractor_fn(train_images_list)"
   ]
  },
  {
   "cell_type": "code",
   "execution_count": 7,
   "metadata": {},
   "outputs": [
    {
     "data": {
      "text/plain": [
       "(134871, (128, 128, 6))"
      ]
     },
     "execution_count": 7,
     "metadata": {},
     "output_type": "execute_result"
    }
   ],
   "source": [
    "len(patches_list), patches_list[0].shape"
   ]
  },
  {
   "cell_type": "code",
   "execution_count": 8,
   "metadata": {},
   "outputs": [
    {
     "data": {
      "text/plain": [
       "(134871, 16384, 6)"
      ]
     },
     "execution_count": 8,
     "metadata": {},
     "output_type": "execute_result"
    }
   ],
   "source": [
    "patches = np.concatenate([ np.expand_dims(i, axis=0).reshape(1,128*128, 6) for i in patches_list], axis=0)\n",
    "patches.shape"
   ]
  },
  {
   "cell_type": "markdown",
   "metadata": {},
   "source": [
    "- Distribution Check"
   ]
  },
  {
   "cell_type": "code",
   "execution_count": 9,
   "metadata": {},
   "outputs": [
    {
     "data": {
      "image/png": "[encoded data removed]",
      "text/plain": [
       "<Figure size 576x288 with 6 Axes>"
      ]
     },
     "metadata": {
      "needs_background": "light"
     },
     "output_type": "display_data"
    }
   ],
   "source": [
    "fig = plt.figure(figsize=(8,4))\n",
    "band_list = [6,7,20,28,29,31]\n",
    "for idx, band in enumerate(range(6)):\n",
    "    ax = plt.subplot(2,3, idx+1 )\n",
    "    plt.hist(patches[:,:,band].ravel(), rwidth=0.8,color='C{}'.format(band))\n",
    "    ax.set_title(\"Band {}\".format(band_list[band]), fontsize=14)\n",
    "    if band == 0:\n",
    "        ax.set_ylabel('# of pixel', fontsize=14)\n",
    "        ax.set_xlabel(\"normalized data range\", fontsize=14)\n",
    "    #ax.set_xlim(-3.1, 3.1)\n",
    "    #ax.set_xticks(np.linspace(-3,3,7))\n",
    "fig.tight_layout()\n",
    "plt.show()"
   ]
  },
  {
   "cell_type": "code",
   "execution_count": 14,
   "metadata": {},
   "outputs": [
    {
     "data": {
      "text/plain": [
       "numpy.ndarray"
      ]
     },
     "execution_count": 14,
     "metadata": {},
     "output_type": "execute_result"
    }
   ],
   "source": [
    "type(patches)"
   ]
  },
  {
   "cell_type": "code",
   "execution_count": 15,
   "metadata": {},
   "outputs": [
    {
     "data": {
      "text/plain": [
       "array([17.83428549,  4.39049994,  0.53390234,  3.00134035,  6.59956427,\n",
       "        7.36041492])"
      ]
     },
     "execution_count": 15,
     "metadata": {},
     "output_type": "execute_result"
    }
   ],
   "source": [
    "np.mean(patches, axis=(0,1), dtype=np.float64)"
   ]
  },
  {
   "cell_type": "code",
   "execution_count": 17,
   "metadata": {},
   "outputs": [
    {
     "ename": "MemoryError",
     "evalue": "Unable to allocate array with shape (134871, 16384, 6) and data type float32",
     "output_type": "error",
     "traceback": [
      "\u001b[0;31m---------------------------------------------------------------------------\u001b[0m",
      "\u001b[0;31mMemoryError\u001b[0m                               Traceback (most recent call last)",
      "\u001b[0;32m<ipython-input-17-12ded4f22496>\u001b[0m in \u001b[0;36m<module>\u001b[0;34m\u001b[0m\n\u001b[0;32m----> 1\u001b[0;31m \u001b[0mnp\u001b[0m\u001b[0;34m.\u001b[0m\u001b[0mstd\u001b[0m\u001b[0;34m(\u001b[0m\u001b[0mpatches\u001b[0m\u001b[0;34m,\u001b[0m \u001b[0maxis\u001b[0m\u001b[0;34m=\u001b[0m\u001b[0;34m(\u001b[0m\u001b[0;36m0\u001b[0m\u001b[0;34m,\u001b[0m\u001b[0;36m1\u001b[0m\u001b[0;34m)\u001b[0m\u001b[0;34m)\u001b[0m\u001b[0;34m\u001b[0m\u001b[0;34m\u001b[0m\u001b[0m\n\u001b[0m",
      "\u001b[0;32m<__array_function__ internals>\u001b[0m in \u001b[0;36mstd\u001b[0;34m(*args, **kwargs)\u001b[0m\n",
      "\u001b[0;32m~/.local/lib/python3.6/site-packages/numpy/core/fromnumeric.py\u001b[0m in \u001b[0;36mstd\u001b[0;34m(a, axis, dtype, out, ddof, keepdims)\u001b[0m\n\u001b[1;32m   3379\u001b[0m \u001b[0;34m\u001b[0m\u001b[0m\n\u001b[1;32m   3380\u001b[0m     return _methods._std(a, axis=axis, dtype=dtype, out=out, ddof=ddof,\n\u001b[0;32m-> 3381\u001b[0;31m                          **kwargs)\n\u001b[0m\u001b[1;32m   3382\u001b[0m \u001b[0;34m\u001b[0m\u001b[0m\n\u001b[1;32m   3383\u001b[0m \u001b[0;34m\u001b[0m\u001b[0m\n",
      "\u001b[0;32m~/.local/lib/python3.6/site-packages/numpy/core/_methods.py\u001b[0m in \u001b[0;36m_std\u001b[0;34m(a, axis, dtype, out, ddof, keepdims)\u001b[0m\n\u001b[1;32m    215\u001b[0m \u001b[0;32mdef\u001b[0m \u001b[0m_std\u001b[0m\u001b[0;34m(\u001b[0m\u001b[0ma\u001b[0m\u001b[0;34m,\u001b[0m \u001b[0maxis\u001b[0m\u001b[0;34m=\u001b[0m\u001b[0;32mNone\u001b[0m\u001b[0;34m,\u001b[0m \u001b[0mdtype\u001b[0m\u001b[0;34m=\u001b[0m\u001b[0;32mNone\u001b[0m\u001b[0;34m,\u001b[0m \u001b[0mout\u001b[0m\u001b[0;34m=\u001b[0m\u001b[0;32mNone\u001b[0m\u001b[0;34m,\u001b[0m \u001b[0mddof\u001b[0m\u001b[0;34m=\u001b[0m\u001b[0;36m0\u001b[0m\u001b[0;34m,\u001b[0m \u001b[0mkeepdims\u001b[0m\u001b[0;34m=\u001b[0m\u001b[0;32mFalse\u001b[0m\u001b[0;34m)\u001b[0m\u001b[0;34m:\u001b[0m\u001b[0;34m\u001b[0m\u001b[0;34m\u001b[0m\u001b[0m\n\u001b[1;32m    216\u001b[0m     ret = _var(a, axis=axis, dtype=dtype, out=out, ddof=ddof,\n\u001b[0;32m--> 217\u001b[0;31m                keepdims=keepdims)\n\u001b[0m\u001b[1;32m    218\u001b[0m \u001b[0;34m\u001b[0m\u001b[0m\n\u001b[1;32m    219\u001b[0m     \u001b[0;32mif\u001b[0m \u001b[0misinstance\u001b[0m\u001b[0;34m(\u001b[0m\u001b[0mret\u001b[0m\u001b[0;34m,\u001b[0m \u001b[0mmu\u001b[0m\u001b[0;34m.\u001b[0m\u001b[0mndarray\u001b[0m\u001b[0;34m)\u001b[0m\u001b[0;34m:\u001b[0m\u001b[0;34m\u001b[0m\u001b[0;34m\u001b[0m\u001b[0m\n",
      "\u001b[0;32m~/.local/lib/python3.6/site-packages/numpy/core/_methods.py\u001b[0m in \u001b[0;36m_var\u001b[0;34m(a, axis, dtype, out, ddof, keepdims)\u001b[0m\n\u001b[1;32m    191\u001b[0m     \u001b[0;31m# Note that x may not be inexact and that we need it to be an array,\u001b[0m\u001b[0;34m\u001b[0m\u001b[0;34m\u001b[0m\u001b[0;34m\u001b[0m\u001b[0m\n\u001b[1;32m    192\u001b[0m     \u001b[0;31m# not a scalar.\u001b[0m\u001b[0;34m\u001b[0m\u001b[0;34m\u001b[0m\u001b[0;34m\u001b[0m\u001b[0m\n\u001b[0;32m--> 193\u001b[0;31m     \u001b[0mx\u001b[0m \u001b[0;34m=\u001b[0m \u001b[0masanyarray\u001b[0m\u001b[0;34m(\u001b[0m\u001b[0marr\u001b[0m \u001b[0;34m-\u001b[0m \u001b[0marrmean\u001b[0m\u001b[0;34m)\u001b[0m\u001b[0;34m\u001b[0m\u001b[0;34m\u001b[0m\u001b[0m\n\u001b[0m\u001b[1;32m    194\u001b[0m     \u001b[0;32mif\u001b[0m \u001b[0missubclass\u001b[0m\u001b[0;34m(\u001b[0m\u001b[0marr\u001b[0m\u001b[0;34m.\u001b[0m\u001b[0mdtype\u001b[0m\u001b[0;34m.\u001b[0m\u001b[0mtype\u001b[0m\u001b[0;34m,\u001b[0m \u001b[0;34m(\u001b[0m\u001b[0mnt\u001b[0m\u001b[0;34m.\u001b[0m\u001b[0mfloating\u001b[0m\u001b[0;34m,\u001b[0m \u001b[0mnt\u001b[0m\u001b[0;34m.\u001b[0m\u001b[0minteger\u001b[0m\u001b[0;34m)\u001b[0m\u001b[0;34m)\u001b[0m\u001b[0;34m:\u001b[0m\u001b[0;34m\u001b[0m\u001b[0;34m\u001b[0m\u001b[0m\n\u001b[1;32m    195\u001b[0m         \u001b[0mx\u001b[0m \u001b[0;34m=\u001b[0m \u001b[0mum\u001b[0m\u001b[0;34m.\u001b[0m\u001b[0mmultiply\u001b[0m\u001b[0;34m(\u001b[0m\u001b[0mx\u001b[0m\u001b[0;34m,\u001b[0m \u001b[0mx\u001b[0m\u001b[0;34m,\u001b[0m \u001b[0mout\u001b[0m\u001b[0;34m=\u001b[0m\u001b[0mx\u001b[0m\u001b[0;34m)\u001b[0m\u001b[0;34m\u001b[0m\u001b[0;34m\u001b[0m\u001b[0m\n",
      "\u001b[0;31mMemoryError\u001b[0m: Unable to allocate array with shape (134871, 16384, 6) and data type float32"
     ]
    }
   ],
   "source": [
    "np.std(patches, axis=(0,1))"
   ]
  },
  {
   "cell_type": "code",
   "execution_count": 22,
   "metadata": {},
   "outputs": [],
   "source": [
    "def compute_std(arr, pivot_):\n",
    "    import math\n",
    "    BLOCKSIZE =  2048**2  #1024**2\n",
    "    # For numerical stability. The closer this is to mean(arr), the better.\n",
    "    PIVOT =  pivot_ #arr[0]\n",
    "\n",
    "\n",
    "    n = len(arr)\n",
    "    sum_ = 0.\n",
    "    sum_sq = 0.\n",
    "    for block_start in range(0, n, BLOCKSIZE):\n",
    "        block_data = arr[block_start:block_start + BLOCKSIZE]\n",
    "        block_data -= PIVOT\n",
    "        sum_ += math.fsum(block_data)\n",
    "        sum_sq += math.fsum(block_data**2)\n",
    "\n",
    "    stdev = np.sqrt(sum_sq / n - (sum_ / n)**2)\n",
    "    return stdev"
   ]
  },
  {
   "cell_type": "code",
   "execution_count": 24,
   "metadata": {},
   "outputs": [
    {
     "ename": "MemoryError",
     "evalue": "Unable to allocate array with shape (2209726464,) and data type float32",
     "output_type": "error",
     "traceback": [
      "\u001b[0;31m---------------------------------------------------------------------------\u001b[0m",
      "\u001b[0;31mMemoryError\u001b[0m                               Traceback (most recent call last)",
      "\u001b[0;32m<ipython-input-24-e6206409bf7a>\u001b[0m in \u001b[0;36m<module>\u001b[0;34m\u001b[0m\n\u001b[1;32m      5\u001b[0m \u001b[0;34m\u001b[0m\u001b[0m\n\u001b[1;32m      6\u001b[0m \u001b[0;32mfor\u001b[0m \u001b[0mi\u001b[0m \u001b[0;32min\u001b[0m \u001b[0mrange\u001b[0m\u001b[0;34m(\u001b[0m\u001b[0;36m6\u001b[0m\u001b[0;34m)\u001b[0m\u001b[0;34m:\u001b[0m\u001b[0;34m\u001b[0m\u001b[0;34m\u001b[0m\u001b[0m\n\u001b[0;32m----> 7\u001b[0;31m     \u001b[0mstdv_list\u001b[0m\u001b[0;34m.\u001b[0m\u001b[0mappend\u001b[0m\u001b[0;34m(\u001b[0m\u001b[0mcompute_std\u001b[0m\u001b[0;34m(\u001b[0m\u001b[0mpatches\u001b[0m\u001b[0;34m[\u001b[0m\u001b[0;34m:\u001b[0m\u001b[0;34m,\u001b[0m\u001b[0;34m:\u001b[0m\u001b[0;34m,\u001b[0m\u001b[0mi\u001b[0m\u001b[0;34m]\u001b[0m\u001b[0;34m.\u001b[0m\u001b[0mravel\u001b[0m\u001b[0;34m(\u001b[0m\u001b[0;34m)\u001b[0m\u001b[0;34m,\u001b[0m \u001b[0mpivots\u001b[0m\u001b[0;34m[\u001b[0m\u001b[0mi\u001b[0m\u001b[0;34m]\u001b[0m\u001b[0;34m)\u001b[0m\u001b[0;34m)\u001b[0m\u001b[0;34m\u001b[0m\u001b[0;34m\u001b[0m\u001b[0m\n\u001b[0m\u001b[1;32m      8\u001b[0m     \u001b[0mgc\u001b[0m\u001b[0;34m.\u001b[0m\u001b[0mcollect\u001b[0m\u001b[0;34m(\u001b[0m\u001b[0;34m)\u001b[0m\u001b[0;34m\u001b[0m\u001b[0;34m\u001b[0m\u001b[0m\n",
      "\u001b[0;31mMemoryError\u001b[0m: Unable to allocate array with shape (2209726464,) and data type float32"
     ]
    }
   ],
   "source": [
    "import gc\n",
    "stdv_list = []\n",
    "pivots = np.array([17.83428549,  4.39049994,  0.53390234,  3.00134035,  6.59956427,\n",
    "        7.36041492])\n",
    "\n",
    "for i in range(6):\n",
    "    stdv_list.append(compute_std(patches[:,:,i].ravel(), pivots[i]))\n",
    "    gc.collect()"
   ]
  },
  {
   "cell_type": "code",
   "execution_count": 36,
   "metadata": {},
   "outputs": [
    {
     "ename": "MemoryError",
     "evalue": "Unable to allocate array with shape (134871, 16384) and data type float32",
     "output_type": "error",
     "traceback": [
      "\u001b[0;31m---------------------------------------------------------------------------\u001b[0m",
      "\u001b[0;31mMemoryError\u001b[0m                               Traceback (most recent call last)",
      "\u001b[0;32m<ipython-input-36-7f30d20fdbb4>\u001b[0m in \u001b[0;36m<module>\u001b[0;34m\u001b[0m\n\u001b[1;32m      1\u001b[0m \u001b[0mgc\u001b[0m\u001b[0;34m.\u001b[0m\u001b[0mcollect\u001b[0m\u001b[0;34m(\u001b[0m\u001b[0;34m)\u001b[0m\u001b[0;34m\u001b[0m\u001b[0;34m\u001b[0m\u001b[0m\n\u001b[0;32m----> 2\u001b[0;31m \u001b[0mint_patches\u001b[0m \u001b[0;34m=\u001b[0m \u001b[0mpatches\u001b[0m\u001b[0;34m[\u001b[0m\u001b[0;34m:\u001b[0m\u001b[0;34m,\u001b[0m\u001b[0;34m:\u001b[0m\u001b[0;34m,\u001b[0m\u001b[0mi\u001b[0m\u001b[0;34m]\u001b[0m\u001b[0;34m*\u001b[0m\u001b[0;36m1000\u001b[0m\u001b[0;34m\u001b[0m\u001b[0;34m\u001b[0m\u001b[0m\n\u001b[0m",
      "\u001b[0;31mMemoryError\u001b[0m: Unable to allocate array with shape (134871, 16384) and data type float32"
     ]
    }
   ],
   "source": [
    "gc.collect()\n",
    "int_patches = patches[:,:,i]*1000"
   ]
  },
  {
   "cell_type": "code",
   "execution_count": 48,
   "metadata": {},
   "outputs": [
    {
     "name": "stdout",
     "output_type": "stream",
     "text": [
      "[11.78707711613516, 2.793032929530397, 0.17815300904519976, 0.6271898780702198, 1.1819086621347454, 1.1398782276003945]\n",
      "[11.480548188150772, 2.724693650606142, 0.17840724566439736, 0.6291332225199735, 1.2966006306468945, 1.2544922386512591]\n",
      "[11.494107812015596, 2.7810528101131973, 0.18634085031891534, 0.654356102437039, 1.3395038788909412, 1.2989955457216271]\n",
      "[11.733629689622305, 2.7961296655374643, 0.17766730305684786, 0.6203949644877589, 1.1634583672103538, 1.1244853346032728]\n",
      "[11.676342619440385, 2.786445621967466, 0.1825572208762132, 0.6600332881550327, 1.3317002077541233, 1.297418378131194]\n",
      "[11.490672500406022, 2.7566852317772677, 0.1846242160912661, 0.683376699843452, 1.295811303428461, 1.2541424280600402]\n"
     ]
    }
   ],
   "source": [
    "stdv_list = []\n",
    "\n",
    "blocklen = 20000\n",
    "begin=0\n",
    "stdv_list = []\n",
    "for j in range(6):\n",
    "    tmp_stdv_list = []\n",
    "    for i in range(6):\n",
    "        int_patches = patches[begin:begin+blocklen,:,i]*1000\n",
    "        int_patches = int_patches.astype(np.int64)\n",
    "        stdv = np.std(int_patches)/1000\n",
    "        gc.collect()\n",
    "        tmp_stdv_list.append(stdv)\n",
    "    print(tmp_stdv_list)\n",
    "    stdv_list.append(np.array(tmp_stdv_list, dtype=np.float64))\n",
    "    begin += blocklen"
   ]
  },
  {
   "cell_type": "code",
   "execution_count": 52,
   "metadata": {},
   "outputs": [],
   "source": [
    "stdvs = np.array([\n",
    "[11.78707711613516, 2.793032929530397, 0.17815300904519976, 0.6271898780702198, 1.1819086621347454, 1.1398782276003945],\n",
    "[11.480548188150772, 2.724693650606142, 0.17840724566439736, 0.6291332225199735, 1.2966006306468945, 1.2544922386512591],\n",
    "[11.494107812015596, 2.7810528101131973, 0.18634085031891534, 0.654356102437039, 1.3395038788909412, 1.2989955457216271],\n",
    "[11.733629689622305, 2.7961296655374643, 0.17766730305684786, 0.6203949644877589, 1.1634583672103538, 1.1244853346032728],\n",
    "[11.676342619440385, 2.786445621967466, 0.1825572208762132, 0.6600332881550327, 1.3317002077541233, 1.297418378131194],\n",
    "[11.490672500406022, 2.7566852317772677, 0.1846242160912661, 0.683376699843452, 1.295811303428461, 1.2541424280600402],\n",
    "]\n",
    "    )"
   ]
  },
  {
   "cell_type": "code",
   "execution_count": 55,
   "metadata": {},
   "outputs": [
    {
     "data": {
      "text/plain": [
       "array([11.61039632,  2.77300665,  0.18129164,  0.64574736,  1.26816384,\n",
       "        1.22823536])"
      ]
     },
     "execution_count": 55,
     "metadata": {},
     "output_type": "execute_result"
    }
   ],
   "source": [
    "app_stdvs = np.mean(stdvs, axis=0)\n",
    "app_stdvs"
   ]
  },
  {
   "cell_type": "code",
   "execution_count": 57,
   "metadata": {},
   "outputs": [],
   "source": [
    "means = np.array([17.83428549,  4.39049994,  0.53390234,  3.00134035,  6.59956427, 7.36041492])"
   ]
  },
  {
   "cell_type": "code",
   "execution_count": 58,
   "metadata": {},
   "outputs": [],
   "source": [
    "#\n",
    "# m2_02_band28_29_31_gmean.npy  m2_02_band28_29_31_gstdv.npy\n",
    "#\n",
    "savedir = os.path.join(input_datadir, 'global_mean_std')\n",
    "np.save(os.path.join(savedir,'m2_02_band28_29_31_gmean.npy' ), means)\n",
    "np.save(os.path.join(savedir,'m2_02_band28_29_31_gstdv.npy' ), app_stdvs)"
   ]
  },
  {
   "cell_type": "code",
   "execution_count": null,
   "metadata": {},
   "outputs": [],
   "source": []
  }
 ],
 "metadata": {
  "kernelspec": {
   "display_name": "Python 3",
   "language": "python",
   "name": "python3"
  },
  "language_info": {
   "codemirror_mode": {
    "name": "ipython",
    "version": 3
   },
   "file_extension": ".py",
   "mimetype": "text/x-python",
   "name": "python",
   "nbconvert_exporter": "python",
   "pygments_lexer": "ipython3",
   "version": "3.6.6"
  }
 },
 "nbformat": 4,
 "nbformat_minor": 2
}
