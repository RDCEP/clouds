{
 "cells": [
  {
   "cell_type": "markdown",
   "metadata": {},
   "source": [
    "### Notebook for analysis of distribution"
   ]
  },
  {
   "cell_type": "code",
   "execution_count": 1,
   "metadata": {},
   "outputs": [],
   "source": [
    "%matplotlib inline\n",
    "import os\n",
    "import gc\n",
    "import glob\n",
    "import pickle\n",
    "import numpy as np\n",
    "import pandas as pd\n",
    "import matplotlib.pyplot as plt"
   ]
  },
  {
   "cell_type": "code",
   "execution_count": 286,
   "metadata": {},
   "outputs": [],
   "source": [
    "from statsmodels.stats.proportion import proportions_ztest"
   ]
  },
  {
   "cell_type": "code",
   "execution_count": 65,
   "metadata": {},
   "outputs": [],
   "source": [
    "import seaborn as sns"
   ]
  },
  {
   "cell_type": "code",
   "execution_count": 2,
   "metadata": {},
   "outputs": [],
   "source": [
    "def pkl_loader(filename):\n",
    "    with open(filename, 'rb') as f:\n",
    "        data = pickle.load(f)\n",
    "    return data"
   ]
  },
  {
   "cell_type": "code",
   "execution_count": 23,
   "metadata": {},
   "outputs": [],
   "source": [
    "def file_getter(basedatadir=None, expname=None, nclusters=None, \n",
    "                cexpname=None,scope='intra',key_name=None,nstep=256):\n",
    "    \"\"\" scope:= inter / intra \n",
    "    \"\"\"\n",
    "    datadir = os.path.join(basedatadir, f\"{expname}/nclusters-{nclusters}/HAC\")\n",
    "    try:\n",
    "        tmp = glob.glob(os.path.join(datadir, '*.pkl'))\n",
    "        a = [i for i in tmp]\n",
    "        print(\"Begin loading result files\")\n",
    "        #print(a)\n",
    "    except Exception as e:\n",
    "        print(e)\n",
    "        \n",
    "    # extract data\n",
    "    key_list = ['optical thickness','phase',\n",
    "                'top pressure','effective radius','water path']\n",
    "    try:\n",
    "        if key_name in key_list:\n",
    "            dict_data = pkl_loader(\n",
    "                glob.glob(os.path.join(\n",
    "                    datadir, f\"sim-{scope}_*_{key_name}_{nstep}.pkl\"))[0]\n",
    "            )\n",
    "            #sim-{scope}_{cexpname}_{key_name}_{nstep}.pkl\n",
    "            return dict_data\n",
    "    except Exception as e:\n",
    "        print(e)"
   ]
  },
  {
   "cell_type": "markdown",
   "metadata": {},
   "source": [
    "### Load data"
   ]
  },
  {
   "cell_type": "code",
   "execution_count": 115,
   "metadata": {},
   "outputs": [],
   "source": [
    "nclusters_list = [4,8,16,32,64,128,256,512]"
   ]
  },
  {
   "cell_type": "code",
   "execution_count": 113,
   "metadata": {},
   "outputs": [],
   "source": [
    "key_list = ['optical thickness','phase',\n",
    "                'top pressure','effective radius','water path']"
   ]
  },
  {
   "cell_type": "code",
   "execution_count": 114,
   "metadata": {},
   "outputs": [],
   "source": [
    "basedatadir='./mod06_anl/hist_large_hac12_2'"
   ]
  },
  {
   "cell_type": "markdown",
   "metadata": {},
   "source": [
    "--------------------------------------\n",
    "### RI"
   ]
  },
  {
   "cell_type": "markdown",
   "metadata": {},
   "source": [
    "#### RI-inter"
   ]
  },
  {
   "cell_type": "code",
   "execution_count": 118,
   "metadata": {},
   "outputs": [],
   "source": [
    "expname = '4678889'"
   ]
  },
  {
   "cell_type": "code",
   "execution_count": 119,
   "metadata": {
    "scrolled": true
   },
   "outputs": [
    {
     "name": "stdout",
     "output_type": "stream",
     "text": [
      "Begin loading result files\n",
      "Begin loading result files\n",
      "Begin loading result files\n",
      "Begin loading result files\n",
      "Begin loading result files\n",
      "Begin loading result files\n",
      "Begin loading result files\n",
      "Begin loading result files\n",
      "Begin loading result files\n",
      "Begin loading result files\n",
      "Begin loading result files\n",
      "Begin loading result files\n",
      "Begin loading result files\n",
      "Begin loading result files\n",
      "Begin loading result files\n",
      "Begin loading result files\n",
      "Begin loading result files\n",
      "Begin loading result files\n",
      "Begin loading result files\n",
      "Begin loading result files\n",
      "Begin loading result files\n",
      "Begin loading result files\n",
      "Begin loading result files\n",
      "Begin loading result files\n",
      "Begin loading result files\n",
      "Begin loading result files\n",
      "Begin loading result files\n",
      "Begin loading result files\n",
      "Begin loading result files\n",
      "Begin loading result files\n",
      "Begin loading result files\n",
      "Begin loading result files\n",
      "Begin loading result files\n",
      "Begin loading result files\n",
      "Begin loading result files\n",
      "Begin loading result files\n",
      "Begin loading result files\n",
      "Begin loading result files\n",
      "Begin loading result files\n",
      "Begin loading result files\n"
     ]
    }
   ],
   "source": [
    "mod06_ri_inters = {}\n",
    "cexpname = '*'\n",
    "scope='inter'\n",
    "for nclusters in nclusters_list:\n",
    "    tmp = []\n",
    "    for key_name in key_list:\n",
    "        tmp.append(file_getter(basedatadir,expname=expname,nclusters=nclusters,\n",
    "                                       cexpname=cexpname,scope=scope,key_name=key_name\n",
    "                        )\n",
    "        )\n",
    "    mod06_ri_inters[f'nclusters-{nclusters}'] = tmp"
   ]
  },
  {
   "cell_type": "code",
   "execution_count": 33,
   "metadata": {},
   "outputs": [
    {
     "data": {
      "text/plain": [
       "dict_keys(['nclusters-4', 'nclusters-8', 'nclusters-16', 'nclusters-32', 'nclusters-64', 'nclusters-128', 'nclusters-256', 'nclusters-512'])"
      ]
     },
     "execution_count": 33,
     "metadata": {},
     "output_type": "execute_result"
    }
   ],
   "source": [
    "mod06_ri_inters.keys()"
   ]
  },
  {
   "cell_type": "markdown",
   "metadata": {},
   "source": [
    "#### RI-intra"
   ]
  },
  {
   "cell_type": "code",
   "execution_count": 120,
   "metadata": {
    "scrolled": true
   },
   "outputs": [
    {
     "name": "stdout",
     "output_type": "stream",
     "text": [
      "Begin loading result files\n",
      "Begin loading result files\n",
      "Begin loading result files\n",
      "Begin loading result files\n",
      "Begin loading result files\n",
      "Begin loading result files\n",
      "Begin loading result files\n",
      "Begin loading result files\n",
      "Begin loading result files\n",
      "Begin loading result files\n",
      "Begin loading result files\n",
      "Begin loading result files\n",
      "Begin loading result files\n",
      "Begin loading result files\n",
      "Begin loading result files\n",
      "Begin loading result files\n",
      "Begin loading result files\n",
      "Begin loading result files\n",
      "Begin loading result files\n",
      "Begin loading result files\n",
      "Begin loading result files\n",
      "Begin loading result files\n",
      "Begin loading result files\n",
      "Begin loading result files\n",
      "Begin loading result files\n",
      "Begin loading result files\n",
      "Begin loading result files\n",
      "Begin loading result files\n",
      "Begin loading result files\n",
      "Begin loading result files\n",
      "Begin loading result files\n",
      "Begin loading result files\n",
      "Begin loading result files\n",
      "Begin loading result files\n",
      "Begin loading result files\n",
      "Begin loading result files\n",
      "Begin loading result files\n",
      "Begin loading result files\n",
      "Begin loading result files\n",
      "Begin loading result files\n"
     ]
    }
   ],
   "source": [
    "mod06_ri_intras = {}\n",
    "cexpname = '*'\n",
    "scope='intra'\n",
    "for nclusters in nclusters_list:\n",
    "    tmp = []\n",
    "    for key_name in key_list:\n",
    "        tmp.append(file_getter(basedatadir,expname=expname,nclusters=nclusters,\n",
    "                                       cexpname=cexpname,scope=scope,key_name=key_name\n",
    "                        )\n",
    "        )\n",
    "    mod06_ri_intras[f'nclusters-{nclusters}'] = tmp"
   ]
  },
  {
   "cell_type": "markdown",
   "metadata": {},
   "source": [
    "----------------------\n",
    "### NRI"
   ]
  },
  {
   "cell_type": "code",
   "execution_count": 121,
   "metadata": {},
   "outputs": [],
   "source": [
    "expname = 'm2_02_global_2000_2018_band28_29_31'"
   ]
  },
  {
   "cell_type": "markdown",
   "metadata": {},
   "source": [
    "#### NRI-Inter"
   ]
  },
  {
   "cell_type": "code",
   "execution_count": 122,
   "metadata": {
    "scrolled": true
   },
   "outputs": [
    {
     "name": "stdout",
     "output_type": "stream",
     "text": [
      "Begin loading result files\n",
      "Begin loading result files\n",
      "Begin loading result files\n",
      "Begin loading result files\n",
      "Begin loading result files\n",
      "Begin loading result files\n",
      "Begin loading result files\n",
      "Begin loading result files\n",
      "Begin loading result files\n",
      "Begin loading result files\n",
      "Begin loading result files\n",
      "Begin loading result files\n",
      "Begin loading result files\n",
      "Begin loading result files\n",
      "Begin loading result files\n",
      "Begin loading result files\n",
      "Begin loading result files\n",
      "Begin loading result files\n",
      "Begin loading result files\n",
      "Begin loading result files\n",
      "Begin loading result files\n",
      "Begin loading result files\n",
      "Begin loading result files\n",
      "Begin loading result files\n",
      "Begin loading result files\n",
      "Begin loading result files\n",
      "Begin loading result files\n",
      "Begin loading result files\n",
      "Begin loading result files\n",
      "Begin loading result files\n",
      "Begin loading result files\n",
      "Begin loading result files\n",
      "Begin loading result files\n",
      "Begin loading result files\n",
      "Begin loading result files\n",
      "Begin loading result files\n",
      "Begin loading result files\n",
      "Begin loading result files\n",
      "Begin loading result files\n",
      "Begin loading result files\n"
     ]
    }
   ],
   "source": [
    "mod06_nri_inters = {}\n",
    "cexpname = '*'\n",
    "scope='inter'\n",
    "for nclusters in nclusters_list:\n",
    "    tmp = []\n",
    "    for key_name in key_list:\n",
    "        tmp.append(file_getter(basedatadir,expname=expname,nclusters=nclusters,\n",
    "                                       cexpname=cexpname,scope=scope,key_name=key_name\n",
    "                        )\n",
    "        )\n",
    "    mod06_nri_inters[f'nclusters-{nclusters}'] = tmp"
   ]
  },
  {
   "cell_type": "markdown",
   "metadata": {},
   "source": [
    "#### NRI-Intra"
   ]
  },
  {
   "cell_type": "code",
   "execution_count": 123,
   "metadata": {
    "scrolled": true
   },
   "outputs": [
    {
     "name": "stdout",
     "output_type": "stream",
     "text": [
      "Begin loading result files\n",
      "Begin loading result files\n",
      "Begin loading result files\n",
      "Begin loading result files\n",
      "Begin loading result files\n",
      "Begin loading result files\n",
      "Begin loading result files\n",
      "Begin loading result files\n",
      "Begin loading result files\n",
      "Begin loading result files\n",
      "Begin loading result files\n",
      "Begin loading result files\n",
      "Begin loading result files\n",
      "Begin loading result files\n",
      "Begin loading result files\n",
      "Begin loading result files\n",
      "Begin loading result files\n",
      "Begin loading result files\n",
      "Begin loading result files\n",
      "Begin loading result files\n",
      "Begin loading result files\n",
      "Begin loading result files\n",
      "Begin loading result files\n",
      "Begin loading result files\n",
      "Begin loading result files\n",
      "Begin loading result files\n",
      "Begin loading result files\n",
      "Begin loading result files\n",
      "Begin loading result files\n",
      "Begin loading result files\n",
      "Begin loading result files\n",
      "Begin loading result files\n",
      "Begin loading result files\n",
      "Begin loading result files\n",
      "Begin loading result files\n",
      "Begin loading result files\n",
      "Begin loading result files\n",
      "Begin loading result files\n",
      "Begin loading result files\n",
      "Begin loading result files\n"
     ]
    }
   ],
   "source": [
    "mod06_nri_intras = {}\n",
    "cexpname = '*'\n",
    "scope='intra'\n",
    "for nclusters in nclusters_list:\n",
    "    tmp = []\n",
    "    for key_name in key_list:\n",
    "        tmp.append(file_getter(basedatadir,expname=expname,nclusters=nclusters,\n",
    "                                       cexpname=cexpname,scope=scope,key_name=key_name\n",
    "                        )\n",
    "        )\n",
    "    mod06_nri_intras[f'nclusters-{nclusters}'] = tmp"
   ]
  },
  {
   "cell_type": "markdown",
   "metadata": {},
   "source": [
    "-----------------\n",
    "# Analysis"
   ]
  },
  {
   "cell_type": "markdown",
   "metadata": {},
   "source": [
    "Dissect key and list: INTER"
   ]
  },
  {
   "cell_type": "code",
   "execution_count": 38,
   "metadata": {},
   "outputs": [
    {
     "data": {
      "text/plain": [
       "dict_keys(['nclusters-4', 'nclusters-8', 'nclusters-16', 'nclusters-32', 'nclusters-64', 'nclusters-128', 'nclusters-256', 'nclusters-512'])"
      ]
     },
     "execution_count": 38,
     "metadata": {},
     "output_type": "execute_result"
    }
   ],
   "source": [
    "mod06_ri_inters.keys()"
   ]
  },
  {
   "cell_type": "code",
   "execution_count": 46,
   "metadata": {},
   "outputs": [
    {
     "data": {
      "text/plain": [
       "5"
      ]
     },
     "execution_count": 46,
     "metadata": {},
     "output_type": "execute_result"
    }
   ],
   "source": [
    "len(mod06_ri_inters[\"nclusters-4\"]) # five physical parameters"
   ]
  },
  {
   "cell_type": "code",
   "execution_count": 42,
   "metadata": {},
   "outputs": [
    {
     "data": {
      "text/plain": [
       "dict_keys(['cluster0-cluster1', 'cluster0-cluster2', 'cluster0-cluster3', 'cluster1-cluster2', 'cluster1-cluster3', 'cluster2-cluster3'])"
      ]
     },
     "execution_count": 42,
     "metadata": {},
     "output_type": "execute_result"
    }
   ],
   "source": [
    "mod06_ri_inters[\"nclusters-4\"][0].keys()"
   ]
  },
  {
   "cell_type": "code",
   "execution_count": 43,
   "metadata": {},
   "outputs": [
    {
     "data": {
      "text/plain": [
       "dict_keys(['emd', 'correlation', 'chi-square', 'intersection', 'bhattacharyya'])"
      ]
     },
     "execution_count": 43,
     "metadata": {},
     "output_type": "execute_result"
    }
   ],
   "source": [
    "mod06_ri_inters[\"nclusters-4\"][0]['cluster0-cluster1'].keys()"
   ]
  },
  {
   "cell_type": "code",
   "execution_count": 44,
   "metadata": {},
   "outputs": [
    {
     "name": "stdout",
     "output_type": "stream",
     "text": [
      "emd 0.0009727332091776638\n",
      "correlation 0.7850301165500955\n",
      "chi-square 4887873.512907344\n",
      "intersection 1579396.0\n",
      "bhattacharyya 0.21087512913946255\n"
     ]
    }
   ],
   "source": [
    "for i in mod06_ri_inters[\"nclusters-4\"][0]['cluster0-cluster1'].keys():\n",
    "    tmp = mod06_ri_inters[\"nclusters-4\"][0]['cluster0-cluster1']\n",
    "    print(i,tmp[i])"
   ]
  },
  {
   "cell_type": "markdown",
   "metadata": {},
   "source": [
    "Dissect key and list for Phase: INTER"
   ]
  },
  {
   "cell_type": "code",
   "execution_count": 128,
   "metadata": {},
   "outputs": [
    {
     "data": {
      "text/plain": [
       "dict_keys(['ncluster-0', 'ncluster-1', 'ncluster-2', 'ncluster-3'])"
      ]
     },
     "execution_count": 128,
     "metadata": {},
     "output_type": "execute_result"
    }
   ],
   "source": [
    "mod06_ri_inters[\"nclusters-4\"][1].keys() # 1 ZZ"
   ]
  },
  {
   "cell_type": "code",
   "execution_count": 130,
   "metadata": {},
   "outputs": [
    {
     "data": {
      "text/plain": [
       "dict_keys([0, 1, 2, 3])"
      ]
     },
     "execution_count": 130,
     "metadata": {},
     "output_type": "execute_result"
    }
   ],
   "source": [
    "mod06_ri_inters[\"nclusters-4\"][1]['ncluster-0'].keys()"
   ]
  },
  {
   "cell_type": "code",
   "execution_count": 129,
   "metadata": {},
   "outputs": [
    {
     "data": {
      "text/plain": [
       "dict_keys(['ncluster-0', 'ncluster-1', 'ncluster-2', 'ncluster-3'])"
      ]
     },
     "execution_count": 129,
     "metadata": {},
     "output_type": "execute_result"
    }
   ],
   "source": [
    "mod06_ri_intras[\"nclusters-4\"][1].keys()"
   ]
  },
  {
   "cell_type": "code",
   "execution_count": 134,
   "metadata": {
    "scrolled": true
   },
   "outputs": [
    {
     "data": {
      "text/plain": [
       "997"
      ]
     },
     "execution_count": 134,
     "metadata": {},
     "output_type": "execute_result"
    }
   ],
   "source": [
    "len(mod06_ri_intras[\"nclusters-4\"][1]['ncluster-0'].keys())"
   ]
  },
  {
   "cell_type": "code",
   "execution_count": 150,
   "metadata": {
    "scrolled": true
   },
   "outputs": [
    {
     "data": {
      "text/plain": [
       "dict_keys([0, 1, 2, 3])"
      ]
     },
     "execution_count": 150,
     "metadata": {},
     "output_type": "execute_result"
    }
   ],
   "source": [
    "mod06_ri_intras[\"nclusters-4\"][1]['ncluster-0'][0].keys()"
   ]
  },
  {
   "cell_type": "code",
   "execution_count": 151,
   "metadata": {},
   "outputs": [
    {
     "data": {
      "text/plain": [
       "38.018798828125"
      ]
     },
     "execution_count": 151,
     "metadata": {},
     "output_type": "execute_result"
    }
   ],
   "source": [
    "mod06_ri_intras[\"nclusters-4\"][1]['ncluster-0'][0][0]"
   ]
  },
  {
   "cell_type": "code",
   "execution_count": 138,
   "metadata": {},
   "outputs": [
    {
     "data": {
      "text/plain": [
       "dict_keys(['ncluster-0', 'ncluster-1', 'ncluster-2', 'ncluster-3', 'ncluster-4', 'ncluster-5', 'ncluster-6', 'ncluster-7', 'ncluster-8', 'ncluster-9', 'ncluster-10', 'ncluster-11', 'ncluster-12', 'ncluster-13', 'ncluster-14', 'ncluster-15', 'ncluster-16', 'ncluster-17', 'ncluster-18', 'ncluster-19', 'ncluster-20', 'ncluster-21', 'ncluster-22', 'ncluster-23', 'ncluster-24', 'ncluster-25', 'ncluster-26', 'ncluster-27', 'ncluster-28', 'ncluster-29', 'ncluster-30', 'ncluster-31', 'ncluster-32', 'ncluster-33', 'ncluster-34', 'ncluster-35', 'ncluster-36', 'ncluster-37', 'ncluster-38', 'ncluster-39', 'ncluster-40', 'ncluster-41', 'ncluster-42', 'ncluster-43', 'ncluster-44', 'ncluster-45', 'ncluster-46', 'ncluster-47', 'ncluster-48', 'ncluster-49', 'ncluster-50', 'ncluster-51', 'ncluster-52', 'ncluster-53', 'ncluster-54', 'ncluster-55', 'ncluster-56', 'ncluster-57', 'ncluster-58', 'ncluster-59', 'ncluster-60', 'ncluster-61', 'ncluster-62', 'ncluster-63', 'ncluster-64', 'ncluster-65', 'ncluster-66', 'ncluster-67', 'ncluster-68', 'ncluster-69', 'ncluster-70', 'ncluster-71', 'ncluster-72', 'ncluster-73', 'ncluster-74', 'ncluster-75', 'ncluster-76', 'ncluster-77', 'ncluster-78', 'ncluster-79', 'ncluster-80', 'ncluster-81', 'ncluster-82', 'ncluster-83', 'ncluster-84', 'ncluster-85', 'ncluster-86', 'ncluster-87', 'ncluster-88', 'ncluster-89', 'ncluster-90', 'ncluster-91', 'ncluster-92', 'ncluster-93', 'ncluster-94', 'ncluster-95', 'ncluster-96', 'ncluster-97', 'ncluster-98', 'ncluster-99', 'ncluster-100', 'ncluster-101', 'ncluster-102', 'ncluster-103', 'ncluster-104', 'ncluster-105', 'ncluster-106', 'ncluster-107', 'ncluster-108', 'ncluster-109', 'ncluster-110', 'ncluster-111', 'ncluster-112', 'ncluster-113', 'ncluster-114', 'ncluster-115', 'ncluster-116', 'ncluster-117', 'ncluster-118', 'ncluster-119', 'ncluster-120', 'ncluster-121', 'ncluster-122', 'ncluster-123', 'ncluster-124', 'ncluster-125', 'ncluster-126', 'ncluster-127'])"
      ]
     },
     "execution_count": 138,
     "metadata": {},
     "output_type": "execute_result"
    }
   ],
   "source": [
    "mod06_ri_intras[\"nclusters-128\"][1].keys()"
   ]
  },
  {
   "cell_type": "markdown",
   "metadata": {},
   "source": [
    "Dissect key and list: INTRA"
   ]
  },
  {
   "cell_type": "code",
   "execution_count": 87,
   "metadata": {},
   "outputs": [
    {
     "data": {
      "text/plain": [
       "dict_keys(['nclusters-4', 'nclusters-8', 'nclusters-16', 'nclusters-32', 'nclusters-64', 'nclusters-128', 'nclusters-256', 'nclusters-512'])"
      ]
     },
     "execution_count": 87,
     "metadata": {},
     "output_type": "execute_result"
    }
   ],
   "source": [
    "mod06_ri_intras.keys()"
   ]
  },
  {
   "cell_type": "code",
   "execution_count": 88,
   "metadata": {},
   "outputs": [
    {
     "data": {
      "text/plain": [
       "dict_keys(['ncluster-0', 'ncluster-1', 'ncluster-2', 'ncluster-3'])"
      ]
     },
     "execution_count": 88,
     "metadata": {},
     "output_type": "execute_result"
    }
   ],
   "source": [
    "mod06_ri_intras[\"nclusters-4\"][0].keys()"
   ]
  },
  {
   "cell_type": "code",
   "execution_count": 92,
   "metadata": {},
   "outputs": [
    {
     "data": {
      "text/plain": [
       "65703"
      ]
     },
     "execution_count": 92,
     "metadata": {},
     "output_type": "execute_result"
    }
   ],
   "source": [
    "len(mod06_ri_intras[\"nclusters-4\"][0]['ncluster-0'].keys())"
   ]
  },
  {
   "cell_type": "markdown",
   "metadata": {},
   "source": [
    "-----------\n",
    "## Inter-metirc"
   ]
  },
  {
   "cell_type": "markdown",
   "metadata": {},
   "source": [
    "#### Functionize"
   ]
  },
  {
   "cell_type": "code",
   "execution_count": 49,
   "metadata": {},
   "outputs": [],
   "source": [
    "key_list = ['optical thickness','phase',\n",
    "                'top pressure','effective radius','water path']"
   ]
  },
  {
   "cell_type": "code",
   "execution_count": 74,
   "metadata": {},
   "outputs": [],
   "source": [
    "def anl_param_inter(m6_dict={},param=None,metric=None,\n",
    "                   key_list= ['optical thickness','phase',\n",
    "                              'top pressure','effective radius','water path']):\n",
    "    \"\"\" OUT: pandas.dataframe across k-clusters\n",
    "        IN\n",
    "            param: name of physical parameters\n",
    "    \"\"\"\n",
    "    data = []\n",
    "    for nclusters in m6_dict.keys():\n",
    "        # nest over number of clusters\n",
    "        idx = key_list.index(param)\n",
    "        tmp = []\n",
    "        for key in mod06_ri_inters[f\"{nclusters}\"][idx].keys():\n",
    "            tmp.append(mod06_ri_inters[f\"{nclusters}\"][idx][key][metric])\n",
    "        #print(np.array(tmp).shape)\n",
    "        tmp_np = np.array(tmp)\n",
    "        tmp_np = tmp_np[np.logical_not(np.isnan(tmp_np))]\n",
    "        data.append(tmp_np)\n",
    "    \n",
    "    # pandas to summarize\n",
    "    df_data = pd.DataFrame(np.asarray(data))\n",
    "    indexs = [nclusters for nclusters in m6_dict.keys()]\n",
    "    df_data.index = indexs\n",
    "    df_data.columns = [metric]\n",
    "    return df_data "
   ]
  },
  {
   "cell_type": "code",
   "execution_count": 252,
   "metadata": {},
   "outputs": [],
   "source": [
    "def anl_phase_fn(m6_dict={},param=None,ncategory=4,stat=True):\n",
    "    \"\"\" OUT: pandas.dataframe across k-clusters\n",
    "        IN:  scope; inter-class or intra-class\n",
    "        Compute mean and variance across inter-intra classes\n",
    "    \"\"\"\n",
    "    # mod06_ri_intras[\"nclusters-4\"][1][0-len(patches)][0-4]\n",
    "    #if scope == 'inter':\n",
    "    try:\n",
    "        data = []\n",
    "        means = []\n",
    "        stdvs = []\n",
    "        for nclusters in m6_dict.keys():\n",
    "            # nest over number of clusters\n",
    "            idx = key_list.index(param)\n",
    "            tmp = []\n",
    "            for key in mod06_ri_inters[f\"{nclusters}\"][idx].keys():\n",
    "                key_tmp = np.zeros((ncategory))\n",
    "                for iclass in range(ncategory):\n",
    "                    #print(mod06_ri_inters[f\"{nclusters}\"][idx][key])\n",
    "                    key_tmp[iclass] = mod06_ri_inters[f\"{nclusters}\"][idx][key][iclass]\n",
    "                tmp.append(np.expand_dims(key_tmp,axis=0))\n",
    "            tmp_np = np.concatenate(tmp,axis=0)\n",
    "            #print(tmp_np.shape)\n",
    "            #### compute data\n",
    "            mean = np.nanmean(tmp_np,axis=0)\n",
    "            stdv = np.nanstd(tmp_np,axis=0)\n",
    "            #print(mean.shape, stdv.shape)\n",
    "            #### append\n",
    "            means.append(mean)\n",
    "            stdvs.append(stdv)\n",
    "            data.append(tmp_np)\n",
    "\n",
    "        \n",
    "        # pandas to summarize\n",
    "        if stat:\n",
    "            \"\"\" return stats info\n",
    "            \"\"\"\n",
    "            return means, stdvs\n",
    "        else:\n",
    "            \"\"\"return all info\n",
    "            \"\"\"\n",
    "            # ready for vairable names\n",
    "            variables = []\n",
    "            for ndata in [i.shape[0] for i in data]:\n",
    "                #variables.extend([f\"{ndata}\" for i in range(ndata*ncategory)])\n",
    "                variables.extend([f\"nclusters-{ndata}\" for i in range(ndata*ncategory)])\n",
    "            #print(len(variables))\n",
    "            \n",
    "            # append dataset\n",
    "            #print(data[0].shape) # {#nclusters, 4}\n",
    "            all_data = []\n",
    "            classes = []\n",
    "            category_name=['clear sly','liquid','ice','mix']\n",
    "            for idata in data:\n",
    "                #print(idata.shape)\n",
    "                for jdata in idata:\n",
    "                    for i in range(ncategory):\n",
    "                        all_data.append(jdata[i])\n",
    "                        classes.append(category_name[i])\n",
    "            \n",
    "            #print(len(all_data))\n",
    "            df_data = pd.DataFrame({\n",
    "                'variable':np.array(variables),\n",
    "                'value': np.array(all_data),\n",
    "                'category':np.array(classes),\n",
    "                }\n",
    "            )\n",
    "\n",
    "            return df_data \n",
    "    except Exception as e:\n",
    "        print(e)"
   ]
  },
  {
   "cell_type": "markdown",
   "metadata": {},
   "source": [
    "Practice"
   ]
  },
  {
   "cell_type": "code",
   "execution_count": 221,
   "metadata": {
    "scrolled": true
   },
   "outputs": [
    {
     "name": "stdout",
     "output_type": "stream",
     "text": [
      "4080\n",
      "(4, 4)\n",
      "(4, 4)\n",
      "(8, 4)\n",
      "(16, 4)\n",
      "(32, 4)\n",
      "(64, 4)\n",
      "(128, 4)\n",
      "(256, 4)\n",
      "(512, 4)\n",
      "4080\n"
     ]
    },
    {
     "data": {
      "text/html": [
       "<div>\n",
       "<style scoped>\n",
       "    .dataframe tbody tr th:only-of-type {\n",
       "        vertical-align: middle;\n",
       "    }\n",
       "\n",
       "    .dataframe tbody tr th {\n",
       "        vertical-align: top;\n",
       "    }\n",
       "\n",
       "    .dataframe thead th {\n",
       "        text-align: right;\n",
       "    }\n",
       "</style>\n",
       "<table border=\"1\" class=\"dataframe\">\n",
       "  <thead>\n",
       "    <tr style=\"text-align: right;\">\n",
       "      <th></th>\n",
       "      <th>variable</th>\n",
       "      <th>value</th>\n",
       "      <th>category</th>\n",
       "    </tr>\n",
       "  </thead>\n",
       "  <tbody>\n",
       "    <tr>\n",
       "      <th>0</th>\n",
       "      <td>nclusters-4</td>\n",
       "      <td>23.169621</td>\n",
       "      <td>clear sly</td>\n",
       "    </tr>\n",
       "    <tr>\n",
       "      <th>1</th>\n",
       "      <td>nclusters-4</td>\n",
       "      <td>26.331359</td>\n",
       "      <td>liquid</td>\n",
       "    </tr>\n",
       "    <tr>\n",
       "      <th>2</th>\n",
       "      <td>nclusters-4</td>\n",
       "      <td>28.520807</td>\n",
       "      <td>ice</td>\n",
       "    </tr>\n",
       "    <tr>\n",
       "      <th>3</th>\n",
       "      <td>nclusters-4</td>\n",
       "      <td>21.978213</td>\n",
       "      <td>mix</td>\n",
       "    </tr>\n",
       "    <tr>\n",
       "      <th>4</th>\n",
       "      <td>nclusters-4</td>\n",
       "      <td>2.813763</td>\n",
       "      <td>clear sly</td>\n",
       "    </tr>\n",
       "    <tr>\n",
       "      <th>5</th>\n",
       "      <td>nclusters-4</td>\n",
       "      <td>55.989753</td>\n",
       "      <td>liquid</td>\n",
       "    </tr>\n",
       "    <tr>\n",
       "      <th>6</th>\n",
       "      <td>nclusters-4</td>\n",
       "      <td>19.328393</td>\n",
       "      <td>ice</td>\n",
       "    </tr>\n",
       "    <tr>\n",
       "      <th>7</th>\n",
       "      <td>nclusters-4</td>\n",
       "      <td>21.868091</td>\n",
       "      <td>mix</td>\n",
       "    </tr>\n",
       "    <tr>\n",
       "      <th>8</th>\n",
       "      <td>nclusters-4</td>\n",
       "      <td>13.108807</td>\n",
       "      <td>clear sly</td>\n",
       "    </tr>\n",
       "    <tr>\n",
       "      <th>9</th>\n",
       "      <td>nclusters-4</td>\n",
       "      <td>37.297894</td>\n",
       "      <td>liquid</td>\n",
       "    </tr>\n",
       "    <tr>\n",
       "      <th>10</th>\n",
       "      <td>nclusters-4</td>\n",
       "      <td>31.302914</td>\n",
       "      <td>ice</td>\n",
       "    </tr>\n",
       "    <tr>\n",
       "      <th>11</th>\n",
       "      <td>nclusters-4</td>\n",
       "      <td>18.290385</td>\n",
       "      <td>mix</td>\n",
       "    </tr>\n",
       "    <tr>\n",
       "      <th>12</th>\n",
       "      <td>nclusters-4</td>\n",
       "      <td>13.913331</td>\n",
       "      <td>clear sly</td>\n",
       "    </tr>\n",
       "    <tr>\n",
       "      <th>13</th>\n",
       "      <td>nclusters-4</td>\n",
       "      <td>5.192522</td>\n",
       "      <td>liquid</td>\n",
       "    </tr>\n",
       "    <tr>\n",
       "      <th>14</th>\n",
       "      <td>nclusters-4</td>\n",
       "      <td>73.255256</td>\n",
       "      <td>ice</td>\n",
       "    </tr>\n",
       "    <tr>\n",
       "      <th>15</th>\n",
       "      <td>nclusters-4</td>\n",
       "      <td>7.638892</td>\n",
       "      <td>mix</td>\n",
       "    </tr>\n",
       "    <tr>\n",
       "      <th>16</th>\n",
       "      <td>nclusters-8</td>\n",
       "      <td>23.414786</td>\n",
       "      <td>clear sly</td>\n",
       "    </tr>\n",
       "    <tr>\n",
       "      <th>17</th>\n",
       "      <td>nclusters-8</td>\n",
       "      <td>22.209404</td>\n",
       "      <td>liquid</td>\n",
       "    </tr>\n",
       "    <tr>\n",
       "      <th>18</th>\n",
       "      <td>nclusters-8</td>\n",
       "      <td>31.188802</td>\n",
       "      <td>ice</td>\n",
       "    </tr>\n",
       "    <tr>\n",
       "      <th>19</th>\n",
       "      <td>nclusters-8</td>\n",
       "      <td>23.187008</td>\n",
       "      <td>mix</td>\n",
       "    </tr>\n",
       "    <tr>\n",
       "      <th>20</th>\n",
       "      <td>nclusters-8</td>\n",
       "      <td>16.279361</td>\n",
       "      <td>clear sly</td>\n",
       "    </tr>\n",
       "    <tr>\n",
       "      <th>21</th>\n",
       "      <td>nclusters-8</td>\n",
       "      <td>45.068930</td>\n",
       "      <td>liquid</td>\n",
       "    </tr>\n",
       "    <tr>\n",
       "      <th>22</th>\n",
       "      <td>nclusters-8</td>\n",
       "      <td>21.243358</td>\n",
       "      <td>ice</td>\n",
       "    </tr>\n",
       "    <tr>\n",
       "      <th>23</th>\n",
       "      <td>nclusters-8</td>\n",
       "      <td>17.408351</td>\n",
       "      <td>mix</td>\n",
       "    </tr>\n",
       "    <tr>\n",
       "      <th>24</th>\n",
       "      <td>nclusters-8</td>\n",
       "      <td>3.441201</td>\n",
       "      <td>clear sly</td>\n",
       "    </tr>\n",
       "    <tr>\n",
       "      <th>25</th>\n",
       "      <td>nclusters-8</td>\n",
       "      <td>48.306219</td>\n",
       "      <td>liquid</td>\n",
       "    </tr>\n",
       "    <tr>\n",
       "      <th>26</th>\n",
       "      <td>nclusters-8</td>\n",
       "      <td>22.850215</td>\n",
       "      <td>ice</td>\n",
       "    </tr>\n",
       "    <tr>\n",
       "      <th>27</th>\n",
       "      <td>nclusters-8</td>\n",
       "      <td>25.402365</td>\n",
       "      <td>mix</td>\n",
       "    </tr>\n",
       "    <tr>\n",
       "      <th>28</th>\n",
       "      <td>nclusters-8</td>\n",
       "      <td>19.578679</td>\n",
       "      <td>clear sly</td>\n",
       "    </tr>\n",
       "    <tr>\n",
       "      <th>29</th>\n",
       "      <td>nclusters-8</td>\n",
       "      <td>7.970531</td>\n",
       "      <td>liquid</td>\n",
       "    </tr>\n",
       "    <tr>\n",
       "      <th>...</th>\n",
       "      <td>...</td>\n",
       "      <td>...</td>\n",
       "      <td>...</td>\n",
       "    </tr>\n",
       "    <tr>\n",
       "      <th>4050</th>\n",
       "      <td>nclusters-512</td>\n",
       "      <td>0.195312</td>\n",
       "      <td>ice</td>\n",
       "    </tr>\n",
       "    <tr>\n",
       "      <th>4051</th>\n",
       "      <td>nclusters-512</td>\n",
       "      <td>1.068115</td>\n",
       "      <td>mix</td>\n",
       "    </tr>\n",
       "    <tr>\n",
       "      <th>4052</th>\n",
       "      <td>nclusters-512</td>\n",
       "      <td>51.092529</td>\n",
       "      <td>clear sly</td>\n",
       "    </tr>\n",
       "    <tr>\n",
       "      <th>4053</th>\n",
       "      <td>nclusters-512</td>\n",
       "      <td>46.697998</td>\n",
       "      <td>liquid</td>\n",
       "    </tr>\n",
       "    <tr>\n",
       "      <th>4054</th>\n",
       "      <td>nclusters-512</td>\n",
       "      <td>1.306152</td>\n",
       "      <td>ice</td>\n",
       "    </tr>\n",
       "    <tr>\n",
       "      <th>4055</th>\n",
       "      <td>nclusters-512</td>\n",
       "      <td>0.903320</td>\n",
       "      <td>mix</td>\n",
       "    </tr>\n",
       "    <tr>\n",
       "      <th>4056</th>\n",
       "      <td>nclusters-512</td>\n",
       "      <td>0.701904</td>\n",
       "      <td>clear sly</td>\n",
       "    </tr>\n",
       "    <tr>\n",
       "      <th>4057</th>\n",
       "      <td>nclusters-512</td>\n",
       "      <td>26.989746</td>\n",
       "      <td>liquid</td>\n",
       "    </tr>\n",
       "    <tr>\n",
       "      <th>4058</th>\n",
       "      <td>nclusters-512</td>\n",
       "      <td>48.034668</td>\n",
       "      <td>ice</td>\n",
       "    </tr>\n",
       "    <tr>\n",
       "      <th>4059</th>\n",
       "      <td>nclusters-512</td>\n",
       "      <td>24.273682</td>\n",
       "      <td>mix</td>\n",
       "    </tr>\n",
       "    <tr>\n",
       "      <th>4060</th>\n",
       "      <td>nclusters-512</td>\n",
       "      <td>8.062744</td>\n",
       "      <td>clear sly</td>\n",
       "    </tr>\n",
       "    <tr>\n",
       "      <th>4061</th>\n",
       "      <td>nclusters-512</td>\n",
       "      <td>71.527100</td>\n",
       "      <td>liquid</td>\n",
       "    </tr>\n",
       "    <tr>\n",
       "      <th>4062</th>\n",
       "      <td>nclusters-512</td>\n",
       "      <td>8.654785</td>\n",
       "      <td>ice</td>\n",
       "    </tr>\n",
       "    <tr>\n",
       "      <th>4063</th>\n",
       "      <td>nclusters-512</td>\n",
       "      <td>11.755371</td>\n",
       "      <td>mix</td>\n",
       "    </tr>\n",
       "    <tr>\n",
       "      <th>4064</th>\n",
       "      <td>nclusters-512</td>\n",
       "      <td>3.552246</td>\n",
       "      <td>clear sly</td>\n",
       "    </tr>\n",
       "    <tr>\n",
       "      <th>4065</th>\n",
       "      <td>nclusters-512</td>\n",
       "      <td>2.728271</td>\n",
       "      <td>liquid</td>\n",
       "    </tr>\n",
       "    <tr>\n",
       "      <th>4066</th>\n",
       "      <td>nclusters-512</td>\n",
       "      <td>36.517334</td>\n",
       "      <td>ice</td>\n",
       "    </tr>\n",
       "    <tr>\n",
       "      <th>4067</th>\n",
       "      <td>nclusters-512</td>\n",
       "      <td>57.202148</td>\n",
       "      <td>mix</td>\n",
       "    </tr>\n",
       "    <tr>\n",
       "      <th>4068</th>\n",
       "      <td>nclusters-512</td>\n",
       "      <td>0.061035</td>\n",
       "      <td>clear sly</td>\n",
       "    </tr>\n",
       "    <tr>\n",
       "      <th>4069</th>\n",
       "      <td>nclusters-512</td>\n",
       "      <td>72.076416</td>\n",
       "      <td>liquid</td>\n",
       "    </tr>\n",
       "    <tr>\n",
       "      <th>4070</th>\n",
       "      <td>nclusters-512</td>\n",
       "      <td>19.738770</td>\n",
       "      <td>ice</td>\n",
       "    </tr>\n",
       "    <tr>\n",
       "      <th>4071</th>\n",
       "      <td>nclusters-512</td>\n",
       "      <td>8.123779</td>\n",
       "      <td>mix</td>\n",
       "    </tr>\n",
       "    <tr>\n",
       "      <th>4072</th>\n",
       "      <td>nclusters-512</td>\n",
       "      <td>1.037598</td>\n",
       "      <td>clear sly</td>\n",
       "    </tr>\n",
       "    <tr>\n",
       "      <th>4073</th>\n",
       "      <td>nclusters-512</td>\n",
       "      <td>28.704834</td>\n",
       "      <td>liquid</td>\n",
       "    </tr>\n",
       "    <tr>\n",
       "      <th>4074</th>\n",
       "      <td>nclusters-512</td>\n",
       "      <td>46.533203</td>\n",
       "      <td>ice</td>\n",
       "    </tr>\n",
       "    <tr>\n",
       "      <th>4075</th>\n",
       "      <td>nclusters-512</td>\n",
       "      <td>23.724365</td>\n",
       "      <td>mix</td>\n",
       "    </tr>\n",
       "    <tr>\n",
       "      <th>4076</th>\n",
       "      <td>nclusters-512</td>\n",
       "      <td>55.090332</td>\n",
       "      <td>clear sly</td>\n",
       "    </tr>\n",
       "    <tr>\n",
       "      <th>4077</th>\n",
       "      <td>nclusters-512</td>\n",
       "      <td>3.906250</td>\n",
       "      <td>liquid</td>\n",
       "    </tr>\n",
       "    <tr>\n",
       "      <th>4078</th>\n",
       "      <td>nclusters-512</td>\n",
       "      <td>20.153809</td>\n",
       "      <td>ice</td>\n",
       "    </tr>\n",
       "    <tr>\n",
       "      <th>4079</th>\n",
       "      <td>nclusters-512</td>\n",
       "      <td>20.849609</td>\n",
       "      <td>mix</td>\n",
       "    </tr>\n",
       "  </tbody>\n",
       "</table>\n",
       "<p>4080 rows × 3 columns</p>\n",
       "</div>"
      ],
      "text/plain": [
       "           variable      value   category\n",
       "0       nclusters-4  23.169621  clear sly\n",
       "1       nclusters-4  26.331359     liquid\n",
       "2       nclusters-4  28.520807        ice\n",
       "3       nclusters-4  21.978213        mix\n",
       "4       nclusters-4   2.813763  clear sly\n",
       "5       nclusters-4  55.989753     liquid\n",
       "6       nclusters-4  19.328393        ice\n",
       "7       nclusters-4  21.868091        mix\n",
       "8       nclusters-4  13.108807  clear sly\n",
       "9       nclusters-4  37.297894     liquid\n",
       "10      nclusters-4  31.302914        ice\n",
       "11      nclusters-4  18.290385        mix\n",
       "12      nclusters-4  13.913331  clear sly\n",
       "13      nclusters-4   5.192522     liquid\n",
       "14      nclusters-4  73.255256        ice\n",
       "15      nclusters-4   7.638892        mix\n",
       "16      nclusters-8  23.414786  clear sly\n",
       "17      nclusters-8  22.209404     liquid\n",
       "18      nclusters-8  31.188802        ice\n",
       "19      nclusters-8  23.187008        mix\n",
       "20      nclusters-8  16.279361  clear sly\n",
       "21      nclusters-8  45.068930     liquid\n",
       "22      nclusters-8  21.243358        ice\n",
       "23      nclusters-8  17.408351        mix\n",
       "24      nclusters-8   3.441201  clear sly\n",
       "25      nclusters-8  48.306219     liquid\n",
       "26      nclusters-8  22.850215        ice\n",
       "27      nclusters-8  25.402365        mix\n",
       "28      nclusters-8  19.578679  clear sly\n",
       "29      nclusters-8   7.970531     liquid\n",
       "...             ...        ...        ...\n",
       "4050  nclusters-512   0.195312        ice\n",
       "4051  nclusters-512   1.068115        mix\n",
       "4052  nclusters-512  51.092529  clear sly\n",
       "4053  nclusters-512  46.697998     liquid\n",
       "4054  nclusters-512   1.306152        ice\n",
       "4055  nclusters-512   0.903320        mix\n",
       "4056  nclusters-512   0.701904  clear sly\n",
       "4057  nclusters-512  26.989746     liquid\n",
       "4058  nclusters-512  48.034668        ice\n",
       "4059  nclusters-512  24.273682        mix\n",
       "4060  nclusters-512   8.062744  clear sly\n",
       "4061  nclusters-512  71.527100     liquid\n",
       "4062  nclusters-512   8.654785        ice\n",
       "4063  nclusters-512  11.755371        mix\n",
       "4064  nclusters-512   3.552246  clear sly\n",
       "4065  nclusters-512   2.728271     liquid\n",
       "4066  nclusters-512  36.517334        ice\n",
       "4067  nclusters-512  57.202148        mix\n",
       "4068  nclusters-512   0.061035  clear sly\n",
       "4069  nclusters-512  72.076416     liquid\n",
       "4070  nclusters-512  19.738770        ice\n",
       "4071  nclusters-512   8.123779        mix\n",
       "4072  nclusters-512   1.037598  clear sly\n",
       "4073  nclusters-512  28.704834     liquid\n",
       "4074  nclusters-512  46.533203        ice\n",
       "4075  nclusters-512  23.724365        mix\n",
       "4076  nclusters-512  55.090332  clear sly\n",
       "4077  nclusters-512   3.906250     liquid\n",
       "4078  nclusters-512  20.153809        ice\n",
       "4079  nclusters-512  20.849609        mix\n",
       "\n",
       "[4080 rows x 3 columns]"
      ]
     },
     "execution_count": 221,
     "metadata": {},
     "output_type": "execute_result"
    }
   ],
   "source": [
    "anl_phase_fn(m6_dict=mod06_ri_inters,param=key_list[1],ncategory=4,stat=False)"
   ]
  },
  {
   "cell_type": "markdown",
   "metadata": {},
   "source": [
    "- optical thickness"
   ]
  },
  {
   "cell_type": "code",
   "execution_count": 75,
   "metadata": {},
   "outputs": [
    {
     "name": "stderr",
     "output_type": "stream",
     "text": [
      "/home/tkurihana/.conda/envs/tf-cpu/lib/python3.6/site-packages/numpy/core/_asarray.py:83: VisibleDeprecationWarning: Creating an ndarray from ragged nested sequences (which is a list-or-tuple of lists-or-tuples-or ndarrays with different lengths or shapes) is deprecated. If you meant to do this, you must specify 'dtype=object' when creating the ndarray\n",
      "  return array(a, dtype, copy=False, order=order)\n"
     ]
    }
   ],
   "source": [
    "ot_emd_ri_inter = anl_param_inter(m6_dict=mod06_ri_inters,param=key_list[0],metric='emd')"
   ]
  },
  {
   "cell_type": "code",
   "execution_count": 76,
   "metadata": {},
   "outputs": [
    {
     "data": {
      "text/html": [
       "<div>\n",
       "<style scoped>\n",
       "    .dataframe tbody tr th:only-of-type {\n",
       "        vertical-align: middle;\n",
       "    }\n",
       "\n",
       "    .dataframe tbody tr th {\n",
       "        vertical-align: top;\n",
       "    }\n",
       "\n",
       "    .dataframe thead th {\n",
       "        text-align: right;\n",
       "    }\n",
       "</style>\n",
       "<table border=\"1\" class=\"dataframe\">\n",
       "  <thead>\n",
       "    <tr style=\"text-align: right;\">\n",
       "      <th></th>\n",
       "      <th>emd</th>\n",
       "    </tr>\n",
       "  </thead>\n",
       "  <tbody>\n",
       "    <tr>\n",
       "      <th>nclusters-4</th>\n",
       "      <td>[0.0009727332091776638, 0.00041352283320900287...</td>\n",
       "    </tr>\n",
       "    <tr>\n",
       "      <th>nclusters-8</th>\n",
       "      <td>[0.0007352756064111614, 0.001147414438812062, ...</td>\n",
       "    </tr>\n",
       "    <tr>\n",
       "      <th>nclusters-16</th>\n",
       "      <td>[0.0005722572715547873, 0.0002842862425007205,...</td>\n",
       "    </tr>\n",
       "    <tr>\n",
       "      <th>nclusters-32</th>\n",
       "      <td>[0.0023941351800952928, 0.00198599277265808, 0...</td>\n",
       "    </tr>\n",
       "    <tr>\n",
       "      <th>nclusters-64</th>\n",
       "      <td>[0.0004580343885316812, 0.0018421150179481344,...</td>\n",
       "    </tr>\n",
       "    <tr>\n",
       "      <th>nclusters-128</th>\n",
       "      <td>[0.002023597547943604, 0.0015103310489708729, ...</td>\n",
       "    </tr>\n",
       "    <tr>\n",
       "      <th>nclusters-256</th>\n",
       "      <td>[0.0030786447805075507, 0.0018935309116312445,...</td>\n",
       "    </tr>\n",
       "    <tr>\n",
       "      <th>nclusters-512</th>\n",
       "      <td>[0.0013991097858148164, 0.0022871773484194825,...</td>\n",
       "    </tr>\n",
       "  </tbody>\n",
       "</table>\n",
       "</div>"
      ],
      "text/plain": [
       "                                                             emd\n",
       "nclusters-4    [0.0009727332091776638, 0.00041352283320900287...\n",
       "nclusters-8    [0.0007352756064111614, 0.001147414438812062, ...\n",
       "nclusters-16   [0.0005722572715547873, 0.0002842862425007205,...\n",
       "nclusters-32   [0.0023941351800952928, 0.00198599277265808, 0...\n",
       "nclusters-64   [0.0004580343885316812, 0.0018421150179481344,...\n",
       "nclusters-128  [0.002023597547943604, 0.0015103310489708729, ...\n",
       "nclusters-256  [0.0030786447805075507, 0.0018935309116312445,...\n",
       "nclusters-512  [0.0013991097858148164, 0.0022871773484194825,..."
      ]
     },
     "execution_count": 76,
     "metadata": {},
     "output_type": "execute_result"
    }
   ],
   "source": [
    "ot_emd_ri_inter"
   ]
  },
  {
   "cell_type": "code",
   "execution_count": 84,
   "metadata": {},
   "outputs": [
    {
     "name": "stderr",
     "output_type": "stream",
     "text": [
      "/home/tkurihana/.conda/envs/tf-cpu/lib/python3.6/site-packages/numpy/core/_asarray.py:83: VisibleDeprecationWarning: Creating an ndarray from ragged nested sequences (which is a list-or-tuple of lists-or-tuples-or ndarrays with different lengths or shapes) is deprecated. If you meant to do this, you must specify 'dtype=object' when creating the ndarray\n",
      "  return array(a, dtype, copy=False, order=order)\n"
     ]
    }
   ],
   "source": [
    "ot_bat_ri_inter = anl_param_inter(m6_dict=mod06_ri_inters,param=key_list[0],metric='bhattacharyya')"
   ]
  },
  {
   "cell_type": "code",
   "execution_count": 97,
   "metadata": {},
   "outputs": [
    {
     "name": "stderr",
     "output_type": "stream",
     "text": [
      "/home/tkurihana/.conda/envs/tf-cpu/lib/python3.6/site-packages/numpy/core/_asarray.py:83: VisibleDeprecationWarning: Creating an ndarray from ragged nested sequences (which is a list-or-tuple of lists-or-tuples-or ndarrays with different lengths or shapes) is deprecated. If you meant to do this, you must specify 'dtype=object' when creating the ndarray\n",
      "  return array(a, dtype, copy=False, order=order)\n"
     ]
    }
   ],
   "source": [
    "ot_cor_ri_inter = anl_param_inter(m6_dict=mod06_ri_inters,param=key_list[0],metric='correlation')"
   ]
  },
  {
   "cell_type": "code",
   "execution_count": 77,
   "metadata": {},
   "outputs": [
    {
     "data": {
      "text/plain": [
       "(465,)"
      ]
     },
     "execution_count": 77,
     "metadata": {},
     "output_type": "execute_result"
    }
   ],
   "source": [
    "ot_emd_ri_inter['emd']['nclusters-32'].shape"
   ]
  },
  {
   "cell_type": "markdown",
   "metadata": {},
   "source": [
    "- Top Pressure"
   ]
  },
  {
   "cell_type": "code",
   "execution_count": 93,
   "metadata": {},
   "outputs": [
    {
     "name": "stderr",
     "output_type": "stream",
     "text": [
      "/home/tkurihana/.conda/envs/tf-cpu/lib/python3.6/site-packages/numpy/core/_asarray.py:83: VisibleDeprecationWarning: Creating an ndarray from ragged nested sequences (which is a list-or-tuple of lists-or-tuples-or ndarrays with different lengths or shapes) is deprecated. If you meant to do this, you must specify 'dtype=object' when creating the ndarray\n",
      "  return array(a, dtype, copy=False, order=order)\n"
     ]
    }
   ],
   "source": [
    "tp_emd_ri_inter = anl_param_inter(m6_dict=mod06_ri_inters,param=key_list[2],metric='emd')"
   ]
  },
  {
   "cell_type": "code",
   "execution_count": 94,
   "metadata": {},
   "outputs": [],
   "source": [
    "tp_bat_ri_inter = anl_param_inter(m6_dict=mod06_ri_inters,param=key_list[2],metric='bhattacharyya')"
   ]
  },
  {
   "cell_type": "code",
   "execution_count": 98,
   "metadata": {},
   "outputs": [],
   "source": [
    "tp_cor_ri_inter = anl_param_inter(m6_dict=mod06_ri_inters,param=key_list[2],metric='correlation')"
   ]
  },
  {
   "cell_type": "markdown",
   "metadata": {},
   "source": [
    "- Phase"
   ]
  },
  {
   "cell_type": "code",
   "execution_count": 173,
   "metadata": {},
   "outputs": [],
   "source": [
    "tp_ri_means, tp_ri_stdvs = anl_phase_fn(m6_dict=mod06_ri_inters,param=key_list[1],ncategory=4,stat=True)"
   ]
  },
  {
   "cell_type": "code",
   "execution_count": 253,
   "metadata": {},
   "outputs": [],
   "source": [
    "phase_ri = anl_phase_fn(m6_dict=mod06_ri_inters,param=key_list[1],ncategory=4,stat=False)"
   ]
  },
  {
   "cell_type": "markdown",
   "metadata": {},
   "source": [
    "----------------\n",
    "### Visualization"
   ]
  },
  {
   "cell_type": "markdown",
   "metadata": {},
   "source": [
    "- Optical Thickness"
   ]
  },
  {
   "cell_type": "code",
   "execution_count": 83,
   "metadata": {},
   "outputs": [
    {
     "name": "stderr",
     "output_type": "stream",
     "text": [
      "/home/tkurihana/.conda/envs/tf-cpu/lib/python3.6/site-packages/numpy/core/_asarray.py:83: VisibleDeprecationWarning: Creating an ndarray from ragged nested sequences (which is a list-or-tuple of lists-or-tuples-or ndarrays with different lengths or shapes) is deprecated. If you meant to do this, you must specify 'dtype=object' when creating the ndarray\n",
      "  return array(a, dtype, copy=False, order=order)\n"
     ]
    },
    {
     "data": {
      "image/png": "[encoded data removed]",
      "text/plain": [
       "<Figure size 576x432 with 1 Axes>"
      ]
     },
     "metadata": {},
     "output_type": "display_data"
    }
   ],
   "source": [
    "sns.set_style(\"whitegrid\") \n",
    "\n",
    "fig = plt.figure(figsize=(8,6))\n",
    "ax = fig.add_subplot(1,1,1)\n",
    "ax.boxplot([ot_emd_ri_inter['emd'][f'nclusters-{cluster}'] for cluster in nclusters_list],\n",
    "           labels = [f'nc-{cluster}' for cluster in nclusters_list],\n",
    "           showfliers=False\n",
    "          )\n",
    "ax.set_ylabel('EMD',fontsize=14)\n",
    "plt.show()"
   ]
  },
  {
   "cell_type": "code",
   "execution_count": 86,
   "metadata": {},
   "outputs": [
    {
     "data": {
      "image/png": "[encoded data removed]",
      "text/plain": [
       "<Figure size 576x432 with 1 Axes>"
      ]
     },
     "metadata": {},
     "output_type": "display_data"
    }
   ],
   "source": [
    "sns.set_style(\"whitegrid\") \n",
    "\n",
    "fig = plt.figure(figsize=(8,6))\n",
    "ax = fig.add_subplot(1,1,1)\n",
    "ax.boxplot([ot_bat_ri_inter['bhattacharyya'][f'nclusters-{cluster}'] for cluster in nclusters_list],\n",
    "           labels = [f'nc-{cluster}' for cluster in nclusters_list],\n",
    "           showfliers=False\n",
    "          )\n",
    "ax.set_ylabel('Bhattacharyya',fontsize=14)\n",
    "plt.show()"
   ]
  },
  {
   "cell_type": "code",
   "execution_count": 99,
   "metadata": {},
   "outputs": [
    {
     "data": {
      "image/png": "[encoded data removed]",
      "text/plain": [
       "<Figure size 576x432 with 1 Axes>"
      ]
     },
     "metadata": {},
     "output_type": "display_data"
    }
   ],
   "source": [
    "sns.set_style(\"whitegrid\") \n",
    "\n",
    "fig = plt.figure(figsize=(8,6))\n",
    "ax = fig.add_subplot(1,1,1)\n",
    "ax.boxplot([ot_cor_ri_inter['correlation'][f'nclusters-{cluster}'] for cluster in nclusters_list],\n",
    "           labels = [f'nc-{cluster}' for cluster in nclusters_list],\n",
    "           showfliers=False\n",
    "          )\n",
    "ax.set_ylabel('Correlation',fontsize=14)\n",
    "plt.show()"
   ]
  },
  {
   "cell_type": "markdown",
   "metadata": {},
   "source": [
    "- Top pressure"
   ]
  },
  {
   "cell_type": "code",
   "execution_count": 95,
   "metadata": {},
   "outputs": [
    {
     "data": {
      "image/png": "[encoded data removed]",
      "text/plain": [
       "<Figure size 576x432 with 1 Axes>"
      ]
     },
     "metadata": {},
     "output_type": "display_data"
    }
   ],
   "source": [
    "sns.set_style(\"whitegrid\") \n",
    "\n",
    "fig = plt.figure(figsize=(8,6))\n",
    "ax = fig.add_subplot(1,1,1)\n",
    "ax.boxplot([tp_emd_ri_inter['emd'][f'nclusters-{cluster}'] for cluster in nclusters_list],\n",
    "           labels = [f'nc-{cluster}' for cluster in nclusters_list],\n",
    "           showfliers=False\n",
    "          )\n",
    "ax.set_ylabel('EMD',fontsize=14)\n",
    "plt.show()"
   ]
  },
  {
   "cell_type": "code",
   "execution_count": 96,
   "metadata": {},
   "outputs": [
    {
     "name": "stderr",
     "output_type": "stream",
     "text": [
      "/home/tkurihana/.conda/envs/tf-cpu/lib/python3.6/site-packages/numpy/core/_asarray.py:83: VisibleDeprecationWarning: Creating an ndarray from ragged nested sequences (which is a list-or-tuple of lists-or-tuples-or ndarrays with different lengths or shapes) is deprecated. If you meant to do this, you must specify 'dtype=object' when creating the ndarray\n",
      "  return array(a, dtype, copy=False, order=order)\n"
     ]
    },
    {
     "data": {
      "image/png": "[encoded data removed]",
      "text/plain": [
       "<Figure size 576x432 with 1 Axes>"
      ]
     },
     "metadata": {},
     "output_type": "display_data"
    }
   ],
   "source": [
    "sns.set_style(\"whitegrid\") \n",
    "\n",
    "fig = plt.figure(figsize=(8,6))\n",
    "ax = fig.add_subplot(1,1,1)\n",
    "ax.boxplot([tp_bat_ri_inter['bhattacharyya'][f'nclusters-{cluster}'] for cluster in nclusters_list],\n",
    "           labels = [f'nc-{cluster}' for cluster in nclusters_list],\n",
    "           showfliers=False\n",
    "          )\n",
    "ax.set_ylabel('Bhattacharyya',fontsize=14)\n",
    "plt.show()"
   ]
  },
  {
   "cell_type": "code",
   "execution_count": 100,
   "metadata": {},
   "outputs": [
    {
     "name": "stderr",
     "output_type": "stream",
     "text": [
      "/home/tkurihana/.conda/envs/tf-cpu/lib/python3.6/site-packages/numpy/core/_asarray.py:83: VisibleDeprecationWarning: Creating an ndarray from ragged nested sequences (which is a list-or-tuple of lists-or-tuples-or ndarrays with different lengths or shapes) is deprecated. If you meant to do this, you must specify 'dtype=object' when creating the ndarray\n",
      "  return array(a, dtype, copy=False, order=order)\n"
     ]
    },
    {
     "data": {
      "image/png": "[encoded data removed]",
      "text/plain": [
       "<Figure size 576x432 with 1 Axes>"
      ]
     },
     "metadata": {},
     "output_type": "display_data"
    }
   ],
   "source": [
    "sns.set_style(\"whitegrid\") \n",
    "\n",
    "fig = plt.figure(figsize=(8,6))\n",
    "ax = fig.add_subplot(1,1,1)\n",
    "ax.boxplot([tp_cor_ri_inter['correlation'][f'nclusters-{cluster}'] for cluster in nclusters_list],\n",
    "           labels = [f'nc-{cluster}' for cluster in nclusters_list],\n",
    "           showfliers=False\n",
    "          )\n",
    "ax.set_ylabel('Correlation',fontsize=14)\n",
    "plt.show()"
   ]
  },
  {
   "cell_type": "markdown",
   "metadata": {},
   "source": [
    "- Phase"
   ]
  },
  {
   "cell_type": "code",
   "execution_count": 255,
   "metadata": {
    "scrolled": false
   },
   "outputs": [
    {
     "data": {
      "image/png": "[encoded data removed]",
      "text/plain": [
       "<Figure size 1440x720 with 1 Axes>"
      ]
     },
     "metadata": {},
     "output_type": "display_data"
    }
   ],
   "source": [
    "#sns.set_style(\"whitegrid\") \n",
    "sns.set(font_scale=1.75,style=\"whitegrid\")\n",
    "fig = plt.figure(figsize=(20,10))\n",
    "ax = fig.add_subplot(1,1,1)\n",
    "sns.boxplot(x='variable', y='value', data=phase_ri, hue='category', palette='Dark2', ax=ax)\n",
    "ax.set_ylabel('Percentage',fontsize=24)\n",
    "plt.setp(ax.get_legend().get_texts(), fontsize='22') # for legend text\n",
    "plt.setp(ax.get_legend().get_title(), fontsize='22') # for legend title\n",
    "plt.xlabel(\"Size of cluster\", fontsize=24)\n",
    "plt.show()"
   ]
  },
  {
   "cell_type": "markdown",
   "metadata": {},
   "source": [
    "###### Additional analysis: difference of percentage between ice and liquid"
   ]
  },
  {
   "cell_type": "markdown",
   "metadata": {},
   "source": [
    "- Direct comparison: No standarization for number of population"
   ]
  },
  {
   "cell_type": "markdown",
   "metadata": {},
   "source": [
    "Selection of data"
   ]
  },
  {
   "cell_type": "code",
   "execution_count": 273,
   "metadata": {},
   "outputs": [
    {
     "data": {
      "text/plain": [
       "(1020, 3)"
      ]
     },
     "execution_count": 273,
     "metadata": {},
     "output_type": "execute_result"
    }
   ],
   "source": [
    "df_liquid = phase_ri.query('category == \"liquid\"')\n",
    "df_liquid.shape"
   ]
  },
  {
   "cell_type": "code",
   "execution_count": 274,
   "metadata": {},
   "outputs": [
    {
     "data": {
      "text/plain": [
       "(1020, 3)"
      ]
     },
     "execution_count": 274,
     "metadata": {},
     "output_type": "execute_result"
    }
   ],
   "source": [
    "df_ice = phase_ri.query('category == \"ice\"')\n",
    "df_ice.shape"
   ]
  },
  {
   "cell_type": "code",
   "execution_count": 275,
   "metadata": {},
   "outputs": [
    {
     "data": {
      "text/plain": [
       "(1020, 1)"
      ]
     },
     "execution_count": 275,
     "metadata": {},
     "output_type": "execute_result"
    }
   ],
   "source": [
    "df_diff = pd.DataFrame(np.abs(df_liquid['value'].values - df_ice['value'].values))\n",
    "df_diff.shape"
   ]
  },
  {
   "cell_type": "markdown",
   "metadata": {},
   "source": [
    "Append data"
   ]
  },
  {
   "cell_type": "code",
   "execution_count": 282,
   "metadata": {},
   "outputs": [
    {
     "data": {
      "text/plain": [
       "(1020, 2)"
      ]
     },
     "execution_count": 282,
     "metadata": {},
     "output_type": "execute_result"
    }
   ],
   "source": [
    "nc_df = pd.DataFrame(np.array(df_liquid['variable'].values))\n",
    "df_select = pd.concat([nc_df,df_diff ],axis=1)\n",
    "df_select.columns = ['variable','diff']\n",
    "df_select.shape"
   ]
  },
  {
   "cell_type": "markdown",
   "metadata": {},
   "source": [
    "Visualization"
   ]
  },
  {
   "cell_type": "code",
   "execution_count": 285,
   "metadata": {},
   "outputs": [
    {
     "data": {
      "image/png": "[encoded data removed]",
      "text/plain": [
       "<Figure size 1440x720 with 1 Axes>"
      ]
     },
     "metadata": {},
     "output_type": "display_data"
    }
   ],
   "source": [
    "#sns.set_style(\"whitegrid\") \n",
    "sns.set(font_scale=1.75,style=\"whitegrid\")\n",
    "fig = plt.figure(figsize=(20,10))\n",
    "ax = fig.add_subplot(1,1,1)\n",
    "sns.boxplot(x='variable', y='diff', data=df_select, palette='Dark2', ax=ax)\n",
    "ax.set_ylabel('Percentage',fontsize=24)\n",
    "#plt.setp(ax.get_legend().get_texts(), fontsize='22') # for legend text\n",
    "#plt.setp(ax.get_legend().get_title(), fontsize='22') # for legend title\n",
    "plt.xlabel(\"Size of cluster\", fontsize=24)\n",
    "plt.show()"
   ]
  },
  {
   "cell_type": "markdown",
   "metadata": {},
   "source": [
    "### Memo: above graph does not address when ice:liquid = 50:50  and ice:liquid=0:0"
   ]
  },
  {
   "cell_type": "markdown",
   "metadata": {},
   "source": [
    "--------------------\n",
    "- Account for number of population: Ztest"
   ]
  },
  {
   "cell_type": "code",
   "execution_count": 287,
   "metadata": {},
   "outputs": [
    {
     "data": {
      "text/plain": [
       "(1020, 1)"
      ]
     },
     "execution_count": 287,
     "metadata": {},
     "output_type": "execute_result"
    }
   ],
   "source": [
    "df_diff = pd.DataFrame(np.abs(df_liquid['value'].values - df_ice['value'].values))\n",
    "df_diff.shape"
   ]
  },
  {
   "cell_type": "code",
   "execution_count": 288,
   "metadata": {},
   "outputs": [
    {
     "data": {
      "text/plain": [
       "(1020, 1)"
      ]
     },
     "execution_count": 288,
     "metadata": {},
     "output_type": "execute_result"
    }
   ],
   "source": [
    "df_nobs = pd.DataFrame(np.abs(df_liquid['value'].values + df_ice['value'].values))\n",
    "df_nobs.shape"
   ]
  },
  {
   "cell_type": "markdown",
   "metadata": {},
   "source": [
    "- Method 1: Consider 0% case"
   ]
  },
  {
   "cell_type": "code",
   "execution_count": 300,
   "metadata": {},
   "outputs": [],
   "source": [
    "stat_list = []\n",
    "pval_list = []\n",
    "liquids = np.squeeze(df_liquid['value'].values)\n",
    "ices = np.squeeze(df_ice['value'].values)\n",
    "for idx, (liquid, ice) in enumerate(zip(liquids, ices)):\n",
    "    count = np.array([liquid,ice])\n",
    "    nobs  = np.array([100,100])\n",
    "    stat, pval = proportions_ztest(count, nobs,)\n",
    "    stat_list.append(stat)\n",
    "    pval_list.append(pval)"
   ]
  },
  {
   "cell_type": "markdown",
   "metadata": {},
   "source": [
    "- Method 2: Larger than 0 %"
   ]
  },
  {
   "cell_type": "code",
   "execution_count": 310,
   "metadata": {},
   "outputs": [],
   "source": [
    "stat_list = []\n",
    "pval_list = []\n",
    "var_list = []\n",
    "liquids = np.squeeze(df_liquid['value'].values)\n",
    "ices = np.squeeze(df_ice['value'].values)\n",
    "var = np.array(df_liquid['variable'].values)\n",
    "for idx, (liquid, ice, ivar) in enumerate(zip(liquids, ices,var)):\n",
    "    if liquid > 0 and ice > 0:\n",
    "        count = np.array([liquid,ice])\n",
    "        nobs  = np.array([100,100])\n",
    "        stat, pval = proportions_ztest(count, nobs,)\n",
    "        stat_list.append(stat)\n",
    "        pval_list.append(pval)\n",
    "        var_list.append(ivar)"
   ]
  },
  {
   "cell_type": "code",
   "execution_count": 311,
   "metadata": {},
   "outputs": [
    {
     "data": {
      "text/plain": [
       "(1006, 2)"
      ]
     },
     "execution_count": 311,
     "metadata": {},
     "output_type": "execute_result"
    }
   ],
   "source": [
    "nc_df = pd.DataFrame(np.array(var_list))\n",
    "df_pval = pd.DataFrame(np.array(pval_list))\n",
    "df_select3 = pd.concat([nc_df,df_pval ],axis=1)\n",
    "df_select3.columns = ['variable','pval']\n",
    "df_select3.shape"
   ]
  },
  {
   "cell_type": "markdown",
   "metadata": {},
   "source": [
    "Method1"
   ]
  },
  {
   "cell_type": "code",
   "execution_count": 306,
   "metadata": {},
   "outputs": [
    {
     "data": {
      "image/png": "[encoded data removed]",
      "text/plain": [
       "<Figure size 1440x720 with 1 Axes>"
      ]
     },
     "metadata": {},
     "output_type": "display_data"
    }
   ],
   "source": [
    "#sns.set_style(\"whitegrid\") \n",
    "sns.set(font_scale=1.75,style=\"whitegrid\")\n",
    "fig = plt.figure(figsize=(20,10))\n",
    "ax = fig.add_subplot(1,1,1)\n",
    "sns.boxplot(x='variable', y='pval', data=df_select2, palette='Dark2', ax=ax)\n",
    "ax.set_ylabel('P-value',fontsize=24)\n",
    "#plt.setp(ax.get_legend().get_texts(), fontsize='22') # for legend text\n",
    "#plt.setp(ax.get_legend().get_title(), fontsize='22') # for legend title\n",
    "plt.xlabel(\"Size of cluster\", fontsize=24)\n",
    "plt.show()"
   ]
  },
  {
   "cell_type": "code",
   "execution_count": 322,
   "metadata": {},
   "outputs": [
    {
     "data": {
      "image/png": "[encoded data removed]",
      "text/plain": [
       "<Figure size 1440x720 with 1 Axes>"
      ]
     },
     "metadata": {},
     "output_type": "display_data"
    }
   ],
   "source": [
    "#sns.set_style(\"whitegrid\") \n",
    "sns.set(font_scale=1.75,style=\"whitegrid\")\n",
    "fig = plt.figure(figsize=(20,10))\n",
    "ax = fig.add_subplot(1,1,1)\n",
    "sns.boxplot(x='variable', y='pval', data=df_select2, palette='Dark2', ax=ax)\n",
    "ax.set_ylabel('P-value',fontsize=24)\n",
    "#plt.setp(ax.get_legend().get_texts(), fontsize='22') # for legend text\n",
    "#plt.setp(ax.get_legend().get_title(), fontsize='22') # for legend title\n",
    "#ax.plot([0]+[f'nclusters-{i}' for i in nclusters_list]+[0], [0.05 for i in range(len(nclusters_list)+2)],\n",
    "#       linestyle='--', c='black', linewidth=8)\n",
    "plt.xlabel(\"Size of cluster\", fontsize=24)\n",
    "plt.ylim(0,0.1)\n",
    "plt.yticks(np.linspace(0,0.1,11) )\n",
    "plt.show()"
   ]
  },
  {
   "cell_type": "markdown",
   "metadata": {},
   "source": [
    "Method2"
   ]
  },
  {
   "cell_type": "code",
   "execution_count": 312,
   "metadata": {},
   "outputs": [
    {
     "data": {
      "image/png": "[encoded data removed]",
      "text/plain": [
       "<Figure size 1440x720 with 1 Axes>"
      ]
     },
     "metadata": {},
     "output_type": "display_data"
    }
   ],
   "source": [
    "#sns.set_style(\"whitegrid\") \n",
    "sns.set(font_scale=1.75,style=\"whitegrid\")\n",
    "fig = plt.figure(figsize=(20,10))\n",
    "ax = fig.add_subplot(1,1,1)\n",
    "sns.boxplot(x='variable', y='pval', data=df_select3, palette='Dark2', ax=ax)\n",
    "ax.set_ylabel('P-value',fontsize=24)\n",
    "#plt.setp(ax.get_legend().get_texts(), fontsize='22') # for legend text\n",
    "#plt.setp(ax.get_legend().get_title(), fontsize='22') # for legend title\n",
    "plt.xlabel(\"Size of cluster\", fontsize=24)\n",
    "plt.show()"
   ]
  },
  {
   "cell_type": "markdown",
   "metadata": {},
   "source": [
    "### Analysis results:\n",
    "Values close to 0 indicate that the observed difference is unlikely to be due to chance, whereas a P value close to 1 suggests no difference between the groups other than due to chance.\n"
   ]
  },
  {
   "cell_type": "markdown",
   "metadata": {},
   "source": [
    "#### Memo:\n",
    "- These values are not following (mean = 0, stdv=1) so may not appropriate"
   ]
  },
  {
   "cell_type": "code",
   "execution_count": null,
   "metadata": {},
   "outputs": [],
   "source": []
  }
 ],
 "metadata": {
  "kernelspec": {
   "display_name": "Python 3",
   "language": "python",
   "name": "python3"
  },
  "language_info": {
   "codemirror_mode": {
    "name": "ipython",
    "version": 3
   },
   "file_extension": ".py",
   "mimetype": "text/x-python",
   "name": "python",
   "nbconvert_exporter": "python",
   "pygments_lexer": "ipython3",
   "version": "3.6.6"
  }
 },
 "nbformat": 4,
 "nbformat_minor": 4
}
