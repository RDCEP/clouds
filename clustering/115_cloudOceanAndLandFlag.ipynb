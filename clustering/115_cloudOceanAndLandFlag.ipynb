{
 "cells": [
  {
   "cell_type": "markdown",
   "metadata": {},
   "source": [
    "## Notebook to test ocean and land flag"
   ]
  },
  {
   "cell_type": "code",
   "execution_count": 2,
   "metadata": {},
   "outputs": [],
   "source": [
    "%matplotlib inline\n",
    "%reload_ext autoreload\n",
    "%autoreload 2\n",
    "\n",
    "import os\n",
    "import sys\n",
    "import re\n",
    "import glob\n",
    "import numpy as np\n",
    "import matplotlib\n",
    "import matplotlib.pyplot as plt\n",
    "from pyhdf.SD import SD, SDC \n",
    "import tensorflow as tf\n",
    "from tensorflow.data.experimental import parallel_interleave"
   ]
  },
  {
   "cell_type": "code",
   "execution_count": 3,
   "metadata": {},
   "outputs": [],
   "source": [
    "libdir = '/home/tkurihana/scratch-midway2/clouds/src_analysis/lib_hdfs'\n",
    "sys.path.insert(1,os.path.join(sys.path[0],libdir))\n",
    "from lib_modis02 import proc_sds"
   ]
  },
  {
   "cell_type": "markdown",
   "metadata": {},
   "source": [
    "### Cloud Mask Bit in MOD06/MOD35  [6-7bits] statrt from 0\n",
    "https://atmosphere-imager.gsfc.nasa.gov/products/cloud/format-content  \n",
    "https://atmosphere-imager.gsfc.nasa.gov/products/cloud-mask/format-content"
   ]
  },
  {
   "cell_type": "code",
   "execution_count": 4,
   "metadata": {},
   "outputs": [],
   "source": [
    "# 3d array version [6,ix,iy]\n",
    "def _decode_cloud_flag(sds_array, fillna=True):\n",
    "    \"\"\" Assume sds_array = hdf.select('Cloud_Mask') [6,nx,ny]\n",
    "         File: Cloud_Mask_1.hdf which stores first important 6bits\n",
    "\n",
    "         +Flags\n",
    "         0: 00 = water\n",
    "         1: 01 = coastal\n",
    "         2: 10 = desert\n",
    "         3: 11 = land\n",
    "    \"\"\"\n",
    "    def bits_stripping(bit_start,bit_count,value):\n",
    "        bitmask=pow(2,bit_start+bit_count)-1\n",
    "        return np.right_shift(np.bitwise_and(value,bitmask),bit_start)\n",
    "    cm_array = sds_array.get()\n",
    "    _, nx, ny = cm_array.shape\n",
    "    print(cm_array.shape)\n",
    "    carray = np.zeros((nx,ny))\n",
    "    for ix in range(nx):\n",
    "        for iy in range(ny):\n",
    "            # Shown below is the first byte only, of the six byte Cloud Mask\n",
    "            # cm_array[index,ix,iy] : index should be 0 but get 6-7 bits of first  byte \n",
    "            cloud_mask_flag = bits_stripping(6,7,cm_array[0,ix,iy])\n",
    "            carray[ix, iy] = cloud_mask_flag\n",
    "    ncarray = carray.astype(np.float64)\n",
    "    if fillna:\n",
    "        nan_idx = np.where(cm_array[0] == sds_array.attributes()['_FillValue'])\n",
    "        ncarray[nan_idx] = np.nan\n",
    "    return ncarray"
   ]
  },
  {
   "cell_type": "code",
   "execution_count": 22,
   "metadata": {},
   "outputs": [],
   "source": [
    "# 2d array version [6,ix,iy]\n",
    "def decode_cloud_flag(sds_array, fillna=True):\n",
    "    \"\"\" Assume sds_array = hdf.select('Cloud_Mask') [6,nx,ny]\n",
    "         File: Cloud_Mask_1.hdf which stores first important 6bits\n",
    "\n",
    "         +Flags\n",
    "         0: 00 = water\n",
    "         1: 01 = coastal\n",
    "         2: 10 = desert\n",
    "         3: 11 = land\n",
    "    \"\"\"\n",
    "    def bits_stripping(bit_start,bit_count,value):\n",
    "        bitmask=pow(2,bit_start+bit_count)-1\n",
    "        return np.right_shift(np.bitwise_and(value,bitmask),bit_start)\n",
    "    cm_array = sds_array.get()\n",
    "    nx, ny = cm_array.shape\n",
    "    print(cm_array.shape)\n",
    "    carray = np.zeros((nx,ny))\n",
    "    for ix in range(nx):\n",
    "        for iy in range(ny):\n",
    "            # Shown below is the first byte only, of the six byte Cloud Mask\n",
    "            # cm_array[index,ix,iy] : index should be 0 but get 6-7 bits of first  byte \n",
    "            cloud_mask_flag = bits_stripping(6,7,cm_array[ix,iy])\n",
    "            carray[ix, iy] = cloud_mask_flag\n",
    "    ncarray = carray.astype(np.float64)\n",
    "    if fillna:\n",
    "        nan_idx = np.where(cm_array[0] == sds_array.attributes()['_FillValue'])\n",
    "        ncarray[nan_idx] = np.nan\n",
    "    return ncarray"
   ]
  },
  {
   "cell_type": "markdown",
   "metadata": {},
   "source": [
    "### Load data: Try on RGB data"
   ]
  },
  {
   "cell_type": "code",
   "execution_count": 5,
   "metadata": {},
   "outputs": [],
   "source": [
    "def zscore(data):\n",
    "    return (data - np.nanmin(data)) / (np.nanmax(data) - np.nanmin(data))"
   ]
  },
  {
   "cell_type": "markdown",
   "metadata": {},
   "source": [
    "-------------------------------\n",
    "### Load MOD06 data for flag\n",
    "Ref: https://moonbooks.org/Codes/Plot-MODIS-C6-Cloud-Mask-1km-with-python-and-matplotlib/\n",
    "Userguide: https://atmosphere-imager.gsfc.nasa.gov/sites/default/files/ModAtmo/CMUSERSGUIDE_0.pdf"
   ]
  },
  {
   "cell_type": "code",
   "execution_count": 14,
   "metadata": {},
   "outputs": [],
   "source": [
    "hdf_datadir2 = \"/home/tkurihana/clouds/analysis_mod021KM/data/MOD35\"\n",
    "#'/project2/foster/clouds/data/MOD35_part2'"
   ]
  },
  {
   "cell_type": "code",
   "execution_count": 15,
   "metadata": {},
   "outputs": [],
   "source": [
    "m35_file = \"MOD35_L2.A2015335.mosaic.061.2019271230454.psmcgscs_000501379738.Cloud_Mask_1.hdf\"\n",
    "#'MOD35_L2.A2018095.1705.061.2018096013818.hdf' #/project2/foster/clouds/data/MOD35_part2"
   ]
  },
  {
   "cell_type": "code",
   "execution_count": 16,
   "metadata": {},
   "outputs": [],
   "source": [
    "filename = os.path.join(hdf_datadir2, m35_file)"
   ]
  },
  {
   "cell_type": "code",
   "execution_count": 17,
   "metadata": {},
   "outputs": [
    {
     "data": {
      "text/plain": [
       "'/home/tkurihana/clouds/analysis_mod021KM/data/MOD35/MOD35_L2.A2015335.mosaic.061.2019271230454.psmcgscs_000501379738.Cloud_Mask_1.hdf'"
      ]
     },
     "execution_count": 17,
     "metadata": {},
     "output_type": "execute_result"
    }
   ],
   "source": [
    "filename"
   ]
  },
  {
   "cell_type": "code",
   "execution_count": 18,
   "metadata": {},
   "outputs": [],
   "source": [
    "#hdf_data.select(variable_name)\n",
    "flag_sds = SD(filename, SDC.READ)"
   ]
  },
  {
   "cell_type": "code",
   "execution_count": null,
   "metadata": {
    "scrolled": true
   },
   "outputs": [],
   "source": [
    "flag_sds.datasets()"
   ]
  },
  {
   "cell_type": "markdown",
   "metadata": {},
   "source": [
    "#### cloud mask 1km\n",
    "##### MOD06\n",
    " 'Cloud_Mask_1km': (('Cell_Along_Swath_1km:mod06',  \n",
    "   'Cell_Across_Swath_1km:mod06',  \n",
    "   'Cloud_Mask_1km_Num_Bytes:mod06'),  \n",
    "  (2030, 1354, 2),  \n",
    "  20,  \n",
    "  112),  \n",
    "  \n",
    "##### MOD35\n",
    " 'Cloud_Mask': (('Byte_Segment:mod35',  \n",
    "   'Cell_Along_Swath_1km:mod35',  \n",
    "   'Cell_Across_Swath_1km:mod35'),  \n",
    "  (6, 2030, 1354),  \n",
    "  20,  \n",
    "  8),  "
   ]
  },
  {
   "cell_type": "code",
   "execution_count": 19,
   "metadata": {
    "scrolled": true
   },
   "outputs": [],
   "source": [
    "fsds_array = flag_sds.select('Cloud_Mask')"
   ]
  },
  {
   "cell_type": "code",
   "execution_count": 21,
   "metadata": {},
   "outputs": [
    {
     "data": {
      "text/plain": [
       "(3562, 3540)"
      ]
     },
     "execution_count": 21,
     "metadata": {},
     "output_type": "execute_result"
    }
   ],
   "source": [
    "fsds_array.get().shape"
   ]
  },
  {
   "cell_type": "code",
   "execution_count": 23,
   "metadata": {},
   "outputs": [
    {
     "name": "stdout",
     "output_type": "stream",
     "text": [
      "(3562, 3540)\n"
     ]
    }
   ],
   "source": [
    "#olflags = _decode_cloud_flag(fsds_array) ### if MOD35_L2.A2018095.1705.061.2018096013818.hdf\n",
    "olflags = decode_cloud_flag(fsds_array)  ### if mosaic file"
   ]
  },
  {
   "cell_type": "markdown",
   "metadata": {},
   "source": [
    "----------------------\n",
    "### Visualize land/ocean flag"
   ]
  },
  {
   "cell_type": "markdown",
   "metadata": {},
   "source": [
    "- MOD35_L2.A2018095.1705.061.2018096013818.hdf"
   ]
  },
  {
   "cell_type": "code",
   "execution_count": 12,
   "metadata": {},
   "outputs": [
    {
     "data": {
      "text/plain": [
       "(2030, 1354)"
      ]
     },
     "execution_count": 12,
     "metadata": {},
     "output_type": "execute_result"
    }
   ],
   "source": [
    "olflags.shape"
   ]
  },
  {
   "cell_type": "code",
   "execution_count": 13,
   "metadata": {},
   "outputs": [
    {
     "data": {
      "image/png": "[encoded data removed]",
      "text/plain": [
       "<Figure size 432x288 with 2 Axes>"
      ]
     },
     "metadata": {
      "needs_background": "light"
     },
     "output_type": "display_data"
    }
   ],
   "source": [
    "plt.figure()\n",
    "plt.imshow(olflags, cmap='jet', vmin=0, vmax=3)\n",
    "plt.colorbar()\n",
    "plt.show()"
   ]
  },
  {
   "cell_type": "markdown",
   "metadata": {},
   "source": [
    "- MOD35_L2.A2015335.mosaic.061.2019271230454.psmcgscs_000501379738.Cloud_Mask_1.hdf"
   ]
  },
  {
   "cell_type": "code",
   "execution_count": 24,
   "metadata": {},
   "outputs": [
    {
     "data": {
      "image/png": "[encoded data removed]",
      "text/plain": [
       "<Figure size 432x288 with 2 Axes>"
      ]
     },
     "metadata": {
      "needs_background": "light"
     },
     "output_type": "display_data"
    }
   ],
   "source": [
    "\"\"\"\n",
    "         +Flags\n",
    "         0: 00 = water\n",
    "         1: 01 = coastal\n",
    "         2: 10 = desert\n",
    "         3: 11 = land\n",
    "\"\"\"\n",
    "plt.figure()\n",
    "plt.imshow(olflags, cmap='jet', vmin=0, vmax=3)\n",
    "plt.colorbar()\n",
    "plt.show()"
   ]
  }
 ],
 "metadata": {
  "kernelspec": {
   "display_name": "Python 3",
   "language": "python",
   "name": "python3"
  },
  "language_info": {
   "codemirror_mode": {
    "name": "ipython",
    "version": 3
   },
   "file_extension": ".py",
   "mimetype": "text/x-python",
   "name": "python",
   "nbconvert_exporter": "python",
   "pygments_lexer": "ipython3",
   "version": "3.6.6"
  }
 },
 "nbformat": 4,
 "nbformat_minor": 4
}
