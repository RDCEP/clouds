{
 "cells": [
  {
   "cell_type": "markdown",
   "metadata": {},
   "source": [
    "### Notebook to visualize HAC clustering results from larger holdout data\n",
    "\n",
    "Plot HAC clustering from sklearn article: [Plot Hierarchical Clustering Dendrogram](https://scikit-learn.org/stable/auto_examples/cluster/plot_agglomerative_dendrogram.html#sphx-glr-auto-examples-cluster-plot-agglomerative-dendrogram-py)"
   ]
  },
  {
   "cell_type": "code",
   "execution_count": 18,
   "metadata": {},
   "outputs": [],
   "source": [
    "%matplotlib inline\n",
    "import os\n",
    "import gc\n",
    "import glob\n",
    "import pickle\n",
    "import itertools\n",
    "import numpy as np\n",
    "import pandas as pd\n",
    "import matplotlib.pyplot as plt\n",
    "# Visualization for dendrogram\n",
    "from scipy.cluster.hierarchy import dendrogram"
   ]
  },
  {
   "cell_type": "code",
   "execution_count": 2,
   "metadata": {},
   "outputs": [],
   "source": [
    "from sklearn.metrics import adjusted_mutual_info_score as AMI\n",
    "from sklearn.metrics import normalized_mutual_info_score as NMI\n",
    "from sklearn.metrics import adjusted_rand_score as ARS\n",
    "from sklearn.metrics import completeness_score as CLS"
   ]
  },
  {
   "cell_type": "code",
   "execution_count": 3,
   "metadata": {},
   "outputs": [],
   "source": [
    "def pkl_loader(filename):\n",
    "    with open(filename, 'rb') as f:\n",
    "        data = pickle.load(f)\n",
    "    return data"
   ]
  },
  {
   "cell_type": "code",
   "execution_count": 3,
   "metadata": {},
   "outputs": [],
   "source": [
    "#basedatadir = './large_hac1'  # 09152020 \n",
    "basedatadir = './large_hac2'   # 09152020: clustering rotate&copy and rotate them again for clustering2 "
   ]
  },
  {
   "cell_type": "code",
   "execution_count": 4,
   "metadata": {},
   "outputs": [],
   "source": [
    "def file_getter(basedatadir=None, expname=None, nclusters=None, cexpname=None,score_only=True):\n",
    "    \"\"\" TODO in future specify clustering expname\"\"\"\n",
    "    datadir = os.path.join(basedatadir, f\"{expname}/nclusters-{nclusters}/HAC\")\n",
    "    try:\n",
    "        tmp = glob.glob(os.path.join(datadir, f'*{cexpname}.pkl'))\n",
    "        a = [i for i in tmp]\n",
    "        print(\"Begin loading result files\")\n",
    "    except Exception as e:\n",
    "        print(e)\n",
    "        \n",
    "    scores =  pkl_loader(\n",
    "            glob.glob(os.path.join(datadir, f\"score-hac_{cexpname}.pkl\"))[0]\n",
    "    )\n",
    "    if not score_only:\n",
    "        omodel =  pkl_loader(\n",
    "            glob.glob(os.path.join(datadir, f\"original-hac_{cexpname}.pkl\"))[0]\n",
    "        )\n",
    "        rmodel =  pkl_loader(\n",
    "            glob.glob(os.path.join(datadir, f\"reprot-hac_{cexpname}.pkl\"))[0]\n",
    "        )\n",
    "        return scores, omodel, rmodel\n",
    "    else:\n",
    "        return scores"
   ]
  },
  {
   "cell_type": "markdown",
   "metadata": {},
   "source": [
    "---------------\n",
    "#### RI"
   ]
  },
  {
   "cell_type": "code",
   "execution_count": 18,
   "metadata": {},
   "outputs": [
    {
     "name": "stdout",
     "output_type": "stream",
     "text": [
      "Begin loading result files\n"
     ]
    }
   ],
   "source": [
    "scoreRI2000 = file_getter(basedatadir=basedatadir, expname='67011582', cexpname=\"4583049\",\n",
    "                          nclusters=2000, score_only=True)"
   ]
  },
  {
   "cell_type": "code",
   "execution_count": 25,
   "metadata": {},
   "outputs": [
    {
     "data": {
      "text/plain": [
       "{'nclusters-2000': {'ami': -0.0030743676592053857,\n",
       "  'cls': 0.7890443390587428,\n",
       "  'hs': 0.682182417322676}}"
      ]
     },
     "execution_count": 25,
     "metadata": {},
     "output_type": "execute_result"
    }
   ],
   "source": [
    "scoreRI2000"
   ]
  },
  {
   "cell_type": "code",
   "execution_count": 27,
   "metadata": {},
   "outputs": [
    {
     "name": "stdout",
     "output_type": "stream",
     "text": [
      "Begin loading result files\n"
     ]
    }
   ],
   "source": [
    "scoreRI2000 = file_getter(basedatadir=basedatadir, expname='67011582', cexpname=\"4585449\",\n",
    "                          nclusters=2000, score_only=True)"
   ]
  },
  {
   "cell_type": "code",
   "execution_count": 28,
   "metadata": {},
   "outputs": [
    {
     "data": {
      "text/plain": [
       "{'nclusters-2000': {'ami': -0.003906495780173582,\n",
       "  'cls': 0.7258206222790605,\n",
       "  'hs': 0.6240351687680873}}"
      ]
     },
     "execution_count": 28,
     "metadata": {},
     "output_type": "execute_result"
    }
   ],
   "source": [
    "scoreRI2000"
   ]
  },
  {
   "cell_type": "code",
   "execution_count": 20,
   "metadata": {},
   "outputs": [
    {
     "name": "stdout",
     "output_type": "stream",
     "text": [
      "Begin loading result files\n"
     ]
    }
   ],
   "source": [
    "scoreRI100 = file_getter(basedatadir=basedatadir, expname='67011582', cexpname=\"4583334\",\n",
    "                          nclusters=100, score_only=True)"
   ]
  },
  {
   "cell_type": "code",
   "execution_count": 21,
   "metadata": {},
   "outputs": [
    {
     "data": {
      "text/plain": [
       "{'nclusters-100': {'ami': 0.49775915133408816,\n",
       "  'cls': 0.5250588276607263,\n",
       "  'hs': 0.5837425612029344}}"
      ]
     },
     "execution_count": 21,
     "metadata": {},
     "output_type": "execute_result"
    }
   ],
   "source": [
    "scoreRI100"
   ]
  },
  {
   "cell_type": "code",
   "execution_count": 29,
   "metadata": {},
   "outputs": [
    {
     "name": "stdout",
     "output_type": "stream",
     "text": [
      "Begin loading result files\n"
     ]
    },
    {
     "data": {
      "text/plain": [
       "{'nclusters-20': {'ami': 0.3727912117267518,\n",
       "  'cls': 0.3694863967388016,\n",
       "  'hs': 0.3875373646654667}}"
      ]
     },
     "execution_count": 29,
     "metadata": {},
     "output_type": "execute_result"
    }
   ],
   "source": [
    "scoreRI20 = file_getter(basedatadir=basedatadir, expname='67011582', cexpname=\"4585692\",\n",
    "                          nclusters=20, score_only=True)\n",
    "scoreRI20"
   ]
  },
  {
   "cell_type": "code",
   "execution_count": 30,
   "metadata": {},
   "outputs": [
    {
     "name": "stdout",
     "output_type": "stream",
     "text": [
      "Begin loading result files\n"
     ]
    },
    {
     "data": {
      "text/plain": [
       "{'nclusters-10': {'ami': 0.2749294249104568,\n",
       "  'cls': 0.270921330463771,\n",
       "  'hs': 0.2827657385164835}}"
      ]
     },
     "execution_count": 30,
     "metadata": {},
     "output_type": "execute_result"
    }
   ],
   "source": [
    "scoreRI10 = file_getter(basedatadir=basedatadir, expname='67011582', cexpname=\"4585694\",\n",
    "                          nclusters=10, score_only=True)\n",
    "scoreRI10"
   ]
  },
  {
   "cell_type": "code",
   "execution_count": 32,
   "metadata": {},
   "outputs": [
    {
     "name": "stdout",
     "output_type": "stream",
     "text": [
      "Begin loading result files\n",
      "Begin loading result files\n",
      "Begin loading result files\n",
      "Begin loading result files\n",
      "Begin loading result files\n",
      "Begin loading result files\n",
      "Begin loading result files\n",
      "Begin loading result files\n"
     ]
    }
   ],
   "source": [
    "scoresRI = []\n",
    "for cexpname, nclusters in zip(\n",
    "    [4586180,4586181,4586182,4586183,4586184,4586185,4586186,4586179 ],\n",
    "    [2,4,8,16,32,64,128,256]\n",
    "    ):\n",
    "    tmp_score = file_getter(basedatadir=basedatadir, expname='67011582', cexpname=str(cexpname),\n",
    "                          nclusters=nclusters, score_only=True)\n",
    "    scoresRI.append(tmp_score)"
   ]
  },
  {
   "cell_type": "code",
   "execution_count": 33,
   "metadata": {},
   "outputs": [
    {
     "data": {
      "text/plain": [
       "[{'nclusters-2': {'ami': -0.00012688068273619858,\n",
       "   'cls': 8.3908108888613345e-16,\n",
       "   'hs': 1.1139569852771803e-15}},\n",
       " {'nclusters-4': {'ami': 0.1623027487483164,\n",
       "   'cls': 0.1551559466782175,\n",
       "   'hs': 0.1711232043322862}},\n",
       " {'nclusters-8': {'ami': 0.19606965608493074,\n",
       "   'cls': 0.19580718330938102,\n",
       "   'hs': 0.1990257661609034}},\n",
       " {'nclusters-16': {'ami': 0.36363988634507727,\n",
       "   'cls': 0.3496807006622599,\n",
       "   'hs': 0.38705005566309214}},\n",
       " {'nclusters-32': {'ami': 0.4564321286457516,\n",
       "   'cls': 0.4437581757689382,\n",
       "   'hs': 0.4941132735877916}},\n",
       " {'nclusters-64': {'ami': 0.47742376135150927,\n",
       "   'cls': 0.4839587039323898,\n",
       "   'hs': 0.5392947849802405}},\n",
       " {'nclusters-128': {'ami': 0.5072805550995583,\n",
       "   'cls': 0.5456484135659448,\n",
       "   'hs': 0.6083612546860472}},\n",
       " {'nclusters-256': {'ami': 0.5068012896885425,\n",
       "   'cls': 0.5838944078925472,\n",
       "   'hs': 0.6627520560607516}}]"
      ]
     },
     "execution_count": 33,
     "metadata": {},
     "output_type": "execute_result"
    }
   ],
   "source": [
    "scoresRI"
   ]
  },
  {
   "cell_type": "markdown",
   "metadata": {},
   "source": [
    "--------------\n",
    "#### RI after left out non structured patches"
   ]
  },
  {
   "cell_type": "code",
   "execution_count": 54,
   "metadata": {},
   "outputs": [
    {
     "name": "stdout",
     "output_type": "stream",
     "text": [
      "Begin loading result files\n"
     ]
    },
    {
     "name": "stderr",
     "output_type": "stream",
     "text": [
      "/software/python-anaconda-2020.02-el7-x86_64/lib/python3.7/site-packages/sklearn/base.py:334: UserWarning: Trying to unpickle estimator AgglomerativeClustering from version 0.23.2 when using version 0.23.1. This might lead to breaking code or invalid results. Use at your own risk.\n",
      "  UserWarning)\n"
     ]
    },
    {
     "data": {
      "text/plain": [
       "{'nclusters-674': {'ami': -0.004311490039035771,\n",
       "  'cls': 0.7694366410700049,\n",
       "  'hs': 0.7102996621677017}}"
      ]
     },
     "execution_count": 54,
     "metadata": {},
     "output_type": "execute_result"
    }
   ],
   "source": [
    "scoreRI674, orimodel, rimodel = file_getter(basedatadir=basedatadir, expname='67011582', cexpname=\"4590898\",\n",
    "                          nclusters=674, score_only=False)\n",
    "scoreRI674"
   ]
  },
  {
   "cell_type": "code",
   "execution_count": 55,
   "metadata": {},
   "outputs": [],
   "source": [
    "orimodel_labels = orimodel.labels_\n",
    "rimodel_labels = rimodel.labels_"
   ]
  },
  {
   "cell_type": "code",
   "execution_count": 56,
   "metadata": {},
   "outputs": [
    {
     "data": {
      "text/plain": [
       "array([618, 667, 626, 665, 673, 634, 597, 636, 661, 455, 500, 586, 642,\n",
       "       655, 497, 575, 438, 644, 447, 580, 361, 593, 606, 559, 408, 382,\n",
       "       525, 448, 540, 552, 424, 550, 553, 464, 545, 466, 378, 491, 565,\n",
       "       533, 468, 592, 549, 418, 445, 627, 641, 602, 508, 643, 616, 435,\n",
       "       663, 620, 567, 617, 566, 651, 442, 649, 428, 465, 622, 600, 390,\n",
       "       437, 614, 625, 546, 434, 652, 539, 611, 409, 232, 325, 395, 555,\n",
       "       571, 547, 345, 456, 463, 647, 274, 223, 591, 503, 427, 521, 355,\n",
       "       623, 231, 467, 495, 543, 576, 487, 419, 431])"
      ]
     },
     "execution_count": 56,
     "metadata": {},
     "output_type": "execute_result"
    }
   ],
   "source": [
    "orimodel_labels[:100]"
   ]
  },
  {
   "cell_type": "code",
   "execution_count": 57,
   "metadata": {},
   "outputs": [
    {
     "data": {
      "text/plain": [
       "array([  6, 578, 393, 441, 176, 115,  52, 175, 303, 330, 393, 309, 176,\n",
       "       330,  64, 243, 176, 115,  52, 175, 303, 114, 617, 243, 328, 578,\n",
       "       393, 441, 328, 517,  70, 552, 176, 114, 617, 636, 327,  43, 127,\n",
       "       494, 303, 114, 617, 243, 176, 115, 617, 175, 176, 115, 617, 636,\n",
       "        46, 114,  64, 504,  20, 578, 333, 336,  14, 119,  70, 552,  14,\n",
       "       114, 456, 326,  20, 115,  52, 175, 209, 142, 134,  10, 638, 458,\n",
       "        61, 206, 477, 162, 195,  33, 120, 578, 123, 166, 328, 112, 123,\n",
       "       441, 124, 288,  54, 464, 124, 458,  61, 206])"
      ]
     },
     "execution_count": 57,
     "metadata": {},
     "output_type": "execute_result"
    }
   ],
   "source": [
    "rimodel_labels[:100]"
   ]
  },
  {
   "cell_type": "code",
   "execution_count": 63,
   "metadata": {},
   "outputs": [
    {
     "data": {
      "text/plain": [
       "673"
      ]
     },
     "execution_count": 63,
     "metadata": {},
     "output_type": "execute_result"
    }
   ],
   "source": [
    "np.max(rimodel_labels)"
   ]
  },
  {
   "cell_type": "code",
   "execution_count": 71,
   "metadata": {},
   "outputs": [
    {
     "data": {
      "text/plain": [
       "array([  0,   6,  14,  21,  33,  37,  44,  59,  65, 155, 178, 262, 263,\n",
       "       281, 302, 319, 403, 483, 484, 505, 512, 528, 529, 536, 556, 597,\n",
       "       607, 611, 612])"
      ]
     },
     "execution_count": 71,
     "metadata": {},
     "output_type": "execute_result"
    }
   ],
   "source": [
    "np.where(rimodel_labels == 578)[0]//4"
   ]
  },
  {
   "cell_type": "markdown",
   "metadata": {},
   "source": [
    "After debugging of selected index "
   ]
  },
  {
   "cell_type": "code",
   "execution_count": 73,
   "metadata": {},
   "outputs": [
    {
     "name": "stdout",
     "output_type": "stream",
     "text": [
      "Begin loading result files\n",
      "Begin loading result files\n",
      "Begin loading result files\n",
      "Begin loading result files\n",
      "Begin loading result files\n",
      "Begin loading result files\n",
      "Begin loading result files\n",
      "Begin loading result files\n"
     ]
    }
   ],
   "source": [
    "scoresRI = []\n",
    "for cexpname, nclusters in zip(\n",
    "    [4591360, 4591361, 4591362,4591363,4591364, 4591365, 4591366,4591359],\n",
    "    [2,4,8,16,32,64,128,256]\n",
    "    ):\n",
    "    tmp_score = file_getter(basedatadir=basedatadir, expname='67011582', cexpname=str(cexpname),\n",
    "                          nclusters=nclusters, score_only=True)\n",
    "    scoresRI.append(tmp_score)"
   ]
  },
  {
   "cell_type": "code",
   "execution_count": 74,
   "metadata": {},
   "outputs": [
    {
     "data": {
      "text/plain": [
       "[{'nclusters-2': {'ami': -0.0003187614035202872, 'cls': 0.0, 'hs': 0.0}},\n",
       " {'nclusters-4': {'ami': -0.0012338901741523265,\n",
       "   'cls': 1.6017132519074586e-16,\n",
       "   'hs': 1.6726832409356116e-16}},\n",
       " {'nclusters-8': {'ami': 0.2371615569549225,\n",
       "   'cls': 0.2285255201999385,\n",
       "   'hs': 0.2546356478011065}},\n",
       " {'nclusters-16': {'ami': 0.2868797017755245,\n",
       "   'cls': 0.28999011436304134,\n",
       "   'hs': 0.30946702197881837}},\n",
       " {'nclusters-32': {'ami': 0.36934627648230267,\n",
       "   'cls': 0.3961926336582112,\n",
       "   'hs': 0.4173295135427449}},\n",
       " {'nclusters-64': {'ami': 0.392455738298038,\n",
       "   'cls': 0.4791146875565044,\n",
       "   'hs': 0.49484173270304715}},\n",
       " {'nclusters-128': {'ami': 0.37965359793293607,\n",
       "   'cls': 0.5620717915066537,\n",
       "   'hs': 0.5785309653574207}},\n",
       " {'nclusters-256': {'ami': 0.3249241553894448,\n",
       "   'cls': 0.6398029584166206,\n",
       "   'hs': 0.6525864333600652}}]"
      ]
     },
     "execution_count": 74,
     "metadata": {},
     "output_type": "execute_result"
    }
   ],
   "source": [
    "scoresRI "
   ]
  },
  {
   "cell_type": "code",
   "execution_count": 77,
   "metadata": {},
   "outputs": [
    {
     "name": "stdout",
     "output_type": "stream",
     "text": [
      "Begin loading result files\n"
     ]
    },
    {
     "data": {
      "text/plain": [
       "{'nclusters-300': {'ami': -0.016010367780507573,\n",
       "  'nmi': 0.5224396879957052,\n",
       "  'cls': 0.538280117350661,\n",
       "  'hs': 0.507504907072814,\n",
       "  'ars': -0.003850189810453388}}"
      ]
     },
     "execution_count": 77,
     "metadata": {},
     "output_type": "execute_result"
    }
   ],
   "source": [
    "# copy size increase from 4 to 12\n",
    "scoreRI300 = file_getter(basedatadir=basedatadir, expname='67011582', cexpname=\"4595995\",\n",
    "                          nclusters=300, score_only=True)\n",
    "scoreRI300"
   ]
  },
  {
   "cell_type": "code",
   "execution_count": 79,
   "metadata": {},
   "outputs": [
    {
     "name": "stdout",
     "output_type": "stream",
     "text": [
      "Begin loading result files\n"
     ]
    },
    {
     "data": {
      "text/plain": [
       "{'nclusters-300': {'ami': 0.08048845589254608,\n",
       "  'nmi': 0.4691174533448532,\n",
       "  'cls': 0.47970336474892916,\n",
       "  'hs': 0.4589886660334527,\n",
       "  'ars': 0.01260017657611253}}"
      ]
     },
     "execution_count": 79,
     "metadata": {},
     "output_type": "execute_result"
    }
   ],
   "source": [
    "# copy size increase from 12 to 24\n",
    "scoreRI300 = file_getter(basedatadir=basedatadir, expname='67011582', cexpname=\"4596305\",\n",
    "                          nclusters=300, score_only=True)\n",
    "scoreRI300"
   ]
  },
  {
   "cell_type": "code",
   "execution_count": 83,
   "metadata": {},
   "outputs": [
    {
     "name": "stdout",
     "output_type": "stream",
     "text": [
      "Begin loading result files\n",
      "Begin loading result files\n",
      "Begin loading result files\n",
      "Begin loading result files\n",
      "Begin loading result files\n",
      "Begin loading result files\n",
      "Begin loading result files\n"
     ]
    }
   ],
   "source": [
    "scoresRI = []\n",
    "for cexpname, nclusters in zip(\n",
    "    [4596433,4596434,4596479,4596481,4596507,4596513,4596432],\n",
    "    [2,4,8,16,32,64,128]\n",
    "    ):\n",
    "    tmp_score = file_getter(basedatadir=basedatadir, expname='67011582', cexpname=str(cexpname),\n",
    "                          nclusters=nclusters, score_only=True)\n",
    "    scoresRI.append(tmp_score)"
   ]
  },
  {
   "cell_type": "code",
   "execution_count": 84,
   "metadata": {},
   "outputs": [
    {
     "data": {
      "text/plain": [
       "[{'nclusters-2': {'ami': -0.00010393628141146943,\n",
       "   'nmi': 3.438735347612704e-08,\n",
       "   'cls': 3.383067363938149e-08,\n",
       "   'hs': 3.4962660018309707e-08,\n",
       "   'ars': -0.00010748196611937699}},\n",
       " {'nclusters-4': {'ami': -8.061710320814813e-05,\n",
       "   'nmi': 0.00040254349569967195,\n",
       "   'cls': 0.0003812375531387048,\n",
       "   'hs': 0.0004263718240421079,\n",
       "   'ars': -0.0002964264207650843}},\n",
       " {'nclusters-8': {'ami': 0.09040616516847451,\n",
       "   'nmi': 0.09205709610453243,\n",
       "   'cls': 0.08515839122957922,\n",
       "   'hs': 0.10017206266333763,\n",
       "   'ars': 0.05496634724730505}},\n",
       " {'nclusters-16': {'ami': 0.17643446182834527,\n",
       "   'nmi': 0.18150740921904535,\n",
       "   'cls': 0.17373826822137634,\n",
       "   'hs': 0.19000390900748876,\n",
       "   'ars': 0.07659856549735698}},\n",
       " {'nclusters-32': {'ami': 0.2051621427401649,\n",
       "   'nmi': 0.2227250937085756,\n",
       "   'cls': 0.21251787666856842,\n",
       "   'hs': 0.233962283958033,\n",
       "   'ars': 0.06302294169651051}},\n",
       " {'nclusters-64': {'ami': 0.22595606407249735,\n",
       "   'nmi': 0.2839857444953736,\n",
       "   'cls': 0.26925407510923055,\n",
       "   'hs': 0.3004227418056818,\n",
       "   'ars': 0.05572805462423383}},\n",
       " {'nclusters-128': {'ami': 0.2276226188456831,\n",
       "   'nmi': 0.3690389012182532,\n",
       "   'cls': 0.3559244183940581,\n",
       "   'hs': 0.38315679521523244,\n",
       "   'ars': 0.04756102207483502}}]"
      ]
     },
     "execution_count": 84,
     "metadata": {},
     "output_type": "execute_result"
    }
   ],
   "source": [
    "scoresRI"
   ]
  },
  {
   "cell_type": "markdown",
   "metadata": {},
   "source": [
    "------------\n",
    "### RI for large_hac2"
   ]
  },
  {
   "cell_type": "code",
   "execution_count": 5,
   "metadata": {},
   "outputs": [
    {
     "name": "stdout",
     "output_type": "stream",
     "text": [
      "Begin loading result files\n"
     ]
    },
    {
     "data": {
      "text/plain": [
       "{'nclusters-300': {'ami': 0.00898441385138554,\n",
       "  'nmi': 0.5566530469678308,\n",
       "  'cls': 0.5689985558920936,\n",
       "  'hs': 0.5448318801666692,\n",
       "  'ars': 0.0023141046704895462}}"
      ]
     },
     "execution_count": 5,
     "metadata": {},
     "output_type": "execute_result"
    }
   ],
   "source": [
    "scoreRI300 = file_getter(basedatadir=basedatadir, expname='67011582', cexpname=\"4612631\",\n",
    "                          nclusters=300, score_only=True)\n",
    "scoreRI300"
   ]
  },
  {
   "cell_type": "code",
   "execution_count": 6,
   "metadata": {},
   "outputs": [
    {
     "name": "stdout",
     "output_type": "stream",
     "text": [
      "Begin loading result files\n"
     ]
    },
    {
     "data": {
      "text/plain": [
       "{'nclusters-900': {'ami': 0.0005272858169453541,\n",
       "  'nmi': 0.8104582828892518,\n",
       "  'cls': 0.820595191775831,\n",
       "  'hs': 0.8005687628340249,\n",
       "  'ars': 0.00017800267670335215}}"
      ]
     },
     "execution_count": 6,
     "metadata": {},
     "output_type": "execute_result"
    }
   ],
   "source": [
    "scoreRI900 = file_getter(basedatadir=basedatadir, expname='67011582', cexpname=\"4613243\",\n",
    "                          nclusters=900, score_only=True)\n",
    "scoreRI900"
   ]
  },
  {
   "cell_type": "code",
   "execution_count": 12,
   "metadata": {},
   "outputs": [
    {
     "name": "stdout",
     "output_type": "stream",
     "text": [
      "Begin loading result files\n",
      "Begin loading result files\n",
      "Begin loading result files\n",
      "Begin loading result files\n",
      "Begin loading result files\n",
      "Begin loading result files\n",
      "Begin loading result files\n",
      "Begin loading result files\n"
     ]
    }
   ],
   "source": [
    "scoresRI = []\n",
    "for cexpname, nclusters in zip(\n",
    "    [4613870,4613871,4613872,4613873,4613874,4613875,4613876,4613869 ],\n",
    "    [2,4,8,16,32,64,128,256]\n",
    "    ):\n",
    "    tmp_score = file_getter(basedatadir=basedatadir, expname='67011582', cexpname=str(cexpname),\n",
    "                          nclusters=nclusters, score_only=True)\n",
    "    scoresRI.append(tmp_score)"
   ]
  },
  {
   "cell_type": "code",
   "execution_count": 13,
   "metadata": {},
   "outputs": [
    {
     "data": {
      "text/plain": [
       "[{'nclusters-2': {'ami': -0.0004184622998092793,\n",
       "   'nmi': 1.3361478005724782e-15,\n",
       "   'cls': 1.2817404583059683e-15,\n",
       "   'hs': 1.3953788681240312e-15,\n",
       "   'ars': -0.0004941700564436845}},\n",
       " {'nclusters-4': {'ami': 0.005619860844303482,\n",
       "   'nmi': 0.007460760419080556,\n",
       "   'cls': 0.007328828257198745,\n",
       "   'hs': 0.007597529692713958,\n",
       "   'ars': 0.0023955107011968367}},\n",
       " {'nclusters-8': {'ami': 0.036227896709882426,\n",
       "   'nmi': 0.042867539849945735,\n",
       "   'cls': 0.04326654575150042,\n",
       "   'hs': 0.04247582599914723,\n",
       "   'ars': 0.032789611766941236}},\n",
       " {'nclusters-16': {'ami': 0.012436170209568567,\n",
       "   'nmi': 0.03629361768592584,\n",
       "   'cls': 0.0365289577502909,\n",
       "   'hs': 0.036061290596059815,\n",
       "   'ars': 0.005867381347942263}},\n",
       " {'nclusters-32': {'ami': 0.04939463241828103,\n",
       "   'nmi': 0.13102000877347614,\n",
       "   'cls': 0.12978955153198238,\n",
       "   'hs': 0.1322740197749198,\n",
       "   'ars': 0.009414446993107221}},\n",
       " {'nclusters-64': {'ami': 0.03138086922915096,\n",
       "   'nmi': 0.2579751241790432,\n",
       "   'cls': 0.25396189013192083,\n",
       "   'hs': 0.2621172330740586,\n",
       "   'ars': 0.005227729785541253}},\n",
       " {'nclusters-128': {'ami': 0.023728652285810316,\n",
       "   'nmi': 0.416925196011025,\n",
       "   'cls': 0.41153571444256476,\n",
       "   'hs': 0.42245771232522805,\n",
       "   'ars': 0.004895544899212061}},\n",
       " {'nclusters-256': {'ami': 0.011779411836433634,\n",
       "   'nmi': 0.5264006134309636,\n",
       "   'cls': 0.5354045372342985,\n",
       "   'hs': 0.5176945198402662,\n",
       "   'ars': 0.0028288610722795615}}]"
      ]
     },
     "execution_count": 13,
     "metadata": {},
     "output_type": "execute_result"
    }
   ],
   "source": [
    "scoresRI"
   ]
  },
  {
   "cell_type": "code",
   "execution_count": 14,
   "metadata": {},
   "outputs": [
    {
     "name": "stdout",
     "output_type": "stream",
     "text": [
      "Begin loading result files\n",
      "Begin loading result files\n",
      "Begin loading result files\n",
      "Begin loading result files\n"
     ]
    }
   ],
   "source": [
    "scoresRI = []\n",
    "for cexpname, nclusters in zip(\n",
    "    [4614213,4614214,4614215,4614212],\n",
    "    [300,600,1200,1800]\n",
    "    ):\n",
    "    tmp_score = file_getter(basedatadir=basedatadir, expname='67011582', cexpname=str(cexpname),\n",
    "                          nclusters=nclusters, score_only=True)\n",
    "    scoresRI.append(tmp_score)"
   ]
  },
  {
   "cell_type": "code",
   "execution_count": 15,
   "metadata": {},
   "outputs": [
    {
     "data": {
      "text/plain": [
       "[{'nclusters-300': {'ami': 0.009496271867196029,\n",
       "   'nmi': 0.5580367656268055,\n",
       "   'cls': 0.569842430169431,\n",
       "   'hs': 0.5467103383293805,\n",
       "   'ars': 0.0024753976321580723}},\n",
       " {'nclusters-600': {'ami': 0.0021019794212184645,\n",
       "   'nmi': 0.7043556583222643,\n",
       "   'cls': 0.7194962104757199,\n",
       "   'hs': 0.6898391868878054,\n",
       "   'ars': 0.000585275726593785}},\n",
       " {'nclusters-1200': {'ami': 0.0021992511761869055,\n",
       "   'nmi': 0.8970509822088463,\n",
       "   'cls': 0.9042815829700399,\n",
       "   'hs': 0.8899350954104517,\n",
       "   'ars': 0.0010964642767450187}},\n",
       " {'nclusters-1800': {'ami': 1.0,\n",
       "   'nmi': 1.0,\n",
       "   'cls': 1.0,\n",
       "   'hs': 1.0,\n",
       "   'ars': 1.0}}]"
      ]
     },
     "execution_count": 15,
     "metadata": {},
     "output_type": "execute_result"
    }
   ],
   "source": [
    "scoresRI"
   ]
  },
  {
   "cell_type": "markdown",
   "metadata": {},
   "source": [
    "-------------"
   ]
  },
  {
   "cell_type": "markdown",
   "metadata": {},
   "source": [
    "-------------\n",
    "#### NRI"
   ]
  },
  {
   "cell_type": "code",
   "execution_count": 22,
   "metadata": {},
   "outputs": [
    {
     "name": "stdout",
     "output_type": "stream",
     "text": [
      "Begin loading result files\n"
     ]
    }
   ],
   "source": [
    "scoreNRI2000 = file_getter(basedatadir=basedatadir,\n",
    "                           expname='m2_02_global_2000_2018_band28_29_31', cexpname=\"4583443\",\n",
    "                           nclusters=2000, score_only=True)"
   ]
  },
  {
   "cell_type": "code",
   "execution_count": 24,
   "metadata": {},
   "outputs": [
    {
     "data": {
      "text/plain": [
       "{'nclusters-2000': {'ami': 0.3396396788708435,\n",
       "  'cls': 0.8894683429034593,\n",
       "  'hs': 0.750603589555923}}"
      ]
     },
     "execution_count": 24,
     "metadata": {},
     "output_type": "execute_result"
    }
   ],
   "source": [
    "scoreNRI2000"
   ]
  },
  {
   "cell_type": "code",
   "execution_count": 23,
   "metadata": {},
   "outputs": [
    {
     "name": "stdout",
     "output_type": "stream",
     "text": [
      "Begin loading result files\n"
     ]
    }
   ],
   "source": [
    "scoreNRI100 = file_getter(basedatadir=basedatadir,\n",
    "                           expname='m2_02_global_2000_2018_band28_29_31', cexpname=\"4583475\",\n",
    "                           nclusters=100, score_only=True)"
   ]
  },
  {
   "cell_type": "code",
   "execution_count": 26,
   "metadata": {},
   "outputs": [
    {
     "data": {
      "text/plain": [
       "{'nclusters-100': {'ami': 0.6400035633954669,\n",
       "  'cls': 0.6671413142366469,\n",
       "  'hs': 0.6935826582810746}}"
      ]
     },
     "execution_count": 26,
     "metadata": {},
     "output_type": "execute_result"
    }
   ],
   "source": [
    "scoreNRI100"
   ]
  },
  {
   "cell_type": "code",
   "execution_count": 34,
   "metadata": {},
   "outputs": [
    {
     "name": "stdout",
     "output_type": "stream",
     "text": [
      "Begin loading result files\n",
      "Begin loading result files\n",
      "Begin loading result files\n",
      "Begin loading result files\n",
      "Begin loading result files\n",
      "Begin loading result files\n",
      "Begin loading result files\n",
      "Begin loading result files\n"
     ]
    }
   ],
   "source": [
    "# copy_size 4\n",
    "scoresNRI = []\n",
    "for cexpname, nclusters in zip(\n",
    "    [4586634,4586635,4586636,4586637,4586638,4586639,4586640,4586630],\n",
    "    [2,4,8,16,32,64,128,256]\n",
    "    ):\n",
    "    tmp_score = file_getter(basedatadir=basedatadir, \n",
    "                            expname='m2_02_global_2000_2018_band28_29_31', cexpname=str(cexpname),\n",
    "                          nclusters=nclusters, score_only=True)\n",
    "    scoresNRI.append(tmp_score)"
   ]
  },
  {
   "cell_type": "code",
   "execution_count": 35,
   "metadata": {},
   "outputs": [
    {
     "data": {
      "text/plain": [
       "[{'nclusters-2': {'ami': 0.4128594447505487,\n",
       "   'cls': 0.47886543767205425,\n",
       "   'hs': 0.3633319633431876}},\n",
       " {'nclusters-4': {'ami': 0.7667494909799751,\n",
       "   'cls': 0.7476850590746659,\n",
       "   'hs': 0.7880485465401278}},\n",
       " {'nclusters-8': {'ami': 0.6477535971893129,\n",
       "   'cls': 0.6367982398847724,\n",
       "   'hs': 0.6650142485913162}},\n",
       " {'nclusters-16': {'ami': 0.6606824208484383,\n",
       "   'cls': 0.6583685809797838,\n",
       "   'hs': 0.683374325395819}},\n",
       " {'nclusters-32': {'ami': 0.6727681693574846,\n",
       "   'cls': 0.6863959105393157,\n",
       "   'hs': 0.7180655271574099}},\n",
       " {'nclusters-64': {'ami': 0.7329132118741402,\n",
       "   'cls': 0.7680096277501182,\n",
       "   'hs': 0.7993717226610066}},\n",
       " {'nclusters-128': {'ami': 0.7253333110071576,\n",
       "   'cls': 0.8247853408445397,\n",
       "   'hs': 0.8070757610746954}},\n",
       " {'nclusters-256': {'ami': 0.5981808135158303,\n",
       "   'cls': 0.881317781635395,\n",
       "   'hs': 0.7321460932830813}}]"
      ]
     },
     "execution_count": 35,
     "metadata": {},
     "output_type": "execute_result"
    }
   ],
   "source": [
    "scoresNRI "
   ]
  },
  {
   "cell_type": "code",
   "execution_count": 36,
   "metadata": {},
   "outputs": [
    {
     "name": "stdout",
     "output_type": "stream",
     "text": [
      "Begin loading result files\n"
     ]
    }
   ],
   "source": [
    "scoreNRI10 = file_getter(basedatadir=basedatadir,\n",
    "                           expname='m2_02_global_2000_2018_band28_29_31', cexpname=\"4585656\",\n",
    "                           nclusters=10, score_only=True)"
   ]
  },
  {
   "cell_type": "code",
   "execution_count": 37,
   "metadata": {},
   "outputs": [
    {
     "data": {
      "text/plain": [
       "{'nclusters-10': {'ami': 0.7572164790708689,\n",
       "  'cls': 0.7280917000833951,\n",
       "  'hs': 0.795763362793223}}"
      ]
     },
     "execution_count": 37,
     "metadata": {},
     "output_type": "execute_result"
    }
   ],
   "source": [
    "scoreNRI10"
   ]
  },
  {
   "cell_type": "markdown",
   "metadata": {},
   "source": [
    "--------------\n",
    "#### NRI after left out non structured patches"
   ]
  },
  {
   "cell_type": "code",
   "execution_count": 72,
   "metadata": {},
   "outputs": [
    {
     "name": "stdout",
     "output_type": "stream",
     "text": [
      "Begin loading result files\n"
     ]
    },
    {
     "name": "stderr",
     "output_type": "stream",
     "text": [
      "/software/python-anaconda-2020.02-el7-x86_64/lib/python3.7/site-packages/sklearn/base.py:334: UserWarning: Trying to unpickle estimator AgglomerativeClustering from version 0.23.2 when using version 0.23.1. This might lead to breaking code or invalid results. Use at your own risk.\n",
      "  UserWarning)\n"
     ]
    },
    {
     "data": {
      "text/plain": [
       "{'nclusters-674': {'ami': 0.13615622130444227,\n",
       "  'cls': 0.80655517579,\n",
       "  'hs': 0.7387182640492443}}"
      ]
     },
     "execution_count": 72,
     "metadata": {},
     "output_type": "execute_result"
    }
   ],
   "source": [
    "scoreNRI674, orimodel, rimodel = file_getter(basedatadir=basedatadir,\n",
    "                            expname='m2_02_global_2000_2018_band28_29_31', cexpname=\"4591099\",\n",
    "                            nclusters=674, score_only=False)\n",
    "scoreNRI674"
   ]
  },
  {
   "cell_type": "markdown",
   "metadata": {},
   "source": [
    "After debugging "
   ]
  },
  {
   "cell_type": "code",
   "execution_count": 75,
   "metadata": {},
   "outputs": [
    {
     "name": "stdout",
     "output_type": "stream",
     "text": [
      "Begin loading result files\n",
      "Begin loading result files\n",
      "Begin loading result files\n",
      "Begin loading result files\n",
      "Begin loading result files\n",
      "Begin loading result files\n",
      "Begin loading result files\n",
      "Begin loading result files\n"
     ]
    }
   ],
   "source": [
    "scoresNRI = []\n",
    "for cexpname, nclusters in zip(\n",
    "    [4591373,4591429,4591449,4591450,4591451,4591452,4591587,4591372 ],\n",
    "    [2,4,8,16,32,64,128,256]\n",
    "    ):\n",
    "    tmp_score = file_getter(basedatadir=basedatadir, \n",
    "                            expname='m2_02_global_2000_2018_band28_29_31', cexpname=str(cexpname),\n",
    "                          nclusters=nclusters, score_only=True)\n",
    "    scoresNRI.append(tmp_score)"
   ]
  },
  {
   "cell_type": "code",
   "execution_count": 76,
   "metadata": {},
   "outputs": [
    {
     "data": {
      "text/plain": [
       "[{'nclusters-2': {'ami': 0.6345534910991922,\n",
       "   'cls': 0.6243102293391076,\n",
       "   'hs': 0.6453455036011481}},\n",
       " {'nclusters-4': {'ami': 0.49519415777385545,\n",
       "   'cls': 0.50291832107349,\n",
       "   'hs': 0.48897604689229973}},\n",
       " {'nclusters-8': {'ami': 0.4234319868539766,\n",
       "   'cls': 0.4334429667685152,\n",
       "   'hs': 0.41908500382967107}},\n",
       " {'nclusters-16': {'ami': 0.4174203241392342,\n",
       "   'cls': 0.4303661031763206,\n",
       "   'hs': 0.4237860791018749}},\n",
       " {'nclusters-32': {'ami': 0.4136720532550572,\n",
       "   'cls': 0.44784490276575956,\n",
       "   'hs': 0.4495099159397826}},\n",
       " {'nclusters-64': {'ami': 0.4235108582888609,\n",
       "   'cls': 0.514021114901282,\n",
       "   'hs': 0.5251646761032006}},\n",
       " {'nclusters-128': {'ami': 0.41570301231502427,\n",
       "   'cls': 0.5873827361268931,\n",
       "   'hs': 0.6115586157904154}},\n",
       " {'nclusters-256': {'ami': 0.3806636412411501,\n",
       "   'cls': 0.6776555603769518,\n",
       "   'hs': 0.6829078622547784}}]"
      ]
     },
     "execution_count": 76,
     "metadata": {},
     "output_type": "execute_result"
    }
   ],
   "source": [
    "scoresNRI"
   ]
  },
  {
   "cell_type": "code",
   "execution_count": 78,
   "metadata": {},
   "outputs": [
    {
     "name": "stdout",
     "output_type": "stream",
     "text": [
      "Begin loading result files\n"
     ]
    },
    {
     "data": {
      "text/plain": [
       "{'nclusters-300': {'ami': 0.19720699847391798,\n",
       "  'nmi': 0.6107663706735132,\n",
       "  'cls': 0.6371547883788087,\n",
       "  'hs': 0.5864768323858783,\n",
       "  'ars': 0.05756680248680777}}"
      ]
     },
     "execution_count": 78,
     "metadata": {},
     "output_type": "execute_result"
    }
   ],
   "source": [
    "### copy_size = 12\n",
    "scoreNRI300, orimodel, rimodel = file_getter(basedatadir=basedatadir,\n",
    "                            expname='m2_02_global_2000_2018_band28_29_31', cexpname=\"4596123\",\n",
    "                            nclusters=300, score_only=False)\n",
    "scoreNRI300"
   ]
  },
  {
   "cell_type": "code",
   "execution_count": 80,
   "metadata": {},
   "outputs": [
    {
     "name": "stdout",
     "output_type": "stream",
     "text": [
      "Begin loading result files\n"
     ]
    },
    {
     "data": {
      "text/plain": [
       "{'nclusters-300': {'ami': 0.24760808481968782,\n",
       "  'nmi': 0.5609934733133397,\n",
       "  'cls': 0.5766054839125432,\n",
       "  'hs': 0.5462045889378914,\n",
       "  'ars': 0.06051352551642502}}"
      ]
     },
     "execution_count": 80,
     "metadata": {},
     "output_type": "execute_result"
    }
   ],
   "source": [
    "### copy_size = 12\n",
    "scoreNRI300, orimodel, rimodel = file_getter(basedatadir=basedatadir,\n",
    "                            expname='m2_02_global_2000_2018_band28_29_31', cexpname=\"4596308\",\n",
    "                            nclusters=300, score_only=False)\n",
    "scoreNRI300"
   ]
  },
  {
   "cell_type": "markdown",
   "metadata": {},
   "source": [
    "------------\n",
    "### NRI for large_hac2"
   ]
  },
  {
   "cell_type": "code",
   "execution_count": 9,
   "metadata": {},
   "outputs": [
    {
     "name": "stdout",
     "output_type": "stream",
     "text": [
      "Begin loading result files\n"
     ]
    },
    {
     "data": {
      "text/plain": [
       "{'nclusters-900': {'ami': -0.003156671818971873,\n",
       "  'nmi': 0.8127858625149781,\n",
       "  'cls': 0.8251590502164042,\n",
       "  'hs': 0.800778262589075,\n",
       "  'ars': -0.0012723912595160615}}"
      ]
     },
     "execution_count": 9,
     "metadata": {},
     "output_type": "execute_result"
    }
   ],
   "source": [
    "scoreNRI900 = file_getter(basedatadir=basedatadir,\n",
    "                            expname='m2_02_global_2000_2018_band28_29_31', cexpname=\"4613441\",\n",
    "                            nclusters=900, score_only=True)\n",
    "scoreNRI900"
   ]
  },
  {
   "cell_type": "code",
   "execution_count": 16,
   "metadata": {},
   "outputs": [
    {
     "name": "stdout",
     "output_type": "stream",
     "text": [
      "Begin loading result files\n",
      "Begin loading result files\n",
      "Begin loading result files\n",
      "Begin loading result files\n",
      "Begin loading result files\n",
      "Begin loading result files\n",
      "Begin loading result files\n",
      "Begin loading result files\n",
      "Begin loading result files\n",
      "Begin loading result files\n",
      "Begin loading result files\n",
      "Begin loading result files\n"
     ]
    }
   ],
   "source": [
    "scoresNRI = []\n",
    "for cexpname, nclusters in zip(\n",
    "    [4613865,4613866,4613867,4614079,4614089,4614097,4614259,4613864,4614416,4614848,4614864,4614232],\n",
    "    [2,4,8,16,32,64,128,256, 300,600,1200,1800]\n",
    "    ):\n",
    "    tmp_score = file_getter(basedatadir=basedatadir, \n",
    "                            expname='m2_02_global_2000_2018_band28_29_31', cexpname=str(cexpname),\n",
    "                          nclusters=nclusters, score_only=True)\n",
    "    scoresNRI.append(tmp_score)"
   ]
  },
  {
   "cell_type": "code",
   "execution_count": 17,
   "metadata": {},
   "outputs": [
    {
     "data": {
      "text/plain": [
       "[{'nclusters-2': {'ami': -0.0003627159255383943,\n",
       "   'nmi': 5.614681211732896e-05,\n",
       "   'cls': 5.816349409530686e-05,\n",
       "   'hs': 5.426529113307591e-05,\n",
       "   'ars': 0.00014608415071079074}},\n",
       " {'nclusters-4': {'ami': -0.0016180774872945856,\n",
       "   'nmi': 0.0003582817541748294,\n",
       "   'cls': 0.00037004640827455063,\n",
       "   'hs': 0.00034724210309217856,\n",
       "   'ars': -0.0007704027141881021}},\n",
       " {'nclusters-8': {'ami': -0.0011593513091790284,\n",
       "   'nmi': 0.005735687030735304,\n",
       "   'cls': 0.00589729229686477,\n",
       "   'hs': 0.005582702561300036,\n",
       "   'ars': -0.0015401142533288089}},\n",
       " {'nclusters-16': {'ami': -0.002834725734318896,\n",
       "   'nmi': 0.022471109634432405,\n",
       "   'cls': 0.022130561068923953,\n",
       "   'hs': 0.022822302831324307,\n",
       "   'ars': 0.00023241004861820962}},\n",
       " {'nclusters-32': {'ami': -0.009766979014561,\n",
       "   'nmi': 0.07912075679278303,\n",
       "   'cls': 0.0785532126072698,\n",
       "   'hs': 0.07969656163462015,\n",
       "   'ars': -0.0016145018820059116}},\n",
       " {'nclusters-64': {'ami': -0.014132195631963407,\n",
       "   'nmi': 0.2252195961582898,\n",
       "   'cls': 0.22299679556035318,\n",
       "   'hs': 0.22748715603595074,\n",
       "   'ars': -0.0025225389371113217}},\n",
       " {'nclusters-128': {'ami': -0.018279562791910065,\n",
       "   'nmi': 0.3911831854496384,\n",
       "   'cls': 0.3860814295042859,\n",
       "   'hs': 0.39642157815297224,\n",
       "   'ars': -0.00418924215145984}},\n",
       " {'nclusters-256': {'ami': -0.014023061480667173,\n",
       "   'nmi': 0.5089620403099299,\n",
       "   'cls': 0.5149551841839749,\n",
       "   'hs': 0.5031067902405503,\n",
       "   'ars': -0.003578591730530883}},\n",
       " {'nclusters-300': {'ami': -0.011896387150760426,\n",
       "   'nmi': 0.5417262507421216,\n",
       "   'cls': 0.5505404308152952,\n",
       "   'hs': 0.5331898542747321,\n",
       "   'ars': -0.003186515846651914}},\n",
       " {'nclusters-600': {'ami': -0.009187456421873637,\n",
       "   'nmi': 0.6917389141118072,\n",
       "   'cls': 0.701309222732287,\n",
       "   'hs': 0.6824262885530886,\n",
       "   'ars': -0.00285348348939573}},\n",
       " {'nclusters-1200': {'ami': 0.002029428665696485,\n",
       "   'nmi': 0.895723030360338,\n",
       "   'cls': 0.9023109743943486,\n",
       "   'hs': 0.8892305887099594,\n",
       "   'ars': 0.0009920761158216257}},\n",
       " {'nclusters-1800': {'ami': 1.0,\n",
       "   'nmi': 1.0,\n",
       "   'cls': 1.0,\n",
       "   'hs': 1.0,\n",
       "   'ars': 1.0}}]"
      ]
     },
     "execution_count": 17,
     "metadata": {},
     "output_type": "execute_result"
    }
   ],
   "source": [
    "scoresNRI"
   ]
  },
  {
   "cell_type": "code",
   "execution_count": 21,
   "metadata": {},
   "outputs": [
    {
     "data": {
      "text/plain": [
       "0.00037004640827455063"
      ]
     },
     "execution_count": 21,
     "metadata": {},
     "output_type": "execute_result"
    }
   ],
   "source": [
    "scoresNRI[1]['nclusters-4']['cls']"
   ]
  },
  {
   "cell_type": "markdown",
   "metadata": {},
   "source": [
    "----------\n",
    "### Visualize clouds in figure"
   ]
  },
  {
   "cell_type": "code",
   "execution_count": 5,
   "metadata": {},
   "outputs": [],
   "source": [
    "def extract_metric_fn(expname=None, cexpname_list=[], nclusters_list=[], metric=None ):\n",
    "    scores = []\n",
    "    for cexpname, nclusters in zip(cexpname_list, nclusters_list):\n",
    "        tmp_score = file_getter(basedatadir=basedatadir, expname=expname, cexpname=str(cexpname),\n",
    "                          nclusters=nclusters, score_only=True)\n",
    "        scores.append(tmp_score[f'nclusters-{nclusters}'][metric])\n",
    "    return scores"
   ]
  },
  {
   "cell_type": "code",
   "execution_count": 23,
   "metadata": {},
   "outputs": [
    {
     "name": "stdout",
     "output_type": "stream",
     "text": [
      "Begin loading result files\n",
      "Begin loading result files\n",
      "Begin loading result files\n",
      "Begin loading result files\n",
      "Begin loading result files\n",
      "Begin loading result files\n",
      "Begin loading result files\n",
      "Begin loading result files\n",
      "Begin loading result files\n",
      "Begin loading result files\n",
      "Begin loading result files\n",
      "Begin loading result files\n",
      "Begin loading result files\n"
     ]
    }
   ],
   "source": [
    "nmiRIs = extract_metric_fn(expname='67011582',metric='nmi', \n",
    "                        cexpname_list=[4613870,4613871,4613872,4613873,4613874,4613875,4613876,4613869,\n",
    "                                      4614213,4614214,4613243,4614215,4614212\n",
    "                                      ], \n",
    "                        nclusters_list=[2,4,8,16,32,64,128,256, 300,600,900,1200,1800],  )"
   ]
  },
  {
   "cell_type": "code",
   "execution_count": 25,
   "metadata": {},
   "outputs": [
    {
     "name": "stdout",
     "output_type": "stream",
     "text": [
      "Begin loading result files\n",
      "Begin loading result files\n",
      "Begin loading result files\n",
      "Begin loading result files\n",
      "Begin loading result files\n",
      "Begin loading result files\n",
      "Begin loading result files\n",
      "Begin loading result files\n",
      "Begin loading result files\n",
      "Begin loading result files\n",
      "Begin loading result files\n",
      "Begin loading result files\n",
      "Begin loading result files\n"
     ]
    }
   ],
   "source": [
    "nmiNRIs = extract_metric_fn(expname='m2_02_global_2000_2018_band28_29_31',metric='nmi', \n",
    "                        cexpname_list=[4613865,4613866,4613867,4614079,4614089,4614097,\n",
    "                                       4614259,4613864,4614416,4614848,4613441,4614864,4614232], \n",
    "                        nclusters_list=[2,4,8,16,32,64,128,256, 300,600,900,1200,1800],  )"
   ]
  },
  {
   "cell_type": "code",
   "execution_count": 47,
   "metadata": {},
   "outputs": [
    {
     "data": {
      "image/png": "[encoded data removed]",
      "text/plain": [
       "<Figure size 432x288 with 1 Axes>"
      ]
     },
     "metadata": {
      "needs_background": "light"
     },
     "output_type": "display_data"
    }
   ],
   "source": [
    "fig = plt.figure(figsize=(6,4))\n",
    "labels = ['RI', 'NRI']\n",
    "metric = 'NMI'\n",
    "nclusters_list=[2,4,8,16,32,64,128,256, 300,600,900,1200,1800]\n",
    "for idx, ilist in enumerate([nmiRIs, nmiNRIs]):\n",
    "    plt.plot(nclusters_list, ilist, color=f'C{idx}', linewidth=4, label=labels[idx])\n",
    "    plt.scatter(nclusters_list, ilist, color=f'C{idx}')\n",
    "    plt.ylabel(f'{metric}', fontsize=14)\n",
    "    plt.xlabel('Number of clusters')\n",
    "plt.grid(True)\n",
    "plt.legend(fontsize=14)\n",
    "plt.show()\n",
    "plt.close()"
   ]
  },
  {
   "cell_type": "markdown",
   "metadata": {},
   "source": [
    "--------------------------\n",
    "### Analysis; large_hac3\n",
    "Select one patch from \"k\" clusters and then replicate and rotate these selected patch "
   ]
  },
  {
   "cell_type": "code",
   "execution_count": 49,
   "metadata": {},
   "outputs": [],
   "source": [
    "basedatadir = './large_hac3'"
   ]
  },
  {
   "cell_type": "markdown",
   "metadata": {},
   "source": [
    "#### RI"
   ]
  },
  {
   "cell_type": "code",
   "execution_count": 51,
   "metadata": {},
   "outputs": [
    {
     "name": "stdout",
     "output_type": "stream",
     "text": [
      "Begin loading result files\n"
     ]
    },
    {
     "data": {
      "text/plain": [
       "{'nclusters-32': {'ami': -0.06888663611889909,\n",
       "  'nmi': 0.45150194905351737,\n",
       "  'cls': 0.4610778107596887,\n",
       "  'hs': 0.4423157459552787,\n",
       "  'ars': -0.03121767926443936}}"
      ]
     },
     "execution_count": 51,
     "metadata": {},
     "output_type": "execute_result"
    }
   ],
   "source": [
    "scoreRI32 = file_getter(basedatadir=basedatadir,\n",
    "                            expname='67011582', cexpname=\"4619131\",\n",
    "                            nclusters=32, score_only=True)\n",
    "scoreRI32"
   ]
  },
  {
   "cell_type": "code",
   "execution_count": 52,
   "metadata": {},
   "outputs": [
    {
     "name": "stdout",
     "output_type": "stream",
     "text": [
      "Begin loading result files\n"
     ]
    },
    {
     "data": {
      "text/plain": [
       "{'nclusters-128': {'ami': 0.17657119916169484,\n",
       "  'nmi': 0.40896703332535683,\n",
       "  'cls': 0.4150585263539748,\n",
       "  'hs': 0.40305175440387403,\n",
       "  'ars': 0.027074713617884136}}"
      ]
     },
     "execution_count": 52,
     "metadata": {},
     "output_type": "execute_result"
    }
   ],
   "source": [
    "# 36 rotations\n",
    "scoreRI128 = file_getter(basedatadir=basedatadir,\n",
    "                            expname='67011582', cexpname=\"4619458\",\n",
    "                            nclusters=128, score_only=True)\n",
    "scoreRI128"
   ]
  },
  {
   "cell_type": "code",
   "execution_count": 55,
   "metadata": {},
   "outputs": [
    {
     "name": "stdout",
     "output_type": "stream",
     "text": [
      "Begin loading result files\n",
      "Begin loading result files\n",
      "Begin loading result files\n",
      "Begin loading result files\n",
      "Begin loading result files\n"
     ]
    },
    {
     "data": {
      "text/plain": [
       "[{'nclusters-4': {'ami': 0.07782559035007129,\n",
       "   'nmi': 0.1528952574451689,\n",
       "   'cls': 0.15835719859770292,\n",
       "   'hs': 0.14779753260092743,\n",
       "   'ars': 0.03021028729390861}},\n",
       " {'nclusters-8': {'ami': 0.0388137868630714,\n",
       "   'nmi': 0.18297858580241597,\n",
       "   'cls': 0.18596781804963902,\n",
       "   'hs': 0.1800839307028972,\n",
       "   'ars': 0.017241379310344827}},\n",
       " {'nclusters-16': {'ami': -0.10225144423089996,\n",
       "   'nmi': 0.16725278164471402,\n",
       "   'cls': 0.1681216640602912,\n",
       "   'hs': 0.166392834127187,\n",
       "   'ars': -0.03603084864342912}},\n",
       " {'nclusters-64': {'ami': -0.042867316172618165,\n",
       "   'nmi': 0.38475089367637605,\n",
       "   'cls': 0.39093004867628967,\n",
       "   'hs': 0.3787640382059595,\n",
       "   'ars': -0.012778715752550589}},\n",
       " {'nclusters-128': {'ami': -0.022712954612997764,\n",
       "   'nmi': 0.47255773172724763,\n",
       "   'cls': 0.478110785946102,\n",
       "   'hs': 0.46713218925765715,\n",
       "   'ars': -0.0067624520821584575}}]"
      ]
     },
     "execution_count": 55,
     "metadata": {},
     "output_type": "execute_result"
    }
   ],
   "source": [
    "## 12 rotations\n",
    "scoresRI = []\n",
    "for cexpname, nclusters in zip(\n",
    "    [4620107,4620108,4620109,4620110,4620106],\n",
    "    [4,8,16,64,128]\n",
    "    ):\n",
    "    tmp_score = file_getter(basedatadir=basedatadir, \n",
    "                            expname='67011582', cexpname=str(cexpname),\n",
    "                          nclusters=nclusters, score_only=True)\n",
    "    scoresRI.append(tmp_score)\n",
    "scoresRI"
   ]
  },
  {
   "cell_type": "code",
   "execution_count": 57,
   "metadata": {},
   "outputs": [
    {
     "name": "stdout",
     "output_type": "stream",
     "text": [
      "Begin loading result files\n"
     ]
    }
   ],
   "source": [
    "scoreRI4, omodel,rmodel = file_getter(basedatadir=basedatadir,\n",
    "                            expname='67011582', cexpname=\"4620107\",\n",
    "                            nclusters=4, score_only=False)"
   ]
  },
  {
   "cell_type": "code",
   "execution_count": 68,
   "metadata": {},
   "outputs": [
    {
     "name": "stdout",
     "output_type": "stream",
     "text": [
      "[3 1 1 1 1 1 2 2 0 0 0 0]\n",
      "[3 3 3 3 3 3 2 2 2 0 0 0]\n",
      "[3 3 3 3 3 3 2 2 2 0 0 0]\n",
      "[3 3 3 3 3 3 2 2 2 0 0 0]\n"
     ]
    }
   ],
   "source": [
    "for i in range(4):\n",
    "    print(rmodel.labels_[12*i:(i+1)*12])"
   ]
  },
  {
   "cell_type": "markdown",
   "metadata": {},
   "source": [
    "check whehter code is fine or not"
   ]
  },
  {
   "cell_type": "code",
   "execution_count": 74,
   "metadata": {},
   "outputs": [
    {
     "data": {
      "text/plain": [
       "array([0, 0, 0, 0, 0, 0, 0, 0, 0, 0, 0, 0, 1, 1, 1, 1, 1, 1, 1, 1, 1, 1,\n",
       "       1, 1, 2, 2, 2, 2, 2, 2, 2, 2, 2, 2, 2, 2, 3, 3, 3, 3, 3, 3, 3, 3,\n",
       "       3, 3, 3, 3])"
      ]
     },
     "execution_count": 74,
     "metadata": {},
     "output_type": "execute_result"
    }
   ],
   "source": [
    "label = []\n",
    "for i in range(4):\n",
    "    tmp = [i for j in range(12)]\n",
    "    label.extend(tmp)\n",
    "label = np.asarray(label)\n",
    "label"
   ]
  },
  {
   "cell_type": "code",
   "execution_count": 77,
   "metadata": {},
   "outputs": [
    {
     "data": {
      "text/plain": [
       "(0.07782559035007129, 0.1528952574451689)"
      ]
     },
     "execution_count": 77,
     "metadata": {},
     "output_type": "execute_result"
    }
   ],
   "source": [
    "AMI(label, rmodel.labels_), NMI(label, rmodel.labels_)"
   ]
  },
  {
   "cell_type": "code",
   "execution_count": 78,
   "metadata": {},
   "outputs": [
    {
     "data": {
      "text/plain": [
       "(0.46804793891648805, 0.5104259822899803)"
      ]
     },
     "execution_count": 78,
     "metadata": {},
     "output_type": "execute_result"
    }
   ],
   "source": [
    "AMI(label, nrmodel.labels_),NMI(label, nrmodel.labels_)"
   ]
  },
  {
   "cell_type": "markdown",
   "metadata": {},
   "source": [
    "------------\n",
    "#### NRI"
   ]
  },
  {
   "cell_type": "code",
   "execution_count": 50,
   "metadata": {},
   "outputs": [
    {
     "name": "stdout",
     "output_type": "stream",
     "text": [
      "Begin loading result files\n"
     ]
    },
    {
     "data": {
      "text/plain": [
       "{'nclusters-32': {'ami': 0.16090232293184017,\n",
       "  'nmi': 0.5536293272841216,\n",
       "  'cls': 0.5761360771590381,\n",
       "  'hs': 0.5328149180405689,\n",
       "  'ars': 0.07075881988172182}}"
      ]
     },
     "execution_count": 50,
     "metadata": {},
     "output_type": "execute_result"
    }
   ],
   "source": [
    "scoreNRI32 = file_getter(basedatadir=basedatadir,\n",
    "                            expname='m2_02_global_2000_2018_band28_29_31', cexpname=\"4619131\",\n",
    "                            nclusters=32, score_only=True)\n",
    "scoreNRI32"
   ]
  },
  {
   "cell_type": "code",
   "execution_count": 54,
   "metadata": {},
   "outputs": [
    {
     "name": "stdout",
     "output_type": "stream",
     "text": [
      "Begin loading result files\n"
     ]
    },
    {
     "data": {
      "text/plain": [
       "{'nclusters-128': {'ami': 0.33910916308029887,\n",
       "  'nmi': 0.525075330237258,\n",
       "  'cls': 0.5335111975035323,\n",
       "  'hs': 0.5169020858770214,\n",
       "  'ars': 0.10018243735551202}}"
      ]
     },
     "execution_count": 54,
     "metadata": {},
     "output_type": "execute_result"
    }
   ],
   "source": [
    "# 36 rotations\n",
    "scoreNRI128 = file_getter(basedatadir=basedatadir,\n",
    "                            expname='m2_02_global_2000_2018_band28_29_31', cexpname=\"4619467\",\n",
    "                            nclusters=128, score_only=True)\n",
    "scoreNRI128"
   ]
  },
  {
   "cell_type": "code",
   "execution_count": 56,
   "metadata": {},
   "outputs": [
    {
     "name": "stdout",
     "output_type": "stream",
     "text": [
      "Begin loading result files\n",
      "Begin loading result files\n",
      "Begin loading result files\n",
      "Begin loading result files\n",
      "Begin loading result files\n"
     ]
    },
    {
     "data": {
      "text/plain": [
       "[{'nclusters-4': {'ami': 0.46804793891648805,\n",
       "   'nmi': 0.5104259822899803,\n",
       "   'cls': 0.5212960286143201,\n",
       "   'hs': 0.5000000000000001,\n",
       "   'ars': 0.3166397415185783}},\n",
       " {'nclusters-8': {'ami': 0.567170261077482,\n",
       "   'nmi': 0.6322557794258817,\n",
       "   'cls': 0.6635753974753833,\n",
       "   'hs': 0.6037593748197108,\n",
       "   'ars': 0.3344501979896436}},\n",
       " {'nclusters-16': {'ami': 0.4219780741018343,\n",
       "   'nmi': 0.5555998159225498,\n",
       "   'cls': 0.5874102012468021,\n",
       "   'hs': 0.5270577347742967,\n",
       "   'ars': 0.19753500998937862}},\n",
       " {'nclusters-64': {'ami': 0.18491671075161728,\n",
       "   'nmi': 0.5205019985092033,\n",
       "   'cls': 0.5283002200097978,\n",
       "   'hs': 0.5129306467544004,\n",
       "   'ars': 0.09439753791163245}},\n",
       " {'nclusters-128': {'ami': 0.15680364959667095,\n",
       "   'nmi': 0.562302569710927,\n",
       "   'cls': 0.570480132788882,\n",
       "   'hs': 0.5543561364991142,\n",
       "   'ars': 0.06959796786148885}}]"
      ]
     },
     "execution_count": 56,
     "metadata": {},
     "output_type": "execute_result"
    }
   ],
   "source": [
    "## 12 rotations\n",
    "scoresNRI = []\n",
    "for cexpname, nclusters in zip(\n",
    "    [4620116,4620117,4620126,4620127,4620115],\n",
    "    [4,8,16,64,128]\n",
    "    ):\n",
    "    tmp_score = file_getter(basedatadir=basedatadir, \n",
    "                            expname='m2_02_global_2000_2018_band28_29_31', cexpname=str(cexpname),\n",
    "                          nclusters=nclusters, score_only=True)\n",
    "    scoresNRI.append(tmp_score)\n",
    "scoresNRI"
   ]
  },
  {
   "cell_type": "code",
   "execution_count": 71,
   "metadata": {},
   "outputs": [
    {
     "name": "stdout",
     "output_type": "stream",
     "text": [
      "Begin loading result files\n"
     ]
    }
   ],
   "source": [
    "scoreNRI4, nomodel,nrmodel = file_getter(basedatadir=basedatadir,\n",
    "                            expname='m2_02_global_2000_2018_band28_29_31', cexpname=\"4620116\",\n",
    "                            nclusters=4, score_only=False)"
   ]
  },
  {
   "cell_type": "code",
   "execution_count": 72,
   "metadata": {},
   "outputs": [
    {
     "name": "stdout",
     "output_type": "stream",
     "text": [
      "[0 3 3 0 3 3 0 3 3 0 3 3]\n",
      "[0 1 1 0 1 1 0 1 1 0 1 1]\n",
      "[0 1 1 0 1 1 0 1 1 0 1 1]\n",
      "[0 2 2 0 2 2 0 2 2 0 2 2]\n"
     ]
    }
   ],
   "source": [
    "for i in range(4):\n",
    "    print(nrmodel.labels_[12*i:(i+1)*12])"
   ]
  },
  {
   "cell_type": "markdown",
   "metadata": {},
   "source": [
    "--------------------------\n",
    "### Analysis; large_hac4\n",
    "Same: Select one patch from \"k\" clusters and then replicate and rotate these selected patch   \n",
    "Diff: (1) change dataeset from 2-10 to 3-0(stdv over patches is the largest). (2) clustering all 2,000 patches into \"k\" clusters no matter what patch is less gradation or not"
   ]
  },
  {
   "cell_type": "code",
   "execution_count": 81,
   "metadata": {},
   "outputs": [],
   "source": [
    "basedatadir = './large_hac4'"
   ]
  },
  {
   "cell_type": "markdown",
   "metadata": {},
   "source": [
    "#### RI"
   ]
  },
  {
   "cell_type": "code",
   "execution_count": 84,
   "metadata": {},
   "outputs": [
    {
     "name": "stdout",
     "output_type": "stream",
     "text": [
      "Begin loading result files\n"
     ]
    },
    {
     "data": {
      "text/plain": [
       "{'nclusters-32': {'ami': -0.04281942218509095,\n",
       "  'nmi': 0.30958685102425837,\n",
       "  'cls': 0.31132563695898535,\n",
       "  'hs': 0.3078673798139505,\n",
       "  'ars': -0.01104429600575244}}"
      ]
     },
     "execution_count": 84,
     "metadata": {},
     "output_type": "execute_result"
    }
   ],
   "source": [
    "scoreRI32, x, y = file_getter(basedatadir=basedatadir,\n",
    "                            expname='67011582', cexpname=\"4621265\",\n",
    "                            nclusters=32, score_only=False)\n",
    "scoreRI32"
   ]
  },
  {
   "cell_type": "code",
   "execution_count": 85,
   "metadata": {},
   "outputs": [
    {
     "data": {
      "text/plain": [
       "array([ 0, 27, 22, 23,  2,  4, 20,  6,  1, 31,  5,  9, 29, 10, 15, 28, 13,\n",
       "       18, 30, 16,  7, 14,  3, 19, 29, 10, 15, 28, 13, 18, 21, 16,  7, 14,\n",
       "        3, 19,  0, 27, 22, 12,  2,  4, 20,  6,  1, 17,  5,  9, 25, 10, 15,\n",
       "       12, 13, 18, 21, 16,  7, 14,  3, 19,  0, 22, 22, 23,  2,  4, 20,  6,\n",
       "        1, 17,  5,  9,  0, 22, 22, 12,  2,  4, 30,  6,  1, 17,  5,  9,  0,\n",
       "       27, 22, 23,  2,  4, 20,  6,  1, 17,  5,  9, 29, 10, 15, 28, 13, 18,\n",
       "       21, 16,  7, 14,  3, 19, 29, 10, 15, 28,  2,  4, 30,  6,  1, 14,  3,\n",
       "        9,  0, 24, 24, 24, 11, 11, 11, 26, 26,  8,  8,  8,  0, 10, 22, 23,\n",
       "        2,  4, 30,  6,  1, 17,  3,  9, 29, 10, 15, 28, 13, 18, 21, 16,  7,\n",
       "       14,  3, 19,  0, 27, 22, 23,  2,  4, 20,  6,  1, 17,  5,  9,  0, 27,\n",
       "       22, 23,  2,  4, 20,  6,  1, 31,  5,  9, 29, 10, 15, 28, 13, 18, 30,\n",
       "       16,  7, 14,  3, 19,  0, 10, 22, 23,  2,  4, 30,  6,  1, 17,  3,  9,\n",
       "       25, 10, 15, 12, 13, 18, 21, 16,  7, 14,  3, 19,  0, 27, 22, 12,  2,\n",
       "        4, 20,  6,  1, 17,  5,  9,  0, 24, 24, 24, 11, 11, 11, 26, 26,  8,\n",
       "        8,  8,  0, 27, 22, 23,  2,  4, 20,  6,  1, 31,  5,  9,  0, 24, 24,\n",
       "       24, 11, 11, 11, 26, 26,  8,  8,  8, 29, 10, 15, 28, 13, 18, 30, 16,\n",
       "        7, 14,  3, 19,  0, 27, 22, 23,  2,  4, 20,  6,  1, 31,  5,  9,  0,\n",
       "       27, 22, 23,  2,  4, 20,  6,  1, 31,  5,  9, 25, 27, 22, 12,  2,  4,\n",
       "       20,  6,  1, 17,  5,  9, 25, 10, 15, 28, 13, 18, 21, 16,  7, 14,  3,\n",
       "       19,  0, 24, 24, 24, 11, 11, 11, 26, 26,  8,  8,  8, 25, 10, 15, 12,\n",
       "       13, 18, 21, 16,  7, 14,  3, 19, 29, 10, 15, 28, 13, 18, 21, 16,  7,\n",
       "       14,  3, 19,  0, 27, 22, 23,  2,  4, 20,  6,  1, 31,  5,  9, 25, 10,\n",
       "       15, 28, 13, 18, 21, 16,  7, 14,  3, 19])"
      ]
     },
     "execution_count": 85,
     "metadata": {},
     "output_type": "execute_result"
    }
   ],
   "source": [
    "y.labels_"
   ]
  },
  {
   "cell_type": "code",
   "execution_count": 89,
   "metadata": {},
   "outputs": [
    {
     "name": "stdout",
     "output_type": "stream",
     "text": [
      "Begin loading result files\n"
     ]
    },
    {
     "data": {
      "text/plain": [
       "{'nclusters-12': {'ami': 0.04869486733723473,\n",
       "  'nmi': 0.2437501272145033,\n",
       "  'cls': 0.24386649283802772,\n",
       "  'hs': 0.24363387259023864,\n",
       "  'ars': 0.005143816922107912}}"
      ]
     },
     "execution_count": 89,
     "metadata": {},
     "output_type": "execute_result"
    }
   ],
   "source": [
    "scoreRI12, x, y = file_getter(basedatadir=basedatadir,\n",
    "                            expname='67011582', cexpname=\"4621265\",\n",
    "                            nclusters=12, score_only=False)\n",
    "scoreRI12"
   ]
  },
  {
   "cell_type": "code",
   "execution_count": 90,
   "metadata": {},
   "outputs": [
    {
     "data": {
      "text/plain": [
       "array([ 5,  4,  4,  6,  2,  2,  0,  0,  1,  1,  3,  3,  5, 10, 10,  6,  8,\n",
       "        8,  7,  7, 11, 11,  9,  9,  5,  4,  4,  6,  2,  2,  0,  0,  1,  1,\n",
       "        3,  3,  5, 10, 10,  6,  8,  8,  7,  7, 11, 11,  9,  9,  5,  4,  4,\n",
       "        6,  2,  2,  0,  0,  1,  1,  3,  3,  5,  4,  4,  6,  2,  2,  0,  0,\n",
       "        1,  1,  3,  3,  5, 10, 10,  6,  8,  8,  7,  7, 11, 11,  9,  9,  5,\n",
       "        4,  4,  6,  2,  2,  0,  0,  1,  1,  3,  3,  5, 10, 10, 10,  8,  8,\n",
       "        7,  7,  7,  9,  9,  9,  5, 10, 10,  6,  8,  8,  7,  7, 11, 11,  9,\n",
       "        9,  5,  4,  4,  6,  2,  2,  0,  0,  1,  1,  3,  3,  5, 10, 10,  6,\n",
       "        8,  8,  7,  7, 11, 11,  9,  9])"
      ]
     },
     "execution_count": 90,
     "metadata": {},
     "output_type": "execute_result"
    }
   ],
   "source": [
    "y.labels_"
   ]
  },
  {
   "cell_type": "code",
   "execution_count": 92,
   "metadata": {},
   "outputs": [
    {
     "name": "stdout",
     "output_type": "stream",
     "text": [
      "Begin loading result files\n"
     ]
    },
    {
     "data": {
      "text/plain": [
       "{'nclusters-300': {'ami': -0.008861781716168115,\n",
       "  'nmi': 0.5414985180898203,\n",
       "  'cls': 0.5510671530918178,\n",
       "  'hs': 0.532256507886831,\n",
       "  'ars': -0.002407759405449165}}"
      ]
     },
     "execution_count": 92,
     "metadata": {},
     "output_type": "execute_result"
    }
   ],
   "source": [
    "scoreRI300, x, y = file_getter(basedatadir=basedatadir,\n",
    "                            expname='67011582', cexpname=\"4621265\",\n",
    "                            nclusters=300, score_only=False)\n",
    "scoreRI300"
   ]
  },
  {
   "cell_type": "code",
   "execution_count": 97,
   "metadata": {},
   "outputs": [
    {
     "name": "stdout",
     "output_type": "stream",
     "text": [
      "Begin loading result files\n"
     ]
    },
    {
     "data": {
      "text/plain": [
       "{'nclusters-600': {'ami': -0.0037207075251846715,\n",
       "  'nmi': 0.5860145261805733,\n",
       "  'cls': 0.5976254285684566,\n",
       "  'hs': 0.5748461878599028,\n",
       "  'ars': -0.00028453257813610176}}"
      ]
     },
     "execution_count": 97,
     "metadata": {},
     "output_type": "execute_result"
    }
   ],
   "source": [
    "scoreRI600, x, y = file_getter(basedatadir=basedatadir,\n",
    "                            expname='67011582', cexpname=\"4621265\",\n",
    "                            nclusters=600, score_only=False)\n",
    "scoreRI600"
   ]
  },
  {
   "cell_type": "code",
   "execution_count": 98,
   "metadata": {},
   "outputs": [
    {
     "name": "stdout",
     "output_type": "stream",
     "text": [
      "Begin loading result files\n"
     ]
    },
    {
     "data": {
      "text/plain": [
       "{'nclusters-1200': {'ami': -0.002538779179663866,\n",
       "  'nmi': 0.616645717195746,\n",
       "  'cls': 0.632320691849483,\n",
       "  'hs': 0.6017290958554539,\n",
       "  'ars': -0.0006013361666236634}}"
      ]
     },
     "execution_count": 98,
     "metadata": {},
     "output_type": "execute_result"
    }
   ],
   "source": [
    "scoreRI1200, x, y = file_getter(basedatadir=basedatadir,\n",
    "                            expname='67011582', cexpname=\"4623254\",\n",
    "                            nclusters=1200, score_only=False)\n",
    "scoreRI1200"
   ]
  },
  {
   "cell_type": "code",
   "execution_count": 99,
   "metadata": {},
   "outputs": [
    {
     "name": "stdout",
     "output_type": "stream",
     "text": [
      "Begin loading result files\n"
     ]
    },
    {
     "data": {
      "text/plain": [
       "{'nclusters-1800': {'ami': -0.0025318849857707527,\n",
       "  'nmi': 0.617990417132246,\n",
       "  'cls': 0.6425982438006991,\n",
       "  'hs': 0.5951977572020657,\n",
       "  'ars': -0.0004934016806266294}}"
      ]
     },
     "execution_count": 99,
     "metadata": {},
     "output_type": "execute_result"
    }
   ],
   "source": [
    "scoreRI1800, x, y = file_getter(basedatadir=basedatadir,\n",
    "                            expname='67011582', cexpname=\"4622762\",\n",
    "                            nclusters=1800, score_only=False)\n",
    "scoreRI1800"
   ]
  },
  {
   "cell_type": "markdown",
   "metadata": {},
   "source": [
    "---------\n",
    "#### NRI"
   ]
  },
  {
   "cell_type": "code",
   "execution_count": 86,
   "metadata": {},
   "outputs": [
    {
     "name": "stdout",
     "output_type": "stream",
     "text": [
      "Begin loading result files\n"
     ]
    },
    {
     "data": {
      "text/plain": [
       "{'nclusters-32': {'ami': 0.44935181044012923,\n",
       "  'nmi': 0.6289477715743326,\n",
       "  'cls': 0.6419769025591446,\n",
       "  'hs': 0.6164369816292231,\n",
       "  'ars': 0.26602702969037906}}"
      ]
     },
     "execution_count": 86,
     "metadata": {},
     "output_type": "execute_result"
    }
   ],
   "source": [
    "scoreNRI32, nx, ny = file_getter(basedatadir=basedatadir,\n",
    "                            expname='m2_02_global_2000_2018_band28_29_31', cexpname=\"4621265\",\n",
    "                            nclusters=32, score_only=False)\n",
    "scoreNRI32"
   ]
  },
  {
   "cell_type": "code",
   "execution_count": 87,
   "metadata": {},
   "outputs": [
    {
     "data": {
      "text/plain": [
       "array([ 7,  0,  0,  7,  0,  0,  7,  0,  0,  7,  0,  0, 31,  5, 15, 31,  5,\n",
       "       15, 31,  5, 15, 31,  5, 15, 24,  1, 26, 10, 23, 30, 24, 20, 26, 24,\n",
       "       22, 29, 17, 18, 18, 17, 18, 18, 17, 18, 18, 17, 18, 18,  6,  4,  2,\n",
       "        6,  4,  2,  6,  4,  2,  6,  4,  2, 10, 23, 30, 11, 28, 28, 27, 22,\n",
       "       29, 12, 14, 14,  6,  4,  2,  6,  4,  2,  6,  4,  2,  6,  4,  2, 13,\n",
       "        1,  2,  6,  4,  2, 13,  4,  2,  6,  4,  2,  7,  0,  0,  7,  0,  0,\n",
       "        7,  0,  0,  7,  0,  0, 24,  1, 26, 24,  1, 26, 24,  1, 26, 24,  1,\n",
       "       26,  6,  4,  2,  6,  4,  2,  6,  4,  2,  6,  4,  2, 27, 22, 22, 12,\n",
       "        1,  1, 10, 23, 23, 11, 20, 20, 10, 23, 30, 11, 20, 28, 27, 22, 29,\n",
       "       12,  1, 14,  7, 25, 25,  7, 25, 25,  7, 25, 25,  7, 25, 25, 11, 20,\n",
       "       28, 27, 22, 29, 12,  1, 14, 10, 23, 30, 19, 19, 19, 19, 19, 19, 19,\n",
       "       19, 19, 19, 19, 19, 12,  1, 14, 10, 23, 30, 11, 20, 28, 27, 22, 29,\n",
       "       21,  5, 15, 21,  5, 15, 21,  5, 15, 21,  5, 15,  9,  9,  9,  9,  9,\n",
       "        9,  9,  9,  9,  9,  9,  9,  9,  9,  9,  9,  9,  9,  9,  9,  9,  9,\n",
       "        9,  9,  3,  8, 16,  3,  8, 16,  3,  8, 16,  3,  8, 16,  7,  0,  0,\n",
       "        7,  0,  0,  7,  0,  0,  7,  0,  0, 11, 20, 28, 27,  1, 14, 12,  1,\n",
       "       14, 10, 20, 28, 31,  5, 15, 31,  5, 15, 31,  5, 15, 31,  5, 15, 13,\n",
       "        8, 16, 13,  8, 16, 13,  8, 16, 13,  8, 16,  6,  4,  2,  6,  4,  2,\n",
       "        6,  4,  2,  6,  4,  2, 17, 18, 18, 17, 18, 18, 17, 18, 18, 17, 18,\n",
       "       18, 27, 22, 29, 12,  1, 14, 10, 23, 30, 11, 20, 28,  7, 25, 25,  7,\n",
       "       25, 25,  7, 25, 25,  7, 25, 25,  7, 19, 19,  7, 19, 19,  7, 19, 19,\n",
       "        7, 19, 19,  6,  4,  2,  6,  4,  2,  6,  4,  2,  6,  4,  2, 13,  8,\n",
       "       16, 13,  8, 16, 13,  8, 16, 13,  8, 16])"
      ]
     },
     "execution_count": 87,
     "metadata": {},
     "output_type": "execute_result"
    }
   ],
   "source": [
    "ny.labels_"
   ]
  },
  {
   "cell_type": "code",
   "execution_count": 88,
   "metadata": {
    "scrolled": true
   },
   "outputs": [
    {
     "name": "stdout",
     "output_type": "stream",
     "text": [
      "Begin loading result files\n"
     ]
    },
    {
     "data": {
      "text/plain": [
       "{'nclusters-12': {'ami': 0.6719516018312341,\n",
       "  'nmi': 0.7385850882047947,\n",
       "  'cls': 0.7487906384998086,\n",
       "  'hs': 0.7286539879224732,\n",
       "  'ars': 0.47021943573667707}}"
      ]
     },
     "execution_count": 88,
     "metadata": {},
     "output_type": "execute_result"
    }
   ],
   "source": [
    "scoreNRI12, nx, ny = file_getter(basedatadir=basedatadir,\n",
    "                            expname='m2_02_global_2000_2018_band28_29_31', cexpname=\"4621265\",\n",
    "                            nclusters=12, score_only=False)\n",
    "scoreNRI12"
   ]
  },
  {
   "cell_type": "code",
   "execution_count": 91,
   "metadata": {},
   "outputs": [
    {
     "data": {
      "text/plain": [
       "array([ 2,  1,  1,  2,  1,  1,  2,  1,  1,  2,  1,  1,  5,  3,  3,  5,  3,\n",
       "        3,  5,  3,  3,  5,  3,  3,  2,  1,  1,  2,  1,  1,  2,  1,  1,  2,\n",
       "        1,  1,  8, 11,  9,  8, 11,  9,  8, 11,  9,  8, 11,  9,  4, 10, 10,\n",
       "        4, 10, 10,  4, 10, 10,  4, 10, 10,  2,  1,  1,  2,  1,  1,  2,  1,\n",
       "        1,  2,  1,  1,  7,  7,  7,  7,  7,  7,  7,  7,  7,  7,  7,  7,  4,\n",
       "        0,  0,  4,  0,  0,  4,  0,  0,  4,  0,  0,  5,  3,  3,  5,  3,  3,\n",
       "        5,  3,  3,  5,  3,  3,  4,  0,  0,  4,  0,  0,  4,  0,  0,  4,  0,\n",
       "        0,  8, 11,  9,  8, 11,  9,  8, 11,  9,  8, 11,  9,  6,  6,  6,  6,\n",
       "        6,  6,  6,  6,  6,  6,  6,  6])"
      ]
     },
     "execution_count": 91,
     "metadata": {},
     "output_type": "execute_result"
    }
   ],
   "source": [
    "ny.labels_"
   ]
  },
  {
   "cell_type": "code",
   "execution_count": 94,
   "metadata": {},
   "outputs": [
    {
     "name": "stdout",
     "output_type": "stream",
     "text": [
      "Begin loading result files\n"
     ]
    },
    {
     "data": {
      "text/plain": [
       "{'nclusters-300': {'ami': 0.22704300464418642,\n",
       "  'nmi': 0.644341933239892,\n",
       "  'cls': 0.6587138443833075,\n",
       "  'hs': 0.6305837680514851,\n",
       "  'ars': 0.08731121490875614}}"
      ]
     },
     "execution_count": 94,
     "metadata": {},
     "output_type": "execute_result"
    }
   ],
   "source": [
    "scoreNRI300, nx, ny = file_getter(basedatadir=basedatadir,\n",
    "                            expname='m2_02_global_2000_2018_band28_29_31', cexpname=\"4622158\",\n",
    "                            nclusters=300, score_only=False)\n",
    "scoreNRI300"
   ]
  },
  {
   "cell_type": "code",
   "execution_count": 95,
   "metadata": {},
   "outputs": [
    {
     "name": "stdout",
     "output_type": "stream",
     "text": [
      "Begin loading result files\n"
     ]
    },
    {
     "data": {
      "text/plain": [
       "{'nclusters-600': {'ami': 0.18454965433867068,\n",
       "  'nmi': 0.6589973605426782,\n",
       "  'cls': 0.6750366633718211,\n",
       "  'hs': 0.6437025756763264,\n",
       "  'ars': 0.0669132985729155}}"
      ]
     },
     "execution_count": 95,
     "metadata": {},
     "output_type": "execute_result"
    }
   ],
   "source": [
    "scoreNRI600, nx, ny = file_getter(basedatadir=basedatadir,\n",
    "                            expname='m2_02_global_2000_2018_band28_29_31', cexpname=\"4622348\",\n",
    "                            nclusters=600, score_only=False)\n",
    "scoreNRI600"
   ]
  },
  {
   "cell_type": "code",
   "execution_count": 100,
   "metadata": {},
   "outputs": [
    {
     "name": "stdout",
     "output_type": "stream",
     "text": [
      "Begin loading result files\n"
     ]
    },
    {
     "data": {
      "text/plain": [
       "{'nclusters-1200': {'ami': 0.19591060166681656,\n",
       "  'nmi': 0.682688924806464,\n",
       "  'cls': 0.7068158500663819,\n",
       "  'hs': 0.6601547604086746,\n",
       "  'ars': 0.06065681342210175}}"
      ]
     },
     "execution_count": 100,
     "metadata": {},
     "output_type": "execute_result"
    }
   ],
   "source": [
    "scoreNRI1200, nx, ny = file_getter(basedatadir=basedatadir,\n",
    "                            expname='m2_02_global_2000_2018_band28_29_31', cexpname=\"4623472\",\n",
    "                            nclusters=1200, score_only=False)\n",
    "scoreNRI1200"
   ]
  },
  {
   "cell_type": "markdown",
   "metadata": {},
   "source": [
    "----------------------\n",
    "### large_hac5"
   ]
  },
  {
   "cell_type": "code",
   "execution_count": 13,
   "metadata": {},
   "outputs": [
    {
     "data": {
      "text/plain": [
       "array([  0,  60, 120, 180, 240, 300])"
      ]
     },
     "execution_count": 13,
     "metadata": {},
     "output_type": "execute_result"
    }
   ],
   "source": [
    "np.arange(0,360,60)"
   ]
  },
  {
   "cell_type": "code",
   "execution_count": 5,
   "metadata": {},
   "outputs": [],
   "source": [
    "basedatadir = './large_hac5'"
   ]
  },
  {
   "cell_type": "code",
   "execution_count": 7,
   "metadata": {},
   "outputs": [
    {
     "name": "stdout",
     "output_type": "stream",
     "text": [
      "Begin loading result files\n"
     ]
    },
    {
     "data": {
      "text/plain": [
       "{'nclusters-64': {'ami': 0.1469028994680317,\n",
       "  'nmi': 0.18553890392110167,\n",
       "  'cls': 0.18395790572047946,\n",
       "  'hs': 0.18714731299675588,\n",
       "  'ars': 0.019194555812948825}}"
      ]
     },
     "execution_count": 7,
     "metadata": {},
     "output_type": "execute_result"
    }
   ],
   "source": [
    "scoreRI64, nx, ny = file_getter(basedatadir=basedatadir,\n",
    "                            expname='67011582', cexpname=\"4642371\",\n",
    "                            nclusters=64, score_only=False)\n",
    "scoreRI64"
   ]
  },
  {
   "cell_type": "code",
   "execution_count": 8,
   "metadata": {},
   "outputs": [
    {
     "data": {
      "text/plain": [
       "(array([ 3, 10,  8, 16, 41, 22, 40, 10,  8, 16, 41, 22,  3, 58, 14, 56, 12,\n",
       "        63,  3, 31,  8, 16, 41, 22, 28, 58, 14, 56, 12, 39]),\n",
       " array([10,  0, 44,  2, 12, 19, 41, 34, 49, 55, 12, 52, 42, 33, 45, 32, 48,\n",
       "        47, 25,  3, 43, 46, 14, 35, 21, 13, 20,  8, 51, 28]))"
      ]
     },
     "execution_count": 8,
     "metadata": {},
     "output_type": "execute_result"
    }
   ],
   "source": [
    "nx.labels_[:30],ny.labels_[:30]"
   ]
  },
  {
   "cell_type": "code",
   "execution_count": 9,
   "metadata": {},
   "outputs": [
    {
     "name": "stdout",
     "output_type": "stream",
     "text": [
      "Begin loading result files\n"
     ]
    },
    {
     "data": {
      "text/plain": [
       "{'nclusters-2000': {'ami': 0.030879679841591588,\n",
       "  'nmi': 0.48000568520775094,\n",
       "  'cls': 0.5247413341383702,\n",
       "  'hs': 0.44229851449396296,\n",
       "  'ars': 0.003044799805871427}}"
      ]
     },
     "execution_count": 9,
     "metadata": {},
     "output_type": "execute_result"
    }
   ],
   "source": [
    "scoreRI2000, nx, ny = file_getter(basedatadir=basedatadir,\n",
    "                            expname='67011582', cexpname=\"4642371\",\n",
    "                            nclusters=2000, score_only=False)\n",
    "scoreRI2000"
   ]
  },
  {
   "cell_type": "code",
   "execution_count": 10,
   "metadata": {},
   "outputs": [
    {
     "name": "stdout",
     "output_type": "stream",
     "text": [
      "Begin loading result files\n"
     ]
    },
    {
     "data": {
      "text/plain": [
       "{'nclusters-3000': {'ami': 0.025292729333806975,\n",
       "  'nmi': 0.5741055193685892,\n",
       "  'cls': 0.6230118505431651,\n",
       "  'hs': 0.5323185943777919,\n",
       "  'ars': 0.0026660107961904815}}"
      ]
     },
     "execution_count": 10,
     "metadata": {},
     "output_type": "execute_result"
    }
   ],
   "source": [
    "scoreRI3000, nx, ny = file_getter(basedatadir=basedatadir,\n",
    "                            expname='67011582', cexpname=\"4642371\",\n",
    "                            nclusters=3000, score_only=False)\n",
    "scoreRI3000"
   ]
  },
  {
   "cell_type": "code",
   "execution_count": 14,
   "metadata": {},
   "outputs": [
    {
     "name": "stdout",
     "output_type": "stream",
     "text": [
      "Begin loading result files\n"
     ]
    },
    {
     "data": {
      "text/plain": [
       "{'nclusters-6000': {'ami': 0.007878576779767752,\n",
       "  'nmi': 0.7849810011024867,\n",
       "  'cls': 0.8287892713503863,\n",
       "  'hs': 0.745571470137299,\n",
       "  'ars': 0.0010727635161753549}}"
      ]
     },
     "execution_count": 14,
     "metadata": {},
     "output_type": "execute_result"
    }
   ],
   "source": [
    "scoreRI6000, nx, ny = file_getter(basedatadir=basedatadir,\n",
    "                            expname='67011582', cexpname=\"4642371\",\n",
    "                            nclusters=6000, score_only=False)\n",
    "scoreRI6000"
   ]
  },
  {
   "cell_type": "code",
   "execution_count": 15,
   "metadata": {},
   "outputs": [
    {
     "name": "stdout",
     "output_type": "stream",
     "text": [
      "Begin loading result files\n",
      "Begin loading result files\n",
      "Begin loading result files\n"
     ]
    },
    {
     "data": {
      "text/plain": [
       "[{'nclusters-8': {'ami': 0.1361640079223122,\n",
       "   'nmi': 0.13707841979208335,\n",
       "   'cls': 0.13127710278693694,\n",
       "   'hs': 0.14341617940700513,\n",
       "   'ars': 0.05046764803343288}},\n",
       " {'nclusters-16': {'ami': 0.21719247868650185,\n",
       "   'nmi': 0.22003774374075183,\n",
       "   'cls': 0.21386605706280984,\n",
       "   'hs': 0.22657621663808053,\n",
       "   'ars': 0.07204051047116425}},\n",
       " {'nclusters-32': {'ami': 0.1992356451722124,\n",
       "   'nmi': 0.20946695045295322,\n",
       "   'cls': 0.2059773818426364,\n",
       "   'hs': 0.21307679384812475,\n",
       "   'ars': 0.0448179299499818}}]"
      ]
     },
     "execution_count": 15,
     "metadata": {},
     "output_type": "execute_result"
    }
   ],
   "source": [
    "scoresRI = []\n",
    "for cexpname, nclusters in zip(\n",
    "    [4643025,4643026,4643024],\n",
    "    [8,16,32]\n",
    "    ):\n",
    "    tmp_score = file_getter(basedatadir=basedatadir, \n",
    "                            expname='67011582', cexpname=str(cexpname),\n",
    "                          nclusters=nclusters, score_only=True)\n",
    "    scoresRI.append(tmp_score)\n",
    "scoresRI"
   ]
  },
  {
   "cell_type": "markdown",
   "metadata": {},
   "source": [
    "----------------------\n",
    "## Large_hac6"
   ]
  },
  {
   "cell_type": "code",
   "execution_count": 6,
   "metadata": {},
   "outputs": [],
   "source": [
    "basedatadir = './large_hac6'"
   ]
  },
  {
   "cell_type": "markdown",
   "metadata": {},
   "source": [
    "##### Copy-size = 90 i.e. np.linspace(0,360,91)[:-1]"
   ]
  },
  {
   "cell_type": "code",
   "execution_count": 7,
   "metadata": {},
   "outputs": [
    {
     "name": "stdout",
     "output_type": "stream",
     "text": [
      "Begin loading result files\n"
     ]
    },
    {
     "data": {
      "text/plain": [
       "{'nclusters-30': {'ami': 0.2419494619814806,\n",
       "  'nmi': 0.28106195725082295,\n",
       "  'cls': 0.28531313299185795,\n",
       "  'hs': 0.2769356069432831,\n",
       "  'ars': 0.048742804694100264}}"
      ]
     },
     "execution_count": 7,
     "metadata": {},
     "output_type": "execute_result"
    }
   ],
   "source": [
    "scoreRI30 = file_getter(basedatadir=basedatadir,\n",
    "                        expname='67011582', cexpname=\"4707356\",\n",
    "                        nclusters=30, score_only=True)\n",
    "scoreRI30"
   ]
  },
  {
   "cell_type": "code",
   "execution_count": 10,
   "metadata": {},
   "outputs": [
    {
     "name": "stdout",
     "output_type": "stream",
     "text": [
      "Begin loading result files\n"
     ]
    },
    {
     "data": {
      "text/plain": [
       "{'nclusters-20': {'ami': 0.18840799142332593,\n",
       "  'nmi': 0.20875539378820848,\n",
       "  'cls': 0.2073875027482603,\n",
       "  'hs': 0.21014144936969384,\n",
       "  'ars': 0.05109406034684963}}"
      ]
     },
     "execution_count": 10,
     "metadata": {},
     "output_type": "execute_result"
    }
   ],
   "source": [
    "scoreRI20 = file_getter(basedatadir=basedatadir,\n",
    "                        expname='67011582', cexpname=\"4707356\",\n",
    "                        nclusters=20, score_only=True)\n",
    "scoreRI20"
   ]
  },
  {
   "cell_type": "code",
   "execution_count": 11,
   "metadata": {},
   "outputs": [
    {
     "name": "stdout",
     "output_type": "stream",
     "text": [
      "Begin loading result files\n"
     ]
    },
    {
     "data": {
      "text/plain": [
       "{'nclusters-10': {'ami': 0.09429832205868485,\n",
       "  'nmi': 0.10084221255026982,\n",
       "  'cls': 0.09731923368755742,\n",
       "  'hs': 0.10462983694899633,\n",
       "  'ars': 0.037049782562517376}}"
      ]
     },
     "execution_count": 11,
     "metadata": {},
     "output_type": "execute_result"
    }
   ],
   "source": [
    "scoreRI10 = file_getter(basedatadir=basedatadir,\n",
    "                        expname='67011582', cexpname=\"4707356\",\n",
    "                        nclusters=10, score_only=True)\n",
    "scoreRI10"
   ]
  },
  {
   "cell_type": "code",
   "execution_count": 8,
   "metadata": {},
   "outputs": [
    {
     "name": "stdout",
     "output_type": "stream",
     "text": [
      "Begin loading result files\n"
     ]
    },
    {
     "data": {
      "text/plain": [
       "{'nclusters-30': {'ami': 0.3664306131336299,\n",
       "  'nmi': 0.3994841670670713,\n",
       "  'cls': 0.4111551460025262,\n",
       "  'hs': 0.3884574801527483,\n",
       "  'ars': 0.11857770029076001}}"
      ]
     },
     "execution_count": 8,
     "metadata": {},
     "output_type": "execute_result"
    }
   ],
   "source": [
    "scoreNRI30 = file_getter(basedatadir=basedatadir,\n",
    "                        expname='m2_02_global_2000_2018_band28_29_31', cexpname=\"4707356\",\n",
    "                        nclusters=30, score_only=True)\n",
    "scoreNRI30"
   ]
  },
  {
   "cell_type": "code",
   "execution_count": 9,
   "metadata": {
    "scrolled": true
   },
   "outputs": [
    {
     "name": "stdout",
     "output_type": "stream",
     "text": [
      "Begin loading result files\n"
     ]
    },
    {
     "data": {
      "text/plain": [
       "{'nclusters-20': {'ami': 0.37451043061205647,\n",
       "  'nmi': 0.39048873076433555,\n",
       "  'cls': 0.39081994075371745,\n",
       "  'hs': 0.390158081683732,\n",
       "  'ars': 0.19101277436474584}}"
      ]
     },
     "execution_count": 9,
     "metadata": {},
     "output_type": "execute_result"
    }
   ],
   "source": [
    "scoreNRI20 = file_getter(basedatadir=basedatadir,\n",
    "                        expname='m2_02_global_2000_2018_band28_29_31', cexpname=\"4707356\",\n",
    "                        nclusters=20, score_only=True)\n",
    "scoreNRI20"
   ]
  },
  {
   "cell_type": "code",
   "execution_count": 13,
   "metadata": {},
   "outputs": [
    {
     "name": "stdout",
     "output_type": "stream",
     "text": [
      "Begin loading result files\n"
     ]
    },
    {
     "data": {
      "text/plain": [
       "{'nclusters-20': {'ami': 0.37451043061205647,\n",
       "  'nmi': 0.39048873076433555,\n",
       "  'cls': 0.39081994075371745,\n",
       "  'hs': 0.390158081683732,\n",
       "  'ars': 0.19101277436474584}}"
      ]
     },
     "execution_count": 13,
     "metadata": {},
     "output_type": "execute_result"
    }
   ],
   "source": [
    "scoreNRI10 = file_getter(basedatadir=basedatadir,\n",
    "                        expname='m2_02_global_2000_2018_band28_29_31', cexpname=\"4707356\",\n",
    "                        nclusters=20, score_only=True)\n",
    "scoreNRI10"
   ]
  },
  {
   "cell_type": "code",
   "execution_count": 12,
   "metadata": {},
   "outputs": [
    {
     "data": {
      "text/plain": [
       "array([  0.,  10.,  20.,  30.,  40.,  50.,  60.,  70.,  80.,  90., 100.,\n",
       "       110., 120., 130., 140., 150., 160., 170., 180., 190., 200., 210.,\n",
       "       220., 230., 240., 250., 260., 270., 280., 290., 300., 310., 320.,\n",
       "       330., 340., 350., 360.])"
      ]
     },
     "execution_count": 12,
     "metadata": {},
     "output_type": "execute_result"
    }
   ],
   "source": [
    "np.linspace(0,360,37)"
   ]
  },
  {
   "cell_type": "markdown",
   "metadata": {},
   "source": [
    "----------------\n",
    "## Large_hac7"
   ]
  },
  {
   "cell_type": "code",
   "execution_count": 15,
   "metadata": {},
   "outputs": [],
   "source": [
    "basedatadir = './large_hac7'"
   ]
  },
  {
   "cell_type": "code",
   "execution_count": 35,
   "metadata": {},
   "outputs": [],
   "source": [
    "def extract_scores(scores, metric=None):\n",
    "    slist = []\n",
    "    for ikey in scores.keys():\n",
    "        slist.append(scores[ikey][metric])\n",
    "    return slist"
   ]
  },
  {
   "cell_type": "code",
   "execution_count": 38,
   "metadata": {},
   "outputs": [],
   "source": [
    "def compute_metric(score, metric=None):\n",
    "    tmp = extract_scores(score, metric=metric)\n",
    "    result = np.mean(tmp)\n",
    "    return result"
   ]
  },
  {
   "cell_type": "markdown",
   "metadata": {},
   "source": [
    "- RI"
   ]
  },
  {
   "cell_type": "code",
   "execution_count": 16,
   "metadata": {},
   "outputs": [
    {
     "name": "stdout",
     "output_type": "stream",
     "text": [
      "Begin loading result files\n"
     ]
    }
   ],
   "source": [
    "scoreRI15 = file_getter(basedatadir=basedatadir,\n",
    "                        expname='67011582', cexpname=\"4709675\",\n",
    "                        nclusters=15, score_only=True)"
   ]
  },
  {
   "cell_type": "code",
   "execution_count": 25,
   "metadata": {},
   "outputs": [
    {
     "data": {
      "text/plain": [
       "1.0"
      ]
     },
     "execution_count": 25,
     "metadata": {},
     "output_type": "execute_result"
    }
   ],
   "source": [
    "scoreRI15['nclusters-15-i0-j1']['ami']"
   ]
  },
  {
   "cell_type": "code",
   "execution_count": 27,
   "metadata": {},
   "outputs": [],
   "source": [
    "amiRI15 = extract_scores(scoreRI15, metric='ami')"
   ]
  },
  {
   "cell_type": "code",
   "execution_count": 28,
   "metadata": {},
   "outputs": [],
   "source": [
    "nmiRI15 = extract_scores(scoreRI15, metric='nmi')\n",
    "clsRI15 = extract_scores(scoreRI15, metric='cls')"
   ]
  },
  {
   "cell_type": "code",
   "execution_count": 32,
   "metadata": {},
   "outputs": [
    {
     "data": {
      "text/plain": [
       "(0.6987111132192769, 0.9005972008304182, 0.8974082268634992)"
      ]
     },
     "execution_count": 32,
     "metadata": {},
     "output_type": "execute_result"
    }
   ],
   "source": [
    "amiRI = np.mean(amiRI15)\n",
    "nmiRI = np.mean(nmiRI15)\n",
    "clsRI = np.mean(clsRI15)\n",
    "amiRI, nmiRI, clsRI"
   ]
  },
  {
   "cell_type": "code",
   "execution_count": 42,
   "metadata": {},
   "outputs": [
    {
     "name": "stdout",
     "output_type": "stream",
     "text": [
      "Begin loading result files\n"
     ]
    }
   ],
   "source": [
    "scoreRI20 = file_getter(basedatadir=basedatadir,\n",
    "                        expname='67011582', cexpname=\"4709675\",\n",
    "                        nclusters=20, score_only=True)"
   ]
  },
  {
   "cell_type": "code",
   "execution_count": 43,
   "metadata": {},
   "outputs": [],
   "source": [
    "metrics = {}\n",
    "metrics_names = ['ami', 'nmi', 'cls']\n",
    "for mnames in metrics_names:\n",
    "    metrics[mnames] = compute_metric(scoreRI20, mnames)"
   ]
  },
  {
   "cell_type": "code",
   "execution_count": 44,
   "metadata": {},
   "outputs": [
    {
     "data": {
      "text/plain": [
       "[0.7135794716986261, 0.9465307547470766, 0.9419816886694182]"
      ]
     },
     "execution_count": 44,
     "metadata": {},
     "output_type": "execute_result"
    }
   ],
   "source": [
    "[ metrics[i] for i in metrics.keys()]"
   ]
  },
  {
   "cell_type": "code",
   "execution_count": 45,
   "metadata": {},
   "outputs": [
    {
     "name": "stdout",
     "output_type": "stream",
     "text": [
      "Begin loading result files\n"
     ]
    }
   ],
   "source": [
    "scoreRI25 = file_getter(basedatadir=basedatadir,\n",
    "                        expname='67011582', cexpname=\"4709675\",\n",
    "                        nclusters=25, score_only=True)"
   ]
  },
  {
   "cell_type": "code",
   "execution_count": 46,
   "metadata": {},
   "outputs": [],
   "source": [
    "metrics = {}\n",
    "metrics_names = ['ami', 'nmi', 'cls']\n",
    "for mnames in metrics_names:\n",
    "    metrics[mnames] = compute_metric(scoreRI25, mnames)"
   ]
  },
  {
   "cell_type": "code",
   "execution_count": 47,
   "metadata": {},
   "outputs": [
    {
     "data": {
      "text/plain": [
       "[0.6339915140592819, 0.9723404698072844, 0.9755573769016328]"
      ]
     },
     "execution_count": 47,
     "metadata": {},
     "output_type": "execute_result"
    }
   ],
   "source": [
    "[ metrics[i] for i in metrics.keys()]"
   ]
  },
  {
   "cell_type": "code",
   "execution_count": 51,
   "metadata": {},
   "outputs": [
    {
     "name": "stdout",
     "output_type": "stream",
     "text": [
      "Begin loading result files\n"
     ]
    }
   ],
   "source": [
    "scoreRI10 = file_getter(basedatadir=basedatadir,\n",
    "                        expname='67011582', cexpname=\"4709675\",\n",
    "                        nclusters=10, score_only=True)"
   ]
  },
  {
   "cell_type": "code",
   "execution_count": 52,
   "metadata": {},
   "outputs": [],
   "source": [
    "metrics = {}\n",
    "metrics_names = ['ami', 'nmi', 'cls']\n",
    "for mnames in metrics_names:\n",
    "    metrics[mnames] = compute_metric(scoreRI10, mnames)"
   ]
  },
  {
   "cell_type": "code",
   "execution_count": 53,
   "metadata": {},
   "outputs": [
    {
     "data": {
      "text/plain": [
       "[0.5777076006970935, 0.7790203496381592, 0.7839556229831804]"
      ]
     },
     "execution_count": 53,
     "metadata": {},
     "output_type": "execute_result"
    }
   ],
   "source": [
    "[ metrics[i] for i in metrics.keys()]"
   ]
  },
  {
   "cell_type": "markdown",
   "metadata": {},
   "source": [
    "- NRI"
   ]
  },
  {
   "cell_type": "code",
   "execution_count": 30,
   "metadata": {},
   "outputs": [
    {
     "name": "stdout",
     "output_type": "stream",
     "text": [
      "Begin loading result files\n"
     ]
    }
   ],
   "source": [
    "scoreNRI15 = file_getter(basedatadir=basedatadir,\n",
    "                        expname='m2_02_global_2000_2018_band28_29_31', cexpname=\"4709675\",\n",
    "                        nclusters=15, score_only=True)"
   ]
  },
  {
   "cell_type": "code",
   "execution_count": 31,
   "metadata": {},
   "outputs": [],
   "source": [
    "amiNRI15 = extract_scores(scoreNRI15, metric='ami')\n",
    "nmiNRI15 = extract_scores(scoreNRI15, metric='nmi')\n",
    "clsNRI15 = extract_scores(scoreNRI15, metric='cls')"
   ]
  },
  {
   "cell_type": "code",
   "execution_count": 33,
   "metadata": {},
   "outputs": [
    {
     "data": {
      "text/plain": [
       "(0.8502471282767713, 0.9505213397897825, 0.9491254335340468)"
      ]
     },
     "execution_count": 33,
     "metadata": {},
     "output_type": "execute_result"
    }
   ],
   "source": [
    "amiNRI = np.mean(amiNRI15)\n",
    "nmiNRI = np.mean(nmiNRI15)\n",
    "clsNRI = np.mean(clsNRI15)\n",
    "amiNRI, nmiNRI, clsNRI"
   ]
  },
  {
   "cell_type": "code",
   "execution_count": 34,
   "metadata": {},
   "outputs": [
    {
     "name": "stdout",
     "output_type": "stream",
     "text": [
      "Begin loading result files\n"
     ]
    }
   ],
   "source": [
    "scoreNRI20 = file_getter(basedatadir=basedatadir,\n",
    "                        expname='m2_02_global_2000_2018_band28_29_31', cexpname=\"4709675\",\n",
    "                        nclusters=20, score_only=True)"
   ]
  },
  {
   "cell_type": "code",
   "execution_count": 39,
   "metadata": {},
   "outputs": [],
   "source": [
    "metrics = {}\n",
    "metrics_names = ['ami', 'nmi', 'cls']\n",
    "for mnames in metrics_names:\n",
    "    metrics[mnames] = compute_metric(scoreNRI20, mnames)"
   ]
  },
  {
   "cell_type": "code",
   "execution_count": 41,
   "metadata": {},
   "outputs": [
    {
     "data": {
      "text/plain": [
       "[0.8296056584607688, 0.9661018316030606, 0.9671184851770468]"
      ]
     },
     "execution_count": 41,
     "metadata": {},
     "output_type": "execute_result"
    }
   ],
   "source": [
    "[ metrics[i] for i in metrics.keys()]"
   ]
  },
  {
   "cell_type": "code",
   "execution_count": 48,
   "metadata": {},
   "outputs": [
    {
     "name": "stdout",
     "output_type": "stream",
     "text": [
      "Begin loading result files\n"
     ]
    }
   ],
   "source": [
    "scoreNRI25 = file_getter(basedatadir=basedatadir,\n",
    "                        expname='m2_02_global_2000_2018_band28_29_31', cexpname=\"4709675\",\n",
    "                        nclusters=25, score_only=True)"
   ]
  },
  {
   "cell_type": "code",
   "execution_count": 49,
   "metadata": {},
   "outputs": [],
   "source": [
    "metrics = {}\n",
    "metrics_names = ['ami', 'nmi', 'cls']\n",
    "for mnames in metrics_names:\n",
    "    metrics[mnames] = compute_metric(scoreNRI25, mnames)"
   ]
  },
  {
   "cell_type": "code",
   "execution_count": 50,
   "metadata": {},
   "outputs": [
    {
     "data": {
      "text/plain": [
       "[0.8661055490796677, 0.9892354170257185, 0.9909192174397762]"
      ]
     },
     "execution_count": 50,
     "metadata": {},
     "output_type": "execute_result"
    }
   ],
   "source": [
    "[ metrics[i] for i in metrics.keys()]"
   ]
  },
  {
   "cell_type": "code",
   "execution_count": 54,
   "metadata": {},
   "outputs": [
    {
     "name": "stdout",
     "output_type": "stream",
     "text": [
      "Begin loading result files\n"
     ]
    }
   ],
   "source": [
    "scoreNRI10 = file_getter(basedatadir=basedatadir,\n",
    "                        expname='m2_02_global_2000_2018_band28_29_31', cexpname=\"4709675\",\n",
    "                        nclusters=10, score_only=True)"
   ]
  },
  {
   "cell_type": "code",
   "execution_count": 55,
   "metadata": {},
   "outputs": [],
   "source": [
    "metrics = {}\n",
    "metrics_names = ['ami', 'nmi', 'cls']\n",
    "for mnames in metrics_names:\n",
    "    metrics[mnames] = compute_metric(scoreNRI10, mnames)"
   ]
  },
  {
   "cell_type": "code",
   "execution_count": 56,
   "metadata": {},
   "outputs": [
    {
     "data": {
      "text/plain": [
       "[0.9013455856098417, 0.9475666149313988, 0.9568257684497303]"
      ]
     },
     "execution_count": 56,
     "metadata": {},
     "output_type": "execute_result"
    }
   ],
   "source": [
    "[ metrics[i] for i in metrics.keys()]"
   ]
  },
  {
   "cell_type": "markdown",
   "metadata": {},
   "source": [
    "------------------\n",
    "## Large_hac8"
   ]
  },
  {
   "cell_type": "code",
   "execution_count": 57,
   "metadata": {},
   "outputs": [],
   "source": [
    "basedatadir = './large_hac8'"
   ]
  },
  {
   "cell_type": "code",
   "execution_count": 59,
   "metadata": {},
   "outputs": [
    {
     "name": "stdout",
     "output_type": "stream",
     "text": [
      "Begin loading result files\n"
     ]
    },
    {
     "data": {
      "text/plain": [
       "{'nclusters-128': {'ami': 0.26400799565009797,\n",
       "  'nmi': 0.4871013241830187,\n",
       "  'cls': 0.4601647293785071,\n",
       "  'hs': 0.5173875635824083,\n",
       "  'ars': 0.08226944395743079}}"
      ]
     },
     "execution_count": 59,
     "metadata": {},
     "output_type": "execute_result"
    }
   ],
   "source": [
    "scoreRI128 = file_getter(basedatadir=basedatadir,\n",
    "                        expname='4678889', cexpname=\"4715361\",\n",
    "                        nclusters=128, score_only=True)\n",
    "scoreRI128"
   ]
  },
  {
   "cell_type": "code",
   "execution_count": 62,
   "metadata": {},
   "outputs": [
    {
     "name": "stdout",
     "output_type": "stream",
     "text": [
      "Begin loading result files\n"
     ]
    },
    {
     "data": {
      "text/plain": [
       "{'nclusters-32': {'ami': 0.24191930026917804,\n",
       "  'nmi': 0.2997677994847731,\n",
       "  'cls': 0.29498780488167103,\n",
       "  'hs': 0.3047052560692309,\n",
       "  'ars': 0.07799498350999963}}"
      ]
     },
     "execution_count": 62,
     "metadata": {},
     "output_type": "execute_result"
    }
   ],
   "source": [
    "scoreRI32 = file_getter(basedatadir=basedatadir,\n",
    "                        expname='4678889', cexpname=\"4715361\",\n",
    "                        nclusters=32, score_only=True)\n",
    "scoreRI32"
   ]
  },
  {
   "cell_type": "code",
   "execution_count": 63,
   "metadata": {},
   "outputs": [
    {
     "name": "stdout",
     "output_type": "stream",
     "text": [
      "Begin loading result files\n"
     ]
    },
    {
     "data": {
      "text/plain": [
       "{'nclusters-1024': {'ami': 0.16424439258667609,\n",
       "  'nmi': 0.847581039853115,\n",
       "  'cls': 0.8317100970487321,\n",
       "  'hs': 0.864069474044592,\n",
       "  'ars': 0.07366792586837137}}"
      ]
     },
     "execution_count": 63,
     "metadata": {},
     "output_type": "execute_result"
    }
   ],
   "source": [
    "scoreRI1024 = file_getter(basedatadir=basedatadir,\n",
    "                        expname='4678889', cexpname=\"4715361\",\n",
    "                        nclusters=1024, score_only=True)\n",
    "scoreRI1024"
   ]
  },
  {
   "cell_type": "code",
   "execution_count": 66,
   "metadata": {},
   "outputs": [
    {
     "name": "stdout",
     "output_type": "stream",
     "text": [
      "Begin loading result files\n"
     ]
    },
    {
     "data": {
      "text/plain": [
       "{'nclusters-12': {'ami': 0.19048775745107194,\n",
       "  'nmi': 0.2022533999454365,\n",
       "  'cls': 0.19718714344962324,\n",
       "  'hs': 0.20758685232284638,\n",
       "  'ars': 0.08350886051612524}}"
      ]
     },
     "execution_count": 66,
     "metadata": {},
     "output_type": "execute_result"
    }
   ],
   "source": [
    "scoreRI12 = file_getter(basedatadir=basedatadir,\n",
    "                        expname='4678889', cexpname=\"4715361\",\n",
    "                        nclusters=12, score_only=True)\n",
    "scoreRI12"
   ]
  },
  {
   "cell_type": "markdown",
   "metadata": {},
   "source": [
    "-----------"
   ]
  },
  {
   "cell_type": "code",
   "execution_count": 60,
   "metadata": {},
   "outputs": [
    {
     "name": "stdout",
     "output_type": "stream",
     "text": [
      "Begin loading result files\n"
     ]
    },
    {
     "data": {
      "text/plain": [
       "{'nclusters-128': {'ami': 0.4236046858599835,\n",
       "  'nmi': 0.6036139042558722,\n",
       "  'cls': 0.5904229924868991,\n",
       "  'hs': 0.6174076936510521,\n",
       "  'ars': 0.1963170383172697}}"
      ]
     },
     "execution_count": 60,
     "metadata": {},
     "output_type": "execute_result"
    }
   ],
   "source": [
    "scoreNRI128 = file_getter(basedatadir=basedatadir,\n",
    "                        expname='m2_02_global_2000_2018_band28_29_31', cexpname=\"4715361\",\n",
    "                        nclusters=128, score_only=True)\n",
    "scoreNRI128"
   ]
  },
  {
   "cell_type": "code",
   "execution_count": 61,
   "metadata": {},
   "outputs": [
    {
     "name": "stdout",
     "output_type": "stream",
     "text": [
      "Begin loading result files\n"
     ]
    },
    {
     "data": {
      "text/plain": [
       "{'nclusters-32': {'ami': 0.47691366880886144,\n",
       "  'nmi': 0.5163830620073806,\n",
       "  'cls': 0.5173382338718344,\n",
       "  'hs': 0.5154314107483622,\n",
       "  'ars': 0.29239121073052443}}"
      ]
     },
     "execution_count": 61,
     "metadata": {},
     "output_type": "execute_result"
    }
   ],
   "source": [
    "scoreNRI32 = file_getter(basedatadir=basedatadir,\n",
    "                        expname='m2_02_global_2000_2018_band28_29_31', cexpname=\"4715361\",\n",
    "                        nclusters=32, score_only=True)\n",
    "scoreNRI32"
   ]
  },
  {
   "cell_type": "code",
   "execution_count": 64,
   "metadata": {},
   "outputs": [
    {
     "name": "stdout",
     "output_type": "stream",
     "text": [
      "Begin loading result files\n"
     ]
    },
    {
     "data": {
      "text/plain": [
       "{'nclusters-1024': {'ami': 0.2727212676841799,\n",
       "  'nmi': 0.8701823426049674,\n",
       "  'cls': 0.8617470113832627,\n",
       "  'hs': 0.8787844471510601,\n",
       "  'ars': 0.14280227980864976}}"
      ]
     },
     "execution_count": 64,
     "metadata": {},
     "output_type": "execute_result"
    }
   ],
   "source": [
    "scoreNRI1024 = file_getter(basedatadir=basedatadir,\n",
    "                        expname='m2_02_global_2000_2018_band28_29_31', cexpname=\"4715361\",\n",
    "                        nclusters=1024, score_only=True)\n",
    "scoreNRI1024"
   ]
  },
  {
   "cell_type": "code",
   "execution_count": 65,
   "metadata": {},
   "outputs": [
    {
     "name": "stdout",
     "output_type": "stream",
     "text": [
      "Begin loading result files\n"
     ]
    },
    {
     "data": {
      "text/plain": [
       "{'nclusters-12': {'ami': 0.5032674408159196,\n",
       "  'nmi': 0.5101438771403909,\n",
       "  'cls': 0.5174161278628786,\n",
       "  'hs': 0.5030732151426749,\n",
       "  'ars': 0.2768025423813689}}"
      ]
     },
     "execution_count": 65,
     "metadata": {},
     "output_type": "execute_result"
    }
   ],
   "source": [
    "scoreNRI12 = file_getter(basedatadir=basedatadir,\n",
    "                        expname='m2_02_global_2000_2018_band28_29_31', cexpname=\"4715361\",\n",
    "                        nclusters=12, score_only=True)\n",
    "scoreNRI12"
   ]
  },
  {
   "cell_type": "code",
   "execution_count": null,
   "metadata": {},
   "outputs": [],
   "source": []
  }
 ],
 "metadata": {
  "kernelspec": {
   "display_name": "Python 3",
   "language": "python",
   "name": "python3"
  },
  "language_info": {
   "codemirror_mode": {
    "name": "ipython",
    "version": 3
   },
   "file_extension": ".py",
   "mimetype": "text/x-python",
   "name": "python",
   "nbconvert_exporter": "python",
   "pygments_lexer": "ipython3",
   "version": "3.6.6"
  }
 },
 "nbformat": 4,
 "nbformat_minor": 4
}
