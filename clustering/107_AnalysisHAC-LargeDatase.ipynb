{
 "cells": [
  {
   "cell_type": "markdown",
   "metadata": {},
   "source": [
    "### Notebook to visualize HAC clustering results from larger holdout data\n",
    "\n",
    "Plot HAC clustering from sklearn article: [Plot Hierarchical Clustering Dendrogram](https://scikit-learn.org/stable/auto_examples/cluster/plot_agglomerative_dendrogram.html#sphx-glr-auto-examples-cluster-plot-agglomerative-dendrogram-py)"
   ]
  },
  {
   "cell_type": "code",
   "execution_count": 2,
   "metadata": {},
   "outputs": [],
   "source": [
    "%matplotlib inline\n",
    "import os\n",
    "import gc\n",
    "import glob\n",
    "import pickle\n",
    "import numpy as np\n",
    "import pandas as pd\n",
    "import matplotlib.pyplot as plt\n",
    "# Visualization for dendrogram\n",
    "from scipy.cluster.hierarchy import dendrogram"
   ]
  },
  {
   "cell_type": "code",
   "execution_count": 4,
   "metadata": {},
   "outputs": [],
   "source": [
    "def pkl_loader(filename):\n",
    "    with open(filename, 'rb') as f:\n",
    "        data = pickle.load(f)\n",
    "    return data"
   ]
  },
  {
   "cell_type": "code",
   "execution_count": 10,
   "metadata": {},
   "outputs": [],
   "source": [
    "basedatadir = './large_hac1'"
   ]
  },
  {
   "cell_type": "code",
   "execution_count": 17,
   "metadata": {},
   "outputs": [],
   "source": [
    "def file_getter(basedatadir=None, expname=None, nclusters=None, cexpname=None,score_only=True):\n",
    "    \"\"\" TODO in future specify clustering expname\"\"\"\n",
    "    datadir = os.path.join(basedatadir, f\"{expname}/nclusters-{nclusters}/HAC\")\n",
    "    try:\n",
    "        tmp = glob.glob(os.path.join(datadir, f'*{cexpname}.pkl'))\n",
    "        a = [i for i in tmp]\n",
    "        print(\"Begin loading result files\")\n",
    "    except Exception as e:\n",
    "        print(e)\n",
    "        \n",
    "    scores =  pkl_loader(\n",
    "            glob.glob(os.path.join(datadir, f\"score-hac_{cexpname}.pkl\"))[0]\n",
    "    )\n",
    "    if not score_only:\n",
    "        omodel =  pkl_loader(\n",
    "            glob.glob(os.path.join(datadir, f\"original-hac_{cexpname}.pkl\"))[0]\n",
    "        )\n",
    "        rmodel =  pkl_loader(\n",
    "            glob.glob(os.path.join(datadir, f\"reprot-hac_{cexpname}.pkl\"))[0]\n",
    "        )\n",
    "        return scores, omodel, rmodel\n",
    "    else:\n",
    "        return scores"
   ]
  },
  {
   "cell_type": "markdown",
   "metadata": {},
   "source": [
    "---------------\n",
    "#### RI"
   ]
  },
  {
   "cell_type": "code",
   "execution_count": 18,
   "metadata": {},
   "outputs": [
    {
     "name": "stdout",
     "output_type": "stream",
     "text": [
      "Begin loading result files\n"
     ]
    }
   ],
   "source": [
    "scoreRI2000 = file_getter(basedatadir=basedatadir, expname='67011582', cexpname=\"4583049\",\n",
    "                          nclusters=2000, score_only=True)"
   ]
  },
  {
   "cell_type": "code",
   "execution_count": 25,
   "metadata": {},
   "outputs": [
    {
     "data": {
      "text/plain": [
       "{'nclusters-2000': {'ami': -0.0030743676592053857,\n",
       "  'cls': 0.7890443390587428,\n",
       "  'hs': 0.682182417322676}}"
      ]
     },
     "execution_count": 25,
     "metadata": {},
     "output_type": "execute_result"
    }
   ],
   "source": [
    "scoreRI2000"
   ]
  },
  {
   "cell_type": "code",
   "execution_count": 27,
   "metadata": {},
   "outputs": [
    {
     "name": "stdout",
     "output_type": "stream",
     "text": [
      "Begin loading result files\n"
     ]
    }
   ],
   "source": [
    "scoreRI2000 = file_getter(basedatadir=basedatadir, expname='67011582', cexpname=\"4585449\",\n",
    "                          nclusters=2000, score_only=True)"
   ]
  },
  {
   "cell_type": "code",
   "execution_count": 28,
   "metadata": {},
   "outputs": [
    {
     "data": {
      "text/plain": [
       "{'nclusters-2000': {'ami': -0.003906495780173582,\n",
       "  'cls': 0.7258206222790605,\n",
       "  'hs': 0.6240351687680873}}"
      ]
     },
     "execution_count": 28,
     "metadata": {},
     "output_type": "execute_result"
    }
   ],
   "source": [
    "scoreRI2000"
   ]
  },
  {
   "cell_type": "code",
   "execution_count": 20,
   "metadata": {},
   "outputs": [
    {
     "name": "stdout",
     "output_type": "stream",
     "text": [
      "Begin loading result files\n"
     ]
    }
   ],
   "source": [
    "scoreRI100 = file_getter(basedatadir=basedatadir, expname='67011582', cexpname=\"4583334\",\n",
    "                          nclusters=100, score_only=True)"
   ]
  },
  {
   "cell_type": "code",
   "execution_count": 21,
   "metadata": {},
   "outputs": [
    {
     "data": {
      "text/plain": [
       "{'nclusters-100': {'ami': 0.49775915133408816,\n",
       "  'cls': 0.5250588276607263,\n",
       "  'hs': 0.5837425612029344}}"
      ]
     },
     "execution_count": 21,
     "metadata": {},
     "output_type": "execute_result"
    }
   ],
   "source": [
    "scoreRI100"
   ]
  },
  {
   "cell_type": "code",
   "execution_count": 29,
   "metadata": {},
   "outputs": [
    {
     "name": "stdout",
     "output_type": "stream",
     "text": [
      "Begin loading result files\n"
     ]
    },
    {
     "data": {
      "text/plain": [
       "{'nclusters-20': {'ami': 0.3727912117267518,\n",
       "  'cls': 0.3694863967388016,\n",
       "  'hs': 0.3875373646654667}}"
      ]
     },
     "execution_count": 29,
     "metadata": {},
     "output_type": "execute_result"
    }
   ],
   "source": [
    "scoreRI20 = file_getter(basedatadir=basedatadir, expname='67011582', cexpname=\"4585692\",\n",
    "                          nclusters=20, score_only=True)\n",
    "scoreRI20"
   ]
  },
  {
   "cell_type": "code",
   "execution_count": 30,
   "metadata": {},
   "outputs": [
    {
     "name": "stdout",
     "output_type": "stream",
     "text": [
      "Begin loading result files\n"
     ]
    },
    {
     "data": {
      "text/plain": [
       "{'nclusters-10': {'ami': 0.2749294249104568,\n",
       "  'cls': 0.270921330463771,\n",
       "  'hs': 0.2827657385164835}}"
      ]
     },
     "execution_count": 30,
     "metadata": {},
     "output_type": "execute_result"
    }
   ],
   "source": [
    "scoreRI10 = file_getter(basedatadir=basedatadir, expname='67011582', cexpname=\"4585694\",\n",
    "                          nclusters=10, score_only=True)\n",
    "scoreRI10"
   ]
  },
  {
   "cell_type": "code",
   "execution_count": 32,
   "metadata": {},
   "outputs": [
    {
     "name": "stdout",
     "output_type": "stream",
     "text": [
      "Begin loading result files\n",
      "Begin loading result files\n",
      "Begin loading result files\n",
      "Begin loading result files\n",
      "Begin loading result files\n",
      "Begin loading result files\n",
      "Begin loading result files\n",
      "Begin loading result files\n"
     ]
    }
   ],
   "source": [
    "scoresRI = []\n",
    "for cexpname, nclusters in zip(\n",
    "    [4586180,4586181,4586182,4586183,4586184,4586185,4586186,4586179 ],\n",
    "    [2,4,8,16,32,64,128,256]\n",
    "    ):\n",
    "    tmp_score = file_getter(basedatadir=basedatadir, expname='67011582', cexpname=str(cexpname),\n",
    "                          nclusters=nclusters, score_only=True)\n",
    "    scoresRI.append(tmp_score)"
   ]
  },
  {
   "cell_type": "code",
   "execution_count": 33,
   "metadata": {},
   "outputs": [
    {
     "data": {
      "text/plain": [
       "[{'nclusters-2': {'ami': -0.00012688068273619858,\n",
       "   'cls': 8.3908108888613345e-16,\n",
       "   'hs': 1.1139569852771803e-15}},\n",
       " {'nclusters-4': {'ami': 0.1623027487483164,\n",
       "   'cls': 0.1551559466782175,\n",
       "   'hs': 0.1711232043322862}},\n",
       " {'nclusters-8': {'ami': 0.19606965608493074,\n",
       "   'cls': 0.19580718330938102,\n",
       "   'hs': 0.1990257661609034}},\n",
       " {'nclusters-16': {'ami': 0.36363988634507727,\n",
       "   'cls': 0.3496807006622599,\n",
       "   'hs': 0.38705005566309214}},\n",
       " {'nclusters-32': {'ami': 0.4564321286457516,\n",
       "   'cls': 0.4437581757689382,\n",
       "   'hs': 0.4941132735877916}},\n",
       " {'nclusters-64': {'ami': 0.47742376135150927,\n",
       "   'cls': 0.4839587039323898,\n",
       "   'hs': 0.5392947849802405}},\n",
       " {'nclusters-128': {'ami': 0.5072805550995583,\n",
       "   'cls': 0.5456484135659448,\n",
       "   'hs': 0.6083612546860472}},\n",
       " {'nclusters-256': {'ami': 0.5068012896885425,\n",
       "   'cls': 0.5838944078925472,\n",
       "   'hs': 0.6627520560607516}}]"
      ]
     },
     "execution_count": 33,
     "metadata": {},
     "output_type": "execute_result"
    }
   ],
   "source": [
    "scoresRI"
   ]
  },
  {
   "cell_type": "markdown",
   "metadata": {},
   "source": [
    "--------------\n",
    "#### RI after left out non structured patches"
   ]
  },
  {
   "cell_type": "code",
   "execution_count": 54,
   "metadata": {},
   "outputs": [
    {
     "name": "stdout",
     "output_type": "stream",
     "text": [
      "Begin loading result files\n"
     ]
    },
    {
     "name": "stderr",
     "output_type": "stream",
     "text": [
      "/software/python-anaconda-2020.02-el7-x86_64/lib/python3.7/site-packages/sklearn/base.py:334: UserWarning: Trying to unpickle estimator AgglomerativeClustering from version 0.23.2 when using version 0.23.1. This might lead to breaking code or invalid results. Use at your own risk.\n",
      "  UserWarning)\n"
     ]
    },
    {
     "data": {
      "text/plain": [
       "{'nclusters-674': {'ami': -0.004311490039035771,\n",
       "  'cls': 0.7694366410700049,\n",
       "  'hs': 0.7102996621677017}}"
      ]
     },
     "execution_count": 54,
     "metadata": {},
     "output_type": "execute_result"
    }
   ],
   "source": [
    "scoreRI674, orimodel, rimodel = file_getter(basedatadir=basedatadir, expname='67011582', cexpname=\"4590898\",\n",
    "                          nclusters=674, score_only=False)\n",
    "scoreRI674"
   ]
  },
  {
   "cell_type": "code",
   "execution_count": 55,
   "metadata": {},
   "outputs": [],
   "source": [
    "orimodel_labels = orimodel.labels_\n",
    "rimodel_labels = rimodel.labels_"
   ]
  },
  {
   "cell_type": "code",
   "execution_count": 56,
   "metadata": {},
   "outputs": [
    {
     "data": {
      "text/plain": [
       "array([618, 667, 626, 665, 673, 634, 597, 636, 661, 455, 500, 586, 642,\n",
       "       655, 497, 575, 438, 644, 447, 580, 361, 593, 606, 559, 408, 382,\n",
       "       525, 448, 540, 552, 424, 550, 553, 464, 545, 466, 378, 491, 565,\n",
       "       533, 468, 592, 549, 418, 445, 627, 641, 602, 508, 643, 616, 435,\n",
       "       663, 620, 567, 617, 566, 651, 442, 649, 428, 465, 622, 600, 390,\n",
       "       437, 614, 625, 546, 434, 652, 539, 611, 409, 232, 325, 395, 555,\n",
       "       571, 547, 345, 456, 463, 647, 274, 223, 591, 503, 427, 521, 355,\n",
       "       623, 231, 467, 495, 543, 576, 487, 419, 431])"
      ]
     },
     "execution_count": 56,
     "metadata": {},
     "output_type": "execute_result"
    }
   ],
   "source": [
    "orimodel_labels[:100]"
   ]
  },
  {
   "cell_type": "code",
   "execution_count": 57,
   "metadata": {},
   "outputs": [
    {
     "data": {
      "text/plain": [
       "array([  6, 578, 393, 441, 176, 115,  52, 175, 303, 330, 393, 309, 176,\n",
       "       330,  64, 243, 176, 115,  52, 175, 303, 114, 617, 243, 328, 578,\n",
       "       393, 441, 328, 517,  70, 552, 176, 114, 617, 636, 327,  43, 127,\n",
       "       494, 303, 114, 617, 243, 176, 115, 617, 175, 176, 115, 617, 636,\n",
       "        46, 114,  64, 504,  20, 578, 333, 336,  14, 119,  70, 552,  14,\n",
       "       114, 456, 326,  20, 115,  52, 175, 209, 142, 134,  10, 638, 458,\n",
       "        61, 206, 477, 162, 195,  33, 120, 578, 123, 166, 328, 112, 123,\n",
       "       441, 124, 288,  54, 464, 124, 458,  61, 206])"
      ]
     },
     "execution_count": 57,
     "metadata": {},
     "output_type": "execute_result"
    }
   ],
   "source": [
    "rimodel_labels[:100]"
   ]
  },
  {
   "cell_type": "code",
   "execution_count": 63,
   "metadata": {},
   "outputs": [
    {
     "data": {
      "text/plain": [
       "673"
      ]
     },
     "execution_count": 63,
     "metadata": {},
     "output_type": "execute_result"
    }
   ],
   "source": [
    "np.max(rimodel_labels)"
   ]
  },
  {
   "cell_type": "code",
   "execution_count": 71,
   "metadata": {},
   "outputs": [
    {
     "data": {
      "text/plain": [
       "array([  0,   6,  14,  21,  33,  37,  44,  59,  65, 155, 178, 262, 263,\n",
       "       281, 302, 319, 403, 483, 484, 505, 512, 528, 529, 536, 556, 597,\n",
       "       607, 611, 612])"
      ]
     },
     "execution_count": 71,
     "metadata": {},
     "output_type": "execute_result"
    }
   ],
   "source": [
    "np.where(rimodel_labels == 578)[0]//4"
   ]
  },
  {
   "cell_type": "markdown",
   "metadata": {},
   "source": [
    "After debugging of selected index "
   ]
  },
  {
   "cell_type": "code",
   "execution_count": 73,
   "metadata": {},
   "outputs": [
    {
     "name": "stdout",
     "output_type": "stream",
     "text": [
      "Begin loading result files\n",
      "Begin loading result files\n",
      "Begin loading result files\n",
      "Begin loading result files\n",
      "Begin loading result files\n",
      "Begin loading result files\n",
      "Begin loading result files\n",
      "Begin loading result files\n"
     ]
    }
   ],
   "source": [
    "scoresRI = []\n",
    "for cexpname, nclusters in zip(\n",
    "    [4591360, 4591361, 4591362,4591363,4591364, 4591365, 4591366,4591359],\n",
    "    [2,4,8,16,32,64,128,256]\n",
    "    ):\n",
    "    tmp_score = file_getter(basedatadir=basedatadir, expname='67011582', cexpname=str(cexpname),\n",
    "                          nclusters=nclusters, score_only=True)\n",
    "    scoresRI.append(tmp_score)"
   ]
  },
  {
   "cell_type": "code",
   "execution_count": 74,
   "metadata": {},
   "outputs": [
    {
     "data": {
      "text/plain": [
       "[{'nclusters-2': {'ami': -0.0003187614035202872, 'cls': 0.0, 'hs': 0.0}},\n",
       " {'nclusters-4': {'ami': -0.0012338901741523265,\n",
       "   'cls': 1.6017132519074586e-16,\n",
       "   'hs': 1.6726832409356116e-16}},\n",
       " {'nclusters-8': {'ami': 0.2371615569549225,\n",
       "   'cls': 0.2285255201999385,\n",
       "   'hs': 0.2546356478011065}},\n",
       " {'nclusters-16': {'ami': 0.2868797017755245,\n",
       "   'cls': 0.28999011436304134,\n",
       "   'hs': 0.30946702197881837}},\n",
       " {'nclusters-32': {'ami': 0.36934627648230267,\n",
       "   'cls': 0.3961926336582112,\n",
       "   'hs': 0.4173295135427449}},\n",
       " {'nclusters-64': {'ami': 0.392455738298038,\n",
       "   'cls': 0.4791146875565044,\n",
       "   'hs': 0.49484173270304715}},\n",
       " {'nclusters-128': {'ami': 0.37965359793293607,\n",
       "   'cls': 0.5620717915066537,\n",
       "   'hs': 0.5785309653574207}},\n",
       " {'nclusters-256': {'ami': 0.3249241553894448,\n",
       "   'cls': 0.6398029584166206,\n",
       "   'hs': 0.6525864333600652}}]"
      ]
     },
     "execution_count": 74,
     "metadata": {},
     "output_type": "execute_result"
    }
   ],
   "source": [
    "scoresRI "
   ]
  },
  {
   "cell_type": "code",
   "execution_count": 77,
   "metadata": {},
   "outputs": [
    {
     "name": "stdout",
     "output_type": "stream",
     "text": [
      "Begin loading result files\n"
     ]
    },
    {
     "data": {
      "text/plain": [
       "{'nclusters-300': {'ami': -0.016010367780507573,\n",
       "  'nmi': 0.5224396879957052,\n",
       "  'cls': 0.538280117350661,\n",
       "  'hs': 0.507504907072814,\n",
       "  'ars': -0.003850189810453388}}"
      ]
     },
     "execution_count": 77,
     "metadata": {},
     "output_type": "execute_result"
    }
   ],
   "source": [
    "# copy size increase from 4 to 12\n",
    "scoreRI300 = file_getter(basedatadir=basedatadir, expname='67011582', cexpname=\"4595995\",\n",
    "                          nclusters=300, score_only=True)\n",
    "scoreRI300"
   ]
  },
  {
   "cell_type": "code",
   "execution_count": 79,
   "metadata": {},
   "outputs": [
    {
     "name": "stdout",
     "output_type": "stream",
     "text": [
      "Begin loading result files\n"
     ]
    },
    {
     "data": {
      "text/plain": [
       "{'nclusters-300': {'ami': 0.08048845589254608,\n",
       "  'nmi': 0.4691174533448532,\n",
       "  'cls': 0.47970336474892916,\n",
       "  'hs': 0.4589886660334527,\n",
       "  'ars': 0.01260017657611253}}"
      ]
     },
     "execution_count": 79,
     "metadata": {},
     "output_type": "execute_result"
    }
   ],
   "source": [
    "# copy size increase from 12 to 24\n",
    "scoreRI300 = file_getter(basedatadir=basedatadir, expname='67011582', cexpname=\"4596305\",\n",
    "                          nclusters=300, score_only=True)\n",
    "scoreRI300"
   ]
  },
  {
   "cell_type": "code",
   "execution_count": 83,
   "metadata": {},
   "outputs": [
    {
     "name": "stdout",
     "output_type": "stream",
     "text": [
      "Begin loading result files\n",
      "Begin loading result files\n",
      "Begin loading result files\n",
      "Begin loading result files\n",
      "Begin loading result files\n",
      "Begin loading result files\n",
      "Begin loading result files\n"
     ]
    }
   ],
   "source": [
    "scoresRI = []\n",
    "for cexpname, nclusters in zip(\n",
    "    [4596433,4596434,4596479,4596481,4596507,4596513,4596432],\n",
    "    [2,4,8,16,32,64,128]\n",
    "    ):\n",
    "    tmp_score = file_getter(basedatadir=basedatadir, expname='67011582', cexpname=str(cexpname),\n",
    "                          nclusters=nclusters, score_only=True)\n",
    "    scoresRI.append(tmp_score)"
   ]
  },
  {
   "cell_type": "code",
   "execution_count": 84,
   "metadata": {},
   "outputs": [
    {
     "data": {
      "text/plain": [
       "[{'nclusters-2': {'ami': -0.00010393628141146943,\n",
       "   'nmi': 3.438735347612704e-08,\n",
       "   'cls': 3.383067363938149e-08,\n",
       "   'hs': 3.4962660018309707e-08,\n",
       "   'ars': -0.00010748196611937699}},\n",
       " {'nclusters-4': {'ami': -8.061710320814813e-05,\n",
       "   'nmi': 0.00040254349569967195,\n",
       "   'cls': 0.0003812375531387048,\n",
       "   'hs': 0.0004263718240421079,\n",
       "   'ars': -0.0002964264207650843}},\n",
       " {'nclusters-8': {'ami': 0.09040616516847451,\n",
       "   'nmi': 0.09205709610453243,\n",
       "   'cls': 0.08515839122957922,\n",
       "   'hs': 0.10017206266333763,\n",
       "   'ars': 0.05496634724730505}},\n",
       " {'nclusters-16': {'ami': 0.17643446182834527,\n",
       "   'nmi': 0.18150740921904535,\n",
       "   'cls': 0.17373826822137634,\n",
       "   'hs': 0.19000390900748876,\n",
       "   'ars': 0.07659856549735698}},\n",
       " {'nclusters-32': {'ami': 0.2051621427401649,\n",
       "   'nmi': 0.2227250937085756,\n",
       "   'cls': 0.21251787666856842,\n",
       "   'hs': 0.233962283958033,\n",
       "   'ars': 0.06302294169651051}},\n",
       " {'nclusters-64': {'ami': 0.22595606407249735,\n",
       "   'nmi': 0.2839857444953736,\n",
       "   'cls': 0.26925407510923055,\n",
       "   'hs': 0.3004227418056818,\n",
       "   'ars': 0.05572805462423383}},\n",
       " {'nclusters-128': {'ami': 0.2276226188456831,\n",
       "   'nmi': 0.3690389012182532,\n",
       "   'cls': 0.3559244183940581,\n",
       "   'hs': 0.38315679521523244,\n",
       "   'ars': 0.04756102207483502}}]"
      ]
     },
     "execution_count": 84,
     "metadata": {},
     "output_type": "execute_result"
    }
   ],
   "source": [
    "scoresRI"
   ]
  },
  {
   "cell_type": "markdown",
   "metadata": {},
   "source": [
    "-------------\n",
    "#### NRI"
   ]
  },
  {
   "cell_type": "code",
   "execution_count": 22,
   "metadata": {},
   "outputs": [
    {
     "name": "stdout",
     "output_type": "stream",
     "text": [
      "Begin loading result files\n"
     ]
    }
   ],
   "source": [
    "scoreNRI2000 = file_getter(basedatadir=basedatadir,\n",
    "                           expname='m2_02_global_2000_2018_band28_29_31', cexpname=\"4583443\",\n",
    "                           nclusters=2000, score_only=True)"
   ]
  },
  {
   "cell_type": "code",
   "execution_count": 24,
   "metadata": {},
   "outputs": [
    {
     "data": {
      "text/plain": [
       "{'nclusters-2000': {'ami': 0.3396396788708435,\n",
       "  'cls': 0.8894683429034593,\n",
       "  'hs': 0.750603589555923}}"
      ]
     },
     "execution_count": 24,
     "metadata": {},
     "output_type": "execute_result"
    }
   ],
   "source": [
    "scoreNRI2000"
   ]
  },
  {
   "cell_type": "code",
   "execution_count": 23,
   "metadata": {},
   "outputs": [
    {
     "name": "stdout",
     "output_type": "stream",
     "text": [
      "Begin loading result files\n"
     ]
    }
   ],
   "source": [
    "scoreNRI100 = file_getter(basedatadir=basedatadir,\n",
    "                           expname='m2_02_global_2000_2018_band28_29_31', cexpname=\"4583475\",\n",
    "                           nclusters=100, score_only=True)"
   ]
  },
  {
   "cell_type": "code",
   "execution_count": 26,
   "metadata": {},
   "outputs": [
    {
     "data": {
      "text/plain": [
       "{'nclusters-100': {'ami': 0.6400035633954669,\n",
       "  'cls': 0.6671413142366469,\n",
       "  'hs': 0.6935826582810746}}"
      ]
     },
     "execution_count": 26,
     "metadata": {},
     "output_type": "execute_result"
    }
   ],
   "source": [
    "scoreNRI100"
   ]
  },
  {
   "cell_type": "code",
   "execution_count": 34,
   "metadata": {},
   "outputs": [
    {
     "name": "stdout",
     "output_type": "stream",
     "text": [
      "Begin loading result files\n",
      "Begin loading result files\n",
      "Begin loading result files\n",
      "Begin loading result files\n",
      "Begin loading result files\n",
      "Begin loading result files\n",
      "Begin loading result files\n",
      "Begin loading result files\n"
     ]
    }
   ],
   "source": [
    "# copy_size 4\n",
    "scoresNRI = []\n",
    "for cexpname, nclusters in zip(\n",
    "    [4586634,4586635,4586636,4586637,4586638,4586639,4586640,4586630],\n",
    "    [2,4,8,16,32,64,128,256]\n",
    "    ):\n",
    "    tmp_score = file_getter(basedatadir=basedatadir, \n",
    "                            expname='m2_02_global_2000_2018_band28_29_31', cexpname=str(cexpname),\n",
    "                          nclusters=nclusters, score_only=True)\n",
    "    scoresNRI.append(tmp_score)"
   ]
  },
  {
   "cell_type": "code",
   "execution_count": 35,
   "metadata": {},
   "outputs": [
    {
     "data": {
      "text/plain": [
       "[{'nclusters-2': {'ami': 0.4128594447505487,\n",
       "   'cls': 0.47886543767205425,\n",
       "   'hs': 0.3633319633431876}},\n",
       " {'nclusters-4': {'ami': 0.7667494909799751,\n",
       "   'cls': 0.7476850590746659,\n",
       "   'hs': 0.7880485465401278}},\n",
       " {'nclusters-8': {'ami': 0.6477535971893129,\n",
       "   'cls': 0.6367982398847724,\n",
       "   'hs': 0.6650142485913162}},\n",
       " {'nclusters-16': {'ami': 0.6606824208484383,\n",
       "   'cls': 0.6583685809797838,\n",
       "   'hs': 0.683374325395819}},\n",
       " {'nclusters-32': {'ami': 0.6727681693574846,\n",
       "   'cls': 0.6863959105393157,\n",
       "   'hs': 0.7180655271574099}},\n",
       " {'nclusters-64': {'ami': 0.7329132118741402,\n",
       "   'cls': 0.7680096277501182,\n",
       "   'hs': 0.7993717226610066}},\n",
       " {'nclusters-128': {'ami': 0.7253333110071576,\n",
       "   'cls': 0.8247853408445397,\n",
       "   'hs': 0.8070757610746954}},\n",
       " {'nclusters-256': {'ami': 0.5981808135158303,\n",
       "   'cls': 0.881317781635395,\n",
       "   'hs': 0.7321460932830813}}]"
      ]
     },
     "execution_count": 35,
     "metadata": {},
     "output_type": "execute_result"
    }
   ],
   "source": [
    "scoresNRI "
   ]
  },
  {
   "cell_type": "code",
   "execution_count": 36,
   "metadata": {},
   "outputs": [
    {
     "name": "stdout",
     "output_type": "stream",
     "text": [
      "Begin loading result files\n"
     ]
    }
   ],
   "source": [
    "scoreNRI10 = file_getter(basedatadir=basedatadir,\n",
    "                           expname='m2_02_global_2000_2018_band28_29_31', cexpname=\"4585656\",\n",
    "                           nclusters=10, score_only=True)"
   ]
  },
  {
   "cell_type": "code",
   "execution_count": 37,
   "metadata": {},
   "outputs": [
    {
     "data": {
      "text/plain": [
       "{'nclusters-10': {'ami': 0.7572164790708689,\n",
       "  'cls': 0.7280917000833951,\n",
       "  'hs': 0.795763362793223}}"
      ]
     },
     "execution_count": 37,
     "metadata": {},
     "output_type": "execute_result"
    }
   ],
   "source": [
    "scoreNRI10"
   ]
  },
  {
   "cell_type": "markdown",
   "metadata": {},
   "source": [
    "--------------\n",
    "#### NRI after left out non structured patches"
   ]
  },
  {
   "cell_type": "code",
   "execution_count": 72,
   "metadata": {},
   "outputs": [
    {
     "name": "stdout",
     "output_type": "stream",
     "text": [
      "Begin loading result files\n"
     ]
    },
    {
     "name": "stderr",
     "output_type": "stream",
     "text": [
      "/software/python-anaconda-2020.02-el7-x86_64/lib/python3.7/site-packages/sklearn/base.py:334: UserWarning: Trying to unpickle estimator AgglomerativeClustering from version 0.23.2 when using version 0.23.1. This might lead to breaking code or invalid results. Use at your own risk.\n",
      "  UserWarning)\n"
     ]
    },
    {
     "data": {
      "text/plain": [
       "{'nclusters-674': {'ami': 0.13615622130444227,\n",
       "  'cls': 0.80655517579,\n",
       "  'hs': 0.7387182640492443}}"
      ]
     },
     "execution_count": 72,
     "metadata": {},
     "output_type": "execute_result"
    }
   ],
   "source": [
    "scoreNRI674, orimodel, rimodel = file_getter(basedatadir=basedatadir,\n",
    "                            expname='m2_02_global_2000_2018_band28_29_31', cexpname=\"4591099\",\n",
    "                            nclusters=674, score_only=False)\n",
    "scoreNRI674"
   ]
  },
  {
   "cell_type": "markdown",
   "metadata": {},
   "source": [
    "After debugging "
   ]
  },
  {
   "cell_type": "code",
   "execution_count": 75,
   "metadata": {},
   "outputs": [
    {
     "name": "stdout",
     "output_type": "stream",
     "text": [
      "Begin loading result files\n",
      "Begin loading result files\n",
      "Begin loading result files\n",
      "Begin loading result files\n",
      "Begin loading result files\n",
      "Begin loading result files\n",
      "Begin loading result files\n",
      "Begin loading result files\n"
     ]
    }
   ],
   "source": [
    "scoresNRI = []\n",
    "for cexpname, nclusters in zip(\n",
    "    [4591373,4591429,4591449,4591450,4591451,4591452,4591587,4591372 ],\n",
    "    [2,4,8,16,32,64,128,256]\n",
    "    ):\n",
    "    tmp_score = file_getter(basedatadir=basedatadir, \n",
    "                            expname='m2_02_global_2000_2018_band28_29_31', cexpname=str(cexpname),\n",
    "                          nclusters=nclusters, score_only=True)\n",
    "    scoresNRI.append(tmp_score)"
   ]
  },
  {
   "cell_type": "code",
   "execution_count": 76,
   "metadata": {},
   "outputs": [
    {
     "data": {
      "text/plain": [
       "[{'nclusters-2': {'ami': 0.6345534910991922,\n",
       "   'cls': 0.6243102293391076,\n",
       "   'hs': 0.6453455036011481}},\n",
       " {'nclusters-4': {'ami': 0.49519415777385545,\n",
       "   'cls': 0.50291832107349,\n",
       "   'hs': 0.48897604689229973}},\n",
       " {'nclusters-8': {'ami': 0.4234319868539766,\n",
       "   'cls': 0.4334429667685152,\n",
       "   'hs': 0.41908500382967107}},\n",
       " {'nclusters-16': {'ami': 0.4174203241392342,\n",
       "   'cls': 0.4303661031763206,\n",
       "   'hs': 0.4237860791018749}},\n",
       " {'nclusters-32': {'ami': 0.4136720532550572,\n",
       "   'cls': 0.44784490276575956,\n",
       "   'hs': 0.4495099159397826}},\n",
       " {'nclusters-64': {'ami': 0.4235108582888609,\n",
       "   'cls': 0.514021114901282,\n",
       "   'hs': 0.5251646761032006}},\n",
       " {'nclusters-128': {'ami': 0.41570301231502427,\n",
       "   'cls': 0.5873827361268931,\n",
       "   'hs': 0.6115586157904154}},\n",
       " {'nclusters-256': {'ami': 0.3806636412411501,\n",
       "   'cls': 0.6776555603769518,\n",
       "   'hs': 0.6829078622547784}}]"
      ]
     },
     "execution_count": 76,
     "metadata": {},
     "output_type": "execute_result"
    }
   ],
   "source": [
    "scoresNRI"
   ]
  },
  {
   "cell_type": "code",
   "execution_count": 78,
   "metadata": {},
   "outputs": [
    {
     "name": "stdout",
     "output_type": "stream",
     "text": [
      "Begin loading result files\n"
     ]
    },
    {
     "data": {
      "text/plain": [
       "{'nclusters-300': {'ami': 0.19720699847391798,\n",
       "  'nmi': 0.6107663706735132,\n",
       "  'cls': 0.6371547883788087,\n",
       "  'hs': 0.5864768323858783,\n",
       "  'ars': 0.05756680248680777}}"
      ]
     },
     "execution_count": 78,
     "metadata": {},
     "output_type": "execute_result"
    }
   ],
   "source": [
    "### copy_size = 12\n",
    "scoreNRI300, orimodel, rimodel = file_getter(basedatadir=basedatadir,\n",
    "                            expname='m2_02_global_2000_2018_band28_29_31', cexpname=\"4596123\",\n",
    "                            nclusters=300, score_only=False)\n",
    "scoreNRI300"
   ]
  },
  {
   "cell_type": "code",
   "execution_count": 80,
   "metadata": {},
   "outputs": [
    {
     "name": "stdout",
     "output_type": "stream",
     "text": [
      "Begin loading result files\n"
     ]
    },
    {
     "data": {
      "text/plain": [
       "{'nclusters-300': {'ami': 0.24760808481968782,\n",
       "  'nmi': 0.5609934733133397,\n",
       "  'cls': 0.5766054839125432,\n",
       "  'hs': 0.5462045889378914,\n",
       "  'ars': 0.06051352551642502}}"
      ]
     },
     "execution_count": 80,
     "metadata": {},
     "output_type": "execute_result"
    }
   ],
   "source": [
    "### copy_size = 12\n",
    "scoreNRI300, orimodel, rimodel = file_getter(basedatadir=basedatadir,\n",
    "                            expname='m2_02_global_2000_2018_band28_29_31', cexpname=\"4596308\",\n",
    "                            nclusters=300, score_only=False)\n",
    "scoreNRI300"
   ]
  }
 ],
 "metadata": {
  "kernelspec": {
   "display_name": "Python 3",
   "language": "python",
   "name": "python3"
  },
  "language_info": {
   "codemirror_mode": {
    "name": "ipython",
    "version": 3
   },
   "file_extension": ".py",
   "mimetype": "text/x-python",
   "name": "python",
   "nbconvert_exporter": "python",
   "pygments_lexer": "ipython3",
   "version": "3.7.6"
  }
 },
 "nbformat": 4,
 "nbformat_minor": 4
}
