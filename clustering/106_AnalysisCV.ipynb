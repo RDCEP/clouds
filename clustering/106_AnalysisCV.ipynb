{
 "cells": [
  {
   "cell_type": "markdown",
   "metadata": {},
   "source": [
    "### Notebook for cross validation "
   ]
  },
  {
   "cell_type": "code",
   "execution_count": 1,
   "metadata": {},
   "outputs": [],
   "source": [
    "import os\n",
    "import glob\n",
    "import numpy as np\n",
    "import pandas as pd\n",
    "import matplotlib.pyplot as plt"
   ]
  },
  {
   "cell_type": "code",
   "execution_count": 2,
   "metadata": {},
   "outputs": [],
   "source": [
    "import pickle"
   ]
  },
  {
   "cell_type": "markdown",
   "metadata": {},
   "source": [
    "#### Load results pickle"
   ]
  },
  {
   "cell_type": "code",
   "execution_count": 3,
   "metadata": {},
   "outputs": [],
   "source": [
    "def _read_pickle(filename):\n",
    "    with open(filename, 'rb') as handle:\n",
    "        d = pickle.load(handle)\n",
    "    return d"
   ]
  },
  {
   "cell_type": "code",
   "execution_count": 4,
   "metadata": {},
   "outputs": [],
   "source": [
    "def read_files(base_datadir=None, expname=None, clf_keys=[], cv=None):\n",
    "    dicts = {}\n",
    "    for clf_key in clf_keys:\n",
    "        datadir = os.path.join(base_datadir,\"{}/cv-{}/{}\".format(str(expname), str(cv), clf_key) )\n",
    "        filelist = glob.glob(os.path.join(datadir, \"*.pkl\"))\n",
    "        tmp_list = []\n",
    "        for ifile in filelist:\n",
    "            #print((_read_pickle(ifile)))\n",
    "            tmp_list.append(_read_pickle(ifile))\n",
    "        dicts[clf_key] = tmp_list\n",
    "    return dicts"
   ]
  },
  {
   "cell_type": "code",
   "execution_count": 25,
   "metadata": {},
   "outputs": [],
   "source": [
    "# RI autoencoder\n",
    "ri_dicts = read_files(base_datadir='./cross_validation_index6_ri', expname='67011582',\n",
    "                      clf_keys=['SVM',], cv=3,\n",
    "                     )\n",
    "#['SVM', \"MLP\", \"RF\", \"ADABOOST\"]"
   ]
  },
  {
   "cell_type": "code",
   "execution_count": 26,
   "metadata": {},
   "outputs": [],
   "source": [
    "# NRI autoencoder\n",
    "nri_dicts = read_files(base_datadir='./cross_validation_index6_ri', expname='m2_02_global_2000_2018_band28_29_31',\n",
    "                      clf_keys=['SVM',], cv=3,\n",
    "                     )"
   ]
  },
  {
   "cell_type": "code",
   "execution_count": 105,
   "metadata": {},
   "outputs": [
    {
     "data": {
      "text/plain": [
       "dict_keys(['idx-955', 'idx-1514', 'idx-1505', 'idx-1510', 'idx-1555'])"
      ]
     },
     "execution_count": 105,
     "metadata": {},
     "output_type": "execute_result"
    }
   ],
   "source": [
    "ri_dicts['SVM'][1].keys()"
   ]
  },
  {
   "cell_type": "markdown",
   "metadata": {},
   "source": [
    "#### Analysis\n",
    "  'test_accuracy',\n",
    "  'test_precision',\n",
    "  'test_recall',\n",
    "  'test_f1'"
   ]
  },
  {
   "cell_type": "code",
   "execution_count": 8,
   "metadata": {},
   "outputs": [],
   "source": [
    "def decode_dict(dicts={}, clf_keys=[], nfiles=4):\n",
    "\n",
    "    result_dicts = {}\n",
    "    for clf_key in clf_keys:\n",
    "        accs = []\n",
    "        precisions = []\n",
    "        recalls = []\n",
    "        f1s = []\n",
    "        for i in range(nfiles):\n",
    "            ind = dicts[clf_key][i]    \n",
    "            for idx in ind.keys():\n",
    "                for item in dicts[clf_key][i][idx].keys():\n",
    "                    if  item == 'test_accuracy':\n",
    "                        accs.append(np.mean(dicts[clf_key][i][idx][item]))\n",
    "                    elif item  ==  'test_precision':\n",
    "                        precisions.append(np.mean(dicts[clf_key][i][idx][item]))\n",
    "                    elif item  ==  'test_recall':\n",
    "                        recalls.append(np.mean(dicts[clf_key][i][idx][item]))\n",
    "                    elif item  == 'test_f1':\n",
    "                        f1s.append(np.mean(dicts[clf_key][i][idx][item]))\n",
    "        result_dicts[clf_key+'-acc'] = accs #np.concatenate(accs)\n",
    "        result_dicts[clf_key+'-precision'] = precisions #np.concatenate(precisions)\n",
    "        result_dicts[clf_key+'-recall'] = recalls #np.concatenate(recalls)\n",
    "        result_dicts[clf_key+'-f1'] =f1s #np.concatenate(f1s)\n",
    "    return result_dicts"
   ]
  },
  {
   "cell_type": "code",
   "execution_count": 27,
   "metadata": {},
   "outputs": [],
   "source": [
    "ri_results = decode_dict(ri_dicts,clf_keys=['SVM'], nfiles=4)"
   ]
  },
  {
   "cell_type": "code",
   "execution_count": 28,
   "metadata": {},
   "outputs": [],
   "source": [
    "nri_results = decode_dict(nri_dicts,clf_keys=['SVM'], nfiles=4 )"
   ]
  },
  {
   "cell_type": "code",
   "execution_count": 18,
   "metadata": {},
   "outputs": [
    {
     "data": {
      "text/plain": [
       "dict_keys(['SVM-acc', 'SVM-precision', 'SVM-recall', 'SVM-f1', 'MLP-acc', 'MLP-precision', 'MLP-recall', 'MLP-f1', 'RF-acc', 'RF-precision', 'RF-recall', 'RF-f1', 'ADABOOST-acc', 'ADABOOST-precision', 'ADABOOST-recall', 'ADABOOST-f1'])"
      ]
     },
     "execution_count": 18,
     "metadata": {},
     "output_type": "execute_result"
    }
   ],
   "source": [
    "ri_results.keys()"
   ]
  },
  {
   "cell_type": "code",
   "execution_count": 31,
   "metadata": {},
   "outputs": [
    {
     "data": {
      "text/plain": [
       "([1.0,\n",
       "  0.975,\n",
       "  1.0,\n",
       "  0.9638888888888889,\n",
       "  1.0,\n",
       "  0.9722222222222222,\n",
       "  1.0,\n",
       "  1.0,\n",
       "  1.0,\n",
       "  0.9555555555555556,\n",
       "  0.7694444444444444,\n",
       "  1.0,\n",
       "  1.0,\n",
       "  1.0,\n",
       "  1.0,\n",
       "  0.975,\n",
       "  0.9833333333333334,\n",
       "  1.0,\n",
       "  0.9638888888888889,\n",
       "  1.0],\n",
       " [1.0,\n",
       "  1.0,\n",
       "  1.0,\n",
       "  1.0,\n",
       "  1.0,\n",
       "  1.0,\n",
       "  1.0,\n",
       "  0.8736111111111112,\n",
       "  1.0,\n",
       "  1.0,\n",
       "  1.0,\n",
       "  1.0,\n",
       "  0.8736111111111112,\n",
       "  1.0,\n",
       "  1.0,\n",
       "  0.7999999999999999,\n",
       "  1.0,\n",
       "  1.0,\n",
       "  1.0,\n",
       "  1.0])"
      ]
     },
     "execution_count": 31,
     "metadata": {},
     "output_type": "execute_result"
    }
   ],
   "source": [
    "ri_results['SVM-acc'], nri_results['SVM-acc'],"
   ]
  },
  {
   "cell_type": "code",
   "execution_count": 36,
   "metadata": {},
   "outputs": [
    {
     "data": {
      "text/plain": [
       "[1.0,\n",
       " 1.0,\n",
       " 1.0,\n",
       " 1.0,\n",
       " 0.9902777777777777,\n",
       " 0.6666666666666666,\n",
       " 1.0,\n",
       " 1.0,\n",
       " 1.0,\n",
       " 0.9986111111111112,\n",
       " 1.0,\n",
       " 1.0,\n",
       " 1.0,\n",
       " 1.0,\n",
       " 0.8513888888888889]"
      ]
     },
     "execution_count": 36,
     "metadata": {},
     "output_type": "execute_result"
    }
   ],
   "source": [
    "ri_results['SVM-acc']"
   ]
  },
  {
   "cell_type": "code",
   "execution_count": 37,
   "metadata": {},
   "outputs": [
    {
     "data": {
      "text/plain": [
       "[1.0,\n",
       " 0.6263888888888889,\n",
       " 1.0,\n",
       " 1.0,\n",
       " 0.6152777777777777,\n",
       " 1.0,\n",
       " 1.0,\n",
       " 1.0,\n",
       " 1.0,\n",
       " 1.0,\n",
       " 1.0,\n",
       " 1.0,\n",
       " 1.0,\n",
       " 1.0,\n",
       " 0.9194444444444444]"
      ]
     },
     "execution_count": 37,
     "metadata": {},
     "output_type": "execute_result"
    }
   ],
   "source": [
    "nri_results['SVM-acc']"
   ]
  },
  {
   "cell_type": "code",
   "execution_count": 66,
   "metadata": {
    "scrolled": false
   },
   "outputs": [
    {
     "data": {
      "text/plain": [
       "[{'idx-759-1159': {'fit_time': array([0.07086301, 0.0743084 , 0.08173037]),\n",
       "   'score_time': array([0.04626918, 0.04580951, 0.04675221]),\n",
       "   'test_accuracy': array([1., 1., 1.]),\n",
       "   'test_precision': array([1., 1., 1.]),\n",
       "   'test_recall': array([1., 1., 1.]),\n",
       "   'test_f1': array([1., 1., 1.]),\n",
       "   'test_average_precision': array([1., 1., 1.]),\n",
       "   'test_roc_auc': array([1., 1., 1.])},\n",
       "  'idx-805-1159': {'fit_time': array([0.06824231, 0.06885743, 0.06908989]),\n",
       "   'score_time': array([0.04603481, 0.04568362, 0.04725599]),\n",
       "   'test_accuracy': array([1., 1., 1.]),\n",
       "   'test_precision': array([1., 1., 1.]),\n",
       "   'test_recall': array([1., 1., 1.]),\n",
       "   'test_f1': array([1., 1., 1.]),\n",
       "   'test_average_precision': array([1., 1., 1.]),\n",
       "   'test_roc_auc': array([1., 1., 1.])},\n",
       "  'idx-1159-1607': {'fit_time': array([0.06670809, 0.06624913, 0.06014323]),\n",
       "   'score_time': array([0.04269934, 0.04781055, 0.04501057]),\n",
       "   'test_accuracy': array([1., 1., 1.]),\n",
       "   'test_precision': array([1., 1., 1.]),\n",
       "   'test_recall': array([1., 1., 1.]),\n",
       "   'test_f1': array([1., 1., 1.]),\n",
       "   'test_average_precision': array([1., 1., 1.]),\n",
       "   'test_roc_auc': array([1., 1., 1.])},\n",
       "  'idx-1607-1999': {'fit_time': array([0.0800693 , 0.07658434, 0.06921673]),\n",
       "   'score_time': array([0.05015683, 0.05117989, 0.04726219]),\n",
       "   'test_accuracy': array([1., 1., 1.]),\n",
       "   'test_precision': array([1., 1., 1.]),\n",
       "   'test_recall': array([1., 1., 1.]),\n",
       "   'test_f1': array([1., 1., 1.]),\n",
       "   'test_average_precision': array([1., 1., 1.]),\n",
       "   'test_roc_auc': array([1., 1., 1.])}},\n",
       " {'idx-759-805': {'fit_time': array([0.0897193 , 0.06980395, 0.08415198]),\n",
       "   'score_time': array([0.05120635, 0.04679275, 0.04845119]),\n",
       "   'test_accuracy': array([1.        , 0.97083333, 1.        ]),\n",
       "   'test_precision': array([1.        , 0.94488189, 1.        ]),\n",
       "   'test_recall': array([1., 1., 1.]),\n",
       "   'test_f1': array([1.        , 0.97165992, 1.        ]),\n",
       "   'test_average_precision': array([1., 1., 1.]),\n",
       "   'test_roc_auc': array([1., 1., 1.])},\n",
       "  'idx-759-1999': {'fit_time': array([0.07949305, 0.08013439, 0.08303094]),\n",
       "   'score_time': array([0.05107546, 0.05059457, 0.056566  ]),\n",
       "   'test_accuracy': array([0.61666667, 0.65833333, 0.725     ]),\n",
       "   'test_precision': array([0.62727273, 0.62837838, 0.64516129]),\n",
       "   'test_recall': array([0.575, 0.775, 1.   ]),\n",
       "   'test_f1': array([0.6       , 0.69402985, 0.78431373]),\n",
       "   'test_average_precision': array([0.78331612, 0.74789394, 0.80742446]),\n",
       "   'test_roc_auc': array([0.7425    , 0.7375    , 0.80055556])},\n",
       "  'idx-805-1999': {'fit_time': array([0.07090139, 0.07422543, 0.0799408 ]),\n",
       "   'score_time': array([0.04721212, 0.04744768, 0.0532856 ]),\n",
       "   'test_accuracy': array([1., 1., 1.]),\n",
       "   'test_precision': array([1., 1., 1.]),\n",
       "   'test_recall': array([1., 1., 1.]),\n",
       "   'test_f1': array([1., 1., 1.]),\n",
       "   'test_average_precision': array([1., 1., 1.]),\n",
       "   'test_roc_auc': array([1., 1., 1.])},\n",
       "  'idx-1607-1648': {'fit_time': array([0.07191563, 0.0589633 , 0.06950688]),\n",
       "   'score_time': array([0.04619622, 0.04056907, 0.04362988]),\n",
       "   'test_accuracy': array([1., 1., 1.]),\n",
       "   'test_precision': array([1., 1., 1.]),\n",
       "   'test_recall': array([1., 1., 1.]),\n",
       "   'test_f1': array([1., 1., 1.]),\n",
       "   'test_average_precision': array([1., 1., 1.]),\n",
       "   'test_roc_auc': array([1., 1., 1.])}},\n",
       " {'idx-759-1607': {'fit_time': array([0.1188941 , 0.13277102, 0.13759351]),\n",
       "   'score_time': array([0.0675683 , 0.08203197, 0.08297873]),\n",
       "   'test_accuracy': array([1., 1., 1.]),\n",
       "   'test_precision': array([1., 1., 1.]),\n",
       "   'test_recall': array([1., 1., 1.]),\n",
       "   'test_f1': array([1., 1., 1.]),\n",
       "   'test_average_precision': array([1., 1., 1.]),\n",
       "   'test_roc_auc': array([1., 1., 1.])},\n",
       "  'idx-805-1607': {'fit_time': array([0.12023258, 0.12120843, 0.11684346]),\n",
       "   'score_time': array([0.08000159, 0.07782841, 0.07753682]),\n",
       "   'test_accuracy': array([0.99583333, 1.        , 1.        ]),\n",
       "   'test_precision': array([1., 1., 1.]),\n",
       "   'test_recall': array([0.99166667, 1.        , 1.        ]),\n",
       "   'test_f1': array([0.9958159, 1.       , 1.       ]),\n",
       "   'test_average_precision': array([1., 1., 1.]),\n",
       "   'test_roc_auc': array([1., 1., 1.])},\n",
       "  'idx-1159-1648': {'fit_time': array([0.12104082, 0.11892319, 0.10054684]),\n",
       "   'score_time': array([0.06635189, 0.07561445, 0.06063843]),\n",
       "   'test_accuracy': array([1., 1., 1.]),\n",
       "   'test_precision': array([1., 1., 1.]),\n",
       "   'test_recall': array([1., 1., 1.]),\n",
       "   'test_f1': array([1., 1., 1.]),\n",
       "   'test_average_precision': array([1., 1., 1.]),\n",
       "   'test_roc_auc': array([1., 1., 1.])},\n",
       "  'idx-1648-1999': {'fit_time': array([0.09860301, 0.08587265, 0.08604431]),\n",
       "   'score_time': array([0.07445741, 0.07109857, 0.07429647]),\n",
       "   'test_accuracy': array([1., 1., 1.]),\n",
       "   'test_precision': array([1., 1., 1.]),\n",
       "   'test_recall': array([1., 1., 1.]),\n",
       "   'test_f1': array([1., 1., 1.]),\n",
       "   'test_average_precision': array([1., 1., 1.]),\n",
       "   'test_roc_auc': array([1., 1., 1.])}},\n",
       " {'idx-759-1648': {'fit_time': array([0.10570168, 0.10495067, 0.09981751]),\n",
       "   'score_time': array([0.0747683 , 0.0615499 , 0.07066321]),\n",
       "   'test_accuracy': array([1., 1., 1.]),\n",
       "   'test_precision': array([1., 1., 1.]),\n",
       "   'test_recall': array([1., 1., 1.]),\n",
       "   'test_f1': array([1., 1., 1.]),\n",
       "   'test_average_precision': array([1., 1., 1.]),\n",
       "   'test_roc_auc': array([1., 1., 1.])},\n",
       "  'idx-805-1648': {'fit_time': array([0.17070341, 0.09884095, 0.10109067]),\n",
       "   'score_time': array([0.08148861, 0.06322527, 0.06521463]),\n",
       "   'test_accuracy': array([1., 1., 1.]),\n",
       "   'test_precision': array([1., 1., 1.]),\n",
       "   'test_recall': array([1., 1., 1.]),\n",
       "   'test_f1': array([1., 1., 1.]),\n",
       "   'test_average_precision': array([1., 1., 1.]),\n",
       "   'test_roc_auc': array([1., 1., 1.])},\n",
       "  'idx-1159-1999': {'fit_time': array([0.23163843, 0.16358185, 0.15818906]),\n",
       "   'score_time': array([0.11432123, 0.11636877, 0.10050869]),\n",
       "   'test_accuracy': array([0.99166667, 0.6875    , 0.875     ]),\n",
       "   'test_precision': array([0.98360656, 0.6618705 , 0.8       ]),\n",
       "   'test_recall': array([1.        , 0.76666667, 1.        ]),\n",
       "   'test_f1': array([0.99173554, 0.71042471, 0.88888889]),\n",
       "   'test_average_precision': array([1.        , 0.86026927, 1.        ]),\n",
       "   'test_roc_auc': array([1.        , 0.83645833, 1.        ])}}]"
      ]
     },
     "execution_count": 66,
     "metadata": {},
     "output_type": "execute_result"
    }
   ],
   "source": [
    "ri_dicts['SVM']"
   ]
  },
  {
   "cell_type": "code",
   "execution_count": 67,
   "metadata": {
    "scrolled": false
   },
   "outputs": [
    {
     "data": {
      "text/plain": [
       "[{'idx-759-805': {'fit_time': array([1.43138099, 1.58870769, 1.44305754]),\n",
       "   'score_time': array([1.04209685, 1.09171963, 1.02049327]),\n",
       "   'test_accuracy': array([1., 1., 1.]),\n",
       "   'test_precision': array([1., 1., 1.]),\n",
       "   'test_recall': array([1., 1., 1.]),\n",
       "   'test_f1': array([1., 1., 1.]),\n",
       "   'test_average_precision': array([1., 1., 1.]),\n",
       "   'test_roc_auc': array([1., 1., 1.])},\n",
       "  'idx-759-1999': {'fit_time': array([1.70618439, 1.75574851, 1.49271393]),\n",
       "   'score_time': array([1.25534749, 1.25032616, 1.07430553]),\n",
       "   'test_accuracy': array([0.6375    , 0.6125    , 0.62916667]),\n",
       "   'test_precision': array([0.57971014, 0.56338028, 0.57416268]),\n",
       "   'test_recall': array([1., 1., 1.]),\n",
       "   'test_f1': array([0.73394495, 0.72072072, 0.72948328]),\n",
       "   'test_average_precision': array([0.76937977, 0.94639705, 0.74127415]),\n",
       "   'test_roc_auc': array([0.78486111, 0.94201389, 0.75951389])},\n",
       "  'idx-805-1999': {'fit_time': array([1.61238384, 1.50576282, 1.47206998]),\n",
       "   'score_time': array([1.10618401, 1.08311486, 1.1068666 ]),\n",
       "   'test_accuracy': array([1., 1., 1.]),\n",
       "   'test_precision': array([1., 1., 1.]),\n",
       "   'test_recall': array([1., 1., 1.]),\n",
       "   'test_f1': array([1., 1., 1.]),\n",
       "   'test_average_precision': array([1., 1., 1.]),\n",
       "   'test_roc_auc': array([1., 1., 1.])},\n",
       "  'idx-1607-1648': {'fit_time': array([1.1626966 , 1.02323318, 1.06341696]),\n",
       "   'score_time': array([0.84672713, 0.72938085, 0.87956977]),\n",
       "   'test_accuracy': array([1., 1., 1.]),\n",
       "   'test_precision': array([1., 1., 1.]),\n",
       "   'test_recall': array([1., 1., 1.]),\n",
       "   'test_f1': array([1., 1., 1.]),\n",
       "   'test_average_precision': array([1., 1., 1.]),\n",
       "   'test_roc_auc': array([1., 1., 1.])}},\n",
       " {'idx-759-1159': {'fit_time': array([1.50774288, 1.36956859, 1.49095035]),\n",
       "   'score_time': array([1.04352856, 0.99256372, 1.08139634]),\n",
       "   'test_accuracy': array([0.64583333, 0.60416667, 0.59583333]),\n",
       "   'test_precision': array([0.60869565, 0.57961783, 0.57615894]),\n",
       "   'test_recall': array([0.81666667, 0.75833333, 0.725     ]),\n",
       "   'test_f1': array([0.6975089 , 0.65703971, 0.64206642]),\n",
       "   'test_average_precision': array([0.77194989, 0.74597843, 0.7392021 ]),\n",
       "   'test_roc_auc': array([0.73965278, 0.713125  , 0.69694444])},\n",
       "  'idx-805-1159': {'fit_time': array([1.1405313 , 1.26035547, 1.21481109]),\n",
       "   'score_time': array([0.82880878, 0.93233871, 0.91692877]),\n",
       "   'test_accuracy': array([1., 1., 1.]),\n",
       "   'test_precision': array([1., 1., 1.]),\n",
       "   'test_recall': array([1., 1., 1.]),\n",
       "   'test_f1': array([1., 1., 1.]),\n",
       "   'test_average_precision': array([1., 1., 1.]),\n",
       "   'test_roc_auc': array([1., 1., 1.])},\n",
       "  'idx-1159-1607': {'fit_time': array([1.19703794, 0.99611878, 1.07833266]),\n",
       "   'score_time': array([0.87370443, 0.72680569, 0.82430744]),\n",
       "   'test_accuracy': array([1., 1., 1.]),\n",
       "   'test_precision': array([1., 1., 1.]),\n",
       "   'test_recall': array([1., 1., 1.]),\n",
       "   'test_f1': array([1., 1., 1.]),\n",
       "   'test_average_precision': array([1., 1., 1.]),\n",
       "   'test_roc_auc': array([1., 1., 1.])},\n",
       "  'idx-1607-1999': {'fit_time': array([1.71137023, 1.66498637, 1.19278049]),\n",
       "   'score_time': array([1.19226575, 0.9930203 , 0.94255781]),\n",
       "   'test_accuracy': array([1., 1., 1.]),\n",
       "   'test_precision': array([1., 1., 1.]),\n",
       "   'test_recall': array([1., 1., 1.]),\n",
       "   'test_f1': array([1., 1., 1.]),\n",
       "   'test_average_precision': array([1., 1., 1.]),\n",
       "   'test_roc_auc': array([1., 1., 1.])}},\n",
       " {'idx-759-1607': {'fit_time': array([0.84912205, 0.90773368, 0.85323405]),\n",
       "   'score_time': array([0.58315682, 0.64823413, 0.62395716]),\n",
       "   'test_accuracy': array([1., 1., 1.]),\n",
       "   'test_precision': array([1., 1., 1.]),\n",
       "   'test_recall': array([1., 1., 1.]),\n",
       "   'test_f1': array([1., 1., 1.]),\n",
       "   'test_average_precision': array([1., 1., 1.]),\n",
       "   'test_roc_auc': array([1., 1., 1.])},\n",
       "  'idx-805-1607': {'fit_time': array([0.78070641, 0.73198056, 0.75188184]),\n",
       "   'score_time': array([0.52258325, 0.49056101, 0.58389521]),\n",
       "   'test_accuracy': array([1., 1., 1.]),\n",
       "   'test_precision': array([1., 1., 1.]),\n",
       "   'test_recall': array([1., 1., 1.]),\n",
       "   'test_f1': array([1., 1., 1.]),\n",
       "   'test_average_precision': array([1., 1., 1.]),\n",
       "   'test_roc_auc': array([1., 1., 1.])},\n",
       "  'idx-1159-1648': {'fit_time': array([0.91656518, 0.72982407, 0.73949742]),\n",
       "   'score_time': array([0.57750916, 0.50516033, 0.51583815]),\n",
       "   'test_accuracy': array([1., 1., 1.]),\n",
       "   'test_precision': array([1., 1., 1.]),\n",
       "   'test_recall': array([1., 1., 1.]),\n",
       "   'test_f1': array([1., 1., 1.]),\n",
       "   'test_average_precision': array([1., 1., 1.]),\n",
       "   'test_roc_auc': array([1., 1., 1.])},\n",
       "  'idx-1648-1999': {'fit_time': array([0.87076545, 0.80394983, 0.82636285]),\n",
       "   'score_time': array([0.69672728, 0.64523196, 0.67562127]),\n",
       "   'test_accuracy': array([1., 1., 1.]),\n",
       "   'test_precision': array([1., 1., 1.]),\n",
       "   'test_recall': array([1., 1., 1.]),\n",
       "   'test_f1': array([1., 1., 1.]),\n",
       "   'test_average_precision': array([1., 1., 1.]),\n",
       "   'test_roc_auc': array([1., 1., 1.])}},\n",
       " {'idx-759-1648': {'fit_time': array([0.77848649, 0.90921211, 0.90895295]),\n",
       "   'score_time': array([0.59767365, 0.63059759, 0.64430642]),\n",
       "   'test_accuracy': array([1., 1., 1.]),\n",
       "   'test_precision': array([1., 1., 1.]),\n",
       "   'test_recall': array([1., 1., 1.]),\n",
       "   'test_f1': array([1., 1., 1.]),\n",
       "   'test_average_precision': array([1., 1., 1.]),\n",
       "   'test_roc_auc': array([1., 1., 1.])},\n",
       "  'idx-805-1648': {'fit_time': array([0.9121995 , 0.84524226, 1.03856158]),\n",
       "   'score_time': array([0.6473484 , 0.62559342, 0.78779745]),\n",
       "   'test_accuracy': array([1., 1., 1.]),\n",
       "   'test_precision': array([1., 1., 1.]),\n",
       "   'test_recall': array([1., 1., 1.]),\n",
       "   'test_f1': array([1., 1., 1.]),\n",
       "   'test_average_precision': array([1., 1., 1.]),\n",
       "   'test_roc_auc': array([1., 1., 1.])},\n",
       "  'idx-1159-1999': {'fit_time': array([1.19628549, 1.15084291, 1.14215064]),\n",
       "   'score_time': array([0.85247779, 0.81189561, 0.83134651]),\n",
       "   'test_accuracy': array([0.87083333, 0.98333333, 0.90416667]),\n",
       "   'test_precision': array([0.79470199, 0.96774194, 0.83916084]),\n",
       "   'test_recall': array([1., 1., 1.]),\n",
       "   'test_f1': array([0.88560886, 0.98360656, 0.91254753]),\n",
       "   'test_average_precision': array([1., 1., 1.]),\n",
       "   'test_roc_auc': array([1., 1., 1.])}}]"
      ]
     },
     "execution_count": 67,
     "metadata": {},
     "output_type": "execute_result"
    }
   ],
   "source": [
    "nri_dicts['SVM']"
   ]
  },
  {
   "cell_type": "markdown",
   "metadata": {},
   "source": [
    "#### Make pandas frame"
   ]
  },
  {
   "cell_type": "code",
   "execution_count": 11,
   "metadata": {},
   "outputs": [],
   "source": [
    "def stats_df(result_dicts):\n",
    "    data = np.zeros((2,len(result_dicts.keys()) ))\n",
    "    for idx, ikey in enumerate(result_dicts.keys()):\n",
    "        data[0][idx] = np.mean(result_dicts[ikey])\n",
    "        data[1][idx] = np.std(result_dicts[ikey])\n",
    "    df = pd.DataFrame(data)\n",
    "    df.columns = [i for i in result_dicts.keys() ]\n",
    "    df.index = ['mean', 'std']\n",
    "    return df"
   ]
  },
  {
   "cell_type": "code",
   "execution_count": 20,
   "metadata": {},
   "outputs": [],
   "source": [
    "ri_df = stats_df(ri_results)"
   ]
  },
  {
   "cell_type": "code",
   "execution_count": 130,
   "metadata": {},
   "outputs": [
    {
     "data": {
      "text/html": [
       "<div>\n",
       "<style scoped>\n",
       "    .dataframe tbody tr th:only-of-type {\n",
       "        vertical-align: middle;\n",
       "    }\n",
       "\n",
       "    .dataframe tbody tr th {\n",
       "        vertical-align: top;\n",
       "    }\n",
       "\n",
       "    .dataframe thead th {\n",
       "        text-align: right;\n",
       "    }\n",
       "</style>\n",
       "<table border=\"1\" class=\"dataframe\">\n",
       "  <thead>\n",
       "    <tr style=\"text-align: right;\">\n",
       "      <th></th>\n",
       "      <th>SVM-acc</th>\n",
       "      <th>SVM-precision</th>\n",
       "      <th>SVM-recall</th>\n",
       "      <th>SVM-f1</th>\n",
       "      <th>MLP-acc</th>\n",
       "      <th>MLP-precision</th>\n",
       "      <th>MLP-recall</th>\n",
       "      <th>MLP-f1</th>\n",
       "      <th>RF-acc</th>\n",
       "      <th>RF-precision</th>\n",
       "      <th>RF-recall</th>\n",
       "      <th>RF-f1</th>\n",
       "      <th>ADABOOST-acc</th>\n",
       "      <th>ADABOOST-precision</th>\n",
       "      <th>ADABOOST-recall</th>\n",
       "      <th>ADABOOST-f1</th>\n",
       "    </tr>\n",
       "  </thead>\n",
       "  <tbody>\n",
       "    <tr>\n",
       "      <th>mean</th>\n",
       "      <td>0.955819</td>\n",
       "      <td>0.946523</td>\n",
       "      <td>0.984417</td>\n",
       "      <td>0.959915</td>\n",
       "      <td>0.761792</td>\n",
       "      <td>0.803781</td>\n",
       "      <td>0.794972</td>\n",
       "      <td>0.743980</td>\n",
       "      <td>0.621917</td>\n",
       "      <td>0.66233</td>\n",
       "      <td>0.654139</td>\n",
       "      <td>0.602946</td>\n",
       "      <td>0.759514</td>\n",
       "      <td>0.802425</td>\n",
       "      <td>0.778806</td>\n",
       "      <td>0.746152</td>\n",
       "    </tr>\n",
       "    <tr>\n",
       "      <th>std</th>\n",
       "      <td>0.082433</td>\n",
       "      <td>0.106092</td>\n",
       "      <td>0.072699</td>\n",
       "      <td>0.075175</td>\n",
       "      <td>0.175266</td>\n",
       "      <td>0.197899</td>\n",
       "      <td>0.298573</td>\n",
       "      <td>0.231919</td>\n",
       "      <td>0.094289</td>\n",
       "      <td>0.14693</td>\n",
       "      <td>0.278112</td>\n",
       "      <td>0.164397</td>\n",
       "      <td>0.123540</td>\n",
       "      <td>0.159165</td>\n",
       "      <td>0.255191</td>\n",
       "      <td>0.162875</td>\n",
       "    </tr>\n",
       "  </tbody>\n",
       "</table>\n",
       "</div>"
      ],
      "text/plain": [
       "       SVM-acc  SVM-precision  SVM-recall    SVM-f1   MLP-acc  MLP-precision  \\\n",
       "mean  0.955819       0.946523    0.984417  0.959915  0.761792       0.803781   \n",
       "std   0.082433       0.106092    0.072699  0.075175  0.175266       0.197899   \n",
       "\n",
       "      MLP-recall    MLP-f1    RF-acc  RF-precision  RF-recall     RF-f1  \\\n",
       "mean    0.794972  0.743980  0.621917       0.66233   0.654139  0.602946   \n",
       "std     0.298573  0.231919  0.094289       0.14693   0.278112  0.164397   \n",
       "\n",
       "      ADABOOST-acc  ADABOOST-precision  ADABOOST-recall  ADABOOST-f1  \n",
       "mean      0.759514            0.802425         0.778806     0.746152  \n",
       "std       0.123540            0.159165         0.255191     0.162875  "
      ]
     },
     "execution_count": 130,
     "metadata": {},
     "output_type": "execute_result"
    }
   ],
   "source": [
    "# cv-3\n",
    "ri_df"
   ]
  },
  {
   "cell_type": "code",
   "execution_count": 139,
   "metadata": {},
   "outputs": [
    {
     "data": {
      "text/html": [
       "<div>\n",
       "<style scoped>\n",
       "    .dataframe tbody tr th:only-of-type {\n",
       "        vertical-align: middle;\n",
       "    }\n",
       "\n",
       "    .dataframe tbody tr th {\n",
       "        vertical-align: top;\n",
       "    }\n",
       "\n",
       "    .dataframe thead th {\n",
       "        text-align: right;\n",
       "    }\n",
       "</style>\n",
       "<table border=\"1\" class=\"dataframe\">\n",
       "  <thead>\n",
       "    <tr style=\"text-align: right;\">\n",
       "      <th></th>\n",
       "      <th>SVM-acc</th>\n",
       "      <th>SVM-precision</th>\n",
       "      <th>SVM-recall</th>\n",
       "      <th>SVM-f1</th>\n",
       "      <th>MLP-acc</th>\n",
       "      <th>MLP-precision</th>\n",
       "      <th>MLP-recall</th>\n",
       "      <th>MLP-f1</th>\n",
       "      <th>RF-acc</th>\n",
       "      <th>RF-precision</th>\n",
       "      <th>RF-recall</th>\n",
       "      <th>RF-f1</th>\n",
       "      <th>ADABOOST-acc</th>\n",
       "      <th>ADABOOST-precision</th>\n",
       "      <th>ADABOOST-recall</th>\n",
       "      <th>ADABOOST-f1</th>\n",
       "    </tr>\n",
       "  </thead>\n",
       "  <tbody>\n",
       "    <tr>\n",
       "      <th>mean</th>\n",
       "      <td>0.955208</td>\n",
       "      <td>0.950578</td>\n",
       "      <td>0.973889</td>\n",
       "      <td>0.957615</td>\n",
       "      <td>0.800417</td>\n",
       "      <td>0.854316</td>\n",
       "      <td>0.816111</td>\n",
       "      <td>0.781870</td>\n",
       "      <td>0.640139</td>\n",
       "      <td>0.688665</td>\n",
       "      <td>0.671944</td>\n",
       "      <td>0.625542</td>\n",
       "      <td>0.789444</td>\n",
       "      <td>0.817188</td>\n",
       "      <td>0.822222</td>\n",
       "      <td>0.783977</td>\n",
       "    </tr>\n",
       "    <tr>\n",
       "      <th>std</th>\n",
       "      <td>0.080519</td>\n",
       "      <td>0.099336</td>\n",
       "      <td>0.082908</td>\n",
       "      <td>0.077415</td>\n",
       "      <td>0.179563</td>\n",
       "      <td>0.187530</td>\n",
       "      <td>0.285168</td>\n",
       "      <td>0.233146</td>\n",
       "      <td>0.089123</td>\n",
       "      <td>0.151740</td>\n",
       "      <td>0.264732</td>\n",
       "      <td>0.151315</td>\n",
       "      <td>0.137197</td>\n",
       "      <td>0.166044</td>\n",
       "      <td>0.236389</td>\n",
       "      <td>0.169989</td>\n",
       "    </tr>\n",
       "  </tbody>\n",
       "</table>\n",
       "</div>"
      ],
      "text/plain": [
       "       SVM-acc  SVM-precision  SVM-recall    SVM-f1   MLP-acc  MLP-precision  \\\n",
       "mean  0.955208       0.950578    0.973889  0.957615  0.800417       0.854316   \n",
       "std   0.080519       0.099336    0.082908  0.077415  0.179563       0.187530   \n",
       "\n",
       "      MLP-recall    MLP-f1    RF-acc  RF-precision  RF-recall     RF-f1  \\\n",
       "mean    0.816111  0.781870  0.640139      0.688665   0.671944  0.625542   \n",
       "std     0.285168  0.233146  0.089123      0.151740   0.264732  0.151315   \n",
       "\n",
       "      ADABOOST-acc  ADABOOST-precision  ADABOOST-recall  ADABOOST-f1  \n",
       "mean      0.789444            0.817188         0.822222     0.783977  \n",
       "std       0.137197            0.166044         0.236389     0.169989  "
      ]
     },
     "execution_count": 139,
     "metadata": {},
     "output_type": "execute_result"
    }
   ],
   "source": [
    "# cv-4\n",
    "ri_df"
   ]
  },
  {
   "cell_type": "code",
   "execution_count": 144,
   "metadata": {},
   "outputs": [
    {
     "data": {
      "text/plain": [
       "0.7963020833333334"
      ]
     },
     "execution_count": 144,
     "metadata": {},
     "output_type": "execute_result"
    }
   ],
   "source": [
    "np.mean([  ri_df[i+'-acc']['mean'] for i in ['SVM', \"MLP\", \"RF\", \"ADABOOST\"] ])"
   ]
  },
  {
   "cell_type": "code",
   "execution_count": 21,
   "metadata": {},
   "outputs": [
    {
     "data": {
      "text/html": [
       "<div>\n",
       "<style scoped>\n",
       "    .dataframe tbody tr th:only-of-type {\n",
       "        vertical-align: middle;\n",
       "    }\n",
       "\n",
       "    .dataframe tbody tr th {\n",
       "        vertical-align: top;\n",
       "    }\n",
       "\n",
       "    .dataframe thead th {\n",
       "        text-align: right;\n",
       "    }\n",
       "</style>\n",
       "<table border=\"1\" class=\"dataframe\">\n",
       "  <thead>\n",
       "    <tr style=\"text-align: right;\">\n",
       "      <th></th>\n",
       "      <th>SVM-acc</th>\n",
       "      <th>SVM-precision</th>\n",
       "      <th>SVM-recall</th>\n",
       "      <th>SVM-f1</th>\n",
       "      <th>MLP-acc</th>\n",
       "      <th>MLP-precision</th>\n",
       "      <th>MLP-recall</th>\n",
       "      <th>MLP-f1</th>\n",
       "      <th>RF-acc</th>\n",
       "      <th>RF-precision</th>\n",
       "      <th>RF-recall</th>\n",
       "      <th>RF-f1</th>\n",
       "      <th>ADABOOST-acc</th>\n",
       "      <th>ADABOOST-precision</th>\n",
       "      <th>ADABOOST-recall</th>\n",
       "      <th>ADABOOST-f1</th>\n",
       "    </tr>\n",
       "  </thead>\n",
       "  <tbody>\n",
       "    <tr>\n",
       "      <th>mean</th>\n",
       "      <td>0.967639</td>\n",
       "      <td>0.969198</td>\n",
       "      <td>0.976528</td>\n",
       "      <td>0.968027</td>\n",
       "      <td>0.821667</td>\n",
       "      <td>0.870112</td>\n",
       "      <td>0.828750</td>\n",
       "      <td>0.803740</td>\n",
       "      <td>0.621111</td>\n",
       "      <td>0.659292</td>\n",
       "      <td>0.667083</td>\n",
       "      <td>0.604819</td>\n",
       "      <td>0.765625</td>\n",
       "      <td>0.818684</td>\n",
       "      <td>0.751111</td>\n",
       "      <td>0.741626</td>\n",
       "    </tr>\n",
       "    <tr>\n",
       "      <th>std</th>\n",
       "      <td>0.068267</td>\n",
       "      <td>0.081568</td>\n",
       "      <td>0.088698</td>\n",
       "      <td>0.069536</td>\n",
       "      <td>0.162579</td>\n",
       "      <td>0.196580</td>\n",
       "      <td>0.270275</td>\n",
       "      <td>0.215253</td>\n",
       "      <td>0.085533</td>\n",
       "      <td>0.133198</td>\n",
       "      <td>0.289984</td>\n",
       "      <td>0.162352</td>\n",
       "      <td>0.120047</td>\n",
       "      <td>0.150519</td>\n",
       "      <td>0.252045</td>\n",
       "      <td>0.171419</td>\n",
       "    </tr>\n",
       "  </tbody>\n",
       "</table>\n",
       "</div>"
      ],
      "text/plain": [
       "       SVM-acc  SVM-precision  SVM-recall    SVM-f1   MLP-acc  MLP-precision  \\\n",
       "mean  0.967639       0.969198    0.976528  0.968027  0.821667       0.870112   \n",
       "std   0.068267       0.081568    0.088698  0.069536  0.162579       0.196580   \n",
       "\n",
       "      MLP-recall    MLP-f1    RF-acc  RF-precision  RF-recall     RF-f1  \\\n",
       "mean    0.828750  0.803740  0.621111      0.659292   0.667083  0.604819   \n",
       "std     0.270275  0.215253  0.085533      0.133198   0.289984  0.162352   \n",
       "\n",
       "      ADABOOST-acc  ADABOOST-precision  ADABOOST-recall  ADABOOST-f1  \n",
       "mean      0.765625            0.818684         0.751111     0.741626  \n",
       "std       0.120047            0.150519         0.252045     0.171419  "
      ]
     },
     "execution_count": 21,
     "metadata": {},
     "output_type": "execute_result"
    }
   ],
   "source": [
    "# cv-4 closest\n",
    "ri_df"
   ]
  },
  {
   "cell_type": "code",
   "execution_count": 54,
   "metadata": {},
   "outputs": [
    {
     "data": {
      "text/html": [
       "<div>\n",
       "<style scoped>\n",
       "    .dataframe tbody tr th:only-of-type {\n",
       "        vertical-align: middle;\n",
       "    }\n",
       "\n",
       "    .dataframe tbody tr th {\n",
       "        vertical-align: top;\n",
       "    }\n",
       "\n",
       "    .dataframe thead th {\n",
       "        text-align: right;\n",
       "    }\n",
       "</style>\n",
       "<table border=\"1\" class=\"dataframe\">\n",
       "  <thead>\n",
       "    <tr style=\"text-align: right;\">\n",
       "      <th></th>\n",
       "      <th>SVM-acc</th>\n",
       "      <th>SVM-precision</th>\n",
       "      <th>SVM-recall</th>\n",
       "      <th>SVM-f1</th>\n",
       "      <th>MLP-acc</th>\n",
       "      <th>MLP-precision</th>\n",
       "      <th>MLP-recall</th>\n",
       "      <th>MLP-f1</th>\n",
       "      <th>RF-acc</th>\n",
       "      <th>RF-precision</th>\n",
       "      <th>RF-recall</th>\n",
       "      <th>RF-f1</th>\n",
       "      <th>ADABOOST-acc</th>\n",
       "      <th>ADABOOST-precision</th>\n",
       "      <th>ADABOOST-recall</th>\n",
       "      <th>ADABOOST-f1</th>\n",
       "    </tr>\n",
       "  </thead>\n",
       "  <tbody>\n",
       "    <tr>\n",
       "      <th>mean</th>\n",
       "      <td>0.961177</td>\n",
       "      <td>0.950026</td>\n",
       "      <td>0.984921</td>\n",
       "      <td>0.963880</td>\n",
       "      <td>0.779960</td>\n",
       "      <td>0.841115</td>\n",
       "      <td>0.752116</td>\n",
       "      <td>0.722645</td>\n",
       "      <td>0.613360</td>\n",
       "      <td>0.621462</td>\n",
       "      <td>0.735714</td>\n",
       "      <td>0.636084</td>\n",
       "      <td>0.759458</td>\n",
       "      <td>0.801957</td>\n",
       "      <td>0.790344</td>\n",
       "      <td>0.755106</td>\n",
       "    </tr>\n",
       "    <tr>\n",
       "      <th>std</th>\n",
       "      <td>0.058126</td>\n",
       "      <td>0.070247</td>\n",
       "      <td>0.046746</td>\n",
       "      <td>0.054839</td>\n",
       "      <td>0.151326</td>\n",
       "      <td>0.146554</td>\n",
       "      <td>0.217759</td>\n",
       "      <td>0.216809</td>\n",
       "      <td>0.059408</td>\n",
       "      <td>0.073917</td>\n",
       "      <td>0.141780</td>\n",
       "      <td>0.077951</td>\n",
       "      <td>0.083595</td>\n",
       "      <td>0.109320</td>\n",
       "      <td>0.109716</td>\n",
       "      <td>0.089986</td>\n",
       "    </tr>\n",
       "  </tbody>\n",
       "</table>\n",
       "</div>"
      ],
      "text/plain": [
       "       SVM-acc  SVM-precision  SVM-recall    SVM-f1   MLP-acc  MLP-precision  \\\n",
       "mean  0.961177       0.950026    0.984921  0.963880  0.779960       0.841115   \n",
       "std   0.058126       0.070247    0.046746  0.054839  0.151326       0.146554   \n",
       "\n",
       "      MLP-recall    MLP-f1    RF-acc  RF-precision  RF-recall     RF-f1  \\\n",
       "mean    0.752116  0.722645  0.613360      0.621462   0.735714  0.636084   \n",
       "std     0.217759  0.216809  0.059408      0.073917   0.141780  0.077951   \n",
       "\n",
       "      ADABOOST-acc  ADABOOST-precision  ADABOOST-recall  ADABOOST-f1  \n",
       "mean      0.759458            0.801957         0.790344     0.755106  \n",
       "std       0.083595            0.109320         0.109716     0.089986  "
      ]
     },
     "execution_count": 54,
     "metadata": {},
     "output_type": "execute_result"
    }
   ],
   "source": [
    "# cv-3 index4\n",
    "ri_df"
   ]
  },
  {
   "cell_type": "code",
   "execution_count": 71,
   "metadata": {},
   "outputs": [
    {
     "data": {
      "text/html": [
       "<div>\n",
       "<style scoped>\n",
       "    .dataframe tbody tr th:only-of-type {\n",
       "        vertical-align: middle;\n",
       "    }\n",
       "\n",
       "    .dataframe tbody tr th {\n",
       "        vertical-align: top;\n",
       "    }\n",
       "\n",
       "    .dataframe thead th {\n",
       "        text-align: right;\n",
       "    }\n",
       "</style>\n",
       "<table border=\"1\" class=\"dataframe\">\n",
       "  <thead>\n",
       "    <tr style=\"text-align: right;\">\n",
       "      <th></th>\n",
       "      <th>SVM-acc</th>\n",
       "      <th>SVM-precision</th>\n",
       "      <th>SVM-recall</th>\n",
       "      <th>SVM-f1</th>\n",
       "      <th>MLP-acc</th>\n",
       "      <th>MLP-precision</th>\n",
       "      <th>MLP-recall</th>\n",
       "      <th>MLP-f1</th>\n",
       "      <th>RF-acc</th>\n",
       "      <th>RF-precision</th>\n",
       "      <th>RF-recall</th>\n",
       "      <th>RF-f1</th>\n",
       "      <th>ADABOOST-acc</th>\n",
       "      <th>ADABOOST-precision</th>\n",
       "      <th>ADABOOST-recall</th>\n",
       "      <th>ADABOOST-f1</th>\n",
       "    </tr>\n",
       "  </thead>\n",
       "  <tbody>\n",
       "    <tr>\n",
       "      <th>mean</th>\n",
       "      <td>0.965476</td>\n",
       "      <td>0.960626</td>\n",
       "      <td>0.97877</td>\n",
       "      <td>0.968219</td>\n",
       "      <td>0.880769</td>\n",
       "      <td>0.899676</td>\n",
       "      <td>0.884829</td>\n",
       "      <td>0.878146</td>\n",
       "      <td>0.771329</td>\n",
       "      <td>0.789752</td>\n",
       "      <td>0.790476</td>\n",
       "      <td>0.76930</td>\n",
       "      <td>0.785813</td>\n",
       "      <td>0.815853</td>\n",
       "      <td>0.792857</td>\n",
       "      <td>0.77782</td>\n",
       "    </tr>\n",
       "    <tr>\n",
       "      <th>std</th>\n",
       "      <td>0.091226</td>\n",
       "      <td>0.102368</td>\n",
       "      <td>0.05775</td>\n",
       "      <td>0.084018</td>\n",
       "      <td>0.113375</td>\n",
       "      <td>0.121302</td>\n",
       "      <td>0.115159</td>\n",
       "      <td>0.108020</td>\n",
       "      <td>0.118872</td>\n",
       "      <td>0.113448</td>\n",
       "      <td>0.152524</td>\n",
       "      <td>0.13092</td>\n",
       "      <td>0.108533</td>\n",
       "      <td>0.122396</td>\n",
       "      <td>0.135530</td>\n",
       "      <td>0.11931</td>\n",
       "    </tr>\n",
       "  </tbody>\n",
       "</table>\n",
       "</div>"
      ],
      "text/plain": [
       "       SVM-acc  SVM-precision  SVM-recall    SVM-f1   MLP-acc  MLP-precision  \\\n",
       "mean  0.965476       0.960626     0.97877  0.968219  0.880769       0.899676   \n",
       "std   0.091226       0.102368     0.05775  0.084018  0.113375       0.121302   \n",
       "\n",
       "      MLP-recall    MLP-f1    RF-acc  RF-precision  RF-recall    RF-f1  \\\n",
       "mean    0.884829  0.878146  0.771329      0.789752   0.790476  0.76930   \n",
       "std     0.115159  0.108020  0.118872      0.113448   0.152524  0.13092   \n",
       "\n",
       "      ADABOOST-acc  ADABOOST-precision  ADABOOST-recall  ADABOOST-f1  \n",
       "mean      0.785813            0.815853         0.792857      0.77782  \n",
       "std       0.108533            0.122396         0.135530      0.11931  "
      ]
     },
     "execution_count": 71,
     "metadata": {},
     "output_type": "execute_result"
    }
   ],
   "source": [
    "# cv-3 textiure\n",
    "ri_df"
   ]
  },
  {
   "cell_type": "code",
   "execution_count": 113,
   "metadata": {},
   "outputs": [
    {
     "data": {
      "text/html": [
       "<div>\n",
       "<style scoped>\n",
       "    .dataframe tbody tr th:only-of-type {\n",
       "        vertical-align: middle;\n",
       "    }\n",
       "\n",
       "    .dataframe tbody tr th {\n",
       "        vertical-align: top;\n",
       "    }\n",
       "\n",
       "    .dataframe thead th {\n",
       "        text-align: right;\n",
       "    }\n",
       "</style>\n",
       "<table border=\"1\" class=\"dataframe\">\n",
       "  <thead>\n",
       "    <tr style=\"text-align: right;\">\n",
       "      <th></th>\n",
       "      <th>SVM-acc</th>\n",
       "      <th>SVM-precision</th>\n",
       "      <th>SVM-recall</th>\n",
       "      <th>SVM-f1</th>\n",
       "    </tr>\n",
       "  </thead>\n",
       "  <tbody>\n",
       "    <tr>\n",
       "      <th>mean</th>\n",
       "      <td>1.0</td>\n",
       "      <td>1.0</td>\n",
       "      <td>1.0</td>\n",
       "      <td>1.0</td>\n",
       "    </tr>\n",
       "    <tr>\n",
       "      <th>std</th>\n",
       "      <td>0.0</td>\n",
       "      <td>0.0</td>\n",
       "      <td>0.0</td>\n",
       "      <td>0.0</td>\n",
       "    </tr>\n",
       "  </tbody>\n",
       "</table>\n",
       "</div>"
      ],
      "text/plain": [
       "      SVM-acc  SVM-precision  SVM-recall  SVM-f1\n",
       "mean      1.0            1.0         1.0     1.0\n",
       "std       0.0            0.0         0.0     0.0"
      ]
     },
     "execution_count": 113,
     "metadata": {},
     "output_type": "execute_result"
    }
   ],
   "source": [
    "# cv-3 index5\n",
    "ri_df"
   ]
  },
  {
   "cell_type": "code",
   "execution_count": 51,
   "metadata": {},
   "outputs": [
    {
     "data": {
      "text/html": [
       "<div>\n",
       "<style scoped>\n",
       "    .dataframe tbody tr th:only-of-type {\n",
       "        vertical-align: middle;\n",
       "    }\n",
       "\n",
       "    .dataframe tbody tr th {\n",
       "        vertical-align: top;\n",
       "    }\n",
       "\n",
       "    .dataframe thead th {\n",
       "        text-align: right;\n",
       "    }\n",
       "</style>\n",
       "<table border=\"1\" class=\"dataframe\">\n",
       "  <thead>\n",
       "    <tr style=\"text-align: right;\">\n",
       "      <th></th>\n",
       "      <th>SVM-acc</th>\n",
       "      <th>SVM-precision</th>\n",
       "      <th>SVM-recall</th>\n",
       "      <th>SVM-f1</th>\n",
       "    </tr>\n",
       "  </thead>\n",
       "  <tbody>\n",
       "    <tr>\n",
       "      <th>mean</th>\n",
       "      <td>0.96713</td>\n",
       "      <td>0.962026</td>\n",
       "      <td>0.980185</td>\n",
       "      <td>0.969708</td>\n",
       "    </tr>\n",
       "    <tr>\n",
       "      <th>std</th>\n",
       "      <td>0.08835</td>\n",
       "      <td>0.099035</td>\n",
       "      <td>0.056043</td>\n",
       "      <td>0.081361</td>\n",
       "    </tr>\n",
       "  </tbody>\n",
       "</table>\n",
       "</div>"
      ],
      "text/plain": [
       "      SVM-acc  SVM-precision  SVM-recall    SVM-f1\n",
       "mean  0.96713       0.962026    0.980185  0.969708\n",
       "std   0.08835       0.099035    0.056043  0.081361"
      ]
     },
     "execution_count": 51,
     "metadata": {},
     "output_type": "execute_result"
    }
   ],
   "source": [
    "# cv-3 texture2\n",
    "ri_df"
   ]
  },
  {
   "cell_type": "code",
   "execution_count": 13,
   "metadata": {},
   "outputs": [
    {
     "data": {
      "text/html": [
       "<div>\n",
       "<style scoped>\n",
       "    .dataframe tbody tr th:only-of-type {\n",
       "        vertical-align: middle;\n",
       "    }\n",
       "\n",
       "    .dataframe tbody tr th {\n",
       "        vertical-align: top;\n",
       "    }\n",
       "\n",
       "    .dataframe thead th {\n",
       "        text-align: right;\n",
       "    }\n",
       "</style>\n",
       "<table border=\"1\" class=\"dataframe\">\n",
       "  <thead>\n",
       "    <tr style=\"text-align: right;\">\n",
       "      <th></th>\n",
       "      <th>SVM-acc</th>\n",
       "      <th>SVM-precision</th>\n",
       "      <th>SVM-recall</th>\n",
       "      <th>SVM-f1</th>\n",
       "    </tr>\n",
       "  </thead>\n",
       "  <tbody>\n",
       "    <tr>\n",
       "      <th>mean</th>\n",
       "      <td>0.977917</td>\n",
       "      <td>0.979999</td>\n",
       "      <td>0.978750</td>\n",
       "      <td>0.976439</td>\n",
       "    </tr>\n",
       "    <tr>\n",
       "      <th>std</th>\n",
       "      <td>0.050142</td>\n",
       "      <td>0.037250</td>\n",
       "      <td>0.067216</td>\n",
       "      <td>0.057740</td>\n",
       "    </tr>\n",
       "  </tbody>\n",
       "</table>\n",
       "</div>"
      ],
      "text/plain": [
       "       SVM-acc  SVM-precision  SVM-recall    SVM-f1\n",
       "mean  0.977917       0.979999    0.978750  0.976439\n",
       "std   0.050142       0.037250    0.067216  0.057740"
      ]
     },
     "execution_count": 13,
     "metadata": {},
     "output_type": "execute_result"
    }
   ],
   "source": [
    "# cv-3 index6-ri\n",
    "ri_df"
   ]
  },
  {
   "cell_type": "code",
   "execution_count": 22,
   "metadata": {},
   "outputs": [
    {
     "data": {
      "text/html": [
       "<div>\n",
       "<style scoped>\n",
       "    .dataframe tbody tr th:only-of-type {\n",
       "        vertical-align: middle;\n",
       "    }\n",
       "\n",
       "    .dataframe tbody tr th {\n",
       "        vertical-align: top;\n",
       "    }\n",
       "\n",
       "    .dataframe thead th {\n",
       "        text-align: right;\n",
       "    }\n",
       "</style>\n",
       "<table border=\"1\" class=\"dataframe\">\n",
       "  <thead>\n",
       "    <tr style=\"text-align: right;\">\n",
       "      <th></th>\n",
       "      <th>SVM-acc</th>\n",
       "      <th>SVM-precision</th>\n",
       "      <th>SVM-recall</th>\n",
       "      <th>SVM-f1</th>\n",
       "    </tr>\n",
       "  </thead>\n",
       "  <tbody>\n",
       "    <tr>\n",
       "      <th>mean</th>\n",
       "      <td>1.0</td>\n",
       "      <td>1.0</td>\n",
       "      <td>1.0</td>\n",
       "      <td>1.0</td>\n",
       "    </tr>\n",
       "    <tr>\n",
       "      <th>std</th>\n",
       "      <td>0.0</td>\n",
       "      <td>0.0</td>\n",
       "      <td>0.0</td>\n",
       "      <td>0.0</td>\n",
       "    </tr>\n",
       "  </tbody>\n",
       "</table>\n",
       "</div>"
      ],
      "text/plain": [
       "      SVM-acc  SVM-precision  SVM-recall  SVM-f1\n",
       "mean      1.0            1.0         1.0     1.0\n",
       "std       0.0            0.0         0.0     0.0"
      ]
     },
     "execution_count": 22,
     "metadata": {},
     "output_type": "execute_result"
    }
   ],
   "source": [
    "# cv-3 index6-nri\n",
    "ri_df"
   ]
  },
  {
   "cell_type": "markdown",
   "metadata": {},
   "source": [
    "---------"
   ]
  },
  {
   "cell_type": "code",
   "execution_count": 23,
   "metadata": {},
   "outputs": [],
   "source": [
    "nri_df = stats_df(nri_results)"
   ]
  },
  {
   "cell_type": "code",
   "execution_count": 132,
   "metadata": {},
   "outputs": [
    {
     "data": {
      "text/html": [
       "<div>\n",
       "<style scoped>\n",
       "    .dataframe tbody tr th:only-of-type {\n",
       "        vertical-align: middle;\n",
       "    }\n",
       "\n",
       "    .dataframe tbody tr th {\n",
       "        vertical-align: top;\n",
       "    }\n",
       "\n",
       "    .dataframe thead th {\n",
       "        text-align: right;\n",
       "    }\n",
       "</style>\n",
       "<table border=\"1\" class=\"dataframe\">\n",
       "  <thead>\n",
       "    <tr style=\"text-align: right;\">\n",
       "      <th></th>\n",
       "      <th>SVM-acc</th>\n",
       "      <th>SVM-precision</th>\n",
       "      <th>SVM-recall</th>\n",
       "      <th>SVM-f1</th>\n",
       "      <th>MLP-acc</th>\n",
       "      <th>MLP-precision</th>\n",
       "      <th>MLP-recall</th>\n",
       "      <th>MLP-f1</th>\n",
       "      <th>RF-acc</th>\n",
       "      <th>RF-precision</th>\n",
       "      <th>RF-recall</th>\n",
       "      <th>RF-f1</th>\n",
       "      <th>ADABOOST-acc</th>\n",
       "      <th>ADABOOST-precision</th>\n",
       "      <th>ADABOOST-recall</th>\n",
       "      <th>ADABOOST-f1</th>\n",
       "    </tr>\n",
       "  </thead>\n",
       "  <tbody>\n",
       "    <tr>\n",
       "      <th>mean</th>\n",
       "      <td>0.959097</td>\n",
       "      <td>0.941207</td>\n",
       "      <td>1.0</td>\n",
       "      <td>0.965877</td>\n",
       "      <td>0.717778</td>\n",
       "      <td>0.627749</td>\n",
       "      <td>0.834444</td>\n",
       "      <td>0.700896</td>\n",
       "      <td>0.805208</td>\n",
       "      <td>0.810758</td>\n",
       "      <td>0.819722</td>\n",
       "      <td>0.807137</td>\n",
       "      <td>0.907431</td>\n",
       "      <td>0.90466</td>\n",
       "      <td>0.951528</td>\n",
       "      <td>0.913269</td>\n",
       "    </tr>\n",
       "    <tr>\n",
       "      <th>std</th>\n",
       "      <td>0.081346</td>\n",
       "      <td>0.112416</td>\n",
       "      <td>0.0</td>\n",
       "      <td>0.066293</td>\n",
       "      <td>0.221485</td>\n",
       "      <td>0.333906</td>\n",
       "      <td>0.358454</td>\n",
       "      <td>0.327031</td>\n",
       "      <td>0.149860</td>\n",
       "      <td>0.159851</td>\n",
       "      <td>0.168922</td>\n",
       "      <td>0.151554</td>\n",
       "      <td>0.126704</td>\n",
       "      <td>0.14140</td>\n",
       "      <td>0.137441</td>\n",
       "      <td>0.126853</td>\n",
       "    </tr>\n",
       "  </tbody>\n",
       "</table>\n",
       "</div>"
      ],
      "text/plain": [
       "       SVM-acc  SVM-precision  SVM-recall    SVM-f1   MLP-acc  MLP-precision  \\\n",
       "mean  0.959097       0.941207         1.0  0.965877  0.717778       0.627749   \n",
       "std   0.081346       0.112416         0.0  0.066293  0.221485       0.333906   \n",
       "\n",
       "      MLP-recall    MLP-f1    RF-acc  RF-precision  RF-recall     RF-f1  \\\n",
       "mean    0.834444  0.700896  0.805208      0.810758   0.819722  0.807137   \n",
       "std     0.358454  0.327031  0.149860      0.159851   0.168922  0.151554   \n",
       "\n",
       "      ADABOOST-acc  ADABOOST-precision  ADABOOST-recall  ADABOOST-f1  \n",
       "mean      0.907431             0.90466         0.951528     0.913269  \n",
       "std       0.126704             0.14140         0.137441     0.126853  "
      ]
     },
     "execution_count": 132,
     "metadata": {},
     "output_type": "execute_result"
    }
   ],
   "source": [
    "# cv-3\n",
    "nri_df"
   ]
  },
  {
   "cell_type": "code",
   "execution_count": 140,
   "metadata": {},
   "outputs": [
    {
     "data": {
      "text/html": [
       "<div>\n",
       "<style scoped>\n",
       "    .dataframe tbody tr th:only-of-type {\n",
       "        vertical-align: middle;\n",
       "    }\n",
       "\n",
       "    .dataframe tbody tr th {\n",
       "        vertical-align: top;\n",
       "    }\n",
       "\n",
       "    .dataframe thead th {\n",
       "        text-align: right;\n",
       "    }\n",
       "</style>\n",
       "<table border=\"1\" class=\"dataframe\">\n",
       "  <thead>\n",
       "    <tr style=\"text-align: right;\">\n",
       "      <th></th>\n",
       "      <th>SVM-acc</th>\n",
       "      <th>SVM-precision</th>\n",
       "      <th>SVM-recall</th>\n",
       "      <th>SVM-f1</th>\n",
       "      <th>MLP-acc</th>\n",
       "      <th>MLP-precision</th>\n",
       "      <th>MLP-recall</th>\n",
       "      <th>MLP-f1</th>\n",
       "      <th>RF-acc</th>\n",
       "      <th>RF-precision</th>\n",
       "      <th>RF-recall</th>\n",
       "      <th>RF-f1</th>\n",
       "      <th>ADABOOST-acc</th>\n",
       "      <th>ADABOOST-precision</th>\n",
       "      <th>ADABOOST-recall</th>\n",
       "      <th>ADABOOST-f1</th>\n",
       "    </tr>\n",
       "  </thead>\n",
       "  <tbody>\n",
       "    <tr>\n",
       "      <th>mean</th>\n",
       "      <td>0.925069</td>\n",
       "      <td>0.931608</td>\n",
       "      <td>0.942083</td>\n",
       "      <td>0.922554</td>\n",
       "      <td>0.680347</td>\n",
       "      <td>0.608778</td>\n",
       "      <td>0.721528</td>\n",
       "      <td>0.619381</td>\n",
       "      <td>0.780208</td>\n",
       "      <td>0.777591</td>\n",
       "      <td>0.811389</td>\n",
       "      <td>0.782775</td>\n",
       "      <td>0.930069</td>\n",
       "      <td>0.939507</td>\n",
       "      <td>0.944861</td>\n",
       "      <td>0.933090</td>\n",
       "    </tr>\n",
       "    <tr>\n",
       "      <th>std</th>\n",
       "      <td>0.133365</td>\n",
       "      <td>0.138088</td>\n",
       "      <td>0.176372</td>\n",
       "      <td>0.149602</td>\n",
       "      <td>0.211671</td>\n",
       "      <td>0.344470</td>\n",
       "      <td>0.413004</td>\n",
       "      <td>0.349805</td>\n",
       "      <td>0.129218</td>\n",
       "      <td>0.137789</td>\n",
       "      <td>0.175515</td>\n",
       "      <td>0.138707</td>\n",
       "      <td>0.130611</td>\n",
       "      <td>0.134078</td>\n",
       "      <td>0.135906</td>\n",
       "      <td>0.123217</td>\n",
       "    </tr>\n",
       "  </tbody>\n",
       "</table>\n",
       "</div>"
      ],
      "text/plain": [
       "       SVM-acc  SVM-precision  SVM-recall    SVM-f1   MLP-acc  MLP-precision  \\\n",
       "mean  0.925069       0.931608    0.942083  0.922554  0.680347       0.608778   \n",
       "std   0.133365       0.138088    0.176372  0.149602  0.211671       0.344470   \n",
       "\n",
       "      MLP-recall    MLP-f1    RF-acc  RF-precision  RF-recall     RF-f1  \\\n",
       "mean    0.721528  0.619381  0.780208      0.777591   0.811389  0.782775   \n",
       "std     0.413004  0.349805  0.129218      0.137789   0.175515  0.138707   \n",
       "\n",
       "      ADABOOST-acc  ADABOOST-precision  ADABOOST-recall  ADABOOST-f1  \n",
       "mean      0.930069            0.939507         0.944861     0.933090  \n",
       "std       0.130611            0.134078         0.135906     0.123217  "
      ]
     },
     "execution_count": 140,
     "metadata": {},
     "output_type": "execute_result"
    }
   ],
   "source": [
    "# cv-4\n",
    "nri_df"
   ]
  },
  {
   "cell_type": "code",
   "execution_count": 145,
   "metadata": {},
   "outputs": [
    {
     "data": {
      "text/plain": [
       "0.8289236111111111"
      ]
     },
     "execution_count": 145,
     "metadata": {},
     "output_type": "execute_result"
    }
   ],
   "source": [
    "np.mean([  nri_df[i+'-acc']['mean'] for i in ['SVM', \"MLP\", \"RF\", \"ADABOOST\"] ])"
   ]
  },
  {
   "cell_type": "code",
   "execution_count": 23,
   "metadata": {},
   "outputs": [
    {
     "data": {
      "text/html": [
       "<div>\n",
       "<style scoped>\n",
       "    .dataframe tbody tr th:only-of-type {\n",
       "        vertical-align: middle;\n",
       "    }\n",
       "\n",
       "    .dataframe tbody tr th {\n",
       "        vertical-align: top;\n",
       "    }\n",
       "\n",
       "    .dataframe thead th {\n",
       "        text-align: right;\n",
       "    }\n",
       "</style>\n",
       "<table border=\"1\" class=\"dataframe\">\n",
       "  <thead>\n",
       "    <tr style=\"text-align: right;\">\n",
       "      <th></th>\n",
       "      <th>SVM-acc</th>\n",
       "      <th>SVM-precision</th>\n",
       "      <th>SVM-recall</th>\n",
       "      <th>SVM-f1</th>\n",
       "      <th>MLP-acc</th>\n",
       "      <th>MLP-precision</th>\n",
       "      <th>MLP-recall</th>\n",
       "      <th>MLP-f1</th>\n",
       "      <th>RF-acc</th>\n",
       "      <th>RF-precision</th>\n",
       "      <th>RF-recall</th>\n",
       "      <th>RF-f1</th>\n",
       "      <th>ADABOOST-acc</th>\n",
       "      <th>ADABOOST-precision</th>\n",
       "      <th>ADABOOST-recall</th>\n",
       "      <th>ADABOOST-f1</th>\n",
       "    </tr>\n",
       "  </thead>\n",
       "  <tbody>\n",
       "    <tr>\n",
       "      <th>mean</th>\n",
       "      <td>0.989514</td>\n",
       "      <td>0.985237</td>\n",
       "      <td>1.0</td>\n",
       "      <td>0.991337</td>\n",
       "      <td>0.888542</td>\n",
       "      <td>0.892591</td>\n",
       "      <td>0.861250</td>\n",
       "      <td>0.851122</td>\n",
       "      <td>0.756736</td>\n",
       "      <td>0.759416</td>\n",
       "      <td>0.767083</td>\n",
       "      <td>0.7543</td>\n",
       "      <td>0.985625</td>\n",
       "      <td>0.992387</td>\n",
       "      <td>0.979444</td>\n",
       "      <td>0.984426</td>\n",
       "    </tr>\n",
       "    <tr>\n",
       "      <th>std</th>\n",
       "      <td>0.045804</td>\n",
       "      <td>0.064416</td>\n",
       "      <td>0.0</td>\n",
       "      <td>0.037816</td>\n",
       "      <td>0.172109</td>\n",
       "      <td>0.244604</td>\n",
       "      <td>0.296237</td>\n",
       "      <td>0.272006</td>\n",
       "      <td>0.160621</td>\n",
       "      <td>0.168330</td>\n",
       "      <td>0.196233</td>\n",
       "      <td>0.1711</td>\n",
       "      <td>0.034880</td>\n",
       "      <td>0.024013</td>\n",
       "      <td>0.065194</td>\n",
       "      <td>0.040452</td>\n",
       "    </tr>\n",
       "  </tbody>\n",
       "</table>\n",
       "</div>"
      ],
      "text/plain": [
       "       SVM-acc  SVM-precision  SVM-recall    SVM-f1   MLP-acc  MLP-precision  \\\n",
       "mean  0.989514       0.985237         1.0  0.991337  0.888542       0.892591   \n",
       "std   0.045804       0.064416         0.0  0.037816  0.172109       0.244604   \n",
       "\n",
       "      MLP-recall    MLP-f1    RF-acc  RF-precision  RF-recall   RF-f1  \\\n",
       "mean    0.861250  0.851122  0.756736      0.759416   0.767083  0.7543   \n",
       "std     0.296237  0.272006  0.160621      0.168330   0.196233  0.1711   \n",
       "\n",
       "      ADABOOST-acc  ADABOOST-precision  ADABOOST-recall  ADABOOST-f1  \n",
       "mean      0.985625            0.992387         0.979444     0.984426  \n",
       "std       0.034880            0.024013         0.065194     0.040452  "
      ]
     },
     "execution_count": 23,
     "metadata": {},
     "output_type": "execute_result"
    }
   ],
   "source": [
    "# cv-4 closest\n",
    "nri_df"
   ]
  },
  {
   "cell_type": "code",
   "execution_count": 56,
   "metadata": {},
   "outputs": [
    {
     "data": {
      "text/html": [
       "<div>\n",
       "<style scoped>\n",
       "    .dataframe tbody tr th:only-of-type {\n",
       "        vertical-align: middle;\n",
       "    }\n",
       "\n",
       "    .dataframe tbody tr th {\n",
       "        vertical-align: top;\n",
       "    }\n",
       "\n",
       "    .dataframe thead th {\n",
       "        text-align: right;\n",
       "    }\n",
       "</style>\n",
       "<table border=\"1\" class=\"dataframe\">\n",
       "  <thead>\n",
       "    <tr style=\"text-align: right;\">\n",
       "      <th></th>\n",
       "      <th>SVM-acc</th>\n",
       "      <th>SVM-precision</th>\n",
       "      <th>SVM-recall</th>\n",
       "      <th>SVM-f1</th>\n",
       "      <th>MLP-acc</th>\n",
       "      <th>MLP-precision</th>\n",
       "      <th>MLP-recall</th>\n",
       "      <th>MLP-f1</th>\n",
       "      <th>RF-acc</th>\n",
       "      <th>RF-precision</th>\n",
       "      <th>RF-recall</th>\n",
       "      <th>RF-f1</th>\n",
       "      <th>ADABOOST-acc</th>\n",
       "      <th>ADABOOST-precision</th>\n",
       "      <th>ADABOOST-recall</th>\n",
       "      <th>ADABOOST-f1</th>\n",
       "    </tr>\n",
       "  </thead>\n",
       "  <tbody>\n",
       "    <tr>\n",
       "      <th>mean</th>\n",
       "      <td>0.957672</td>\n",
       "      <td>0.947246</td>\n",
       "      <td>1.0</td>\n",
       "      <td>0.967535</td>\n",
       "      <td>0.782540</td>\n",
       "      <td>0.762285</td>\n",
       "      <td>0.973545</td>\n",
       "      <td>0.832929</td>\n",
       "      <td>0.830754</td>\n",
       "      <td>0.825081</td>\n",
       "      <td>0.858069</td>\n",
       "      <td>0.835947</td>\n",
       "      <td>0.895833</td>\n",
       "      <td>0.898187</td>\n",
       "      <td>0.929762</td>\n",
       "      <td>0.890271</td>\n",
       "    </tr>\n",
       "    <tr>\n",
       "      <th>std</th>\n",
       "      <td>0.105624</td>\n",
       "      <td>0.130154</td>\n",
       "      <td>0.0</td>\n",
       "      <td>0.080397</td>\n",
       "      <td>0.135837</td>\n",
       "      <td>0.158941</td>\n",
       "      <td>0.083323</td>\n",
       "      <td>0.106119</td>\n",
       "      <td>0.123100</td>\n",
       "      <td>0.125252</td>\n",
       "      <td>0.133319</td>\n",
       "      <td>0.122534</td>\n",
       "      <td>0.098804</td>\n",
       "      <td>0.091484</td>\n",
       "      <td>0.140004</td>\n",
       "      <td>0.129196</td>\n",
       "    </tr>\n",
       "  </tbody>\n",
       "</table>\n",
       "</div>"
      ],
      "text/plain": [
       "       SVM-acc  SVM-precision  SVM-recall    SVM-f1   MLP-acc  MLP-precision  \\\n",
       "mean  0.957672       0.947246         1.0  0.967535  0.782540       0.762285   \n",
       "std   0.105624       0.130154         0.0  0.080397  0.135837       0.158941   \n",
       "\n",
       "      MLP-recall    MLP-f1    RF-acc  RF-precision  RF-recall     RF-f1  \\\n",
       "mean    0.973545  0.832929  0.830754      0.825081   0.858069  0.835947   \n",
       "std     0.083323  0.106119  0.123100      0.125252   0.133319  0.122534   \n",
       "\n",
       "      ADABOOST-acc  ADABOOST-precision  ADABOOST-recall  ADABOOST-f1  \n",
       "mean      0.895833            0.898187         0.929762     0.890271  \n",
       "std       0.098804            0.091484         0.140004     0.129196  "
      ]
     },
     "execution_count": 56,
     "metadata": {},
     "output_type": "execute_result"
    }
   ],
   "source": [
    "# cv-3 index4\n",
    "nri_df"
   ]
  },
  {
   "cell_type": "code",
   "execution_count": 73,
   "metadata": {},
   "outputs": [
    {
     "data": {
      "text/html": [
       "<div>\n",
       "<style scoped>\n",
       "    .dataframe tbody tr th:only-of-type {\n",
       "        vertical-align: middle;\n",
       "    }\n",
       "\n",
       "    .dataframe tbody tr th {\n",
       "        vertical-align: top;\n",
       "    }\n",
       "\n",
       "    .dataframe thead th {\n",
       "        text-align: right;\n",
       "    }\n",
       "</style>\n",
       "<table border=\"1\" class=\"dataframe\">\n",
       "  <thead>\n",
       "    <tr style=\"text-align: right;\">\n",
       "      <th></th>\n",
       "      <th>SVM-acc</th>\n",
       "      <th>SVM-precision</th>\n",
       "      <th>SVM-recall</th>\n",
       "      <th>SVM-f1</th>\n",
       "      <th>MLP-acc</th>\n",
       "      <th>MLP-precision</th>\n",
       "      <th>MLP-recall</th>\n",
       "      <th>MLP-f1</th>\n",
       "      <th>RF-acc</th>\n",
       "      <th>RF-precision</th>\n",
       "      <th>RF-recall</th>\n",
       "      <th>RF-f1</th>\n",
       "      <th>ADABOOST-acc</th>\n",
       "      <th>ADABOOST-precision</th>\n",
       "      <th>ADABOOST-recall</th>\n",
       "      <th>ADABOOST-f1</th>\n",
       "    </tr>\n",
       "  </thead>\n",
       "  <tbody>\n",
       "    <tr>\n",
       "      <th>mean</th>\n",
       "      <td>0.940079</td>\n",
       "      <td>0.930555</td>\n",
       "      <td>0.983333</td>\n",
       "      <td>0.951489</td>\n",
       "      <td>0.801091</td>\n",
       "      <td>0.794049</td>\n",
       "      <td>0.839087</td>\n",
       "      <td>0.780987</td>\n",
       "      <td>0.745833</td>\n",
       "      <td>0.757265</td>\n",
       "      <td>0.791865</td>\n",
       "      <td>0.753544</td>\n",
       "      <td>0.901786</td>\n",
       "      <td>0.925684</td>\n",
       "      <td>0.900000</td>\n",
       "      <td>0.898152</td>\n",
       "    </tr>\n",
       "    <tr>\n",
       "      <th>std</th>\n",
       "      <td>0.131968</td>\n",
       "      <td>0.147008</td>\n",
       "      <td>0.060093</td>\n",
       "      <td>0.106290</td>\n",
       "      <td>0.189347</td>\n",
       "      <td>0.249274</td>\n",
       "      <td>0.206304</td>\n",
       "      <td>0.212661</td>\n",
       "      <td>0.136766</td>\n",
       "      <td>0.158854</td>\n",
       "      <td>0.151472</td>\n",
       "      <td>0.126160</td>\n",
       "      <td>0.102017</td>\n",
       "      <td>0.092375</td>\n",
       "      <td>0.112614</td>\n",
       "      <td>0.105354</td>\n",
       "    </tr>\n",
       "  </tbody>\n",
       "</table>\n",
       "</div>"
      ],
      "text/plain": [
       "       SVM-acc  SVM-precision  SVM-recall    SVM-f1   MLP-acc  MLP-precision  \\\n",
       "mean  0.940079       0.930555    0.983333  0.951489  0.801091       0.794049   \n",
       "std   0.131968       0.147008    0.060093  0.106290  0.189347       0.249274   \n",
       "\n",
       "      MLP-recall    MLP-f1    RF-acc  RF-precision  RF-recall     RF-f1  \\\n",
       "mean    0.839087  0.780987  0.745833      0.757265   0.791865  0.753544   \n",
       "std     0.206304  0.212661  0.136766      0.158854   0.151472  0.126160   \n",
       "\n",
       "      ADABOOST-acc  ADABOOST-precision  ADABOOST-recall  ADABOOST-f1  \n",
       "mean      0.901786            0.925684         0.900000     0.898152  \n",
       "std       0.102017            0.092375         0.112614     0.105354  "
      ]
     },
     "execution_count": 73,
     "metadata": {},
     "output_type": "execute_result"
    }
   ],
   "source": [
    "# cv-3 texture\n",
    "nri_df"
   ]
  },
  {
   "cell_type": "code",
   "execution_count": 114,
   "metadata": {},
   "outputs": [
    {
     "data": {
      "text/html": [
       "<div>\n",
       "<style scoped>\n",
       "    .dataframe tbody tr th:only-of-type {\n",
       "        vertical-align: middle;\n",
       "    }\n",
       "\n",
       "    .dataframe tbody tr th {\n",
       "        vertical-align: top;\n",
       "    }\n",
       "\n",
       "    .dataframe thead th {\n",
       "        text-align: right;\n",
       "    }\n",
       "</style>\n",
       "<table border=\"1\" class=\"dataframe\">\n",
       "  <thead>\n",
       "    <tr style=\"text-align: right;\">\n",
       "      <th></th>\n",
       "      <th>SVM-acc</th>\n",
       "      <th>SVM-precision</th>\n",
       "      <th>SVM-recall</th>\n",
       "      <th>SVM-f1</th>\n",
       "    </tr>\n",
       "  </thead>\n",
       "  <tbody>\n",
       "    <tr>\n",
       "      <th>mean</th>\n",
       "      <td>1.0</td>\n",
       "      <td>1.0</td>\n",
       "      <td>1.0</td>\n",
       "      <td>1.0</td>\n",
       "    </tr>\n",
       "    <tr>\n",
       "      <th>std</th>\n",
       "      <td>0.0</td>\n",
       "      <td>0.0</td>\n",
       "      <td>0.0</td>\n",
       "      <td>0.0</td>\n",
       "    </tr>\n",
       "  </tbody>\n",
       "</table>\n",
       "</div>"
      ],
      "text/plain": [
       "      SVM-acc  SVM-precision  SVM-recall  SVM-f1\n",
       "mean      1.0            1.0         1.0     1.0\n",
       "std       0.0            0.0         0.0     0.0"
      ]
     },
     "execution_count": 114,
     "metadata": {},
     "output_type": "execute_result"
    }
   ],
   "source": [
    "# cv-3 index5\n",
    "nri_df"
   ]
  },
  {
   "cell_type": "code",
   "execution_count": 52,
   "metadata": {},
   "outputs": [
    {
     "data": {
      "text/html": [
       "<div>\n",
       "<style scoped>\n",
       "    .dataframe tbody tr th:only-of-type {\n",
       "        vertical-align: middle;\n",
       "    }\n",
       "\n",
       "    .dataframe tbody tr th {\n",
       "        vertical-align: top;\n",
       "    }\n",
       "\n",
       "    .dataframe thead th {\n",
       "        text-align: right;\n",
       "    }\n",
       "</style>\n",
       "<table border=\"1\" class=\"dataframe\">\n",
       "  <thead>\n",
       "    <tr style=\"text-align: right;\">\n",
       "      <th></th>\n",
       "      <th>SVM-acc</th>\n",
       "      <th>SVM-precision</th>\n",
       "      <th>SVM-recall</th>\n",
       "      <th>SVM-f1</th>\n",
       "    </tr>\n",
       "  </thead>\n",
       "  <tbody>\n",
       "    <tr>\n",
       "      <th>mean</th>\n",
       "      <td>0.944074</td>\n",
       "      <td>0.935185</td>\n",
       "      <td>0.984444</td>\n",
       "      <td>0.954723</td>\n",
       "    </tr>\n",
       "    <tr>\n",
       "      <th>std</th>\n",
       "      <td>0.128367</td>\n",
       "      <td>0.143076</td>\n",
       "      <td>0.058204</td>\n",
       "      <td>0.103397</td>\n",
       "    </tr>\n",
       "  </tbody>\n",
       "</table>\n",
       "</div>"
      ],
      "text/plain": [
       "       SVM-acc  SVM-precision  SVM-recall    SVM-f1\n",
       "mean  0.944074       0.935185    0.984444  0.954723\n",
       "std   0.128367       0.143076    0.058204  0.103397"
      ]
     },
     "execution_count": 52,
     "metadata": {},
     "output_type": "execute_result"
    }
   ],
   "source": [
    "# cv-3 texture2\n",
    "nri_df"
   ]
  },
  {
   "cell_type": "code",
   "execution_count": 149,
   "metadata": {},
   "outputs": [
    {
     "data": {
      "text/plain": [
       "[1.0, 1.0, 1.0, 1.0, 1.0, 1.0, 1.0, 1.0, 1.0, 1.0]"
      ]
     },
     "execution_count": 149,
     "metadata": {},
     "output_type": "execute_result"
    }
   ],
   "source": [
    "ri_results['SVM-acc']"
   ]
  },
  {
   "cell_type": "code",
   "execution_count": 150,
   "metadata": {},
   "outputs": [
    {
     "data": {
      "text/plain": [
       "[1.0, 1.0, 1.0, 1.0, 1.0, 1.0, 1.0, 1.0, 1.0, 1.0]"
      ]
     },
     "execution_count": 150,
     "metadata": {},
     "output_type": "execute_result"
    }
   ],
   "source": [
    "nri_results['SVM-acc']"
   ]
  },
  {
   "cell_type": "code",
   "execution_count": 15,
   "metadata": {},
   "outputs": [
    {
     "data": {
      "text/html": [
       "<div>\n",
       "<style scoped>\n",
       "    .dataframe tbody tr th:only-of-type {\n",
       "        vertical-align: middle;\n",
       "    }\n",
       "\n",
       "    .dataframe tbody tr th {\n",
       "        vertical-align: top;\n",
       "    }\n",
       "\n",
       "    .dataframe thead th {\n",
       "        text-align: right;\n",
       "    }\n",
       "</style>\n",
       "<table border=\"1\" class=\"dataframe\">\n",
       "  <thead>\n",
       "    <tr style=\"text-align: right;\">\n",
       "      <th></th>\n",
       "      <th>SVM-acc</th>\n",
       "      <th>SVM-precision</th>\n",
       "      <th>SVM-recall</th>\n",
       "      <th>SVM-f1</th>\n",
       "    </tr>\n",
       "  </thead>\n",
       "  <tbody>\n",
       "    <tr>\n",
       "      <th>mean</th>\n",
       "      <td>0.977361</td>\n",
       "      <td>0.987558</td>\n",
       "      <td>0.969583</td>\n",
       "      <td>0.975184</td>\n",
       "    </tr>\n",
       "    <tr>\n",
       "      <th>std</th>\n",
       "      <td>0.055542</td>\n",
       "      <td>0.043027</td>\n",
       "      <td>0.092686</td>\n",
       "      <td>0.062539</td>\n",
       "    </tr>\n",
       "  </tbody>\n",
       "</table>\n",
       "</div>"
      ],
      "text/plain": [
       "       SVM-acc  SVM-precision  SVM-recall    SVM-f1\n",
       "mean  0.977361       0.987558    0.969583  0.975184\n",
       "std   0.055542       0.043027    0.092686  0.062539"
      ]
     },
     "execution_count": 15,
     "metadata": {},
     "output_type": "execute_result"
    }
   ],
   "source": [
    "# cv-3 index6-ri\n",
    "nri_df"
   ]
  },
  {
   "cell_type": "code",
   "execution_count": 24,
   "metadata": {},
   "outputs": [
    {
     "data": {
      "text/html": [
       "<div>\n",
       "<style scoped>\n",
       "    .dataframe tbody tr th:only-of-type {\n",
       "        vertical-align: middle;\n",
       "    }\n",
       "\n",
       "    .dataframe tbody tr th {\n",
       "        vertical-align: top;\n",
       "    }\n",
       "\n",
       "    .dataframe thead th {\n",
       "        text-align: right;\n",
       "    }\n",
       "</style>\n",
       "<table border=\"1\" class=\"dataframe\">\n",
       "  <thead>\n",
       "    <tr style=\"text-align: right;\">\n",
       "      <th></th>\n",
       "      <th>SVM-acc</th>\n",
       "      <th>SVM-precision</th>\n",
       "      <th>SVM-recall</th>\n",
       "      <th>SVM-f1</th>\n",
       "    </tr>\n",
       "  </thead>\n",
       "  <tbody>\n",
       "    <tr>\n",
       "      <th>mean</th>\n",
       "      <td>1.0</td>\n",
       "      <td>1.0</td>\n",
       "      <td>1.0</td>\n",
       "      <td>1.0</td>\n",
       "    </tr>\n",
       "    <tr>\n",
       "      <th>std</th>\n",
       "      <td>0.0</td>\n",
       "      <td>0.0</td>\n",
       "      <td>0.0</td>\n",
       "      <td>0.0</td>\n",
       "    </tr>\n",
       "  </tbody>\n",
       "</table>\n",
       "</div>"
      ],
      "text/plain": [
       "      SVM-acc  SVM-precision  SVM-recall  SVM-f1\n",
       "mean      1.0            1.0         1.0     1.0\n",
       "std       0.0            0.0         0.0     0.0"
      ]
     },
     "execution_count": 24,
     "metadata": {},
     "output_type": "execute_result"
    }
   ],
   "source": [
    "# cv-3 index6-nri\n",
    "nri_df"
   ]
  },
  {
   "cell_type": "markdown",
   "metadata": {},
   "source": [
    "---------\n",
    "### Unsupervised"
   ]
  },
  {
   "cell_type": "code",
   "execution_count": 39,
   "metadata": {},
   "outputs": [],
   "source": [
    "# RI autoencoder\n",
    "unsp_ri_dicts = read_files(base_datadir='./cross_validation_index6_nri', expname='67011582',\n",
    "                      clf_keys=['HAC'], cv=1,\n",
    "                     )"
   ]
  },
  {
   "cell_type": "code",
   "execution_count": 36,
   "metadata": {},
   "outputs": [],
   "source": [
    "# NRI autoencoder\n",
    "unsp_nri_dicts = read_files(base_datadir='./cross_validation_index6_ri', expname='m2_02_global_2000_2018_band28_29_31',\n",
    "                      clf_keys=['HAC'], cv=1,\n",
    "                     )"
   ]
  },
  {
   "cell_type": "code",
   "execution_count": 58,
   "metadata": {
    "scrolled": false
   },
   "outputs": [
    {
     "data": {
      "text/plain": [
       "[{'idx-759-805': {'ami': -0.0008666693179639156,\n",
       "   'cls': 0.00014051126561311813,\n",
       "   'hs': 0.00013994059423128215},\n",
       "  'idx-759-1607': {'ami': 0.0025935420553368314,\n",
       "   'cls': 0.0036374818115693626,\n",
       "   'hs': 0.0035714247490163434},\n",
       "  'idx-759-1999': {'ami': -0.0010078742275601523, 'cls': 0.0, 'hs': 0.0},\n",
       "  'idx-805-1607': {'ami': 0.0014618242522215588,\n",
       "   'cls': 0.002467820036102476,\n",
       "   'hs': 0.002462859118332257},\n",
       "  'idx-805-1999': {'ami': 0.0012248761596611556,\n",
       "   'cls': 0.0022276464365250676,\n",
       "   'hs': 0.0022275968403676753},\n",
       "  'idx-1159-1648': {'ami': -0.00028139786218036,\n",
       "   'cls': 0.0007758330676763614,\n",
       "   'hs': 0.0007311857143350411},\n",
       "  'idx-1607-1648': {'ami': -0.0007318828742833975,\n",
       "   'cls': 0.00027674067071952667,\n",
       "   'hs': 0.00027506089906214},\n",
       "  'idx-1648-1999': {'ami': -0.0003270888719239223,\n",
       "   'cls': 0.0006811802441646844,\n",
       "   'hs': 0.0006779882046892799}},\n",
       " {'idx-759-1159': {'ami': 0.00027239697302008074,\n",
       "   'cls': 0.001290367476951714,\n",
       "   'hs': 0.0012744567829897626},\n",
       "  'idx-759-1648': {'ami': -0.0005488420515479541,\n",
       "   'cls': 0.0004656469119958071,\n",
       "   'hs': 0.00045940471683543553},\n",
       "  'idx-805-1159': {'ami': -0.0009163091357161249,\n",
       "   'cls': 8.936073417251447e-05,\n",
       "   'hs': 8.92333635409049e-05},\n",
       "  'idx-805-1648': {'ami': -0.0008043993783854274,\n",
       "   'cls': 0.00020042618572478396,\n",
       "   'hs': 0.00020040833635353886},\n",
       "  'idx-1159-1607': {'ami': -0.0009299476042317629,\n",
       "   'cls': 9.854371127129191e-05,\n",
       "   'hs': 9.444758906850333e-05},\n",
       "  'idx-1159-1999': {'ami': -0.0002006967912909908,\n",
       "   'cls': 0.0008051092587380036,\n",
       "   'hs': 0.0008036567442514869},\n",
       "  'idx-1607-1999': {'ami': -0.0010750484445074028, 'cls': 0.0, 'hs': 0.0}}]"
      ]
     },
     "execution_count": 58,
     "metadata": {},
     "output_type": "execute_result"
    }
   ],
   "source": [
    "unsp_ri_dicts['HAC']"
   ]
  },
  {
   "cell_type": "code",
   "execution_count": 65,
   "metadata": {},
   "outputs": [
    {
     "data": {
      "text/plain": [
       "[{'idx-759-805': {'ami': 0.003520643567295613,\n",
       "   'cls': 0.004964511977655908,\n",
       "   'hs': 0.004278444475921227},\n",
       "  'idx-759-1607': {'ami': 0.00011539018669041523,\n",
       "   'cls': 0.0011382455955925197,\n",
       "   'hs': 0.0011182968021278658},\n",
       "  'idx-759-1999': {'ami': -0.0004422695109448578,\n",
       "   'cls': 0.0005699622319568549,\n",
       "   'hs': 0.0005643533838195997},\n",
       "  'idx-805-1607': {'ami': 1.0, 'cls': 1.0, 'hs': 1.0},\n",
       "  'idx-805-1999': {'ami': 0.033315112296455285,\n",
       "   'cls': 0.03456671505892557,\n",
       "   'hs': 0.03402430327034902},\n",
       "  'idx-1159-1648': {'ami': 1.0, 'cls': 1.0, 'hs': 1.0},\n",
       "  'idx-1607-1648': {'ami': -0.0004025930883051342,\n",
       "   'cls': 0.0006634674524505768,\n",
       "   'hs': 0.0006163668153352312},\n",
       "  'idx-1648-1999': {'ami': 1.0, 'cls': 1.0, 'hs': 1.0}},\n",
       " {'idx-759-1159': {'ami': 0.00027239697302008074,\n",
       "   'cls': 0.001290367476951714,\n",
       "   'hs': 0.0012744567829897626},\n",
       "  'idx-759-1648': {'ami': 1.0, 'cls': 1.0, 'hs': 1.0},\n",
       "  'idx-805-1159': {'ami': -0.0002586629668702861,\n",
       "   'cls': 0.0008223458570149306,\n",
       "   'hs': 0.0007562937759563781},\n",
       "  'idx-805-1648': {'ami': 1.0, 'cls': 1.0, 'hs': 1.0},\n",
       "  'idx-1159-1607': {'ami': 1.0, 'cls': 1.0, 'hs': 1.0},\n",
       "  'idx-1159-1999': {'ami': -0.0009629017793631588,\n",
       "   'cls': 5.2498655183953895e-05,\n",
       "   'hs': 5.147688632162968e-05},\n",
       "  'idx-1607-1999': {'ami': 0.2999734412095742,\n",
       "   'cls': 0.3484851413765691,\n",
       "   'hs': 0.2645531142088689}}]"
      ]
     },
     "execution_count": 65,
     "metadata": {},
     "output_type": "execute_result"
    }
   ],
   "source": [
    "unsp_nri_dicts['HAC']"
   ]
  },
  {
   "cell_type": "code",
   "execution_count": 145,
   "metadata": {},
   "outputs": [],
   "source": [
    "ridata = []\n",
    "for i in unsp_ri_dicts['HAC']:\n",
    "    key = i.keys()\n",
    "    #print(key)\n",
    "    for j in range(2):\n",
    "        item = unsp_ri_dicts['HAC'][j]\n",
    "        for k in item.keys():\n",
    "            #print(item[k]['ami'])\n",
    "            ridata.append(item[k]['ami'])\n",
    "            #print(item[k]['ami'])"
   ]
  },
  {
   "cell_type": "code",
   "execution_count": 147,
   "metadata": {},
   "outputs": [
    {
     "data": {
      "text/plain": [
       "(-0.0005733180510109085, -0.0010423096085329358, 0.0026387198903057092)"
      ]
     },
     "execution_count": 147,
     "metadata": {},
     "output_type": "execute_result"
    }
   ],
   "source": [
    "np.mean(ridata), np.min(ridata), np.max(ridata)"
   ]
  },
  {
   "cell_type": "code",
   "execution_count": 148,
   "metadata": {},
   "outputs": [
    {
     "data": {
      "text/plain": [
       "[-0.0010170898058162801,\n",
       " -0.0010275453572697873,\n",
       " -0.0010423096085329358,\n",
       " -0.00073192145865917,\n",
       " -0.0010423096085329358,\n",
       " -0.0010423096085329358,\n",
       " -0.0004328287243090803,\n",
       " 0.0026387198903057092,\n",
       " -0.0010300269815793975,\n",
       " -0.0010055592471822701,\n",
       " -0.0010170898058162801,\n",
       " -0.0010275453572697873,\n",
       " -0.0010423096085329358,\n",
       " -0.00073192145865917,\n",
       " -0.0010423096085329358,\n",
       " -0.0010423096085329358,\n",
       " -0.0004328287243090803,\n",
       " 0.0026387198903057092,\n",
       " -0.0010300269815793975,\n",
       " -0.0010055592471822701]"
      ]
     },
     "execution_count": 148,
     "metadata": {},
     "output_type": "execute_result"
    }
   ],
   "source": [
    "ridata"
   ]
  },
  {
   "cell_type": "code",
   "execution_count": 142,
   "metadata": {},
   "outputs": [],
   "source": [
    "data = []\n",
    "for i in unsp_nri_dicts['HAC']:\n",
    "    key = i.keys()\n",
    "    #print(key)\n",
    "    for j in range(2):\n",
    "        item = unsp_nri_dicts['HAC'][j]\n",
    "        for k in item.keys():\n",
    "            #print(item[k]['ami'])\n",
    "            data.append(item[k]['ami'])\n",
    "            #print(item[k]['ami'])"
   ]
  },
  {
   "cell_type": "code",
   "execution_count": 143,
   "metadata": {},
   "outputs": [
    {
     "data": {
      "text/plain": [
       "(0.20122715306625927, -0.0009868509402072411, 1.0)"
      ]
     },
     "execution_count": 143,
     "metadata": {},
     "output_type": "execute_result"
    }
   ],
   "source": [
    "np.mean(data), np.min(data), np.max(data)"
   ]
  },
  {
   "cell_type": "code",
   "execution_count": 152,
   "metadata": {},
   "outputs": [
    {
     "data": {
      "text/plain": [
       "dict_keys(['idx-955', 'idx-1514', 'idx-1505', 'idx-1510', 'idx-1555'])"
      ]
     },
     "execution_count": 152,
     "metadata": {},
     "output_type": "execute_result"
    }
   ],
   "source": [
    "unsp_nri_dicts['HAC'][0].keys()"
   ]
  },
  {
   "cell_type": "code",
   "execution_count": 144,
   "metadata": {},
   "outputs": [
    {
     "data": {
      "text/plain": [
       "[-0.0008082640984680561,\n",
       " 1.0,\n",
       " 0.00011970136859962513,\n",
       " 0.004499074838089013,\n",
       " -0.0005522145274918566,\n",
       " 0.000518949088698642,\n",
       " 1.0,\n",
       " -0.0009868509402072411,\n",
       " 0.0002577766580890622,\n",
       " 0.00922335827528337,\n",
       " -0.0008082640984680561,\n",
       " 1.0,\n",
       " 0.00011970136859962513,\n",
       " 0.004499074838089013,\n",
       " -0.0005522145274918566,\n",
       " 0.000518949088698642,\n",
       " 1.0,\n",
       " -0.0009868509402072411,\n",
       " 0.0002577766580890622,\n",
       " 0.00922335827528337]"
      ]
     },
     "execution_count": 144,
     "metadata": {},
     "output_type": "execute_result"
    }
   ],
   "source": [
    "data, "
   ]
  },
  {
   "cell_type": "code",
   "execution_count": 34,
   "metadata": {},
   "outputs": [
    {
     "data": {
      "text/plain": [
       "[{'idx-955-1208': {'ami': 9.628868513313691e-05,\n",
       "   'cls': 0.001106216835036708,\n",
       "   'hs': 0.0010999035832701459},\n",
       "  'idx-1514-1505': {'ami': -0.0009595040351367614,\n",
       "   'cls': 5.147100310373751e-05,\n",
       "   'hs': 5.088935031268072e-05},\n",
       "  'idx-1505-1514': {'ami': -0.0009595040351367614,\n",
       "   'cls': 5.147100310373751e-05,\n",
       "   'hs': 5.088935031268072e-05},\n",
       "  'idx-1510-20': {'ami': -0.0006298754291502134,\n",
       "   'cls': 0.0004364653413719899,\n",
       "   'hs': 0.000400804304691069},\n",
       "  'idx-1555-1187': {'ami': -0.0009853460797848487,\n",
       "   'cls': 2.2570053788935822e-05,\n",
       "   'hs': 2.2441245017055518e-05},\n",
       "  'idx-941-884': {'ami': -0.000809251255782251,\n",
       "   'cls': 0.00022173086401534674,\n",
       "   'hs': 0.00021251427674235095},\n",
       "  'idx-903-893': {'ami': -0.001029720687327424, 'cls': 0.0, 'hs': 0.0},\n",
       "  'idx-893-903': {'ami': -0.001029720687327424, 'cls': 0.0, 'hs': 0.0},\n",
       "  'idx-1925-1918': {'ami': -0.0010082500174569407,\n",
       "   'cls': 1.1284709642214744e-15,\n",
       "   'hs': 1.1211992763352211e-15},\n",
       "  'idx-887-1472': {'ami': -0.0010423096085329358,\n",
       "   'cls': 1.206877477910579e-15,\n",
       "   'hs': 1.1211992763352211e-15}},\n",
       " {'idx-942-955': {'ami': -0.0008754076787530386,\n",
       "   'cls': 0.00015360618902972607,\n",
       "   'hs': 0.00014737035442670328},\n",
       "  'idx-1202-1196': {'ami': -0.0010423096085329358,\n",
       "   'cls': 1.206877477910579e-15,\n",
       "   'hs': 1.1211992763352211e-15},\n",
       "  'idx-1961-1974': {'ami': -0.0010109954768506464,\n",
       "   'cls': 8.104276278536441e-16,\n",
       "   'hs': 8.008566259537294e-16},\n",
       "  'idx-1526-1401': {'ami': -0.0010423096085329358,\n",
       "   'cls': 1.206877477910579e-15,\n",
       "   'hs': 1.1211992763352211e-15},\n",
       "  'idx-1131-1450': {'ami': -0.0009417633301669822,\n",
       "   'cls': 0.00010757892359331818,\n",
       "   'hs': 9.937618959588666e-05},\n",
       "  'idx-884-941': {'ami': -0.000809251255782251,\n",
       "   'cls': 0.00022173086401534674,\n",
       "   'hs': 0.00021251427674235095},\n",
       "  'idx-1918-1925': {'ami': -0.0010082500174569407,\n",
       "   'cls': 1.1284709642214744e-15,\n",
       "   'hs': 1.1211992763352211e-15},\n",
       "  'idx-1933-414': {'ami': -0.0009306205033001973,\n",
       "   'cls': 9.902934232380489e-05,\n",
       "   'hs': 9.471734775800392e-05},\n",
       "  'idx-929-893': {'ami': -0.000954940874333059,\n",
       "   'cls': 5.012677781679985e-05,\n",
       "   'hs': 5.011310579378965e-05},\n",
       "  'idx-1476-1461': {'ami': -0.001004292342481563,\n",
       "   'cls': 2.4882004938192213e-05,\n",
       "   'hs': 2.374823157395754e-05}}]"
      ]
     },
     "execution_count": 34,
     "metadata": {},
     "output_type": "execute_result"
    }
   ],
   "source": [
    "# index6-ri\n",
    "unsp_ri_dicts['HAC']"
   ]
  },
  {
   "cell_type": "code",
   "execution_count": 35,
   "metadata": {},
   "outputs": [
    {
     "data": {
      "text/plain": [
       "[]"
      ]
     },
     "execution_count": 35,
     "metadata": {},
     "output_type": "execute_result"
    }
   ],
   "source": [
    "# index6-ri\n",
    "unsp_nri_dicts['HAC']"
   ]
  },
  {
   "cell_type": "code",
   "execution_count": 40,
   "metadata": {},
   "outputs": [
    {
     "data": {
      "text/plain": [
       "[{'idx-942-1013': {'ami': -0.0010366046394002673,\n",
       "   'cls': 6.655395080479405e-06,\n",
       "   'hs': 6.1742944894523725e-06},\n",
       "  'idx-1202-229': {'ami': 0.0017135401249545252,\n",
       "   'cls': 0.0027239569125521866,\n",
       "   'hs': 0.002712058348623539},\n",
       "  'idx-1961-1810': {'ami': -0.0009672580954280712,\n",
       "   'cls': 5.3850831794717774e-05,\n",
       "   'hs': 5.224243380585568e-05},\n",
       "  'idx-1526-199': {'ami': -0.0007319267275698662,\n",
       "   'cls': 0.0002743542665302776,\n",
       "   'hs': 0.0002736804581366006},\n",
       "  'idx-1131-1288': {'ami': -0.0010366046394002673,\n",
       "   'cls': 6.655395080479405e-06,\n",
       "   'hs': 6.1742944894523725e-06},\n",
       "  'idx-884-1096': {'ami': -0.00027915798552344994,\n",
       "   'cls': 0.0007804292409816925,\n",
       "   'hs': 0.0007336952506557773},\n",
       "  'idx-1918-1599': {'ami': -0.0005396476297249594,\n",
       "   'cls': 0.0004931089636694064,\n",
       "   'hs': 0.00047494640206757597},\n",
       "  'idx-1933-327': {'ami': -0.0009701897960774967,\n",
       "   'cls': 5.47833996268634e-05,\n",
       "   'hs': 5.2765576095373744e-05},\n",
       "  'idx-929-1880': {'ami': -0.0003218647846399524,\n",
       "   'cls': 0.0006921067711752029,\n",
       "   'hs': 0.000684285555133386},\n",
       "  'idx-1476-235': {'ami': 0.012065297403216288,\n",
       "   'cls': 0.01362635166942189,\n",
       "   'hs': 0.012605523603393114}},\n",
       " {'idx-955-35': {'ami': -0.0009583349177459283,\n",
       "   'cls': 5.11227312253869e-05,\n",
       "   'hs': 5.068908510302392e-05},\n",
       "  'idx-1514-428': {'ami': 0.1864001827159622,\n",
       "   'cls': 0.2602728151913841,\n",
       "   'hs': 0.14646769870093823},\n",
       "  'idx-1505-517': {'ami': -0.0005117702150922379,\n",
       "   'cls': 0.0005714861979178937,\n",
       "   'hs': 0.0005173580974010647},\n",
       "  'idx-1510-999': {'ami': 0.00030399927488542513,\n",
       "   'cls': 0.0013413625986015629,\n",
       "   'hs': 0.0013034788256867616},\n",
       "  'idx-1555-1563': {'ami': -0.0010170898058162801,\n",
       "   'cls': 6.05977833355448e-06,\n",
       "   'hs': 5.847556256999062e-06},\n",
       "  'idx-941-22': {'ami': 0.003528603148193818,\n",
       "   'cls': 0.004585906933964007,\n",
       "   'hs': 0.004493586925501213},\n",
       "  'idx-903-1291': {'ami': -0.0008071914540382814,\n",
       "   'cls': 0.00021177892000948768,\n",
       "   'hs': 0.00020692499434144866},\n",
       "  'idx-893-253': {'ami': -0.0004437475228363629,\n",
       "   'cls': 0.0005663859398067401,\n",
       "   'hs': 0.0005622934921380084},\n",
       "  'idx-1925-1135': {'ami': -0.0010028026057987845,\n",
       "   'cls': 5.657709894403483e-06,\n",
       "   'hs': 5.6190729713614895e-06},\n",
       "  'idx-887-508': {'ami': 0.009851728895719444,\n",
       "   'cls': 0.011008085636526907,\n",
       "   'hs': 0.010714564027303778}}]"
      ]
     },
     "execution_count": 40,
     "metadata": {},
     "output_type": "execute_result"
    }
   ],
   "source": [
    "# index6-nri\n",
    "unsp_ri_dicts['HAC']"
   ]
  }
 ],
 "metadata": {
  "kernelspec": {
   "display_name": "Python 3",
   "language": "python",
   "name": "python3"
  },
  "language_info": {
   "codemirror_mode": {
    "name": "ipython",
    "version": 3
   },
   "file_extension": ".py",
   "mimetype": "text/x-python",
   "name": "python",
   "nbconvert_exporter": "python",
   "pygments_lexer": "ipython3",
   "version": "3.6.6"
  }
 },
 "nbformat": 4,
 "nbformat_minor": 4
}
