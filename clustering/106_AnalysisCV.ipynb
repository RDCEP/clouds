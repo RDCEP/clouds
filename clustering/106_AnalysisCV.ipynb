{
 "cells": [
  {
   "cell_type": "markdown",
   "metadata": {},
   "source": [
    "### Notebook for cross validation "
   ]
  },
  {
   "cell_type": "code",
   "execution_count": 1,
   "metadata": {},
   "outputs": [],
   "source": [
    "import os\n",
    "import glob\n",
    "import numpy as np\n",
    "import pandas as pd\n",
    "import matplotlib.pyplot as plt"
   ]
  },
  {
   "cell_type": "code",
   "execution_count": 2,
   "metadata": {},
   "outputs": [],
   "source": [
    "import pickle"
   ]
  },
  {
   "cell_type": "markdown",
   "metadata": {},
   "source": [
    "#### Load results pickle"
   ]
  },
  {
   "cell_type": "code",
   "execution_count": 3,
   "metadata": {},
   "outputs": [],
   "source": [
    "def _read_pickle(filename):\n",
    "    with open(filename, 'rb') as handle:\n",
    "        d = pickle.load(handle)\n",
    "    return d"
   ]
  },
  {
   "cell_type": "code",
   "execution_count": 91,
   "metadata": {},
   "outputs": [],
   "source": [
    "def read_files(base_datadir=None, expname=None, clf_keys=[], cv=None):\n",
    "    dicts = {}\n",
    "    for clf_key in clf_keys:\n",
    "        datadir = os.path.join(base_datadir,\"{}/cv-{}/{}\".format(str(expname), str(cv), clf_key) )\n",
    "        filelist = glob.glob(os.path.join(datadir, \"*.pkl\"))\n",
    "        tmp_list = []\n",
    "        for ifile in filelist:\n",
    "            #print((_read_pickle(ifile)))\n",
    "            tmp_list.append(_read_pickle(ifile))\n",
    "        dicts[clf_key] = tmp_list\n",
    "    return dicts"
   ]
  },
  {
   "cell_type": "code",
   "execution_count": 133,
   "metadata": {},
   "outputs": [],
   "source": [
    "# RI autoencoder\n",
    "ri_dicts = read_files(base_datadir='./cross_validation', expname='67011582',\n",
    "                      clf_keys=['SVM', \"MLP\", \"RF\", \"ADABOOST\"], cv=4,\n",
    "                     )"
   ]
  },
  {
   "cell_type": "code",
   "execution_count": 134,
   "metadata": {},
   "outputs": [],
   "source": [
    "# NRI autoencoder\n",
    "nri_dicts = read_files(base_datadir='./cross_validation', expname='m2_02_global_2000_2018_band28_29_31',\n",
    "                      clf_keys=['SVM', \"MLP\", \"RF\", \"ADABOOST\"], cv=4,\n",
    "                     )"
   ]
  },
  {
   "cell_type": "code",
   "execution_count": 94,
   "metadata": {},
   "outputs": [
    {
     "data": {
      "text/plain": [
       "{'fit_time': array([0.21437693, 0.19412374, 0.17950153]),\n",
       " 'score_time': array([0.12303901, 0.10711384, 0.13404226]),\n",
       " 'test_accuracy': array([1., 1., 1.]),\n",
       " 'test_precision': array([1., 1., 1.]),\n",
       " 'test_recall': array([1., 1., 1.]),\n",
       " 'test_f1': array([1., 1., 1.]),\n",
       " 'test_average_precision': array([1., 1., 1.]),\n",
       " 'test_roc_auc': array([1., 1., 1.])}"
      ]
     },
     "execution_count": 94,
     "metadata": {},
     "output_type": "execute_result"
    }
   ],
   "source": [
    "ri_dicts['SVM'][0]['idx-1742']"
   ]
  },
  {
   "cell_type": "code",
   "execution_count": 95,
   "metadata": {},
   "outputs": [
    {
     "data": {
      "text/plain": [
       "dict_keys(['idx-1742', 'idx-1947', 'idx-629', 'idx-864', 'idx-1243', 'idx-1634', 'idx-848', 'idx-822', 'idx-634', 'idx-522', 'idx-344', 'idx-1508', 'idx-62', 'idx-352', 'idx-749', 'idx-1192', 'idx-431', 'idx-1743', 'idx-1803', 'idx-724', 'idx-167', 'idx-273', 'idx-1523', 'idx-733', 'idx-41'])"
      ]
     },
     "execution_count": 95,
     "metadata": {},
     "output_type": "execute_result"
    }
   ],
   "source": [
    "ri_dicts['SVM'][0].keys()"
   ]
  },
  {
   "cell_type": "markdown",
   "metadata": {},
   "source": [
    "#### Analysis\n",
    "  'test_accuracy',\n",
    "  'test_precision',\n",
    "  'test_recall',\n",
    "  'test_f1'"
   ]
  },
  {
   "cell_type": "code",
   "execution_count": 117,
   "metadata": {},
   "outputs": [],
   "source": [
    "def decode_dict(dicts={}, clf_keys=[], nfiles=4):\n",
    "\n",
    "    result_dicts = {}\n",
    "    for clf_key in clf_keys:\n",
    "        accs = []\n",
    "        precisions = []\n",
    "        recalls = []\n",
    "        f1s = []\n",
    "        for i in range(nfiles):\n",
    "            ind = dicts[clf_key][i]    \n",
    "            for idx in ind.keys():\n",
    "                for item in dicts[clf_key][i][idx].keys():\n",
    "                    if  item == 'test_accuracy':\n",
    "                        accs.append(dicts[clf_key][i][idx][item])\n",
    "                    elif item  ==  'test_precision':\n",
    "                        precisions.append(dicts[clf_key][i][idx][item])\n",
    "                    elif item  ==  'test_recall':\n",
    "                        recalls.append(dicts[clf_key][i][idx][item])\n",
    "                    elif item  == 'test_f1':\n",
    "                        f1s.append(dicts[clf_key][i][idx][item])\n",
    "        result_dicts[clf_key+'-acc'] = np.concatenate(accs)\n",
    "        result_dicts[clf_key+'-precision'] = np.concatenate(precisions)\n",
    "        result_dicts[clf_key+'-recall'] = np.concatenate(recalls)\n",
    "        result_dicts[clf_key+'-f1'] =np.concatenate(f1s)\n",
    "    return result_dicts"
   ]
  },
  {
   "cell_type": "code",
   "execution_count": 135,
   "metadata": {},
   "outputs": [],
   "source": [
    "ri_results = decode_dict(ri_dicts,clf_keys=['SVM', \"MLP\", \"RF\", \"ADABOOST\"] )"
   ]
  },
  {
   "cell_type": "code",
   "execution_count": 136,
   "metadata": {},
   "outputs": [],
   "source": [
    "nri_results = decode_dict(nri_dicts,clf_keys=['SVM', \"MLP\", \"RF\", \"ADABOOST\"] )"
   ]
  },
  {
   "cell_type": "code",
   "execution_count": 125,
   "metadata": {},
   "outputs": [
    {
     "data": {
      "text/plain": [
       "dict_keys(['SVM-acc', 'SVM-precision', 'SVM-recall', 'SVM-f1', 'MLP-acc', 'MLP-precision', 'MLP-recall', 'MLP-f1', 'RF-acc', 'RF-precision', 'RF-recall', 'RF-f1', 'ADABOOST-acc', 'ADABOOST-precision', 'ADABOOST-recall', 'ADABOOST-f1'])"
      ]
     },
     "execution_count": 125,
     "metadata": {},
     "output_type": "execute_result"
    }
   ],
   "source": [
    "ri_results.keys()"
   ]
  },
  {
   "cell_type": "markdown",
   "metadata": {},
   "source": [
    "#### Make pandas frame"
   ]
  },
  {
   "cell_type": "code",
   "execution_count": 128,
   "metadata": {},
   "outputs": [],
   "source": [
    "def stats_df(result_dicts):\n",
    "    data = np.zeros((2,len(result_dicts.keys()) ))\n",
    "    for idx, ikey in enumerate(result_dicts.keys()):\n",
    "        data[0][idx] = np.mean(result_dicts[ikey])\n",
    "        data[1][idx] = np.std(result_dicts[ikey])\n",
    "    df = pd.DataFrame(data)\n",
    "    df.columns = [i for i in result_dicts.keys() ]\n",
    "    df.index = ['mean', 'std']\n",
    "    return df"
   ]
  },
  {
   "cell_type": "code",
   "execution_count": 137,
   "metadata": {},
   "outputs": [],
   "source": [
    "ri_df = stats_df(ri_results)"
   ]
  },
  {
   "cell_type": "code",
   "execution_count": 130,
   "metadata": {},
   "outputs": [
    {
     "data": {
      "text/html": [
       "<div>\n",
       "<style scoped>\n",
       "    .dataframe tbody tr th:only-of-type {\n",
       "        vertical-align: middle;\n",
       "    }\n",
       "\n",
       "    .dataframe tbody tr th {\n",
       "        vertical-align: top;\n",
       "    }\n",
       "\n",
       "    .dataframe thead th {\n",
       "        text-align: right;\n",
       "    }\n",
       "</style>\n",
       "<table border=\"1\" class=\"dataframe\">\n",
       "  <thead>\n",
       "    <tr style=\"text-align: right;\">\n",
       "      <th></th>\n",
       "      <th>SVM-acc</th>\n",
       "      <th>SVM-precision</th>\n",
       "      <th>SVM-recall</th>\n",
       "      <th>SVM-f1</th>\n",
       "      <th>MLP-acc</th>\n",
       "      <th>MLP-precision</th>\n",
       "      <th>MLP-recall</th>\n",
       "      <th>MLP-f1</th>\n",
       "      <th>RF-acc</th>\n",
       "      <th>RF-precision</th>\n",
       "      <th>RF-recall</th>\n",
       "      <th>RF-f1</th>\n",
       "      <th>ADABOOST-acc</th>\n",
       "      <th>ADABOOST-precision</th>\n",
       "      <th>ADABOOST-recall</th>\n",
       "      <th>ADABOOST-f1</th>\n",
       "    </tr>\n",
       "  </thead>\n",
       "  <tbody>\n",
       "    <tr>\n",
       "      <th>mean</th>\n",
       "      <td>0.955819</td>\n",
       "      <td>0.946523</td>\n",
       "      <td>0.984417</td>\n",
       "      <td>0.959915</td>\n",
       "      <td>0.761792</td>\n",
       "      <td>0.803781</td>\n",
       "      <td>0.794972</td>\n",
       "      <td>0.743980</td>\n",
       "      <td>0.621917</td>\n",
       "      <td>0.66233</td>\n",
       "      <td>0.654139</td>\n",
       "      <td>0.602946</td>\n",
       "      <td>0.759514</td>\n",
       "      <td>0.802425</td>\n",
       "      <td>0.778806</td>\n",
       "      <td>0.746152</td>\n",
       "    </tr>\n",
       "    <tr>\n",
       "      <th>std</th>\n",
       "      <td>0.082433</td>\n",
       "      <td>0.106092</td>\n",
       "      <td>0.072699</td>\n",
       "      <td>0.075175</td>\n",
       "      <td>0.175266</td>\n",
       "      <td>0.197899</td>\n",
       "      <td>0.298573</td>\n",
       "      <td>0.231919</td>\n",
       "      <td>0.094289</td>\n",
       "      <td>0.14693</td>\n",
       "      <td>0.278112</td>\n",
       "      <td>0.164397</td>\n",
       "      <td>0.123540</td>\n",
       "      <td>0.159165</td>\n",
       "      <td>0.255191</td>\n",
       "      <td>0.162875</td>\n",
       "    </tr>\n",
       "  </tbody>\n",
       "</table>\n",
       "</div>"
      ],
      "text/plain": [
       "       SVM-acc  SVM-precision  SVM-recall    SVM-f1   MLP-acc  MLP-precision  \\\n",
       "mean  0.955819       0.946523    0.984417  0.959915  0.761792       0.803781   \n",
       "std   0.082433       0.106092    0.072699  0.075175  0.175266       0.197899   \n",
       "\n",
       "      MLP-recall    MLP-f1    RF-acc  RF-precision  RF-recall     RF-f1  \\\n",
       "mean    0.794972  0.743980  0.621917       0.66233   0.654139  0.602946   \n",
       "std     0.298573  0.231919  0.094289       0.14693   0.278112  0.164397   \n",
       "\n",
       "      ADABOOST-acc  ADABOOST-precision  ADABOOST-recall  ADABOOST-f1  \n",
       "mean      0.759514            0.802425         0.778806     0.746152  \n",
       "std       0.123540            0.159165         0.255191     0.162875  "
      ]
     },
     "execution_count": 130,
     "metadata": {},
     "output_type": "execute_result"
    }
   ],
   "source": [
    "# cv-3\n",
    "ri_df"
   ]
  },
  {
   "cell_type": "code",
   "execution_count": 139,
   "metadata": {},
   "outputs": [
    {
     "data": {
      "text/html": [
       "<div>\n",
       "<style scoped>\n",
       "    .dataframe tbody tr th:only-of-type {\n",
       "        vertical-align: middle;\n",
       "    }\n",
       "\n",
       "    .dataframe tbody tr th {\n",
       "        vertical-align: top;\n",
       "    }\n",
       "\n",
       "    .dataframe thead th {\n",
       "        text-align: right;\n",
       "    }\n",
       "</style>\n",
       "<table border=\"1\" class=\"dataframe\">\n",
       "  <thead>\n",
       "    <tr style=\"text-align: right;\">\n",
       "      <th></th>\n",
       "      <th>SVM-acc</th>\n",
       "      <th>SVM-precision</th>\n",
       "      <th>SVM-recall</th>\n",
       "      <th>SVM-f1</th>\n",
       "      <th>MLP-acc</th>\n",
       "      <th>MLP-precision</th>\n",
       "      <th>MLP-recall</th>\n",
       "      <th>MLP-f1</th>\n",
       "      <th>RF-acc</th>\n",
       "      <th>RF-precision</th>\n",
       "      <th>RF-recall</th>\n",
       "      <th>RF-f1</th>\n",
       "      <th>ADABOOST-acc</th>\n",
       "      <th>ADABOOST-precision</th>\n",
       "      <th>ADABOOST-recall</th>\n",
       "      <th>ADABOOST-f1</th>\n",
       "    </tr>\n",
       "  </thead>\n",
       "  <tbody>\n",
       "    <tr>\n",
       "      <th>mean</th>\n",
       "      <td>0.955208</td>\n",
       "      <td>0.950578</td>\n",
       "      <td>0.973889</td>\n",
       "      <td>0.957615</td>\n",
       "      <td>0.800417</td>\n",
       "      <td>0.854316</td>\n",
       "      <td>0.816111</td>\n",
       "      <td>0.781870</td>\n",
       "      <td>0.640139</td>\n",
       "      <td>0.688665</td>\n",
       "      <td>0.671944</td>\n",
       "      <td>0.625542</td>\n",
       "      <td>0.789444</td>\n",
       "      <td>0.817188</td>\n",
       "      <td>0.822222</td>\n",
       "      <td>0.783977</td>\n",
       "    </tr>\n",
       "    <tr>\n",
       "      <th>std</th>\n",
       "      <td>0.080519</td>\n",
       "      <td>0.099336</td>\n",
       "      <td>0.082908</td>\n",
       "      <td>0.077415</td>\n",
       "      <td>0.179563</td>\n",
       "      <td>0.187530</td>\n",
       "      <td>0.285168</td>\n",
       "      <td>0.233146</td>\n",
       "      <td>0.089123</td>\n",
       "      <td>0.151740</td>\n",
       "      <td>0.264732</td>\n",
       "      <td>0.151315</td>\n",
       "      <td>0.137197</td>\n",
       "      <td>0.166044</td>\n",
       "      <td>0.236389</td>\n",
       "      <td>0.169989</td>\n",
       "    </tr>\n",
       "  </tbody>\n",
       "</table>\n",
       "</div>"
      ],
      "text/plain": [
       "       SVM-acc  SVM-precision  SVM-recall    SVM-f1   MLP-acc  MLP-precision  \\\n",
       "mean  0.955208       0.950578    0.973889  0.957615  0.800417       0.854316   \n",
       "std   0.080519       0.099336    0.082908  0.077415  0.179563       0.187530   \n",
       "\n",
       "      MLP-recall    MLP-f1    RF-acc  RF-precision  RF-recall     RF-f1  \\\n",
       "mean    0.816111  0.781870  0.640139      0.688665   0.671944  0.625542   \n",
       "std     0.285168  0.233146  0.089123      0.151740   0.264732  0.151315   \n",
       "\n",
       "      ADABOOST-acc  ADABOOST-precision  ADABOOST-recall  ADABOOST-f1  \n",
       "mean      0.789444            0.817188         0.822222     0.783977  \n",
       "std       0.137197            0.166044         0.236389     0.169989  "
      ]
     },
     "execution_count": 139,
     "metadata": {},
     "output_type": "execute_result"
    }
   ],
   "source": [
    "# cv-4\n",
    "ri_df"
   ]
  },
  {
   "cell_type": "code",
   "execution_count": 144,
   "metadata": {},
   "outputs": [
    {
     "data": {
      "text/plain": [
       "0.7963020833333334"
      ]
     },
     "execution_count": 144,
     "metadata": {},
     "output_type": "execute_result"
    }
   ],
   "source": [
    "np.mean([  ri_df[i+'-acc']['mean'] for i in ['SVM', \"MLP\", \"RF\", \"ADABOOST\"] ])"
   ]
  },
  {
   "cell_type": "code",
   "execution_count": null,
   "metadata": {},
   "outputs": [],
   "source": []
  },
  {
   "cell_type": "markdown",
   "metadata": {},
   "source": [
    "---------"
   ]
  },
  {
   "cell_type": "code",
   "execution_count": 138,
   "metadata": {},
   "outputs": [],
   "source": [
    "nri_df = stats_df(nri_results)"
   ]
  },
  {
   "cell_type": "code",
   "execution_count": 132,
   "metadata": {},
   "outputs": [
    {
     "data": {
      "text/html": [
       "<div>\n",
       "<style scoped>\n",
       "    .dataframe tbody tr th:only-of-type {\n",
       "        vertical-align: middle;\n",
       "    }\n",
       "\n",
       "    .dataframe tbody tr th {\n",
       "        vertical-align: top;\n",
       "    }\n",
       "\n",
       "    .dataframe thead th {\n",
       "        text-align: right;\n",
       "    }\n",
       "</style>\n",
       "<table border=\"1\" class=\"dataframe\">\n",
       "  <thead>\n",
       "    <tr style=\"text-align: right;\">\n",
       "      <th></th>\n",
       "      <th>SVM-acc</th>\n",
       "      <th>SVM-precision</th>\n",
       "      <th>SVM-recall</th>\n",
       "      <th>SVM-f1</th>\n",
       "      <th>MLP-acc</th>\n",
       "      <th>MLP-precision</th>\n",
       "      <th>MLP-recall</th>\n",
       "      <th>MLP-f1</th>\n",
       "      <th>RF-acc</th>\n",
       "      <th>RF-precision</th>\n",
       "      <th>RF-recall</th>\n",
       "      <th>RF-f1</th>\n",
       "      <th>ADABOOST-acc</th>\n",
       "      <th>ADABOOST-precision</th>\n",
       "      <th>ADABOOST-recall</th>\n",
       "      <th>ADABOOST-f1</th>\n",
       "    </tr>\n",
       "  </thead>\n",
       "  <tbody>\n",
       "    <tr>\n",
       "      <th>mean</th>\n",
       "      <td>0.959097</td>\n",
       "      <td>0.941207</td>\n",
       "      <td>1.0</td>\n",
       "      <td>0.965877</td>\n",
       "      <td>0.717778</td>\n",
       "      <td>0.627749</td>\n",
       "      <td>0.834444</td>\n",
       "      <td>0.700896</td>\n",
       "      <td>0.805208</td>\n",
       "      <td>0.810758</td>\n",
       "      <td>0.819722</td>\n",
       "      <td>0.807137</td>\n",
       "      <td>0.907431</td>\n",
       "      <td>0.90466</td>\n",
       "      <td>0.951528</td>\n",
       "      <td>0.913269</td>\n",
       "    </tr>\n",
       "    <tr>\n",
       "      <th>std</th>\n",
       "      <td>0.081346</td>\n",
       "      <td>0.112416</td>\n",
       "      <td>0.0</td>\n",
       "      <td>0.066293</td>\n",
       "      <td>0.221485</td>\n",
       "      <td>0.333906</td>\n",
       "      <td>0.358454</td>\n",
       "      <td>0.327031</td>\n",
       "      <td>0.149860</td>\n",
       "      <td>0.159851</td>\n",
       "      <td>0.168922</td>\n",
       "      <td>0.151554</td>\n",
       "      <td>0.126704</td>\n",
       "      <td>0.14140</td>\n",
       "      <td>0.137441</td>\n",
       "      <td>0.126853</td>\n",
       "    </tr>\n",
       "  </tbody>\n",
       "</table>\n",
       "</div>"
      ],
      "text/plain": [
       "       SVM-acc  SVM-precision  SVM-recall    SVM-f1   MLP-acc  MLP-precision  \\\n",
       "mean  0.959097       0.941207         1.0  0.965877  0.717778       0.627749   \n",
       "std   0.081346       0.112416         0.0  0.066293  0.221485       0.333906   \n",
       "\n",
       "      MLP-recall    MLP-f1    RF-acc  RF-precision  RF-recall     RF-f1  \\\n",
       "mean    0.834444  0.700896  0.805208      0.810758   0.819722  0.807137   \n",
       "std     0.358454  0.327031  0.149860      0.159851   0.168922  0.151554   \n",
       "\n",
       "      ADABOOST-acc  ADABOOST-precision  ADABOOST-recall  ADABOOST-f1  \n",
       "mean      0.907431             0.90466         0.951528     0.913269  \n",
       "std       0.126704             0.14140         0.137441     0.126853  "
      ]
     },
     "execution_count": 132,
     "metadata": {},
     "output_type": "execute_result"
    }
   ],
   "source": [
    "# cv-3\n",
    "nri_df"
   ]
  },
  {
   "cell_type": "code",
   "execution_count": 140,
   "metadata": {},
   "outputs": [
    {
     "data": {
      "text/html": [
       "<div>\n",
       "<style scoped>\n",
       "    .dataframe tbody tr th:only-of-type {\n",
       "        vertical-align: middle;\n",
       "    }\n",
       "\n",
       "    .dataframe tbody tr th {\n",
       "        vertical-align: top;\n",
       "    }\n",
       "\n",
       "    .dataframe thead th {\n",
       "        text-align: right;\n",
       "    }\n",
       "</style>\n",
       "<table border=\"1\" class=\"dataframe\">\n",
       "  <thead>\n",
       "    <tr style=\"text-align: right;\">\n",
       "      <th></th>\n",
       "      <th>SVM-acc</th>\n",
       "      <th>SVM-precision</th>\n",
       "      <th>SVM-recall</th>\n",
       "      <th>SVM-f1</th>\n",
       "      <th>MLP-acc</th>\n",
       "      <th>MLP-precision</th>\n",
       "      <th>MLP-recall</th>\n",
       "      <th>MLP-f1</th>\n",
       "      <th>RF-acc</th>\n",
       "      <th>RF-precision</th>\n",
       "      <th>RF-recall</th>\n",
       "      <th>RF-f1</th>\n",
       "      <th>ADABOOST-acc</th>\n",
       "      <th>ADABOOST-precision</th>\n",
       "      <th>ADABOOST-recall</th>\n",
       "      <th>ADABOOST-f1</th>\n",
       "    </tr>\n",
       "  </thead>\n",
       "  <tbody>\n",
       "    <tr>\n",
       "      <th>mean</th>\n",
       "      <td>0.925069</td>\n",
       "      <td>0.931608</td>\n",
       "      <td>0.942083</td>\n",
       "      <td>0.922554</td>\n",
       "      <td>0.680347</td>\n",
       "      <td>0.608778</td>\n",
       "      <td>0.721528</td>\n",
       "      <td>0.619381</td>\n",
       "      <td>0.780208</td>\n",
       "      <td>0.777591</td>\n",
       "      <td>0.811389</td>\n",
       "      <td>0.782775</td>\n",
       "      <td>0.930069</td>\n",
       "      <td>0.939507</td>\n",
       "      <td>0.944861</td>\n",
       "      <td>0.933090</td>\n",
       "    </tr>\n",
       "    <tr>\n",
       "      <th>std</th>\n",
       "      <td>0.133365</td>\n",
       "      <td>0.138088</td>\n",
       "      <td>0.176372</td>\n",
       "      <td>0.149602</td>\n",
       "      <td>0.211671</td>\n",
       "      <td>0.344470</td>\n",
       "      <td>0.413004</td>\n",
       "      <td>0.349805</td>\n",
       "      <td>0.129218</td>\n",
       "      <td>0.137789</td>\n",
       "      <td>0.175515</td>\n",
       "      <td>0.138707</td>\n",
       "      <td>0.130611</td>\n",
       "      <td>0.134078</td>\n",
       "      <td>0.135906</td>\n",
       "      <td>0.123217</td>\n",
       "    </tr>\n",
       "  </tbody>\n",
       "</table>\n",
       "</div>"
      ],
      "text/plain": [
       "       SVM-acc  SVM-precision  SVM-recall    SVM-f1   MLP-acc  MLP-precision  \\\n",
       "mean  0.925069       0.931608    0.942083  0.922554  0.680347       0.608778   \n",
       "std   0.133365       0.138088    0.176372  0.149602  0.211671       0.344470   \n",
       "\n",
       "      MLP-recall    MLP-f1    RF-acc  RF-precision  RF-recall     RF-f1  \\\n",
       "mean    0.721528  0.619381  0.780208      0.777591   0.811389  0.782775   \n",
       "std     0.413004  0.349805  0.129218      0.137789   0.175515  0.138707   \n",
       "\n",
       "      ADABOOST-acc  ADABOOST-precision  ADABOOST-recall  ADABOOST-f1  \n",
       "mean      0.930069            0.939507         0.944861     0.933090  \n",
       "std       0.130611            0.134078         0.135906     0.123217  "
      ]
     },
     "execution_count": 140,
     "metadata": {},
     "output_type": "execute_result"
    }
   ],
   "source": [
    "# cv-4\n",
    "nri_df"
   ]
  },
  {
   "cell_type": "code",
   "execution_count": 145,
   "metadata": {},
   "outputs": [
    {
     "data": {
      "text/plain": [
       "0.8289236111111111"
      ]
     },
     "execution_count": 145,
     "metadata": {},
     "output_type": "execute_result"
    }
   ],
   "source": [
    "np.mean([  nri_df[i+'-acc']['mean'] for i in ['SVM', \"MLP\", \"RF\", \"ADABOOST\"] ])"
   ]
  }
 ],
 "metadata": {
  "kernelspec": {
   "display_name": "Python 3",
   "language": "python",
   "name": "python3"
  },
  "language_info": {
   "codemirror_mode": {
    "name": "ipython",
    "version": 3
   },
   "file_extension": ".py",
   "mimetype": "text/x-python",
   "name": "python",
   "nbconvert_exporter": "python",
   "pygments_lexer": "ipython3",
   "version": "3.6.6"
  }
 },
 "nbformat": 4,
 "nbformat_minor": 4
}
