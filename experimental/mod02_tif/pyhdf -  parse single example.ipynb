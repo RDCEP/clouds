{
 "cells": [
  {
   "cell_type": "code",
   "execution_count": 1,
   "metadata": {},
   "outputs": [],
   "source": [
    "import pyhdf"
   ]
  },
  {
   "cell_type": "code",
   "execution_count": 2,
   "metadata": {},
   "outputs": [],
   "source": [
    "input_folder = '/home/rlourenco/Downloads/mod02/input/'\n",
    "output_folder = '/home/rlourenco/Downloads/mod02/output/'"
   ]
  },
  {
   "cell_type": "code",
   "execution_count": 3,
   "metadata": {},
   "outputs": [],
   "source": [
    "# !conda install -y -c conda-forge pyhdf"
   ]
  },
  {
   "cell_type": "code",
   "execution_count": 4,
   "metadata": {},
   "outputs": [],
   "source": [
    "from pyhdf.SD import SD, SDC\n",
    "\n",
    "file_name = input_folder+'MOD021KM.A2017001.2330.006.2017004135453.hdf'\n",
    "file = SD(file_name, SDC.READ)"
   ]
  },
  {
   "cell_type": "code",
   "execution_count": 5,
   "metadata": {},
   "outputs": [],
   "source": [
    "names = (\n",
    "    \"EV_250_Aggr1km_RefSB\", \n",
    "    \"EV_500_Aggr1km_RefSB\", \n",
    "    \"EV_1KM_RefSB\", \n",
    "    \"EV_1KM_Emissive\"\n",
    ")\n",
    "\n",
    "fields = [file.select(n)[:] for n in names]\n",
    "\n"
   ]
  },
  {
   "cell_type": "code",
   "execution_count": 14,
   "metadata": {},
   "outputs": [],
   "source": [
    "# for agg in fields:\n",
    "#     for item in agg:\n",
    "#         print(len(item))"
   ]
  },
  {
   "cell_type": "markdown",
   "metadata": {},
   "source": [
    "Set labels such as defined at: _http://ocean.stanford.edu/gert/easy/bands.html_ and _https://mcst.gsfc.nasa.gov/calibration/reflective-bands_"
   ]
  },
  {
   "cell_type": "code",
   "execution_count": 12,
   "metadata": {},
   "outputs": [],
   "source": [
    "labels = [\"b1\",\"b2\",\n",
    "          \"b3\",\"b4\",\"b5\",\"b6\",\"b7\",\n",
    "          \"b8\",\"b9\",\"b10\",\"b11\",\"b12\",\"b13L\",\"b13H\",\"b14L\",\"b14H\",\"b15\",\"b16\",\"b17\",\"b18\",\"b19\",\"b26\",\n",
    "          \"b20\",\"b21\",\"b22\",\"b23\",\"b24\",\"b25\",\"b27\",\"b28\",\"b29\",\"b30\",\"b31\",\"b32\",\"b33\",\"b34\",\"b35\",\"b36\"]"
   ]
  },
  {
   "cell_type": "code",
   "execution_count": null,
   "metadata": {},
   "outputs": [],
   "source": [
    "res = np.stack([\n",
    "    fields[0],\n",
    "    fields[1],\n",
    "    fields[2][??],\n",
    "    fields[2][???],\n",
    "    fields[3][:5]\n",
    "], axis=0)\n",
    "\n",
    "\n",
    "for n in names:\n",
    "    print(\n",
    "    file.select(n)[:].shape)"
   ]
  },
  {
   "cell_type": "markdown",
   "metadata": {},
   "source": [
    "EV_250_RefSB 250 m 2 1, 2 EV_500_RefSB 500 m 5 3,4,5,6,7 EV_1KM_RefSB 1 km 15 8-19, 26 EV_1KM_Emissive 1 km 16 20-25, 27-36"
   ]
  },
  {
   "cell_type": "code",
   "execution_count": null,
   "metadata": {
    "scrolled": true
   },
   "outputs": [],
   "source": [
    "s.shape, s"
   ]
  },
  {
   "cell_type": "code",
   "execution_count": null,
   "metadata": {
    "scrolled": true
   },
   "outputs": [],
   "source": [
    "\n",
    "datasets_dic = file.datasets()\n",
    "\n",
    "for idx,sds in enumerate(datasets_dic.keys()):\n",
    "    print(idx,sds)"
   ]
  }
 ],
 "metadata": {
  "kernelspec": {
   "display_name": "Python 3",
   "language": "python",
   "name": "python3"
  },
  "language_info": {
   "codemirror_mode": {
    "name": "ipython",
    "version": 3
   },
   "file_extension": ".py",
   "mimetype": "text/x-python",
   "name": "python",
   "nbconvert_exporter": "python",
   "pygments_lexer": "ipython3",
   "version": "3.6.5"
  }
 },
 "nbformat": 4,
 "nbformat_minor": 2
}
