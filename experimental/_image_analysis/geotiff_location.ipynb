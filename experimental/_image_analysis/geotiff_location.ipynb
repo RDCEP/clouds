{
 "cells": [
  {
   "cell_type": "markdown",
   "metadata": {},
   "source": [
    "In case of gdal not working properly, needs to change channel: _conda install -y -c conda-forge ncurses gdal_"
   ]
  },
  {
   "cell_type": "code",
   "execution_count": 1,
   "metadata": {},
   "outputs": [],
   "source": [
    "import json\n",
    "import os\n"
   ]
  },
  {
   "cell_type": "code",
   "execution_count": 2,
   "metadata": {},
   "outputs": [],
   "source": [
    "folder = '/home/rlourenco/Downloads/'\n",
    "filename = '2017-01-31_MOD09GA_background_removal_zero_inputated_image_with_cf_50perc_grid_size10-0000000000-0000052992.tif'"
   ]
  },
  {
   "cell_type": "code",
   "execution_count": 12,
   "metadata": {},
   "outputs": [
    {
     "name": "stdout",
     "output_type": "stream",
     "text": [
      "gdalinfo -json /home/rlourenco/Downloads/2017-01-31_MOD09GA_background_removal_zero_inputated_image_with_cf_50perc_grid_size10-0000000000-0000052992.tif > temp_gdalinfo.txt\n"
     ]
    }
   ],
   "source": [
    "string = 'gdalinfo -json '+str(folder)+str(filename)+' > temp_gdalinfo.txt'\n",
    "print(string)"
   ]
  },
  {
   "cell_type": "code",
   "execution_count": 13,
   "metadata": {
    "scrolled": false
   },
   "outputs": [
    {
     "name": "stdout",
     "output_type": "stream",
     "text": [
      "{\n",
      "  \"description\":\"\\/home\\/rlourenco\\/Downloads\\/2017-01-31_MOD09GA_background_removal_zero_inputated_image_with_cf_50perc_grid_size10-0000000000-0000052992.tif\",\n",
      "  \"driverShortName\":\"GTiff\",\n",
      "  \"driverLongName\":\"GeoTIFF\",\n",
      "  \"files\":[\n",
      "    \"\\/home\\/rlourenco\\/Downloads\\/2017-01-31_MOD09GA_background_removal_zero_inputated_image_with_cf_50perc_grid_size10-0000000000-0000052992.tif\"\n",
      "  ],\n",
      "  \"size\":[\n",
      "    17664,\n",
      "    17664\n",
      "  ],\n",
      "  \"coordinateSystem\":{\n",
      "    \"wkt\":\"GEOGCS[\\\"WGS 84\\\",\\n    DATUM[\\\"WGS_1984\\\",\\n        SPHEROID[\\\"WGS 84\\\",6378137,298.257223563,\\n            AUTHORITY[\\\"EPSG\\\",\\\"7030\\\"]],\\n        AUTHORITY[\\\"EPSG\\\",\\\"6326\\\"]],\\n    PRIMEM[\\\"Greenwich\\\",0],\\n    UNIT[\\\"degree\\\",0.0174532925199433],\\n    AUTHORITY[\\\"EPSG\\\",\\\"4326\\\"]]\"\n",
      "  },\n",
      "  \"geoTransform\":[\n",
      "    58.0132010484387024,\n",
      "    0.0044915764205976,\n",
      "    0.0,\n",
      "    60.0029694027634406,\n",
      "    0.0,\n",
      "    -0.0044915764205976\n",
      "  ],\n",
      "  \"metadata\":{\n",
      "    \"\":{\n",
      "      \"AREA_OR_POINT\":\"Area\"\n",
      "    },\n",
      "    \"IMAGE_STRUCTURE\":{\n",
      "      \"COMPRESSION\":\"LZW\",\n",
      "      \"INTERLEAVE\":\"PIXEL\"\n",
      "    }\n",
      "  },\n",
      "  \"cornerCoordinates\":{\n",
      "    \"upperLeft\":[\n",
      "      58.013201,\n",
      "      60.0029694\n",
      "    ],\n",
      "    \"lowerLeft\":[\n",
      "      58.013201,\n",
      "      -19.3362365\n",
      "    ],\n",
      "    \"lowerRight\":[\n",
      "      137.3524069,\n",
      "      -19.3362365\n",
      "    ],\n",
      "    \"upperRight\":[\n",
      "      137.3524069,\n",
      "      60.0029694\n",
      "    ],\n",
      "    \"center\":[\n",
      "      97.682804,\n",
      "      20.3333665\n",
      "    ]\n",
      "  },\n",
      "  \"wgs84Extent\":{\n",
      "    \"type\":\"Polygon\",\n",
      "    \"coordinates\":[\n",
      "      [\n",
      "        [\n",
      "          58.013201,\n",
      "          60.0029694\n",
      "        ],\n",
      "        [\n",
      "          58.013201,\n",
      "          -19.3362365\n",
      "        ],\n",
      "        [\n",
      "          137.3524069,\n",
      "          -19.3362365\n",
      "        ],\n",
      "        [\n",
      "          137.3524069,\n",
      "          60.0029694\n",
      "        ],\n",
      "        [\n",
      "          58.013201,\n",
      "          60.0029694\n",
      "        ]\n",
      "      ]\n",
      "    ]\n",
      "  },\n",
      "  \"bands\":[\n",
      "    {\n",
      "      \"band\":1,\n",
      "      \"block\":[\n",
      "        256,\n",
      "        256\n",
      "      ],\n",
      "      \"type\":\"Int16\",\n",
      "      \"colorInterpretation\":\"Gray\",\n",
      "      \"description\":\"b1\",\n",
      "      \"metadata\":{\n",
      "      }\n",
      "    },\n",
      "    {\n",
      "      \"band\":2,\n",
      "      \"block\":[\n",
      "        256,\n",
      "        256\n",
      "      ],\n",
      "      \"type\":\"Int16\",\n",
      "      \"colorInterpretation\":\"Undefined\",\n",
      "      \"description\":\"b2\",\n",
      "      \"metadata\":{\n",
      "      }\n",
      "    },\n",
      "    {\n",
      "      \"band\":3,\n",
      "      \"block\":[\n",
      "        256,\n",
      "        256\n",
      "      ],\n",
      "      \"type\":\"Int16\",\n",
      "      \"colorInterpretation\":\"Undefined\",\n",
      "      \"description\":\"b3\",\n",
      "      \"metadata\":{\n",
      "      }\n",
      "    },\n",
      "    {\n",
      "      \"band\":4,\n",
      "      \"block\":[\n",
      "        256,\n",
      "        256\n",
      "      ],\n",
      "      \"type\":\"Int16\",\n",
      "      \"colorInterpretation\":\"Undefined\",\n",
      "      \"description\":\"b4\",\n",
      "      \"metadata\":{\n",
      "      }\n",
      "    },\n",
      "    {\n",
      "      \"band\":5,\n",
      "      \"block\":[\n",
      "        256,\n",
      "        256\n",
      "      ],\n",
      "      \"type\":\"Int16\",\n",
      "      \"colorInterpretation\":\"Undefined\",\n",
      "      \"description\":\"b5\",\n",
      "      \"metadata\":{\n",
      "      }\n",
      "    },\n",
      "    {\n",
      "      \"band\":6,\n",
      "      \"block\":[\n",
      "        256,\n",
      "        256\n",
      "      ],\n",
      "      \"type\":\"Int16\",\n",
      "      \"colorInterpretation\":\"Undefined\",\n",
      "      \"description\":\"b6\",\n",
      "      \"metadata\":{\n",
      "      }\n",
      "    },\n",
      "    {\n",
      "      \"band\":7,\n",
      "      \"block\":[\n",
      "        256,\n",
      "        256\n",
      "      ],\n",
      "      \"type\":\"Int16\",\n",
      "      \"colorInterpretation\":\"Undefined\",\n",
      "      \"description\":\"b7\",\n",
      "      \"metadata\":{\n",
      "      }\n",
      "    }\n",
      "  ]\n",
      "}\n"
     ]
    }
   ],
   "source": [
    "os.system(string)\n",
    "print(open('temp_gdalinfo.txt', 'r').read())"
   ]
  },
  {
   "cell_type": "code",
   "execution_count": 14,
   "metadata": {},
   "outputs": [],
   "source": [
    "loaded_json = json.loads(open('temp_gdalinfo.txt', 'r').read())"
   ]
  },
  {
   "cell_type": "code",
   "execution_count": 16,
   "metadata": {
    "scrolled": false
   },
   "outputs": [
    {
     "name": "stdout",
     "output_type": "stream",
     "text": [
      "description: /home/rlourenco/Downloads/2017-01-31_MOD09GA_background_removal_zero_inputated_image_with_cf_50perc_grid_size10-0000000000-0000052992.tif\n",
      "driverShortName: GTiff\n",
      "driverLongName: GeoTIFF\n",
      "files: ['/home/rlourenco/Downloads/2017-01-31_MOD09GA_background_removal_zero_inputated_image_with_cf_50perc_grid_size10-0000000000-0000052992.tif']\n",
      "size: [17664, 17664]\n",
      "coordinateSystem: {'wkt': 'GEOGCS[\"WGS 84\",\\n    DATUM[\"WGS_1984\",\\n        SPHEROID[\"WGS 84\",6378137,298.257223563,\\n            AUTHORITY[\"EPSG\",\"7030\"]],\\n        AUTHORITY[\"EPSG\",\"6326\"]],\\n    PRIMEM[\"Greenwich\",0],\\n    UNIT[\"degree\",0.0174532925199433],\\n    AUTHORITY[\"EPSG\",\"4326\"]]'}\n",
      "geoTransform: [58.0132010484387, 0.0044915764205976, 0.0, 60.00296940276344, 0.0, -0.0044915764205976]\n",
      "metadata: {'': {'AREA_OR_POINT': 'Area'}, 'IMAGE_STRUCTURE': {'COMPRESSION': 'LZW', 'INTERLEAVE': 'PIXEL'}}\n",
      "cornerCoordinates: {'upperLeft': [58.013201, 60.0029694], 'lowerLeft': [58.013201, -19.3362365], 'lowerRight': [137.3524069, -19.3362365], 'upperRight': [137.3524069, 60.0029694], 'center': [97.682804, 20.3333665]}\n",
      "wgs84Extent: {'type': 'Polygon', 'coordinates': [[[58.013201, 60.0029694], [58.013201, -19.3362365], [137.3524069, -19.3362365], [137.3524069, 60.0029694], [58.013201, 60.0029694]]]}\n",
      "bands: [{'band': 1, 'block': [256, 256], 'type': 'Int16', 'colorInterpretation': 'Gray', 'description': 'b1', 'metadata': {}}, {'band': 2, 'block': [256, 256], 'type': 'Int16', 'colorInterpretation': 'Undefined', 'description': 'b2', 'metadata': {}}, {'band': 3, 'block': [256, 256], 'type': 'Int16', 'colorInterpretation': 'Undefined', 'description': 'b3', 'metadata': {}}, {'band': 4, 'block': [256, 256], 'type': 'Int16', 'colorInterpretation': 'Undefined', 'description': 'b4', 'metadata': {}}, {'band': 5, 'block': [256, 256], 'type': 'Int16', 'colorInterpretation': 'Undefined', 'description': 'b5', 'metadata': {}}, {'band': 6, 'block': [256, 256], 'type': 'Int16', 'colorInterpretation': 'Undefined', 'description': 'b6', 'metadata': {}}, {'band': 7, 'block': [256, 256], 'type': 'Int16', 'colorInterpretation': 'Undefined', 'description': 'b7', 'metadata': {}}]\n"
     ]
    }
   ],
   "source": [
    "for x in loaded_json:\n",
    "    print(\"%s: %s\" % (x, loaded_json[x]))"
   ]
  }
 ],
 "metadata": {
  "kernelspec": {
   "display_name": "Python 3",
   "language": "python",
   "name": "python3"
  },
  "language_info": {
   "codemirror_mode": {
    "name": "ipython",
    "version": 3
   },
   "file_extension": ".py",
   "mimetype": "text/x-python",
   "name": "python",
   "nbconvert_exporter": "python",
   "pygments_lexer": "ipython3",
   "version": "3.6.6"
  }
 },
 "nbformat": 4,
 "nbformat_minor": 2
}
