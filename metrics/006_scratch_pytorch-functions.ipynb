{
 "cells": [
  {
   "cell_type": "markdown",
   "metadata": {},
   "source": [
    "### Scratch functions by Pytorch\n",
    "scractch notebook to develop functions for pytorch code\n",
    "- random rotation\n",
    "- custom loss funciton"
   ]
  },
  {
   "cell_type": "code",
   "execution_count": 1,
   "metadata": {},
   "outputs": [],
   "source": [
    "import os\n",
    "import sys\n",
    "import numpy as np\n",
    "import torch\n",
    "import torchvision\n",
    "from torchvision import datasets, transforms"
   ]
  },
  {
   "cell_type": "code",
   "execution_count": 35,
   "metadata": {},
   "outputs": [],
   "source": [
    "import matplotlib.pyplot as plt"
   ]
  },
  {
   "cell_type": "markdown",
   "metadata": {},
   "source": [
    "##### download MNIST train data"
   ]
  },
  {
   "cell_type": "code",
   "execution_count": 3,
   "metadata": {},
   "outputs": [
    {
     "name": "stderr",
     "output_type": "stream",
     "text": [
      "0.7%"
     ]
    },
    {
     "name": "stdout",
     "output_type": "stream",
     "text": [
      "Downloading http://yann.lecun.com/exdb/mnist/train-images-idx3-ubyte.gz to ./multigrids/mnist_data/MNIST/raw/train-images-idx3-ubyte.gz\n"
     ]
    },
    {
     "name": "stderr",
     "output_type": "stream",
     "text": [
      "100.1%"
     ]
    },
    {
     "name": "stdout",
     "output_type": "stream",
     "text": [
      "Extracting ./multigrids/mnist_data/MNIST/raw/train-images-idx3-ubyte.gz to ./multigrids/mnist_data/MNIST/raw\n"
     ]
    },
    {
     "name": "stderr",
     "output_type": "stream",
     "text": [
      "0.0%5%"
     ]
    },
    {
     "name": "stdout",
     "output_type": "stream",
     "text": [
      "Downloading http://yann.lecun.com/exdb/mnist/train-labels-idx1-ubyte.gz to ./multigrids/mnist_data/MNIST/raw/train-labels-idx1-ubyte.gz\n",
      "Extracting ./multigrids/mnist_data/MNIST/raw/train-labels-idx1-ubyte.gz to ./multigrids/mnist_data/MNIST/raw\n",
      "Downloading http://yann.lecun.com/exdb/mnist/t10k-images-idx3-ubyte.gz to ./multigrids/mnist_data/MNIST/raw/t10k-images-idx3-ubyte.gz\n"
     ]
    },
    {
     "name": "stderr",
     "output_type": "stream",
     "text": [
      "180.4%"
     ]
    },
    {
     "name": "stdout",
     "output_type": "stream",
     "text": [
      "Extracting ./multigrids/mnist_data/MNIST/raw/t10k-images-idx3-ubyte.gz to ./multigrids/mnist_data/MNIST/raw\n",
      "Downloading http://yann.lecun.com/exdb/mnist/t10k-labels-idx1-ubyte.gz to ./multigrids/mnist_data/MNIST/raw/t10k-labels-idx1-ubyte.gz\n",
      "Extracting ./multigrids/mnist_data/MNIST/raw/t10k-labels-idx1-ubyte.gz to ./multigrids/mnist_data/MNIST/raw\n",
      "Processing...\n",
      "Done!\n"
     ]
    }
   ],
   "source": [
    "train_loader = torch.utils.data.DataLoader(\n",
    "    datasets.MNIST(\n",
    "      root=\"./multigrids/mnist_data\",\n",
    "      train=True,\n",
    "      download=True,\n",
    "      transform=transforms.Compose([\n",
    "        transforms.ToTensor(),\n",
    "        transforms.Normalize((0.5,), (0.5,))\n",
    "      ])\n",
    "    ),\n",
    "    batch_size=32,\n",
    "    shuffle=True,\n",
    "    pin_memory=True\n",
    ")"
   ]
  },
  {
   "cell_type": "code",
   "execution_count": 5,
   "metadata": {},
   "outputs": [
    {
     "data": {
      "text/plain": [
       "<torch.utils.data.dataloader.DataLoader at 0x7f1bcc41b128>"
      ]
     },
     "execution_count": 5,
     "metadata": {},
     "output_type": "execute_result"
    }
   ],
   "source": [
    "train_loader"
   ]
  },
  {
   "cell_type": "markdown",
   "metadata": {},
   "source": [
    "get data as computing type"
   ]
  },
  {
   "cell_type": "code",
   "execution_count": 15,
   "metadata": {},
   "outputs": [],
   "source": [
    "examples = enumerate(train_loader)\n",
    "batch_idx, (example_data, example_targets) = next(examples)"
   ]
  },
  {
   "cell_type": "code",
   "execution_count": 16,
   "metadata": {},
   "outputs": [
    {
     "data": {
      "text/plain": [
       "torch.Size([32, 1, 28, 28])"
      ]
     },
     "execution_count": 16,
     "metadata": {},
     "output_type": "execute_result"
    }
   ],
   "source": [
    "example_data.shape"
   ]
  },
  {
   "cell_type": "markdown",
   "metadata": {},
   "source": [
    "#### Code rotate fn"
   ]
  },
  {
   "cell_type": "markdown",
   "metadata": {},
   "source": [
    "- rotate operation"
   ]
  },
  {
   "cell_type": "code",
   "execution_count": 25,
   "metadata": {},
   "outputs": [],
   "source": [
    "rotate_ops= transforms.Compose([ \n",
    "                transforms.ToPILImage(),\n",
    "                transforms.RandomRotation([1,359]),\n",
    "            ])"
   ]
  },
  {
   "cell_type": "code",
   "execution_count": 32,
   "metadata": {},
   "outputs": [],
   "source": [
    "rexample_data = []\n",
    "for i in example_data:\n",
    "    rexample_data.append(rotate_ops(i))"
   ]
  },
  {
   "cell_type": "code",
   "execution_count": 36,
   "metadata": {},
   "outputs": [
    {
     "data": {
      "image/png": "[encoded data removed]",
      "text/plain": [
       "<Figure size 1440x288 with 20 Axes>"
      ]
     },
     "metadata": {
      "needs_background": "light"
     },
     "output_type": "display_data"
    }
   ],
   "source": [
    "f,a=plt.subplots(2,10,figsize=(20,4))\n",
    "for i in range(10):\n",
    "    a[0][i].imshow(np.reshape(example_data[i],(28,28)), cmap='jet')\n",
    "    a[1][i].imshow(np.reshape(rexample_data[i],(28,28)), cmap='jet')"
   ]
  },
  {
   "cell_type": "code",
   "execution_count": 62,
   "metadata": {},
   "outputs": [],
   "source": [
    "def rotate_fn(data):\n",
    "    rotate_ops= transforms.Compose([ \n",
    "                transforms.ToPILImage(),\n",
    "                transforms.RandomRotation([1,359]),\n",
    "                transforms.ToTensor()\n",
    "            ])\n",
    "    rdata = []\n",
    "    for i in data:\n",
    "        rdata.append(rotate_ops(i).unsqueeze(0)) # unsqueeze prevent depricated 1 dim entry\n",
    "    return torch.cat(rdata)"
   ]
  },
  {
   "cell_type": "code",
   "execution_count": 63,
   "metadata": {},
   "outputs": [
    {
     "name": "stdout",
     "output_type": "stream",
     "text": [
      "<class 'torch.Tensor'> <class 'torch.Tensor'>\n"
     ]
    }
   ],
   "source": [
    "a = rotate_fn(example_data)\n",
    "print(type(a), type(example_data))"
   ]
  },
  {
   "cell_type": "code",
   "execution_count": 64,
   "metadata": {},
   "outputs": [
    {
     "data": {
      "text/plain": [
       "torch.Size([32, 1, 28, 28])"
      ]
     },
     "execution_count": 64,
     "metadata": {},
     "output_type": "execute_result"
    }
   ],
   "source": [
    "a.shape"
   ]
  },
  {
   "cell_type": "markdown",
   "metadata": {},
   "source": [
    "--------------------\n",
    "#### Custo loss\n",
    "[Custom Loss functirons](https://discuss.pytorch.org/t/custom-loss-functions/29387)\n",
    "\n",
    "- Examples\n",
    "```\n",
    "def my_loss(output, target):\n",
    "    loss = torch.mean((output - target)**2)\n",
    "    return loss\n",
    "```"
   ]
  },
  {
   "cell_type": "markdown",
   "metadata": {},
   "source": [
    "Rotate-Invariant Loss function by tesorflow"
   ]
  },
  {
   "cell_type": "code",
   "execution_count": null,
   "metadata": {},
   "outputs": [],
   "source": [
    "### Tnesorflow version\n",
    "def loss_torch_fn(output_layer,\n",
    "                  input_layer,\n",
    "                  encoded_imgs,\n",
    "                  encoder,\n",
    "                  batch_size=32, dangle=2, c_lambda=1\n",
    "                  ):\n",
    "\n",
    "    def rotate_opetation(imgs, angle=1):\n",
    "        rimgs = []\n",
    "        for img in imgs:\n",
    "            rimgs.append(transforms.functional.rotate(img, angle).unsqueeze(0))\n",
    "        return torch.cat(rimgs)\n",
    "\n",
    "    # loss lists\n",
    "    loss_reconst = [] # first term\n",
    "    loss_hidden  = [] # seconds term\n",
    "    angle_list = [i for i in range(1,360,dangle)]\n",
    "    for angle in angle_list:\n",
    "        rimgs = rotate_opetation(output_layer) # R_theta(x_hat)\n",
    "        rencoded_imgs = rotate_opetation(rotate_opetation(input_layer)) # Z(R(x))\n",
    "\n",
    "        # loss\n",
    "        loss_reconst.append(torch.mean((input_layer - rimgs)**2) )\n",
    "        loss_hidden.append(torch.mean((encoded_imgs - rencoded_imgs)**2))\n",
    "\n",
    "    # Get min-max\n",
    "    reconst = torch.min(torch.stack(loss_reconst))\n",
    "    hidden  = torch.max(torch.stack(loss_reconst))\n",
    "\n",
    "    return reconst + c_lambda*hidden"
   ]
  },
  {
   "cell_type": "markdown",
   "metadata": {},
   "source": [
    "Translate to Pytorch"
   ]
  },
  {
   "cell_type": "code",
   "execution_count": 65,
   "metadata": {},
   "outputs": [
    {
     "data": {
      "text/plain": [
       "tensor([[ 1.6189, -0.7738, -0.7542],\n",
       "        [-0.4852, -0.3012,  1.5171],\n",
       "        [ 0.4657, -0.0723, -0.4064]])"
      ]
     },
     "execution_count": 65,
     "metadata": {},
     "output_type": "execute_result"
    }
   ],
   "source": [
    "c = torch.randn(3,3)\n",
    "c"
   ]
  },
  {
   "cell_type": "code",
   "execution_count": 66,
   "metadata": {},
   "outputs": [
    {
     "data": {
      "text/plain": [
       "tensor([[ 6.4756, -3.0950, -3.0170],\n",
       "        [-1.9406, -1.2048,  6.0686],\n",
       "        [ 1.8626, -0.2891, -1.6254]])"
      ]
     },
     "execution_count": 66,
     "metadata": {},
     "output_type": "execute_result"
    }
   ],
   "source": [
    "c*4"
   ]
  },
  {
   "cell_type": "code",
   "execution_count": null,
   "metadata": {},
   "outputs": [],
   "source": []
  }
 ],
 "metadata": {
  "kernelspec": {
   "display_name": "Python 3",
   "language": "python",
   "name": "python3"
  },
  "language_info": {
   "codemirror_mode": {
    "name": "ipython",
    "version": 3
   },
   "file_extension": ".py",
   "mimetype": "text/x-python",
   "name": "python",
   "nbconvert_exporter": "python",
   "pygments_lexer": "ipython3",
   "version": "3.6.9"
  }
 },
 "nbformat": 4,
 "nbformat_minor": 2
}
