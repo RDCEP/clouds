{
 "cells": [
  {
   "cell_type": "code",
   "execution_count": 1,
   "metadata": {},
   "outputs": [
    {
     "name": "stderr",
     "output_type": "stream",
     "text": [
      "/anaconda3/envs/clouds/lib/python3.6/importlib/_bootstrap.py:219: RuntimeWarning: numpy.dtype size changed, may indicate binary incompatibility. Expected 96, got 88\n",
      "  return f(*args, **kwds)\n",
      "/anaconda3/envs/clouds/lib/python3.6/importlib/_bootstrap.py:219: RuntimeWarning: numpy.dtype size changed, may indicate binary incompatibility. Expected 96, got 88\n",
      "  return f(*args, **kwds)\n",
      "/anaconda3/envs/clouds/lib/python3.6/importlib/_bootstrap.py:219: RuntimeWarning: numpy.dtype size changed, may indicate binary incompatibility. Expected 96, got 88\n",
      "  return f(*args, **kwds)\n"
     ]
    }
   ],
   "source": [
    "import tensorflow as tf\n",
    "import json"
   ]
  },
  {
   "cell_type": "code",
   "execution_count": 3,
   "metadata": {},
   "outputs": [],
   "source": [
    "with open(\"ex.json\",\"r\") as f:\n",
    "    fields = json.load(f)"
   ]
  },
  {
   "cell_type": "code",
   "execution_count": 21,
   "metadata": {},
   "outputs": [],
   "source": [
    "sizeof = {\n",
    "    'float32': 4,\n",
    "    'float64': 8,\n",
    "    'int16': 2,\n",
    "    'int8': 1\n",
    "}"
   ]
  },
  {
   "cell_type": "code",
   "execution_count": 22,
   "metadata": {},
   "outputs": [],
   "source": [
    "features = {}\n",
    "\n",
    "for field, (h, w, c, ty) in fields.items():\n",
    "    size = h * w * c * sizeof[ty]\n",
    "    features[field] = tf.FixedLenFeature(size, tf.string)"
   ]
  },
  {
   "cell_type": "code",
   "execution_count": 23,
   "metadata": {},
   "outputs": [],
   "source": [
    "d = tf.data.TFRecordDataset(\"ex.tfrecord\")\n",
    "d = d.map(lambda ser: tf.parse_single_example(ser, features))"
   ]
  },
  {
   "cell_type": "code",
   "execution_count": 24,
   "metadata": {},
   "outputs": [],
   "source": [
    "target_fields = []"
   ]
  },
  {
   "cell_type": "code",
   "execution_count": 25,
   "metadata": {},
   "outputs": [
    {
     "data": {
      "text/plain": [
       "{'Latitude': FixedLenFeature(shape=438480, dtype=tf.string, default_value=None),\n",
       " 'Longitude': FixedLenFeature(shape=438480, dtype=tf.string, default_value=None),\n",
       " 'Scan_Start_Time': FixedLenFeature(shape=876960, dtype=tf.string, default_value=None),\n",
       " 'Solar_Zenith': FixedLenFeature(shape=219240, dtype=tf.string, default_value=None),\n",
       " 'Solar_Zenith_Day': FixedLenFeature(shape=219240, dtype=tf.string, default_value=None),\n",
       " 'Solar_Zenith_Night': FixedLenFeature(shape=219240, dtype=tf.string, default_value=None),\n",
       " 'Solar_Azimuth': FixedLenFeature(shape=219240, dtype=tf.string, default_value=None),\n",
       " 'Solar_Azimuth_Day': FixedLenFeature(shape=219240, dtype=tf.string, default_value=None),\n",
       " 'Solar_Azimuth_Night': FixedLenFeature(shape=219240, dtype=tf.string, default_value=None),\n",
       " 'Sensor_Zenith': FixedLenFeature(shape=219240, dtype=tf.string, default_value=None),\n",
       " 'Sensor_Zenith_Day': FixedLenFeature(shape=219240, dtype=tf.string, default_value=None),\n",
       " 'Sensor_Zenith_Night': FixedLenFeature(shape=219240, dtype=tf.string, default_value=None),\n",
       " 'Sensor_Azimuth': FixedLenFeature(shape=219240, dtype=tf.string, default_value=None),\n",
       " 'Sensor_Azimuth_Day': FixedLenFeature(shape=219240, dtype=tf.string, default_value=None),\n",
       " 'Sensor_Azimuth_Night': FixedLenFeature(shape=219240, dtype=tf.string, default_value=None),\n",
       " 'Brightness_Temperature': FixedLenFeature(shape=1534680, dtype=tf.string, default_value=None),\n",
       " 'Surface_Temperature': FixedLenFeature(shape=219240, dtype=tf.string, default_value=None),\n",
       " 'Surface_Pressure': FixedLenFeature(shape=219240, dtype=tf.string, default_value=None),\n",
       " 'Cloud_Height_Method': FixedLenFeature(shape=109620, dtype=tf.string, default_value=None),\n",
       " 'Cloud_Top_Height': FixedLenFeature(shape=219240, dtype=tf.string, default_value=None),\n",
       " 'Cloud_Top_Height_Nadir': FixedLenFeature(shape=219240, dtype=tf.string, default_value=None),\n",
       " 'Cloud_Top_Height_Nadir_Day': FixedLenFeature(shape=219240, dtype=tf.string, default_value=None),\n",
       " 'Cloud_Top_Height_Nadir_Night': FixedLenFeature(shape=219240, dtype=tf.string, default_value=None),\n",
       " 'Cloud_Top_Pressure': FixedLenFeature(shape=219240, dtype=tf.string, default_value=None),\n",
       " 'Cloud_Top_Pressure_Nadir': FixedLenFeature(shape=219240, dtype=tf.string, default_value=None),\n",
       " 'Cloud_Top_Pressure_Night': FixedLenFeature(shape=219240, dtype=tf.string, default_value=None),\n",
       " 'Cloud_Top_Pressure_Nadir_Night': FixedLenFeature(shape=219240, dtype=tf.string, default_value=None),\n",
       " 'Cloud_Top_Pressure_Day': FixedLenFeature(shape=219240, dtype=tf.string, default_value=None),\n",
       " 'Cloud_Top_Pressure_Nadir_Day': FixedLenFeature(shape=219240, dtype=tf.string, default_value=None),\n",
       " 'Cloud_Top_Temperature': FixedLenFeature(shape=219240, dtype=tf.string, default_value=None),\n",
       " 'Cloud_Top_Temperature_Nadir': FixedLenFeature(shape=219240, dtype=tf.string, default_value=None),\n",
       " 'Cloud_Top_Temperature_Night': FixedLenFeature(shape=219240, dtype=tf.string, default_value=None),\n",
       " 'Cloud_Top_Temperature_Nadir_Night': FixedLenFeature(shape=219240, dtype=tf.string, default_value=None),\n",
       " 'Cloud_Top_Temperature_Day': FixedLenFeature(shape=219240, dtype=tf.string, default_value=None),\n",
       " 'Cloud_Top_Temperature_Nadir_Day': FixedLenFeature(shape=219240, dtype=tf.string, default_value=None),\n",
       " 'Tropopause_Height': FixedLenFeature(shape=219240, dtype=tf.string, default_value=None),\n",
       " 'Cloud_Fraction': FixedLenFeature(shape=109620, dtype=tf.string, default_value=None),\n",
       " 'Cloud_Fraction_Nadir': FixedLenFeature(shape=109620, dtype=tf.string, default_value=None),\n",
       " 'Cloud_Fraction_Night': FixedLenFeature(shape=109620, dtype=tf.string, default_value=None),\n",
       " 'Cloud_Fraction_Nadir_Night': FixedLenFeature(shape=109620, dtype=tf.string, default_value=None),\n",
       " 'Cloud_Fraction_Day': FixedLenFeature(shape=109620, dtype=tf.string, default_value=None),\n",
       " 'Cloud_Fraction_Nadir_Day': FixedLenFeature(shape=109620, dtype=tf.string, default_value=None),\n",
       " 'Cloud_Effective_Emissivity': FixedLenFeature(shape=109620, dtype=tf.string, default_value=None),\n",
       " 'Cloud_Effective_Emissivity_Nadir': FixedLenFeature(shape=109620, dtype=tf.string, default_value=None),\n",
       " 'Cloud_Effective_Emissivity_Night': FixedLenFeature(shape=109620, dtype=tf.string, default_value=None),\n",
       " 'Cloud_Effective_Emissivity_Nadir_Night': FixedLenFeature(shape=109620, dtype=tf.string, default_value=None),\n",
       " 'Cloud_Effective_Emissivity_Day': FixedLenFeature(shape=109620, dtype=tf.string, default_value=None),\n",
       " 'Cloud_Effective_Emissivity_Nadir_Day': FixedLenFeature(shape=109620, dtype=tf.string, default_value=None),\n",
       " 'Cloud_Top_Pressure_Infrared': FixedLenFeature(shape=219240, dtype=tf.string, default_value=None),\n",
       " 'Spectral_Cloud_Forcing': FixedLenFeature(shape=1096200, dtype=tf.string, default_value=None),\n",
       " 'Cloud_Top_Pressure_From_Ratios': FixedLenFeature(shape=1096200, dtype=tf.string, default_value=None),\n",
       " 'Radiance_Variance': FixedLenFeature(shape=219240, dtype=tf.string, default_value=None),\n",
       " 'Cloud_Phase_Infrared': FixedLenFeature(shape=109620, dtype=tf.string, default_value=None),\n",
       " 'Cloud_Phase_Infrared_Night': FixedLenFeature(shape=109620, dtype=tf.string, default_value=None),\n",
       " 'Cloud_Phase_Infrared_Day': FixedLenFeature(shape=109620, dtype=tf.string, default_value=None),\n",
       " 'Cloud_Phase_Infrared_1km': FixedLenFeature(shape=2748620, dtype=tf.string, default_value=None),\n",
       " 'IRP_CTH_Consistency_Flag_1km': FixedLenFeature(shape=2748620, dtype=tf.string, default_value=None),\n",
       " 'os_top_flag_1km': FixedLenFeature(shape=2748620, dtype=tf.string, default_value=None),\n",
       " 'cloud_top_pressure_1km': FixedLenFeature(shape=5497240, dtype=tf.string, default_value=None),\n",
       " 'cloud_top_height_1km': FixedLenFeature(shape=5497240, dtype=tf.string, default_value=None),\n",
       " 'cloud_top_temperature_1km': FixedLenFeature(shape=5497240, dtype=tf.string, default_value=None),\n",
       " 'cloud_emissivity_1km': FixedLenFeature(shape=2748620, dtype=tf.string, default_value=None),\n",
       " 'cloud_top_method_1km': FixedLenFeature(shape=2748620, dtype=tf.string, default_value=None),\n",
       " 'surface_temperature_1km': FixedLenFeature(shape=5497240, dtype=tf.string, default_value=None),\n",
       " 'cloud_emiss11_1km': FixedLenFeature(shape=5497240, dtype=tf.string, default_value=None),\n",
       " 'cloud_emiss12_1km': FixedLenFeature(shape=5497240, dtype=tf.string, default_value=None),\n",
       " 'cloud_emiss13_1km': FixedLenFeature(shape=5497240, dtype=tf.string, default_value=None),\n",
       " 'cloud_emiss85_1km': FixedLenFeature(shape=5497240, dtype=tf.string, default_value=None),\n",
       " 'Cloud_Effective_Radius': FixedLenFeature(shape=5497240, dtype=tf.string, default_value=None),\n",
       " 'Cloud_Effective_Radius_PCL': FixedLenFeature(shape=5497240, dtype=tf.string, default_value=None),\n",
       " 'Cloud_Effective_Radius_16': FixedLenFeature(shape=5497240, dtype=tf.string, default_value=None),\n",
       " 'Cloud_Effective_Radius_16_PCL': FixedLenFeature(shape=5497240, dtype=tf.string, default_value=None),\n",
       " 'Cloud_Effective_Radius_37': FixedLenFeature(shape=5497240, dtype=tf.string, default_value=None),\n",
       " 'Cloud_Effective_Radius_37_PCL': FixedLenFeature(shape=5497240, dtype=tf.string, default_value=None),\n",
       " 'Cloud_Optical_Thickness': FixedLenFeature(shape=5497240, dtype=tf.string, default_value=None),\n",
       " 'Cloud_Optical_Thickness_PCL': FixedLenFeature(shape=5497240, dtype=tf.string, default_value=None),\n",
       " 'Cloud_Optical_Thickness_16': FixedLenFeature(shape=5497240, dtype=tf.string, default_value=None),\n",
       " 'Cloud_Optical_Thickness_16_PCL': FixedLenFeature(shape=5497240, dtype=tf.string, default_value=None),\n",
       " 'Cloud_Optical_Thickness_37': FixedLenFeature(shape=5497240, dtype=tf.string, default_value=None),\n",
       " 'Cloud_Optical_Thickness_37_PCL': FixedLenFeature(shape=5497240, dtype=tf.string, default_value=None),\n",
       " 'Cloud_Effective_Radius_1621': FixedLenFeature(shape=5497240, dtype=tf.string, default_value=None),\n",
       " 'Cloud_Effective_Radius_1621_PCL': FixedLenFeature(shape=5497240, dtype=tf.string, default_value=None),\n",
       " 'Cloud_Optical_Thickness_1621': FixedLenFeature(shape=5497240, dtype=tf.string, default_value=None),\n",
       " 'Cloud_Optical_Thickness_1621_PCL': FixedLenFeature(shape=5497240, dtype=tf.string, default_value=None),\n",
       " 'Cloud_Water_Path': FixedLenFeature(shape=5497240, dtype=tf.string, default_value=None),\n",
       " 'Cloud_Water_Path_PCL': FixedLenFeature(shape=5497240, dtype=tf.string, default_value=None),\n",
       " 'Cloud_Water_Path_1621': FixedLenFeature(shape=5497240, dtype=tf.string, default_value=None),\n",
       " 'Cloud_Water_Path_1621_PCL': FixedLenFeature(shape=5497240, dtype=tf.string, default_value=None),\n",
       " 'Cloud_Water_Path_16': FixedLenFeature(shape=5497240, dtype=tf.string, default_value=None),\n",
       " 'Cloud_Water_Path_16_PCL': FixedLenFeature(shape=5497240, dtype=tf.string, default_value=None),\n",
       " 'Cloud_Water_Path_37': FixedLenFeature(shape=5497240, dtype=tf.string, default_value=None),\n",
       " 'Cloud_Water_Path_37_PCL': FixedLenFeature(shape=5497240, dtype=tf.string, default_value=None),\n",
       " 'Cloud_Effective_Radius_Uncertainty': FixedLenFeature(shape=5497240, dtype=tf.string, default_value=None),\n",
       " 'Cloud_Effective_Radius_Uncertainty_16': FixedLenFeature(shape=5497240, dtype=tf.string, default_value=None),\n",
       " 'Cloud_Effective_Radius_Uncertainty_37': FixedLenFeature(shape=5497240, dtype=tf.string, default_value=None),\n",
       " 'Cloud_Optical_Thickness_Uncertainty': FixedLenFeature(shape=5497240, dtype=tf.string, default_value=None),\n",
       " 'Cloud_Optical_Thickness_Uncertainty_16': FixedLenFeature(shape=5497240, dtype=tf.string, default_value=None),\n",
       " 'Cloud_Optical_Thickness_Uncertainty_37': FixedLenFeature(shape=5497240, dtype=tf.string, default_value=None),\n",
       " 'Cloud_Water_Path_Uncertainty': FixedLenFeature(shape=5497240, dtype=tf.string, default_value=None),\n",
       " 'Cloud_Effective_Radius_Uncertainty_1621': FixedLenFeature(shape=5497240, dtype=tf.string, default_value=None),\n",
       " 'Cloud_Optical_Thickness_Uncertainty_1621': FixedLenFeature(shape=5497240, dtype=tf.string, default_value=None),\n",
       " 'Cloud_Water_Path_Uncertainty_1621': FixedLenFeature(shape=5497240, dtype=tf.string, default_value=None),\n",
       " 'Cloud_Water_Path_Uncertainty_16': FixedLenFeature(shape=5497240, dtype=tf.string, default_value=None),\n",
       " 'Cloud_Water_Path_Uncertainty_37': FixedLenFeature(shape=5497240, dtype=tf.string, default_value=None),\n",
       " 'Above_Cloud_Water_Vapor_094': FixedLenFeature(shape=5497240, dtype=tf.string, default_value=None),\n",
       " 'IRW_Low_Cloud_Temperature_From_COP': FixedLenFeature(shape=5497240, dtype=tf.string, default_value=None),\n",
       " 'Cloud_Phase_Optical_Properties': FixedLenFeature(shape=2748620, dtype=tf.string, default_value=None),\n",
       " 'Cloud_Multi_Layer_Flag': FixedLenFeature(shape=2748620, dtype=tf.string, default_value=None),\n",
       " 'Cirrus_Reflectance': FixedLenFeature(shape=5497240, dtype=tf.string, default_value=None),\n",
       " 'Cirrus_Reflectance_Flag': FixedLenFeature(shape=2748620, dtype=tf.string, default_value=None),\n",
       " 'Cloud_Mask_5km': FixedLenFeature(shape=219240, dtype=tf.string, default_value=None),\n",
       " 'Quality_Assurance_5km': FixedLenFeature(shape=1096200, dtype=tf.string, default_value=None),\n",
       " 'Cloud_Mask_1km': FixedLenFeature(shape=5497240, dtype=tf.string, default_value=None),\n",
       " 'Extinction_Efficiency_Ice': FixedLenFeature(shape=336, dtype=tf.string, default_value=None),\n",
       " 'Asymmetry_Parameter_Ice': FixedLenFeature(shape=336, dtype=tf.string, default_value=None),\n",
       " 'Single_Scatter_Albedo_Ice': FixedLenFeature(shape=336, dtype=tf.string, default_value=None),\n",
       " 'Extinction_Efficiency_Liq': FixedLenFeature(shape=504, dtype=tf.string, default_value=None),\n",
       " 'Asymmetry_Parameter_Liq': FixedLenFeature(shape=504, dtype=tf.string, default_value=None),\n",
       " 'Single_Scatter_Albedo_Liq': FixedLenFeature(shape=504, dtype=tf.string, default_value=None),\n",
       " 'Cloud_Mask_SPI': FixedLenFeature(shape=10994480, dtype=tf.string, default_value=None),\n",
       " 'Retrieval_Failure_Metric': FixedLenFeature(shape=16491720, dtype=tf.string, default_value=None),\n",
       " 'Retrieval_Failure_Metric_16': FixedLenFeature(shape=16491720, dtype=tf.string, default_value=None),\n",
       " 'Retrieval_Failure_Metric_37': FixedLenFeature(shape=16491720, dtype=tf.string, default_value=None),\n",
       " 'Retrieval_Failure_Metric_1621': FixedLenFeature(shape=16491720, dtype=tf.string, default_value=None),\n",
       " 'Atm_Corr_Refl': FixedLenFeature(shape=32983440, dtype=tf.string, default_value=None),\n",
       " 'Quality_Assurance_1km': FixedLenFeature(shape=24737580, dtype=tf.string, default_value=None),\n",
       " 'Statistics_1km_sds': FixedLenFeature(shape=68, dtype=tf.string, default_value=None)}"
      ]
     },
     "execution_count": 25,
     "metadata": {},
     "output_type": "execute_result"
    }
   ],
   "source": [
    "features"
   ]
  },
  {
   "cell_type": "code",
   "execution_count": 26,
   "metadata": {},
   "outputs": [
    {
     "data": {
      "text/plain": [
       "[2030, 1354, 1, 'int16']"
      ]
     },
     "execution_count": 26,
     "metadata": {},
     "output_type": "execute_result"
    }
   ],
   "source": [
    "fields[\"Cloud_Effective_Radius_1621_PCL\"]"
   ]
  },
  {
   "cell_type": "code",
   "execution_count": 27,
   "metadata": {
    "scrolled": false
   },
   "outputs": [
    {
     "ename": "InvalidArgumentError",
     "evalue": "Key: Cloud_Effective_Radius_1621_PCL.  Can't parse serialized Example.\n\t [[Node: ParseSingleExample/ParseSingleExample = ParseSingleExample[Tdense=[DT_STRING, DT_STRING, DT_STRING, DT_STRING, DT_STRING, ..., DT_STRING, DT_STRING, DT_STRING, DT_STRING, DT_STRING], dense_keys=[\"Above_Cloud_Water_Vapor_094\", \"Asymmetry_Parameter_Ice\", \"Asymmetry_Parameter_Liq\", \"Atm_Corr_Refl\", \"Brightness_Temperature\", ..., \"cloud_top_method_1km\", \"cloud_top_pressure_1km\", \"cloud_top_temperature_1km\", \"os_top_flag_1km\", \"surface_temperature_1km\"], dense_shapes=[[5497240], [336], [504], [32983440], [1534680], ..., [2748620], [5497240], [5497240], [2748620], [5497240]], num_sparse=0, sparse_keys=[], sparse_types=[]](arg0, ParseSingleExample/Const, ParseSingleExample/Const, ParseSingleExample/Const, ParseSingleExample/Const, ParseSingleExample/Const, ParseSingleExample/Const, ParseSingleExample/Const, ParseSingleExample/Const, ParseSingleExample/Const, ParseSingleExample/Const, ParseSingleExample/Const, ParseSingleExample/Const, ParseSingleExample/Const, ParseSingleExample/Const, ParseSingleExample/Const, ParseSingleExample/Const, ParseSingleExample/Const, ParseSingleExample/Const, ParseSingleExample/Const, ParseSingleExample/Const, ParseSingleExample/Const, ParseSingleExample/Const, ParseSingleExample/Const, ParseSingleExample/Const, ParseSingleExample/Const, ParseSingleExample/Const, ParseSingleExample/Const, ParseSingleExample/Const, ParseSingleExample/Const, ParseSingleExample/Const, ParseSingleExample/Const, ParseSingleExample/Const, ParseSingleExample/Const, ParseSingleExample/Const, ParseSingleExample/Const, ParseSingleExample/Const, ParseSingleExample/Const, ParseSingleExample/Const, ParseSingleExample/Const, ParseSingleExample/Const, ParseSingleExample/Const, ParseSingleExample/Const, ParseSingleExample/Const, ParseSingleExample/Const, ParseSingleExample/Const, ParseSingleExample/Const, ParseSingleExample/Const, ParseSingleExample/Const, ParseSingleExample/Const, ParseSingleExample/Const, ParseSingleExample/Const, ParseSingleExample/Const, ParseSingleExample/Const, ParseSingleExample/Const, ParseSingleExample/Const, ParseSingleExample/Const, ParseSingleExample/Const, ParseSingleExample/Const, ParseSingleExample/Const, ParseSingleExample/Const, ParseSingleExample/Const, ParseSingleExample/Const, ParseSingleExample/Const, ParseSingleExample/Const, ParseSingleExample/Const, ParseSingleExample/Const, ParseSingleExample/Const, ParseSingleExample/Const, ParseSingleExample/Const, ParseSingleExample/Const, ParseSingleExample/Const, ParseSingleExample/Const, ParseSingleExample/Const, ParseSingleExample/Const, ParseSingleExample/Const, ParseSingleExample/Const, ParseSingleExample/Const, ParseSingleExample/Const, ParseSingleExample/Const, ParseSingleExample/Const, ParseSingleExample/Const, ParseSingleExample/Const, ParseSingleExample/Const, ParseSingleExample/Const, ParseSingleExample/Const, ParseSingleExample/Const, ParseSingleExample/Const, ParseSingleExample/Const, ParseSingleExample/Const, ParseSingleExample/Const, ParseSingleExample/Const, ParseSingleExample/Const, ParseSingleExample/Const, ParseSingleExample/Const, ParseSingleExample/Const, ParseSingleExample/Const, ParseSingleExample/Const, ParseSingleExample/Const, ParseSingleExample/Const, ParseSingleExample/Const, ParseSingleExample/Const, ParseSingleExample/Const, ParseSingleExample/Const, ParseSingleExample/Const, ParseSingleExample/Const, ParseSingleExample/Const, ParseSingleExample/Const, ParseSingleExample/Const, ParseSingleExample/Const, ParseSingleExample/Const, ParseSingleExample/Const, ParseSingleExample/Const, ParseSingleExample/Const, ParseSingleExample/Const, ParseSingleExample/Const, ParseSingleExample/Const, ParseSingleExample/Const, ParseSingleExample/Const, ParseSingleExample/Const, ParseSingleExample/Const, ParseSingleExample/Const, ParseSingleExample/Const, ParseSingleExample/Const, ParseSingleExample/Const, ParseSingleExample/Const, ParseSingleExample/Const, ParseSingleExample/Const)]]\n\t [[Node: IteratorGetNext_2 = IteratorGetNext[output_shapes=[[5497240], [336], [504], [32983440], [1534680], ..., [2748620], [5497240], [5497240], [2748620], [5497240]], output_types=[DT_STRING, DT_STRING, DT_STRING, DT_STRING, DT_STRING, ..., DT_STRING, DT_STRING, DT_STRING, DT_STRING, DT_STRING], _device=\"/job:localhost/replica:0/task:0/device:CPU:0\"](OneShotIterator_2)]]",
     "output_type": "error",
     "traceback": [
      "\u001b[0;31m---------------------------------------------------------------------------\u001b[0m",
      "\u001b[0;31mInvalidArgumentError\u001b[0m                      Traceback (most recent call last)",
      "\u001b[0;32m/anaconda3/envs/clouds/lib/python3.6/site-packages/tensorflow/python/client/session.py\u001b[0m in \u001b[0;36m_do_call\u001b[0;34m(self, fn, *args)\u001b[0m\n\u001b[1;32m   1321\u001b[0m     \u001b[0;32mtry\u001b[0m\u001b[0;34m:\u001b[0m\u001b[0;34m\u001b[0m\u001b[0m\n\u001b[0;32m-> 1322\u001b[0;31m       \u001b[0;32mreturn\u001b[0m \u001b[0mfn\u001b[0m\u001b[0;34m(\u001b[0m\u001b[0;34m*\u001b[0m\u001b[0margs\u001b[0m\u001b[0;34m)\u001b[0m\u001b[0;34m\u001b[0m\u001b[0m\n\u001b[0m\u001b[1;32m   1323\u001b[0m     \u001b[0;32mexcept\u001b[0m \u001b[0merrors\u001b[0m\u001b[0;34m.\u001b[0m\u001b[0mOpError\u001b[0m \u001b[0;32mas\u001b[0m \u001b[0me\u001b[0m\u001b[0;34m:\u001b[0m\u001b[0;34m\u001b[0m\u001b[0m\n",
      "\u001b[0;32m/anaconda3/envs/clouds/lib/python3.6/site-packages/tensorflow/python/client/session.py\u001b[0m in \u001b[0;36m_run_fn\u001b[0;34m(feed_dict, fetch_list, target_list, options, run_metadata)\u001b[0m\n\u001b[1;32m   1306\u001b[0m       return self._call_tf_sessionrun(\n\u001b[0;32m-> 1307\u001b[0;31m           options, feed_dict, fetch_list, target_list, run_metadata)\n\u001b[0m\u001b[1;32m   1308\u001b[0m \u001b[0;34m\u001b[0m\u001b[0m\n",
      "\u001b[0;32m/anaconda3/envs/clouds/lib/python3.6/site-packages/tensorflow/python/client/session.py\u001b[0m in \u001b[0;36m_call_tf_sessionrun\u001b[0;34m(self, options, feed_dict, fetch_list, target_list, run_metadata)\u001b[0m\n\u001b[1;32m   1408\u001b[0m           \u001b[0mself\u001b[0m\u001b[0;34m.\u001b[0m\u001b[0m_session\u001b[0m\u001b[0;34m,\u001b[0m \u001b[0moptions\u001b[0m\u001b[0;34m,\u001b[0m \u001b[0mfeed_dict\u001b[0m\u001b[0;34m,\u001b[0m \u001b[0mfetch_list\u001b[0m\u001b[0;34m,\u001b[0m \u001b[0mtarget_list\u001b[0m\u001b[0;34m,\u001b[0m\u001b[0;34m\u001b[0m\u001b[0m\n\u001b[0;32m-> 1409\u001b[0;31m           run_metadata)\n\u001b[0m\u001b[1;32m   1410\u001b[0m     \u001b[0;32melse\u001b[0m\u001b[0;34m:\u001b[0m\u001b[0;34m\u001b[0m\u001b[0m\n",
      "\u001b[0;31mInvalidArgumentError\u001b[0m: Key: Cloud_Effective_Radius_1621_PCL.  Can't parse serialized Example.\n\t [[Node: ParseSingleExample/ParseSingleExample = ParseSingleExample[Tdense=[DT_STRING, DT_STRING, DT_STRING, DT_STRING, DT_STRING, ..., DT_STRING, DT_STRING, DT_STRING, DT_STRING, DT_STRING], dense_keys=[\"Above_Cloud_Water_Vapor_094\", \"Asymmetry_Parameter_Ice\", \"Asymmetry_Parameter_Liq\", \"Atm_Corr_Refl\", \"Brightness_Temperature\", ..., \"cloud_top_method_1km\", \"cloud_top_pressure_1km\", \"cloud_top_temperature_1km\", \"os_top_flag_1km\", \"surface_temperature_1km\"], dense_shapes=[[5497240], [336], [504], [32983440], [1534680], ..., [2748620], [5497240], [5497240], [2748620], [5497240]], num_sparse=0, sparse_keys=[], sparse_types=[]](arg0, ParseSingleExample/Const, ParseSingleExample/Const, ParseSingleExample/Const, ParseSingleExample/Const, ParseSingleExample/Const, ParseSingleExample/Const, ParseSingleExample/Const, ParseSingleExample/Const, ParseSingleExample/Const, ParseSingleExample/Const, ParseSingleExample/Const, ParseSingleExample/Const, ParseSingleExample/Const, ParseSingleExample/Const, ParseSingleExample/Const, ParseSingleExample/Const, ParseSingleExample/Const, ParseSingleExample/Const, ParseSingleExample/Const, ParseSingleExample/Const, ParseSingleExample/Const, ParseSingleExample/Const, ParseSingleExample/Const, ParseSingleExample/Const, ParseSingleExample/Const, ParseSingleExample/Const, ParseSingleExample/Const, ParseSingleExample/Const, ParseSingleExample/Const, ParseSingleExample/Const, ParseSingleExample/Const, ParseSingleExample/Const, ParseSingleExample/Const, ParseSingleExample/Const, ParseSingleExample/Const, ParseSingleExample/Const, ParseSingleExample/Const, ParseSingleExample/Const, ParseSingleExample/Const, ParseSingleExample/Const, ParseSingleExample/Const, ParseSingleExample/Const, ParseSingleExample/Const, ParseSingleExample/Const, ParseSingleExample/Const, ParseSingleExample/Const, ParseSingleExample/Const, ParseSingleExample/Const, ParseSingleExample/Const, ParseSingleExample/Const, ParseSingleExample/Const, ParseSingleExample/Const, ParseSingleExample/Const, ParseSingleExample/Const, ParseSingleExample/Const, ParseSingleExample/Const, ParseSingleExample/Const, ParseSingleExample/Const, ParseSingleExample/Const, ParseSingleExample/Const, ParseSingleExample/Const, ParseSingleExample/Const, ParseSingleExample/Const, ParseSingleExample/Const, ParseSingleExample/Const, ParseSingleExample/Const, ParseSingleExample/Const, ParseSingleExample/Const, ParseSingleExample/Const, ParseSingleExample/Const, ParseSingleExample/Const, ParseSingleExample/Const, ParseSingleExample/Const, ParseSingleExample/Const, ParseSingleExample/Const, ParseSingleExample/Const, ParseSingleExample/Const, ParseSingleExample/Const, ParseSingleExample/Const, ParseSingleExample/Const, ParseSingleExample/Const, ParseSingleExample/Const, ParseSingleExample/Const, ParseSingleExample/Const, ParseSingleExample/Const, ParseSingleExample/Const, ParseSingleExample/Const, ParseSingleExample/Const, ParseSingleExample/Const, ParseSingleExample/Const, ParseSingleExample/Const, ParseSingleExample/Const, ParseSingleExample/Const, ParseSingleExample/Const, ParseSingleExample/Const, ParseSingleExample/Const, ParseSingleExample/Const, ParseSingleExample/Const, ParseSingleExample/Const, ParseSingleExample/Const, ParseSingleExample/Const, ParseSingleExample/Const, ParseSingleExample/Const, ParseSingleExample/Const, ParseSingleExample/Const, ParseSingleExample/Const, ParseSingleExample/Const, ParseSingleExample/Const, ParseSingleExample/Const, ParseSingleExample/Const, ParseSingleExample/Const, ParseSingleExample/Const, ParseSingleExample/Const, ParseSingleExample/Const, ParseSingleExample/Const, ParseSingleExample/Const, ParseSingleExample/Const, ParseSingleExample/Const, ParseSingleExample/Const, ParseSingleExample/Const, ParseSingleExample/Const, ParseSingleExample/Const, ParseSingleExample/Const, ParseSingleExample/Const, ParseSingleExample/Const, ParseSingleExample/Const, ParseSingleExample/Const)]]\n\t [[Node: IteratorGetNext_2 = IteratorGetNext[output_shapes=[[5497240], [336], [504], [32983440], [1534680], ..., [2748620], [5497240], [5497240], [2748620], [5497240]], output_types=[DT_STRING, DT_STRING, DT_STRING, DT_STRING, DT_STRING, ..., DT_STRING, DT_STRING, DT_STRING, DT_STRING, DT_STRING], _device=\"/job:localhost/replica:0/task:0/device:CPU:0\"](OneShotIterator_2)]]",
      "\nDuring handling of the above exception, another exception occurred:\n",
      "\u001b[0;31mInvalidArgumentError\u001b[0m                      Traceback (most recent call last)",
      "\u001b[0;32m<ipython-input-27-47d501f1686c>\u001b[0m in \u001b[0;36m<module>\u001b[0;34m()\u001b[0m\n\u001b[1;32m      1\u001b[0m \u001b[0;32mwith\u001b[0m \u001b[0mtf\u001b[0m\u001b[0;34m.\u001b[0m\u001b[0mSession\u001b[0m\u001b[0;34m(\u001b[0m\u001b[0;34m)\u001b[0m \u001b[0;32mas\u001b[0m \u001b[0msess\u001b[0m\u001b[0;34m:\u001b[0m\u001b[0;34m\u001b[0m\u001b[0m\n\u001b[0;32m----> 2\u001b[0;31m     \u001b[0mx\u001b[0m \u001b[0;34m=\u001b[0m \u001b[0msess\u001b[0m\u001b[0;34m.\u001b[0m\u001b[0mrun\u001b[0m\u001b[0;34m(\u001b[0m\u001b[0md\u001b[0m\u001b[0;34m.\u001b[0m\u001b[0mmake_one_shot_iterator\u001b[0m\u001b[0;34m(\u001b[0m\u001b[0;34m)\u001b[0m\u001b[0;34m.\u001b[0m\u001b[0mget_next\u001b[0m\u001b[0;34m(\u001b[0m\u001b[0;34m)\u001b[0m\u001b[0;34m)\u001b[0m\u001b[0;34m\u001b[0m\u001b[0m\n\u001b[0m",
      "\u001b[0;32m/anaconda3/envs/clouds/lib/python3.6/site-packages/tensorflow/python/client/session.py\u001b[0m in \u001b[0;36mrun\u001b[0;34m(self, fetches, feed_dict, options, run_metadata)\u001b[0m\n\u001b[1;32m    898\u001b[0m     \u001b[0;32mtry\u001b[0m\u001b[0;34m:\u001b[0m\u001b[0;34m\u001b[0m\u001b[0m\n\u001b[1;32m    899\u001b[0m       result = self._run(None, fetches, feed_dict, options_ptr,\n\u001b[0;32m--> 900\u001b[0;31m                          run_metadata_ptr)\n\u001b[0m\u001b[1;32m    901\u001b[0m       \u001b[0;32mif\u001b[0m \u001b[0mrun_metadata\u001b[0m\u001b[0;34m:\u001b[0m\u001b[0;34m\u001b[0m\u001b[0m\n\u001b[1;32m    902\u001b[0m         \u001b[0mproto_data\u001b[0m \u001b[0;34m=\u001b[0m \u001b[0mtf_session\u001b[0m\u001b[0;34m.\u001b[0m\u001b[0mTF_GetBuffer\u001b[0m\u001b[0;34m(\u001b[0m\u001b[0mrun_metadata_ptr\u001b[0m\u001b[0;34m)\u001b[0m\u001b[0;34m\u001b[0m\u001b[0m\n",
      "\u001b[0;32m/anaconda3/envs/clouds/lib/python3.6/site-packages/tensorflow/python/client/session.py\u001b[0m in \u001b[0;36m_run\u001b[0;34m(self, handle, fetches, feed_dict, options, run_metadata)\u001b[0m\n\u001b[1;32m   1133\u001b[0m     \u001b[0;32mif\u001b[0m \u001b[0mfinal_fetches\u001b[0m \u001b[0;32mor\u001b[0m \u001b[0mfinal_targets\u001b[0m \u001b[0;32mor\u001b[0m \u001b[0;34m(\u001b[0m\u001b[0mhandle\u001b[0m \u001b[0;32mand\u001b[0m \u001b[0mfeed_dict_tensor\u001b[0m\u001b[0;34m)\u001b[0m\u001b[0;34m:\u001b[0m\u001b[0;34m\u001b[0m\u001b[0m\n\u001b[1;32m   1134\u001b[0m       results = self._do_run(handle, final_targets, final_fetches,\n\u001b[0;32m-> 1135\u001b[0;31m                              feed_dict_tensor, options, run_metadata)\n\u001b[0m\u001b[1;32m   1136\u001b[0m     \u001b[0;32melse\u001b[0m\u001b[0;34m:\u001b[0m\u001b[0;34m\u001b[0m\u001b[0m\n\u001b[1;32m   1137\u001b[0m       \u001b[0mresults\u001b[0m \u001b[0;34m=\u001b[0m \u001b[0;34m[\u001b[0m\u001b[0;34m]\u001b[0m\u001b[0;34m\u001b[0m\u001b[0m\n",
      "\u001b[0;32m/anaconda3/envs/clouds/lib/python3.6/site-packages/tensorflow/python/client/session.py\u001b[0m in \u001b[0;36m_do_run\u001b[0;34m(self, handle, target_list, fetch_list, feed_dict, options, run_metadata)\u001b[0m\n\u001b[1;32m   1314\u001b[0m     \u001b[0;32mif\u001b[0m \u001b[0mhandle\u001b[0m \u001b[0;32mis\u001b[0m \u001b[0;32mNone\u001b[0m\u001b[0;34m:\u001b[0m\u001b[0;34m\u001b[0m\u001b[0m\n\u001b[1;32m   1315\u001b[0m       return self._do_call(_run_fn, feeds, fetches, targets, options,\n\u001b[0;32m-> 1316\u001b[0;31m                            run_metadata)\n\u001b[0m\u001b[1;32m   1317\u001b[0m     \u001b[0;32melse\u001b[0m\u001b[0;34m:\u001b[0m\u001b[0;34m\u001b[0m\u001b[0m\n\u001b[1;32m   1318\u001b[0m       \u001b[0;32mreturn\u001b[0m \u001b[0mself\u001b[0m\u001b[0;34m.\u001b[0m\u001b[0m_do_call\u001b[0m\u001b[0;34m(\u001b[0m\u001b[0m_prun_fn\u001b[0m\u001b[0;34m,\u001b[0m \u001b[0mhandle\u001b[0m\u001b[0;34m,\u001b[0m \u001b[0mfeeds\u001b[0m\u001b[0;34m,\u001b[0m \u001b[0mfetches\u001b[0m\u001b[0;34m)\u001b[0m\u001b[0;34m\u001b[0m\u001b[0m\n",
      "\u001b[0;32m/anaconda3/envs/clouds/lib/python3.6/site-packages/tensorflow/python/client/session.py\u001b[0m in \u001b[0;36m_do_call\u001b[0;34m(self, fn, *args)\u001b[0m\n\u001b[1;32m   1333\u001b[0m         \u001b[0;32mexcept\u001b[0m \u001b[0mKeyError\u001b[0m\u001b[0;34m:\u001b[0m\u001b[0;34m\u001b[0m\u001b[0m\n\u001b[1;32m   1334\u001b[0m           \u001b[0;32mpass\u001b[0m\u001b[0;34m\u001b[0m\u001b[0m\n\u001b[0;32m-> 1335\u001b[0;31m       \u001b[0;32mraise\u001b[0m \u001b[0mtype\u001b[0m\u001b[0;34m(\u001b[0m\u001b[0me\u001b[0m\u001b[0;34m)\u001b[0m\u001b[0;34m(\u001b[0m\u001b[0mnode_def\u001b[0m\u001b[0;34m,\u001b[0m \u001b[0mop\u001b[0m\u001b[0;34m,\u001b[0m \u001b[0mmessage\u001b[0m\u001b[0;34m)\u001b[0m\u001b[0;34m\u001b[0m\u001b[0m\n\u001b[0m\u001b[1;32m   1336\u001b[0m \u001b[0;34m\u001b[0m\u001b[0m\n\u001b[1;32m   1337\u001b[0m   \u001b[0;32mdef\u001b[0m \u001b[0m_extend_graph\u001b[0m\u001b[0;34m(\u001b[0m\u001b[0mself\u001b[0m\u001b[0;34m)\u001b[0m\u001b[0;34m:\u001b[0m\u001b[0;34m\u001b[0m\u001b[0m\n",
      "\u001b[0;31mInvalidArgumentError\u001b[0m: Key: Cloud_Effective_Radius_1621_PCL.  Can't parse serialized Example.\n\t [[Node: ParseSingleExample/ParseSingleExample = ParseSingleExample[Tdense=[DT_STRING, DT_STRING, DT_STRING, DT_STRING, DT_STRING, ..., DT_STRING, DT_STRING, DT_STRING, DT_STRING, DT_STRING], dense_keys=[\"Above_Cloud_Water_Vapor_094\", \"Asymmetry_Parameter_Ice\", \"Asymmetry_Parameter_Liq\", \"Atm_Corr_Refl\", \"Brightness_Temperature\", ..., \"cloud_top_method_1km\", \"cloud_top_pressure_1km\", \"cloud_top_temperature_1km\", \"os_top_flag_1km\", \"surface_temperature_1km\"], dense_shapes=[[5497240], [336], [504], [32983440], [1534680], ..., [2748620], [5497240], [5497240], [2748620], [5497240]], num_sparse=0, sparse_keys=[], sparse_types=[]](arg0, ParseSingleExample/Const, ParseSingleExample/Const, ParseSingleExample/Const, ParseSingleExample/Const, ParseSingleExample/Const, ParseSingleExample/Const, ParseSingleExample/Const, ParseSingleExample/Const, ParseSingleExample/Const, ParseSingleExample/Const, ParseSingleExample/Const, ParseSingleExample/Const, ParseSingleExample/Const, ParseSingleExample/Const, ParseSingleExample/Const, ParseSingleExample/Const, ParseSingleExample/Const, ParseSingleExample/Const, ParseSingleExample/Const, ParseSingleExample/Const, ParseSingleExample/Const, ParseSingleExample/Const, ParseSingleExample/Const, ParseSingleExample/Const, ParseSingleExample/Const, ParseSingleExample/Const, ParseSingleExample/Const, ParseSingleExample/Const, ParseSingleExample/Const, ParseSingleExample/Const, ParseSingleExample/Const, ParseSingleExample/Const, ParseSingleExample/Const, ParseSingleExample/Const, ParseSingleExample/Const, ParseSingleExample/Const, ParseSingleExample/Const, ParseSingleExample/Const, ParseSingleExample/Const, ParseSingleExample/Const, ParseSingleExample/Const, ParseSingleExample/Const, ParseSingleExample/Const, ParseSingleExample/Const, ParseSingleExample/Const, ParseSingleExample/Const, ParseSingleExample/Const, ParseSingleExample/Const, ParseSingleExample/Const, ParseSingleExample/Const, ParseSingleExample/Const, ParseSingleExample/Const, ParseSingleExample/Const, ParseSingleExample/Const, ParseSingleExample/Const, ParseSingleExample/Const, ParseSingleExample/Const, ParseSingleExample/Const, ParseSingleExample/Const, ParseSingleExample/Const, ParseSingleExample/Const, ParseSingleExample/Const, ParseSingleExample/Const, ParseSingleExample/Const, ParseSingleExample/Const, ParseSingleExample/Const, ParseSingleExample/Const, ParseSingleExample/Const, ParseSingleExample/Const, ParseSingleExample/Const, ParseSingleExample/Const, ParseSingleExample/Const, ParseSingleExample/Const, ParseSingleExample/Const, ParseSingleExample/Const, ParseSingleExample/Const, ParseSingleExample/Const, ParseSingleExample/Const, ParseSingleExample/Const, ParseSingleExample/Const, ParseSingleExample/Const, ParseSingleExample/Const, ParseSingleExample/Const, ParseSingleExample/Const, ParseSingleExample/Const, ParseSingleExample/Const, ParseSingleExample/Const, ParseSingleExample/Const, ParseSingleExample/Const, ParseSingleExample/Const, ParseSingleExample/Const, ParseSingleExample/Const, ParseSingleExample/Const, ParseSingleExample/Const, ParseSingleExample/Const, ParseSingleExample/Const, ParseSingleExample/Const, ParseSingleExample/Const, ParseSingleExample/Const, ParseSingleExample/Const, ParseSingleExample/Const, ParseSingleExample/Const, ParseSingleExample/Const, ParseSingleExample/Const, ParseSingleExample/Const, ParseSingleExample/Const, ParseSingleExample/Const, ParseSingleExample/Const, ParseSingleExample/Const, ParseSingleExample/Const, ParseSingleExample/Const, ParseSingleExample/Const, ParseSingleExample/Const, ParseSingleExample/Const, ParseSingleExample/Const, ParseSingleExample/Const, ParseSingleExample/Const, ParseSingleExample/Const, ParseSingleExample/Const, ParseSingleExample/Const, ParseSingleExample/Const, ParseSingleExample/Const, ParseSingleExample/Const, ParseSingleExample/Const, ParseSingleExample/Const, ParseSingleExample/Const, ParseSingleExample/Const)]]\n\t [[Node: IteratorGetNext_2 = IteratorGetNext[output_shapes=[[5497240], [336], [504], [32983440], [1534680], ..., [2748620], [5497240], [5497240], [2748620], [5497240]], output_types=[DT_STRING, DT_STRING, DT_STRING, DT_STRING, DT_STRING, ..., DT_STRING, DT_STRING, DT_STRING, DT_STRING, DT_STRING], _device=\"/job:localhost/replica:0/task:0/device:CPU:0\"](OneShotIterator_2)]]"
     ]
    }
   ],
   "source": [
    "with tf.Session() as sess:\n",
    "    x = sess.run(d.make_one_shot_iterator().get_next())"
   ]
  },
  {
   "cell_type": "code",
   "execution_count": null,
   "metadata": {},
   "outputs": [],
   "source": []
  },
  {
   "cell_type": "code",
   "execution_count": null,
   "metadata": {},
   "outputs": [],
   "source": []
  }
 ],
 "metadata": {
  "kernelspec": {
   "display_name": "Python 3",
   "language": "python",
   "name": "python3"
  },
  "language_info": {
   "codemirror_mode": {
    "name": "ipython",
    "version": 3
   },
   "file_extension": ".py",
   "mimetype": "text/x-python",
   "name": "python",
   "nbconvert_exporter": "python",
   "pygments_lexer": "ipython3",
   "version": "3.6.6"
  }
 },
 "nbformat": 4,
 "nbformat_minor": 2
}
