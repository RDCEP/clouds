{
 "cells": [
  {
   "cell_type": "code",
   "execution_count": 1,
   "metadata": {},
   "outputs": [],
   "source": [
    "%reload_ext autoreload\n",
    "%autoreload 2\n",
    "import os\n",
    "import re\n",
    "import sys\n",
    "import glob\n",
    "import numpy as np\n",
    "import tensorflow as tf"
   ]
  },
  {
   "cell_type": "code",
   "execution_count": 3,
   "metadata": {},
   "outputs": [],
   "source": [
    "libdir = '/home/tkurihana/scratch-midway2/clouds/src_analysis/lib_hdfs'\n",
    "sys.path.insert(1,os.path.join(sys.path[0],libdir))\n",
    "from lib_modis02 import load_tfrecord\n",
    "from lib_modis02 import _get_imgs\n",
    "from lib_modis02 import _get_num_imgs"
   ]
  },
  {
   "cell_type": "code",
   "execution_count": 26,
   "metadata": {},
   "outputs": [],
   "source": [
    "from tensorflow.python.keras.layers import *\n",
    "from tensorflow.python.keras.models import Model, Sequential"
   ]
  },
  {
   "cell_type": "code",
   "execution_count": 35,
   "metadata": {},
   "outputs": [],
   "source": [
    "libdir = '/home/tkurihana/Clouds_dnn/driver'\n",
    "sys.path.insert(1,os.path.join(sys.path[0],libdir))\n",
    "from models import resblock\n",
    "from models import scale_change_block"
   ]
  },
  {
   "cell_type": "markdown",
   "metadata": {},
   "source": [
    "### Load model\n",
    "How to load `ckpt` format data?   \n",
    "Helpful resource[TnedorFlow official-document](https://www.tensorflow.org/beta/tutorials/keras/save_and_restore_models?hl=ja) \n",
    "\n",
    "*Problem*  \n",
    "ONLY latest 5 checkpoints are  saved (others are supposed to be deleted)"
   ]
  },
  {
   "cell_type": "code",
   "execution_count": 4,
   "metadata": {},
   "outputs": [],
   "source": [
    "model_dir = '/project2/foster/clouds/output/mod02/m02_dgx_0725_n128_29_31'"
   ]
  },
  {
   "cell_type": "code",
   "execution_count": 5,
   "metadata": {},
   "outputs": [
    {
     "data": {
      "text/plain": [
       "'/project2/foster/clouds/output/mod02/m02_dgx_0725_n128_29_31/model.ckpt-3'"
      ]
     },
     "execution_count": 5,
     "metadata": {},
     "output_type": "execute_result"
    }
   ],
   "source": [
    "### latest model weight\n",
    "latest = tf.train.latest_checkpoint(model_dir)\n",
    "latest"
   ]
  },
  {
   "cell_type": "markdown",
   "metadata": {},
   "source": [
    "load model structure"
   ]
  },
  {
   "cell_type": "markdown",
   "metadata": {},
   "source": [
    "- Helpful web resoueces  \n",
    "[Hatena blog; TF & Jupyter notebook issue for saver](http://mizti.hatenablog.com/entry/2017/05/20/220645)  \n",
    "[MetaFlow; TensorFlow: saving/restoring and mixing multiple models](https://blog.metaflow.fr/tensorflow-saving-restoring-and-mixing-multiple-models-c4c94d5d7125) --> Check `Restoring the weights`  "
   ]
  },
  {
   "cell_type": "code",
   "execution_count": 42,
   "metadata": {},
   "outputs": [
    {
     "name": "stdout",
     "output_type": "stream",
     "text": [
      "INFO:tensorflow:Restoring parameters from /project2/foster/clouds/output/mod02/m02_dgx_0725_n128_29_31/model.ckpt-3\n"
     ]
    }
   ],
   "source": [
    "metadata = model_dir+'/model.ckpt-3.meta'\n",
    "tf.reset_default_graph() # <----- This is key line! DO NOT erase here to prevent notebook from automatically asssgin new vars \n",
    "with tf.Session() as sess:  \n",
    "    saver = tf.train.import_meta_graph(metadata)\n",
    "    saver.restore(sess,tf.train.latest_checkpoint(model_dir))"
   ]
  },
  {
   "cell_type": "code",
   "execution_count": 43,
   "metadata": {},
   "outputs": [
    {
     "data": {
      "text/plain": [
       "<tensorflow.python.training.saver.Saver at 0x7f51ddec2a90>"
      ]
     },
     "execution_count": 43,
     "metadata": {},
     "output_type": "execute_result"
    }
   ],
   "source": [
    "saver"
   ]
  },
  {
   "cell_type": "markdown",
   "metadata": {},
   "source": [
    "Conver tf-based checkpoint saver model to keras based model  \n",
    "- Helpful web resources  \n",
    "[Stackoverflow; how can I convert a trained tf model to keras.](https://stackoverflow.com/questions/44466066/how-can-i-convert-a-trained-tensorflow-model-to-keras)"
   ]
  },
  {
   "cell_type": "code",
   "execution_count": 44,
   "metadata": {},
   "outputs": [
    {
     "name": "stdout",
     "output_type": "stream",
     "text": [
      "INFO:tensorflow:Restoring parameters from /project2/foster/clouds/output/mod02/m02_dgx_0725_n128_29_31/model.ckpt-3\n"
     ]
    }
   ],
   "source": [
    "metadata = model_dir+'/model.ckpt-3.meta'\n",
    "tf.reset_default_graph() # <----- This is key line! DO NOT erase here to prevent notebook from automatically asssgin new vars \n",
    "with tf.Session() as sess:  \n",
    "    saver = tf.train.import_meta_graph(metadata)\n",
    "    saver.restore(sess,tf.train.latest_checkpoint(model_dir))\n",
    "    # get all global variables (including model variables)\n",
    "    vars_global = tf.global_variables()\n",
    "    # get their name and value and put them into dictionary\n",
    "    sess.as_default()\n",
    "    model_vars = {}\n",
    "    for var in vars_global:\n",
    "        try:\n",
    "            model_vars[var.name] = var.eval()\n",
    "        except:\n",
    "            print(\"For var={}, an exception occurred\".format(var.name))"
   ]
  },
  {
   "cell_type": "code",
   "execution_count": 45,
   "metadata": {
    "scrolled": true
   },
   "outputs": [
    {
     "data": {
      "text/plain": [
       "[<tf.Variable 'global_step:0' shape=() dtype=int64_ref>,\n",
       " <tf.Variable 'autoencoder/conv2d/kernel:0' shape=(3, 3, 6, 16) dtype=float32>,\n",
       " <tf.Variable 'autoencoder/conv2d/bias:0' shape=(16,) dtype=float32>,\n",
       " <tf.Variable 'autoencoder/encoding_0/conv2d_1/kernel:0' shape=(3, 3, 16, 16) dtype=float32>,\n",
       " <tf.Variable 'autoencoder/encoding_0/conv2d_1/bias:0' shape=(16,) dtype=float32>,\n",
       " <tf.Variable 'autoencoder/encoding_0/conv2d_2/kernel:0' shape=(3, 3, 16, 16) dtype=float32>,\n",
       " <tf.Variable 'autoencoder/encoding_0/conv2d_2/bias:0' shape=(16,) dtype=float32>,\n",
       " <tf.Variable 'autoencoder/encoding_0/batch_normalization/gamma:0' shape=(16,) dtype=float32>,\n",
       " <tf.Variable 'autoencoder/encoding_0/batch_normalization/beta:0' shape=(16,) dtype=float32>,\n",
       " <tf.Variable 'autoencoder/encoding_0/batch_normalization/moving_mean:0' shape=(16,) dtype=float32>,\n",
       " <tf.Variable 'autoencoder/encoding_0/batch_normalization/moving_variance:0' shape=(16,) dtype=float32>,\n",
       " <tf.Variable 'autoencoder/encoding_1/conv2d_3/kernel:0' shape=(3, 3, 16, 32) dtype=float32>,\n",
       " <tf.Variable 'autoencoder/encoding_1/conv2d_3/bias:0' shape=(32,) dtype=float32>,\n",
       " <tf.Variable 'autoencoder/encoding_1/conv2d_4/kernel:0' shape=(3, 3, 32, 32) dtype=float32>,\n",
       " <tf.Variable 'autoencoder/encoding_1/conv2d_4/bias:0' shape=(32,) dtype=float32>,\n",
       " <tf.Variable 'autoencoder/encoding_1/batch_normalization_1/gamma:0' shape=(32,) dtype=float32>,\n",
       " <tf.Variable 'autoencoder/encoding_1/batch_normalization_1/beta:0' shape=(32,) dtype=float32>,\n",
       " <tf.Variable 'autoencoder/encoding_1/batch_normalization_1/moving_mean:0' shape=(32,) dtype=float32>,\n",
       " <tf.Variable 'autoencoder/encoding_1/batch_normalization_1/moving_variance:0' shape=(32,) dtype=float32>,\n",
       " <tf.Variable 'autoencoder/encoding_2/conv2d_5/kernel:0' shape=(3, 3, 32, 64) dtype=float32>,\n",
       " <tf.Variable 'autoencoder/encoding_2/conv2d_5/bias:0' shape=(64,) dtype=float32>,\n",
       " <tf.Variable 'autoencoder/encoding_2/conv2d_6/kernel:0' shape=(3, 3, 64, 64) dtype=float32>,\n",
       " <tf.Variable 'autoencoder/encoding_2/conv2d_6/bias:0' shape=(64,) dtype=float32>,\n",
       " <tf.Variable 'autoencoder/encoding_2/batch_normalization_2/gamma:0' shape=(64,) dtype=float32>,\n",
       " <tf.Variable 'autoencoder/encoding_2/batch_normalization_2/beta:0' shape=(64,) dtype=float32>,\n",
       " <tf.Variable 'autoencoder/encoding_2/batch_normalization_2/moving_mean:0' shape=(64,) dtype=float32>,\n",
       " <tf.Variable 'autoencoder/encoding_2/batch_normalization_2/moving_variance:0' shape=(64,) dtype=float32>,\n",
       " <tf.Variable 'autoencoder/encoding_3/conv2d_7/kernel:0' shape=(3, 3, 64, 128) dtype=float32>,\n",
       " <tf.Variable 'autoencoder/encoding_3/conv2d_7/bias:0' shape=(128,) dtype=float32>,\n",
       " <tf.Variable 'autoencoder/encoding_3/conv2d_8/kernel:0' shape=(3, 3, 128, 128) dtype=float32>,\n",
       " <tf.Variable 'autoencoder/encoding_3/conv2d_8/bias:0' shape=(128,) dtype=float32>,\n",
       " <tf.Variable 'autoencoder/encoding_3/batch_normalization_3/gamma:0' shape=(128,) dtype=float32>,\n",
       " <tf.Variable 'autoencoder/encoding_3/batch_normalization_3/beta:0' shape=(128,) dtype=float32>,\n",
       " <tf.Variable 'autoencoder/encoding_3/batch_normalization_3/moving_mean:0' shape=(128,) dtype=float32>,\n",
       " <tf.Variable 'autoencoder/encoding_3/batch_normalization_3/moving_variance:0' shape=(128,) dtype=float32>,\n",
       " <tf.Variable 'autoencoder/encoding_4/conv2d_9/kernel:0' shape=(3, 3, 128, 256) dtype=float32>,\n",
       " <tf.Variable 'autoencoder/encoding_4/conv2d_9/bias:0' shape=(256,) dtype=float32>,\n",
       " <tf.Variable 'autoencoder/encoding_4/conv2d_10/kernel:0' shape=(3, 3, 256, 256) dtype=float32>,\n",
       " <tf.Variable 'autoencoder/encoding_4/conv2d_10/bias:0' shape=(256,) dtype=float32>,\n",
       " <tf.Variable 'autoencoder/encoding_4/batch_normalization_4/gamma:0' shape=(256,) dtype=float32>,\n",
       " <tf.Variable 'autoencoder/encoding_4/batch_normalization_4/beta:0' shape=(256,) dtype=float32>,\n",
       " <tf.Variable 'autoencoder/encoding_4/batch_normalization_4/moving_mean:0' shape=(256,) dtype=float32>,\n",
       " <tf.Variable 'autoencoder/encoding_4/batch_normalization_4/moving_variance:0' shape=(256,) dtype=float32>,\n",
       " <tf.Variable 'autoencoder/encoding_5/conv2d_11/kernel:0' shape=(3, 3, 256, 512) dtype=float32>,\n",
       " <tf.Variable 'autoencoder/encoding_5/conv2d_11/bias:0' shape=(512,) dtype=float32>,\n",
       " <tf.Variable 'autoencoder/encoding_5/conv2d_12/kernel:0' shape=(3, 3, 512, 512) dtype=float32>,\n",
       " <tf.Variable 'autoencoder/encoding_5/conv2d_12/bias:0' shape=(512,) dtype=float32>,\n",
       " <tf.Variable 'autoencoder/encoding_5/batch_normalization_5/gamma:0' shape=(512,) dtype=float32>,\n",
       " <tf.Variable 'autoencoder/encoding_5/batch_normalization_5/beta:0' shape=(512,) dtype=float32>,\n",
       " <tf.Variable 'autoencoder/encoding_5/batch_normalization_5/moving_mean:0' shape=(512,) dtype=float32>,\n",
       " <tf.Variable 'autoencoder/encoding_5/batch_normalization_5/moving_variance:0' shape=(512,) dtype=float32>,\n",
       " <tf.Variable 'autoencoder/encoding_6/conv2d_13/kernel:0' shape=(3, 3, 512, 1024) dtype=float32>,\n",
       " <tf.Variable 'autoencoder/encoding_6/conv2d_13/bias:0' shape=(1024,) dtype=float32>,\n",
       " <tf.Variable 'autoencoder/encoding_6/conv2d_14/kernel:0' shape=(3, 3, 1024, 1024) dtype=float32>,\n",
       " <tf.Variable 'autoencoder/encoding_6/conv2d_14/bias:0' shape=(1024,) dtype=float32>,\n",
       " <tf.Variable 'autoencoder/encoding_6/batch_normalization_6/gamma:0' shape=(1024,) dtype=float32>,\n",
       " <tf.Variable 'autoencoder/encoding_6/batch_normalization_6/beta:0' shape=(1024,) dtype=float32>,\n",
       " <tf.Variable 'autoencoder/encoding_6/batch_normalization_6/moving_mean:0' shape=(1024,) dtype=float32>,\n",
       " <tf.Variable 'autoencoder/encoding_6/batch_normalization_6/moving_variance:0' shape=(1024,) dtype=float32>,\n",
       " <tf.Variable 'autoencoder/decoding_0/conv2d_transpose/kernel:0' shape=(3, 3, 1024, 1024) dtype=float32>,\n",
       " <tf.Variable 'autoencoder/decoding_0/conv2d_transpose/bias:0' shape=(1024,) dtype=float32>,\n",
       " <tf.Variable 'autoencoder/decoding_0/conv2d_15/kernel:0' shape=(3, 3, 1024, 1024) dtype=float32>,\n",
       " <tf.Variable 'autoencoder/decoding_0/conv2d_15/bias:0' shape=(1024,) dtype=float32>,\n",
       " <tf.Variable 'autoencoder/decoding_0/batch_normalization_7/gamma:0' shape=(1024,) dtype=float32>,\n",
       " <tf.Variable 'autoencoder/decoding_0/batch_normalization_7/beta:0' shape=(1024,) dtype=float32>,\n",
       " <tf.Variable 'autoencoder/decoding_0/batch_normalization_7/moving_mean:0' shape=(1024,) dtype=float32>,\n",
       " <tf.Variable 'autoencoder/decoding_0/batch_normalization_7/moving_variance:0' shape=(1024,) dtype=float32>,\n",
       " <tf.Variable 'autoencoder/decoding_1/conv2d_transpose_1/kernel:0' shape=(3, 3, 512, 1024) dtype=float32>,\n",
       " <tf.Variable 'autoencoder/decoding_1/conv2d_transpose_1/bias:0' shape=(512,) dtype=float32>,\n",
       " <tf.Variable 'autoencoder/decoding_1/conv2d_16/kernel:0' shape=(3, 3, 512, 512) dtype=float32>,\n",
       " <tf.Variable 'autoencoder/decoding_1/conv2d_16/bias:0' shape=(512,) dtype=float32>,\n",
       " <tf.Variable 'autoencoder/decoding_1/batch_normalization_8/gamma:0' shape=(512,) dtype=float32>,\n",
       " <tf.Variable 'autoencoder/decoding_1/batch_normalization_8/beta:0' shape=(512,) dtype=float32>,\n",
       " <tf.Variable 'autoencoder/decoding_1/batch_normalization_8/moving_mean:0' shape=(512,) dtype=float32>,\n",
       " <tf.Variable 'autoencoder/decoding_1/batch_normalization_8/moving_variance:0' shape=(512,) dtype=float32>,\n",
       " <tf.Variable 'autoencoder/decoding_2/conv2d_transpose_2/kernel:0' shape=(3, 3, 256, 512) dtype=float32>,\n",
       " <tf.Variable 'autoencoder/decoding_2/conv2d_transpose_2/bias:0' shape=(256,) dtype=float32>,\n",
       " <tf.Variable 'autoencoder/decoding_2/conv2d_17/kernel:0' shape=(3, 3, 256, 256) dtype=float32>,\n",
       " <tf.Variable 'autoencoder/decoding_2/conv2d_17/bias:0' shape=(256,) dtype=float32>,\n",
       " <tf.Variable 'autoencoder/decoding_2/batch_normalization_9/gamma:0' shape=(256,) dtype=float32>,\n",
       " <tf.Variable 'autoencoder/decoding_2/batch_normalization_9/beta:0' shape=(256,) dtype=float32>,\n",
       " <tf.Variable 'autoencoder/decoding_2/batch_normalization_9/moving_mean:0' shape=(256,) dtype=float32>,\n",
       " <tf.Variable 'autoencoder/decoding_2/batch_normalization_9/moving_variance:0' shape=(256,) dtype=float32>,\n",
       " <tf.Variable 'autoencoder/decoding_3/conv2d_transpose_3/kernel:0' shape=(3, 3, 128, 256) dtype=float32>,\n",
       " <tf.Variable 'autoencoder/decoding_3/conv2d_transpose_3/bias:0' shape=(128,) dtype=float32>,\n",
       " <tf.Variable 'autoencoder/decoding_3/conv2d_18/kernel:0' shape=(3, 3, 128, 128) dtype=float32>,\n",
       " <tf.Variable 'autoencoder/decoding_3/conv2d_18/bias:0' shape=(128,) dtype=float32>,\n",
       " <tf.Variable 'autoencoder/decoding_3/batch_normalization_10/gamma:0' shape=(128,) dtype=float32>,\n",
       " <tf.Variable 'autoencoder/decoding_3/batch_normalization_10/beta:0' shape=(128,) dtype=float32>,\n",
       " <tf.Variable 'autoencoder/decoding_3/batch_normalization_10/moving_mean:0' shape=(128,) dtype=float32>,\n",
       " <tf.Variable 'autoencoder/decoding_3/batch_normalization_10/moving_variance:0' shape=(128,) dtype=float32>,\n",
       " <tf.Variable 'autoencoder/decoding_4/conv2d_transpose_4/kernel:0' shape=(3, 3, 64, 128) dtype=float32>,\n",
       " <tf.Variable 'autoencoder/decoding_4/conv2d_transpose_4/bias:0' shape=(64,) dtype=float32>,\n",
       " <tf.Variable 'autoencoder/decoding_4/conv2d_19/kernel:0' shape=(3, 3, 64, 64) dtype=float32>,\n",
       " <tf.Variable 'autoencoder/decoding_4/conv2d_19/bias:0' shape=(64,) dtype=float32>,\n",
       " <tf.Variable 'autoencoder/decoding_4/batch_normalization_11/gamma:0' shape=(64,) dtype=float32>,\n",
       " <tf.Variable 'autoencoder/decoding_4/batch_normalization_11/beta:0' shape=(64,) dtype=float32>,\n",
       " <tf.Variable 'autoencoder/decoding_4/batch_normalization_11/moving_mean:0' shape=(64,) dtype=float32>,\n",
       " <tf.Variable 'autoencoder/decoding_4/batch_normalization_11/moving_variance:0' shape=(64,) dtype=float32>,\n",
       " <tf.Variable 'autoencoder/decoding_5/conv2d_transpose_5/kernel:0' shape=(3, 3, 32, 64) dtype=float32>,\n",
       " <tf.Variable 'autoencoder/decoding_5/conv2d_transpose_5/bias:0' shape=(32,) dtype=float32>,\n",
       " <tf.Variable 'autoencoder/decoding_5/conv2d_20/kernel:0' shape=(3, 3, 32, 32) dtype=float32>,\n",
       " <tf.Variable 'autoencoder/decoding_5/conv2d_20/bias:0' shape=(32,) dtype=float32>,\n",
       " <tf.Variable 'autoencoder/decoding_5/batch_normalization_12/gamma:0' shape=(32,) dtype=float32>,\n",
       " <tf.Variable 'autoencoder/decoding_5/batch_normalization_12/beta:0' shape=(32,) dtype=float32>,\n",
       " <tf.Variable 'autoencoder/decoding_5/batch_normalization_12/moving_mean:0' shape=(32,) dtype=float32>,\n",
       " <tf.Variable 'autoencoder/decoding_5/batch_normalization_12/moving_variance:0' shape=(32,) dtype=float32>,\n",
       " <tf.Variable 'autoencoder/decoding_6/conv2d_transpose_6/kernel:0' shape=(3, 3, 16, 32) dtype=float32>,\n",
       " <tf.Variable 'autoencoder/decoding_6/conv2d_transpose_6/bias:0' shape=(16,) dtype=float32>,\n",
       " <tf.Variable 'autoencoder/decoding_6/conv2d_21/kernel:0' shape=(3, 3, 16, 16) dtype=float32>,\n",
       " <tf.Variable 'autoencoder/decoding_6/conv2d_21/bias:0' shape=(16,) dtype=float32>,\n",
       " <tf.Variable 'autoencoder/decoding_6/batch_normalization_13/gamma:0' shape=(16,) dtype=float32>,\n",
       " <tf.Variable 'autoencoder/decoding_6/batch_normalization_13/beta:0' shape=(16,) dtype=float32>,\n",
       " <tf.Variable 'autoencoder/decoding_6/batch_normalization_13/moving_mean:0' shape=(16,) dtype=float32>,\n",
       " <tf.Variable 'autoencoder/decoding_6/batch_normalization_13/moving_variance:0' shape=(16,) dtype=float32>,\n",
       " <tf.Variable 'autoencoder/reconstructed/kernel:0' shape=(1, 1, 16, 6) dtype=float32>,\n",
       " <tf.Variable 'autoencoder/reconstructed/bias:0' shape=(6,) dtype=float32>,\n",
       " <tf.Variable 'beta1_power:0' shape=() dtype=float32_ref>,\n",
       " <tf.Variable 'beta2_power:0' shape=() dtype=float32_ref>,\n",
       " <tf.Variable 'autoencoder/conv2d/kernel/Adam:0' shape=(3, 3, 6, 16) dtype=float32>,\n",
       " <tf.Variable 'autoencoder/conv2d/kernel/Adam_1:0' shape=(3, 3, 6, 16) dtype=float32>,\n",
       " <tf.Variable 'autoencoder/conv2d/bias/Adam:0' shape=(16,) dtype=float32>,\n",
       " <tf.Variable 'autoencoder/conv2d/bias/Adam_1:0' shape=(16,) dtype=float32>,\n",
       " <tf.Variable 'autoencoder/encoding_0/conv2d_1/kernel/Adam:0' shape=(3, 3, 16, 16) dtype=float32>,\n",
       " <tf.Variable 'autoencoder/encoding_0/conv2d_1/kernel/Adam_1:0' shape=(3, 3, 16, 16) dtype=float32>,\n",
       " <tf.Variable 'autoencoder/encoding_0/conv2d_1/bias/Adam:0' shape=(16,) dtype=float32>,\n",
       " <tf.Variable 'autoencoder/encoding_0/conv2d_1/bias/Adam_1:0' shape=(16,) dtype=float32>,\n",
       " <tf.Variable 'autoencoder/encoding_0/conv2d_2/kernel/Adam:0' shape=(3, 3, 16, 16) dtype=float32>,\n",
       " <tf.Variable 'autoencoder/encoding_0/conv2d_2/kernel/Adam_1:0' shape=(3, 3, 16, 16) dtype=float32>,\n",
       " <tf.Variable 'autoencoder/encoding_0/conv2d_2/bias/Adam:0' shape=(16,) dtype=float32>,\n",
       " <tf.Variable 'autoencoder/encoding_0/conv2d_2/bias/Adam_1:0' shape=(16,) dtype=float32>,\n",
       " <tf.Variable 'autoencoder/encoding_0/batch_normalization/gamma/Adam:0' shape=(16,) dtype=float32>,\n",
       " <tf.Variable 'autoencoder/encoding_0/batch_normalization/gamma/Adam_1:0' shape=(16,) dtype=float32>,\n",
       " <tf.Variable 'autoencoder/encoding_0/batch_normalization/beta/Adam:0' shape=(16,) dtype=float32>,\n",
       " <tf.Variable 'autoencoder/encoding_0/batch_normalization/beta/Adam_1:0' shape=(16,) dtype=float32>,\n",
       " <tf.Variable 'autoencoder/encoding_1/conv2d_3/kernel/Adam:0' shape=(3, 3, 16, 32) dtype=float32>,\n",
       " <tf.Variable 'autoencoder/encoding_1/conv2d_3/kernel/Adam_1:0' shape=(3, 3, 16, 32) dtype=float32>,\n",
       " <tf.Variable 'autoencoder/encoding_1/conv2d_3/bias/Adam:0' shape=(32,) dtype=float32>,\n",
       " <tf.Variable 'autoencoder/encoding_1/conv2d_3/bias/Adam_1:0' shape=(32,) dtype=float32>,\n",
       " <tf.Variable 'autoencoder/encoding_1/conv2d_4/kernel/Adam:0' shape=(3, 3, 32, 32) dtype=float32>,\n",
       " <tf.Variable 'autoencoder/encoding_1/conv2d_4/kernel/Adam_1:0' shape=(3, 3, 32, 32) dtype=float32>,\n",
       " <tf.Variable 'autoencoder/encoding_1/conv2d_4/bias/Adam:0' shape=(32,) dtype=float32>,\n",
       " <tf.Variable 'autoencoder/encoding_1/conv2d_4/bias/Adam_1:0' shape=(32,) dtype=float32>,\n",
       " <tf.Variable 'autoencoder/encoding_1/batch_normalization_1/gamma/Adam:0' shape=(32,) dtype=float32>,\n",
       " <tf.Variable 'autoencoder/encoding_1/batch_normalization_1/gamma/Adam_1:0' shape=(32,) dtype=float32>,\n",
       " <tf.Variable 'autoencoder/encoding_1/batch_normalization_1/beta/Adam:0' shape=(32,) dtype=float32>,\n",
       " <tf.Variable 'autoencoder/encoding_1/batch_normalization_1/beta/Adam_1:0' shape=(32,) dtype=float32>,\n",
       " <tf.Variable 'autoencoder/encoding_2/conv2d_5/kernel/Adam:0' shape=(3, 3, 32, 64) dtype=float32>,\n",
       " <tf.Variable 'autoencoder/encoding_2/conv2d_5/kernel/Adam_1:0' shape=(3, 3, 32, 64) dtype=float32>,\n",
       " <tf.Variable 'autoencoder/encoding_2/conv2d_5/bias/Adam:0' shape=(64,) dtype=float32>,\n",
       " <tf.Variable 'autoencoder/encoding_2/conv2d_5/bias/Adam_1:0' shape=(64,) dtype=float32>,\n",
       " <tf.Variable 'autoencoder/encoding_2/conv2d_6/kernel/Adam:0' shape=(3, 3, 64, 64) dtype=float32>,\n",
       " <tf.Variable 'autoencoder/encoding_2/conv2d_6/kernel/Adam_1:0' shape=(3, 3, 64, 64) dtype=float32>,\n",
       " <tf.Variable 'autoencoder/encoding_2/conv2d_6/bias/Adam:0' shape=(64,) dtype=float32>,\n",
       " <tf.Variable 'autoencoder/encoding_2/conv2d_6/bias/Adam_1:0' shape=(64,) dtype=float32>,\n",
       " <tf.Variable 'autoencoder/encoding_2/batch_normalization_2/gamma/Adam:0' shape=(64,) dtype=float32>,\n",
       " <tf.Variable 'autoencoder/encoding_2/batch_normalization_2/gamma/Adam_1:0' shape=(64,) dtype=float32>,\n",
       " <tf.Variable 'autoencoder/encoding_2/batch_normalization_2/beta/Adam:0' shape=(64,) dtype=float32>,\n",
       " <tf.Variable 'autoencoder/encoding_2/batch_normalization_2/beta/Adam_1:0' shape=(64,) dtype=float32>,\n",
       " <tf.Variable 'autoencoder/encoding_3/conv2d_7/kernel/Adam:0' shape=(3, 3, 64, 128) dtype=float32>,\n",
       " <tf.Variable 'autoencoder/encoding_3/conv2d_7/kernel/Adam_1:0' shape=(3, 3, 64, 128) dtype=float32>,\n",
       " <tf.Variable 'autoencoder/encoding_3/conv2d_7/bias/Adam:0' shape=(128,) dtype=float32>,\n",
       " <tf.Variable 'autoencoder/encoding_3/conv2d_7/bias/Adam_1:0' shape=(128,) dtype=float32>,\n",
       " <tf.Variable 'autoencoder/encoding_3/conv2d_8/kernel/Adam:0' shape=(3, 3, 128, 128) dtype=float32>,\n",
       " <tf.Variable 'autoencoder/encoding_3/conv2d_8/kernel/Adam_1:0' shape=(3, 3, 128, 128) dtype=float32>,\n",
       " <tf.Variable 'autoencoder/encoding_3/conv2d_8/bias/Adam:0' shape=(128,) dtype=float32>,\n",
       " <tf.Variable 'autoencoder/encoding_3/conv2d_8/bias/Adam_1:0' shape=(128,) dtype=float32>,\n",
       " <tf.Variable 'autoencoder/encoding_3/batch_normalization_3/gamma/Adam:0' shape=(128,) dtype=float32>,\n",
       " <tf.Variable 'autoencoder/encoding_3/batch_normalization_3/gamma/Adam_1:0' shape=(128,) dtype=float32>,\n",
       " <tf.Variable 'autoencoder/encoding_3/batch_normalization_3/beta/Adam:0' shape=(128,) dtype=float32>,\n",
       " <tf.Variable 'autoencoder/encoding_3/batch_normalization_3/beta/Adam_1:0' shape=(128,) dtype=float32>,\n",
       " <tf.Variable 'autoencoder/encoding_4/conv2d_9/kernel/Adam:0' shape=(3, 3, 128, 256) dtype=float32>,\n",
       " <tf.Variable 'autoencoder/encoding_4/conv2d_9/kernel/Adam_1:0' shape=(3, 3, 128, 256) dtype=float32>,\n",
       " <tf.Variable 'autoencoder/encoding_4/conv2d_9/bias/Adam:0' shape=(256,) dtype=float32>,\n",
       " <tf.Variable 'autoencoder/encoding_4/conv2d_9/bias/Adam_1:0' shape=(256,) dtype=float32>,\n",
       " <tf.Variable 'autoencoder/encoding_4/conv2d_10/kernel/Adam:0' shape=(3, 3, 256, 256) dtype=float32>,\n",
       " <tf.Variable 'autoencoder/encoding_4/conv2d_10/kernel/Adam_1:0' shape=(3, 3, 256, 256) dtype=float32>,\n",
       " <tf.Variable 'autoencoder/encoding_4/conv2d_10/bias/Adam:0' shape=(256,) dtype=float32>,\n",
       " <tf.Variable 'autoencoder/encoding_4/conv2d_10/bias/Adam_1:0' shape=(256,) dtype=float32>,\n",
       " <tf.Variable 'autoencoder/encoding_4/batch_normalization_4/gamma/Adam:0' shape=(256,) dtype=float32>,\n",
       " <tf.Variable 'autoencoder/encoding_4/batch_normalization_4/gamma/Adam_1:0' shape=(256,) dtype=float32>,\n",
       " <tf.Variable 'autoencoder/encoding_4/batch_normalization_4/beta/Adam:0' shape=(256,) dtype=float32>,\n",
       " <tf.Variable 'autoencoder/encoding_4/batch_normalization_4/beta/Adam_1:0' shape=(256,) dtype=float32>,\n",
       " <tf.Variable 'autoencoder/encoding_5/conv2d_11/kernel/Adam:0' shape=(3, 3, 256, 512) dtype=float32>,\n",
       " <tf.Variable 'autoencoder/encoding_5/conv2d_11/kernel/Adam_1:0' shape=(3, 3, 256, 512) dtype=float32>,\n",
       " <tf.Variable 'autoencoder/encoding_5/conv2d_11/bias/Adam:0' shape=(512,) dtype=float32>,\n",
       " <tf.Variable 'autoencoder/encoding_5/conv2d_11/bias/Adam_1:0' shape=(512,) dtype=float32>,\n",
       " <tf.Variable 'autoencoder/encoding_5/conv2d_12/kernel/Adam:0' shape=(3, 3, 512, 512) dtype=float32>,\n",
       " <tf.Variable 'autoencoder/encoding_5/conv2d_12/kernel/Adam_1:0' shape=(3, 3, 512, 512) dtype=float32>,\n",
       " <tf.Variable 'autoencoder/encoding_5/conv2d_12/bias/Adam:0' shape=(512,) dtype=float32>,\n",
       " <tf.Variable 'autoencoder/encoding_5/conv2d_12/bias/Adam_1:0' shape=(512,) dtype=float32>,\n",
       " <tf.Variable 'autoencoder/encoding_5/batch_normalization_5/gamma/Adam:0' shape=(512,) dtype=float32>,\n",
       " <tf.Variable 'autoencoder/encoding_5/batch_normalization_5/gamma/Adam_1:0' shape=(512,) dtype=float32>,\n",
       " <tf.Variable 'autoencoder/encoding_5/batch_normalization_5/beta/Adam:0' shape=(512,) dtype=float32>,\n",
       " <tf.Variable 'autoencoder/encoding_5/batch_normalization_5/beta/Adam_1:0' shape=(512,) dtype=float32>,\n",
       " <tf.Variable 'autoencoder/encoding_6/conv2d_13/kernel/Adam:0' shape=(3, 3, 512, 1024) dtype=float32>,\n",
       " <tf.Variable 'autoencoder/encoding_6/conv2d_13/kernel/Adam_1:0' shape=(3, 3, 512, 1024) dtype=float32>,\n",
       " <tf.Variable 'autoencoder/encoding_6/conv2d_13/bias/Adam:0' shape=(1024,) dtype=float32>,\n",
       " <tf.Variable 'autoencoder/encoding_6/conv2d_13/bias/Adam_1:0' shape=(1024,) dtype=float32>,\n",
       " <tf.Variable 'autoencoder/encoding_6/conv2d_14/kernel/Adam:0' shape=(3, 3, 1024, 1024) dtype=float32>,\n",
       " <tf.Variable 'autoencoder/encoding_6/conv2d_14/kernel/Adam_1:0' shape=(3, 3, 1024, 1024) dtype=float32>,\n",
       " <tf.Variable 'autoencoder/encoding_6/conv2d_14/bias/Adam:0' shape=(1024,) dtype=float32>,\n",
       " <tf.Variable 'autoencoder/encoding_6/conv2d_14/bias/Adam_1:0' shape=(1024,) dtype=float32>,\n",
       " <tf.Variable 'autoencoder/encoding_6/batch_normalization_6/gamma/Adam:0' shape=(1024,) dtype=float32>,\n",
       " <tf.Variable 'autoencoder/encoding_6/batch_normalization_6/gamma/Adam_1:0' shape=(1024,) dtype=float32>,\n",
       " <tf.Variable 'autoencoder/encoding_6/batch_normalization_6/beta/Adam:0' shape=(1024,) dtype=float32>,\n",
       " <tf.Variable 'autoencoder/encoding_6/batch_normalization_6/beta/Adam_1:0' shape=(1024,) dtype=float32>,\n",
       " <tf.Variable 'autoencoder/decoding_0/conv2d_transpose/kernel/Adam:0' shape=(3, 3, 1024, 1024) dtype=float32>,\n",
       " <tf.Variable 'autoencoder/decoding_0/conv2d_transpose/kernel/Adam_1:0' shape=(3, 3, 1024, 1024) dtype=float32>,\n",
       " <tf.Variable 'autoencoder/decoding_0/conv2d_transpose/bias/Adam:0' shape=(1024,) dtype=float32>,\n",
       " <tf.Variable 'autoencoder/decoding_0/conv2d_transpose/bias/Adam_1:0' shape=(1024,) dtype=float32>,\n",
       " <tf.Variable 'autoencoder/decoding_0/conv2d_15/kernel/Adam:0' shape=(3, 3, 1024, 1024) dtype=float32>,\n",
       " <tf.Variable 'autoencoder/decoding_0/conv2d_15/kernel/Adam_1:0' shape=(3, 3, 1024, 1024) dtype=float32>,\n",
       " <tf.Variable 'autoencoder/decoding_0/conv2d_15/bias/Adam:0' shape=(1024,) dtype=float32>,\n",
       " <tf.Variable 'autoencoder/decoding_0/conv2d_15/bias/Adam_1:0' shape=(1024,) dtype=float32>,\n",
       " <tf.Variable 'autoencoder/decoding_0/batch_normalization_7/gamma/Adam:0' shape=(1024,) dtype=float32>,\n",
       " <tf.Variable 'autoencoder/decoding_0/batch_normalization_7/gamma/Adam_1:0' shape=(1024,) dtype=float32>,\n",
       " <tf.Variable 'autoencoder/decoding_0/batch_normalization_7/beta/Adam:0' shape=(1024,) dtype=float32>,\n",
       " <tf.Variable 'autoencoder/decoding_0/batch_normalization_7/beta/Adam_1:0' shape=(1024,) dtype=float32>,\n",
       " <tf.Variable 'autoencoder/decoding_1/conv2d_transpose_1/kernel/Adam:0' shape=(3, 3, 512, 1024) dtype=float32>,\n",
       " <tf.Variable 'autoencoder/decoding_1/conv2d_transpose_1/kernel/Adam_1:0' shape=(3, 3, 512, 1024) dtype=float32>,\n",
       " <tf.Variable 'autoencoder/decoding_1/conv2d_transpose_1/bias/Adam:0' shape=(512,) dtype=float32>,\n",
       " <tf.Variable 'autoencoder/decoding_1/conv2d_transpose_1/bias/Adam_1:0' shape=(512,) dtype=float32>,\n",
       " <tf.Variable 'autoencoder/decoding_1/conv2d_16/kernel/Adam:0' shape=(3, 3, 512, 512) dtype=float32>,\n",
       " <tf.Variable 'autoencoder/decoding_1/conv2d_16/kernel/Adam_1:0' shape=(3, 3, 512, 512) dtype=float32>,\n",
       " <tf.Variable 'autoencoder/decoding_1/conv2d_16/bias/Adam:0' shape=(512,) dtype=float32>,\n",
       " <tf.Variable 'autoencoder/decoding_1/conv2d_16/bias/Adam_1:0' shape=(512,) dtype=float32>,\n",
       " <tf.Variable 'autoencoder/decoding_1/batch_normalization_8/gamma/Adam:0' shape=(512,) dtype=float32>,\n",
       " <tf.Variable 'autoencoder/decoding_1/batch_normalization_8/gamma/Adam_1:0' shape=(512,) dtype=float32>,\n",
       " <tf.Variable 'autoencoder/decoding_1/batch_normalization_8/beta/Adam:0' shape=(512,) dtype=float32>,\n",
       " <tf.Variable 'autoencoder/decoding_1/batch_normalization_8/beta/Adam_1:0' shape=(512,) dtype=float32>,\n",
       " <tf.Variable 'autoencoder/decoding_2/conv2d_transpose_2/kernel/Adam:0' shape=(3, 3, 256, 512) dtype=float32>,\n",
       " <tf.Variable 'autoencoder/decoding_2/conv2d_transpose_2/kernel/Adam_1:0' shape=(3, 3, 256, 512) dtype=float32>,\n",
       " <tf.Variable 'autoencoder/decoding_2/conv2d_transpose_2/bias/Adam:0' shape=(256,) dtype=float32>,\n",
       " <tf.Variable 'autoencoder/decoding_2/conv2d_transpose_2/bias/Adam_1:0' shape=(256,) dtype=float32>,\n",
       " <tf.Variable 'autoencoder/decoding_2/conv2d_17/kernel/Adam:0' shape=(3, 3, 256, 256) dtype=float32>,\n",
       " <tf.Variable 'autoencoder/decoding_2/conv2d_17/kernel/Adam_1:0' shape=(3, 3, 256, 256) dtype=float32>,\n",
       " <tf.Variable 'autoencoder/decoding_2/conv2d_17/bias/Adam:0' shape=(256,) dtype=float32>,\n",
       " <tf.Variable 'autoencoder/decoding_2/conv2d_17/bias/Adam_1:0' shape=(256,) dtype=float32>,\n",
       " <tf.Variable 'autoencoder/decoding_2/batch_normalization_9/gamma/Adam:0' shape=(256,) dtype=float32>,\n",
       " <tf.Variable 'autoencoder/decoding_2/batch_normalization_9/gamma/Adam_1:0' shape=(256,) dtype=float32>,\n",
       " <tf.Variable 'autoencoder/decoding_2/batch_normalization_9/beta/Adam:0' shape=(256,) dtype=float32>,\n",
       " <tf.Variable 'autoencoder/decoding_2/batch_normalization_9/beta/Adam_1:0' shape=(256,) dtype=float32>,\n",
       " <tf.Variable 'autoencoder/decoding_3/conv2d_transpose_3/kernel/Adam:0' shape=(3, 3, 128, 256) dtype=float32>,\n",
       " <tf.Variable 'autoencoder/decoding_3/conv2d_transpose_3/kernel/Adam_1:0' shape=(3, 3, 128, 256) dtype=float32>,\n",
       " <tf.Variable 'autoencoder/decoding_3/conv2d_transpose_3/bias/Adam:0' shape=(128,) dtype=float32>,\n",
       " <tf.Variable 'autoencoder/decoding_3/conv2d_transpose_3/bias/Adam_1:0' shape=(128,) dtype=float32>,\n",
       " <tf.Variable 'autoencoder/decoding_3/conv2d_18/kernel/Adam:0' shape=(3, 3, 128, 128) dtype=float32>,\n",
       " <tf.Variable 'autoencoder/decoding_3/conv2d_18/kernel/Adam_1:0' shape=(3, 3, 128, 128) dtype=float32>,\n",
       " <tf.Variable 'autoencoder/decoding_3/conv2d_18/bias/Adam:0' shape=(128,) dtype=float32>,\n",
       " <tf.Variable 'autoencoder/decoding_3/conv2d_18/bias/Adam_1:0' shape=(128,) dtype=float32>,\n",
       " <tf.Variable 'autoencoder/decoding_3/batch_normalization_10/gamma/Adam:0' shape=(128,) dtype=float32>,\n",
       " <tf.Variable 'autoencoder/decoding_3/batch_normalization_10/gamma/Adam_1:0' shape=(128,) dtype=float32>,\n",
       " <tf.Variable 'autoencoder/decoding_3/batch_normalization_10/beta/Adam:0' shape=(128,) dtype=float32>,\n",
       " <tf.Variable 'autoencoder/decoding_3/batch_normalization_10/beta/Adam_1:0' shape=(128,) dtype=float32>,\n",
       " <tf.Variable 'autoencoder/decoding_4/conv2d_transpose_4/kernel/Adam:0' shape=(3, 3, 64, 128) dtype=float32>,\n",
       " <tf.Variable 'autoencoder/decoding_4/conv2d_transpose_4/kernel/Adam_1:0' shape=(3, 3, 64, 128) dtype=float32>,\n",
       " <tf.Variable 'autoencoder/decoding_4/conv2d_transpose_4/bias/Adam:0' shape=(64,) dtype=float32>,\n",
       " <tf.Variable 'autoencoder/decoding_4/conv2d_transpose_4/bias/Adam_1:0' shape=(64,) dtype=float32>,\n",
       " <tf.Variable 'autoencoder/decoding_4/conv2d_19/kernel/Adam:0' shape=(3, 3, 64, 64) dtype=float32>,\n",
       " <tf.Variable 'autoencoder/decoding_4/conv2d_19/kernel/Adam_1:0' shape=(3, 3, 64, 64) dtype=float32>,\n",
       " <tf.Variable 'autoencoder/decoding_4/conv2d_19/bias/Adam:0' shape=(64,) dtype=float32>,\n",
       " <tf.Variable 'autoencoder/decoding_4/conv2d_19/bias/Adam_1:0' shape=(64,) dtype=float32>,\n",
       " <tf.Variable 'autoencoder/decoding_4/batch_normalization_11/gamma/Adam:0' shape=(64,) dtype=float32>,\n",
       " <tf.Variable 'autoencoder/decoding_4/batch_normalization_11/gamma/Adam_1:0' shape=(64,) dtype=float32>,\n",
       " <tf.Variable 'autoencoder/decoding_4/batch_normalization_11/beta/Adam:0' shape=(64,) dtype=float32>,\n",
       " <tf.Variable 'autoencoder/decoding_4/batch_normalization_11/beta/Adam_1:0' shape=(64,) dtype=float32>,\n",
       " <tf.Variable 'autoencoder/decoding_5/conv2d_transpose_5/kernel/Adam:0' shape=(3, 3, 32, 64) dtype=float32>,\n",
       " <tf.Variable 'autoencoder/decoding_5/conv2d_transpose_5/kernel/Adam_1:0' shape=(3, 3, 32, 64) dtype=float32>,\n",
       " <tf.Variable 'autoencoder/decoding_5/conv2d_transpose_5/bias/Adam:0' shape=(32,) dtype=float32>,\n",
       " <tf.Variable 'autoencoder/decoding_5/conv2d_transpose_5/bias/Adam_1:0' shape=(32,) dtype=float32>,\n",
       " <tf.Variable 'autoencoder/decoding_5/conv2d_20/kernel/Adam:0' shape=(3, 3, 32, 32) dtype=float32>,\n",
       " <tf.Variable 'autoencoder/decoding_5/conv2d_20/kernel/Adam_1:0' shape=(3, 3, 32, 32) dtype=float32>,\n",
       " <tf.Variable 'autoencoder/decoding_5/conv2d_20/bias/Adam:0' shape=(32,) dtype=float32>,\n",
       " <tf.Variable 'autoencoder/decoding_5/conv2d_20/bias/Adam_1:0' shape=(32,) dtype=float32>,\n",
       " <tf.Variable 'autoencoder/decoding_5/batch_normalization_12/gamma/Adam:0' shape=(32,) dtype=float32>,\n",
       " <tf.Variable 'autoencoder/decoding_5/batch_normalization_12/gamma/Adam_1:0' shape=(32,) dtype=float32>,\n",
       " <tf.Variable 'autoencoder/decoding_5/batch_normalization_12/beta/Adam:0' shape=(32,) dtype=float32>,\n",
       " <tf.Variable 'autoencoder/decoding_5/batch_normalization_12/beta/Adam_1:0' shape=(32,) dtype=float32>,\n",
       " <tf.Variable 'autoencoder/decoding_6/conv2d_transpose_6/kernel/Adam:0' shape=(3, 3, 16, 32) dtype=float32>,\n",
       " <tf.Variable 'autoencoder/decoding_6/conv2d_transpose_6/kernel/Adam_1:0' shape=(3, 3, 16, 32) dtype=float32>,\n",
       " <tf.Variable 'autoencoder/decoding_6/conv2d_transpose_6/bias/Adam:0' shape=(16,) dtype=float32>,\n",
       " <tf.Variable 'autoencoder/decoding_6/conv2d_transpose_6/bias/Adam_1:0' shape=(16,) dtype=float32>,\n",
       " <tf.Variable 'autoencoder/decoding_6/conv2d_21/kernel/Adam:0' shape=(3, 3, 16, 16) dtype=float32>,\n",
       " <tf.Variable 'autoencoder/decoding_6/conv2d_21/kernel/Adam_1:0' shape=(3, 3, 16, 16) dtype=float32>,\n",
       " <tf.Variable 'autoencoder/decoding_6/conv2d_21/bias/Adam:0' shape=(16,) dtype=float32>,\n",
       " <tf.Variable 'autoencoder/decoding_6/conv2d_21/bias/Adam_1:0' shape=(16,) dtype=float32>,\n",
       " <tf.Variable 'autoencoder/decoding_6/batch_normalization_13/gamma/Adam:0' shape=(16,) dtype=float32>,\n",
       " <tf.Variable 'autoencoder/decoding_6/batch_normalization_13/gamma/Adam_1:0' shape=(16,) dtype=float32>,\n",
       " <tf.Variable 'autoencoder/decoding_6/batch_normalization_13/beta/Adam:0' shape=(16,) dtype=float32>,\n",
       " <tf.Variable 'autoencoder/decoding_6/batch_normalization_13/beta/Adam_1:0' shape=(16,) dtype=float32>,\n",
       " <tf.Variable 'autoencoder/reconstructed/kernel/Adam:0' shape=(1, 1, 16, 6) dtype=float32>,\n",
       " <tf.Variable 'autoencoder/reconstructed/kernel/Adam_1:0' shape=(1, 1, 16, 6) dtype=float32>,\n",
       " <tf.Variable 'autoencoder/reconstructed/bias/Adam:0' shape=(6,) dtype=float32>,\n",
       " <tf.Variable 'autoencoder/reconstructed/bias/Adam_1:0' shape=(6,) dtype=float32>]"
      ]
     },
     "execution_count": 45,
     "metadata": {},
     "output_type": "execute_result"
    }
   ],
   "source": [
    "vars_global"
   ]
  },
  {
   "cell_type": "code",
   "execution_count": 47,
   "metadata": {},
   "outputs": [
    {
     "ename": "FailedPreconditionError",
     "evalue": "Attempting to use uninitialized value global_step\n\t [[{{node _retval_global_step_0_0}} = _Retval[T=DT_INT64, index=0, _device=\"/job:localhost/replica:0/task:0/device:CPU:0\"](global_step)]]",
     "output_type": "error",
     "traceback": [
      "\u001b[0;31m---------------------------------------------------------------------------\u001b[0m",
      "\u001b[0;31mFailedPreconditionError\u001b[0m                   Traceback (most recent call last)",
      "\u001b[0;32m~/.conda/envs/tf-cpu/lib/python3.6/site-packages/tensorflow/python/client/session.py\u001b[0m in \u001b[0;36m_do_call\u001b[0;34m(self, fn, *args)\u001b[0m\n\u001b[1;32m   1333\u001b[0m     \u001b[0;32mtry\u001b[0m\u001b[0;34m:\u001b[0m\u001b[0;34m\u001b[0m\u001b[0m\n\u001b[0;32m-> 1334\u001b[0;31m       \u001b[0;32mreturn\u001b[0m \u001b[0mfn\u001b[0m\u001b[0;34m(\u001b[0m\u001b[0;34m*\u001b[0m\u001b[0margs\u001b[0m\u001b[0;34m)\u001b[0m\u001b[0;34m\u001b[0m\u001b[0m\n\u001b[0m\u001b[1;32m   1335\u001b[0m     \u001b[0;32mexcept\u001b[0m \u001b[0merrors\u001b[0m\u001b[0;34m.\u001b[0m\u001b[0mOpError\u001b[0m \u001b[0;32mas\u001b[0m \u001b[0me\u001b[0m\u001b[0;34m:\u001b[0m\u001b[0;34m\u001b[0m\u001b[0m\n",
      "\u001b[0;32m~/.conda/envs/tf-cpu/lib/python3.6/site-packages/tensorflow/python/client/session.py\u001b[0m in \u001b[0;36m_run_fn\u001b[0;34m(feed_dict, fetch_list, target_list, options, run_metadata)\u001b[0m\n\u001b[1;32m   1318\u001b[0m       return self._call_tf_sessionrun(\n\u001b[0;32m-> 1319\u001b[0;31m           options, feed_dict, fetch_list, target_list, run_metadata)\n\u001b[0m\u001b[1;32m   1320\u001b[0m \u001b[0;34m\u001b[0m\u001b[0m\n",
      "\u001b[0;32m~/.conda/envs/tf-cpu/lib/python3.6/site-packages/tensorflow/python/client/session.py\u001b[0m in \u001b[0;36m_call_tf_sessionrun\u001b[0;34m(self, options, feed_dict, fetch_list, target_list, run_metadata)\u001b[0m\n\u001b[1;32m   1406\u001b[0m         \u001b[0mself\u001b[0m\u001b[0;34m.\u001b[0m\u001b[0m_session\u001b[0m\u001b[0;34m,\u001b[0m \u001b[0moptions\u001b[0m\u001b[0;34m,\u001b[0m \u001b[0mfeed_dict\u001b[0m\u001b[0;34m,\u001b[0m \u001b[0mfetch_list\u001b[0m\u001b[0;34m,\u001b[0m \u001b[0mtarget_list\u001b[0m\u001b[0;34m,\u001b[0m\u001b[0;34m\u001b[0m\u001b[0m\n\u001b[0;32m-> 1407\u001b[0;31m         run_metadata)\n\u001b[0m\u001b[1;32m   1408\u001b[0m \u001b[0;34m\u001b[0m\u001b[0m\n",
      "\u001b[0;31mFailedPreconditionError\u001b[0m: Attempting to use uninitialized value global_step\n\t [[{{node _retval_global_step_0_0}} = _Retval[T=DT_INT64, index=0, _device=\"/job:localhost/replica:0/task:0/device:CPU:0\"](global_step)]]",
      "\nDuring handling of the above exception, another exception occurred:\n",
      "\u001b[0;31mFailedPreconditionError\u001b[0m                   Traceback (most recent call last)",
      "\u001b[0;32m<ipython-input-47-f43992efdc2f>\u001b[0m in \u001b[0;36m<module>\u001b[0;34m\u001b[0m\n\u001b[1;32m      2\u001b[0m     \u001b[0msess\u001b[0m\u001b[0;34m.\u001b[0m\u001b[0mas_default\u001b[0m\u001b[0;34m(\u001b[0m\u001b[0;34m)\u001b[0m\u001b[0;34m\u001b[0m\u001b[0m\n\u001b[1;32m      3\u001b[0m     \u001b[0;32mfor\u001b[0m \u001b[0mvar\u001b[0m \u001b[0;32min\u001b[0m \u001b[0mvars_global\u001b[0m\u001b[0;34m:\u001b[0m\u001b[0;34m\u001b[0m\u001b[0m\n\u001b[0;32m----> 4\u001b[0;31m         \u001b[0ma\u001b[0m \u001b[0;34m=\u001b[0m \u001b[0mvar\u001b[0m\u001b[0;34m.\u001b[0m\u001b[0meval\u001b[0m\u001b[0;34m(\u001b[0m\u001b[0;34m)\u001b[0m\u001b[0;34m\u001b[0m\u001b[0m\n\u001b[0m\u001b[1;32m      5\u001b[0m         \u001b[0mprint\u001b[0m\u001b[0;34m(\u001b[0m\u001b[0ma\u001b[0m\u001b[0;34m)\u001b[0m\u001b[0;34m;\u001b[0m\u001b[0mstop\u001b[0m\u001b[0;34m\u001b[0m\u001b[0m\n",
      "\u001b[0;32m~/.conda/envs/tf-cpu/lib/python3.6/site-packages/tensorflow/python/ops/variables.py\u001b[0m in \u001b[0;36meval\u001b[0;34m(self, session)\u001b[0m\n\u001b[1;32m   1649\u001b[0m       \u001b[0mA\u001b[0m \u001b[0mnumpy\u001b[0m\u001b[0;31m \u001b[0m\u001b[0;31m`\u001b[0m\u001b[0mndarray\u001b[0m\u001b[0;31m`\u001b[0m \u001b[0;32mwith\u001b[0m \u001b[0ma\u001b[0m \u001b[0mcopy\u001b[0m \u001b[0mof\u001b[0m \u001b[0mthe\u001b[0m \u001b[0mvalue\u001b[0m \u001b[0mof\u001b[0m \u001b[0mthis\u001b[0m \u001b[0mvariable\u001b[0m\u001b[0;34m.\u001b[0m\u001b[0;34m\u001b[0m\u001b[0m\n\u001b[1;32m   1650\u001b[0m     \"\"\"\n\u001b[0;32m-> 1651\u001b[0;31m     \u001b[0;32mreturn\u001b[0m \u001b[0mself\u001b[0m\u001b[0;34m.\u001b[0m\u001b[0m_variable\u001b[0m\u001b[0;34m.\u001b[0m\u001b[0meval\u001b[0m\u001b[0;34m(\u001b[0m\u001b[0msession\u001b[0m\u001b[0;34m=\u001b[0m\u001b[0msession\u001b[0m\u001b[0;34m)\u001b[0m\u001b[0;34m\u001b[0m\u001b[0m\n\u001b[0m\u001b[1;32m   1652\u001b[0m \u001b[0;34m\u001b[0m\u001b[0m\n\u001b[1;32m   1653\u001b[0m   \u001b[0;32mdef\u001b[0m \u001b[0minitialized_value\u001b[0m\u001b[0;34m(\u001b[0m\u001b[0mself\u001b[0m\u001b[0;34m)\u001b[0m\u001b[0;34m:\u001b[0m\u001b[0;34m\u001b[0m\u001b[0m\n",
      "\u001b[0;32m~/.conda/envs/tf-cpu/lib/python3.6/site-packages/tensorflow/python/framework/ops.py\u001b[0m in \u001b[0;36meval\u001b[0;34m(self, feed_dict, session)\u001b[0m\n\u001b[1;32m    711\u001b[0m \u001b[0;34m\u001b[0m\u001b[0m\n\u001b[1;32m    712\u001b[0m     \"\"\"\n\u001b[0;32m--> 713\u001b[0;31m     \u001b[0;32mreturn\u001b[0m \u001b[0m_eval_using_default_session\u001b[0m\u001b[0;34m(\u001b[0m\u001b[0mself\u001b[0m\u001b[0;34m,\u001b[0m \u001b[0mfeed_dict\u001b[0m\u001b[0;34m,\u001b[0m \u001b[0mself\u001b[0m\u001b[0;34m.\u001b[0m\u001b[0mgraph\u001b[0m\u001b[0;34m,\u001b[0m \u001b[0msession\u001b[0m\u001b[0;34m)\u001b[0m\u001b[0;34m\u001b[0m\u001b[0m\n\u001b[0m\u001b[1;32m    714\u001b[0m \u001b[0;34m\u001b[0m\u001b[0m\n\u001b[1;32m    715\u001b[0m \u001b[0;34m\u001b[0m\u001b[0m\n",
      "\u001b[0;32m~/.conda/envs/tf-cpu/lib/python3.6/site-packages/tensorflow/python/framework/ops.py\u001b[0m in \u001b[0;36m_eval_using_default_session\u001b[0;34m(tensors, feed_dict, graph, session)\u001b[0m\n\u001b[1;32m   5155\u001b[0m                        \u001b[0;34m\"the tensor's graph is different from the session's \"\u001b[0m\u001b[0;34m\u001b[0m\u001b[0m\n\u001b[1;32m   5156\u001b[0m                        \"graph.\")\n\u001b[0;32m-> 5157\u001b[0;31m   \u001b[0;32mreturn\u001b[0m \u001b[0msession\u001b[0m\u001b[0;34m.\u001b[0m\u001b[0mrun\u001b[0m\u001b[0;34m(\u001b[0m\u001b[0mtensors\u001b[0m\u001b[0;34m,\u001b[0m \u001b[0mfeed_dict\u001b[0m\u001b[0;34m)\u001b[0m\u001b[0;34m\u001b[0m\u001b[0m\n\u001b[0m\u001b[1;32m   5158\u001b[0m \u001b[0;34m\u001b[0m\u001b[0m\n\u001b[1;32m   5159\u001b[0m \u001b[0;34m\u001b[0m\u001b[0m\n",
      "\u001b[0;32m~/.conda/envs/tf-cpu/lib/python3.6/site-packages/tensorflow/python/client/session.py\u001b[0m in \u001b[0;36mrun\u001b[0;34m(self, fetches, feed_dict, options, run_metadata)\u001b[0m\n\u001b[1;32m    927\u001b[0m     \u001b[0;32mtry\u001b[0m\u001b[0;34m:\u001b[0m\u001b[0;34m\u001b[0m\u001b[0m\n\u001b[1;32m    928\u001b[0m       result = self._run(None, fetches, feed_dict, options_ptr,\n\u001b[0;32m--> 929\u001b[0;31m                          run_metadata_ptr)\n\u001b[0m\u001b[1;32m    930\u001b[0m       \u001b[0;32mif\u001b[0m \u001b[0mrun_metadata\u001b[0m\u001b[0;34m:\u001b[0m\u001b[0;34m\u001b[0m\u001b[0m\n\u001b[1;32m    931\u001b[0m         \u001b[0mproto_data\u001b[0m \u001b[0;34m=\u001b[0m \u001b[0mtf_session\u001b[0m\u001b[0;34m.\u001b[0m\u001b[0mTF_GetBuffer\u001b[0m\u001b[0;34m(\u001b[0m\u001b[0mrun_metadata_ptr\u001b[0m\u001b[0;34m)\u001b[0m\u001b[0;34m\u001b[0m\u001b[0m\n",
      "\u001b[0;32m~/.conda/envs/tf-cpu/lib/python3.6/site-packages/tensorflow/python/client/session.py\u001b[0m in \u001b[0;36m_run\u001b[0;34m(self, handle, fetches, feed_dict, options, run_metadata)\u001b[0m\n\u001b[1;32m   1150\u001b[0m     \u001b[0;32mif\u001b[0m \u001b[0mfinal_fetches\u001b[0m \u001b[0;32mor\u001b[0m \u001b[0mfinal_targets\u001b[0m \u001b[0;32mor\u001b[0m \u001b[0;34m(\u001b[0m\u001b[0mhandle\u001b[0m \u001b[0;32mand\u001b[0m \u001b[0mfeed_dict_tensor\u001b[0m\u001b[0;34m)\u001b[0m\u001b[0;34m:\u001b[0m\u001b[0;34m\u001b[0m\u001b[0m\n\u001b[1;32m   1151\u001b[0m       results = self._do_run(handle, final_targets, final_fetches,\n\u001b[0;32m-> 1152\u001b[0;31m                              feed_dict_tensor, options, run_metadata)\n\u001b[0m\u001b[1;32m   1153\u001b[0m     \u001b[0;32melse\u001b[0m\u001b[0;34m:\u001b[0m\u001b[0;34m\u001b[0m\u001b[0m\n\u001b[1;32m   1154\u001b[0m       \u001b[0mresults\u001b[0m \u001b[0;34m=\u001b[0m \u001b[0;34m[\u001b[0m\u001b[0;34m]\u001b[0m\u001b[0;34m\u001b[0m\u001b[0m\n",
      "\u001b[0;32m~/.conda/envs/tf-cpu/lib/python3.6/site-packages/tensorflow/python/client/session.py\u001b[0m in \u001b[0;36m_do_run\u001b[0;34m(self, handle, target_list, fetch_list, feed_dict, options, run_metadata)\u001b[0m\n\u001b[1;32m   1326\u001b[0m     \u001b[0;32mif\u001b[0m \u001b[0mhandle\u001b[0m \u001b[0;32mis\u001b[0m \u001b[0;32mNone\u001b[0m\u001b[0;34m:\u001b[0m\u001b[0;34m\u001b[0m\u001b[0m\n\u001b[1;32m   1327\u001b[0m       return self._do_call(_run_fn, feeds, fetches, targets, options,\n\u001b[0;32m-> 1328\u001b[0;31m                            run_metadata)\n\u001b[0m\u001b[1;32m   1329\u001b[0m     \u001b[0;32melse\u001b[0m\u001b[0;34m:\u001b[0m\u001b[0;34m\u001b[0m\u001b[0m\n\u001b[1;32m   1330\u001b[0m       \u001b[0;32mreturn\u001b[0m \u001b[0mself\u001b[0m\u001b[0;34m.\u001b[0m\u001b[0m_do_call\u001b[0m\u001b[0;34m(\u001b[0m\u001b[0m_prun_fn\u001b[0m\u001b[0;34m,\u001b[0m \u001b[0mhandle\u001b[0m\u001b[0;34m,\u001b[0m \u001b[0mfeeds\u001b[0m\u001b[0;34m,\u001b[0m \u001b[0mfetches\u001b[0m\u001b[0;34m)\u001b[0m\u001b[0;34m\u001b[0m\u001b[0m\n",
      "\u001b[0;32m~/.conda/envs/tf-cpu/lib/python3.6/site-packages/tensorflow/python/client/session.py\u001b[0m in \u001b[0;36m_do_call\u001b[0;34m(self, fn, *args)\u001b[0m\n\u001b[1;32m   1346\u001b[0m           \u001b[0;32mpass\u001b[0m\u001b[0;34m\u001b[0m\u001b[0m\n\u001b[1;32m   1347\u001b[0m       \u001b[0mmessage\u001b[0m \u001b[0;34m=\u001b[0m \u001b[0merror_interpolation\u001b[0m\u001b[0;34m.\u001b[0m\u001b[0minterpolate\u001b[0m\u001b[0;34m(\u001b[0m\u001b[0mmessage\u001b[0m\u001b[0;34m,\u001b[0m \u001b[0mself\u001b[0m\u001b[0;34m.\u001b[0m\u001b[0m_graph\u001b[0m\u001b[0;34m)\u001b[0m\u001b[0;34m\u001b[0m\u001b[0m\n\u001b[0;32m-> 1348\u001b[0;31m       \u001b[0;32mraise\u001b[0m \u001b[0mtype\u001b[0m\u001b[0;34m(\u001b[0m\u001b[0me\u001b[0m\u001b[0;34m)\u001b[0m\u001b[0;34m(\u001b[0m\u001b[0mnode_def\u001b[0m\u001b[0;34m,\u001b[0m \u001b[0mop\u001b[0m\u001b[0;34m,\u001b[0m \u001b[0mmessage\u001b[0m\u001b[0;34m)\u001b[0m\u001b[0;34m\u001b[0m\u001b[0m\n\u001b[0m\u001b[1;32m   1349\u001b[0m \u001b[0;34m\u001b[0m\u001b[0m\n\u001b[1;32m   1350\u001b[0m   \u001b[0;32mdef\u001b[0m \u001b[0m_extend_graph\u001b[0m\u001b[0;34m(\u001b[0m\u001b[0mself\u001b[0m\u001b[0;34m)\u001b[0m\u001b[0;34m:\u001b[0m\u001b[0;34m\u001b[0m\u001b[0m\n",
      "\u001b[0;31mFailedPreconditionError\u001b[0m: Attempting to use uninitialized value global_step\n\t [[{{node _retval_global_step_0_0}} = _Retval[T=DT_INT64, index=0, _device=\"/job:localhost/replica:0/task:0/device:CPU:0\"](global_step)]]"
     ]
    }
   ],
   "source": [
    "with tf.Session() as sess:\n",
    "    sess.as_default()\n",
    "    for var in vars_global:\n",
    "        a = var.eval()\n",
    "        print(a);stop"
   ]
  }
 ],
 "metadata": {
  "kernelspec": {
   "display_name": "Python 3",
   "language": "python",
   "name": "python3"
  },
  "language_info": {
   "codemirror_mode": {
    "name": "ipython",
    "version": 3
   },
   "file_extension": ".py",
   "mimetype": "text/x-python",
   "name": "python",
   "nbconvert_exporter": "python",
   "pygments_lexer": "ipython3",
   "version": "3.6.6"
  }
 },
 "nbformat": 4,
 "nbformat_minor": 2
}
