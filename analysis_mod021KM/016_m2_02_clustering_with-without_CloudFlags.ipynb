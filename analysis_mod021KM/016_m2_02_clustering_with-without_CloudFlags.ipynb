{
 "cells": [
  {
   "cell_type": "markdown",
   "metadata": {},
   "source": [
    "### Align MOD021KM and MOD35 for clustering.\n",
    "Apply 2 types of Hierarchical Clustering (Agglomerative and BisectingKmeans) towards patches with cloud or partial-cloud flags."
   ]
  },
  {
   "cell_type": "code",
   "execution_count": 1,
   "metadata": {},
   "outputs": [],
   "source": [
    "import os\n",
    "import sys\n",
    "import numpy as np\n",
    "import scipy as sc\n",
    "import pandas as pd\n",
    "import copy\n",
    "import matplotlib.pyplot as plt\n",
    "from pyhdf.SD import SD, SDC \n",
    "from matplotlib import patches as mpl_patches\n",
    "from sklearn.cluster import AgglomerativeClustering\n",
    "from matplotlib import patches as mpl_patches"
   ]
  },
  {
   "cell_type": "code",
   "execution_count": 7,
   "metadata": {},
   "outputs": [],
   "source": [
    "import glob"
   ]
  },
  {
   "cell_type": "code",
   "execution_count": 30,
   "metadata": {},
   "outputs": [],
   "source": [
    "import tensorflow as tf"
   ]
  },
  {
   "cell_type": "code",
   "execution_count": 2,
   "metadata": {},
   "outputs": [],
   "source": [
    "sys.path.insert(1, os.path.join(sys.path[0],\"/home/tkurihana/scratch-midway2/data/MOD06/\" ) )\n",
    "from analysis_lib import _get_colors, _gen_patches, _anl_agl\n",
    "from analysis_lib import cluster_plotting2, cluster_plotting"
   ]
  },
  {
   "cell_type": "code",
   "execution_count": 34,
   "metadata": {},
   "outputs": [],
   "source": [
    "sys.path.insert(1,os.path.join(sys.path[0],\"/home/tkurihana/scratch-midway2/data/MOD02\"))\n",
    "from lib_modis02 import proc_sds"
   ]
  },
  {
   "cell_type": "markdown",
   "metadata": {},
   "source": [
    "### Functionize cloud-flag"
   ]
  },
  {
   "cell_type": "markdown",
   "metadata": {},
   "source": [
    "Detail and explanation of cloud flag decode process is in the following page  \n",
    "```https://www.science-emergence.com/Articles/How-to-read-a-MODIS-HDF-file-using-python-/```"
   ]
  },
  {
   "cell_type": "code",
   "execution_count": 25,
   "metadata": {},
   "outputs": [],
   "source": [
    "def decode_cloud_flag(sds_array, fillna=True):\n",
    "    \"\"\" Assume sds_array = hdf.select('Cloud_Mask')\n",
    "        File: Cloud_Mask_1.hdf which stores first important 6bits\n",
    "        \n",
    "        +Flags\n",
    "        0: 00 = cloudy\n",
    "        1: 01 = uncertain clear\n",
    "        2: 10 = probably clear\n",
    "        3: 11 = confident clear\n",
    "    \"\"\"\n",
    "    def bits_stripping(bit_start,bit_count,value):\n",
    "        bitmask=pow(2,bit_start+bit_count)-1\n",
    "        return np.right_shift(np.bitwise_and(value,bitmask),bit_start)\n",
    "    cm1_array = sds_array.get()\n",
    "    nx, ny = cm1_array.shape\n",
    "    carray = np.zeros((nx,ny))\n",
    "    for ix in range(nx):\n",
    "        for iy in range(ny):\n",
    "            cloud_mask_flag = bits_stripping(1,2,cm1_array[ix,iy])\n",
    "            carray[ix, iy] = cloud_mask_flag\n",
    "    ncarray = carray.astype(np.float64)\n",
    "    if fillna:\n",
    "        nan_idx = np.where(cm1_array == cm1_sds.attributes()['_FillValue'])\n",
    "        ncarray[nan_idx] = np.nan\n",
    "    return ncarray"
   ]
  },
  {
   "cell_type": "markdown",
   "metadata": {},
   "source": [
    "#### Load cloud flag data"
   ]
  },
  {
   "cell_type": "code",
   "execution_count": 4,
   "metadata": {},
   "outputs": [],
   "source": [
    "mod35_datadir = '/home/tkurihana/scratch-midway2/data/MOD35'"
   ]
  },
  {
   "cell_type": "code",
   "execution_count": 19,
   "metadata": {},
   "outputs": [],
   "source": [
    "mod35_filelist = glob.glob(mod35_datadir+\"/20150628/*.hdf\")\n",
    "mod35_filelist.sort()"
   ]
  },
  {
   "cell_type": "code",
   "execution_count": 20,
   "metadata": {},
   "outputs": [
    {
     "data": {
      "text/plain": [
       "['/home/tkurihana/scratch-midway2/data/MOD35/20150628/MOD35_L2.A2015179.mosaic.061.2019128153250.mcgscs_000501334193.Cloud_Mask_1.hdf',\n",
       " '/home/tkurihana/scratch-midway2/data/MOD35/20150628/MOD35_L2.A2015179.mosaic.061.2019128153250.mcgscs_000501334193.Cloud_Mask_2.hdf',\n",
       " '/home/tkurihana/scratch-midway2/data/MOD35/20150628/MOD35_L2.A2015179.mosaic.061.2019128153250.mcgscs_000501334193.Cloud_Mask_3.hdf',\n",
       " '/home/tkurihana/scratch-midway2/data/MOD35/20150628/MOD35_L2.A2015179.mosaic.061.2019128153250.mcgscs_000501334193.Cloud_Mask_4.hdf',\n",
       " '/home/tkurihana/scratch-midway2/data/MOD35/20150628/MOD35_L2.A2015179.mosaic.061.2019128153250.mcgscs_000501334193.Cloud_Mask_5.hdf',\n",
       " '/home/tkurihana/scratch-midway2/data/MOD35/20150628/MOD35_L2.A2015179.mosaic.061.2019128153250.mcgscs_000501334193.Cloud_Mask_6.hdf',\n",
       " '/home/tkurihana/scratch-midway2/data/MOD35/20150628/MOD35_L2.A2015179.mosaic.061.2019128153250.mcgscs_000501334193.Cloud_Mask_SPI.hdf',\n",
       " '/home/tkurihana/scratch-midway2/data/MOD35/20150628/MOD35_L2.A2015179.mosaic.061.2019128153250.mcgscs_000501334193.Quality_Assurance.hdf',\n",
       " '/home/tkurihana/scratch-midway2/data/MOD35/20150628/MOD35_L2.A2015179.mosaic.061.2019128153250.mcgscs_000501334193.Scan_Start_Time.hdf',\n",
       " '/home/tkurihana/scratch-midway2/data/MOD35/20150628/MOD35_L2.A2015179.mosaic.061.2019128153250.mcgscs_000501334193.Sensor_Azimuth.hdf',\n",
       " '/home/tkurihana/scratch-midway2/data/MOD35/20150628/MOD35_L2.A2015179.mosaic.061.2019128153250.mcgscs_000501334193.Sensor_Zenith.hdf',\n",
       " '/home/tkurihana/scratch-midway2/data/MOD35/20150628/MOD35_L2.A2015179.mosaic.061.2019128153250.mcgscs_000501334193.Solar_Azimuth.hdf',\n",
       " '/home/tkurihana/scratch-midway2/data/MOD35/20150628/MOD35_L2.A2015179.mosaic.061.2019128153250.mcgscs_000501334193.Solar_Zenith.hdf']"
      ]
     },
     "execution_count": 20,
     "metadata": {},
     "output_type": "execute_result"
    }
   ],
   "source": [
    "mod35_filelist"
   ]
  },
  {
   "cell_type": "code",
   "execution_count": 21,
   "metadata": {},
   "outputs": [],
   "source": [
    "hdf_cm1 = SD(mod35_filelist[0], SDC.READ)"
   ]
  },
  {
   "cell_type": "code",
   "execution_count": 22,
   "metadata": {},
   "outputs": [],
   "source": [
    "cm1_sds = hdf_cm1.select('Cloud_Mask')"
   ]
  },
  {
   "cell_type": "code",
   "execution_count": 23,
   "metadata": {},
   "outputs": [],
   "source": [
    "cloud_mask_array = decode_cloud_flag(cm1_sds)"
   ]
  },
  {
   "cell_type": "code",
   "execution_count": 79,
   "metadata": {},
   "outputs": [
    {
     "name": "stderr",
     "output_type": "stream",
     "text": [
      "/home/tkurihana/.conda/envs/tf-cpu/lib/python3.6/site-packages/ipykernel_launcher.py:1: RuntimeWarning: invalid value encountered in greater\n",
      "  \"\"\"Entry point for launching an IPython kernel.\n"
     ]
    }
   ],
   "source": [
    "not_cloud_idx = np.where(cloud_mask_array > 0)"
   ]
  },
  {
   "cell_type": "code",
   "execution_count": 74,
   "metadata": {},
   "outputs": [
    {
     "data": {
      "text/plain": [
       "12599868"
      ]
     },
     "execution_count": 74,
     "metadata": {},
     "output_type": "execute_result"
    }
   ],
   "source": [
    "len(cloud_idx[0])"
   ]
  },
  {
   "cell_type": "code",
   "execution_count": 76,
   "metadata": {},
   "outputs": [
    {
     "data": {
      "text/plain": [
       "<matplotlib.colorbar.Colorbar at 0x7fe8ae03a668>"
      ]
     },
     "execution_count": 76,
     "metadata": {},
     "output_type": "execute_result"
    },
    {
     "data": {
      "image/png": "[encoded data removed]",
      "text/plain": [
       "<Figure size 432x288 with 2 Axes>"
      ]
     },
     "metadata": {
      "needs_background": "light"
     },
     "output_type": "display_data"
    }
   ],
   "source": [
    "plt.imshow(cloud_mask_array, cmap='jet')\n",
    "plt.colorbar()"
   ]
  },
  {
   "cell_type": "code",
   "execution_count": 77,
   "metadata": {},
   "outputs": [],
   "source": [
    "only_clouds = copy.deepcopy(cloud_mask_array)"
   ]
  },
  {
   "cell_type": "code",
   "execution_count": 80,
   "metadata": {},
   "outputs": [],
   "source": [
    "only_clouds[not_cloud_idx] = np.nan"
   ]
  },
  {
   "cell_type": "code",
   "execution_count": 81,
   "metadata": {},
   "outputs": [
    {
     "data": {
      "text/plain": [
       "<matplotlib.colorbar.Colorbar at 0x7fe7280d97b8>"
      ]
     },
     "execution_count": 81,
     "metadata": {},
     "output_type": "execute_result"
    },
    {
     "data": {
      "image/png": "[encoded data removed]",
      "text/plain": [
       "<Figure size 432x288 with 2 Axes>"
      ]
     },
     "metadata": {
      "needs_background": "light"
     },
     "output_type": "display_data"
    }
   ],
   "source": [
    "plt.imshow(only_clouds, cmap='jet')\n",
    "plt.colorbar()"
   ]
  },
  {
   "cell_type": "markdown",
   "metadata": {},
   "source": [
    "### Model and MOD02 file"
   ]
  },
  {
   "cell_type": "markdown",
   "metadata": {},
   "source": [
    "##### model load"
   ]
  },
  {
   "cell_type": "code",
   "execution_count": 26,
   "metadata": {},
   "outputs": [],
   "source": [
    "datadir = \"/project2/foster/clouds/output/mod02/m2_02_global_2000_2018_band28_29_31\""
   ]
  },
  {
   "cell_type": "code",
   "execution_count": 28,
   "metadata": {},
   "outputs": [],
   "source": [
    "step = 100000"
   ]
  },
  {
   "cell_type": "code",
   "execution_count": 31,
   "metadata": {},
   "outputs": [
    {
     "name": "stderr",
     "output_type": "stream",
     "text": [
      "/home/tkurihana/.conda/envs/tf-cpu/lib/python3.6/site-packages/tensorflow/python/keras/layers/core.py:791: UserWarning: models is not loaded, but a Lambda layer uses it. It may cause errors.\n",
      "  , UserWarning)\n"
     ]
    }
   ],
   "source": [
    "encoder_def = datadir+'/encoder.json'\n",
    "encoder_weight = datadir+'/encoder-'+str(step)+'.h5'\n",
    "with open(encoder_def, \"r\") as f:\n",
    "    encoder = tf.keras.models.model_from_json(f.read())\n",
    "encoder.load_weights(encoder_weight)"
   ]
  },
  {
   "cell_type": "markdown",
   "metadata": {},
   "source": [
    "#### data load"
   ]
  },
  {
   "cell_type": "code",
   "execution_count": 32,
   "metadata": {},
   "outputs": [],
   "source": [
    "hdf_datadir = \"/project2/chard/clouds/data/MOD02/04\""
   ]
  },
  {
   "cell_type": "code",
   "execution_count": 33,
   "metadata": {},
   "outputs": [],
   "source": [
    "hdf_filelist=[\n",
    "    hdf_datadir+'/MOD021KM.A2015179.mosaic.061.2019112165625.mcgscs_000501328368.EV_500_Aggr1km_RefSB_4.hdf',\n",
    "    hdf_datadir+'/MOD021KM.A2015179.mosaic.061.2019112165625.mcgscs_000501328368.EV_500_Aggr1km_RefSB_5.hdf',\n",
    "    hdf_datadir+'/MOD021KM.A2015179.mosaic.061.2019112165625.mcgscs_000501328368.EV_1KM_Emissive_1.hdf',\n",
    "    hdf_datadir+'/MOD021KM.A2015179.mosaic.061.2019112165625.mcgscs_000501328368.EV_1KM_Emissive_8.hdf',\n",
    "    hdf_datadir+'/MOD021KM.A2015179.mosaic.061.2019112165625.mcgscs_000501328368.EV_1KM_Emissive_9.hdf',\n",
    "    hdf_datadir+'/MOD021KM.A2015179.mosaic.061.2019112165625.mcgscs_000501328368.EV_1KM_Emissive_11.hdf'\n",
    "]"
   ]
  },
  {
   "cell_type": "code",
   "execution_count": 35,
   "metadata": {},
   "outputs": [],
   "source": [
    "b6_hdf = SD(hdf_filelist[0], SDC.READ)\n",
    "b7_hdf = SD(hdf_filelist[1], SDC.READ)\n",
    "b20_hdf = SD(hdf_filelist[2], SDC.READ)\n",
    "b28_hdf = SD(hdf_filelist[3], SDC.READ)\n",
    "b29_hdf = SD(hdf_filelist[4], SDC.READ)\n",
    "b31_hdf = SD(hdf_filelist[5], SDC.READ)"
   ]
  },
  {
   "cell_type": "code",
   "execution_count": 36,
   "metadata": {},
   "outputs": [],
   "source": [
    "b6_sds = b6_hdf.select(\"EV_500_Aggr1km_RefSB\")\n",
    "b7_sds = b7_hdf.select(\"EV_500_Aggr1km_RefSB\")\n",
    "b20_sds = b20_hdf.select(\"EV_1KM_Emissive\")\n",
    "b28_sds = b28_hdf.select(\"EV_1KM_Emissive\")\n",
    "b29_sds = b29_hdf.select(\"EV_1KM_Emissive\")\n",
    "b31_sds = b31_hdf.select(\"EV_1KM_Emissive\")"
   ]
  },
  {
   "cell_type": "code",
   "execution_count": 37,
   "metadata": {},
   "outputs": [
    {
     "name": "stdout",
     "output_type": "stream",
     "text": [
      "Process bands 6\n",
      "Process bands 7\n",
      "Process bands 20\n",
      "Process bands 28\n",
      "Process bands 29\n",
      "Process bands 31\n"
     ]
    }
   ],
   "source": [
    "b6_array, b6 = proc_sds(b6_sds)\n",
    "b7_array, b7 = proc_sds(b7_sds)\n",
    "b20_array, b20 = proc_sds(b20_sds)\n",
    "b28_array, b28 = proc_sds(b28_sds)\n",
    "b29_array, b29 = proc_sds(b29_sds)\n",
    "b31_array, b31 = proc_sds(b31_sds)"
   ]
  },
  {
   "cell_type": "code",
   "execution_count": 38,
   "metadata": {},
   "outputs": [],
   "source": [
    "nx, ny = b6_array.shape"
   ]
  },
  {
   "cell_type": "code",
   "execution_count": 40,
   "metadata": {},
   "outputs": [],
   "source": [
    "d_list = [\n",
    "    b6_array.reshape(nx,ny,1),\n",
    "    b7_array.reshape(nx,ny,1),\n",
    "    b20_array.reshape(nx,ny,1),\n",
    "    b28_array.reshape(nx,ny,1),\n",
    "    b29_array.reshape(nx,ny,1),\n",
    "    b31_array.reshape(nx,ny,1),\n",
    "]"
   ]
  },
  {
   "cell_type": "code",
   "execution_count": 41,
   "metadata": {},
   "outputs": [],
   "source": [
    "mod02_img = np.concatenate(d_list, axis=2)"
   ]
  },
  {
   "cell_type": "markdown",
   "metadata": {},
   "source": [
    "### Select patches with and without cloud-flags"
   ]
  },
  {
   "cell_type": "code",
   "execution_count": 42,
   "metadata": {},
   "outputs": [],
   "source": [
    "def const_array(patches):\n",
    "    nx, ny = patches.shape[:2]\n",
    "    patches_list = []\n",
    "    xy_list = []\n",
    "    for i in range(nx):\n",
    "        for j in range(ny):\n",
    "            if not np.isnan(patches[i,j]).any():\n",
    "                patches_list += [patches[i,j]]\n",
    "                xy_list += [(i,j)]\n",
    "    return patches_list, xy_list"
   ]
  },
  {
   "cell_type": "code",
   "execution_count": 46,
   "metadata": {},
   "outputs": [
    {
     "data": {
      "text/plain": [
       "(12599868, 0.5880170941160153)"
      ]
     },
     "execution_count": 46,
     "metadata": {},
     "output_type": "execute_result"
    }
   ],
   "source": [
    "len(np.argwhere(cloud_mask_array == 0)), len(np.argwhere(cloud_mask_array == 0))/len(cloud_mask_array.flatten())"
   ]
  },
  {
   "cell_type": "code",
   "execution_count": 85,
   "metadata": {},
   "outputs": [],
   "source": [
    "def const_clouds_array(patches, clouds_mask, width=128, height=128):\n",
    "    nx, ny = patches.shape[:2]\n",
    "    patches_list = []\n",
    "    xy_list = []\n",
    "    for i in range(nx):\n",
    "        for j in range(ny):\n",
    "            if not np.isnan(patches[i,j]).any():\n",
    "                if np.any(clouds_mask[i*width:(i+1)*width,j*height:(j+1)*height] == 0):\n",
    "                    patches_list += [patches[i,j]]\n",
    "                    xy_list += [(i,j)]\n",
    "    return patches_list, xy_list"
   ]
  },
  {
   "cell_type": "code",
   "execution_count": 48,
   "metadata": {},
   "outputs": [
    {
     "data": {
      "text/plain": [
       "(35, 37, 128, 128, 6)"
      ]
     },
     "execution_count": 48,
     "metadata": {},
     "output_type": "execute_result"
    }
   ],
   "source": [
    "patches = _gen_patches(mod02_img, normalization=False)\n",
    "patches.shape"
   ]
  },
  {
   "cell_type": "markdown",
   "metadata": {},
   "source": [
    "###### patche list with and without clouds mask"
   ]
  },
  {
   "cell_type": "code",
   "execution_count": 51,
   "metadata": {},
   "outputs": [],
   "source": [
    "patches_list, xy_list = const_array(patches)"
   ]
  },
  {
   "cell_type": "code",
   "execution_count": 62,
   "metadata": {},
   "outputs": [
    {
     "data": {
      "text/plain": [
       "(4513, 4748)"
      ]
     },
     "execution_count": 62,
     "metadata": {},
     "output_type": "execute_result"
    }
   ],
   "source": [
    "cloud_mask_array.shape"
   ]
  },
  {
   "cell_type": "code",
   "execution_count": 86,
   "metadata": {
    "scrolled": false
   },
   "outputs": [],
   "source": [
    "clouds_patches_list, clouds_xy_list = const_clouds_array(patches, cloud_mask_array)"
   ]
  },
  {
   "cell_type": "code",
   "execution_count": 87,
   "metadata": {},
   "outputs": [
    {
     "data": {
      "text/plain": [
       "983"
      ]
     },
     "execution_count": 87,
     "metadata": {},
     "output_type": "execute_result"
    }
   ],
   "source": [
    "len(clouds_patches_list)"
   ]
  },
  {
   "cell_type": "markdown",
   "metadata": {},
   "source": [
    "#### Clustering"
   ]
  },
  {
   "cell_type": "code",
   "execution_count": 55,
   "metadata": {},
   "outputs": [],
   "source": [
    "def compute_agl(encoder, patches_list,n_cluster = 10):\n",
    "    encs_list = []\n",
    "    for i in patches_list:\n",
    "        encs = encoder.predict(i.reshape(1,128,128,6))\n",
    "        encs_list += [encs.mean(axis=(1,2))]\n",
    "    features = np.concatenate(encs_list, axis=0)\n",
    "    print(features.shape)\n",
    "    method = AgglomerativeClustering(n_clusters=n_cluster)\n",
    "    _patches_labels = method.fit_predict(features)\n",
    "    return _patches_labels"
   ]
  },
  {
   "cell_type": "code",
   "execution_count": 56,
   "metadata": {},
   "outputs": [
    {
     "name": "stdout",
     "output_type": "stream",
     "text": [
      "(1009, 128)\n"
     ]
    }
   ],
   "source": [
    "patches_labels = compute_agl(encoder, patches_list)"
   ]
  },
  {
   "cell_type": "code",
   "execution_count": 88,
   "metadata": {},
   "outputs": [
    {
     "name": "stdout",
     "output_type": "stream",
     "text": [
      "(983, 128)\n"
     ]
    }
   ],
   "source": [
    "clouds_patches_labels = compute_agl(encoder, clouds_patches_list)"
   ]
  },
  {
   "cell_type": "code",
   "execution_count": 89,
   "metadata": {},
   "outputs": [],
   "source": [
    "ix, iy = patches.shape[:2]\n",
    "img_array = np.zeros((ix,iy)).astype(np.float64)\n",
    "img_array[:,:] = np.nan\n",
    "for idx, (x,y) in enumerate(xy_list):\n",
    "    img_array[x,y] = patches_labels[idx]"
   ]
  },
  {
   "cell_type": "code",
   "execution_count": 90,
   "metadata": {},
   "outputs": [],
   "source": [
    "ix, iy = patches.shape[:2]\n",
    "cimg_array = np.zeros((ix,iy)).astype(np.float64)\n",
    "cimg_array[:,:] = np.nan\n",
    "for idx, (x,y) in enumerate(clouds_xy_list):\n",
    "    cimg_array[x,y] = clouds_patches_labels[idx]"
   ]
  },
  {
   "cell_type": "code",
   "execution_count": 96,
   "metadata": {},
   "outputs": [
    {
     "data": {
      "text/plain": [
       "<bound method Figure.tight_layout of <Figure size 720x720 with 4 Axes>>"
      ]
     },
     "execution_count": 96,
     "metadata": {},
     "output_type": "execute_result"
    },
    {
     "data": {
      "image/png": "[encoded data removed]",
      "text/plain": [
       "<Figure size 720x720 with 4 Axes>"
      ]
     },
     "metadata": {
      "needs_background": "light"
     },
     "output_type": "display_data"
    }
   ],
   "source": [
    "fig = plt.figure(figsize=(10,10))\n",
    "ax = plt.subplot(1,2,1)\n",
    "plt.imshow(img_array, cmap='jet')\n",
    "ax.set_title(\"# pathches =  %d\" % len(xy_list))\n",
    "plt.colorbar(orientation='horizontal')\n",
    "ax = plt.subplot(122)\n",
    "plt.imshow(cimg_array, cmap='jet')\n",
    "ax.set_title(\"# pathches = %d \" % len(clouds_xy_list))\n",
    "plt.colorbar(orientation='horizontal')\n",
    "fig.tight_layout"
   ]
  },
  {
   "cell_type": "markdown",
   "metadata": {},
   "source": [
    "### Strict rule for clouds flag"
   ]
  },
  {
   "cell_type": "code",
   "execution_count": 102,
   "metadata": {},
   "outputs": [],
   "source": [
    "def dev_const_clouds_array(patches, clouds_mask, width=128, height=128, thres=0.2):\n",
    "    \"\"\"\n",
    "    thres: range 0-1. ratio of clouds within the given patch\n",
    "    \"\"\"\n",
    "    nx, ny = patches.shape[:2]\n",
    "    patches_list = []\n",
    "    xy_list = []\n",
    "    for i in range(nx):\n",
    "        for j in range(ny):\n",
    "            if not np.isnan(patches[i,j]).any():\n",
    "                if np.any(clouds_mask[i*width:(i+1)*width,j*height:(j+1)*height] == 0):\n",
    "                    tmp = clouds_mask[i*width:(i+1)*width,j*height:(j+1)*height]\n",
    "                    nclouds = len(np.argwhere(tmp == 0))\n",
    "                    if nclouds/(width*height) > thres:\n",
    "                        patches_list += [patches[i,j]]\n",
    "                        xy_list += [(i,j)]\n",
    "    return patches_list, xy_list"
   ]
  },
  {
   "cell_type": "code",
   "execution_count": 116,
   "metadata": {},
   "outputs": [],
   "source": [
    "clouds_patches_list, clouds_xy_list = dev_const_clouds_array(patches, cloud_mask_array, thres=0.4)"
   ]
  },
  {
   "cell_type": "code",
   "execution_count": 117,
   "metadata": {},
   "outputs": [
    {
     "data": {
      "text/plain": [
       "780"
      ]
     },
     "execution_count": 117,
     "metadata": {},
     "output_type": "execute_result"
    }
   ],
   "source": [
    "len(clouds_patches_list)"
   ]
  },
  {
   "cell_type": "code",
   "execution_count": 118,
   "metadata": {},
   "outputs": [
    {
     "name": "stdout",
     "output_type": "stream",
     "text": [
      "(780, 128)\n"
     ]
    }
   ],
   "source": [
    "clouds_patches_labels = compute_agl(encoder, clouds_patches_list)"
   ]
  },
  {
   "cell_type": "code",
   "execution_count": 106,
   "metadata": {},
   "outputs": [],
   "source": [
    "### reserve old result\n",
    "no_thres_cimg_array = cimg_array # first try"
   ]
  },
  {
   "cell_type": "code",
   "execution_count": 112,
   "metadata": {},
   "outputs": [],
   "source": [
    "thres02_cimg_array = cimg_array"
   ]
  },
  {
   "cell_type": "code",
   "execution_count": 115,
   "metadata": {},
   "outputs": [],
   "source": [
    "thres03_cimg_array = cimg_array"
   ]
  },
  {
   "cell_type": "code",
   "execution_count": 119,
   "metadata": {},
   "outputs": [],
   "source": [
    "ix, iy = patches.shape[:2]\n",
    "cimg_array = np.zeros((ix,iy)).astype(np.float64)\n",
    "cimg_array[:,:] = np.nan\n",
    "for idx, (x,y) in enumerate(clouds_xy_list):\n",
    "    cimg_array[x,y] = clouds_patches_labels[idx]"
   ]
  },
  {
   "cell_type": "code",
   "execution_count": 108,
   "metadata": {},
   "outputs": [
    {
     "data": {
      "text/plain": [
       "<bound method Figure.tight_layout of <Figure size 720x720 with 4 Axes>>"
      ]
     },
     "execution_count": 108,
     "metadata": {},
     "output_type": "execute_result"
    },
    {
     "data": {
      "image/png": "[encoded data removed]",
      "text/plain": [
       "<Figure size 720x720 with 4 Axes>"
      ]
     },
     "metadata": {
      "needs_background": "light"
     },
     "output_type": "display_data"
    }
   ],
   "source": [
    "fig = plt.figure(figsize=(10,10))\n",
    "ax = plt.subplot(1,2,1)\n",
    "plt.imshow(no_thres_cimg_array, cmap='jet')\n",
    "ax.set_title(\"# pathches =  983 \")\n",
    "plt.colorbar(orientation='horizontal')\n",
    "ax = plt.subplot(122)\n",
    "plt.imshow(cimg_array, cmap='jet')\n",
    "ax.set_title(\"# pathches = %d \" % len(clouds_xy_list))\n",
    "plt.colorbar(orientation='horizontal')\n",
    "fig.tight_layout"
   ]
  },
  {
   "cell_type": "code",
   "execution_count": 114,
   "metadata": {},
   "outputs": [
    {
     "data": {
      "text/plain": [
       "<bound method Figure.tight_layout of <Figure size 720x720 with 4 Axes>>"
      ]
     },
     "execution_count": 114,
     "metadata": {},
     "output_type": "execute_result"
    },
    {
     "data": {
      "image/png": "[encoded data removed]",
      "text/plain": [
       "<Figure size 720x720 with 4 Axes>"
      ]
     },
     "metadata": {
      "needs_background": "light"
     },
     "output_type": "display_data"
    }
   ],
   "source": [
    "fig = plt.figure(figsize=(10,10))\n",
    "ax = plt.subplot(1,2,1)\n",
    "plt.imshow(no_thres_cimg_array, cmap='jet')\n",
    "ax.set_title(\"# pathches =  983 \")\n",
    "plt.colorbar(orientation='horizontal')\n",
    "ax = plt.subplot(122)\n",
    "plt.imshow(cimg_array, cmap='jet')\n",
    "ax.set_title(\"# pathches = %d \" % len(clouds_xy_list))\n",
    "plt.colorbar(orientation='horizontal')\n",
    "fig.tight_layout"
   ]
  },
  {
   "cell_type": "code",
   "execution_count": 120,
   "metadata": {},
   "outputs": [
    {
     "data": {
      "text/plain": [
       "<bound method Figure.tight_layout of <Figure size 720x720 with 4 Axes>>"
      ]
     },
     "execution_count": 120,
     "metadata": {},
     "output_type": "execute_result"
    },
    {
     "data": {
      "image/png": "[encoded data removed]",
      "text/plain": [
       "<Figure size 720x720 with 4 Axes>"
      ]
     },
     "metadata": {
      "needs_background": "light"
     },
     "output_type": "display_data"
    }
   ],
   "source": [
    "fig = plt.figure(figsize=(10,10))\n",
    "ax = plt.subplot(1,2,1)\n",
    "plt.imshow(no_thres_cimg_array, cmap='jet')\n",
    "ax.set_title(\"# pathches =  983 \")\n",
    "plt.colorbar(orientation='horizontal')\n",
    "ax = plt.subplot(122)\n",
    "plt.imshow(cimg_array, cmap='jet')\n",
    "ax.set_title(\"# pathches = %d \" % len(clouds_xy_list))\n",
    "plt.colorbar(orientation='horizontal')\n",
    "fig.tight_layout"
   ]
  },
  {
   "cell_type": "code",
   "execution_count": null,
   "metadata": {},
   "outputs": [],
   "source": []
  }
 ],
 "metadata": {
  "kernelspec": {
   "display_name": "Python 3",
   "language": "python",
   "name": "python3"
  },
  "language_info": {
   "codemirror_mode": {
    "name": "ipython",
    "version": 3
   },
   "file_extension": ".py",
   "mimetype": "text/x-python",
   "name": "python",
   "nbconvert_exporter": "python",
   "pygments_lexer": "ipython3",
   "version": "3.6.6"
  }
 },
 "nbformat": 4,
 "nbformat_minor": 2
}
