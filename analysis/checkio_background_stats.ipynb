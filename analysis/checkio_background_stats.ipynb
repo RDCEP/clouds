{
 "cells": [
  {
   "cell_type": "markdown",
   "metadata": {},
   "source": [
    "Ipynb to check mean # positive value cells in Global scale at July 2017 "
   ]
  },
  {
   "cell_type": "markdown",
   "metadata": {},
   "source": [
    "DATA Directory: /home/tkurihana/scratch-midway2/data/GEE/outputs"
   ]
  },
  {
   "cell_type": "code",
   "execution_count": 1,
   "metadata": {},
   "outputs": [],
   "source": [
    "import os\n",
    "import sys\n",
    "import numpy as np"
   ]
  },
  {
   "cell_type": "code",
   "execution_count": 2,
   "metadata": {},
   "outputs": [],
   "source": [
    "datadir = '/home/tkurihana/scratch-midway2/data/GEE/outputs'"
   ]
  },
  {
   "cell_type": "code",
   "execution_count": 10,
   "metadata": {},
   "outputs": [],
   "source": [
    "def get_values(datadir='.', \n",
    "               fbasename='background_stats_day-',\n",
    "               day=1\n",
    "    ):\n",
    "    \"\"\" FILE OUTPUT: bkgp, bkgp2, nx*ny\n",
    "        bkgp  : percentage of negative + zeros + under 1500\n",
    "        bkgp2 : percentage of negative + zeros\n",
    "        nx*ny : #row by #col patches\n",
    "    \"\"\"\n",
    "    data = np.load(datadir+'/'+fbasename+str(day)+\".npy\")\n",
    "    return np.squeeze(data)"
   ]
  },
  {
   "cell_type": "markdown",
   "metadata": {},
   "source": [
    "### Check output data"
   ]
  },
  {
   "cell_type": "code",
   "execution_count": 11,
   "metadata": {},
   "outputs": [],
   "source": [
    "data = get_values(datadir=datadir, day=1)"
   ]
  },
  {
   "cell_type": "code",
   "execution_count": 12,
   "metadata": {},
   "outputs": [
    {
     "data": {
      "text/plain": [
       "(10, 3)"
      ]
     },
     "execution_count": 12,
     "metadata": {},
     "output_type": "execute_result"
    }
   ],
   "source": [
    "data.shape"
   ]
  },
  {
   "cell_type": "code",
   "execution_count": 13,
   "metadata": {},
   "outputs": [
    {
     "data": {
      "text/plain": [
       "array([[   54.34257509,    52.68325982, 19044.        ],\n",
       "       [   61.41041798,    59.71434573, 19044.        ],\n",
       "       [   73.26191976,    71.24553665, 19044.        ],\n",
       "       [   62.09829868,    60.16593153, 19044.        ],\n",
       "       [   44.52604779,    43.61535448, 10212.        ],\n",
       "       [   80.52795031,    80.27950311,  9660.        ],\n",
       "       [   53.2194617 ,    50.61076605,  9660.        ],\n",
       "       [   56.70807453,    55.44513458,  9660.        ],\n",
       "       [   72.41200828,    71.44927536,  9660.        ],\n",
       "       [   43.24324324,    42.16216216,  5180.        ]])"
      ]
     },
     "execution_count": 13,
     "metadata": {},
     "output_type": "execute_result"
    }
   ],
   "source": [
    "data"
   ]
  },
  {
   "cell_type": "code",
   "execution_count": 21,
   "metadata": {},
   "outputs": [
    {
     "data": {
      "text/plain": [
       "10033"
      ]
     },
     "execution_count": 21,
     "metadata": {},
     "output_type": "execute_result"
    }
   ],
   "source": [
    " int(data[0,1]*data[0,2]/100)"
   ]
  },
  {
   "cell_type": "markdown",
   "metadata": {},
   "source": [
    "### Get stats values"
   ]
  },
  {
   "cell_type": "markdown",
   "metadata": {},
   "source": [
    "#### Daily data"
   ]
  },
  {
   "cell_type": "code",
   "execution_count": 28,
   "metadata": {
    "scrolled": false
   },
   "outputs": [
    {
     "name": "stdout",
     "output_type": "stream",
     "text": [
      "  Day: 1 ==> Daily Background 77971 \n",
      "  Day: 1 ==> Daily # All patches 130208 \n",
      "  Day: 1 ==> Daily # Valid pathces 52237 \n",
      "\n",
      "  Day: 2 ==> Daily Background 74626 \n",
      "  Day: 2 ==> Daily # All patches 130208 \n",
      "  Day: 2 ==> Daily # Valid pathces 55582 \n",
      "\n",
      "  Day: 3 ==> Daily Background 77517 \n",
      "  Day: 3 ==> Daily # All patches 130208 \n",
      "  Day: 3 ==> Daily # Valid pathces 52691 \n",
      "\n",
      "  Day: 4 ==> Daily Background 74737 \n",
      "  Day: 4 ==> Daily # All patches 130208 \n",
      "  Day: 4 ==> Daily # Valid pathces 55471 \n",
      "\n",
      "  Day: 5 ==> Daily Background 76374 \n",
      "  Day: 5 ==> Daily # All patches 130208 \n",
      "  Day: 5 ==> Daily # Valid pathces 53834 \n",
      "\n",
      "  Day: 6 ==> Daily Background 75972 \n",
      "  Day: 6 ==> Daily # All patches 130208 \n",
      "  Day: 6 ==> Daily # Valid pathces 54236 \n",
      "\n",
      "  Day: 7 ==> Daily Background 74528 \n",
      "  Day: 7 ==> Daily # All patches 130208 \n",
      "  Day: 7 ==> Daily # Valid pathces 55680 \n",
      "\n",
      "  Day: 8 ==> Daily Background 77076 \n",
      "  Day: 8 ==> Daily # All patches 130208 \n",
      "  Day: 8 ==> Daily # Valid pathces 53132 \n",
      "\n",
      "  Day: 9 ==> Daily Background 74333 \n",
      "  Day: 9 ==> Daily # All patches 130208 \n",
      "  Day: 9 ==> Daily # Valid pathces 55875 \n",
      "\n",
      "  Day: 10 ==> Daily Background 77480 \n",
      "  Day: 10 ==> Daily # All patches 130208 \n",
      "  Day: 10 ==> Daily # Valid pathces 52728 \n",
      "\n",
      "  Day: 11 ==> Daily Background 74278 \n",
      "  Day: 11 ==> Daily # All patches 130208 \n",
      "  Day: 11 ==> Daily # Valid pathces 55930 \n",
      "\n",
      "  Day: 12 ==> Daily Background 77482 \n",
      "  Day: 12 ==> Daily # All patches 130208 \n",
      "  Day: 12 ==> Daily # Valid pathces 52726 \n",
      "\n",
      "  Day: 13 ==> Daily Background 74962 \n",
      "  Day: 13 ==> Daily # All patches 130208 \n",
      "  Day: 13 ==> Daily # Valid pathces 55246 \n",
      "\n",
      "  Day: 14 ==> Daily Background 74974 \n",
      "  Day: 14 ==> Daily # All patches 130208 \n",
      "  Day: 14 ==> Daily # Valid pathces 55234 \n",
      "\n",
      "  Day: 15 ==> Daily Background 76630 \n",
      "  Day: 15 ==> Daily # All patches 130208 \n",
      "  Day: 15 ==> Daily # Valid pathces 53578 \n",
      "\n",
      "  Day: 16 ==> Daily Background 74858 \n",
      "  Day: 16 ==> Daily # All patches 130208 \n",
      "  Day: 16 ==> Daily # Valid pathces 55350 \n",
      "\n",
      "  Day: 17 ==> Daily Background 77872 \n",
      "  Day: 17 ==> Daily # All patches 130208 \n",
      "  Day: 17 ==> Daily # Valid pathces 52336 \n",
      "\n",
      "  Day: 18 ==> Daily Background 74746 \n",
      "  Day: 18 ==> Daily # All patches 130208 \n",
      "  Day: 18 ==> Daily # Valid pathces 55462 \n",
      "\n",
      "  Day: 19 ==> Daily Background 77638 \n",
      "  Day: 19 ==> Daily # All patches 130208 \n",
      "  Day: 19 ==> Daily # Valid pathces 52570 \n",
      "\n",
      "  Day: 20 ==> Daily Background 74942 \n",
      "  Day: 20 ==> Daily # All patches 130208 \n",
      "  Day: 20 ==> Daily # Valid pathces 55266 \n",
      "\n",
      "  Day: 21 ==> Daily Background 75995 \n",
      "  Day: 21 ==> Daily # All patches 130208 \n",
      "  Day: 21 ==> Daily # Valid pathces 54213 \n",
      "\n",
      "  Day: 22 ==> Daily Background 76047 \n",
      "  Day: 22 ==> Daily # All patches 130208 \n",
      "  Day: 22 ==> Daily # Valid pathces 54161 \n",
      "\n",
      "  Day: 23 ==> Daily Background 74631 \n",
      "  Day: 23 ==> Daily # All patches 130208 \n",
      "  Day: 23 ==> Daily # Valid pathces 55577 \n",
      "\n",
      "  Day: 24 ==> Daily Background 77043 \n",
      "  Day: 24 ==> Daily # All patches 130208 \n",
      "  Day: 24 ==> Daily # Valid pathces 53165 \n",
      "\n",
      "  Day: 25 ==> Daily Background 74618 \n",
      "  Day: 25 ==> Daily # All patches 130208 \n",
      "  Day: 25 ==> Daily # Valid pathces 55590 \n",
      "\n",
      "  Day: 26 ==> Daily Background 77648 \n",
      "  Day: 26 ==> Daily # All patches 130208 \n",
      "  Day: 26 ==> Daily # Valid pathces 52560 \n",
      "\n",
      "  Day: 27 ==> Daily Background 74767 \n",
      "  Day: 27 ==> Daily # All patches 130208 \n",
      "  Day: 27 ==> Daily # Valid pathces 55441 \n",
      "\n",
      "  Day: 28 ==> Daily Background 77436 \n",
      "  Day: 28 ==> Daily # All patches 130208 \n",
      "  Day: 28 ==> Daily # Valid pathces 52772 \n",
      "\n",
      "  Day: 29 ==> Daily Background 75046 \n",
      "  Day: 29 ==> Daily # All patches 130208 \n",
      "  Day: 29 ==> Daily # Valid pathces 55162 \n",
      "\n",
      "  Day: 30 ==> Daily Background 75160 \n",
      "  Day: 30 ==> Daily # All patches 130208 \n",
      "  Day: 30 ==> Daily # Valid pathces 55048 \n",
      "\n",
      "  Day: 31 ==> Daily Background 76924 \n",
      "  Day: 31 ==> Daily # All patches 130208 \n",
      "  Day: 31 ==> Daily # Valid pathces 53284 \n",
      "\n"
     ]
    }
   ],
   "source": [
    "daily_mean = []\n",
    "daily_alls = []\n",
    "daily_valids = []\n",
    "for iday in range(1,32):\n",
    "    data = get_values(datadir=datadir, day=iday)\n",
    "    ndiv = data.shape[0]  # number of subsets \n",
    "    daily_data = []\n",
    "    all_patches = []\n",
    "    valid_patches = []\n",
    "    for idiv in range(ndiv):\n",
    "        bkgp  = data[idiv,0]  # less than 1500\n",
    "        bkgp2 = data[idiv,1]  # equal or less than 0\n",
    "        npatches = data[idiv, 2]\n",
    "        \n",
    "        # background\n",
    "        back_grounds = int(bkgp2/100 * npatches)\n",
    "        daily_data += [back_grounds]\n",
    "        \n",
    "        # all and valid patches\n",
    "        all_patches += [ npatches ]\n",
    "        valid_patches +=[ npatches - back_grounds ]\n",
    "    \n",
    "    # print\n",
    "    # bkgrd\n",
    "    daily_background = sum(daily_data)\n",
    "    daily_mean += [daily_background]\n",
    "    print(\"  Day: %d ==> Daily Background %d \" % (int(iday) , int(daily_background) ) )\n",
    "    # all\n",
    "    alls = sum(all_patches)\n",
    "    daily_alls += [alls]\n",
    "    print(\"  Day: %d ==> Daily # All patches %d \" % (int(iday) , int(alls) ) )\n",
    "    # valids\n",
    "    valids = sum(valid_patches)\n",
    "    daily_valids += [valids]\n",
    "    print(\"  Day: %d ==> Daily # Valid pathces %d \" % (int(iday) , int(valids) ) )\n",
    "    print(\"\")"
   ]
  },
  {
   "cell_type": "markdown",
   "metadata": {},
   "source": [
    "### Daily Mean"
   ]
  },
  {
   "cell_type": "code",
   "execution_count": 31,
   "metadata": {},
   "outputs": [
    {
     "name": "stdout",
     "output_type": "stream",
     "text": [
      "75945\n"
     ]
    }
   ],
   "source": [
    "mean_backgrounds = np.mean(daily_mean)\n",
    "print(int(mean_backgrounds) )"
   ]
  },
  {
   "cell_type": "code",
   "execution_count": 32,
   "metadata": {},
   "outputs": [
    {
     "name": "stdout",
     "output_type": "stream",
     "text": [
      "130208\n"
     ]
    }
   ],
   "source": [
    "mean_alls = np.mean(daily_alls)\n",
    "print(int(mean_alls) )"
   ]
  },
  {
   "cell_type": "code",
   "execution_count": 33,
   "metadata": {},
   "outputs": [
    {
     "name": "stdout",
     "output_type": "stream",
     "text": [
      "54262\n"
     ]
    }
   ],
   "source": [
    "mean_valids = np.mean(daily_valids)\n",
    "print(int(mean_valids) )"
   ]
  },
  {
   "cell_type": "code",
   "execution_count": 35,
   "metadata": {},
   "outputs": [
    {
     "data": {
      "text/plain": [
       "41.67369429756063"
      ]
     },
     "execution_count": 35,
     "metadata": {},
     "output_type": "execute_result"
    }
   ],
   "source": [
    "mean_valids/mean_alls * 100"
   ]
  },
  {
   "cell_type": "code",
   "execution_count": null,
   "metadata": {},
   "outputs": [],
   "source": []
  }
 ],
 "metadata": {
  "kernelspec": {
   "display_name": "Python 3",
   "language": "python",
   "name": "python3"
  },
  "language_info": {
   "codemirror_mode": {
    "name": "ipython",
    "version": 3
   },
   "file_extension": ".py",
   "mimetype": "text/x-python",
   "name": "python",
   "nbconvert_exporter": "python",
   "pygments_lexer": "ipython3",
   "version": "3.6.6"
  }
 },
 "nbformat": 4,
 "nbformat_minor": 2
}
