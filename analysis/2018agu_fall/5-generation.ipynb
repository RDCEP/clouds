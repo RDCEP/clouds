{
 "cells": [
  {
   "cell_type": "markdown",
   "metadata": {},
   "source": [
    "# TODO - debug"
   ]
  },
  {
   "cell_type": "code",
   "execution_count": null,
   "metadata": {},
   "outputs": [],
   "source": [
    "decoder = tf.keras.models.Sequential()\n",
    "for l in ae.layers[7:]:\n",
    "    decoder.add(l)"
   ]
  },
  {
   "cell_type": "code",
   "execution_count": null,
   "metadata": {},
   "outputs": [],
   "source": [
    "cluster1 = imgs[sc.labels_ == 2]\n",
    "hid1, enc1 = ae.predict(cluster1[[0]])\n",
    "hid2, enc2 = ae.predict(cluster1[[1]])"
   ]
  },
  {
   "cell_type": "code",
   "execution_count": null,
   "metadata": {},
   "outputs": [],
   "source": [
    "def interpolate(x, y, num=100):\n",
    "    return [(1 - z) * x + z * y for z in np.linspace(0,1,100)]\n",
    "\n",
    "def draw_frame(ax, img, title, cmap=\"bone\", channel=0):\n",
    "    im = ax.imshow(img[0,:,:,channel], cmap=cmap)\n",
    "    ax.set_title(title)\n",
    "    return im"
   ]
  },
  {
   "cell_type": "code",
   "execution_count": null,
   "metadata": {},
   "outputs": [],
   "source": [
    "%matplotlib notebook\n",
    "%matplotlib notebook\n",
    "%matplotlib notebook\n",
    "%matplotlib notebook\n",
    "%matplotlib notebook\n",
    "%matplotlib notebook\n",
    "%matplotlib notebook\n",
    "%matplotlib notebook\n",
    "# No joke repeating those ^^ prevents some matplotlib / jupyter error\n",
    "\n",
    "fig, (ax1, ax2) = plt.subplots(ncols=2, figsize=(12,6))\n",
    "\n",
    "pixel_interpolation = interpolate(enc1, enc2)\n",
    "encoded_interpolation = (decoder.predict(h) for h in interpolate(hid1, hid2))\n",
    "pframes = [draw_frame(ax2, i, \"pixel space interpolation\") for i in pixel_interpolation]\n",
    "eframes = [draw_frame(ax1, i, \"hidden space interpolation\") for i in encoded_interpolation]\n",
    "ims = list(zip(pframes, eframes))\n",
    "\n",
    "ani = animation.ArtistAnimation(fig, ims, interval=100, blit=True, repeat_delay=100)\n",
    "\n",
    "if False: #save\n",
    "    Writer = animation.writers['ffmpeg']\n",
    "    writer = Writer(fps=15, metadata=dict(artist='Me'), bitrate=1800)\n",
    "    ani.save('interpolation.mp4', writer=writer)\n"
   ]
  },
  {
   "cell_type": "markdown",
   "metadata": {},
   "source": [
    "### Interpolation walk through a cluster"
   ]
  },
  {
   "cell_type": "code",
   "execution_count": null,
   "metadata": {
    "scrolled": false
   },
   "outputs": [],
   "source": [
    "%matplotlib notebook\n",
    "%matplotlib notebook\n",
    "%matplotlib notebook\n",
    "%matplotlib notebook\n",
    "%matplotlib notebook\n",
    "%matplotlib notebook\n",
    "if True:\n",
    "    examples = 10\n",
    "    cimgs = imgs[sc.labels_ == 5]\n",
    "    cimgs = cimgs[np.random.choice(cimgs.shape[0], examples)]\n",
    "\n",
    "    fig, ax = plt.subplots(figsize=(10,10))\n",
    "    ims = []\n",
    "\n",
    "    hids = [ae.predict(cimgs[[i]])[0] for i in range(examples)]\n",
    "\n",
    "    for i in range(examples):\n",
    "        j = (i + 1) % examples\n",
    "        interp = (decoder.predict(h) for h in interpolate(hids[i], hids[j], 10))\n",
    "        ims.extend([[draw_frame(ax, i, \"\")] for i in interp])\n",
    "\n",
    "    ani = animation.ArtistAnimation(fig, ims, interval=100)\n",
    "    \n",
    "#     \n",
    "# Writer = animation.writers['ffmpeg']\n",
    "# writer = Writer(fps=15, metadata=dict(artist='Me'), bitrate=1800)\n",
    "# ani.save('rw_interpolation.mp4', writer=writer)"
   ]
  },
  {
   "cell_type": "markdown",
   "metadata": {},
   "source": [
    "This is pretty expensive to compute and turns out to not give much insight to the clusters"
   ]
  },
  {
   "cell_type": "code",
   "execution_count": null,
   "metadata": {
    "scrolled": false
   },
   "outputs": [],
   "source": [
    "%matplotlib inline\n",
    "\n",
    "examples = 50\n",
    "fig, ax = plt.subplots(nrows=2, ncols=5, figsize=(16, 8))\n",
    "\n",
    "for i in range(10):\n",
    "    cimgs = imgs[km.labels_ == i]\n",
    "    cimgs = cimgs[np.random.choice(cimgs.shape[0], examples)]\n",
    "    \n",
    "    m = ae.predict(cimgs)[0]\n",
    "    m = m.mean(axis=0)\n",
    "    m = np.expand_dims(m, axis=0)\n",
    "    m = decoder.predict(m)\n",
    "    \n",
    "    a = ax[i // 5, i % 5]\n",
    "    a.set_title(\"decoded cluster %d mean\"%i)\n",
    "    a.imshow(m[0,:,:,0], cmap=\"bone\")\n",
    "    a.set_xticks([]); a.set_yticks([])"
   ]
  },
  {
   "cell_type": "markdown",
   "metadata": {},
   "source": [
    "It seems taking the mean of the cluster and decoding does not produce meaningful results. This suggests that the AE latent manifold is not convex"
   ]
  },
  {
   "cell_type": "code",
   "execution_count": null,
   "metadata": {},
   "outputs": [],
   "source": []
  }
 ],
 "metadata": {
  "kernelspec": {
   "display_name": "Python (clouds)",
   "language": "python",
   "name": "clouds"
  },
  "language_info": {
   "codemirror_mode": {
    "name": "ipython",
    "version": 3
   },
   "file_extension": ".py",
   "mimetype": "text/x-python",
   "name": "python",
   "nbconvert_exporter": "python",
   "pygments_lexer": "ipython3",
   "version": "3.6.6"
  }
 },
 "nbformat": 4,
 "nbformat_minor": 2
}
