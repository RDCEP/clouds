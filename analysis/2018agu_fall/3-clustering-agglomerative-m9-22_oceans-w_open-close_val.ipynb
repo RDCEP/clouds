{
 "cells": [
  {
   "cell_type": "code",
   "execution_count": 1,
   "metadata": {},
   "outputs": [],
   "source": [
    "%load_ext autoreload\n",
    "%autoreload 2\n",
    "\n",
    "import sklearn\n",
    "import os, sys\n",
    "import numpy as np\n",
    "import pandas as pd\n",
    "import tensorflow as tf\n",
    "from sklearn.cluster import KMeans, AgglomerativeClustering, SpectralClustering\n",
    "from scipy import interpolate\n",
    "from matplotlib import pyplot as plt\n",
    "from matplotlib.colors import LogNorm\n",
    "\n",
    "sys.path.insert(1, os.path.join(sys.path[0], \"..\"))\n",
    "sys.path.append('../../')\n",
    "from reproduction.pipeline.load import load_data\n",
    "from reproduction import analysis\n",
    "\n",
    "# Disable Warnings\n",
    "import warnings; warnings.simplefilter('ignore')\n",
    "tf.logging.set_verbosity(tf.logging.WARN)"
   ]
  },
  {
   "cell_type": "code",
   "execution_count": 2,
   "metadata": {},
   "outputs": [],
   "source": [
    "def gridsearch(start, step, stop, max_samples=5000, sample_steps=4, trials=30):\n",
    "    with open(ENCODER_DEF,\"r\") as f:\n",
    "            encoder = tf.keras.models.model_from_json(f.read())\n",
    "    encoder.load_weights(ENCODER_WEIGHTS)\n",
    "    \n",
    "    samples = np.logspace(np.log10(start+2), np.log10(max_samples), num=sample_steps).astype(int)\n",
    "    search_results = [] # Force initialization\n",
    "    # iterate on sampling \n",
    "    for i in samples:\n",
    "        # iterate on clustering\n",
    "        for j in range(start, stop, step):\n",
    "                if i/j > 2: # Agglomerative clustering must have leaves with at least 2 elements\n",
    "                    print('Samples: ', i,' Clusters: ',j)\n",
    "                    minfoac = []\n",
    "                    for trial in range(trials):\n",
    "                        data = analysis.AEData(load_data(DATA, encoder.input_shape[1:]), n=i)\n",
    "                        data.add_encoder(encoder)\n",
    "                        N_CLUSTERS = j\n",
    "                        ag1 = AgglomerativeClustering(n_clusters=N_CLUSTERS).fit_predict(data.encs[:int(i/2)])\n",
    "                        ag2 = AgglomerativeClustering(n_clusters=N_CLUSTERS).fit_predict(data.encs)\n",
    "                        minfoac.append(sklearn.metrics.adjusted_mutual_info_score(ag1, ag2[:int(i/2)]))\n",
    "                    minfo_mean = np.nanmean(minfoac)\n",
    "                    minfo_std = np.nanstd(minfoac)\n",
    "                    search_results.append((i, N_CLUSTERS, minfo_mean, minfo_std))\n",
    "                    print('Average Mutual information: ', minfo_mean, 'MI_STD: ', minfo_std, 'Precision: ', np.count_nonzero(~np.isnan(minfoac)))\n",
    "    return search_results\n",
    "    "
   ]
  },
  {
   "cell_type": "code",
   "execution_count": 3,
   "metadata": {},
   "outputs": [],
   "source": [
    "DATA = \"/project/foster/clouds/data/2015_05/*.tfrecord\"\n",
    "ENCODER_DEF = \"/home/rlourenco/rdcep_clouds/output/m9-22_oceans/encoder.json\"\n",
    "ENCODER_WEIGHTS = \"/home/rlourenco/rdcep_clouds/output/m9-22_oceans/encoder.h5\"\n",
    "# N_CLUSTERS = 10"
   ]
  },
  {
   "cell_type": "code",
   "execution_count": null,
   "metadata": {},
   "outputs": [
    {
     "name": "stdout",
     "output_type": "stream",
     "text": [
      "Samples:  10000  Clusters:  2\n",
      "WARNING:tensorflow:From ../../reproduction/pipeline/load.py:143: parallel_interleave (from tensorflow.contrib.data.python.ops.interleave_ops) is deprecated and will be removed in a future version.\n",
      "Instructions for updating:\n",
      "Use `tf.data.experimental.parallel_interleave(...)`.\n",
      "WARNING:tensorflow:From ../../reproduction/pipeline/load.py:148: shuffle_and_repeat (from tensorflow.contrib.data.python.ops.shuffle_ops) is deprecated and will be removed in a future version.\n",
      "Instructions for updating:\n",
      "Use `tf.data.experimental.shuffle_and_repeat(...)`.\n",
      "WARNING:tensorflow:From ../../reproduction/pipeline/load.py:152: batch_and_drop_remainder (from tensorflow.contrib.data.python.ops.batching) is deprecated and will be removed in a future version.\n",
      "Instructions for updating:\n",
      "Use `tf.data.Dataset.batch(..., drop_remainder=True)`.\n",
      "Average Mutual information:  0.5003018236603322 MI_STD:  0.1973245413495136 Precision:  30\n",
      "Samples:  10000  Clusters:  3\n",
      "Average Mutual information:  0.6117280764819709 MI_STD:  0.10466845268991093 Precision:  30\n",
      "Samples:  10000  Clusters:  4\n",
      "Average Mutual information:  0.6156232527212082 MI_STD:  0.07000680095354271 Precision:  30\n",
      "Samples:  10000  Clusters:  5\n",
      "Average Mutual information:  0.6416274012107064 MI_STD:  0.06972692468655274 Precision:  30\n",
      "Samples:  10000  Clusters:  6\n",
      "Average Mutual information:  0.6265519965508679 MI_STD:  0.041293782727401536 Precision:  30\n",
      "Samples:  10000  Clusters:  7\n",
      "Average Mutual information:  0.6520465048752868 MI_STD:  0.0384921270700231 Precision:  30\n",
      "Samples:  10000  Clusters:  8\n",
      "Average Mutual information:  0.6495939805943731 MI_STD:  0.03324841575240882 Precision:  30\n",
      "Samples:  10000  Clusters:  9\n",
      "Average Mutual information:  0.656382566230394 MI_STD:  0.03405841011653007 Precision:  30\n",
      "Samples:  10000  Clusters:  10\n",
      "Average Mutual information:  0.6678578378716357 MI_STD:  0.032221833962230426 Precision:  30\n",
      "Samples:  10000  Clusters:  11\n",
      "Average Mutual information:  0.674447530497491 MI_STD:  0.024909009108495764 Precision:  30\n",
      "Samples:  10000  Clusters:  12\n",
      "Average Mutual information:  0.6858868098171557 MI_STD:  0.03309368753741777 Precision:  30\n",
      "Samples:  10000  Clusters:  13\n",
      "Average Mutual information:  0.6846795893978057 MI_STD:  0.025350754402533825 Precision:  30\n",
      "Samples:  10000  Clusters:  14\n",
      "Average Mutual information:  0.6921406815002082 MI_STD:  0.03120975196119291 Precision:  30\n",
      "Samples:  10000  Clusters:  15\n"
     ]
    }
   ],
   "source": [
    "result = gridsearch(2,1,40,max_samples=10000, sample_steps=2)"
   ]
  },
  {
   "cell_type": "code",
   "execution_count": null,
   "metadata": {
    "scrolled": true
   },
   "outputs": [
    {
     "name": "stdout",
     "output_type": "stream",
     "text": [
      "Samples:  54  Clusters:  2\n",
      "WARNING:tensorflow:From ../../reproduction/pipeline/load.py:143: parallel_interleave (from tensorflow.contrib.data.python.ops.interleave_ops) is deprecated and will be removed in a future version.\n",
      "Instructions for updating:\n",
      "Use `tf.data.experimental.parallel_interleave(...)`.\n",
      "WARNING:tensorflow:From ../../reproduction/pipeline/load.py:148: shuffle_and_repeat (from tensorflow.contrib.data.python.ops.shuffle_ops) is deprecated and will be removed in a future version.\n",
      "Instructions for updating:\n",
      "Use `tf.data.experimental.shuffle_and_repeat(...)`.\n",
      "WARNING:tensorflow:From ../../reproduction/pipeline/load.py:152: batch_and_drop_remainder (from tensorflow.contrib.data.python.ops.batching) is deprecated and will be removed in a future version.\n",
      "Instructions for updating:\n",
      "Use `tf.data.Dataset.batch(..., drop_remainder=True)`.\n",
      "Average Mutual information:  0.637374727264124 MI_STD:  0.32345079502786933 Precision:  30\n",
      "Samples:  54  Clusters:  3\n",
      "Average Mutual information:  0.7332971546702073 MI_STD:  0.20900686314266054 Precision:  30\n",
      "Samples:  54  Clusters:  4\n",
      "Average Mutual information:  0.7337189366528648 MI_STD:  0.1650970336124088 Precision:  30\n",
      "Samples:  54  Clusters:  5\n",
      "Average Mutual information:  0.7049696792139365 MI_STD:  0.11442450056664943 Precision:  30\n",
      "Samples:  54  Clusters:  6\n",
      "Average Mutual information:  0.7542339182793424 MI_STD:  0.13311748003695972 Precision:  30\n",
      "Samples:  54  Clusters:  7\n",
      "Average Mutual information:  0.7122616296128097 MI_STD:  0.12143520723315926 Precision:  30\n",
      "Samples:  54  Clusters:  8\n",
      "Average Mutual information:  0.7485661274944988 MI_STD:  0.11563231898106181 Precision:  30\n",
      "Samples:  54  Clusters:  9\n",
      "Average Mutual information:  0.7054886500195412 MI_STD:  0.12026427332943812 Precision:  30\n",
      "Samples:  54  Clusters:  10\n",
      "Average Mutual information:  0.7228989367497872 MI_STD:  0.09501405156832433 Precision:  30\n",
      "Samples:  54  Clusters:  11\n",
      "Average Mutual information:  0.7171447631927814 MI_STD:  0.10406955129127561 Precision:  30\n",
      "Samples:  54  Clusters:  12\n",
      "Average Mutual information:  0.6973195147494795 MI_STD:  0.1056259249469221 Precision:  30\n",
      "Samples:  54  Clusters:  13\n",
      "Average Mutual information:  0.6658438567206452 MI_STD:  0.10640194631799554 Precision:  30\n",
      "Samples:  54  Clusters:  14\n",
      "Average Mutual information:  0.6672206656522397 MI_STD:  0.07455813006838781 Precision:  30\n",
      "Samples:  54  Clusters:  15\n",
      "Average Mutual information:  0.6466125726842004 MI_STD:  0.11112222754358192 Precision:  30\n",
      "Samples:  54  Clusters:  16\n",
      "Average Mutual information:  0.6057134851720626 MI_STD:  0.0934325917533583 Precision:  30\n",
      "Samples:  54  Clusters:  17\n",
      "Average Mutual information:  0.5964109413499702 MI_STD:  0.1082014743829954 Precision:  30\n",
      "Samples:  54  Clusters:  18\n",
      "Average Mutual information:  0.5803481367090214 MI_STD:  0.10607325334333406 Precision:  30\n",
      "Samples:  54  Clusters:  19\n",
      "Average Mutual information:  0.5342135672102989 MI_STD:  0.10958158418432035 Precision:  30\n",
      "Samples:  54  Clusters:  20\n",
      "Average Mutual information:  0.48348909460150413 MI_STD:  0.10350194036386544 Precision:  30\n",
      "Samples:  54  Clusters:  21\n",
      "Average Mutual information:  0.42633158019688555 MI_STD:  0.09027327419086549 Precision:  30\n",
      "Samples:  54  Clusters:  22\n",
      "Average Mutual information:  0.39405279712102853 MI_STD:  0.08022429793527032 Precision:  30\n",
      "Samples:  54  Clusters:  23\n",
      "Average Mutual information:  0.3063953040404274 MI_STD:  0.07129578630397083 Precision:  30\n",
      "Samples:  54  Clusters:  24\n",
      "Average Mutual information:  0.25647754653802707 MI_STD:  0.07727890875902574 Precision:  30\n",
      "Samples:  54  Clusters:  25\n",
      "Average Mutual information:  0.1855405442837218 MI_STD:  0.04987753911193694 Precision:  30\n",
      "Samples:  54  Clusters:  26\n",
      "Average Mutual information:  0.09247545860497125 MI_STD:  0.022094419517788438 Precision:  30\n",
      "Samples:  736  Clusters:  2\n",
      "Average Mutual information:  0.5802501792564182 MI_STD:  0.21848238682361448 Precision:  30\n",
      "Samples:  736  Clusters:  3\n",
      "Average Mutual information:  0.6532116123606918 MI_STD:  0.14049163528451852 Precision:  30\n",
      "Samples:  736  Clusters:  4\n",
      "Average Mutual information:  0.6496528745660274 MI_STD:  0.10933573400068436 Precision:  30\n",
      "Samples:  736  Clusters:  5\n",
      "Average Mutual information:  0.6743942642623421 MI_STD:  0.0769257595780062 Precision:  30\n",
      "Samples:  736  Clusters:  6\n",
      "Average Mutual information:  0.6892203697100119 MI_STD:  0.05993569825508376 Precision:  30\n",
      "Samples:  736  Clusters:  7\n",
      "Average Mutual information:  0.6999694760427493 MI_STD:  0.06673927428006222 Precision:  30\n",
      "Samples:  736  Clusters:  8\n",
      "Average Mutual information:  0.6899298559346393 MI_STD:  0.06795240840945498 Precision:  30\n",
      "Samples:  736  Clusters:  9\n",
      "Average Mutual information:  0.7200742857996363 MI_STD:  0.053992254857964266 Precision:  30\n",
      "Samples:  736  Clusters:  10\n",
      "Average Mutual information:  0.7080559541233076 MI_STD:  0.05124499459301535 Precision:  30\n",
      "Samples:  736  Clusters:  11\n",
      "Average Mutual information:  0.7327683485306661 MI_STD:  0.051422731870466525 Precision:  30\n",
      "Samples:  736  Clusters:  12\n",
      "Average Mutual information:  0.719339591910232 MI_STD:  0.042789608590160844 Precision:  30\n",
      "Samples:  736  Clusters:  13\n",
      "Average Mutual information:  0.7331528667760725 MI_STD:  0.032366376038512265 Precision:  30\n",
      "Samples:  736  Clusters:  14\n",
      "Average Mutual information:  0.74502049949599 MI_STD:  0.04947588760138155 Precision:  30\n",
      "Samples:  736  Clusters:  15\n",
      "Average Mutual information:  0.7365845809174415 MI_STD:  0.04457467183327137 Precision:  30\n",
      "Samples:  736  Clusters:  16\n",
      "Average Mutual information:  0.7440804900008937 MI_STD:  0.04743825926872551 Precision:  30\n",
      "Samples:  736  Clusters:  17\n",
      "Average Mutual information:  0.7543334127127853 MI_STD:  0.05093534055088062 Precision:  30\n",
      "Samples:  736  Clusters:  18\n",
      "Average Mutual information:  0.744543803786161 MI_STD:  0.03566796660289693 Precision:  30\n",
      "Samples:  736  Clusters:  19\n",
      "Average Mutual information:  0.7475248501701944 MI_STD:  0.02829692832473569 Precision:  30\n",
      "Samples:  736  Clusters:  20\n",
      "Average Mutual information:  0.745645246509875 MI_STD:  0.04023830479626622 Precision:  30\n",
      "Samples:  736  Clusters:  21\n",
      "Average Mutual information:  0.755344093770861 MI_STD:  0.03006828339856742 Precision:  30\n",
      "Samples:  736  Clusters:  22\n",
      "Average Mutual information:  0.7543487754831162 MI_STD:  0.03720797329899324 Precision:  30\n",
      "Samples:  736  Clusters:  23\n",
      "Average Mutual information:  0.7489072595278441 MI_STD:  0.028252174978981432 Precision:  30\n",
      "Samples:  736  Clusters:  24\n",
      "Average Mutual information:  0.7508949468218682 MI_STD:  0.029746649352262663 Precision:  30\n",
      "Samples:  736  Clusters:  25\n",
      "Average Mutual information:  0.7496477037811432 MI_STD:  0.030764921851407712 Precision:  30\n",
      "Samples:  736  Clusters:  26\n",
      "Average Mutual information:  0.7438587512506821 MI_STD:  0.032156652846270194 Precision:  30\n",
      "Samples:  736  Clusters:  27\n",
      "Average Mutual information:  0.743869687355098 MI_STD:  0.030598567572382336 Precision:  30\n",
      "Samples:  736  Clusters:  28\n",
      "Average Mutual information:  0.757035915751635 MI_STD:  0.0338750684041228 Precision:  30\n",
      "Samples:  736  Clusters:  29\n",
      "Average Mutual information:  0.7548462476733785 MI_STD:  0.03053573275473419 Precision:  30\n",
      "Samples:  736  Clusters:  30\n",
      "Average Mutual information:  0.7540559582009118 MI_STD:  0.030732739502908484 Precision:  30\n",
      "Samples:  736  Clusters:  31\n",
      "Average Mutual information:  0.7581044978294222 MI_STD:  0.03150765405174274 Precision:  30\n",
      "Samples:  736  Clusters:  32\n",
      "Average Mutual information:  0.7542979401119871 MI_STD:  0.0295988252928582 Precision:  30\n",
      "Samples:  736  Clusters:  33\n",
      "Average Mutual information:  0.7624638641287993 MI_STD:  0.028425122051875206 Precision:  30\n",
      "Samples:  736  Clusters:  34\n",
      "Average Mutual information:  0.7547238585570645 MI_STD:  0.02956247693058476 Precision:  30\n",
      "Samples:  736  Clusters:  35\n",
      "Average Mutual information:  0.7501854090110547 MI_STD:  0.03309391114096888 Precision:  30\n",
      "Samples:  736  Clusters:  36\n",
      "Average Mutual information:  0.7522760256787911 MI_STD:  0.0348198419779827 Precision:  30\n",
      "Samples:  736  Clusters:  37\n",
      "Average Mutual information:  0.7642577470307538 MI_STD:  0.030548974862943747 Precision:  30\n",
      "Samples:  736  Clusters:  38\n"
     ]
    },
    {
     "name": "stdout",
     "output_type": "stream",
     "text": [
      "Average Mutual information:  0.7477828977060859 MI_STD:  0.019549828799583228 Precision:  30\n",
      "Samples:  736  Clusters:  39\n",
      "Average Mutual information:  0.7592828468095654 MI_STD:  0.032759001947130655 Precision:  30\n",
      "Samples:  10000  Clusters:  2\n",
      "Average Mutual information:  0.5296795456765903 MI_STD:  0.1929682240383342 Precision:  30\n",
      "Samples:  10000  Clusters:  3\n",
      "Average Mutual information:  0.6048012516521581 MI_STD:  0.10163397375612432 Precision:  30\n",
      "Samples:  10000  Clusters:  4\n",
      "Average Mutual information:  0.6064302004689536 MI_STD:  0.08020232958258182 Precision:  30\n",
      "Samples:  10000  Clusters:  5\n",
      "Average Mutual information:  0.6178682870211566 MI_STD:  0.04727019334344826 Precision:  30\n",
      "Samples:  10000  Clusters:  6\n",
      "Average Mutual information:  0.6475343950799516 MI_STD:  0.045927190171492036 Precision:  30\n",
      "Samples:  10000  Clusters:  7\n",
      "Average Mutual information:  0.6462362170173777 MI_STD:  0.0455663834358556 Precision:  30\n",
      "Samples:  10000  Clusters:  8\n",
      "Average Mutual information:  0.6510481005252343 MI_STD:  0.04547382460316275 Precision:  30\n",
      "Samples:  10000  Clusters:  9\n"
     ]
    }
   ],
   "source": [
    "result = gridsearch(2,1,40,max_samples=10000, sample_steps=4)"
   ]
  },
  {
   "cell_type": "code",
   "execution_count": null,
   "metadata": {},
   "outputs": [],
   "source": [
    "result\n",
    "--"
   ]
  },
  {
   "cell_type": "code",
   "execution_count": null,
   "metadata": {},
   "outputs": [],
   "source": [
    "df = pd.DataFrame(result)\n",
    "df.columns = [\"Samples\", \"Clusters\", \"MInfo\"]"
   ]
  },
  {
   "cell_type": "markdown",
   "metadata": {},
   "source": [
    "# Mutual Information Plots"
   ]
  },
  {
   "cell_type": "markdown",
   "metadata": {},
   "source": [
    "### 28 Samples, 13 clusters maximum"
   ]
  },
  {
   "cell_type": "code",
   "execution_count": null,
   "metadata": {},
   "outputs": [],
   "source": [
    "%matplotlib inline\n",
    "\n",
    "plt.xlim(0,40)\n",
    "plt.ylim(0,1)\n",
    "y_28 =  df.loc[df['Samples'] == 28]\n",
    "x_28 = y_28['Clusters']\n",
    "plt.plot(x_28, y_28[\"MInfo\"])\n",
    "plt.show()\n"
   ]
  },
  {
   "cell_type": "markdown",
   "metadata": {},
   "source": [
    "### 200 Samples, 40 clusters maximum"
   ]
  },
  {
   "cell_type": "code",
   "execution_count": null,
   "metadata": {},
   "outputs": [],
   "source": [
    "%matplotlib inline\n",
    "\n",
    "plt.xlim(0,40)\n",
    "plt.ylim(0,1)\n",
    "y_200 =  df.loc[df['Samples'] == 200]\n",
    "x_200 = y_200['Clusters']\n",
    "plt.plot(x_200, y_200[\"MInfo\"])\n",
    "plt.show()"
   ]
  },
  {
   "cell_type": "markdown",
   "metadata": {},
   "source": [
    "### 1414 Samples, 40 clusters maximum"
   ]
  },
  {
   "cell_type": "code",
   "execution_count": null,
   "metadata": {},
   "outputs": [],
   "source": [
    "%matplotlib inline\n",
    "\n",
    "plt.xlim(0,40)\n",
    "plt.ylim(0,1)\n",
    "y_200 =  df.loc[df['Samples'] == 1414]\n",
    "x_200 = y_200['Clusters']\n",
    "plt.plot(x_200, y_200[\"MInfo\"])\n",
    "plt.show()"
   ]
  },
  {
   "cell_type": "markdown",
   "metadata": {},
   "source": [
    "### 10000 Samples, 13 clusters maximum"
   ]
  },
  {
   "cell_type": "code",
   "execution_count": null,
   "metadata": {},
   "outputs": [],
   "source": [
    "%matplotlib inline\n",
    "\n",
    "plt.xlim(0,40)\n",
    "plt.ylim(0,1)\n",
    "y_200 =  df.loc[df['Samples'] == 10000]\n",
    "x_200 = y_200['Clusters']\n",
    "plt.plot(x_200, y_200[\"MInfo\"])\n",
    "plt.show()"
   ]
  },
  {
   "cell_type": "markdown",
   "metadata": {},
   "source": [
    "#### Best result seems to be when using 200 samples, with 9 clusters, with a MI score of 0.84."
   ]
  },
  {
   "cell_type": "code",
   "execution_count": null,
   "metadata": {},
   "outputs": [],
   "source": [
    "---"
   ]
  },
  {
   "cell_type": "code",
   "execution_count": null,
   "metadata": {},
   "outputs": [],
   "source": [
    "# result = gridsearch(2,1,500)\n",
    "N_CLUSTERS = 9 #result[0]\n",
    "# HiMI = #result[1]"
   ]
  },
  {
   "cell_type": "code",
   "execution_count": null,
   "metadata": {},
   "outputs": [],
   "source": [
    "with open(ENCODER_DEF,\"r\") as f:\n",
    "    encoder = tf.keras.models.model_from_json(f.read())\n",
    "encoder.load_weights(ENCODER_WEIGHTS)"
   ]
  },
  {
   "cell_type": "code",
   "execution_count": null,
   "metadata": {},
   "outputs": [],
   "source": [
    "data = analysis.AEData(load_data(DATA, encoder.input_shape[1:]), n=200)\n",
    "data.add_encoder(encoder)"
   ]
  },
  {
   "cell_type": "code",
   "execution_count": null,
   "metadata": {},
   "outputs": [],
   "source": [
    "m1 = AgglomerativeClustering(n_clusters=N_CLUSTERS)\n",
    "m1.fit(data.encs[:100])\n",
    "ag1 = AgglomerativeClustering(n_clusters=N_CLUSTERS).fit_predict(data.encs[:100])\n",
    "\n",
    "m2 = AgglomerativeClustering(n_clusters=N_CLUSTERS)\n",
    "m2.fit(data.encs)\n",
    "ag2 = AgglomerativeClustering(n_clusters=N_CLUSTERS).fit_predict(data.encs)"
   ]
  },
  {
   "cell_type": "code",
   "execution_count": null,
   "metadata": {
    "scrolled": true
   },
   "outputs": [],
   "source": [
    "# Number of bins\n",
    "nbins=N_CLUSTERS\n",
    "\n",
    "plt.figure(figsize=(8,8))\n",
    "plt.hist2d(ag1, ag2[:100], bins=nbins);\n",
    "plt.title(\"Cluster overlap\")\n",
    "plt.xticks(range(0, nbins, 5)); plt.yticks(range(0, nbins, 5));\n",
    "plt.xlabel(\"ag 10000\"); plt.ylabel(\"ag 5000\");\n",
    "plt.colorbar()\n",
    "print('Mutual Information score: ',sklearn.metrics.adjusted_mutual_info_score(ag1, ag2[:100]))"
   ]
  },
  {
   "cell_type": "code",
   "execution_count": null,
   "metadata": {},
   "outputs": [],
   "source": [
    "overlap = data.imgs[:100,:,:,0][ag1 == ag2[:100]]\n",
    "overlap_c = ag1[ag1 == ag2[:100]]\n",
    "\n"
   ]
  },
  {
   "cell_type": "code",
   "execution_count": null,
   "metadata": {},
   "outputs": [],
   "source": [
    "fig, ax = plt.subplots(5, 8, figsize=(16, 10))\n",
    "\n",
    "clu = data.imgs[:100,:,:,0][ag1 == 2]\n",
    "\n",
    "for i, a in enumerate(ax.ravel()):\n",
    "    a.imshow(clu[i], cmap=\"bone\")\n",
    "    a.set_xticks([])\n",
    "    a.set_yticks([])\n",
    "\n"
   ]
  },
  {
   "cell_type": "code",
   "execution_count": null,
   "metadata": {},
   "outputs": [],
   "source": [
    "\n",
    "from scipy.cluster.hierarchy import dendrogram"
   ]
  },
  {
   "cell_type": "code",
   "execution_count": null,
   "metadata": {},
   "outputs": [],
   "source": [
    "def plot_dendrogram(model, **kwargs):\n",
    "\n",
    "    # Children of hierarchical clustering\n",
    "    children = model.children_\n",
    "\n",
    "    # Distances between each pair of children\n",
    "    # Since we don't have this information, we can use a uniform one for plotting\n",
    "    distance = np.arange(children.shape[0])\n",
    "\n",
    "    # The number of observations contained in each cluster level\n",
    "    no_of_observations = np.arange(2, children.shape[0]+2)\n",
    "\n",
    "    # Create linkage matrix and then plot the dendrogram\n",
    "    linkage_matrix = np.column_stack([children, distance, no_of_observations]).astype(float)\n",
    "\n",
    "    # Plot the corresponding dendrogram\n",
    "    dendrogram(linkage_matrix, **kwargs)\n",
    "\n"
   ]
  },
  {
   "cell_type": "markdown",
   "metadata": {},
   "source": [
    "That's hard to interpretate..."
   ]
  },
  {
   "cell_type": "code",
   "execution_count": null,
   "metadata": {},
   "outputs": [],
   "source": [
    "plt.figure(figsize=(500,100))\n",
    "plot_dendrogram(m2, labels=m2.labels_)"
   ]
  },
  {
   "cell_type": "code",
   "execution_count": null,
   "metadata": {},
   "outputs": [],
   "source": []
  }
 ],
 "metadata": {
  "kernelspec": {
   "display_name": "Python 3",
   "language": "python",
   "name": "python3"
  },
  "language_info": {
   "codemirror_mode": {
    "name": "ipython",
    "version": 3
   },
   "file_extension": ".py",
   "mimetype": "text/x-python",
   "name": "python",
   "nbconvert_exporter": "python",
   "pygments_lexer": "ipython3",
   "version": "3.6.7"
  }
 },
 "nbformat": 4,
 "nbformat_minor": 2
}
