{
 "cells": [
  {
   "cell_type": "code",
   "execution_count": null,
   "metadata": {},
   "outputs": [],
   "source": [
    "%load_ext autoreload\n",
    "%autoreload 2\n",
    "\n",
    "import sklearn\n",
    "import os, sys\n",
    "import numpy as np\n",
    "import tensorflow as tf\n",
    "from sklearn.cluster import KMeans, AgglomerativeClustering, SpectralClustering\n",
    "from scipy import interpolate\n",
    "from matplotlib import pyplot as plt\n",
    "from matplotlib.colors import LogNorm\n",
    "\n",
    "sys.path.insert(1, os.path.join(sys.path[0], \"..\"))\n",
    "sys.path.append('../../')\n",
    "from reproduction.pipeline.load import load_data\n",
    "from reproduction import analysis"
   ]
  },
  {
   "cell_type": "code",
   "execution_count": null,
   "metadata": {},
   "outputs": [],
   "source": [
    "def gridsearch(start, step, stop, max_samples=5000, sample_steps=4):\n",
    "    with open(ENCODER_DEF,\"r\") as f:\n",
    "            encoder = tf.keras.models.model_from_json(f.read())\n",
    "    encoder.load_weights(ENCODER_WEIGHTS)\n",
    "    \n",
    "    samples = int(np.logspace(np.log10(2), np.log10(max_samples), num=sample_steps))\n",
    "    for i in samples:\n",
    "        data = analysis.AEData(load_data(DATA, encoder.input_shape[1:]), n=i)\n",
    "        data.add_encoder(encoder)\n",
    "        search_results = [] # Force initialization\n",
    "        for j in range(start, stop, step):\n",
    "            N_CLUSTERS = j\n",
    "            ag1 = AgglomerativeClustering(n_clusters=N_CLUSTERS).fit_predict(data.encs[:int(i/2)])\n",
    "            ag2 = AgglomerativeClustering(n_clusters=N_CLUSTERS).fit_predict(data.encs)\n",
    "            minfo = sklearn.metrics.adjusted_mutual_info_score(ag1, ag2[:int(i/2)])\n",
    "            # print('Clusters: ',N_CLUSTERS,' Mutual information: ', minfo)\n",
    "            search_results.append((i, N_CLUSTERS, minfo))\n",
    "    return search_results\n",
    "    "
   ]
  },
  {
   "cell_type": "code",
   "execution_count": null,
   "metadata": {},
   "outputs": [],
   "source": [
    "DATA = \"/project/foster/clouds/data/2015_05/*.tfrecord\"\n",
    "ENCODER_DEF = \"/home/rlourenco/rdcep_clouds/output/m9-22_oceans/encoder.json\"\n",
    "ENCODER_WEIGHTS = \"/home/rlourenco/rdcep_clouds/output/m9-22_oceans/encoder.h5\"\n",
    "# N_CLUSTERS = 10"
   ]
  },
  {
   "cell_type": "code",
   "execution_count": null,
   "metadata": {},
   "outputs": [],
   "source": [
    "result = gridsearch(2,1,500)\n",
    "N_CLUSTERS = result[0]\n",
    "HiMI = result[1]\n",
    "print('Best result: Clusters# ',N_CLUSTERS,' Mutual information# ', HiMI)"
   ]
  },
  {
   "cell_type": "code",
   "execution_count": null,
   "metadata": {},
   "outputs": [],
   "source": [
    "with open(ENCODER_DEF,\"r\") as f:\n",
    "    encoder = tf.keras.models.model_from_json(f.read())\n",
    "encoder.load_weights(ENCODER_WEIGHTS)"
   ]
  },
  {
   "cell_type": "code",
   "execution_count": null,
   "metadata": {},
   "outputs": [],
   "source": [
    "data = analysis.AEData(load_data(DATA, encoder.input_shape[1:]), n=5000)\n",
    "data.add_encoder(encoder)"
   ]
  },
  {
   "cell_type": "code",
   "execution_count": null,
   "metadata": {},
   "outputs": [],
   "source": [
    "ag1 = AgglomerativeClustering(n_clusters=N_CLUSTERS).fit_predict(data.encs[:2500])\n",
    "ag2 = AgglomerativeClustering(n_clusters=N_CLUSTERS).fit_predict(data.encs)"
   ]
  },
  {
   "cell_type": "code",
   "execution_count": null,
   "metadata": {},
   "outputs": [],
   "source": [
    "# Number of bins\n",
    "nbins=N_CLUSTERS\n",
    "\n",
    "plt.figure(figsize=(8,8))\n",
    "plt.hist2d(ag1, ag2[:2500], bins=nbins);\n",
    "plt.title(\"Cluster overlap\")\n",
    "plt.xticks(range(0, nbins, 5)); plt.yticks(range(0, nbins, 5));\n",
    "plt.xlabel(\"ag 5000\"); plt.ylabel(\"ag 2500\");\n",
    "plt.colorbar()\n",
    "print('Mutual Information score: ',sklearn.metrics.adjusted_mutual_info_score(ag1, ag2[:2500]))"
   ]
  },
  {
   "cell_type": "code",
   "execution_count": null,
   "metadata": {},
   "outputs": [],
   "source": [
    "overlap = data.imgs[:2500,:,:,0][ag1 == ag2[:2500]]\n",
    "overlap_c = ag1[ag1 == ag2[:2500]]\n",
    "\n"
   ]
  },
  {
   "cell_type": "code",
   "execution_count": null,
   "metadata": {},
   "outputs": [],
   "source": [
    "fig, ax = plt.subplots(5, 8, figsize=(16, 10))\n",
    "\n",
    "clu = data.imgs[:2500,:,:,0][ag1 == 3]\n",
    "\n",
    "for i, a in enumerate(ax.ravel()):\n",
    "    a.imshow(clu[i], cmap=\"bone\")\n",
    "    a.set_xticks([])\n",
    "    a.set_yticks([])\n",
    "\n"
   ]
  },
  {
   "cell_type": "code",
   "execution_count": null,
   "metadata": {},
   "outputs": [],
   "source": [
    "\n",
    "from scipy.cluster.hierarchy import dendrogram"
   ]
  },
  {
   "cell_type": "code",
   "execution_count": null,
   "metadata": {},
   "outputs": [],
   "source": [
    "def plot_dendrogram(model, **kwargs):\n",
    "\n",
    "    # Children of hierarchical clustering\n",
    "    children = model.children_\n",
    "\n",
    "    # Distances between each pair of children\n",
    "    # Since we don't have this information, we can use a uniform one for plotting\n",
    "    distance = np.arange(children.shape[0])\n",
    "\n",
    "    # The number of observations contained in each cluster level\n",
    "    no_of_observations = np.arange(2, children.shape[0]+2)\n",
    "\n",
    "    # Create linkage matrix and then plot the dendrogram\n",
    "    linkage_matrix = np.column_stack([children, distance, no_of_observations]).astype(float)\n",
    "\n",
    "    # Plot the corresponding dendrogram\n",
    "    dendrogram(linkage_matrix, **kwargs)\n",
    "\n"
   ]
  },
  {
   "cell_type": "markdown",
   "metadata": {},
   "source": [
    "Well that's not useful..."
   ]
  },
  {
   "cell_type": "code",
   "execution_count": null,
   "metadata": {},
   "outputs": [],
   "source": [
    "plt.figure(figsize=(500,100))\n",
    "plot_dendrogram(ag2, labels=ag2.labels_)"
   ]
  },
  {
   "cell_type": "code",
   "execution_count": null,
   "metadata": {},
   "outputs": [],
   "source": [
    "ag2."
   ]
  }
 ],
 "metadata": {
  "kernelspec": {
   "display_name": "Python 3",
   "language": "python",
   "name": "python3"
  },
  "language_info": {
   "codemirror_mode": {
    "name": "ipython",
    "version": 3
   },
   "file_extension": ".py",
   "mimetype": "text/x-python",
   "name": "python",
   "nbconvert_exporter": "python",
   "pygments_lexer": "ipython3",
   "version": "3.6.7"
  }
 },
 "nbformat": 4,
 "nbformat_minor": 2
}
