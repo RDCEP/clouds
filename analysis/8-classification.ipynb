{
 "cells": [
  {
   "cell_type": "code",
   "execution_count": 17,
   "metadata": {},
   "outputs": [
    {
     "name": "stdout",
     "output_type": "stream",
     "text": [
      "The autoreload extension is already loaded. To reload it, use:\n",
      "  %reload_ext autoreload\n"
     ]
    }
   ],
   "source": [
    "%load_ext autoreload\n",
    "%autoreload 2\n",
    "\n",
    "import sys\n",
    "import os\n",
    "import sklearn\n",
    "import numpy as np\n",
    "import tensorflow as tf\n",
    "import matplotlib.pyplot as plt\n",
    "\n",
    "sys.path.insert(1, os.path.join(sys.path[0], \"..\"))\n",
    "from reproduction.pipeline import load\n",
    "from reproduction import analysis, models"
   ]
  },
  {
   "cell_type": "code",
   "execution_count": 18,
   "metadata": {},
   "outputs": [],
   "source": [
    "model_dir = \"../output/mod09cnn15/\"\n",
    "\n",
    "encoder, decoder = models.autoencoder(shape=(None, None, 7), data_format=\"channels_last\")\n",
    "\n",
    "encoder.load_weights(model_dir + \"encoder.h5\")\n",
    "decoder.load_weights(model_dir + \"decoder.h5\")"
   ]
  },
  {
   "cell_type": "code",
   "execution_count": 19,
   "metadata": {},
   "outputs": [],
   "source": [
    "def load_data(data_glob):\n",
    "    return load.load_data(\n",
    "        data_glob,\n",
    "        shape=(128, 128, 7),\n",
    "        batch_size=32,\n",
    "        read_threads=4,\n",
    "        shuffle_buffer_size=100,\n",
    "        prefetch=2\n",
    "    )"
   ]
  },
  {
   "cell_type": "code",
   "execution_count": 20,
   "metadata": {},
   "outputs": [],
   "source": [
    "open_cells = \n",
    "closed_cells = load_data(\"../data/open-recs/*.tfrecord\")\n",
    "clouds = load_data(\"../data/tif/*.tfrecord\")"
   ]
  },
  {
   "cell_type": "code",
   "execution_count": 21,
   "metadata": {},
   "outputs": [],
   "source": [
    "open_cells = analysis.AEData(\n",
    "    load_data(\"../data/open-recs/*.tfrecord\"),\n",
    "    n=5000\n",
    ")"
   ]
  },
  {
   "cell_type": "code",
   "execution_count": 22,
   "metadata": {},
   "outputs": [],
   "source": [
    "closed_cells = analysis.AEData(\n",
    "    load_data(\"../data/closed-recs/*.tfrecord\"),\n",
    "    n=5000\n",
    ")"
   ]
  },
  {
   "cell_type": "code",
   "execution_count": null,
   "metadata": {},
   "outputs": [],
   "source": [
    "clouds = analysis.AEData(\n",
    "    load_data(\"../data/tif/*.tfrecord\"),\n",
    "    n=10000\n",
    ")"
   ]
  },
  {
   "cell_type": "code",
   "execution_count": null,
   "metadata": {},
   "outputs": [],
   "source": []
  }
 ],
 "metadata": {
  "kernelspec": {
   "display_name": "Python (clouds)",
   "language": "python",
   "name": "clouds"
  },
  "language_info": {
   "codemirror_mode": {
    "name": "ipython",
    "version": 3
   },
   "file_extension": ".py",
   "mimetype": "text/x-python",
   "name": "python",
   "nbconvert_exporter": "python",
   "pygments_lexer": "ipython3",
   "version": "3.6.6"
  }
 },
 "nbformat": 4,
 "nbformat_minor": 2
}
