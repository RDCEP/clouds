{
 "cells": [
  {
   "cell_type": "code",
   "execution_count": null,
   "metadata": {},
   "outputs": [],
   "source": [
    "%load_ext autoreload\n",
    "%autoreload 2\n",
    "\n",
    "import os, sys\n",
    "import numpy as np\n",
    "import sklearn\n",
    "import itertools\n",
    "import tensorflow as tf\n",
    "from osgeo import gdal\n",
    "from matplotlib import patches as mpl_patches\n",
    "from matplotlib.colors import Colormap\n",
    "from sklearn.cluster import KMeans, AgglomerativeClustering, SpectralClustering\n",
    "from matplotlib import pyplot as plt\n",
    "from matplotlib.colors import LogNorm\n",
    "\n",
    "# reproduction module\n",
    "sys.path.insert(1, os.path.join(sys.path[0], \"..\"))\n",
    "from reproduction.pipeline.load import load_data\n",
    "from reproduction import analysis\n",
    "from reproduction.pipeline import into_record"
   ]
  },
  {
   "cell_type": "code",
   "execution_count": 3,
   "metadata": {},
   "outputs": [],
   "source": [
    "import itertools"
   ]
  },
  {
   "cell_type": "code",
   "execution_count": 4,
   "metadata": {
    "scrolled": false
   },
   "outputs": [
    {
     "name": "stdout",
     "output_type": "stream",
     "text": [
      "2017-01-01_MOD09GA_closed-cell.tif  2017-01-16_MOD09GA_open-cell.tif\r\n",
      "2017-01-01_MOD09GA_open-cell.tif    2017-01-17_MOD09GA_closed-cell.tif\r\n",
      "2017-01-02_MOD09GA_closed-cell.tif  2017-01-17_MOD09GA_open-cell.tif\r\n",
      "2017-01-02_MOD09GA_open-cell.tif    2017-01-18_MOD09GA_closed-cell.tif\r\n",
      "2017-01-03_MOD09GA_closed-cell.tif  2017-01-18_MOD09GA_open-cell.tif\r\n",
      "2017-01-03_MOD09GA_open-cell.tif    2017-01-19_MOD09GA_closed-cell.tif\r\n",
      "2017-01-04_MOD09GA_closed-cell.tif  2017-01-19_MOD09GA_open-cell.tif\r\n",
      "2017-01-04_MOD09GA_open-cell.tif    2017-01-20_MOD09GA_closed-cell.tif\r\n",
      "2017-01-05_MOD09GA_closed-cell.tif  2017-01-20_MOD09GA_open-cell.tif\r\n",
      "2017-01-05_MOD09GA_open-cell.tif    2017-01-21_MOD09GA_closed-cell.tif\r\n",
      "2017-01-06_MOD09GA_closed-cell.tif  2017-01-21_MOD09GA_open-cell.tif\r\n",
      "2017-01-06_MOD09GA_open-cell.tif    2017-01-22_MOD09GA_closed-cell.tif\r\n",
      "2017-01-07_MOD09GA_closed-cell.tif  2017-01-22_MOD09GA_open-cell.tif\r\n",
      "2017-01-07_MOD09GA_open-cell.tif    2017-01-23_MOD09GA_closed-cell.tif\r\n",
      "2017-01-08_MOD09GA_closed-cell.tif  2017-01-23_MOD09GA_open-cell.tif\r\n",
      "2017-01-08_MOD09GA_open-cell.tif    2017-01-24_MOD09GA_closed-cell.tif\r\n",
      "2017-01-09_MOD09GA_closed-cell.tif  2017-01-24_MOD09GA_open-cell.tif\r\n",
      "2017-01-09_MOD09GA_open-cell.tif    2017-01-25_MOD09GA_closed-cell.tif\r\n",
      "2017-01-10_MOD09GA_closed-cell.tif  2017-01-25_MOD09GA_open-cell.tif\r\n",
      "2017-01-10_MOD09GA_open-cell.tif    2017-01-26_MOD09GA_closed-cell.tif\r\n",
      "2017-01-11_MOD09GA_closed-cell.tif  2017-01-26_MOD09GA_open-cell.tif\r\n",
      "2017-01-11_MOD09GA_open-cell.tif    2017-01-27_MOD09GA_closed-cell.tif\r\n",
      "2017-01-12_MOD09GA_closed-cell.tif  2017-01-27_MOD09GA_open-cell.tif\r\n",
      "2017-01-12_MOD09GA_open-cell.tif    2017-01-28_MOD09GA_closed-cell.tif\r\n",
      "2017-01-13_MOD09GA_closed-cell.tif  2017-01-28_MOD09GA_open-cell.tif\r\n",
      "2017-01-13_MOD09GA_open-cell.tif    2017-01-29_MOD09GA_closed-cell.tif\r\n",
      "2017-01-14_MOD09GA_closed-cell.tif  2017-01-29_MOD09GA_open-cell.tif\r\n",
      "2017-01-14_MOD09GA_open-cell.tif    2017-01-30_MOD09GA_closed-cell.tif\r\n",
      "2017-01-15_MOD09GA_closed-cell.tif  2017-01-30_MOD09GA_open-cell.tif\r\n",
      "2017-01-15_MOD09GA_open-cell.tif    2017-01-31_MOD09GA_closed-cell.tif\r\n",
      "2017-01-16_MOD09GA_closed-cell.tif  2017-01-31_MOD09GA_open-cell.tif\r\n"
     ]
    }
   ],
   "source": [
    "!ls /project/foster/clouds/data/gee/closed_open_cell/2017_01_MOD09GA"
   ]
  },
  {
   "cell_type": "markdown",
   "metadata": {},
   "source": [
    "# m9-22 (model15b trained by only ocean data )"
   ]
  },
  {
   "cell_type": "code",
   "execution_count": null,
   "metadata": {},
   "outputs": [],
   "source": [
    "model_dir = \"/home/tkurihana/clouds/output/m9-22_oceans/\"\n",
    "\n",
    "def load_model(model_dir, name):\n",
    "    with open(model_dir + name + \".json\", \"r\") as f:\n",
    "        model = tf.keras.models.model_from_json(f.read())\n",
    "    model.load_weights(model_dir + name + \".h5\")\n",
    "    return model\n",
    "\n",
    "encoder = load_model(model_dir, \"encoder\")\n",
    "decoder = load_model(model_dir, \"decoder\")\n",
    "# encoder, decoder = autoencoder(shape=(None, None, 7), data_format=\"channels_last\"\n",
    "encoder.load_weights(model_dir + \"encoder.h5\")\n",
    "decoder.load_weights(model_dir + \"decoder.h5\")"
   ]
  }
 ],
 "metadata": {
  "kernelspec": {
   "display_name": "Python 3",
   "language": "python",
   "name": "python3"
  },
  "language_info": {
   "codemirror_mode": {
    "name": "ipython",
    "version": 3
   },
   "file_extension": ".py",
   "mimetype": "text/x-python",
   "name": "python",
   "nbconvert_exporter": "python",
   "pygments_lexer": "ipython3",
   "version": "3.6.6"
  }
 },
 "nbformat": 4,
 "nbformat_minor": 2
}
