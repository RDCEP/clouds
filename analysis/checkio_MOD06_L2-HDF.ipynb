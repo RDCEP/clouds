{
 "cells": [
  {
   "cell_type": "code",
   "execution_count": 5,
   "metadata": {},
   "outputs": [],
   "source": [
    "import os\n",
    "import sys\n",
    "import numpy as np\n",
    "from pyhdf.SD import SD, SDC\n",
    "import matplotlib\n",
    "import matplotlib.pyplot as plt\n",
    "from mpl_toolkits.basemap import Basemap"
   ]
  },
  {
   "cell_type": "code",
   "execution_count": 3,
   "metadata": {},
   "outputs": [],
   "source": [
    "datadir = '/home/tkurihana/scratch-midway2/data/MOD06/01'"
   ]
  },
  {
   "cell_type": "code",
   "execution_count": 4,
   "metadata": {},
   "outputs": [],
   "source": [
    "filename = 'MYDATML2.A2017001.0610.061.2018029080342.hdf'"
   ]
  },
  {
   "cell_type": "code",
   "execution_count": 6,
   "metadata": {},
   "outputs": [],
   "source": [
    "ifile = datadir + '/' + filename\n",
    "hdf = SD(ifile, SDC.READ)"
   ]
  },
  {
   "cell_type": "code",
   "execution_count": 13,
   "metadata": {},
   "outputs": [
    {
     "name": "stdout",
     "output_type": "stream",
     "text": [
      "{'Latitude': (('Cell_Along_Swath_5km:atml2', 'Cell_Across_Swath_5km:atml2'), (406, 271), 5, 0), 'Longitude': (('Cell_Along_Swath_5km:atml2', 'Cell_Across_Swath_5km:atml2'), (406, 271), 5, 1), 'Cloud_Optical_Thickness': (('Cell_Along_Swath_5km:atml2', 'Cell_Across_Swath_5km:atml2'), (406, 271), 22, 2), 'Cloud_Effective_Radius': (('Cell_Along_Swath_5km:atml2', 'Cell_Across_Swath_5km:atml2'), (406, 271), 22, 3), 'Cloud_Water_Path': (('Cell_Along_Swath_5km:atml2', 'Cell_Across_Swath_5km:atml2'), (406, 271), 22, 4), 'Cloud_Optical_Thickness_1621': (('Cell_Along_Swath_5km:atml2', 'Cell_Across_Swath_5km:atml2'), (406, 271), 22, 5), 'Cloud_Effective_Radius_1621': (('Cell_Along_Swath_5km:atml2', 'Cell_Across_Swath_5km:atml2'), (406, 271), 22, 6), 'Cloud_Water_Path_1621': (('Cell_Along_Swath_5km:atml2', 'Cell_Across_Swath_5km:atml2'), (406, 271), 22, 7), 'Cloud_Optical_Thickness_Uncertainty': (('Cell_Along_Swath_5km:atml2', 'Cell_Across_Swath_5km:atml2'), (406, 271), 22, 8), 'Cloud_Effective_Radius_Uncertainty': (('Cell_Along_Swath_5km:atml2', 'Cell_Across_Swath_5km:atml2'), (406, 271), 22, 9), 'Cloud_Water_Path_Uncertainty': (('Cell_Along_Swath_5km:atml2', 'Cell_Across_Swath_5km:atml2'), (406, 271), 22, 10), 'Cloud_Optical_Thickness_Uncertainty_1621': (('Cell_Along_Swath_5km:atml2', 'Cell_Across_Swath_5km:atml2'), (406, 271), 22, 11), 'Cloud_Effective_Radius_Uncertainty_1621': (('Cell_Along_Swath_5km:atml2', 'Cell_Across_Swath_5km:atml2'), (406, 271), 22, 12), 'Cloud_Water_Path_Uncertainty_1621': (('Cell_Along_Swath_5km:atml2', 'Cell_Across_Swath_5km:atml2'), (406, 271), 22, 13), 'Cloud_Phase_Optical_Properties': (('Cell_Along_Swath_5km:atml2', 'Cell_Across_Swath_5km:atml2'), (406, 271), 20, 14), 'Cloud_Phase_Infrared': (('Cell_Along_Swath_5km:atml2', 'Cell_Across_Swath_5km:atml2'), (406, 271), 20, 15), 'Cloud_Quality_Assurance': (('Cell_Along_Swath_5km:atml2', 'Cell_Across_Swath_5km:atml2', 'QA_Parameter_5km:atml2'), (406, 271, 9), 20, 16), 'Cirrus_Reflectance': (('Cell_Along_Swath_5km:atml2', 'Cell_Across_Swath_5km:atml2'), (406, 271), 22, 17), 'Cloud_Top_Pressure': (('Cell_Along_Swath_5km:atml2', 'Cell_Across_Swath_5km:atml2'), (406, 271), 22, 18), 'Cloud_Top_Temperature': (('Cell_Along_Swath_5km:atml2', 'Cell_Across_Swath_5km:atml2'), (406, 271), 22, 19), 'Cloud_Fraction': (('Cell_Along_Swath_5km:atml2', 'Cell_Across_Swath_5km:atml2'), (406, 271), 20, 20), 'Precipitable_Water_Infrared_ClearSky': (('Cell_Along_Swath_5km:atml2', 'Cell_Across_Swath_5km:atml2'), (406, 271), 22, 21), 'Cloud_Mask': (('Byte_Segment:atml2', 'Cell_Along_Swath_5km:atml2', 'Cell_Across_Swath_5km:atml2'), (1, 406, 271), 20, 22), 'Total_Ozone': (('Cell_Along_Swath_5km:atml2', 'Cell_Across_Swath_5km:atml2'), (406, 271), 22, 23), 'Lifted_Index': (('Cell_Along_Swath_5km:atml2', 'Cell_Across_Swath_5km:atml2'), (406, 271), 22, 24), 'K_Index': (('Cell_Along_Swath_5km:atml2', 'Cell_Across_Swath_5km:atml2'), (406, 271), 22, 25), 'Total_Totals_Index': (('Cell_Along_Swath_5km:atml2', 'Cell_Across_Swath_5km:atml2'), (406, 271), 22, 26), 'Precipitable_Water_Near_Infrared_ClearSky': (('Cell_Along_Swath_5km:atml2', 'Cell_Across_Swath_5km:atml2'), (406, 271), 22, 27), 'Cloud_Optical_Thickness_PCL': (('Cell_Along_Swath_5km:atml2', 'Cell_Across_Swath_5km:atml2'), (406, 271), 22, 28), 'Cloud_Optical_Thickness_16': (('Cell_Along_Swath_5km:atml2', 'Cell_Across_Swath_5km:atml2'), (406, 271), 22, 29), 'Cloud_Optical_Thickness_16_PCL': (('Cell_Along_Swath_5km:atml2', 'Cell_Across_Swath_5km:atml2'), (406, 271), 22, 30), 'Cloud_Optical_Thickness_37': (('Cell_Along_Swath_5km:atml2', 'Cell_Across_Swath_5km:atml2'), (406, 271), 22, 31), 'Cloud_Optical_Thickness_37_PCL': (('Cell_Along_Swath_5km:atml2', 'Cell_Across_Swath_5km:atml2'), (406, 271), 22, 32), 'Cloud_Optical_Thickness_Uncertainty_16': (('Cell_Along_Swath_5km:atml2', 'Cell_Across_Swath_5km:atml2'), (406, 271), 22, 33), 'Cloud_Optical_Thickness_Uncertainty_37': (('Cell_Along_Swath_5km:atml2', 'Cell_Across_Swath_5km:atml2'), (406, 271), 22, 34), 'Cloud_Effective_Radius_PCL': (('Cell_Along_Swath_5km:atml2', 'Cell_Across_Swath_5km:atml2'), (406, 271), 22, 35), 'Cloud_Effective_Radius_16': (('Cell_Along_Swath_5km:atml2', 'Cell_Across_Swath_5km:atml2'), (406, 271), 22, 36), 'Cloud_Effective_Radius_16_PCL': (('Cell_Along_Swath_5km:atml2', 'Cell_Across_Swath_5km:atml2'), (406, 271), 22, 37), 'Cloud_Effective_Radius_37': (('Cell_Along_Swath_5km:atml2', 'Cell_Across_Swath_5km:atml2'), (406, 271), 22, 38), 'Cloud_Effective_Radius_37_PCL': (('Cell_Along_Swath_5km:atml2', 'Cell_Across_Swath_5km:atml2'), (406, 271), 22, 39), 'Cloud_Effective_Radius_Uncertainty_16': (('Cell_Along_Swath_5km:atml2', 'Cell_Across_Swath_5km:atml2'), (406, 271), 22, 40), 'Cloud_Effective_Radius_Uncertainty_37': (('Cell_Along_Swath_5km:atml2', 'Cell_Across_Swath_5km:atml2'), (406, 271), 22, 41), 'Cloud_Water_Path_PCL': (('Cell_Along_Swath_5km:atml2', 'Cell_Across_Swath_5km:atml2'), (406, 271), 22, 42), 'Cloud_Water_Path_16': (('Cell_Along_Swath_5km:atml2', 'Cell_Across_Swath_5km:atml2'), (406, 271), 22, 43), 'Cloud_Water_Path_16_PCL': (('Cell_Along_Swath_5km:atml2', 'Cell_Across_Swath_5km:atml2'), (406, 271), 22, 44), 'Cloud_Water_Path_37': (('Cell_Along_Swath_5km:atml2', 'Cell_Across_Swath_5km:atml2'), (406, 271), 22, 45), 'Cloud_Water_Path_37_PCL': (('Cell_Along_Swath_5km:atml2', 'Cell_Across_Swath_5km:atml2'), (406, 271), 22, 46), 'Cloud_Water_Path_Uncertainty_16': (('Cell_Along_Swath_5km:atml2', 'Cell_Across_Swath_5km:atml2'), (406, 271), 22, 47), 'Cloud_Water_Path_Uncertainty_37': (('Cell_Along_Swath_5km:atml2', 'Cell_Across_Swath_5km:atml2'), (406, 271), 22, 48), 'Cloud_Top_Pressure_1km': (('Cell_Along_Swath_5km:atml2', 'Cell_Across_Swath_5km:atml2'), (406, 271), 22, 49), 'Cloud_Top_Temperature_1km': (('Cell_Along_Swath_5km:atml2', 'Cell_Across_Swath_5km:atml2'), (406, 271), 22, 50), 'Cloud_Top_Height_1km': (('Cell_Along_Swath_5km:atml2', 'Cell_Across_Swath_5km:atml2'), (406, 271), 22, 51), 'Surface_Temperature_1km': (('Cell_Along_Swath_5km:atml2', 'Cell_Across_Swath_5km:atml2'), (406, 271), 22, 52), 'OS_Top_Flag_1km': (('Cell_Along_Swath_5km:atml2', 'Cell_Across_Swath_5km:atml2'), (406, 271), 20, 53), 'Cloud_Mask_SPI': (('Cell_Along_Swath_5km:atml2', 'Cell_Across_Swath_5km:atml2', 'SPI_nband:atml2'), (406, 271, 2), 22, 54), 'Cloud_Multi_Layer_Flag': (('Cell_Along_Swath_5km:atml2', 'Cell_Across_Swath_5km:atml2'), (406, 271), 20, 55), 'Cloud_Phase_Infrared_1km': (('Cell_Along_Swath_5km:atml2', 'Cell_Across_Swath_5km:atml2'), (406, 271), 20, 56), 'Cloud_Top_Height': (('Cell_Along_Swath_5km:atml2', 'Cell_Across_Swath_5km:atml2'), (406, 271), 22, 57), 'Cloud_Height_Method': (('Cell_Along_Swath_5km:atml2', 'Cell_Across_Swath_5km:atml2'), (406, 271), 20, 58), 'Infrared_obs_minus_calc': (('Band_Forcing:atml2', 'Cell_Along_Swath_5km:atml2', 'Cell_Across_Swath_5km:atml2'), (5, 406, 271), 22, 59), 'Cloud_Optical_Thickness_1621_PCL': (('Cell_Along_Swath_5km:atml2', 'Cell_Across_Swath_5km:atml2'), (406, 271), 22, 60), 'Cloud_Effective_Radius_1621_PCL': (('Cell_Along_Swath_5km:atml2', 'Cell_Across_Swath_5km:atml2'), (406, 271), 22, 61), 'Cloud_Water_Path_1621_PCL': (('Cell_Along_Swath_5km:atml2', 'Cell_Across_Swath_5km:atml2'), (406, 271), 22, 62), 'Retrieval_Failure_Metric': (('Cell_Along_Swath_5km:atml2', 'Cell_Across_Swath_5km:atml2', 'RFM_nband:atml2'), (406, 271, 3), 22, 63), 'Retrieval_Failure_Metric_16': (('Cell_Along_Swath_5km:atml2', 'Cell_Across_Swath_5km:atml2', 'RFM_nband:atml2'), (406, 271, 3), 22, 64), 'Retrieval_Failure_Metric_37': (('Cell_Along_Swath_5km:atml2', 'Cell_Across_Swath_5km:atml2', 'RFM_nband:atml2'), (406, 271, 3), 22, 65), 'Retrieval_Failure_Metric_1621': (('Cell_Along_Swath_5km:atml2', 'Cell_Across_Swath_5km:atml2', 'RFM_nband:atml2'), (406, 271, 3), 22, 66)}\n"
     ]
    }
   ],
   "source": [
    "print(hdf.datasets() )"
   ]
  },
  {
   "cell_type": "code",
   "execution_count": 19,
   "metadata": {},
   "outputs": [],
   "source": [
    "cot = hdf.select('Cloud_Optical_Thickness')"
   ]
  },
  {
   "cell_type": "code",
   "execution_count": 20,
   "metadata": {},
   "outputs": [
    {
     "data": {
      "text/plain": [
       "['_SDS__buildStartCountStride',\n",
       " '__class__',\n",
       " '__del__',\n",
       " '__delattr__',\n",
       " '__dict__',\n",
       " '__dir__',\n",
       " '__doc__',\n",
       " '__eq__',\n",
       " '__format__',\n",
       " '__ge__',\n",
       " '__getattr__',\n",
       " '__getattribute__',\n",
       " '__getitem__',\n",
       " '__gt__',\n",
       " '__hash__',\n",
       " '__init__',\n",
       " '__init_subclass__',\n",
       " '__le__',\n",
       " '__len__',\n",
       " '__lt__',\n",
       " '__module__',\n",
       " '__ne__',\n",
       " '__new__',\n",
       " '__reduce__',\n",
       " '__reduce_ex__',\n",
       " '__repr__',\n",
       " '__setattr__',\n",
       " '__setitem__',\n",
       " '__sizeof__',\n",
       " '__str__',\n",
       " '__subclasshook__',\n",
       " '__weakref__',\n",
       " '_id',\n",
       " '_sd',\n",
       " 'attr',\n",
       " 'attributes',\n",
       " 'checkempty',\n",
       " 'dim',\n",
       " 'dimensions',\n",
       " 'endaccess',\n",
       " 'get',\n",
       " 'getcal',\n",
       " 'getcompress',\n",
       " 'getdatastrs',\n",
       " 'getfillvalue',\n",
       " 'getrange',\n",
       " 'info',\n",
       " 'iscoordvar',\n",
       " 'isrecord',\n",
       " 'ref',\n",
       " 'set',\n",
       " 'setcal',\n",
       " 'setcompress',\n",
       " 'setdatastrs',\n",
       " 'setexternalfile',\n",
       " 'setfillvalue',\n",
       " 'setrange']"
      ]
     },
     "execution_count": 20,
     "metadata": {},
     "output_type": "execute_result"
    }
   ],
   "source": [
    "dir(cot)"
   ]
  },
  {
   "cell_type": "code",
   "execution_count": 21,
   "metadata": {},
   "outputs": [
    {
     "data": {
      "text/plain": [
       "<matplotlib.image.AxesImage at 0x7fc30258fd68>"
      ]
     },
     "execution_count": 21,
     "metadata": {},
     "output_type": "execute_result"
    },
    {
     "data": {
      "image/png": "[encoded data removed]",
      "text/plain": [
       "<Figure size 432x288 with 1 Axes>"
      ]
     },
     "metadata": {
      "needs_background": "light"
     },
     "output_type": "display_data"
    }
   ],
   "source": [
    "plt.imshow(cot.get())"
   ]
  },
  {
   "cell_type": "code",
   "execution_count": 41,
   "metadata": {},
   "outputs": [
    {
     "data": {
      "text/plain": [
       "(0, 10000)"
      ]
     },
     "execution_count": 41,
     "metadata": {},
     "output_type": "execute_result"
    }
   ],
   "source": [
    "cot.getrange()"
   ]
  },
  {
   "cell_type": "code",
   "execution_count": 42,
   "metadata": {},
   "outputs": [
    {
     "data": {
      "text/plain": [
       "('Cloud_Optical_Thickness', 2, [406, 271], 22, 12)"
      ]
     },
     "execution_count": 42,
     "metadata": {},
     "output_type": "execute_result"
    }
   ],
   "source": [
    "cot.info()"
   ]
  },
  {
   "cell_type": "code",
   "execution_count": 40,
   "metadata": {},
   "outputs": [
    {
     "data": {
      "text/plain": [
       "{'long_name': 'Cloud Optical Thickness two-channel retrieval using band 7(2.1um) and either band 1(0.65um), 2(0.86um), or 5(1.2um) from best points: not failed in any way, not marked for clear sky restoral',\n",
       " 'units': 'none',\n",
       " 'valid_range': [0, 10000],\n",
       " '_FillValue': -9999,\n",
       " 'scale_factor': 0.009999999776482582,\n",
       " 'add_offset': 0.0,\n",
       " 'Parameter_Type': 'Output',\n",
       " 'Cell_Along_Swath_Sampling': [3, 2028, 5],\n",
       " 'Cell_Across_Swath_Sampling': [3, 1348, 5],\n",
       " 'Geolocation_Pointer': 'External MODIS geolocation product',\n",
       " '1_km_to_5_km_subsampling_description': 'Each value in this dataset does not represent an average of properties over a 5 x 5 km grid box, but rather a single sample from within each 5 km box. Normally, pixels in across-track rows 4 and 9 (counting in the direction of increasing scan number) out of every set of 10 rows are used for subsampling the 1 km retrievals to a 5 km resolution. If the array contents are determined to be all fill values after selecting the default pixel subset (e.g., from failed detectors), a different pair of pixel rows is used to perform the subsampling. Note that 5 km data sets are centered on rows 3 and 8; the default sampling choice of 4 and 9 is for better data quality and avoidance of dead detectors on Aqua. The row pair used for the 1 km sample is always given by the first number and last digit of the second number of the attribute Cell_Along_Swath_Sampling. The attribute Cell_Across_Swath_Sampling indicates that columns 3 and 8 are used, as they always are, for across-track sampling. Again these values are to be interpreted counting in the direction of the scan, from 1 through 10 inclusively. For example, if the value of attribute Cell_Along_Swath_Sampling is 3, 2028, 5, then the third and eighth pixel rows were used for subsampling. A value of 4, 2029, 5 indicates that the default fourth and ninth rows pair was used.',\n",
       " 'source_info': '\\nMYD06_L2.A2017001.0610.061.2018029075846.hdf\\npge06v6.1.4\\n\\tCloud_Optical_Thickness'}"
      ]
     },
     "execution_count": 40,
     "metadata": {},
     "output_type": "execute_result"
    }
   ],
   "source": [
    "cot.attributes()"
   ]
  },
  {
   "cell_type": "code",
   "execution_count": 72,
   "metadata": {},
   "outputs": [],
   "source": [
    "## from trarimon\n",
    "nan_index=np.where(cot.get() ==cot.attributes()['_FillValue'])   # locate no-data (fill value)\n",
    "np_cot=cot.get() / cot.attributes()['scale_factor']   # apply scaling (digital number to real data)\n",
    "np_cot[nan_index]=np.nan    # assign NaN to no-data"
   ]
  },
  {
   "cell_type": "code",
   "execution_count": 73,
   "metadata": {},
   "outputs": [
    {
     "data": {
      "text/plain": [
       "<matplotlib.colorbar.Colorbar at 0x7fc2f1633748>"
      ]
     },
     "execution_count": 73,
     "metadata": {},
     "output_type": "execute_result"
    },
    {
     "data": {
      "image/png": "[encoded data removed]",
      "text/plain": [
       "<Figure size 432x288 with 2 Axes>"
      ]
     },
     "metadata": {
      "needs_background": "light"
     },
     "output_type": "display_data"
    }
   ],
   "source": [
    "plt.imshow(np_cot)\n",
    "plt.colorbar()"
   ]
  },
  {
   "cell_type": "code",
   "execution_count": 74,
   "metadata": {},
   "outputs": [],
   "source": [
    "ndvi_sds = cot\n",
    "ndvi = cot.get()\n",
    "\n",
    "## from trarimon\n",
    "nan_index=np.where(ndvi==ndvi_sds.attributes()['_FillValue'])   # locate no-data (fill value)\n",
    "ndvi=ndvi / ndvi_sds.attributes()['scale_factor']   # apply scaling (digital number to real data)\n",
    "ndvi[nan_index]=np.nan    # assign NaN to no-data"
   ]
  },
  {
   "cell_type": "code",
   "execution_count": 75,
   "metadata": {},
   "outputs": [
    {
     "data": {
      "text/plain": [
       "<matplotlib.colorbar.Colorbar at 0x7fc2f1552c50>"
      ]
     },
     "execution_count": 75,
     "metadata": {},
     "output_type": "execute_result"
    },
    {
     "data": {
      "image/png": "[encoded data removed]",
      "text/plain": [
       "<Figure size 432x288 with 2 Axes>"
      ]
     },
     "metadata": {
      "needs_background": "light"
     },
     "output_type": "display_data"
    }
   ],
   "source": [
    "plt.imshow(ndvi)\n",
    "plt.colorbar()"
   ]
  },
  {
   "cell_type": "markdown",
   "metadata": {},
   "source": [
    "## CTH: Cloud Top Height"
   ]
  },
  {
   "cell_type": "code",
   "execution_count": 22,
   "metadata": {},
   "outputs": [
    {
     "data": {
      "text/plain": [
       "['_SDS__buildStartCountStride',\n",
       " '__class__',\n",
       " '__del__',\n",
       " '__delattr__',\n",
       " '__dict__',\n",
       " '__dir__',\n",
       " '__doc__',\n",
       " '__eq__',\n",
       " '__format__',\n",
       " '__ge__',\n",
       " '__getattr__',\n",
       " '__getattribute__',\n",
       " '__getitem__',\n",
       " '__gt__',\n",
       " '__hash__',\n",
       " '__init__',\n",
       " '__init_subclass__',\n",
       " '__le__',\n",
       " '__len__',\n",
       " '__lt__',\n",
       " '__module__',\n",
       " '__ne__',\n",
       " '__new__',\n",
       " '__reduce__',\n",
       " '__reduce_ex__',\n",
       " '__repr__',\n",
       " '__setattr__',\n",
       " '__setitem__',\n",
       " '__sizeof__',\n",
       " '__str__',\n",
       " '__subclasshook__',\n",
       " '__weakref__',\n",
       " '_id',\n",
       " '_sd',\n",
       " 'attr',\n",
       " 'attributes',\n",
       " 'checkempty',\n",
       " 'dim',\n",
       " 'dimensions',\n",
       " 'endaccess',\n",
       " 'get',\n",
       " 'getcal',\n",
       " 'getcompress',\n",
       " 'getdatastrs',\n",
       " 'getfillvalue',\n",
       " 'getrange',\n",
       " 'info',\n",
       " 'iscoordvar',\n",
       " 'isrecord',\n",
       " 'ref',\n",
       " 'set',\n",
       " 'setcal',\n",
       " 'setcompress',\n",
       " 'setdatastrs',\n",
       " 'setexternalfile',\n",
       " 'setfillvalue',\n",
       " 'setrange']"
      ]
     },
     "execution_count": 22,
     "metadata": {},
     "output_type": "execute_result"
    }
   ],
   "source": [
    "cth = hdf.select('Cloud_Top_Height')\n",
    "dir(cth)"
   ]
  },
  {
   "cell_type": "code",
   "execution_count": 24,
   "metadata": {},
   "outputs": [
    {
     "name": "stderr",
     "output_type": "stream",
     "text": [
      "/home/tkurihana/.conda/envs/py3501/lib/python3.6/site-packages/matplotlib/transforms.py:2943: RuntimeWarning: overflow encountered in short_scalars\n",
      "  elif vmax - vmin <= maxabsvalue * tiny:\n"
     ]
    },
    {
     "data": {
      "text/plain": [
       "<matplotlib.colorbar.Colorbar at 0x7fc30015bdd8>"
      ]
     },
     "execution_count": 24,
     "metadata": {},
     "output_type": "execute_result"
    },
    {
     "data": {
      "image/png": "[encoded data removed]",
      "text/plain": [
       "<Figure size 432x288 with 2 Axes>"
      ]
     },
     "metadata": {
      "needs_background": "light"
     },
     "output_type": "display_data"
    }
   ],
   "source": [
    "plt.imshow(cth.get())\n",
    "plt.colorbar()"
   ]
  },
  {
   "cell_type": "code",
   "execution_count": 25,
   "metadata": {},
   "outputs": [
    {
     "data": {
      "text/plain": [
       "(0, 18000)"
      ]
     },
     "execution_count": 25,
     "metadata": {},
     "output_type": "execute_result"
    }
   ],
   "source": [
    "cth.getrange()"
   ]
  },
  {
   "cell_type": "code",
   "execution_count": 31,
   "metadata": {},
   "outputs": [
    {
     "data": {
      "text/plain": [
       "('Geopotential Height at Retrieved Cloud Top Pressure Level (rounded to nearest 50 m)',\n",
       " 'meters',\n",
       " '',\n",
       " '')"
      ]
     },
     "execution_count": 31,
     "metadata": {},
     "output_type": "execute_result"
    }
   ],
   "source": [
    "cth.getdatastrs()"
   ]
  },
  {
   "cell_type": "code",
   "execution_count": 33,
   "metadata": {},
   "outputs": [
    {
     "data": {
      "text/plain": [
       "('Cloud_Top_Height', 2, [406, 271], 22, 10)"
      ]
     },
     "execution_count": 33,
     "metadata": {},
     "output_type": "execute_result"
    }
   ],
   "source": [
    "cth.info()"
   ]
  },
  {
   "cell_type": "code",
   "execution_count": 36,
   "metadata": {},
   "outputs": [
    {
     "data": {
      "text/plain": [
       "{'_FillValue': -32767,\n",
       " 'valid_range': [0, 18000],\n",
       " 'long_name': 'Geopotential Height at Retrieved Cloud Top Pressure Level (rounded to nearest 50 m)',\n",
       " 'units': 'meters',\n",
       " 'scale_factor': 1.0,\n",
       " 'add_offset': 0.0,\n",
       " 'Parameter_Type': 'Output',\n",
       " 'Cell_Along_Swath_Sampling': [3, 2028, 5],\n",
       " 'Cell_Across_Swath_Sampling': [3, 1348, 5],\n",
       " 'Geolocation_Pointer': 'Internal geolocation arrays'}"
      ]
     },
     "execution_count": 36,
     "metadata": {},
     "output_type": "execute_result"
    }
   ],
   "source": [
    "cth.attributes()"
   ]
  },
  {
   "cell_type": "code",
   "execution_count": 90,
   "metadata": {},
   "outputs": [
    {
     "ename": "AttributeError",
     "evalue": "'numpy.ndarray' object has no attribute 'getcal'",
     "output_type": "error",
     "traceback": [
      "\u001b[0;31m---------------------------------------------------------------------------\u001b[0m",
      "\u001b[0;31mAttributeError\u001b[0m                            Traceback (most recent call last)",
      "\u001b[0;32m<ipython-input-90-e4b12852c75f>\u001b[0m in \u001b[0;36m<module>\u001b[0;34m()\u001b[0m\n\u001b[1;32m      1\u001b[0m \u001b[0mcth_data\u001b[0m \u001b[0;34m=\u001b[0m \u001b[0mcth\u001b[0m\u001b[0;34m.\u001b[0m\u001b[0mget\u001b[0m\u001b[0;34m(\u001b[0m\u001b[0;34m)\u001b[0m\u001b[0;34m\u001b[0m\u001b[0m\n\u001b[0;32m----> 2\u001b[0;31m \u001b[0mcth_data\u001b[0m\u001b[0;34m.\u001b[0m\u001b[0mgetcal\u001b[0m\u001b[0;34m(\u001b[0m\u001b[0;34m)\u001b[0m\u001b[0;34m\u001b[0m\u001b[0m\n\u001b[0m",
      "\u001b[0;31mAttributeError\u001b[0m: 'numpy.ndarray' object has no attribute 'getcal'"
     ]
    }
   ],
   "source": [
    "cth_data = cth.get() \n",
    "cth_data.getcal()"
   ]
  },
  {
   "cell_type": "code",
   "execution_count": 101,
   "metadata": {},
   "outputs": [
    {
     "ename": "HDF4Error",
     "evalue": "getcal (134): Cannot find or get an attribute",
     "output_type": "error",
     "traceback": [
      "\u001b[0;31m---------------------------------------------------------------------------\u001b[0m",
      "\u001b[0;31mHDF4Error\u001b[0m                                 Traceback (most recent call last)",
      "\u001b[0;32m<ipython-input-101-7f83663cd329>\u001b[0m in \u001b[0;36m<module>\u001b[0;34m()\u001b[0m\n\u001b[0;32m----> 1\u001b[0;31m \u001b[0mcth\u001b[0m\u001b[0;34m.\u001b[0m\u001b[0mgetcal\u001b[0m\u001b[0;34m(\u001b[0m\u001b[0;34m)\u001b[0m\u001b[0;34m\u001b[0m\u001b[0m\n\u001b[0m",
      "\u001b[0;32m~/.conda/envs/py3501/lib/python3.6/site-packages/pyhdf/SD.py\u001b[0m in \u001b[0;36mgetcal\u001b[0;34m(self)\u001b[0m\n\u001b[1;32m   2258\u001b[0m         \u001b[0mstatus\u001b[0m\u001b[0;34m,\u001b[0m \u001b[0mcal\u001b[0m\u001b[0;34m,\u001b[0m \u001b[0mcal_error\u001b[0m\u001b[0;34m,\u001b[0m \u001b[0moffset\u001b[0m\u001b[0;34m,\u001b[0m \u001b[0moffset_err\u001b[0m\u001b[0;34m,\u001b[0m \u001b[0mdata_type\u001b[0m \u001b[0;34m=\u001b[0m\u001b[0;31m \u001b[0m\u001b[0;31m\\\u001b[0m\u001b[0;34m\u001b[0m\u001b[0m\n\u001b[1;32m   2259\u001b[0m                          \u001b[0m_C\u001b[0m\u001b[0;34m.\u001b[0m\u001b[0mSDgetcal\u001b[0m\u001b[0;34m(\u001b[0m\u001b[0mself\u001b[0m\u001b[0;34m.\u001b[0m\u001b[0m_id\u001b[0m\u001b[0;34m)\u001b[0m\u001b[0;34m\u001b[0m\u001b[0m\n\u001b[0;32m-> 2260\u001b[0;31m         \u001b[0m_checkErr\u001b[0m\u001b[0;34m(\u001b[0m\u001b[0;34m'getcal'\u001b[0m\u001b[0;34m,\u001b[0m \u001b[0mstatus\u001b[0m\u001b[0;34m,\u001b[0m \u001b[0;34m'no calibration record'\u001b[0m\u001b[0;34m)\u001b[0m\u001b[0;34m\u001b[0m\u001b[0m\n\u001b[0m\u001b[1;32m   2261\u001b[0m         \u001b[0;32mreturn\u001b[0m \u001b[0mcal\u001b[0m\u001b[0;34m,\u001b[0m \u001b[0mcal_error\u001b[0m\u001b[0;34m,\u001b[0m \u001b[0moffset\u001b[0m\u001b[0;34m,\u001b[0m \u001b[0moffset_err\u001b[0m\u001b[0;34m,\u001b[0m \u001b[0mdata_type\u001b[0m\u001b[0;34m\u001b[0m\u001b[0m\n\u001b[1;32m   2262\u001b[0m \u001b[0;34m\u001b[0m\u001b[0m\n",
      "\u001b[0;32m~/.conda/envs/py3501/lib/python3.6/site-packages/pyhdf/error.py\u001b[0m in \u001b[0;36m_checkErr\u001b[0;34m(procName, val, msg)\u001b[0m\n\u001b[1;32m     21\u001b[0m         \u001b[0;32melse\u001b[0m\u001b[0;34m:\u001b[0m\u001b[0;34m\u001b[0m\u001b[0m\n\u001b[1;32m     22\u001b[0m             \u001b[0merr\u001b[0m \u001b[0;34m=\u001b[0m \u001b[0;34m\"%s : %s\"\u001b[0m \u001b[0;34m%\u001b[0m \u001b[0;34m(\u001b[0m\u001b[0mprocName\u001b[0m\u001b[0;34m,\u001b[0m \u001b[0mmsg\u001b[0m\u001b[0;34m)\u001b[0m\u001b[0;34m\u001b[0m\u001b[0m\n\u001b[0;32m---> 23\u001b[0;31m         \u001b[0;32mraise\u001b[0m \u001b[0mHDF4Error\u001b[0m\u001b[0;34m(\u001b[0m\u001b[0merr\u001b[0m\u001b[0;34m)\u001b[0m\u001b[0;34m\u001b[0m\u001b[0m\n\u001b[0m",
      "\u001b[0;31mHDF4Error\u001b[0m: getcal (134): Cannot find or get an attribute"
     ]
    }
   ],
   "source": [
    "cth.getcal()"
   ]
  },
  {
   "cell_type": "code",
   "execution_count": 92,
   "metadata": {},
   "outputs": [
    {
     "data": {
      "text/plain": [
       "<bound method SDS.getcal of <pyhdf.SD.SDS object at 0x7fc30280e7f0>>"
      ]
     },
     "execution_count": 92,
     "metadata": {},
     "output_type": "execute_result"
    }
   ],
   "source": [
    "a"
   ]
  },
  {
   "cell_type": "code",
   "execution_count": 46,
   "metadata": {},
   "outputs": [],
   "source": [
    "a = cth.attr('Cloud_Top_Height')"
   ]
  },
  {
   "cell_type": "code",
   "execution_count": 86,
   "metadata": {},
   "outputs": [
    {
     "data": {
      "text/plain": [
       "<pyhdf.SD.SDAttr at 0x7fc2f151cef0>"
      ]
     },
     "execution_count": 86,
     "metadata": {},
     "output_type": "execute_result"
    }
   ],
   "source": [
    "cth.attr('Cloud_Top_Height')"
   ]
  },
  {
   "cell_type": "code",
   "execution_count": 53,
   "metadata": {},
   "outputs": [
    {
     "data": {
      "text/plain": [
       "262201"
      ]
     },
     "execution_count": 53,
     "metadata": {},
     "output_type": "execute_result"
    }
   ],
   "source": [
    "cth._id"
   ]
  },
  {
   "cell_type": "code",
   "execution_count": 79,
   "metadata": {},
   "outputs": [
    {
     "data": {
      "text/plain": [
       "-32767"
      ]
     },
     "execution_count": 79,
     "metadata": {},
     "output_type": "execute_result"
    }
   ],
   "source": [
    "cth.getfillvalue()"
   ]
  },
  {
   "cell_type": "code",
   "execution_count": 102,
   "metadata": {},
   "outputs": [],
   "source": [
    "offset_index = np.where(cth.get() == cth.attributes()['add_offset'] )"
   ]
  },
  {
   "cell_type": "code",
   "execution_count": 105,
   "metadata": {},
   "outputs": [
    {
     "data": {
      "text/plain": [
       "(2, 415)"
      ]
     },
     "execution_count": 105,
     "metadata": {},
     "output_type": "execute_result"
    }
   ],
   "source": [
    "np.asarray(offset_index).shape"
   ]
  },
  {
   "cell_type": "code",
   "execution_count": 58,
   "metadata": {},
   "outputs": [],
   "source": [
    "ndvi_sds = cth\n",
    "ndvi = cth.get()\n",
    "\n",
    "## from trarimon\n",
    "nan_index=np.where(ndvi==ndvi_sds.attributes()['_FillValue'])   # locate no-data (fill value)\n",
    "ndvi=ndvi / ndvi_sds.attributes()['scale_factor']   # apply scaling (digital number to real data)\n",
    "ndvi[nan_index]=np.nan    # assign NaN to no-data"
   ]
  },
  {
   "cell_type": "code",
   "execution_count": 70,
   "metadata": {},
   "outputs": [
    {
     "data": {
      "text/plain": [
       "<matplotlib.colorbar.Colorbar at 0x7fc2f168e6d8>"
      ]
     },
     "execution_count": 70,
     "metadata": {},
     "output_type": "execute_result"
    },
    {
     "data": {
      "image/png": "[encoded data removed]",
      "text/plain": [
       "<Figure size 432x288 with 2 Axes>"
      ]
     },
     "metadata": {
      "needs_background": "light"
     },
     "output_type": "display_data"
    }
   ],
   "source": [
    "plt.imshow(ndvi)\n",
    "plt.colorbar()"
   ]
  },
  {
   "cell_type": "code",
   "execution_count": null,
   "metadata": {},
   "outputs": [],
   "source": []
  },
  {
   "cell_type": "code",
   "execution_count": 62,
   "metadata": {},
   "outputs": [
    {
     "data": {
      "text/plain": [
       "(406, 271)"
      ]
     },
     "execution_count": 62,
     "metadata": {},
     "output_type": "execute_result"
    }
   ],
   "source": [
    "ndvi.shape"
   ]
  },
  {
   "cell_type": "code",
   "execution_count": 66,
   "metadata": {},
   "outputs": [
    {
     "data": {
      "text/plain": [
       "(17150.0, 0.0)"
      ]
     },
     "execution_count": 66,
     "metadata": {},
     "output_type": "execute_result"
    }
   ],
   "source": [
    "max(ndvi.flatten() ) , min(ndvi.flatten())"
   ]
  },
  {
   "cell_type": "code",
   "execution_count": 106,
   "metadata": {},
   "outputs": [],
   "source": [
    "ndvi_sds = cth\n",
    "ndvi = cth.get()\n",
    "\n",
    "## from trarimon\n",
    "nan_index=np.where(ndvi==ndvi_sds.attributes()['_FillValue'])   # locate no-data (fill value)\n",
    "addoffset_index = np.where(ndvi == ndvi_sds.attributes()['add_offset'] )\n",
    "ndvi = ndvi - ndvi_sds.attributes()['add_offset']\n",
    "ndvi=ndvi * ndvi_sds.attributes()['scale_factor']   # apply scaling (digital number to real data)\n",
    "ndvi[nan_index]=np.nan  "
   ]
  },
  {
   "cell_type": "code",
   "execution_count": 108,
   "metadata": {},
   "outputs": [],
   "source": [
    "_ndvi_sds = cth\n",
    "_ndvi = cth.get()\n",
    "ao_ndvi = ndvi - ndvi_sds.attributes()['add_offset']"
   ]
  },
  {
   "cell_type": "code",
   "execution_count": 109,
   "metadata": {},
   "outputs": [],
   "source": [
    "res = _ndvi - ao_ndvi"
   ]
  },
  {
   "cell_type": "code",
   "execution_count": 110,
   "metadata": {},
   "outputs": [
    {
     "data": {
      "text/plain": [
       "<matplotlib.colorbar.Colorbar at 0x7fc2f142ea58>"
      ]
     },
     "execution_count": 110,
     "metadata": {},
     "output_type": "execute_result"
    },
    {
     "data": {
      "image/png": "[encoded data removed]",
      "text/plain": [
       "<Figure size 432x288 with 2 Axes>"
      ]
     },
     "metadata": {
      "needs_background": "light"
     },
     "output_type": "display_data"
    }
   ],
   "source": [
    "plt.imshow(res)\n",
    "plt.colorbar()"
   ]
  },
  {
   "cell_type": "code",
   "execution_count": 107,
   "metadata": {},
   "outputs": [
    {
     "data": {
      "text/plain": [
       "<matplotlib.colorbar.Colorbar at 0x7fc2f14a1048>"
      ]
     },
     "execution_count": 107,
     "metadata": {},
     "output_type": "execute_result"
    },
    {
     "data": {
      "image/png": "[encoded data removed]",
      "text/plain": [
       "<Figure size 432x288 with 2 Axes>"
      ]
     },
     "metadata": {
      "needs_background": "light"
     },
     "output_type": "display_data"
    }
   ],
   "source": [
    "plt.imshow(ndvi)\n",
    "plt.colorbar()"
   ]
  },
  {
   "cell_type": "code",
   "execution_count": 84,
   "metadata": {
    "scrolled": true
   },
   "outputs": [
    {
     "name": "stdout",
     "output_type": "stream",
     "text": [
      "Help on SDS in module pyhdf.SD object:\n",
      "\n",
      "class SDS(builtins.object)\n",
      " |  The SDS class implements an HDF dataset object.\n",
      " |  To create an SDS instance, call the create() or select()\n",
      " |  methods of the SD class. To set attributes on an SDS instance,\n",
      " |  call the SDS.attr() method to create an attribute instance,\n",
      " |  then call the methods of this instance. Attributes can also be\n",
      " |  set using the \"dot notation\".\n",
      " |  \n",
      " |  Methods defined here:\n",
      " |  \n",
      " |  __del__(self)\n",
      " |  \n",
      " |  __getattr__(self, name)\n",
      " |  \n",
      " |  __getitem__(self, elem)\n",
      " |  \n",
      " |  __init__(self, sd, id)\n",
      " |      This constructor should not be called by the user program.\n",
      " |      Call the SD.create() and SD.select() methods instead.\n",
      " |  \n",
      " |  __len__(self)\n",
      " |  \n",
      " |  __setattr__(self, name, value)\n",
      " |      Implement setattr(self, name, value).\n",
      " |  \n",
      " |  __setitem__(self, elem, data)\n",
      " |  \n",
      " |  attr(self, name_or_index)\n",
      " |      Create an SDAttr instance representing an SDS\n",
      " |      (dataset) attribute.\n",
      " |      \n",
      " |      Args::\n",
      " |      \n",
      " |        name_or_index   attribute name or index number; if a name is\n",
      " |                        given, the attribute may not exist\n",
      " |      \n",
      " |      Returns::\n",
      " |      \n",
      " |        SDAttr instance for the attribute. Call the methods of this\n",
      " |        class to query, read or set the attribute.\n",
      " |      \n",
      " |      C library equivalent : no equivalent\n",
      " |  \n",
      " |  attributes(self, full=0)\n",
      " |      Return a dictionnary describing every attribute defined\n",
      " |      on the dataset.\n",
      " |      \n",
      " |      Args::\n",
      " |      \n",
      " |        full      true to get complete info about each attribute\n",
      " |                  false to report only each attribute value\n",
      " |      \n",
      " |      Returns::\n",
      " |      \n",
      " |        Empty dictionnary if no attribute defined.\n",
      " |        Otherwise, dictionnary where each key is the name of a\n",
      " |        dataset attribute. If parameter 'full' is false,\n",
      " |        key value is the attribute value. If 'full' is true,\n",
      " |        key value is a tuple with the following elements:\n",
      " |      \n",
      " |        - attribute value\n",
      " |        - attribute index number\n",
      " |        - attribute type\n",
      " |        - attribute length\n",
      " |      \n",
      " |      C library equivalent : no equivalent\n",
      " |  \n",
      " |  checkempty(self)\n",
      " |      Determine whether the dataset is empty.\n",
      " |      \n",
      " |      Args::\n",
      " |      \n",
      " |        no argument\n",
      " |      \n",
      " |      Returns::\n",
      " |      \n",
      " |        True(1) if dataset is empty, False(0) if not\n",
      " |      \n",
      " |      C library equivalent : SDcheckempty\n",
      " |  \n",
      " |  dim(self, dim_index)\n",
      " |      Get an SDim instance given a dimension index number.\n",
      " |      \n",
      " |      Args::\n",
      " |      \n",
      " |        dim_index index number of the dimension (numbering starts at 0)\n",
      " |      \n",
      " |      C library equivalent : SDgetdimid\n",
      " |  \n",
      " |  dimensions(self, full=0)\n",
      " |      Return a dictionnary describing every dataset dimension.\n",
      " |      \n",
      " |      Args::\n",
      " |      \n",
      " |        full      true to get complete info about each dimension\n",
      " |                  false to report only each dimension length\n",
      " |      \n",
      " |      Returns::\n",
      " |      \n",
      " |        Dictionnary where each key is a dimension name. If no name\n",
      " |        has been given to the dimension, the key is set to\n",
      " |        'fakeDimx' where 'x' is the dimension index number.\n",
      " |        If parameter 'full' is false, key value is the dimension\n",
      " |        length. If 'full' is true, key value is a 5-element tuple\n",
      " |        with the following elements:\n",
      " |      \n",
      " |        - dimension length; for an unlimited dimension, the reported\n",
      " |          length is the current dimension length\n",
      " |        - dimension index number\n",
      " |        - 1 if the dimension is unlimited, 0 otherwise\n",
      " |        - dimension scale type, or 0 if no scale is defined for\n",
      " |          the dimension\n",
      " |        - number of attributes defined on the dimension\n",
      " |      \n",
      " |      C library equivalent : no equivalent\n",
      " |  \n",
      " |  endaccess(self)\n",
      " |      Terminates access to the SDS.\n",
      " |      \n",
      " |      Args::\n",
      " |      \n",
      " |        no argument\n",
      " |      \n",
      " |      Returns::\n",
      " |      \n",
      " |        None.\n",
      " |      \n",
      " |      The SDS instance should not be used afterwards.\n",
      " |      The 'endaccess()' method is implicitly called when\n",
      " |      the SDS instance is deleted.\n",
      " |      \n",
      " |      C library equivalent : SDendaccess\n",
      " |  \n",
      " |  get(self, start=None, count=None, stride=None)\n",
      " |      Read data from the dataset.\n",
      " |      \n",
      " |      Args::\n",
      " |      \n",
      " |        start   : indices where to start reading in the data array;\n",
      " |                  default to 0 on all dimensions\n",
      " |        count   : number of values to read along each dimension;\n",
      " |                  default to the current length of all dimensions\n",
      " |        stride  : sampling interval along each dimension;\n",
      " |                  default to 1 on all dimensions\n",
      " |      \n",
      " |        For n-dimensional datasets, those 3 parameters are entered\n",
      " |        using lists. For one-dimensional datasets, integers\n",
      " |        can also be used.\n",
      " |      \n",
      " |        Note that, to read the whole dataset contents, one should\n",
      " |        simply call the method with no argument.\n",
      " |      \n",
      " |      Returns::\n",
      " |      \n",
      " |        numpy array initialized with the data.\n",
      " |      \n",
      " |      C library equivalent : SDreaddata\n",
      " |      \n",
      " |      The dataset can also be read using the familiar indexing and\n",
      " |      slicing notation, like ordinary python sequences.\n",
      " |      See \"High level variable access\".\n",
      " |  \n",
      " |  getcal(self)\n",
      " |      Retrieve the SDS calibration coefficients.\n",
      " |      \n",
      " |      Args::\n",
      " |      \n",
      " |        no argument\n",
      " |      \n",
      " |      Returns::\n",
      " |      \n",
      " |        5-element tuple holding:\n",
      " |      \n",
      " |        - cal: calibration factor (attribute 'scale_factor')\n",
      " |        - cal_error : calibration factor error\n",
      " |                      (attribute 'scale_factor_err')\n",
      " |        - offset: calibration offset (attribute 'add_offset')\n",
      " |        - offset_err : offset error (attribute 'add_offset_err')\n",
      " |        - data_type : type of the data resulting from applying\n",
      " |                      the calibration formula to the dataset values\n",
      " |                      (attribute 'calibrated_nt')\n",
      " |      \n",
      " |      An exception is raised if no calibration data are defined.\n",
      " |      \n",
      " |      Original dataset values 'orival' are converted to calibrated\n",
      " |      values 'calval' through the formula::\n",
      " |      \n",
      " |         calval = cal * (orival - offset)\n",
      " |      \n",
      " |      The calibration coefficients are part of the so-called\n",
      " |      \"standard\" SDS attributes. The values inside the tuple returned\n",
      " |      by 'getcal' are those of the following attributes, in order::\n",
      " |      \n",
      " |        scale_factor, scale_factor_err, add_offset, add_offset_err,\n",
      " |        calibrated_nt\n",
      " |      \n",
      " |      C library equivalent: SDgetcal()\n",
      " |  \n",
      " |  getcompress(self)\n",
      " |      Retrieves info about dataset compression type and mode.\n",
      " |      \n",
      " |      Args::\n",
      " |      \n",
      " |        no argument\n",
      " |      \n",
      " |      Returns::\n",
      " |      \n",
      " |        tuple holding:\n",
      " |      \n",
      " |        - compression type (one of the SDC.COMP_xxx constants)\n",
      " |        - optional values, depending on the compression type\n",
      " |            COMP_NONE       0 value    no additional value\n",
      " |            COMP_SKPHUFF    1 value  : skip size\n",
      " |            COMP_DEFLATE    1 value  : gzip compression level (1 to 9)\n",
      " |            COMP_SZIP       5 values : options mask,\n",
      " |                                       pixels per block (2 to 32)\n",
      " |                                       pixels per scanline,\n",
      " |                                       bits per pixel (number of bits in the SDS datatype)\n",
      " |                                       pixels (number of elements in the SDS)\n",
      " |      \n",
      " |                                       Note: in the context of an SDS, the word \"pixel\"\n",
      " |                                       should really be understood as meaning \"data element\",\n",
      " |                                       eg a cell value inside a multidimensional grid.\n",
      " |                                       Test the options mask against constants SDC.COMP_SZIP_NN\n",
      " |                                       and SDC.COMP_SZIP_EC, eg :\n",
      " |                                         if optionMask & SDC.COMP_SZIP_EC:\n",
      " |                                             print \"EC encoding scheme used\"\n",
      " |      \n",
      " |      An exception is raised if dataset is not compressed.\n",
      " |      \n",
      " |      .. note::\n",
      " |          Starting with v0.8, an exception is always raised if\n",
      " |          pyhdf was installed with the NOCOMPRESS macro set.\n",
      " |      \n",
      " |      C library equivalent: SDgetcompress\n",
      " |  \n",
      " |  getdatastrs(self)\n",
      " |      Retrieve the dataset standard string attributes.\n",
      " |      \n",
      " |      Args::\n",
      " |      \n",
      " |        no argument\n",
      " |      \n",
      " |      Returns::\n",
      " |      \n",
      " |        4-element tuple holding:\n",
      " |      \n",
      " |        - dataset label string (attribute 'long_name')\n",
      " |        - dataset unit (attribute 'units')\n",
      " |        - dataset output format (attribute 'format')\n",
      " |        - dataset coordinate system (attribute 'coordsys')\n",
      " |      \n",
      " |      The values returned by 'getdatastrs' are part of the\n",
      " |      so-called \"standard\" SDS attributes.  Those 4 values\n",
      " |      correspond respectively to the following attributes::\n",
      " |      \n",
      " |        long_name, units, format, coordsys .\n",
      " |      \n",
      " |      C library equivalent: SDgetdatastrs\n",
      " |  \n",
      " |  getfillvalue(self)\n",
      " |      Retrieve the dataset fill value.\n",
      " |      \n",
      " |      Args::\n",
      " |      \n",
      " |        no argument\n",
      " |      \n",
      " |      Returns::\n",
      " |      \n",
      " |        dataset fill value (attribute '_FillValue')\n",
      " |      \n",
      " |      An exception is raised if the fill value is not set.\n",
      " |      \n",
      " |      The fill value is part of the so-called \"standard\" SDS\n",
      " |      attributes, and corresponds to the following attribute::\n",
      " |      \n",
      " |        _FillValue\n",
      " |      \n",
      " |      C library equivalent: SDgetfillvalue\n",
      " |  \n",
      " |  getrange(self)\n",
      " |      Retrieve the dataset min and max values.\n",
      " |      \n",
      " |      Args::\n",
      " |      \n",
      " |        no argument\n",
      " |      \n",
      " |      Returns::\n",
      " |      \n",
      " |        (min, max) tuple (attribute 'valid_range')\n",
      " |      \n",
      " |        Note that those are the values as stored\n",
      " |        by the 'setrange' method. 'getrange' does *NOT* compute the\n",
      " |        min and max from the current dataset contents.\n",
      " |      \n",
      " |      An exception is raised if the range is not set.\n",
      " |      \n",
      " |      The range returned by 'getrange' is part of the so-called\n",
      " |      \"standard\" SDS attributes. It corresponds to the following\n",
      " |      attribute::\n",
      " |      \n",
      " |        valid_range\n",
      " |      \n",
      " |      C library equivalent: SDgetrange\n",
      " |  \n",
      " |  info(self)\n",
      " |      Retrieves information about the dataset.\n",
      " |      \n",
      " |      Args::\n",
      " |      \n",
      " |        no argument\n",
      " |      \n",
      " |      Returns::\n",
      " |      \n",
      " |        5-element tuple holding:\n",
      " |      \n",
      " |        - dataset name\n",
      " |        - dataset rank (number of dimensions)\n",
      " |        - dataset shape, that is a list giving the length of each\n",
      " |          dataset dimension; if the first dimension is unlimited, then\n",
      " |          the first value of the list gives the current length of the\n",
      " |          unlimited dimension\n",
      " |        - data type (one of the SDC.xxx values)\n",
      " |        - number of attributes defined for the dataset\n",
      " |      \n",
      " |      C library equivalent : SDgetinfo\n",
      " |  \n",
      " |  iscoordvar(self)\n",
      " |      Determine whether the dataset is a coordinate variable\n",
      " |      (holds a dimension scale). A coordinate variable is created\n",
      " |      when a dimension is assigned a set of scale values.\n",
      " |      \n",
      " |      Args::\n",
      " |      \n",
      " |        no argument\n",
      " |      \n",
      " |      Returns::\n",
      " |      \n",
      " |        True(1) if the dataset represents a coordinate variable,\n",
      " |        False(0) if not\n",
      " |      \n",
      " |      C library equivalent : SDiscoordvar\n",
      " |  \n",
      " |  isrecord(self)\n",
      " |      Determines whether the dataset is appendable\n",
      " |      (contains an unlimited dimension). Note that if true, then\n",
      " |      the unlimited dimension is always dimension number 0.\n",
      " |      \n",
      " |      Args::\n",
      " |      \n",
      " |        no argument\n",
      " |      \n",
      " |      Returns::\n",
      " |      \n",
      " |        True(1) if the dataset is appendable, False(0) if not.\n",
      " |      \n",
      " |      C library equivalent : SDisrecord\n",
      " |  \n",
      " |  ref(self)\n",
      " |      Get the reference number of the dataset.\n",
      " |      \n",
      " |      Args::\n",
      " |      \n",
      " |        no argument\n",
      " |      \n",
      " |      Returns::\n",
      " |      \n",
      " |        dataset reference number\n",
      " |      \n",
      " |      C library equivalent : SDidtoref\n",
      " |  \n",
      " |  set(self, data, start=None, count=None, stride=None)\n",
      " |      Write data to the dataset.\n",
      " |      \n",
      " |      Args::\n",
      " |      \n",
      " |        data    : array of data to write; can be given as a numpy\n",
      " |                  array, or as Python sequence (whose elements can be\n",
      " |                  imbricated sequences)\n",
      " |        start   : indices where to start writing in the dataset;\n",
      " |                  default to 0 on all dimensions\n",
      " |        count   : number of values to write along each dimension;\n",
      " |                  default to the current length of dataset dimensions\n",
      " |        stride  : sampling interval along each dimension;\n",
      " |                  default to 1 on all dimensions\n",
      " |      \n",
      " |        For n-dimensional datasets, those 3 parameters are entered\n",
      " |        using lists. For one-dimensional datasets, integers\n",
      " |        can also be used.\n",
      " |      \n",
      " |        Note that, to write the whole dataset at once, one has simply\n",
      " |        to call the method with the dataset values in parameter\n",
      " |        'data', omitting all other parameters.\n",
      " |      \n",
      " |      Returns::\n",
      " |      \n",
      " |        None.\n",
      " |      \n",
      " |      C library equivalent : SDwritedata\n",
      " |      \n",
      " |      The dataset can also be written using the familiar indexing and\n",
      " |      slicing notation, like ordinary python sequences.\n",
      " |      See \"High level variable access\".\n",
      " |  \n",
      " |  setcal(self, cal, cal_error, offset, offset_err, data_type)\n",
      " |      Set the dataset calibration coefficients.\n",
      " |      \n",
      " |      Args::\n",
      " |      \n",
      " |        cal         the calibraton factor (attribute 'scale_factor')\n",
      " |        cal_error   calibration factor error\n",
      " |                    (attribute 'scale_factor_err')\n",
      " |        offset      offset value (attribute 'add_offset')\n",
      " |        offset_err  offset error (attribute 'add_offset_err')\n",
      " |        data_type   data type of the values resulting from applying the\n",
      " |                    calibration formula to the dataset values\n",
      " |                    (one of the SDC.xxx constants)\n",
      " |                    (attribute 'calibrated_nt')\n",
      " |      \n",
      " |      Returns::\n",
      " |      \n",
      " |        None\n",
      " |      \n",
      " |      See method 'getcal' for the definition of the calibration\n",
      " |      formula.\n",
      " |      \n",
      " |      Calibration coefficients are part of the so-called standard\n",
      " |      SDS attributes. Calling 'setcal' is equivalent to setting\n",
      " |      the following attributes, which correspond to the method\n",
      " |      parameters, in order::\n",
      " |      \n",
      " |        scale_factor, scale_factor_err, add_offset, add_offset_err,\n",
      " |        calibrated_nt\n",
      " |      \n",
      " |      C library equivalent: SDsetcal\n",
      " |  \n",
      " |  setcompress(self, comp_type, value=0, v2=0)\n",
      " |      Compresses the dataset using a specified compression method.\n",
      " |      \n",
      " |      Args::\n",
      " |      \n",
      " |        comp_type    compression type, identified by one of the\n",
      " |                     SDC.COMP_xxx constants\n",
      " |        value,v2     auxiliary value(s) needed by some compression types\n",
      " |                       SDC.COMP_SKPHUFF   Skipping-Huffman; compression value=data size in bytes, v2 is ignored\n",
      " |                       SDC.COMP_DEFLATE   Gzip compression; value=deflate level (1 to 9), v2 is ignored\n",
      " |                       SDC.COMP_SZIP      Szip compression; value=encoding scheme (SDC.COMP_SZIP_EC or\n",
      " |                                          SDC.COMP_SZIP_NN), v2=pixels per block (2 to 32)\n",
      " |      \n",
      " |      Returns::\n",
      " |      \n",
      " |          None\n",
      " |      \n",
      " |      .. note::\n",
      " |           Starting with v0.8, an exception is always raised if\n",
      " |           pyhdf was installed with the NOCOMPRESS macro set.\n",
      " |      \n",
      " |      SDC.COMP_DEFLATE applies the GZIP compression to the dataset,\n",
      " |      and the value varies from 1 to 9, according to the level of\n",
      " |      compression desired.\n",
      " |      \n",
      " |      SDC.COMP_SZIP compresses the dataset using the SZIP algorithm. See the HDF User's Guide\n",
      " |      for details about the encoding scheme and the number of pixels per block. SZIP is new\n",
      " |      with HDF 4.2.\n",
      " |      \n",
      " |      'setcompress' must be called before writing to the dataset.\n",
      " |      The dataset must be written all at once, unless it is\n",
      " |      appendable (has an unlimited dimension). Updating the dataset\n",
      " |      in not allowed. Refer to the HDF user's guide for more details\n",
      " |      on how to use data compression.\n",
      " |      \n",
      " |      C library equivalent: SDsetcompress\n",
      " |  \n",
      " |  setdatastrs(self, label, unit, format, coord_sys)\n",
      " |      Set the dataset standard string type attributes.\n",
      " |      \n",
      " |      Args::\n",
      " |      \n",
      " |        label         dataset label (attribute 'long_name')\n",
      " |        unit          dataset unit (attribute 'units')\n",
      " |        format        dataset format (attribute 'format')\n",
      " |        coord_sys     dataset coordinate system (attribute 'coordsys')\n",
      " |      \n",
      " |      Returns::\n",
      " |      \n",
      " |        None\n",
      " |      \n",
      " |      Those strings are part of the so-called standard\n",
      " |      SDS attributes. Calling 'setdatastrs' is equivalent to setting\n",
      " |      the following attributes, which correspond to the method\n",
      " |      parameters, in order::\n",
      " |      \n",
      " |        long_name, units, format, coordsys\n",
      " |      \n",
      " |      C library equivalent: SDsetdatastrs\n",
      " |  \n",
      " |  setexternalfile(self, filename, offset=0)\n",
      " |      Store the dataset data in an external file.\n",
      " |      \n",
      " |      Args::\n",
      " |      \n",
      " |        filename    external file name\n",
      " |        offset      offset in bytes where to start writing in\n",
      " |                    the external file\n",
      " |      \n",
      " |      Returns::\n",
      " |      \n",
      " |          None\n",
      " |      \n",
      " |      C library equivalent : SDsetexternalfile\n",
      " |  \n",
      " |  setfillvalue(self, fill_val)\n",
      " |      Set the dataset fill value.\n",
      " |      \n",
      " |      Args::\n",
      " |      \n",
      " |        fill_val   dataset fill value (attribute '_FillValue')\n",
      " |      \n",
      " |      Returns::\n",
      " |      \n",
      " |        None\n",
      " |      \n",
      " |      The fill value is part of the so-called \"standard\" SDS\n",
      " |      attributes. Calling 'setfillvalue' is equivalent to setting\n",
      " |      the following attribute::\n",
      " |      \n",
      " |        _FillValue\n",
      " |      \n",
      " |      C library equivalent: SDsetfillvalue\n",
      " |  \n",
      " |  setrange(self, min, max)\n",
      " |      Set the dataset min and max values.\n",
      " |      \n",
      " |      Args::\n",
      " |      \n",
      " |        min        dataset minimum value (attribute 'valid_range')\n",
      " |        max        dataset maximum value (attribute 'valid_range')\n",
      " |      \n",
      " |      \n",
      " |      Returns::\n",
      " |      \n",
      " |        None\n",
      " |      \n",
      " |      The data range is part of the so-called \"standard\" SDS\n",
      " |      attributes. Calling method 'setrange' is equivalent to\n",
      " |      setting the following attribute with a 2-element [min,max]\n",
      " |      array::\n",
      " |      \n",
      " |        valid_range\n",
      " |      \n",
      " |      \n",
      " |      C library equivalent: SDsetrange\n",
      " |  \n",
      " |  ----------------------------------------------------------------------\n",
      " |  Data descriptors defined here:\n",
      " |  \n",
      " |  __dict__\n",
      " |      dictionary for instance variables (if defined)\n",
      " |  \n",
      " |  __weakref__\n",
      " |      list of weak references to the object (if defined)\n",
      "\n"
     ]
    }
   ],
   "source": [
    "help(cth)"
   ]
  },
  {
   "cell_type": "code",
   "execution_count": 100,
   "metadata": {},
   "outputs": [
    {
     "data": {
      "text/plain": [
       "(4, 4)"
      ]
     },
     "execution_count": 100,
     "metadata": {},
     "output_type": "execute_result"
    }
   ],
   "source": [
    "cth.getcompress()"
   ]
  },
  {
   "cell_type": "code",
   "execution_count": null,
   "metadata": {},
   "outputs": [],
   "source": []
  }
 ],
 "metadata": {
  "kernelspec": {
   "display_name": "Python 3",
   "language": "python",
   "name": "python3"
  },
  "language_info": {
   "codemirror_mode": {
    "name": "ipython",
    "version": 3
   },
   "file_extension": ".py",
   "mimetype": "text/x-python",
   "name": "python",
   "nbconvert_exporter": "python",
   "pygments_lexer": "ipython3",
   "version": "3.6.6"
  }
 },
 "nbformat": 4,
 "nbformat_minor": 2
}
