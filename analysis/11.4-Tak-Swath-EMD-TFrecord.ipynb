{
 "cells": [
  {
   "cell_type": "code",
   "execution_count": 1,
   "metadata": {},
   "outputs": [],
   "source": [
    "%load_ext autoreload\n",
    "%autoreload 2\n",
    "\n",
    "import os, sys\n",
    "import numpy as np\n",
    "import tensorflow as tf\n",
    "from sklearn.cluster import KMeans, AgglomerativeClustering, SpectralClustering\n",
    "from matplotlib import pyplot as plt\n",
    "from matplotlib.colors import LogNorm\n",
    "\n",
    "sys.path.insert(1, os.path.join(sys.path[0], \"..\"))\n",
    "from reproduction.pipeline.load import load_data\n",
    "from reproduction import analysis\n",
    "import sklearn\n",
    "from scipy.stats import wasserstein_distance"
   ]
  },
  {
   "cell_type": "code",
   "execution_count": 86,
   "metadata": {},
   "outputs": [],
   "source": [
    "import seaborn"
   ]
  },
  {
   "cell_type": "code",
   "execution_count": 2,
   "metadata": {},
   "outputs": [],
   "source": [
    "# open/closed cell data dir\n",
    "CLOSEDATADIR=\"/home/tkurihana/scratch-midway2/clouds/\"\n",
    "CLOSEDS = \"/closed.tfrecord\"\n",
    "OPENDATADIR=\"/home/tkurihana/scratch-midway2/clouds/\"\n",
    "OPENS = \"/open.tfrecord\"\n",
    "\n",
    "# outputdata dir\n",
    "OUTPUTDIR=\"/project/foster/clouds/output\"\n",
    "CENTERS = OUTPUTDIR+\"/mod09cnn15b/encodings/m15b-enc.cluster_centres\"\n",
    "ENCODER_DEF = OUTPUTDIR+\"/mod09cnn15b/encoder.json\"\n",
    "ENCODER_WEIGHTS = OUTPUTDIR+\"/mod09cnn15b/encoder-585000.h5\"\n",
    "ENCODINGS = OUTPUTDIR+\"/mod09cnn15b/encodings/m15b-enc\""
   ]
  },
  {
   "cell_type": "code",
   "execution_count": 3,
   "metadata": {},
   "outputs": [],
   "source": [
    "centers = analysis.read_kmeans_centers(CENTERS)"
   ]
  },
  {
   "cell_type": "code",
   "execution_count": 4,
   "metadata": {},
   "outputs": [],
   "source": [
    "k = KMeans(n_clusters=centers.shape[0], init=centers)"
   ]
  },
  {
   "cell_type": "code",
   "execution_count": 5,
   "metadata": {},
   "outputs": [],
   "source": [
    "with open(ENCODER_DEF,\"r\") as f:\n",
    "    encoder = tf.keras.models.model_from_json(f.read())\n",
    "encoder.load_weights(ENCODER_WEIGHTS)"
   ]
  },
  {
   "cell_type": "code",
   "execution_count": null,
   "metadata": {},
   "outputs": [],
   "source": []
  },
  {
   "cell_type": "code",
   "execution_count": 19,
   "metadata": {},
   "outputs": [],
   "source": [
    "def _classifier(encoder, keyward, opendir, openfile, closeddir, closedfile, num_of_file):\n",
    "    OPENS   = opendir+keyward+\"_open\"+openfile\n",
    "    CLOSEDS = closeddir+keyward+\"_close\"+closedfile\n",
    "    \n",
    "    # TODO: debug\n",
    "    def decode_tfrecord(OUTPUT_TFRECORD_NAME):\n",
    "        count = 0\n",
    "        imgs = []\n",
    "        print(OUTPUT_TFRECORD_NAME)\n",
    "        for record  in tf.python_io.tf_record_iterator(OUTPUT_TFRECORD_NAME):\n",
    "            count += 1\n",
    "    \n",
    "        print(count)\n",
    "        return count\n",
    "    # get file number\n",
    "    no = decode_tfrecord(OPENS)\n",
    "    nc = decode_tfrecord(CLOSEDS)\n",
    "    print(no, nc)\n",
    "    _N  = min(no, nc) \n",
    "    N   = min(num_of_file, _N ) # min(no, nc) -1 # get less number  32 is largest??\n",
    "    print(N)\n",
    "    \n",
    "    ## Repeat off and set reasonable n (patch) number\n",
    "    opens = analysis.AEData(load_data(OPENS, encoder.input_shape[1:], repeat=False), n=N)\n",
    "    closeds = analysis.AEData(load_data(CLOSEDS, encoder.input_shape[1:], repeat=False), n=N)  \n",
    "    #  encoder \n",
    "    opens.add_encoder(encoder)\n",
    "    closeds.add_encoder(encoder)\n",
    "    #  cluster\n",
    "    k.cluster_centers_ = centers\n",
    "    #\n",
    "    both = np.append(opens.encs,closeds.encs, axis=0)\n",
    "    num_clusters = 10\n",
    "    method = SpectralClustering(n_clusters=num_clusters, affinity=\"nearest_neighbors\")\n",
    "    clusters = method.fit_predict(both)\n",
    "    o, c = clusters[:N], clusters[N:]\n",
    "    #o = 1 ; c = 1\n",
    "    return o, c"
   ]
  },
  {
   "cell_type": "code",
   "execution_count": 18,
   "metadata": {
    "scrolled": false
   },
   "outputs": [
    {
     "name": "stdout",
     "output_type": "stream",
     "text": [
      "/home/tkurihana/scratch-midway2/clouds/2017JAN03MOD09GA_open/open.tfrecord\n",
      "17\n",
      "/home/tkurihana/scratch-midway2/clouds/2017JAN03MOD09GA_close/closed.tfrecord\n",
      "77\n",
      "17 77\n",
      "10\n"
     ]
    },
    {
     "ename": "OutOfRangeError",
     "evalue": "End of sequence\n\t [[Node: IteratorGetNext_12 = IteratorGetNext[output_shapes=[[32], [32,2], [32,128,128,7]], output_types=[DT_STRING, DT_INT64, DT_FLOAT], _device=\"/job:localhost/replica:0/task:0/device:CPU:0\"](OneShotIterator_12)]]\n\nCaused by op 'IteratorGetNext_12', defined at:\n  File \"/home/tkurihana/.conda/envs/py3501/lib/python3.6/runpy.py\", line 193, in _run_module_as_main\n    \"__main__\", mod_spec)\n  File \"/home/tkurihana/.conda/envs/py3501/lib/python3.6/runpy.py\", line 85, in _run_code\n    exec(code, run_globals)\n  File \"/home/tkurihana/.conda/envs/py3501/lib/python3.6/site-packages/ipykernel_launcher.py\", line 16, in <module>\n    app.launch_new_instance()\n  File \"/home/tkurihana/.conda/envs/py3501/lib/python3.6/site-packages/traitlets/config/application.py\", line 658, in launch_instance\n    app.start()\n  File \"/home/tkurihana/.conda/envs/py3501/lib/python3.6/site-packages/ipykernel/kernelapp.py\", line 497, in start\n    self.io_loop.start()\n  File \"/home/tkurihana/.conda/envs/py3501/lib/python3.6/site-packages/tornado/platform/asyncio.py\", line 132, in start\n    self.asyncio_loop.run_forever()\n  File \"/home/tkurihana/.conda/envs/py3501/lib/python3.6/asyncio/base_events.py\", line 422, in run_forever\n    self._run_once()\n  File \"/home/tkurihana/.conda/envs/py3501/lib/python3.6/asyncio/base_events.py\", line 1434, in _run_once\n    handle._run()\n  File \"/home/tkurihana/.conda/envs/py3501/lib/python3.6/asyncio/events.py\", line 145, in _run\n    self._callback(*self._args)\n  File \"/home/tkurihana/.conda/envs/py3501/lib/python3.6/site-packages/tornado/platform/asyncio.py\", line 122, in _handle_events\n    handler_func(fileobj, events)\n  File \"/home/tkurihana/.conda/envs/py3501/lib/python3.6/site-packages/tornado/stack_context.py\", line 300, in null_wrapper\n    return fn(*args, **kwargs)\n  File \"/home/tkurihana/.conda/envs/py3501/lib/python3.6/site-packages/zmq/eventloop/zmqstream.py\", line 450, in _handle_events\n    self._handle_recv()\n  File \"/home/tkurihana/.conda/envs/py3501/lib/python3.6/site-packages/zmq/eventloop/zmqstream.py\", line 480, in _handle_recv\n    self._run_callback(callback, msg)\n  File \"/home/tkurihana/.conda/envs/py3501/lib/python3.6/site-packages/zmq/eventloop/zmqstream.py\", line 432, in _run_callback\n    callback(*args, **kwargs)\n  File \"/home/tkurihana/.conda/envs/py3501/lib/python3.6/site-packages/tornado/stack_context.py\", line 300, in null_wrapper\n    return fn(*args, **kwargs)\n  File \"/home/tkurihana/.conda/envs/py3501/lib/python3.6/site-packages/ipykernel/kernelbase.py\", line 283, in dispatcher\n    return self.dispatch_shell(stream, msg)\n  File \"/home/tkurihana/.conda/envs/py3501/lib/python3.6/site-packages/ipykernel/kernelbase.py\", line 233, in dispatch_shell\n    handler(stream, idents, msg)\n  File \"/home/tkurihana/.conda/envs/py3501/lib/python3.6/site-packages/ipykernel/kernelbase.py\", line 399, in execute_request\n    user_expressions, allow_stdin)\n  File \"/home/tkurihana/.conda/envs/py3501/lib/python3.6/site-packages/ipykernel/ipkernel.py\", line 208, in do_execute\n    res = shell.run_cell(code, store_history=store_history, silent=silent)\n  File \"/home/tkurihana/.conda/envs/py3501/lib/python3.6/site-packages/ipykernel/zmqshell.py\", line 537, in run_cell\n    return super(ZMQInteractiveShell, self).run_cell(*args, **kwargs)\n  File \"/home/tkurihana/.conda/envs/py3501/lib/python3.6/site-packages/IPython/core/interactiveshell.py\", line 2662, in run_cell\n    raw_cell, store_history, silent, shell_futures)\n  File \"/home/tkurihana/.conda/envs/py3501/lib/python3.6/site-packages/IPython/core/interactiveshell.py\", line 2785, in _run_cell\n    interactivity=interactivity, compiler=compiler, result=result)\n  File \"/home/tkurihana/.conda/envs/py3501/lib/python3.6/site-packages/IPython/core/interactiveshell.py\", line 2901, in run_ast_nodes\n    if self.run_code(code, result):\n  File \"/home/tkurihana/.conda/envs/py3501/lib/python3.6/site-packages/IPython/core/interactiveshell.py\", line 2961, in run_code\n    exec(code_obj, self.user_global_ns, self.user_ns)\n  File \"<ipython-input-18-3a6f19abfb47>\", line 1, in <module>\n    o, c = _classifier(encoder,'2017JAN03MOD09GA', OPENDATADIR, OPENS, CLOSEDATADIR, CLOSEDS, 32)\n  File \"<ipython-input-17-a927dfbb5563>\", line 28, in _classifier\n    opens = analysis.AEData(load_data(OPENS, encoder.input_shape[1:], repeat=False), n=N)\n  File \"../reproduction/analysis.py\", line 38, in __init__\n    batch = dataset.make_one_shot_iterator().get_next()\n  File \"/home/tkurihana/.conda/envs/py3501/lib/python3.6/site-packages/tensorflow/python/data/ops/iterator_ops.py\", line 373, in get_next\n    name=name)), self._output_types,\n  File \"/home/tkurihana/.conda/envs/py3501/lib/python3.6/site-packages/tensorflow/python/ops/gen_dataset_ops.py\", line 1745, in iterator_get_next\n    output_shapes=output_shapes, name=name)\n  File \"/home/tkurihana/.conda/envs/py3501/lib/python3.6/site-packages/tensorflow/python/framework/op_def_library.py\", line 787, in _apply_op_helper\n    op_def=op_def)\n  File \"/home/tkurihana/.conda/envs/py3501/lib/python3.6/site-packages/tensorflow/python/framework/ops.py\", line 3414, in create_op\n    op_def=op_def)\n  File \"/home/tkurihana/.conda/envs/py3501/lib/python3.6/site-packages/tensorflow/python/framework/ops.py\", line 1740, in __init__\n    self._traceback = self._graph._extract_stack()  # pylint: disable=protected-access\n\nOutOfRangeError (see above for traceback): End of sequence\n\t [[Node: IteratorGetNext_12 = IteratorGetNext[output_shapes=[[32], [32,2], [32,128,128,7]], output_types=[DT_STRING, DT_INT64, DT_FLOAT], _device=\"/job:localhost/replica:0/task:0/device:CPU:0\"](OneShotIterator_12)]]\n",
     "output_type": "error",
     "traceback": [
      "\u001b[0;31m---------------------------------------------------------------------------\u001b[0m",
      "\u001b[0;31mOutOfRangeError\u001b[0m                           Traceback (most recent call last)",
      "\u001b[0;32m~/.conda/envs/py3501/lib/python3.6/site-packages/tensorflow/python/client/session.py\u001b[0m in \u001b[0;36m_do_call\u001b[0;34m(self, fn, *args)\u001b[0m\n\u001b[1;32m   1321\u001b[0m     \u001b[0;32mtry\u001b[0m\u001b[0;34m:\u001b[0m\u001b[0;34m\u001b[0m\u001b[0m\n\u001b[0;32m-> 1322\u001b[0;31m       \u001b[0;32mreturn\u001b[0m \u001b[0mfn\u001b[0m\u001b[0;34m(\u001b[0m\u001b[0;34m*\u001b[0m\u001b[0margs\u001b[0m\u001b[0;34m)\u001b[0m\u001b[0;34m\u001b[0m\u001b[0m\n\u001b[0m\u001b[1;32m   1323\u001b[0m     \u001b[0;32mexcept\u001b[0m \u001b[0merrors\u001b[0m\u001b[0;34m.\u001b[0m\u001b[0mOpError\u001b[0m \u001b[0;32mas\u001b[0m \u001b[0me\u001b[0m\u001b[0;34m:\u001b[0m\u001b[0;34m\u001b[0m\u001b[0m\n",
      "\u001b[0;32m~/.conda/envs/py3501/lib/python3.6/site-packages/tensorflow/python/client/session.py\u001b[0m in \u001b[0;36m_run_fn\u001b[0;34m(feed_dict, fetch_list, target_list, options, run_metadata)\u001b[0m\n\u001b[1;32m   1306\u001b[0m       return self._call_tf_sessionrun(\n\u001b[0;32m-> 1307\u001b[0;31m           options, feed_dict, fetch_list, target_list, run_metadata)\n\u001b[0m\u001b[1;32m   1308\u001b[0m \u001b[0;34m\u001b[0m\u001b[0m\n",
      "\u001b[0;32m~/.conda/envs/py3501/lib/python3.6/site-packages/tensorflow/python/client/session.py\u001b[0m in \u001b[0;36m_call_tf_sessionrun\u001b[0;34m(self, options, feed_dict, fetch_list, target_list, run_metadata)\u001b[0m\n\u001b[1;32m   1408\u001b[0m           \u001b[0mself\u001b[0m\u001b[0;34m.\u001b[0m\u001b[0m_session\u001b[0m\u001b[0;34m,\u001b[0m \u001b[0moptions\u001b[0m\u001b[0;34m,\u001b[0m \u001b[0mfeed_dict\u001b[0m\u001b[0;34m,\u001b[0m \u001b[0mfetch_list\u001b[0m\u001b[0;34m,\u001b[0m \u001b[0mtarget_list\u001b[0m\u001b[0;34m,\u001b[0m\u001b[0;34m\u001b[0m\u001b[0m\n\u001b[0;32m-> 1409\u001b[0;31m           run_metadata)\n\u001b[0m\u001b[1;32m   1410\u001b[0m     \u001b[0;32melse\u001b[0m\u001b[0;34m:\u001b[0m\u001b[0;34m\u001b[0m\u001b[0m\n",
      "\u001b[0;31mOutOfRangeError\u001b[0m: End of sequence\n\t [[Node: IteratorGetNext_12 = IteratorGetNext[output_shapes=[[32], [32,2], [32,128,128,7]], output_types=[DT_STRING, DT_INT64, DT_FLOAT], _device=\"/job:localhost/replica:0/task:0/device:CPU:0\"](OneShotIterator_12)]]",
      "\nDuring handling of the above exception, another exception occurred:\n",
      "\u001b[0;31mOutOfRangeError\u001b[0m                           Traceback (most recent call last)",
      "\u001b[0;32m<ipython-input-18-3a6f19abfb47>\u001b[0m in \u001b[0;36m<module>\u001b[0;34m()\u001b[0m\n\u001b[0;32m----> 1\u001b[0;31m \u001b[0mo\u001b[0m\u001b[0;34m,\u001b[0m \u001b[0mc\u001b[0m \u001b[0;34m=\u001b[0m \u001b[0m_classifier\u001b[0m\u001b[0;34m(\u001b[0m\u001b[0mencoder\u001b[0m\u001b[0;34m,\u001b[0m\u001b[0;34m'2017JAN03MOD09GA'\u001b[0m\u001b[0;34m,\u001b[0m \u001b[0mOPENDATADIR\u001b[0m\u001b[0;34m,\u001b[0m \u001b[0mOPENS\u001b[0m\u001b[0;34m,\u001b[0m \u001b[0mCLOSEDATADIR\u001b[0m\u001b[0;34m,\u001b[0m \u001b[0mCLOSEDS\u001b[0m\u001b[0;34m,\u001b[0m \u001b[0;36m32\u001b[0m\u001b[0;34m)\u001b[0m\u001b[0;34m\u001b[0m\u001b[0m\n\u001b[0m",
      "\u001b[0;32m<ipython-input-17-a927dfbb5563>\u001b[0m in \u001b[0;36m_classifier\u001b[0;34m(encoder, keyward, opendir, openfile, closeddir, closedfile, num_of_file)\u001b[0m\n\u001b[1;32m     26\u001b[0m \u001b[0;34m\u001b[0m\u001b[0m\n\u001b[1;32m     27\u001b[0m     \u001b[0;31m## Repeat off and set reasonable n (patch) number\u001b[0m\u001b[0;34m\u001b[0m\u001b[0;34m\u001b[0m\u001b[0m\n\u001b[0;32m---> 28\u001b[0;31m     \u001b[0mopens\u001b[0m \u001b[0;34m=\u001b[0m \u001b[0manalysis\u001b[0m\u001b[0;34m.\u001b[0m\u001b[0mAEData\u001b[0m\u001b[0;34m(\u001b[0m\u001b[0mload_data\u001b[0m\u001b[0;34m(\u001b[0m\u001b[0mOPENS\u001b[0m\u001b[0;34m,\u001b[0m \u001b[0mencoder\u001b[0m\u001b[0;34m.\u001b[0m\u001b[0minput_shape\u001b[0m\u001b[0;34m[\u001b[0m\u001b[0;36m1\u001b[0m\u001b[0;34m:\u001b[0m\u001b[0;34m]\u001b[0m\u001b[0;34m,\u001b[0m \u001b[0mrepeat\u001b[0m\u001b[0;34m=\u001b[0m\u001b[0;32mFalse\u001b[0m\u001b[0;34m)\u001b[0m\u001b[0;34m,\u001b[0m \u001b[0mn\u001b[0m\u001b[0;34m=\u001b[0m\u001b[0mN\u001b[0m\u001b[0;34m)\u001b[0m\u001b[0;34m\u001b[0m\u001b[0m\n\u001b[0m\u001b[1;32m     29\u001b[0m     \u001b[0mcloseds\u001b[0m \u001b[0;34m=\u001b[0m \u001b[0manalysis\u001b[0m\u001b[0;34m.\u001b[0m\u001b[0mAEData\u001b[0m\u001b[0;34m(\u001b[0m\u001b[0mload_data\u001b[0m\u001b[0;34m(\u001b[0m\u001b[0mCLOSEDS\u001b[0m\u001b[0;34m,\u001b[0m \u001b[0mencoder\u001b[0m\u001b[0;34m.\u001b[0m\u001b[0minput_shape\u001b[0m\u001b[0;34m[\u001b[0m\u001b[0;36m1\u001b[0m\u001b[0;34m:\u001b[0m\u001b[0;34m]\u001b[0m\u001b[0;34m,\u001b[0m \u001b[0mrepeat\u001b[0m\u001b[0;34m=\u001b[0m\u001b[0;32mFalse\u001b[0m\u001b[0;34m)\u001b[0m\u001b[0;34m,\u001b[0m \u001b[0mn\u001b[0m\u001b[0;34m=\u001b[0m\u001b[0mN\u001b[0m\u001b[0;34m)\u001b[0m\u001b[0;34m\u001b[0m\u001b[0m\n\u001b[1;32m     30\u001b[0m     \u001b[0;31m#  encpder\u001b[0m\u001b[0;34m\u001b[0m\u001b[0;34m\u001b[0m\u001b[0m\n",
      "\u001b[0;32m~/clouds/reproduction/analysis.py\u001b[0m in \u001b[0;36m__init__\u001b[0;34m(self, dataset, ae, fields, n)\u001b[0m\n\u001b[1;32m     39\u001b[0m         \u001b[0;32mwith\u001b[0m \u001b[0mtf\u001b[0m\u001b[0;34m.\u001b[0m\u001b[0mSession\u001b[0m\u001b[0;34m(\u001b[0m\u001b[0;34m)\u001b[0m \u001b[0;32mas\u001b[0m \u001b[0msess\u001b[0m\u001b[0;34m:\u001b[0m\u001b[0;34m\u001b[0m\u001b[0m\n\u001b[1;32m     40\u001b[0m             \u001b[0;32mwhile\u001b[0m \u001b[0mlen\u001b[0m\u001b[0;34m(\u001b[0m\u001b[0mimgs\u001b[0m\u001b[0;34m)\u001b[0m \u001b[0;34m<\u001b[0m \u001b[0mn\u001b[0m\u001b[0;34m:\u001b[0m\u001b[0;34m\u001b[0m\u001b[0m\n\u001b[0;32m---> 41\u001b[0;31m                 \u001b[0mnames_\u001b[0m\u001b[0;34m,\u001b[0m \u001b[0mcoords_\u001b[0m\u001b[0;34m,\u001b[0m \u001b[0mimgs_\u001b[0m \u001b[0;34m=\u001b[0m \u001b[0msess\u001b[0m\u001b[0;34m.\u001b[0m\u001b[0mrun\u001b[0m\u001b[0;34m(\u001b[0m\u001b[0mbatch\u001b[0m\u001b[0;34m)\u001b[0m\u001b[0;34m\u001b[0m\u001b[0m\n\u001b[0m\u001b[1;32m     42\u001b[0m                 \u001b[0mnames\u001b[0m\u001b[0;34m.\u001b[0m\u001b[0mextend\u001b[0m\u001b[0;34m(\u001b[0m\u001b[0mnames_\u001b[0m\u001b[0;34m)\u001b[0m\u001b[0;34m\u001b[0m\u001b[0m\n\u001b[1;32m     43\u001b[0m                 \u001b[0mcoords\u001b[0m\u001b[0;34m.\u001b[0m\u001b[0mextend\u001b[0m\u001b[0;34m(\u001b[0m\u001b[0mcoords_\u001b[0m\u001b[0;34m)\u001b[0m\u001b[0;34m\u001b[0m\u001b[0m\n",
      "\u001b[0;32m~/.conda/envs/py3501/lib/python3.6/site-packages/tensorflow/python/client/session.py\u001b[0m in \u001b[0;36mrun\u001b[0;34m(self, fetches, feed_dict, options, run_metadata)\u001b[0m\n\u001b[1;32m    898\u001b[0m     \u001b[0;32mtry\u001b[0m\u001b[0;34m:\u001b[0m\u001b[0;34m\u001b[0m\u001b[0m\n\u001b[1;32m    899\u001b[0m       result = self._run(None, fetches, feed_dict, options_ptr,\n\u001b[0;32m--> 900\u001b[0;31m                          run_metadata_ptr)\n\u001b[0m\u001b[1;32m    901\u001b[0m       \u001b[0;32mif\u001b[0m \u001b[0mrun_metadata\u001b[0m\u001b[0;34m:\u001b[0m\u001b[0;34m\u001b[0m\u001b[0m\n\u001b[1;32m    902\u001b[0m         \u001b[0mproto_data\u001b[0m \u001b[0;34m=\u001b[0m \u001b[0mtf_session\u001b[0m\u001b[0;34m.\u001b[0m\u001b[0mTF_GetBuffer\u001b[0m\u001b[0;34m(\u001b[0m\u001b[0mrun_metadata_ptr\u001b[0m\u001b[0;34m)\u001b[0m\u001b[0;34m\u001b[0m\u001b[0m\n",
      "\u001b[0;32m~/.conda/envs/py3501/lib/python3.6/site-packages/tensorflow/python/client/session.py\u001b[0m in \u001b[0;36m_run\u001b[0;34m(self, handle, fetches, feed_dict, options, run_metadata)\u001b[0m\n\u001b[1;32m   1133\u001b[0m     \u001b[0;32mif\u001b[0m \u001b[0mfinal_fetches\u001b[0m \u001b[0;32mor\u001b[0m \u001b[0mfinal_targets\u001b[0m \u001b[0;32mor\u001b[0m \u001b[0;34m(\u001b[0m\u001b[0mhandle\u001b[0m \u001b[0;32mand\u001b[0m \u001b[0mfeed_dict_tensor\u001b[0m\u001b[0;34m)\u001b[0m\u001b[0;34m:\u001b[0m\u001b[0;34m\u001b[0m\u001b[0m\n\u001b[1;32m   1134\u001b[0m       results = self._do_run(handle, final_targets, final_fetches,\n\u001b[0;32m-> 1135\u001b[0;31m                              feed_dict_tensor, options, run_metadata)\n\u001b[0m\u001b[1;32m   1136\u001b[0m     \u001b[0;32melse\u001b[0m\u001b[0;34m:\u001b[0m\u001b[0;34m\u001b[0m\u001b[0m\n\u001b[1;32m   1137\u001b[0m       \u001b[0mresults\u001b[0m \u001b[0;34m=\u001b[0m \u001b[0;34m[\u001b[0m\u001b[0;34m]\u001b[0m\u001b[0;34m\u001b[0m\u001b[0m\n",
      "\u001b[0;32m~/.conda/envs/py3501/lib/python3.6/site-packages/tensorflow/python/client/session.py\u001b[0m in \u001b[0;36m_do_run\u001b[0;34m(self, handle, target_list, fetch_list, feed_dict, options, run_metadata)\u001b[0m\n\u001b[1;32m   1314\u001b[0m     \u001b[0;32mif\u001b[0m \u001b[0mhandle\u001b[0m \u001b[0;32mis\u001b[0m \u001b[0;32mNone\u001b[0m\u001b[0;34m:\u001b[0m\u001b[0;34m\u001b[0m\u001b[0m\n\u001b[1;32m   1315\u001b[0m       return self._do_call(_run_fn, feeds, fetches, targets, options,\n\u001b[0;32m-> 1316\u001b[0;31m                            run_metadata)\n\u001b[0m\u001b[1;32m   1317\u001b[0m     \u001b[0;32melse\u001b[0m\u001b[0;34m:\u001b[0m\u001b[0;34m\u001b[0m\u001b[0m\n\u001b[1;32m   1318\u001b[0m       \u001b[0;32mreturn\u001b[0m \u001b[0mself\u001b[0m\u001b[0;34m.\u001b[0m\u001b[0m_do_call\u001b[0m\u001b[0;34m(\u001b[0m\u001b[0m_prun_fn\u001b[0m\u001b[0;34m,\u001b[0m \u001b[0mhandle\u001b[0m\u001b[0;34m,\u001b[0m \u001b[0mfeeds\u001b[0m\u001b[0;34m,\u001b[0m \u001b[0mfetches\u001b[0m\u001b[0;34m)\u001b[0m\u001b[0;34m\u001b[0m\u001b[0m\n",
      "\u001b[0;32m~/.conda/envs/py3501/lib/python3.6/site-packages/tensorflow/python/client/session.py\u001b[0m in \u001b[0;36m_do_call\u001b[0;34m(self, fn, *args)\u001b[0m\n\u001b[1;32m   1333\u001b[0m         \u001b[0;32mexcept\u001b[0m \u001b[0mKeyError\u001b[0m\u001b[0;34m:\u001b[0m\u001b[0;34m\u001b[0m\u001b[0m\n\u001b[1;32m   1334\u001b[0m           \u001b[0;32mpass\u001b[0m\u001b[0;34m\u001b[0m\u001b[0m\n\u001b[0;32m-> 1335\u001b[0;31m       \u001b[0;32mraise\u001b[0m \u001b[0mtype\u001b[0m\u001b[0;34m(\u001b[0m\u001b[0me\u001b[0m\u001b[0;34m)\u001b[0m\u001b[0;34m(\u001b[0m\u001b[0mnode_def\u001b[0m\u001b[0;34m,\u001b[0m \u001b[0mop\u001b[0m\u001b[0;34m,\u001b[0m \u001b[0mmessage\u001b[0m\u001b[0;34m)\u001b[0m\u001b[0;34m\u001b[0m\u001b[0m\n\u001b[0m\u001b[1;32m   1336\u001b[0m \u001b[0;34m\u001b[0m\u001b[0m\n\u001b[1;32m   1337\u001b[0m   \u001b[0;32mdef\u001b[0m \u001b[0m_extend_graph\u001b[0m\u001b[0;34m(\u001b[0m\u001b[0mself\u001b[0m\u001b[0;34m)\u001b[0m\u001b[0;34m:\u001b[0m\u001b[0;34m\u001b[0m\u001b[0m\n",
      "\u001b[0;31mOutOfRangeError\u001b[0m: End of sequence\n\t [[Node: IteratorGetNext_12 = IteratorGetNext[output_shapes=[[32], [32,2], [32,128,128,7]], output_types=[DT_STRING, DT_INT64, DT_FLOAT], _device=\"/job:localhost/replica:0/task:0/device:CPU:0\"](OneShotIterator_12)]]\n\nCaused by op 'IteratorGetNext_12', defined at:\n  File \"/home/tkurihana/.conda/envs/py3501/lib/python3.6/runpy.py\", line 193, in _run_module_as_main\n    \"__main__\", mod_spec)\n  File \"/home/tkurihana/.conda/envs/py3501/lib/python3.6/runpy.py\", line 85, in _run_code\n    exec(code, run_globals)\n  File \"/home/tkurihana/.conda/envs/py3501/lib/python3.6/site-packages/ipykernel_launcher.py\", line 16, in <module>\n    app.launch_new_instance()\n  File \"/home/tkurihana/.conda/envs/py3501/lib/python3.6/site-packages/traitlets/config/application.py\", line 658, in launch_instance\n    app.start()\n  File \"/home/tkurihana/.conda/envs/py3501/lib/python3.6/site-packages/ipykernel/kernelapp.py\", line 497, in start\n    self.io_loop.start()\n  File \"/home/tkurihana/.conda/envs/py3501/lib/python3.6/site-packages/tornado/platform/asyncio.py\", line 132, in start\n    self.asyncio_loop.run_forever()\n  File \"/home/tkurihana/.conda/envs/py3501/lib/python3.6/asyncio/base_events.py\", line 422, in run_forever\n    self._run_once()\n  File \"/home/tkurihana/.conda/envs/py3501/lib/python3.6/asyncio/base_events.py\", line 1434, in _run_once\n    handle._run()\n  File \"/home/tkurihana/.conda/envs/py3501/lib/python3.6/asyncio/events.py\", line 145, in _run\n    self._callback(*self._args)\n  File \"/home/tkurihana/.conda/envs/py3501/lib/python3.6/site-packages/tornado/platform/asyncio.py\", line 122, in _handle_events\n    handler_func(fileobj, events)\n  File \"/home/tkurihana/.conda/envs/py3501/lib/python3.6/site-packages/tornado/stack_context.py\", line 300, in null_wrapper\n    return fn(*args, **kwargs)\n  File \"/home/tkurihana/.conda/envs/py3501/lib/python3.6/site-packages/zmq/eventloop/zmqstream.py\", line 450, in _handle_events\n    self._handle_recv()\n  File \"/home/tkurihana/.conda/envs/py3501/lib/python3.6/site-packages/zmq/eventloop/zmqstream.py\", line 480, in _handle_recv\n    self._run_callback(callback, msg)\n  File \"/home/tkurihana/.conda/envs/py3501/lib/python3.6/site-packages/zmq/eventloop/zmqstream.py\", line 432, in _run_callback\n    callback(*args, **kwargs)\n  File \"/home/tkurihana/.conda/envs/py3501/lib/python3.6/site-packages/tornado/stack_context.py\", line 300, in null_wrapper\n    return fn(*args, **kwargs)\n  File \"/home/tkurihana/.conda/envs/py3501/lib/python3.6/site-packages/ipykernel/kernelbase.py\", line 283, in dispatcher\n    return self.dispatch_shell(stream, msg)\n  File \"/home/tkurihana/.conda/envs/py3501/lib/python3.6/site-packages/ipykernel/kernelbase.py\", line 233, in dispatch_shell\n    handler(stream, idents, msg)\n  File \"/home/tkurihana/.conda/envs/py3501/lib/python3.6/site-packages/ipykernel/kernelbase.py\", line 399, in execute_request\n    user_expressions, allow_stdin)\n  File \"/home/tkurihana/.conda/envs/py3501/lib/python3.6/site-packages/ipykernel/ipkernel.py\", line 208, in do_execute\n    res = shell.run_cell(code, store_history=store_history, silent=silent)\n  File \"/home/tkurihana/.conda/envs/py3501/lib/python3.6/site-packages/ipykernel/zmqshell.py\", line 537, in run_cell\n    return super(ZMQInteractiveShell, self).run_cell(*args, **kwargs)\n  File \"/home/tkurihana/.conda/envs/py3501/lib/python3.6/site-packages/IPython/core/interactiveshell.py\", line 2662, in run_cell\n    raw_cell, store_history, silent, shell_futures)\n  File \"/home/tkurihana/.conda/envs/py3501/lib/python3.6/site-packages/IPython/core/interactiveshell.py\", line 2785, in _run_cell\n    interactivity=interactivity, compiler=compiler, result=result)\n  File \"/home/tkurihana/.conda/envs/py3501/lib/python3.6/site-packages/IPython/core/interactiveshell.py\", line 2901, in run_ast_nodes\n    if self.run_code(code, result):\n  File \"/home/tkurihana/.conda/envs/py3501/lib/python3.6/site-packages/IPython/core/interactiveshell.py\", line 2961, in run_code\n    exec(code_obj, self.user_global_ns, self.user_ns)\n  File \"<ipython-input-18-3a6f19abfb47>\", line 1, in <module>\n    o, c = _classifier(encoder,'2017JAN03MOD09GA', OPENDATADIR, OPENS, CLOSEDATADIR, CLOSEDS, 32)\n  File \"<ipython-input-17-a927dfbb5563>\", line 28, in _classifier\n    opens = analysis.AEData(load_data(OPENS, encoder.input_shape[1:], repeat=False), n=N)\n  File \"../reproduction/analysis.py\", line 38, in __init__\n    batch = dataset.make_one_shot_iterator().get_next()\n  File \"/home/tkurihana/.conda/envs/py3501/lib/python3.6/site-packages/tensorflow/python/data/ops/iterator_ops.py\", line 373, in get_next\n    name=name)), self._output_types,\n  File \"/home/tkurihana/.conda/envs/py3501/lib/python3.6/site-packages/tensorflow/python/ops/gen_dataset_ops.py\", line 1745, in iterator_get_next\n    output_shapes=output_shapes, name=name)\n  File \"/home/tkurihana/.conda/envs/py3501/lib/python3.6/site-packages/tensorflow/python/framework/op_def_library.py\", line 787, in _apply_op_helper\n    op_def=op_def)\n  File \"/home/tkurihana/.conda/envs/py3501/lib/python3.6/site-packages/tensorflow/python/framework/ops.py\", line 3414, in create_op\n    op_def=op_def)\n  File \"/home/tkurihana/.conda/envs/py3501/lib/python3.6/site-packages/tensorflow/python/framework/ops.py\", line 1740, in __init__\n    self._traceback = self._graph._extract_stack()  # pylint: disable=protected-access\n\nOutOfRangeError (see above for traceback): End of sequence\n\t [[Node: IteratorGetNext_12 = IteratorGetNext[output_shapes=[[32], [32,2], [32,128,128,7]], output_types=[DT_STRING, DT_INT64, DT_FLOAT], _device=\"/job:localhost/replica:0/task:0/device:CPU:0\"](OneShotIterator_12)]]\n"
     ]
    }
   ],
   "source": [
    "o, c = _classifier(encoder,'2017JAN03MOD09GA', OPENDATADIR, OPENS, CLOSEDATADIR, CLOSEDS, 32)"
   ]
  },
  {
   "cell_type": "code",
   "execution_count": 86,
   "metadata": {},
   "outputs": [],
   "source": [
    "keylist = ['2017JAN01MOD09GA', '2017JAN02MOD09GA', '2017JAN03MOD09GA', '2017JAN04MOD09GA']"
   ]
  },
  {
   "cell_type": "code",
   "execution_count": 87,
   "metadata": {},
   "outputs": [],
   "source": [
    "# TODO: debug\n",
    "def _decode_tfrecord(OUTPUT_TFRECORD_NAME):\n",
    "        count = 0\n",
    "        imgs = []\n",
    "        print(OUTPUT_TFRECORD_NAME)\n",
    "        for record  in tf.python_io.tf_record_iterator(OUTPUT_TFRECORD_NAME):\n",
    "            count += 1\n",
    "            #xample = tf.train.Example()\n",
    "            #xample.ParseFromString(record) # Read binary data\n",
    "        #rint(example)\n",
    "    \n",
    "        print(count)\n",
    "        #print(height, width, depth)\n",
    "        return count"
   ]
  },
  {
   "cell_type": "code",
   "execution_count": 92,
   "metadata": {},
   "outputs": [
    {
     "name": "stdout",
     "output_type": "stream",
     "text": [
      "/home/tkurihana/scratch-midway2/clouds/2017JAN01MOD09GA_open/open.tfrecord\n",
      "38\n",
      "/home/tkurihana/scratch-midway2/clouds/2017JAN01MOD09GA_close/closed.tfrecord\n",
      "38\n",
      "38 38\n",
      "/home/tkurihana/scratch-midway2/clouds/2017JAN02MOD09GA_open/open.tfrecord\n",
      "6\n",
      "/home/tkurihana/scratch-midway2/clouds/2017JAN02MOD09GA_close/closed.tfrecord\n",
      "29\n",
      "6 29\n",
      "/home/tkurihana/scratch-midway2/clouds/2017JAN03MOD09GA_open/open.tfrecord\n",
      "17\n",
      "/home/tkurihana/scratch-midway2/clouds/2017JAN03MOD09GA_close/closed.tfrecord\n",
      "77\n",
      "17 77\n",
      "/home/tkurihana/scratch-midway2/clouds/2017JAN04MOD09GA_open/open.tfrecord\n",
      "28\n",
      "/home/tkurihana/scratch-midway2/clouds/2017JAN04MOD09GA_close/closed.tfrecord\n",
      "5\n",
      "28 5\n"
     ]
    }
   ],
   "source": [
    "# get file number\n",
    "for i in range(4):\n",
    "    opendir    = OPENDATADIR\n",
    "    openfile   = OPENS\n",
    "    closeddir  = CLOSEDATADIR\n",
    "    closedfile = CLOSEDS\n",
    "    keyward = keylist[i]\n",
    "\n",
    "    _OPENS   = opendir+keyward+\"_open\"+openfile\n",
    "    _CLOSEDS = closeddir+keyward+\"_close\"+closedfile\n",
    "    no = _decode_tfrecord(_OPENS)\n",
    "    nc = _decode_tfrecord(_CLOSEDS)\n",
    "    print(no, nc)"
   ]
  },
  {
   "cell_type": "code",
   "execution_count": 20,
   "metadata": {},
   "outputs": [],
   "source": [
    "def _dirname(keyward, opendir, openfile, closeddir, closedfile):\n",
    "    OPENS   = opendir+keyward+\"_open\"+openfile\n",
    "    CLOSEDS = closeddir+keyward+\"_close\"+closedfile\n",
    "    return OPENS , CLOSEDS"
   ]
  },
  {
   "cell_type": "code",
   "execution_count": 21,
   "metadata": {},
   "outputs": [],
   "source": [
    "fopen, fclose = _dirname('2017JAN03MOD09GA', OPENDATADIR, OPENS, CLOSEDATADIR, CLOSEDS)"
   ]
  },
  {
   "cell_type": "code",
   "execution_count": 22,
   "metadata": {},
   "outputs": [
    {
     "data": {
      "text/plain": [
       "'/home/tkurihana/scratch-midway2/clouds/2017JAN03MOD09GA_open/open.tfrecord'"
      ]
     },
     "execution_count": 22,
     "metadata": {},
     "output_type": "execute_result"
    }
   ],
   "source": [
    "fopen"
   ]
  },
  {
   "cell_type": "code",
   "execution_count": 39,
   "metadata": {},
   "outputs": [],
   "source": [
    "# size of patches for using\n",
    "N = 30"
   ]
  },
  {
   "cell_type": "code",
   "execution_count": 40,
   "metadata": {
    "scrolled": false
   },
   "outputs": [],
   "source": [
    "## Repeat off and set reasonable n (patch) number\n",
    "#opens = analysis.AEData(load_data(fopen, encoder.input_shape[1:], repeat=False), n=N)\n",
    "closeds = analysis.AEData(load_data(fclose, encoder.input_shape[1:], repeat=False), n=N)  \n",
    "#  encoder \n",
    "#opens.add_encoder(encoder)\n",
    "closeds.add_encoder(encoder)"
   ]
  },
  {
   "cell_type": "code",
   "execution_count": 59,
   "metadata": {},
   "outputs": [],
   "source": [
    "fopen, fclose = _dirname('2017JAN03MOD09GA', OPENDATADIR, OPENS, CLOSEDATADIR, CLOSEDS)"
   ]
  },
  {
   "cell_type": "code",
   "execution_count": 61,
   "metadata": {},
   "outputs": [],
   "source": [
    "# size of patches for using\n",
    "N = 10"
   ]
  },
  {
   "cell_type": "code",
   "execution_count": 62,
   "metadata": {},
   "outputs": [],
   "source": [
    "## Repeat off and set reasonable n (patch) number\n",
    "opens = analysis.AEData(load_data(fopen, encoder.input_shape[1:], repeat=False), n=N)\n",
    "#closeds = analysis.AEData(load_data(fclose, encoder.input_shape[1:], repeat=False), n=N)  \n",
    "#  encoder \n",
    "opens.add_encoder(encoder)\n",
    "#closeds.add_encoder(encoder)"
   ]
  },
  {
   "cell_type": "code",
   "execution_count": 63,
   "metadata": {},
   "outputs": [],
   "source": [
    "#  cluster\n",
    "k.cluster_centers_ = centers"
   ]
  },
  {
   "cell_type": "code",
   "execution_count": 64,
   "metadata": {},
   "outputs": [],
   "source": [
    "both = np.append(opens.encs,closeds.encs, axis=0)\n",
    "num_clusters = 10\n",
    "method = SpectralClustering(n_clusters=num_clusters, affinity=\"nearest_neighbors\")\n",
    "clusters = method.fit_predict(both)\n",
    "o, c = clusters[:10], clusters[10:]"
   ]
  },
  {
   "cell_type": "code",
   "execution_count": 66,
   "metadata": {},
   "outputs": [
    {
     "data": {
      "text/plain": [
       "0.6166666666666667"
      ]
     },
     "execution_count": 66,
     "metadata": {},
     "output_type": "execute_result"
    }
   ],
   "source": [
    "# Probability you correctly classify open vs closed given cluster assignments\n",
    "# Over N = 10, correctness works fine by T. Kurihana\n",
    "correctness = 0\n",
    "for i in range(10):\n",
    "    # Add one open and closed cell to every class to increase uncertainty\n",
    "    # in clusters with few examples\n",
    "    n_open = np.where(o == i)[0].shape[0] #+ 1\n",
    "    n_clos = np.where(c == i)[0].shape[0] #+ 1\n",
    "    n_clus = n_open + n_clos\n",
    "    #print('n_clus == ', n_clus, 'open and close %d' %(n_open , n_clos))\n",
    "    \n",
    "    prob_open = n_open / n_clus\n",
    "    correctness += n_clus * max(prob_open, 1 - prob_open)\n",
    "    \n",
    "correctness /= 60  # 30 + 30 ??\n",
    "correctness  # hybrid ration 1/100% means totally separeted <==> 0/0% means totally same "
   ]
  },
  {
   "cell_type": "code",
   "execution_count": 67,
   "metadata": {},
   "outputs": [
    {
     "data": {
      "text/plain": [
       "<matplotlib.legend.Legend at 0x7feb48e219e8>"
      ]
     },
     "execution_count": 67,
     "metadata": {},
     "output_type": "execute_result"
    },
    {
     "data": {
      "image/png": "[encoded data removed]",
      "text/plain": [
       "<Figure size 1080x360 with 1 Axes>"
      ]
     },
     "metadata": {
      "needs_background": "light"
     },
     "output_type": "display_data"
    }
   ],
   "source": [
    "plt.figure(figsize=(15, 5))\n",
    "plt.hist([o,c], bins=num_clusters, label=[\"opens\", \"closeds\"])\n",
    "plt.xlabel(\"Cluster number in: \"+str(method))\n",
    "plt.xticks(range(num_clusters))\n",
    "plt.ylabel(\"Examples in cluster\")\n",
    "plt.title(\"%d clusters trained on `mod09cnn15b-585000` spatially averaged encodings (correctness %f)\"%(num_clusters, correctness))\n",
    "plt.legend()"
   ]
  },
  {
   "cell_type": "code",
   "execution_count": 69,
   "metadata": {},
   "outputs": [],
   "source": [
    "fopen, fclose = _dirname('2017JAN01MOD09GA', OPENDATADIR, OPENS, CLOSEDATADIR, CLOSEDS)"
   ]
  },
  {
   "cell_type": "code",
   "execution_count": 70,
   "metadata": {},
   "outputs": [],
   "source": [
    "## Repeat off and set reasonable n (patch) number\n",
    "N = 30\n",
    "opens = analysis.AEData(load_data(fopen, encoder.input_shape[1:], repeat=False), n=N)\n",
    "closeds = analysis.AEData(load_data(fclose, encoder.input_shape[1:], repeat=False), n=N)  \n",
    "#  encoder \n",
    "opens.add_encoder(encoder)\n",
    "closeds.add_encoder(encoder)"
   ]
  },
  {
   "cell_type": "code",
   "execution_count": 72,
   "metadata": {},
   "outputs": [],
   "source": [
    "both = np.append(opens.encs,closeds.encs, axis=0)\n",
    "num_clusters = 10\n",
    "method = SpectralClustering(n_clusters=num_clusters, affinity=\"nearest_neighbors\")\n",
    "clusters = method.fit_predict(both)\n",
    "o_1, c_1 = clusters[:30], clusters[30:]"
   ]
  },
  {
   "cell_type": "code",
   "execution_count": 75,
   "metadata": {},
   "outputs": [],
   "source": [
    "# Combine x + x_1\n",
    "_o = [o, o_1]\n",
    "_c = [c, c_1]"
   ]
  },
  {
   "cell_type": "code",
   "execution_count": 68,
   "metadata": {},
   "outputs": [],
   "source": [
    "def cluster_distribution(cluster_labels):\n",
    "    # return count\n",
    "    distribution = np.unique(cluster_labels, return_counts=True)[1]\n",
    "    return distribution/distribution.sum()"
   ]
  },
  {
   "cell_type": "code",
   "execution_count": 82,
   "metadata": {},
   "outputs": [],
   "source": [
    "o_distributions = []\n",
    "c_distributions = []\n",
    "for i, j in zip(_o, _c):\n",
    "    o_distributions += [ cluster_distribution(i)]\n",
    "    c_distributions += [ cluster_distribution(j)]"
   ]
  },
  {
   "cell_type": "code",
   "execution_count": 83,
   "metadata": {},
   "outputs": [
    {
     "data": {
      "text/plain": [
       "[array([0.4, 0.5, 0.1]),\n",
       " array([0.03333333, 0.26666667, 0.23333333, 0.2       , 0.16666667,\n",
       "        0.1       ])]"
      ]
     },
     "execution_count": 83,
     "metadata": {},
     "output_type": "execute_result"
    }
   ],
   "source": [
    "o_distributions"
   ]
  },
  {
   "cell_type": "code",
   "execution_count": 84,
   "metadata": {},
   "outputs": [
    {
     "data": {
      "text/plain": [
       "[array([0.13333333, 0.06666667, 0.13333333, 0.2       , 0.06666667,\n",
       "        0.13333333, 0.1       , 0.1       , 0.06666667]),\n",
       " array([0.23333333, 0.16666667, 0.3       , 0.2       , 0.1       ])]"
      ]
     },
     "execution_count": 84,
     "metadata": {},
     "output_type": "execute_result"
    }
   ],
   "source": [
    "c_distributions"
   ]
  },
  {
   "cell_type": "code",
   "execution_count": 87,
   "metadata": {},
   "outputs": [
    {
     "name": "stderr",
     "output_type": "stream",
     "text": [
      "/home/tkurihana/.conda/envs/py3501/lib/python3.6/site-packages/scipy/stats/stats.py:1713: FutureWarning: Using a non-tuple sequence for multidimensional indexing is deprecated; use `arr[tuple(seq)]` instead of `arr[seq]`. In the future this will be interpreted as an array index, `arr[np.array(seq)]`, which will result either in an error or a different result.\n",
      "  return np.add.reduce(sorted[indexer] * weights, axis=axis) / sumval\n",
      "/home/tkurihana/.conda/envs/py3501/lib/python3.6/site-packages/statsmodels/nonparametric/kde.py:488: RuntimeWarning: invalid value encountered in true_divide\n",
      "  binned = fast_linbin(X, a, b, gridsize) / (delta * nobs)\n",
      "/home/tkurihana/.conda/envs/py3501/lib/python3.6/site-packages/statsmodels/nonparametric/kdetools.py:34: RuntimeWarning: invalid value encountered in double_scalars\n",
      "  FAC1 = 2*(np.pi*bw/RANGE)**2\n",
      "/home/tkurihana/.conda/envs/py3501/lib/python3.6/site-packages/numpy/core/fromnumeric.py:83: RuntimeWarning: invalid value encountered in reduce\n",
      "  return ufunc.reduce(obj, axis, dtype, out, **passkwargs)\n"
     ]
    },
    {
     "data": {
      "text/plain": [
       "<matplotlib.legend.Legend at 0x7feb6423d0b8>"
      ]
     },
     "execution_count": 87,
     "metadata": {},
     "output_type": "execute_result"
    },
    {
     "data": {
      "image/png": "[encoded data removed]",
      "text/plain": [
       "<Figure size 720x360 with 1 Axes>"
      ]
     },
     "metadata": {
      "needs_background": "light"
     },
     "output_type": "display_data"
    }
   ],
   "source": [
    "ds = {}\n",
    "ds[\"intra-opens\"]   = [wasserstein_distance(x,y) for x in o_distributions for y in o_distributions if x is not y]\n",
    "ds[\"interclass\"]    = [wasserstein_distance(x,y) for x in o_distributions for y in c_distributions if x is not y]\n",
    "ds[\"intra-closeds\"] = [wasserstein_distance(x,y) for x in c_distributions for y in c_distributions if x is not y]\n",
    "\n",
    "plt.figure(figsize=(10, 5))\n",
    "for i, h in ds.items():\n",
    "    seaborn.distplot(h, label=i, norm_hist=True)\n",
    "plt.ylabel(\"Density\")\n",
    "plt.xlabel(\"Earth Mover's Distance\")\n",
    "plt.title(\"Pairwise EMD for stratocumulus cluster distributions\")\n",
    "plt.legend()"
   ]
  },
  {
   "cell_type": "code",
   "execution_count": 88,
   "metadata": {},
   "outputs": [
    {
     "name": "stdout",
     "output_type": "stream",
     "text": [
      "intra-opens\n",
      "[0.16666666666666669, 0.16666666666666669]\n",
      "interclass\n",
      "[0.22222222222222227, 0.15111111111111114, 0.06666666666666667, 0.033333333333333326]\n",
      "intra-closeds\n",
      "[0.08888888888888889, 0.08888888888888889]\n"
     ]
    }
   ],
   "source": [
    "for i, h in ds.items():\n",
    "    print(i)\n",
    "    print(h)"
   ]
  },
  {
   "cell_type": "code",
   "execution_count": 92,
   "metadata": {},
   "outputs": [
    {
     "data": {
      "text/plain": [
       "<matplotlib.legend.Legend at 0x7feb4935a208>"
      ]
     },
     "execution_count": 92,
     "metadata": {},
     "output_type": "execute_result"
    },
    {
     "data": {
      "image/png": "[encoded data removed]",
      "text/plain": [
       "<Figure size 432x288 with 1 Axes>"
      ]
     },
     "metadata": {
      "needs_background": "light"
     },
     "output_type": "display_data"
    }
   ],
   "source": [
    "for i, h in ds.items():\n",
    "    plt.plot(h, label=i)\n",
    "plt.ylabel(\"Earth Mover's Distance\")\n",
    "plt.legend()"
   ]
  },
  {
   "cell_type": "code",
   "execution_count": 99,
   "metadata": {},
   "outputs": [
    {
     "data": {
      "text/plain": [
       "<matplotlib.legend.Legend at 0x7feaac142518>"
      ]
     },
     "execution_count": 99,
     "metadata": {},
     "output_type": "execute_result"
    },
    {
     "data": {
      "image/png": "[encoded data removed]",
      "text/plain": [
       "<Figure size 432x288 with 1 Axes>"
      ]
     },
     "metadata": {
      "needs_background": "light"
     },
     "output_type": "display_data"
    }
   ],
   "source": [
    "for i, h in ds.items():\n",
    "    _y = np.linspace(0,1,len(h))\n",
    "    plt.scatter(h,_y, label=i)\n",
    "plt.ylabel(\"Earth Mover's Distance\")\n",
    "plt.legend()"
   ]
  }
 ],
 "metadata": {
  "kernelspec": {
   "display_name": "Python 3",
   "language": "python",
   "name": "python3"
  },
  "language_info": {
   "codemirror_mode": {
    "name": "ipython",
    "version": 3
   },
   "file_extension": ".py",
   "mimetype": "text/x-python",
   "name": "python",
   "nbconvert_exporter": "python",
   "pygments_lexer": "ipython3",
   "version": "3.6.6"
  }
 },
 "nbformat": 4,
 "nbformat_minor": 2
}
