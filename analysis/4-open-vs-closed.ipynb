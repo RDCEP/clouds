{
 "cells": [
  {
   "cell_type": "code",
   "execution_count": 9,
   "metadata": {},
   "outputs": [
    {
     "name": "stdout",
     "output_type": "stream",
     "text": [
      "The autoreload extension is already loaded. To reload it, use:\n",
      "  %reload_ext autoreload\n"
     ]
    }
   ],
   "source": [
    "%load_ext autoreload\n",
    "%autoreload 2\n",
    "\n",
    "import sys\n",
    "import os\n",
    "import sklearn\n",
    "import numpy as np\n",
    "import tensorflow as tf\n",
    "import matplotlib.pyplot as plt\n",
    "\n",
    "from osgeo import gdal\n",
    "from mpl_toolkits.mplot3d import Axes3D\n",
    "from sklearn.linear_model import LogisticRegression\n",
    "\n",
    "sys.path.insert(1, os.path.join(sys.path[0], \"..\"))\n",
    "from reproduction.pipeline import load as pipeline\n",
    "from reproduction.analysis import AEData, plot_cluster_channel_distributions, plot_cluster_samples"
   ]
  },
  {
   "cell_type": "code",
   "execution_count": 2,
   "metadata": {
    "scrolled": true
   },
   "outputs": [],
   "source": [
    "model_dir = \"../output/mod09cnn13/\"\n",
    "\n",
    "with open(model_dir + \"ae.json\", \"r\") as f:\n",
    "    ae = tf.keras.models.model_from_json(f.read())\n",
    "ae.load_weights(model_dir + \"ae.h5\")"
   ]
  },
  {
   "cell_type": "code",
   "execution_count": 3,
   "metadata": {},
   "outputs": [],
   "source": [
    "def filename_contains_fn(substr):\n",
    "    def fn (fnames, _, __):\n",
    "        return tf.py_func(lambda fname: substr in str(fname), [fnames[0]], tf.bool, False)\n",
    "    return fn"
   ]
  },
  {
   "cell_type": "code",
   "execution_count": 4,
   "metadata": {},
   "outputs": [],
   "source": [
    "labeled_data =  pipeline.load_data(\n",
    "    data_glob=\"../data/closed_open_cell/*.tfrecord\",\n",
    "    shape=(128, 128, 7),\n",
    "    batch_size=32,\n",
    "    read_threads=4,\n",
    "    shuffle_buffer_size=100,\n",
    "    prefetch=2\n",
    ")"
   ]
  },
  {
   "cell_type": "code",
   "execution_count": 5,
   "metadata": {},
   "outputs": [],
   "source": [
    "open_cells = labeled_data.filter(filename_contains_fn(\"open-cell\"))\n",
    "closed_cells = labeled_data.filter(filename_contains_fn(\"closed-cell\"))"
   ]
  },
  {
   "cell_type": "markdown",
   "metadata": {},
   "source": [
    "# Logistic Regression (Open vs Closed Cell Stratocumulus)"
   ]
  },
  {
   "cell_type": "code",
   "execution_count": 27,
   "metadata": {},
   "outputs": [],
   "source": [
    "fields = [\"b%d\"%(i+1) for i in range(7)]\n",
    "n_test = 100\n",
    "n_train = 2000\n",
    "n = n_train + n_test"
   ]
  },
  {
   "cell_type": "code",
   "execution_count": 28,
   "metadata": {},
   "outputs": [],
   "source": [
    "opens = AEData(open_cells, ae, fields, n)\n",
    "closeds = AEData(closed_cells, ae, fields, n)"
   ]
  },
  {
   "cell_type": "code",
   "execution_count": 29,
   "metadata": {},
   "outputs": [],
   "source": [
    "for d in (opens, closeds):\n",
    "    nuniq = len(set((tuple(a), b) for a, b in zip(d.coords, d.names)))\n",
    "    assert nuniq == n_test + n_train"
   ]
  },
  {
   "cell_type": "markdown",
   "metadata": {},
   "source": [
    "## Baseline: Logistic regression using only patch mean and stdev"
   ]
  },
  {
   "cell_type": "code",
   "execution_count": 30,
   "metadata": {},
   "outputs": [
    {
     "data": {
      "text/plain": [
       "0.54"
      ]
     },
     "execution_count": 30,
     "metadata": {},
     "output_type": "execute_result"
    }
   ],
   "source": [
    "base_features = np.stack([ \n",
    "    np.concatenate([opens.imgs.mean(axis=(1,2,3)), closeds.imgs.mean(axis=(1,2,3))]),\n",
    "    np.concatenate([opens.imgs.std(axis=(1,2,3)), closeds.imgs.std(axis=(1,2,3))])\n",
    "], axis=1)\n",
    "\n",
    "lr_b = LogisticRegression().fit(\n",
    "    X=np.concatenate([\n",
    "        base_features[:n_train],\n",
    "        base_features[n: n+n_train]\n",
    "    ]),\n",
    "    y=([0] * n_train + [1] * n_train))\n",
    "\n",
    "lr_b.score(\n",
    "    X=np.concatenate([base_features[n_train:n], base_features[n + n_train:]]),\n",
    "    y=([0] * n_test + [1] * n_test),\n",
    ")"
   ]
  },
  {
   "cell_type": "code",
   "execution_count": 31,
   "metadata": {},
   "outputs": [
    {
     "data": {
      "text/plain": [
       "array([0.6257706, 0.2675887], dtype=float32)"
      ]
     },
     "execution_count": 31,
     "metadata": {},
     "output_type": "execute_result"
    }
   ],
   "source": [
    "base_features.std(axis=0)"
   ]
  },
  {
   "cell_type": "code",
   "execution_count": 32,
   "metadata": {},
   "outputs": [
    {
     "data": {
      "text/plain": [
       "array([[-0.02176081, -0.41599479]])"
      ]
     },
     "execution_count": 32,
     "metadata": {},
     "output_type": "execute_result"
    }
   ],
   "source": [
    "lr_b.coef_"
   ]
  },
  {
   "cell_type": "markdown",
   "metadata": {},
   "source": [
    "## Logistic Regression on AE features"
   ]
  },
  {
   "cell_type": "code",
   "execution_count": 33,
   "metadata": {},
   "outputs": [
    {
     "data": {
      "text/plain": [
       "0.54"
      ]
     },
     "execution_count": 33,
     "metadata": {},
     "output_type": "execute_result"
    }
   ],
   "source": [
    "ofeat = np.reshape(opens.raw_encs, (n, -1))\n",
    "cfeat = np.reshape(closeds.raw_encs, (n, -1))\n",
    "\n",
    "\n",
    "lr = LogisticRegression(penalty=\"l1\").fit(\n",
    "    X=np.concatenate([ofeat[:n_train], cfeat[:n_train]]),\n",
    "    y=([0] * n_train + [1] * n_train),\n",
    ")\n",
    "lr.score(\n",
    "    X=np.concatenate([ofeat[n_train:], cfeat[n_train:]]),\n",
    "    y=([0] * n_test + [1] * n_test),\n",
    ")"
   ]
  },
  {
   "cell_type": "code",
   "execution_count": 34,
   "metadata": {},
   "outputs": [
    {
     "data": {
      "image/png": "[encoded data removed]",
      "text/plain": [
       "<Figure size 432x288 with 1 Axes>"
      ]
     },
     "metadata": {},
     "output_type": "display_data"
    }
   ],
   "source": [
    "plt.hist(lr.coef_.ravel());"
   ]
  },
  {
   "cell_type": "markdown",
   "metadata": {},
   "source": [
    "## Logistic Regression on Spatially Averaged AE features"
   ]
  },
  {
   "cell_type": "code",
   "execution_count": 62,
   "metadata": {},
   "outputs": [
    {
     "data": {
      "text/plain": [
       "0.605"
      ]
     },
     "execution_count": 62,
     "metadata": {},
     "output_type": "execute_result"
    }
   ],
   "source": [
    "ofeat = opens.encs\n",
    "cfeat = closeds.encs\n",
    "\n",
    "lr = LogisticRegression(penalty=\"l2\").fit(\n",
    "    X=np.concatenate([ofeat[:n_train], cfeat[:n_train]]),\n",
    "    y=([0] * n_train + [1] * n_train),\n",
    ")\n",
    "lr.score(\n",
    "    X=np.concatenate([ofeat[n_train:], cfeat[n_train:]]),\n",
    "    y=([0] * n_test + [1] * n_test),\n",
    ")"
   ]
  },
  {
   "cell_type": "markdown",
   "metadata": {},
   "source": [
    "## Logistic Regression on mean/std of AE features\n"
   ]
  },
  {
   "cell_type": "code",
   "execution_count": 55,
   "metadata": {},
   "outputs": [
    {
     "data": {
      "text/plain": [
       "0.61"
      ]
     },
     "execution_count": 55,
     "metadata": {},
     "output_type": "execute_result"
    }
   ],
   "source": [
    "_features = np.stack([ \n",
    "    np.concatenate([ofeat.mean(axis=1), cfeat.mean(axis=1)]),\n",
    "    np.concatenate([ofeat.std(axis=1), cfeat.std(axis=1)])\n",
    "], axis=1)\n",
    "\n",
    "lr = LogisticRegression().fit(\n",
    "    X=np.concatenate([\n",
    "        _features[:n_train],\n",
    "        _features[n: n+n_train]\n",
    "    ]),\n",
    "    y=([0] * n_train + [1] * n_train)\n",
    ")\n",
    "\n",
    "lr.score(\n",
    "    X=np.concatenate([_features[n_train:n], _features[n + n_train:]]),\n",
    "    y=([0] * n_test + [1] * n_test),\n",
    ")"
   ]
  },
  {
   "cell_type": "code",
   "execution_count": 56,
   "metadata": {
    "scrolled": true
   },
   "outputs": [
    {
     "data": {
      "text/plain": [
       "array([[-0.02176081, -0.41599479]])"
      ]
     },
     "execution_count": 56,
     "metadata": {},
     "output_type": "execute_result"
    }
   ],
   "source": [
    "lr_b.coef_"
   ]
  },
  {
   "cell_type": "markdown",
   "metadata": {},
   "source": [
    "## Logistic Regression on top 3 Principle Components of AE features\n"
   ]
  },
  {
   "cell_type": "code",
   "execution_count": 57,
   "metadata": {},
   "outputs": [],
   "source": [
    "data = AEData(\n",
    "    dataset=pipeline.load_data(\n",
    "        data_glob=\"../data/tif/*.tfrecord\",\n",
    "        shape=(128, 128, 7),\n",
    "        batch_size=32,\n",
    "        read_threads=4,\n",
    "        shuffle_buffer_size=100,\n",
    "        prefetch=2\n",
    "    ),\n",
    "    ae=ae,\n",
    "    fields=[\"b%d\"%(i+1) for i in range(7)],\n",
    "    n=1000\n",
    ")"
   ]
  },
  {
   "cell_type": "code",
   "execution_count": 58,
   "metadata": {},
   "outputs": [],
   "source": [
    "d = 256"
   ]
  },
  {
   "cell_type": "code",
   "execution_count": 59,
   "metadata": {},
   "outputs": [
    {
     "data": {
      "text/plain": [
       "0.625"
      ]
     },
     "execution_count": 59,
     "metadata": {},
     "output_type": "execute_result"
    }
   ],
   "source": [
    "_features = np.concatenate([\n",
    "    data.pca_project(opens, d).T,\n",
    "    data.pca_project(closeds, d).T\n",
    "])\n",
    "\n",
    "lr = LogisticRegression(penalty=\"l1\").fit(\n",
    "    X=np.concatenate([\n",
    "        _features[:n_train],\n",
    "        _features[n: n+n_train]\n",
    "    ]),\n",
    "    y=([0] * n_train + [1] * n_train)\n",
    ")\n",
    "\n",
    "lr.score(\n",
    "    X=np.concatenate([_features[n_train:n], _features[n + n_train:]]),\n",
    "    y=([0] * n_test + [1] * n_test),\n",
    ")"
   ]
  },
  {
   "cell_type": "markdown",
   "metadata": {},
   "source": [
    "Rotating into principle component axis improves things a bit, I think its because the L1 regularization is axis aligned. PCA has independent components."
   ]
  },
  {
   "cell_type": "code",
   "execution_count": 51,
   "metadata": {},
   "outputs": [
    {
     "data": {
      "image/png": "[encoded data removed]",
      "text/plain": [
       "<Figure size 432x288 with 1 Axes>"
      ]
     },
     "metadata": {},
     "output_type": "display_data"
    }
   ],
   "source": [
    "plt.hist(lr.coef_.ravel());\n",
    "plt.yscale(\"log\")"
   ]
  },
  {
   "cell_type": "code",
   "execution_count": null,
   "metadata": {},
   "outputs": [],
   "source": []
  },
  {
   "cell_type": "code",
   "execution_count": null,
   "metadata": {},
   "outputs": [],
   "source": []
  }
 ],
 "metadata": {
  "kernelspec": {
   "display_name": "Python (clouds)",
   "language": "python",
   "name": "clouds"
  },
  "language_info": {
   "codemirror_mode": {
    "name": "ipython",
    "version": 3
   },
   "file_extension": ".py",
   "mimetype": "text/x-python",
   "name": "python",
   "nbconvert_exporter": "python",
   "pygments_lexer": "ipython3",
   "version": "3.6.6"
  }
 },
 "nbformat": 4,
 "nbformat_minor": 2
}
