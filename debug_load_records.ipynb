{
 "cells": [
  {
   "cell_type": "code",
   "execution_count": 12,
   "metadata": {},
   "outputs": [],
   "source": [
    "from dnn import pipeline\n",
    "import os\n",
    "import tensorflow as tf\n",
    "from tensorflow.contrib.data import shuffle_and_repeat, batch_and_drop_remainder"
   ]
  },
  {
   "cell_type": "code",
   "execution_count": 15,
   "metadata": {},
   "outputs": [],
   "source": [
    "meta_json = \"ex.json\"\n",
    "hdf_fields = ['Cloud_Optical_Thickness', 'Cloud_Effective_Radius']\n",
    "data_files = [\"ex.tfrecord\"]\n",
    "shape = (64, 64)\n",
    "batch_size = 32"
   ]
  },
  {
   "cell_type": "code",
   "execution_count": 21,
   "metadata": {},
   "outputs": [],
   "source": [
    "chans, parser = pipeline.hdf_tfr_fn(hdf_fields, meta_json)\n",
    "dataset = (\n",
    "    tf.data.Dataset.from_tensor_slices(data_files)\n",
    "    .apply(shuffle_and_repeat(100))\n",
    "    .flat_map(tf.data.TFRecordDataset)\n",
    "    .map(parser)\n",
    "    .interleave(pipeline.patchify_fn(*shape[:2], chans), cycle_length=4)\n",
    "    .shuffle(10000)\n",
    "    .apply(batch_and_drop_remainder(batch_size))\n",
    ")"
   ]
  },
  {
   "cell_type": "code",
   "execution_count": 22,
   "metadata": {},
   "outputs": [],
   "source": [
    "x = dataset.make_one_shot_iterator().get_next()\n",
    "with tf.Session() as sess:\n",
    "    y = sess.run(x)"
   ]
  },
  {
   "cell_type": "code",
   "execution_count": 23,
   "metadata": {},
   "outputs": [
    {
     "data": {
      "text/plain": [
       "(32, 64, 64, 2)"
      ]
     },
     "execution_count": 23,
     "metadata": {},
     "output_type": "execute_result"
    }
   ],
   "source": [
    "y.shape"
   ]
  },
  {
   "cell_type": "code",
   "execution_count": null,
   "metadata": {},
   "outputs": [],
   "source": []
  }
 ],
 "metadata": {
  "kernelspec": {
   "display_name": "Python 3",
   "language": "python",
   "name": "python3"
  },
  "language_info": {
   "codemirror_mode": {
    "name": "ipython",
    "version": 3
   },
   "file_extension": ".py",
   "mimetype": "text/x-python",
   "name": "python",
   "nbconvert_exporter": "python",
   "pygments_lexer": "ipython3",
   "version": "3.6.6"
  }
 },
 "nbformat": 4,
 "nbformat_minor": 2
}
