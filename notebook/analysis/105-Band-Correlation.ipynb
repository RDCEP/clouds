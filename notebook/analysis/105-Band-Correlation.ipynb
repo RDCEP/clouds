{
 "cells": [
  {
   "cell_type": "markdown",
   "metadata": {},
   "source": [
    "## Calculate correlation between bands"
   ]
  },
  {
   "cell_type": "code",
   "execution_count": 10,
   "metadata": {},
   "outputs": [],
   "source": [
    "%reload_ext autoreload\n",
    "%autoreload 2\n",
    "import os\n",
    "import gc\n",
    "import re\n",
    "import sys\n",
    "import glob\n",
    "import pickle\n",
    "import itertools\n",
    "import numpy as np\n",
    "import scipy\n",
    "import scipy as sc\n",
    "import pandas as pd\n",
    "import tensorflow as tf\n",
    "import matplotlib\n",
    "import matplotlib.pyplot as plt\n",
    "try:\n",
    "    from pyhdf.SD import SD, SDC\n",
    "except:\n",
    "    pass\n",
    "from tensorflow.python.keras.models import Model\n",
    "from tensorflow.data.experimental import parallel_interleave\n",
    "from scipy.stats import pearsonr\n",
    "from matplotlib.colors import LinearSegmentedColormap\n",
    "from matplotlib import patches as mpl_patches\n",
    "from matplotlib.backends.backend_pdf import PdfPages"
   ]
  },
  {
   "cell_type": "code",
   "execution_count": 81,
   "metadata": {},
   "outputs": [],
   "source": [
    "import seaborn as sns"
   ]
  },
  {
   "cell_type": "markdown",
   "metadata": {},
   "source": [
    "#### Load patches"
   ]
  },
  {
   "cell_type": "code",
   "execution_count": 3,
   "metadata": {},
   "outputs": [],
   "source": [
    "def data_extractor_fn(filelist,prefetch=1,read_threads=1, distribute=(1, 0), shape_size=3):\n",
    "    def parser(ser):\n",
    "        \"\"\"\n",
    "        Decode & Pass datast in tf.record\n",
    "        *Cuation*\n",
    "        floating point: tfrecord data ==> tf.float64\n",
    "        \"\"\"\n",
    "\n",
    "        features = {\n",
    "            \"shape\": tf.FixedLenFeature([shape_size], tf.int64),\n",
    "            \"patch\": tf.FixedLenFeature([], tf.string),\n",
    "            \"filename\": tf.FixedLenFeature([], tf.string),\n",
    "            \"coordinate\": tf.FixedLenFeature([2], tf.int64),\n",
    "        }        \n",
    "        decoded = tf.parse_single_example(ser, features)\n",
    "        patch = tf.reshape(\n",
    "            tf.decode_raw(decoded[\"patch\"], tf.float64), decoded[\"shape\"]\n",
    "        )\n",
    "        #patch = tf.cast(patch, tf.float32)\n",
    "        return patch\n",
    "    \n",
    "    dataset = (\n",
    "        tf.data.Dataset.list_files(filelist, shuffle=True)\n",
    "            .shard(*distribute)\n",
    "            .apply(\n",
    "            parallel_interleave(\n",
    "                lambda f: tf.data.TFRecordDataset(f).map(parser),\n",
    "                cycle_length=read_threads,\n",
    "                sloppy=True,\n",
    "            )\n",
    "        )\n",
    "    )\n",
    "    iterator = dataset.make_one_shot_iterator()\n",
    "\n",
    "    next_element = iterator.get_next()\n",
    "    idx = 0\n",
    "    with tf.Session() as sess:\n",
    "        try:\n",
    "            while True:\n",
    "                patch = sess.run(next_element)\n",
    "                if idx == 0:\n",
    "                    patches = np.expand_dims(patch, axis=0)\n",
    "                else:\n",
    "                    patches = np.concatenate(\n",
    "                        [patches,np.expand_dims(patch, axis=0) ], axis=0)\n",
    "                idx+=1\n",
    "        except tf.errors.OutOfRangeError:\n",
    "            print(\"OutOfRage --> finish process\")\n",
    "            pass\n",
    "    return patches"
   ]
  },
  {
   "cell_type": "code",
   "execution_count": 4,
   "metadata": {},
   "outputs": [],
   "source": [
    "tf_datadir='/project2/foster/clouds/data/clouds_laads_multiprocessed_2000_2018_band28_29_31_circle'"
   ]
  },
  {
   "cell_type": "code",
   "execution_count": 5,
   "metadata": {},
   "outputs": [],
   "source": [
    "filelist = glob.glob(os.path.join(tf_datadir, '*.tfrecord'))"
   ]
  },
  {
   "cell_type": "code",
   "execution_count": 103,
   "metadata": {},
   "outputs": [
    {
     "data": {
      "text/plain": [
       "16.4"
      ]
     },
     "execution_count": 103,
     "metadata": {},
     "output_type": "execute_result"
    }
   ],
   "source": [
    "len(filelist) * 41 / 60.00"
   ]
  },
  {
   "cell_type": "code",
   "execution_count": 105,
   "metadata": {},
   "outputs": [
    {
     "data": {
      "text/plain": [
       "35.15625"
      ]
     },
     "execution_count": 105,
     "metadata": {},
     "output_type": "execute_result"
    }
   ],
   "source": [
    "8*2000*128*128*6*len(filelist) /1024/1024/1024"
   ]
  },
  {
   "cell_type": "code",
   "execution_count": 6,
   "metadata": {
    "scrolled": false
   },
   "outputs": [
    {
     "name": "stdout",
     "output_type": "stream",
     "text": [
      "WARNING:tensorflow:From <ipython-input-3-16e8aec96b4c>:29: parallel_interleave (from tensorflow.python.data.experimental.ops.interleave_ops) is deprecated and will be removed in a future version.\n",
      "Instructions for updating:\n",
      "Use `tf.data.Dataset.interleave(map_func, cycle_length, block_length, num_parallel_calls=tf.data.experimental.AUTOTUNE)` instead. If sloppy execution is desired, use `tf.data.Options.experimental_determinstic`.\n",
      "WARNING:tensorflow:From <ipython-input-3-16e8aec96b4c>:33: DatasetV1.make_one_shot_iterator (from tensorflow.python.data.ops.dataset_ops) is deprecated and will be removed in a future version.\n",
      "Instructions for updating:\n",
      "Use `for ... in dataset:` to iterate over a dataset. If using `tf.estimator`, return the `Dataset` object directly from your input function. As a last resort, you can use `tf.compat.v1.data.make_one_shot_iterator(dataset)`.\n",
      "OutOfRage --> finish process\n"
     ]
    }
   ],
   "source": [
    "patches = None\n",
    "patches =data_extractor_fn(filelist[:2],read_threads=4,shape_size=3)"
   ]
  },
  {
   "cell_type": "code",
   "execution_count": 7,
   "metadata": {},
   "outputs": [
    {
     "data": {
      "text/plain": [
       "(4000, 128, 128, 6)"
      ]
     },
     "execution_count": 7,
     "metadata": {},
     "output_type": "execute_result"
    }
   ],
   "source": [
    "patches.shape"
   ]
  },
  {
   "cell_type": "markdown",
   "metadata": {},
   "source": [
    "### Band corerlation"
   ]
  },
  {
   "cell_type": "code",
   "execution_count": 15,
   "metadata": {},
   "outputs": [],
   "source": [
    "def calc_corr(patches):\n",
    "    ## compute pearson correlation\n",
    "    bands = [ str(i) for i in [6,7,20,28,29,31]]\n",
    "    index = np.arange(len(bands))\n",
    "    results = dict()\n",
    "    for (ix,iy) in  itertools.combinations(index,2):\n",
    "        x = patches[:,:,:,ix]\n",
    "        y = patches[:,:,:,iy]\n",
    "        corr, p_val = pearsonr(x.ravel(), y.ravel())\n",
    "\n",
    "        # results\n",
    "        iband = bands[ix]\n",
    "        jband = bands[iy]\n",
    "        results[f'band-{iband}-{jband}'] = {'corr':corr, 'p_val':p_val}\n",
    "    return results"
   ]
  },
  {
   "cell_type": "code",
   "execution_count": 16,
   "metadata": {},
   "outputs": [],
   "source": [
    "results = calc_corr(patches)"
   ]
  },
  {
   "cell_type": "code",
   "execution_count": 17,
   "metadata": {},
   "outputs": [
    {
     "data": {
      "text/plain": [
       "{'band-6-7': {'corr': 0.9814473948212111, 'p_val': 0.0},\n",
       " 'band-6-20': {'corr': 0.8134023730997031, 'p_val': 0.0},\n",
       " 'band-6-28': {'corr': 0.5138355547743066, 'p_val': 0.0},\n",
       " 'band-6-29': {'corr': 0.4591057930398692, 'p_val': 0.0},\n",
       " 'band-6-31': {'corr': 0.4814842257129496, 'p_val': 0.0},\n",
       " 'band-7-20': {'corr': 0.8777858486264039, 'p_val': 0.0},\n",
       " 'band-7-28': {'corr': 0.5074225068358733, 'p_val': 0.0},\n",
       " 'band-7-29': {'corr': 0.4538343821387192, 'p_val': 0.0},\n",
       " 'band-7-31': {'corr': 0.47515625650457094, 'p_val': 0.0},\n",
       " 'band-20-28': {'corr': 0.6916524943384856, 'p_val': 0.0},\n",
       " 'band-20-29': {'corr': 0.6808657167876959, 'p_val': 0.0},\n",
       " 'band-20-31': {'corr': 0.6841684665422068, 'p_val': 0.0},\n",
       " 'band-28-29': {'corr': 0.9776220449120818, 'p_val': 0.0},\n",
       " 'band-28-31': {'corr': 0.9853108935247994, 'p_val': 0.0},\n",
       " 'band-29-31': {'corr': 0.9969868222211934, 'p_val': 0.0}}"
      ]
     },
     "execution_count": 17,
     "metadata": {},
     "output_type": "execute_result"
    }
   ],
   "source": [
    "results"
   ]
  },
  {
   "cell_type": "code",
   "execution_count": 18,
   "metadata": {},
   "outputs": [],
   "source": [
    "### Save\n",
    "df = pd.DataFrame.from_dict(results, orient='index')\n",
    "df.to_csv('./band_corr-notebook.csv')"
   ]
  },
  {
   "cell_type": "markdown",
   "metadata": {},
   "source": [
    "### Make confusion matrix"
   ]
  },
  {
   "cell_type": "code",
   "execution_count": 77,
   "metadata": {},
   "outputs": [],
   "source": [
    "bands = [6,7,20,28,29,31]"
   ]
  },
  {
   "cell_type": "code",
   "execution_count": 78,
   "metadata": {},
   "outputs": [],
   "source": [
    "band2index = {6:0,7:1,20:2,28:3,29:4,31:5}"
   ]
  },
  {
   "cell_type": "code",
   "execution_count": 47,
   "metadata": {},
   "outputs": [],
   "source": [
    "n = 6\n",
    "corr_matrix = np.eye(n).astype(np.float64)\n",
    "\n",
    "for key, val in results.items():\n",
    "    nums = re.findall('[0-9]+',key)\n",
    "    ii= band2index[int(nums[0])]\n",
    "    jj= band2index[int(nums[1])]\n",
    "    corr_matrix[ii,jj] = val['corr']"
   ]
  },
  {
   "cell_type": "code",
   "execution_count": 118,
   "metadata": {},
   "outputs": [
    {
     "data": {
      "image/png": "[encoded data removed]",
      "text/plain": [
       "<Figure size 576x432 with 2 Axes>"
      ]
     },
     "metadata": {
      "needs_background": "light"
     },
     "output_type": "display_data"
    }
   ],
   "source": [
    "fs = 14\n",
    "fig=plt.figure(figsize=(8,6))\n",
    "x = np.arange(len(bands))\n",
    "im1= plt.imshow(corr_matrix, vmin=1.0e-10, vmax=1, cmap='viridis')\n",
    "im1.cmap.set_under('w')\n",
    "cbar = plt.colorbar()\n",
    "#cbar.ax.tick_params(labelsize=8) \n",
    "cbar.set_label('Correlation')\n",
    "#cbar.ax.set_label('Correlation', labelsize-fs)\n",
    "plt.ylim(-0.5,5.5)\n",
    "plt.xticks(x,[str(i) for i in bands], fontsize=fs)\n",
    "plt.yticks(x,[str(i) for i in bands], fontsize=fs)\n",
    "plt.gca().invert_yaxis()\n",
    "#plt.show()\n",
    "pdf = PdfPages(\"./corr-bands.pdf\")\n",
    "plt.savefig(pdf, format='pdf', bbox_inches = 'tight')\n",
    "plt.show()\n",
    "pdf.close()\n",
    "pdf = None"
   ]
  },
  {
   "cell_type": "code",
   "execution_count": null,
   "metadata": {},
   "outputs": [],
   "source": []
  }
 ],
 "metadata": {
  "kernelspec": {
   "display_name": "Python 3",
   "language": "python",
   "name": "python3"
  },
  "language_info": {
   "codemirror_mode": {
    "name": "ipython",
    "version": 3
   },
   "file_extension": ".py",
   "mimetype": "text/x-python",
   "name": "python",
   "nbconvert_exporter": "python",
   "pygments_lexer": "ipython3",
   "version": "3.6.6"
  }
 },
 "nbformat": 4,
 "nbformat_minor": 4
}
