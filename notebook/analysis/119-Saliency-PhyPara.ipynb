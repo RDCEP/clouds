{
 "cells": [
  {
   "cell_type": "markdown",
   "id": "empty-plain",
   "metadata": {},
   "source": [
    "## Notebook to analyze Saliency map and Physical propoerties\n",
    "TGRS [Kurihana et al. 2021](https://ieeexplore.ieee.org/document/9497325)  Appendix.F  \n",
    "Copy from `118-SailencyMap-TF2.ipynb`"
   ]
  },
  {
   "cell_type": "code",
   "execution_count": 2,
   "id": "apparent-suite",
   "metadata": {},
   "outputs": [
    {
     "name": "stdout",
     "output_type": "stream",
     "text": [
      "tensorflow 1.14.0\n",
      "keras 2.2.4-tf\n"
     ]
    }
   ],
   "source": [
    "%matplotlib inline\n",
    "import os\n",
    "import cv2\n",
    "import sys\n",
    "import pickle\n",
    "import tensorflow as tf\n",
    "import tensorflow.keras as keras\n",
    "import tensorflow.keras.backend as K\n",
    "from tensorflow.python.keras.models import Model\n",
    "\n",
    "import numpy as np\n",
    "import matplotlib as mpl\n",
    "import matplotlib.pyplot as plt\n",
    "from matplotlib.backends.backend_pdf import PdfPages\n",
    "\n",
    "from pyhdf.SD import SD, SDC\n",
    "\n",
    "print('tensorflow {}'.format(tf.__version__))\n",
    "print(\"keras {}\".format(keras.__version__))"
   ]
  },
  {
   "cell_type": "code",
   "execution_count": 3,
   "id": "advised-makeup",
   "metadata": {},
   "outputs": [],
   "source": [
    "libdir = '/home/tkurihana/Research/clouds/src_analysis/lib_hdfs'\n",
    "sys.path.insert(1,os.path.join(sys.path[0],libdir))\n",
    "from analysis_lib import mod06_proc_sds"
   ]
  },
  {
   "cell_type": "code",
   "execution_count": 66,
   "id": "beneficial-syndrome",
   "metadata": {},
   "outputs": [],
   "source": [
    "import re\n",
    "import gc\n",
    "import glob\n",
    "import pandas as pd"
   ]
  },
  {
   "cell_type": "code",
   "execution_count": 46,
   "id": "utility-tribune",
   "metadata": {},
   "outputs": [],
   "source": [
    "from scipy.stats import pearsonr\n",
    "from scipy.special import kl_div"
   ]
  },
  {
   "cell_type": "markdown",
   "id": "imposed-exhibition",
   "metadata": {},
   "source": [
    "### Load grads dictionary"
   ]
  },
  {
   "cell_type": "code",
   "execution_count": 4,
   "id": "terminal-ribbon",
   "metadata": {},
   "outputs": [],
   "source": [
    "with open(\"./saliency-grads_dict.pkl\", 'rb') as f:\n",
    "    grads_dict = pickle.load(f)"
   ]
  },
  {
   "cell_type": "markdown",
   "id": "valid-factor",
   "metadata": {},
   "source": [
    "#### resize 32x32 to 128x128"
   ]
  },
  {
   "cell_type": "code",
   "execution_count": 6,
   "id": "reported-farmer",
   "metadata": {},
   "outputs": [],
   "source": [
    "grads_patch_dict = {}\n",
    "for key, spatches in grads_dict.items():\n",
    "    rspatches = tf.image.resize(spatches, (128,128))\n",
    "    img = tf.keras.backend.eval(rspatches)\n",
    "    grads_patch_dict[key] = img"
   ]
  },
  {
   "cell_type": "code",
   "execution_count": 7,
   "id": "contained-simon",
   "metadata": {},
   "outputs": [
    {
     "name": "stdout",
     "output_type": "stream",
     "text": [
      "(240, 128, 128, 6)\n",
      "(240, 128, 128, 6)\n",
      "(240, 128, 128, 6)\n",
      "(240, 128, 128, 6)\n",
      "(240, 128, 128, 6)\n",
      "(240, 128, 128, 6)\n"
     ]
    }
   ],
   "source": [
    "for key, spatches in grads_patch_dict.items():\n",
    "    print(spatches.shape)"
   ]
  },
  {
   "cell_type": "markdown",
   "id": "cognitive-chest",
   "metadata": {},
   "source": [
    "### Extract MOD06 files & patches"
   ]
  },
  {
   "cell_type": "code",
   "execution_count": 8,
   "id": "isolated-minister",
   "metadata": {},
   "outputs": [],
   "source": [
    "sfiles = np.load('top20-selectedfiles.npy')"
   ]
  },
  {
   "cell_type": "code",
   "execution_count": 10,
   "id": "hundred-graham",
   "metadata": {},
   "outputs": [],
   "source": [
    "scoords = np.load('./top20-selectedcoords.npy')"
   ]
  },
  {
   "cell_type": "code",
   "execution_count": 32,
   "id": "opposed-emerald",
   "metadata": {},
   "outputs": [],
   "source": [
    "def get_filepath(filepath, datadir, prefix='',ext='.hdf'):\n",
    "    bname = os.path.basename(filepath) # ex. 2017213.2355\n",
    "    dateinfo = re.findall('[0-9]{7}.[0-9]{4}' , bname)\n",
    "    date     = dateinfo[0].rstrip(\"['\").lstrip(\"']\")\n",
    "    filelist = glob.glob(datadir+'/'+prefix+date+f'*{ext}')\n",
    "    try:\n",
    "        if len(filelist) > 0:\n",
    "            return filelist[0]\n",
    "    except:\n",
    "        efile = datadir+'/'+prefix+date+'*.hdf'\n",
    "        print(\" Program will be forcibly terminated\", flush=True)\n",
    "        raise NameError(\" ### File Not Found: No such file or directory \"+str(efile)+\" ### \")"
   ]
  },
  {
   "cell_type": "code",
   "execution_count": 15,
   "id": "excess-constitutional",
   "metadata": {},
   "outputs": [],
   "source": [
    "myd06_datadir=\"/home/tkurihana/Research/data/MYD06/20080101\""
   ]
  },
  {
   "cell_type": "code",
   "execution_count": 18,
   "id": "textile-reading",
   "metadata": {},
   "outputs": [],
   "source": [
    "prefix='MYD06_L2.A'"
   ]
  },
  {
   "cell_type": "code",
   "execution_count": 37,
   "id": "active-frederick",
   "metadata": {},
   "outputs": [],
   "source": [
    "param_keys=[\"Cloud_Optical_Thickness\",\n",
    "            \"Cloud_Phase_Infrared_1km\",\n",
    "            \"cloud_top_pressure_1km\",\n",
    "            \"Cloud_Effective_Radius\"]"
   ]
  },
  {
   "cell_type": "code",
   "execution_count": 38,
   "id": "senior-effectiveness",
   "metadata": {},
   "outputs": [],
   "source": [
    "patch_size=128"
   ]
  },
  {
   "cell_type": "code",
   "execution_count": 41,
   "id": "aware-chester",
   "metadata": {},
   "outputs": [
    {
     "name": "stderr",
     "output_type": "stream",
     "text": [
      "/home/tkurihana/Research/clouds/src_analysis/lib_hdfs/analysis_lib.py:361: RuntimeWarning: invalid value encountered in greater\n",
      "  err_idx = np.where(array > 100.0) # optical thickness range[0,100] no unit\n"
     ]
    }
   ],
   "source": [
    "COTs_list = []\n",
    "CPHs_list = []\n",
    "CTPs_list = []\n",
    "CERs_list = []\n",
    "for idx, (ifile, (x,y)) in enumerate(zip(sfiles, scoords)):\n",
    "    try:\n",
    "        myd06 = get_filepath(ifile, myd06_datadir, prefix=prefix,ext='.hdf')\n",
    "    except:\n",
    "        print('NOT FOUND')\n",
    "        myd06 = None\n",
    "        pass\n",
    "    \n",
    "    if myd06:\n",
    "        myd06_hdf = SD(myd06, SDC.READ)\n",
    "        tmp_dict = {}\n",
    "        for param in param_keys:\n",
    "            sds_array = myd06_hdf.select(param)\n",
    "            tmp_array = mod06_proc_sds(sds_array, variable=param)\n",
    "            sarray = tmp_array[x:x+patch_size, y:y+patch_size]\n",
    "            sarray = np.expand_dims(sarray,axis=0)\n",
    "            \n",
    "            if param == param_keys[0]:\n",
    "                COTs_list.append(sarray)\n",
    "            elif param == param_keys[1]:\n",
    "                CPHs_list.append(sarray)\n",
    "            elif param == param_keys[2]:\n",
    "                CTPs_list.append(sarray)\n",
    "            elif param == param_keys[3]:\n",
    "                CERs_list.append(sarray)\n",
    "                "
   ]
  },
  {
   "cell_type": "code",
   "execution_count": 42,
   "id": "surprising-lancaster",
   "metadata": {},
   "outputs": [
    {
     "data": {
      "text/plain": [
       "(240, 240, 240, 240)"
      ]
     },
     "execution_count": 42,
     "metadata": {},
     "output_type": "execute_result"
    }
   ],
   "source": [
    "len(COTs_list), len(CPHs_list), len(CTPs_list), len(CERs_list)"
   ]
  },
  {
   "cell_type": "markdown",
   "id": "peripheral-motel",
   "metadata": {},
   "source": [
    "List to Patches"
   ]
  },
  {
   "cell_type": "code",
   "execution_count": 43,
   "id": "bigger-margin",
   "metadata": {},
   "outputs": [],
   "source": [
    "cot_array = np.concatenate(COTs_list, axis=0)\n",
    "cph_array = np.concatenate(CPHs_list, axis=0)\n",
    "ctp_array = np.concatenate(CTPs_list, axis=0)\n",
    "cer_array = np.concatenate(CERs_list, axis=0)"
   ]
  },
  {
   "cell_type": "code",
   "execution_count": 44,
   "id": "continuing-location",
   "metadata": {},
   "outputs": [
    {
     "data": {
      "text/plain": [
       "(240, 128, 128)"
      ]
     },
     "execution_count": 44,
     "metadata": {},
     "output_type": "execute_result"
    }
   ],
   "source": [
    "cot_array.shape"
   ]
  },
  {
   "cell_type": "markdown",
   "id": "sensitive-programming",
   "metadata": {},
   "source": [
    "Save data"
   ]
  },
  {
   "cell_type": "code",
   "execution_count": 45,
   "id": "reflected-cylinder",
   "metadata": {},
   "outputs": [],
   "source": [
    "np.save('./top20-selected-COT', cot_array)\n",
    "np.save('./top20-selected-CPH', cph_array)\n",
    "np.save('./top20-selected-CTP', ctp_array)\n",
    "np.save('./top20-selected-CER', cer_array)"
   ]
  },
  {
   "cell_type": "markdown",
   "id": "overhead-baseball",
   "metadata": {},
   "source": [
    "### Analysis Corr & KLD"
   ]
  },
  {
   "cell_type": "code",
   "execution_count": 59,
   "id": "ranging-strategy",
   "metadata": {},
   "outputs": [],
   "source": [
    "def calc_metrics(grad, phys,):\n",
    "    \"\"\" grad (#, 128,128) after select one band\n",
    "        phys (#, 128,128)\n",
    "    \"\"\"\n",
    "    valid_idx = np.where(~np.isnan(phys))\n",
    "    _grad = grad[valid_idx].ravel()\n",
    "    _phys = phys[valid_idx].ravel()\n",
    "    corr, p_val = pearsonr(_grad, _phys)\n",
    "    \n",
    "    vmin = np.min(_grad)\n",
    "    _grad+=vmin # avoid inf\n",
    "    kld = kl_div(_grad, _phys)\n",
    "    return {'corr':corr, 'p_val':p_val, 'kld':kld}"
   ]
  },
  {
   "cell_type": "code",
   "execution_count": 50,
   "id": "thermal-broad",
   "metadata": {},
   "outputs": [],
   "source": [
    "def _run_metrics(grads, phys_dict,\n",
    "                 bands = [5,7,20,28,29,31],\n",
    "                 param_keys = None,\n",
    "                ):\n",
    "    results = dict()\n",
    "    for param in param_keys:\n",
    "        phys = phys_dict[param]\n",
    "        for idx, band in enumerate(bands):\n",
    "            grad = grads[:,:,:,idx]\n",
    "            results[f'{param}-{band}'] = calc_metrics(grad, phys,)\n",
    "    return results"
   ]
  },
  {
   "cell_type": "code",
   "execution_count": 51,
   "id": "banner-peace",
   "metadata": {},
   "outputs": [],
   "source": [
    "def run_associate_test(grads_dict, phys_dict,\n",
    "                       param_keys = None,\n",
    "                      ):\n",
    "    results_dict = dict()\n",
    "    for layer, grads in grads_dict.items():\n",
    "        print(f\"ANALYSIS {layer} START\")\n",
    "        results_dict[layer] = _run_metrics(grads, phys_dict,\n",
    "                                            bands = [5,7,20,28,29,31],\n",
    "                                            param_keys = param_keys)\n",
    "    return results_dict"
   ]
  },
  {
   "cell_type": "code",
   "execution_count": 52,
   "id": "passing-daily",
   "metadata": {},
   "outputs": [],
   "source": [
    "phys_dict = {\n",
    "            \"Cloud_Optical_Thickness\":cot_array,\n",
    "            \"Cloud_Phase_Infrared_1km\":cph_array,\n",
    "            \"cloud_top_pressure_1km\":ctp_array,\n",
    "            \"Cloud_Effective_Radius\":cer_array\n",
    "}"
   ]
  },
  {
   "cell_type": "code",
   "execution_count": 60,
   "id": "sized-albany",
   "metadata": {},
   "outputs": [
    {
     "name": "stdout",
     "output_type": "stream",
     "text": [
      "ANALYSIS leaky_re_lu START\n",
      "ANALYSIS leaky_re_lu_3 START\n",
      "ANALYSIS leaky_re_lu_6 START\n",
      "ANALYSIS leaky_re_lu_9 START\n",
      "ANALYSIS leaky_re_lu_12 START\n",
      "ANALYSIS leaky_re_lu_14 START\n"
     ]
    }
   ],
   "source": [
    "results_dict = run_associate_test(grads_patch_dict, phys_dict,param_keys = param_keys)"
   ]
  },
  {
   "cell_type": "code",
   "execution_count": 64,
   "id": "progressive-wings",
   "metadata": {
    "scrolled": true
   },
   "outputs": [
    {
     "data": {
      "text/plain": [
       "dict_keys(['leaky_re_lu', 'leaky_re_lu_3', 'leaky_re_lu_6', 'leaky_re_lu_9', 'leaky_re_lu_12', 'leaky_re_lu_14'])"
      ]
     },
     "execution_count": 64,
     "metadata": {},
     "output_type": "execute_result"
    }
   ],
   "source": [
    "results_dict.keys()"
   ]
  },
  {
   "cell_type": "code",
   "execution_count": 65,
   "id": "earlier-greek",
   "metadata": {},
   "outputs": [
    {
     "data": {
      "text/plain": [
       "dict_keys(['Cloud_Optical_Thickness-5', 'Cloud_Optical_Thickness-7', 'Cloud_Optical_Thickness-20', 'Cloud_Optical_Thickness-28', 'Cloud_Optical_Thickness-29', 'Cloud_Optical_Thickness-31', 'Cloud_Phase_Infrared_1km-5', 'Cloud_Phase_Infrared_1km-7', 'Cloud_Phase_Infrared_1km-20', 'Cloud_Phase_Infrared_1km-28', 'Cloud_Phase_Infrared_1km-29', 'Cloud_Phase_Infrared_1km-31', 'cloud_top_pressure_1km-5', 'cloud_top_pressure_1km-7', 'cloud_top_pressure_1km-20', 'cloud_top_pressure_1km-28', 'cloud_top_pressure_1km-29', 'cloud_top_pressure_1km-31', 'Cloud_Effective_Radius-5', 'Cloud_Effective_Radius-7', 'Cloud_Effective_Radius-20', 'Cloud_Effective_Radius-28', 'Cloud_Effective_Radius-29', 'Cloud_Effective_Radius-31'])"
      ]
     },
     "execution_count": 65,
     "metadata": {},
     "output_type": "execute_result"
    }
   ],
   "source": [
    "results_dict['leaky_re_lu'].keys()"
   ]
  },
  {
   "cell_type": "code",
   "execution_count": 74,
   "id": "corresponding-royalty",
   "metadata": {},
   "outputs": [],
   "source": [
    "df = pd.DataFrame()\n",
    "for key, val in results_dict.items():\n",
    "    clist = [] \n",
    "    for _key in results_dict['leaky_re_lu'].keys():\n",
    "        clist.append(np.abs(val[_key]['corr'])) # abs corr\n",
    "    carray = np.asarray(clist)\n",
    "    df[key] = carray\n",
    "df.index = results_dict['leaky_re_lu'].keys()"
   ]
  },
  {
   "cell_type": "code",
   "execution_count": 79,
   "id": "blank-freeze",
   "metadata": {},
   "outputs": [
    {
     "data": {
      "text/html": [
       "<style  type=\"text/css\" >\n",
       "#T_506c46be_d9d1_11eb_a285_f1fe9302d6ecrow0_col0,#T_506c46be_d9d1_11eb_a285_f1fe9302d6ecrow1_col0,#T_506c46be_d9d1_11eb_a285_f1fe9302d6ecrow2_col0,#T_506c46be_d9d1_11eb_a285_f1fe9302d6ecrow3_col1,#T_506c46be_d9d1_11eb_a285_f1fe9302d6ecrow4_col0,#T_506c46be_d9d1_11eb_a285_f1fe9302d6ecrow5_col0,#T_506c46be_d9d1_11eb_a285_f1fe9302d6ecrow6_col0,#T_506c46be_d9d1_11eb_a285_f1fe9302d6ecrow7_col0,#T_506c46be_d9d1_11eb_a285_f1fe9302d6ecrow8_col0,#T_506c46be_d9d1_11eb_a285_f1fe9302d6ecrow9_col3,#T_506c46be_d9d1_11eb_a285_f1fe9302d6ecrow10_col0,#T_506c46be_d9d1_11eb_a285_f1fe9302d6ecrow11_col0,#T_506c46be_d9d1_11eb_a285_f1fe9302d6ecrow12_col0,#T_506c46be_d9d1_11eb_a285_f1fe9302d6ecrow13_col0,#T_506c46be_d9d1_11eb_a285_f1fe9302d6ecrow14_col2,#T_506c46be_d9d1_11eb_a285_f1fe9302d6ecrow15_col2,#T_506c46be_d9d1_11eb_a285_f1fe9302d6ecrow16_col0,#T_506c46be_d9d1_11eb_a285_f1fe9302d6ecrow17_col0,#T_506c46be_d9d1_11eb_a285_f1fe9302d6ecrow18_col0,#T_506c46be_d9d1_11eb_a285_f1fe9302d6ecrow19_col0,#T_506c46be_d9d1_11eb_a285_f1fe9302d6ecrow20_col1,#T_506c46be_d9d1_11eb_a285_f1fe9302d6ecrow21_col2,#T_506c46be_d9d1_11eb_a285_f1fe9302d6ecrow22_col0,#T_506c46be_d9d1_11eb_a285_f1fe9302d6ecrow23_col1{\n",
       "            background-color:  lightgreen;\n",
       "        }</style><table id=\"T_506c46be_d9d1_11eb_a285_f1fe9302d6ec\" ><thead>    <tr>        <th class=\"blank level0\" ></th>        <th class=\"col_heading level0 col0\" >leaky_re_lu</th>        <th class=\"col_heading level0 col1\" >leaky_re_lu_3</th>        <th class=\"col_heading level0 col2\" >leaky_re_lu_6</th>        <th class=\"col_heading level0 col3\" >leaky_re_lu_9</th>        <th class=\"col_heading level0 col4\" >leaky_re_lu_12</th>        <th class=\"col_heading level0 col5\" >leaky_re_lu_14</th>    </tr></thead><tbody>\n",
       "                <tr>\n",
       "                        <th id=\"T_506c46be_d9d1_11eb_a285_f1fe9302d6eclevel0_row0\" class=\"row_heading level0 row0\" >Cloud_Optical_Thickness-5</th>\n",
       "                        <td id=\"T_506c46be_d9d1_11eb_a285_f1fe9302d6ecrow0_col0\" class=\"data row0 col0\" >0.027839</td>\n",
       "                        <td id=\"T_506c46be_d9d1_11eb_a285_f1fe9302d6ecrow0_col1\" class=\"data row0 col1\" >0.016942</td>\n",
       "                        <td id=\"T_506c46be_d9d1_11eb_a285_f1fe9302d6ecrow0_col2\" class=\"data row0 col2\" >0.002151</td>\n",
       "                        <td id=\"T_506c46be_d9d1_11eb_a285_f1fe9302d6ecrow0_col3\" class=\"data row0 col3\" >0.007348</td>\n",
       "                        <td id=\"T_506c46be_d9d1_11eb_a285_f1fe9302d6ecrow0_col4\" class=\"data row0 col4\" >0.000254</td>\n",
       "                        <td id=\"T_506c46be_d9d1_11eb_a285_f1fe9302d6ecrow0_col5\" class=\"data row0 col5\" >0.000538</td>\n",
       "            </tr>\n",
       "            <tr>\n",
       "                        <th id=\"T_506c46be_d9d1_11eb_a285_f1fe9302d6eclevel0_row1\" class=\"row_heading level0 row1\" >Cloud_Optical_Thickness-7</th>\n",
       "                        <td id=\"T_506c46be_d9d1_11eb_a285_f1fe9302d6ecrow1_col0\" class=\"data row1 col0\" >0.067562</td>\n",
       "                        <td id=\"T_506c46be_d9d1_11eb_a285_f1fe9302d6ecrow1_col1\" class=\"data row1 col1\" >0.018258</td>\n",
       "                        <td id=\"T_506c46be_d9d1_11eb_a285_f1fe9302d6ecrow1_col2\" class=\"data row1 col2\" >0.024242</td>\n",
       "                        <td id=\"T_506c46be_d9d1_11eb_a285_f1fe9302d6ecrow1_col3\" class=\"data row1 col3\" >0.016791</td>\n",
       "                        <td id=\"T_506c46be_d9d1_11eb_a285_f1fe9302d6ecrow1_col4\" class=\"data row1 col4\" >0.010124</td>\n",
       "                        <td id=\"T_506c46be_d9d1_11eb_a285_f1fe9302d6ecrow1_col5\" class=\"data row1 col5\" >0.014734</td>\n",
       "            </tr>\n",
       "            <tr>\n",
       "                        <th id=\"T_506c46be_d9d1_11eb_a285_f1fe9302d6eclevel0_row2\" class=\"row_heading level0 row2\" >Cloud_Optical_Thickness-20</th>\n",
       "                        <td id=\"T_506c46be_d9d1_11eb_a285_f1fe9302d6ecrow2_col0\" class=\"data row2 col0\" >0.113732</td>\n",
       "                        <td id=\"T_506c46be_d9d1_11eb_a285_f1fe9302d6ecrow2_col1\" class=\"data row2 col1\" >0.000038</td>\n",
       "                        <td id=\"T_506c46be_d9d1_11eb_a285_f1fe9302d6ecrow2_col2\" class=\"data row2 col2\" >0.017734</td>\n",
       "                        <td id=\"T_506c46be_d9d1_11eb_a285_f1fe9302d6ecrow2_col3\" class=\"data row2 col3\" >0.012883</td>\n",
       "                        <td id=\"T_506c46be_d9d1_11eb_a285_f1fe9302d6ecrow2_col4\" class=\"data row2 col4\" >0.031266</td>\n",
       "                        <td id=\"T_506c46be_d9d1_11eb_a285_f1fe9302d6ecrow2_col5\" class=\"data row2 col5\" >0.003795</td>\n",
       "            </tr>\n",
       "            <tr>\n",
       "                        <th id=\"T_506c46be_d9d1_11eb_a285_f1fe9302d6eclevel0_row3\" class=\"row_heading level0 row3\" >Cloud_Optical_Thickness-28</th>\n",
       "                        <td id=\"T_506c46be_d9d1_11eb_a285_f1fe9302d6ecrow3_col0\" class=\"data row3 col0\" >0.002953</td>\n",
       "                        <td id=\"T_506c46be_d9d1_11eb_a285_f1fe9302d6ecrow3_col1\" class=\"data row3 col1\" >0.025758</td>\n",
       "                        <td id=\"T_506c46be_d9d1_11eb_a285_f1fe9302d6ecrow3_col2\" class=\"data row3 col2\" >0.006364</td>\n",
       "                        <td id=\"T_506c46be_d9d1_11eb_a285_f1fe9302d6ecrow3_col3\" class=\"data row3 col3\" >0.006212</td>\n",
       "                        <td id=\"T_506c46be_d9d1_11eb_a285_f1fe9302d6ecrow3_col4\" class=\"data row3 col4\" >0.001800</td>\n",
       "                        <td id=\"T_506c46be_d9d1_11eb_a285_f1fe9302d6ecrow3_col5\" class=\"data row3 col5\" >0.005238</td>\n",
       "            </tr>\n",
       "            <tr>\n",
       "                        <th id=\"T_506c46be_d9d1_11eb_a285_f1fe9302d6eclevel0_row4\" class=\"row_heading level0 row4\" >Cloud_Optical_Thickness-29</th>\n",
       "                        <td id=\"T_506c46be_d9d1_11eb_a285_f1fe9302d6ecrow4_col0\" class=\"data row4 col0\" >0.032907</td>\n",
       "                        <td id=\"T_506c46be_d9d1_11eb_a285_f1fe9302d6ecrow4_col1\" class=\"data row4 col1\" >0.009567</td>\n",
       "                        <td id=\"T_506c46be_d9d1_11eb_a285_f1fe9302d6ecrow4_col2\" class=\"data row4 col2\" >0.007163</td>\n",
       "                        <td id=\"T_506c46be_d9d1_11eb_a285_f1fe9302d6ecrow4_col3\" class=\"data row4 col3\" >0.009072</td>\n",
       "                        <td id=\"T_506c46be_d9d1_11eb_a285_f1fe9302d6ecrow4_col4\" class=\"data row4 col4\" >0.013815</td>\n",
       "                        <td id=\"T_506c46be_d9d1_11eb_a285_f1fe9302d6ecrow4_col5\" class=\"data row4 col5\" >0.004024</td>\n",
       "            </tr>\n",
       "            <tr>\n",
       "                        <th id=\"T_506c46be_d9d1_11eb_a285_f1fe9302d6eclevel0_row5\" class=\"row_heading level0 row5\" >Cloud_Optical_Thickness-31</th>\n",
       "                        <td id=\"T_506c46be_d9d1_11eb_a285_f1fe9302d6ecrow5_col0\" class=\"data row5 col0\" >0.091804</td>\n",
       "                        <td id=\"T_506c46be_d9d1_11eb_a285_f1fe9302d6ecrow5_col1\" class=\"data row5 col1\" >0.039295</td>\n",
       "                        <td id=\"T_506c46be_d9d1_11eb_a285_f1fe9302d6ecrow5_col2\" class=\"data row5 col2\" >0.019632</td>\n",
       "                        <td id=\"T_506c46be_d9d1_11eb_a285_f1fe9302d6ecrow5_col3\" class=\"data row5 col3\" >0.012732</td>\n",
       "                        <td id=\"T_506c46be_d9d1_11eb_a285_f1fe9302d6ecrow5_col4\" class=\"data row5 col4\" >0.003171</td>\n",
       "                        <td id=\"T_506c46be_d9d1_11eb_a285_f1fe9302d6ecrow5_col5\" class=\"data row5 col5\" >0.006075</td>\n",
       "            </tr>\n",
       "            <tr>\n",
       "                        <th id=\"T_506c46be_d9d1_11eb_a285_f1fe9302d6eclevel0_row6\" class=\"row_heading level0 row6\" >Cloud_Phase_Infrared_1km-5</th>\n",
       "                        <td id=\"T_506c46be_d9d1_11eb_a285_f1fe9302d6ecrow6_col0\" class=\"data row6 col0\" >0.178691</td>\n",
       "                        <td id=\"T_506c46be_d9d1_11eb_a285_f1fe9302d6ecrow6_col1\" class=\"data row6 col1\" >0.052498</td>\n",
       "                        <td id=\"T_506c46be_d9d1_11eb_a285_f1fe9302d6ecrow6_col2\" class=\"data row6 col2\" >0.082845</td>\n",
       "                        <td id=\"T_506c46be_d9d1_11eb_a285_f1fe9302d6ecrow6_col3\" class=\"data row6 col3\" >0.070017</td>\n",
       "                        <td id=\"T_506c46be_d9d1_11eb_a285_f1fe9302d6ecrow6_col4\" class=\"data row6 col4\" >0.045022</td>\n",
       "                        <td id=\"T_506c46be_d9d1_11eb_a285_f1fe9302d6ecrow6_col5\" class=\"data row6 col5\" >0.042347</td>\n",
       "            </tr>\n",
       "            <tr>\n",
       "                        <th id=\"T_506c46be_d9d1_11eb_a285_f1fe9302d6eclevel0_row7\" class=\"row_heading level0 row7\" >Cloud_Phase_Infrared_1km-7</th>\n",
       "                        <td id=\"T_506c46be_d9d1_11eb_a285_f1fe9302d6ecrow7_col0\" class=\"data row7 col0\" >0.127952</td>\n",
       "                        <td id=\"T_506c46be_d9d1_11eb_a285_f1fe9302d6ecrow7_col1\" class=\"data row7 col1\" >0.086444</td>\n",
       "                        <td id=\"T_506c46be_d9d1_11eb_a285_f1fe9302d6ecrow7_col2\" class=\"data row7 col2\" >0.027135</td>\n",
       "                        <td id=\"T_506c46be_d9d1_11eb_a285_f1fe9302d6ecrow7_col3\" class=\"data row7 col3\" >0.007062</td>\n",
       "                        <td id=\"T_506c46be_d9d1_11eb_a285_f1fe9302d6ecrow7_col4\" class=\"data row7 col4\" >0.004083</td>\n",
       "                        <td id=\"T_506c46be_d9d1_11eb_a285_f1fe9302d6ecrow7_col5\" class=\"data row7 col5\" >0.004723</td>\n",
       "            </tr>\n",
       "            <tr>\n",
       "                        <th id=\"T_506c46be_d9d1_11eb_a285_f1fe9302d6eclevel0_row8\" class=\"row_heading level0 row8\" >Cloud_Phase_Infrared_1km-20</th>\n",
       "                        <td id=\"T_506c46be_d9d1_11eb_a285_f1fe9302d6ecrow8_col0\" class=\"data row8 col0\" >0.372043</td>\n",
       "                        <td id=\"T_506c46be_d9d1_11eb_a285_f1fe9302d6ecrow8_col1\" class=\"data row8 col1\" >0.315710</td>\n",
       "                        <td id=\"T_506c46be_d9d1_11eb_a285_f1fe9302d6ecrow8_col2\" class=\"data row8 col2\" >0.278829</td>\n",
       "                        <td id=\"T_506c46be_d9d1_11eb_a285_f1fe9302d6ecrow8_col3\" class=\"data row8 col3\" >0.224769</td>\n",
       "                        <td id=\"T_506c46be_d9d1_11eb_a285_f1fe9302d6ecrow8_col4\" class=\"data row8 col4\" >0.200161</td>\n",
       "                        <td id=\"T_506c46be_d9d1_11eb_a285_f1fe9302d6ecrow8_col5\" class=\"data row8 col5\" >0.129095</td>\n",
       "            </tr>\n",
       "            <tr>\n",
       "                        <th id=\"T_506c46be_d9d1_11eb_a285_f1fe9302d6eclevel0_row9\" class=\"row_heading level0 row9\" >Cloud_Phase_Infrared_1km-28</th>\n",
       "                        <td id=\"T_506c46be_d9d1_11eb_a285_f1fe9302d6ecrow9_col0\" class=\"data row9 col0\" >0.036048</td>\n",
       "                        <td id=\"T_506c46be_d9d1_11eb_a285_f1fe9302d6ecrow9_col1\" class=\"data row9 col1\" >0.042208</td>\n",
       "                        <td id=\"T_506c46be_d9d1_11eb_a285_f1fe9302d6ecrow9_col2\" class=\"data row9 col2\" >0.084904</td>\n",
       "                        <td id=\"T_506c46be_d9d1_11eb_a285_f1fe9302d6ecrow9_col3\" class=\"data row9 col3\" >0.109335</td>\n",
       "                        <td id=\"T_506c46be_d9d1_11eb_a285_f1fe9302d6ecrow9_col4\" class=\"data row9 col4\" >0.089480</td>\n",
       "                        <td id=\"T_506c46be_d9d1_11eb_a285_f1fe9302d6ecrow9_col5\" class=\"data row9 col5\" >0.040395</td>\n",
       "            </tr>\n",
       "            <tr>\n",
       "                        <th id=\"T_506c46be_d9d1_11eb_a285_f1fe9302d6eclevel0_row10\" class=\"row_heading level0 row10\" >Cloud_Phase_Infrared_1km-29</th>\n",
       "                        <td id=\"T_506c46be_d9d1_11eb_a285_f1fe9302d6ecrow10_col0\" class=\"data row10 col0\" >0.145063</td>\n",
       "                        <td id=\"T_506c46be_d9d1_11eb_a285_f1fe9302d6ecrow10_col1\" class=\"data row10 col1\" >0.132944</td>\n",
       "                        <td id=\"T_506c46be_d9d1_11eb_a285_f1fe9302d6ecrow10_col2\" class=\"data row10 col2\" >0.108818</td>\n",
       "                        <td id=\"T_506c46be_d9d1_11eb_a285_f1fe9302d6ecrow10_col3\" class=\"data row10 col3\" >0.103512</td>\n",
       "                        <td id=\"T_506c46be_d9d1_11eb_a285_f1fe9302d6ecrow10_col4\" class=\"data row10 col4\" >0.082609</td>\n",
       "                        <td id=\"T_506c46be_d9d1_11eb_a285_f1fe9302d6ecrow10_col5\" class=\"data row10 col5\" >0.039421</td>\n",
       "            </tr>\n",
       "            <tr>\n",
       "                        <th id=\"T_506c46be_d9d1_11eb_a285_f1fe9302d6eclevel0_row11\" class=\"row_heading level0 row11\" >Cloud_Phase_Infrared_1km-31</th>\n",
       "                        <td id=\"T_506c46be_d9d1_11eb_a285_f1fe9302d6ecrow11_col0\" class=\"data row11 col0\" >0.058393</td>\n",
       "                        <td id=\"T_506c46be_d9d1_11eb_a285_f1fe9302d6ecrow11_col1\" class=\"data row11 col1\" >0.041590</td>\n",
       "                        <td id=\"T_506c46be_d9d1_11eb_a285_f1fe9302d6ecrow11_col2\" class=\"data row11 col2\" >0.050913</td>\n",
       "                        <td id=\"T_506c46be_d9d1_11eb_a285_f1fe9302d6ecrow11_col3\" class=\"data row11 col3\" >0.025405</td>\n",
       "                        <td id=\"T_506c46be_d9d1_11eb_a285_f1fe9302d6ecrow11_col4\" class=\"data row11 col4\" >0.020698</td>\n",
       "                        <td id=\"T_506c46be_d9d1_11eb_a285_f1fe9302d6ecrow11_col5\" class=\"data row11 col5\" >0.015909</td>\n",
       "            </tr>\n",
       "            <tr>\n",
       "                        <th id=\"T_506c46be_d9d1_11eb_a285_f1fe9302d6eclevel0_row12\" class=\"row_heading level0 row12\" >cloud_top_pressure_1km-5</th>\n",
       "                        <td id=\"T_506c46be_d9d1_11eb_a285_f1fe9302d6ecrow12_col0\" class=\"data row12 col0\" >0.328285</td>\n",
       "                        <td id=\"T_506c46be_d9d1_11eb_a285_f1fe9302d6ecrow12_col1\" class=\"data row12 col1\" >0.188957</td>\n",
       "                        <td id=\"T_506c46be_d9d1_11eb_a285_f1fe9302d6ecrow12_col2\" class=\"data row12 col2\" >0.180111</td>\n",
       "                        <td id=\"T_506c46be_d9d1_11eb_a285_f1fe9302d6ecrow12_col3\" class=\"data row12 col3\" >0.186367</td>\n",
       "                        <td id=\"T_506c46be_d9d1_11eb_a285_f1fe9302d6ecrow12_col4\" class=\"data row12 col4\" >0.138290</td>\n",
       "                        <td id=\"T_506c46be_d9d1_11eb_a285_f1fe9302d6ecrow12_col5\" class=\"data row12 col5\" >0.085400</td>\n",
       "            </tr>\n",
       "            <tr>\n",
       "                        <th id=\"T_506c46be_d9d1_11eb_a285_f1fe9302d6eclevel0_row13\" class=\"row_heading level0 row13\" >cloud_top_pressure_1km-7</th>\n",
       "                        <td id=\"T_506c46be_d9d1_11eb_a285_f1fe9302d6ecrow13_col0\" class=\"data row13 col0\" >0.136643</td>\n",
       "                        <td id=\"T_506c46be_d9d1_11eb_a285_f1fe9302d6ecrow13_col1\" class=\"data row13 col1\" >0.043686</td>\n",
       "                        <td id=\"T_506c46be_d9d1_11eb_a285_f1fe9302d6ecrow13_col2\" class=\"data row13 col2\" >0.101377</td>\n",
       "                        <td id=\"T_506c46be_d9d1_11eb_a285_f1fe9302d6ecrow13_col3\" class=\"data row13 col3\" >0.059415</td>\n",
       "                        <td id=\"T_506c46be_d9d1_11eb_a285_f1fe9302d6ecrow13_col4\" class=\"data row13 col4\" >0.042177</td>\n",
       "                        <td id=\"T_506c46be_d9d1_11eb_a285_f1fe9302d6ecrow13_col5\" class=\"data row13 col5\" >0.021640</td>\n",
       "            </tr>\n",
       "            <tr>\n",
       "                        <th id=\"T_506c46be_d9d1_11eb_a285_f1fe9302d6eclevel0_row14\" class=\"row_heading level0 row14\" >cloud_top_pressure_1km-20</th>\n",
       "                        <td id=\"T_506c46be_d9d1_11eb_a285_f1fe9302d6ecrow14_col0\" class=\"data row14 col0\" >0.269060</td>\n",
       "                        <td id=\"T_506c46be_d9d1_11eb_a285_f1fe9302d6ecrow14_col1\" class=\"data row14 col1\" >0.346497</td>\n",
       "                        <td id=\"T_506c46be_d9d1_11eb_a285_f1fe9302d6ecrow14_col2\" class=\"data row14 col2\" >0.360732</td>\n",
       "                        <td id=\"T_506c46be_d9d1_11eb_a285_f1fe9302d6ecrow14_col3\" class=\"data row14 col3\" >0.265542</td>\n",
       "                        <td id=\"T_506c46be_d9d1_11eb_a285_f1fe9302d6ecrow14_col4\" class=\"data row14 col4\" >0.217200</td>\n",
       "                        <td id=\"T_506c46be_d9d1_11eb_a285_f1fe9302d6ecrow14_col5\" class=\"data row14 col5\" >0.156062</td>\n",
       "            </tr>\n",
       "            <tr>\n",
       "                        <th id=\"T_506c46be_d9d1_11eb_a285_f1fe9302d6eclevel0_row15\" class=\"row_heading level0 row15\" >cloud_top_pressure_1km-28</th>\n",
       "                        <td id=\"T_506c46be_d9d1_11eb_a285_f1fe9302d6ecrow15_col0\" class=\"data row15 col0\" >0.065806</td>\n",
       "                        <td id=\"T_506c46be_d9d1_11eb_a285_f1fe9302d6ecrow15_col1\" class=\"data row15 col1\" >0.102964</td>\n",
       "                        <td id=\"T_506c46be_d9d1_11eb_a285_f1fe9302d6ecrow15_col2\" class=\"data row15 col2\" >0.112294</td>\n",
       "                        <td id=\"T_506c46be_d9d1_11eb_a285_f1fe9302d6ecrow15_col3\" class=\"data row15 col3\" >0.105189</td>\n",
       "                        <td id=\"T_506c46be_d9d1_11eb_a285_f1fe9302d6ecrow15_col4\" class=\"data row15 col4\" >0.085297</td>\n",
       "                        <td id=\"T_506c46be_d9d1_11eb_a285_f1fe9302d6ecrow15_col5\" class=\"data row15 col5\" >0.047407</td>\n",
       "            </tr>\n",
       "            <tr>\n",
       "                        <th id=\"T_506c46be_d9d1_11eb_a285_f1fe9302d6eclevel0_row16\" class=\"row_heading level0 row16\" >cloud_top_pressure_1km-29</th>\n",
       "                        <td id=\"T_506c46be_d9d1_11eb_a285_f1fe9302d6ecrow16_col0\" class=\"data row16 col0\" >0.263404</td>\n",
       "                        <td id=\"T_506c46be_d9d1_11eb_a285_f1fe9302d6ecrow16_col1\" class=\"data row16 col1\" >0.140394</td>\n",
       "                        <td id=\"T_506c46be_d9d1_11eb_a285_f1fe9302d6ecrow16_col2\" class=\"data row16 col2\" >0.121983</td>\n",
       "                        <td id=\"T_506c46be_d9d1_11eb_a285_f1fe9302d6ecrow16_col3\" class=\"data row16 col3\" >0.092004</td>\n",
       "                        <td id=\"T_506c46be_d9d1_11eb_a285_f1fe9302d6ecrow16_col4\" class=\"data row16 col4\" >0.062634</td>\n",
       "                        <td id=\"T_506c46be_d9d1_11eb_a285_f1fe9302d6ecrow16_col5\" class=\"data row16 col5\" >0.040449</td>\n",
       "            </tr>\n",
       "            <tr>\n",
       "                        <th id=\"T_506c46be_d9d1_11eb_a285_f1fe9302d6eclevel0_row17\" class=\"row_heading level0 row17\" >cloud_top_pressure_1km-31</th>\n",
       "                        <td id=\"T_506c46be_d9d1_11eb_a285_f1fe9302d6ecrow17_col0\" class=\"data row17 col0\" >0.146946</td>\n",
       "                        <td id=\"T_506c46be_d9d1_11eb_a285_f1fe9302d6ecrow17_col1\" class=\"data row17 col1\" >0.112362</td>\n",
       "                        <td id=\"T_506c46be_d9d1_11eb_a285_f1fe9302d6ecrow17_col2\" class=\"data row17 col2\" >0.084650</td>\n",
       "                        <td id=\"T_506c46be_d9d1_11eb_a285_f1fe9302d6ecrow17_col3\" class=\"data row17 col3\" >0.036454</td>\n",
       "                        <td id=\"T_506c46be_d9d1_11eb_a285_f1fe9302d6ecrow17_col4\" class=\"data row17 col4\" >0.020181</td>\n",
       "                        <td id=\"T_506c46be_d9d1_11eb_a285_f1fe9302d6ecrow17_col5\" class=\"data row17 col5\" >0.027425</td>\n",
       "            </tr>\n",
       "            <tr>\n",
       "                        <th id=\"T_506c46be_d9d1_11eb_a285_f1fe9302d6eclevel0_row18\" class=\"row_heading level0 row18\" >Cloud_Effective_Radius-5</th>\n",
       "                        <td id=\"T_506c46be_d9d1_11eb_a285_f1fe9302d6ecrow18_col0\" class=\"data row18 col0\" >0.257552</td>\n",
       "                        <td id=\"T_506c46be_d9d1_11eb_a285_f1fe9302d6ecrow18_col1\" class=\"data row18 col1\" >0.185643</td>\n",
       "                        <td id=\"T_506c46be_d9d1_11eb_a285_f1fe9302d6ecrow18_col2\" class=\"data row18 col2\" >0.180995</td>\n",
       "                        <td id=\"T_506c46be_d9d1_11eb_a285_f1fe9302d6ecrow18_col3\" class=\"data row18 col3\" >0.193378</td>\n",
       "                        <td id=\"T_506c46be_d9d1_11eb_a285_f1fe9302d6ecrow18_col4\" class=\"data row18 col4\" >0.110423</td>\n",
       "                        <td id=\"T_506c46be_d9d1_11eb_a285_f1fe9302d6ecrow18_col5\" class=\"data row18 col5\" >0.105586</td>\n",
       "            </tr>\n",
       "            <tr>\n",
       "                        <th id=\"T_506c46be_d9d1_11eb_a285_f1fe9302d6eclevel0_row19\" class=\"row_heading level0 row19\" >Cloud_Effective_Radius-7</th>\n",
       "                        <td id=\"T_506c46be_d9d1_11eb_a285_f1fe9302d6ecrow19_col0\" class=\"data row19 col0\" >0.072901</td>\n",
       "                        <td id=\"T_506c46be_d9d1_11eb_a285_f1fe9302d6ecrow19_col1\" class=\"data row19 col1\" >0.049987</td>\n",
       "                        <td id=\"T_506c46be_d9d1_11eb_a285_f1fe9302d6ecrow19_col2\" class=\"data row19 col2\" >0.007599</td>\n",
       "                        <td id=\"T_506c46be_d9d1_11eb_a285_f1fe9302d6ecrow19_col3\" class=\"data row19 col3\" >0.007193</td>\n",
       "                        <td id=\"T_506c46be_d9d1_11eb_a285_f1fe9302d6ecrow19_col4\" class=\"data row19 col4\" >0.037654</td>\n",
       "                        <td id=\"T_506c46be_d9d1_11eb_a285_f1fe9302d6ecrow19_col5\" class=\"data row19 col5\" >0.018311</td>\n",
       "            </tr>\n",
       "            <tr>\n",
       "                        <th id=\"T_506c46be_d9d1_11eb_a285_f1fe9302d6eclevel0_row20\" class=\"row_heading level0 row20\" >Cloud_Effective_Radius-20</th>\n",
       "                        <td id=\"T_506c46be_d9d1_11eb_a285_f1fe9302d6ecrow20_col0\" class=\"data row20 col0\" >0.444773</td>\n",
       "                        <td id=\"T_506c46be_d9d1_11eb_a285_f1fe9302d6ecrow20_col1\" class=\"data row20 col1\" >0.505701</td>\n",
       "                        <td id=\"T_506c46be_d9d1_11eb_a285_f1fe9302d6ecrow20_col2\" class=\"data row20 col2\" >0.492143</td>\n",
       "                        <td id=\"T_506c46be_d9d1_11eb_a285_f1fe9302d6ecrow20_col3\" class=\"data row20 col3\" >0.368455</td>\n",
       "                        <td id=\"T_506c46be_d9d1_11eb_a285_f1fe9302d6ecrow20_col4\" class=\"data row20 col4\" >0.288951</td>\n",
       "                        <td id=\"T_506c46be_d9d1_11eb_a285_f1fe9302d6ecrow20_col5\" class=\"data row20 col5\" >0.203557</td>\n",
       "            </tr>\n",
       "            <tr>\n",
       "                        <th id=\"T_506c46be_d9d1_11eb_a285_f1fe9302d6eclevel0_row21\" class=\"row_heading level0 row21\" >Cloud_Effective_Radius-28</th>\n",
       "                        <td id=\"T_506c46be_d9d1_11eb_a285_f1fe9302d6ecrow21_col0\" class=\"data row21 col0\" >0.001166</td>\n",
       "                        <td id=\"T_506c46be_d9d1_11eb_a285_f1fe9302d6ecrow21_col1\" class=\"data row21 col1\" >0.099777</td>\n",
       "                        <td id=\"T_506c46be_d9d1_11eb_a285_f1fe9302d6ecrow21_col2\" class=\"data row21 col2\" >0.114197</td>\n",
       "                        <td id=\"T_506c46be_d9d1_11eb_a285_f1fe9302d6ecrow21_col3\" class=\"data row21 col3\" >0.109307</td>\n",
       "                        <td id=\"T_506c46be_d9d1_11eb_a285_f1fe9302d6ecrow21_col4\" class=\"data row21 col4\" >0.108967</td>\n",
       "                        <td id=\"T_506c46be_d9d1_11eb_a285_f1fe9302d6ecrow21_col5\" class=\"data row21 col5\" >0.032268</td>\n",
       "            </tr>\n",
       "            <tr>\n",
       "                        <th id=\"T_506c46be_d9d1_11eb_a285_f1fe9302d6eclevel0_row22\" class=\"row_heading level0 row22\" >Cloud_Effective_Radius-29</th>\n",
       "                        <td id=\"T_506c46be_d9d1_11eb_a285_f1fe9302d6ecrow22_col0\" class=\"data row22 col0\" >0.245208</td>\n",
       "                        <td id=\"T_506c46be_d9d1_11eb_a285_f1fe9302d6ecrow22_col1\" class=\"data row22 col1\" >0.179987</td>\n",
       "                        <td id=\"T_506c46be_d9d1_11eb_a285_f1fe9302d6ecrow22_col2\" class=\"data row22 col2\" >0.125248</td>\n",
       "                        <td id=\"T_506c46be_d9d1_11eb_a285_f1fe9302d6ecrow22_col3\" class=\"data row22 col3\" >0.090056</td>\n",
       "                        <td id=\"T_506c46be_d9d1_11eb_a285_f1fe9302d6ecrow22_col4\" class=\"data row22 col4\" >0.064048</td>\n",
       "                        <td id=\"T_506c46be_d9d1_11eb_a285_f1fe9302d6ecrow22_col5\" class=\"data row22 col5\" >0.006541</td>\n",
       "            </tr>\n",
       "            <tr>\n",
       "                        <th id=\"T_506c46be_d9d1_11eb_a285_f1fe9302d6eclevel0_row23\" class=\"row_heading level0 row23\" >Cloud_Effective_Radius-31</th>\n",
       "                        <td id=\"T_506c46be_d9d1_11eb_a285_f1fe9302d6ecrow23_col0\" class=\"data row23 col0\" >0.017683</td>\n",
       "                        <td id=\"T_506c46be_d9d1_11eb_a285_f1fe9302d6ecrow23_col1\" class=\"data row23 col1\" >0.128769</td>\n",
       "                        <td id=\"T_506c46be_d9d1_11eb_a285_f1fe9302d6ecrow23_col2\" class=\"data row23 col2\" >0.083796</td>\n",
       "                        <td id=\"T_506c46be_d9d1_11eb_a285_f1fe9302d6ecrow23_col3\" class=\"data row23 col3\" >0.018777</td>\n",
       "                        <td id=\"T_506c46be_d9d1_11eb_a285_f1fe9302d6ecrow23_col4\" class=\"data row23 col4\" >0.005383</td>\n",
       "                        <td id=\"T_506c46be_d9d1_11eb_a285_f1fe9302d6ecrow23_col5\" class=\"data row23 col5\" >0.010522</td>\n",
       "            </tr>\n",
       "    </tbody></table>"
      ],
      "text/plain": [
       "<pandas.io.formats.style.Styler at 0x7f2f49f044e0>"
      ]
     },
     "execution_count": 79,
     "metadata": {},
     "output_type": "execute_result"
    }
   ],
   "source": [
    "df.style.highlight_max(color = 'lightgreen', axis = 1) #.apply(\n",
    "    #lambda x: [\"background: lightgreen\" if v > x.iloc[0] else \"\" for v in x], axis = 1)"
   ]
  },
  {
   "cell_type": "code",
   "execution_count": null,
   "id": "novel-rover",
   "metadata": {},
   "outputs": [],
   "source": []
  }
 ],
 "metadata": {
  "kernelspec": {
   "display_name": "Python 3",
   "language": "python",
   "name": "python3"
  },
  "language_info": {
   "codemirror_mode": {
    "name": "ipython",
    "version": 3
   },
   "file_extension": ".py",
   "mimetype": "text/x-python",
   "name": "python",
   "nbconvert_exporter": "python",
   "pygments_lexer": "ipython3",
   "version": "3.8.3"
  }
 },
 "nbformat": 4,
 "nbformat_minor": 5
}
